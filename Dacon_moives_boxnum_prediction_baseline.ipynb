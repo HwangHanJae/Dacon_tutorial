{
  "nbformat": 4,
  "nbformat_minor": 0,
  "metadata": {
    "colab": {
      "name": "Dacon_moives_boxnum_prediction_baseline.ipynb",
      "provenance": [],
      "collapsed_sections": [],
      "mount_file_id": "1BEGswApxbvcyD4SOpX9DsDv0UzJE3J0S",
      "authorship_tag": "ABX9TyOd/ka7k6ljBZKy4PJ0fWS1",
      "include_colab_link": true
    },
    "kernelspec": {
      "name": "python3",
      "display_name": "Python 3"
    },
    "language_info": {
      "name": "python"
    }
  },
  "cells": [
    {
      "cell_type": "markdown",
      "metadata": {
        "id": "view-in-github",
        "colab_type": "text"
      },
      "source": [
        "<a href=\"https://colab.research.google.com/github/HwangHanJae/Dacon_tutorial/blob/main/Dacon_moives_boxnum_prediction_baseline.ipynb\" target=\"_parent\"><img src=\"https://colab.research.google.com/assets/colab-badge.svg\" alt=\"Open In Colab\"/></a>"
      ]
    },
    {
      "cell_type": "markdown",
      "metadata": {
        "id": "M7uwxzjRjrtu"
      },
      "source": [
        "#한글화"
      ]
    },
    {
      "cell_type": "code",
      "metadata": {
        "id": "tCMwAWFPjyfD"
      },
      "source": [
        "#나눔 고딕 폰트 인스톨\n",
        "!apt-get update -qq\n",
        "!apt-get install fonts-nanum* -qq"
      ],
      "execution_count": 1,
      "outputs": []
    },
    {
      "cell_type": "markdown",
      "metadata": {
        "id": "ppk1enEdi1ep"
      },
      "source": [
        "# 라이브러리 로드"
      ]
    },
    {
      "cell_type": "code",
      "metadata": {
        "id": "6PW81GTciota"
      },
      "source": [
        "import numpy as np\n",
        "import pandas as pd\n",
        "import seaborn as sns\n",
        "import matplotlib.pyplot as plt\n",
        "import warnings\n",
        "\n",
        "from IPython.display import set_matplotlib_formats\n",
        "\n",
        "warnings.filterwarnings(action='ignore')\n",
        "plt.style.use('seaborn')\n",
        "set_matplotlib_formats('svg')\n",
        "\n"
      ],
      "execution_count": 2,
      "outputs": []
    },
    {
      "cell_type": "code",
      "metadata": {
        "colab": {
          "base_uri": "https://localhost:8080/"
        },
        "id": "8KB8PVU1j-sZ",
        "outputId": "0fd7fed6-899c-4c3c-bfba-6a37d8a4e696"
      },
      "source": [
        "#맷플롯립 폰트 관련 매니저\n",
        "import matplotlib.font_manager as fm\n",
        "# 맷플롯라이브러리에 폰트 설정\n",
        "plt.rc('font', family='NanumBarunGothic') \n",
        "fm._rebuild()\n",
        "# 진행후에 런타임 다시시작\n",
        "print(\"현재 설정 폰트\",plt.rcParams['font.family'])"
      ],
      "execution_count": 3,
      "outputs": [
        {
          "output_type": "stream",
          "text": [
            "현재 설정 폰트 ['NanumBarunGothic']\n"
          ],
          "name": "stdout"
        }
      ]
    },
    {
      "cell_type": "markdown",
      "metadata": {
        "id": "PDe0EcQhjOX5"
      },
      "source": [
        "# 데이터 불러오기"
      ]
    },
    {
      "cell_type": "code",
      "metadata": {
        "id": "2dac00CKjPry"
      },
      "source": [
        "path  = \"/content/drive/MyDrive/Colab Notebooks/DataScience/Data/movies/\"\n",
        "train = pd.read_csv(path+\"train.csv\")\n",
        "test = pd.read_csv(path+\"test.csv\")"
      ],
      "execution_count": 4,
      "outputs": []
    },
    {
      "cell_type": "markdown",
      "metadata": {
        "id": "qg8WK33aZyOs"
      },
      "source": [
        "#EDA(탐색적 자료 분석)"
      ]
    },
    {
      "cell_type": "code",
      "metadata": {
        "colab": {
          "base_uri": "https://localhost:8080/",
          "height": 206
        },
        "id": "CqtczrnMjoU7",
        "outputId": "d7e7d5a0-48a1-4580-ac97-169109be811c"
      },
      "source": [
        "train.head()"
      ],
      "execution_count": 8,
      "outputs": [
        {
          "output_type": "execute_result",
          "data": {
            "text/html": [
              "<div>\n",
              "<style scoped>\n",
              "    .dataframe tbody tr th:only-of-type {\n",
              "        vertical-align: middle;\n",
              "    }\n",
              "\n",
              "    .dataframe tbody tr th {\n",
              "        vertical-align: top;\n",
              "    }\n",
              "\n",
              "    .dataframe thead th {\n",
              "        text-align: right;\n",
              "    }\n",
              "</style>\n",
              "<table border=\"1\" class=\"dataframe\">\n",
              "  <thead>\n",
              "    <tr style=\"text-align: right;\">\n",
              "      <th></th>\n",
              "      <th>title</th>\n",
              "      <th>distributor</th>\n",
              "      <th>genre</th>\n",
              "      <th>release_time</th>\n",
              "      <th>time</th>\n",
              "      <th>screening_rat</th>\n",
              "      <th>director</th>\n",
              "      <th>dir_prev_bfnum</th>\n",
              "      <th>dir_prev_num</th>\n",
              "      <th>num_staff</th>\n",
              "      <th>num_actor</th>\n",
              "      <th>box_off_num</th>\n",
              "    </tr>\n",
              "  </thead>\n",
              "  <tbody>\n",
              "    <tr>\n",
              "      <th>0</th>\n",
              "      <td>개들의 전쟁</td>\n",
              "      <td>롯데엔터테인먼트</td>\n",
              "      <td>액션</td>\n",
              "      <td>2012-11-22</td>\n",
              "      <td>96</td>\n",
              "      <td>청소년 관람불가</td>\n",
              "      <td>조병옥</td>\n",
              "      <td>NaN</td>\n",
              "      <td>0</td>\n",
              "      <td>91</td>\n",
              "      <td>2</td>\n",
              "      <td>23398</td>\n",
              "    </tr>\n",
              "    <tr>\n",
              "      <th>1</th>\n",
              "      <td>내부자들</td>\n",
              "      <td>(주)쇼박스</td>\n",
              "      <td>느와르</td>\n",
              "      <td>2015-11-19</td>\n",
              "      <td>130</td>\n",
              "      <td>청소년 관람불가</td>\n",
              "      <td>우민호</td>\n",
              "      <td>1161602.50</td>\n",
              "      <td>2</td>\n",
              "      <td>387</td>\n",
              "      <td>3</td>\n",
              "      <td>7072501</td>\n",
              "    </tr>\n",
              "    <tr>\n",
              "      <th>2</th>\n",
              "      <td>은밀하게 위대하게</td>\n",
              "      <td>(주)쇼박스</td>\n",
              "      <td>액션</td>\n",
              "      <td>2013-06-05</td>\n",
              "      <td>123</td>\n",
              "      <td>15세 관람가</td>\n",
              "      <td>장철수</td>\n",
              "      <td>220775.25</td>\n",
              "      <td>4</td>\n",
              "      <td>343</td>\n",
              "      <td>4</td>\n",
              "      <td>6959083</td>\n",
              "    </tr>\n",
              "    <tr>\n",
              "      <th>3</th>\n",
              "      <td>나는 공무원이다</td>\n",
              "      <td>(주)NEW</td>\n",
              "      <td>코미디</td>\n",
              "      <td>2012-07-12</td>\n",
              "      <td>101</td>\n",
              "      <td>전체 관람가</td>\n",
              "      <td>구자홍</td>\n",
              "      <td>23894.00</td>\n",
              "      <td>2</td>\n",
              "      <td>20</td>\n",
              "      <td>6</td>\n",
              "      <td>217866</td>\n",
              "    </tr>\n",
              "    <tr>\n",
              "      <th>4</th>\n",
              "      <td>불량남녀</td>\n",
              "      <td>쇼박스(주)미디어플렉스</td>\n",
              "      <td>코미디</td>\n",
              "      <td>2010-11-04</td>\n",
              "      <td>108</td>\n",
              "      <td>15세 관람가</td>\n",
              "      <td>신근호</td>\n",
              "      <td>1.00</td>\n",
              "      <td>1</td>\n",
              "      <td>251</td>\n",
              "      <td>2</td>\n",
              "      <td>483387</td>\n",
              "    </tr>\n",
              "  </tbody>\n",
              "</table>\n",
              "</div>"
            ],
            "text/plain": [
              "       title   distributor genre  ... num_staff  num_actor box_off_num\n",
              "0     개들의 전쟁      롯데엔터테인먼트    액션  ...        91          2       23398\n",
              "1       내부자들        (주)쇼박스   느와르  ...       387          3     7072501\n",
              "2  은밀하게 위대하게        (주)쇼박스    액션  ...       343          4     6959083\n",
              "3   나는 공무원이다        (주)NEW   코미디  ...        20          6      217866\n",
              "4       불량남녀  쇼박스(주)미디어플렉스   코미디  ...       251          2      483387\n",
              "\n",
              "[5 rows x 12 columns]"
            ]
          },
          "metadata": {
            "tags": []
          },
          "execution_count": 8
        }
      ]
    },
    {
      "cell_type": "code",
      "metadata": {
        "colab": {
          "base_uri": "https://localhost:8080/",
          "height": 206
        },
        "id": "TDq-1TvQjpL_",
        "outputId": "df1275f1-42b9-497f-c4fa-d6079d2fe35c"
      },
      "source": [
        "test.head()"
      ],
      "execution_count": 9,
      "outputs": [
        {
          "output_type": "execute_result",
          "data": {
            "text/html": [
              "<div>\n",
              "<style scoped>\n",
              "    .dataframe tbody tr th:only-of-type {\n",
              "        vertical-align: middle;\n",
              "    }\n",
              "\n",
              "    .dataframe tbody tr th {\n",
              "        vertical-align: top;\n",
              "    }\n",
              "\n",
              "    .dataframe thead th {\n",
              "        text-align: right;\n",
              "    }\n",
              "</style>\n",
              "<table border=\"1\" class=\"dataframe\">\n",
              "  <thead>\n",
              "    <tr style=\"text-align: right;\">\n",
              "      <th></th>\n",
              "      <th>title</th>\n",
              "      <th>distributor</th>\n",
              "      <th>genre</th>\n",
              "      <th>release_time</th>\n",
              "      <th>time</th>\n",
              "      <th>screening_rat</th>\n",
              "      <th>director</th>\n",
              "      <th>dir_prev_bfnum</th>\n",
              "      <th>dir_prev_num</th>\n",
              "      <th>num_staff</th>\n",
              "      <th>num_actor</th>\n",
              "    </tr>\n",
              "  </thead>\n",
              "  <tbody>\n",
              "    <tr>\n",
              "      <th>0</th>\n",
              "      <td>용서는 없다</td>\n",
              "      <td>시네마서비스</td>\n",
              "      <td>느와르</td>\n",
              "      <td>2010-01-07</td>\n",
              "      <td>125</td>\n",
              "      <td>청소년 관람불가</td>\n",
              "      <td>김형준</td>\n",
              "      <td>3.005290e+05</td>\n",
              "      <td>2</td>\n",
              "      <td>304</td>\n",
              "      <td>3</td>\n",
              "    </tr>\n",
              "    <tr>\n",
              "      <th>1</th>\n",
              "      <td>아빠가 여자를 좋아해</td>\n",
              "      <td>(주)쇼박스</td>\n",
              "      <td>멜로/로맨스</td>\n",
              "      <td>2010-01-14</td>\n",
              "      <td>113</td>\n",
              "      <td>12세 관람가</td>\n",
              "      <td>이광재</td>\n",
              "      <td>3.427002e+05</td>\n",
              "      <td>4</td>\n",
              "      <td>275</td>\n",
              "      <td>3</td>\n",
              "    </tr>\n",
              "    <tr>\n",
              "      <th>2</th>\n",
              "      <td>하모니</td>\n",
              "      <td>CJ 엔터테인먼트</td>\n",
              "      <td>드라마</td>\n",
              "      <td>2010-01-28</td>\n",
              "      <td>115</td>\n",
              "      <td>12세 관람가</td>\n",
              "      <td>강대규</td>\n",
              "      <td>4.206611e+06</td>\n",
              "      <td>3</td>\n",
              "      <td>419</td>\n",
              "      <td>7</td>\n",
              "    </tr>\n",
              "    <tr>\n",
              "      <th>3</th>\n",
              "      <td>의형제</td>\n",
              "      <td>(주)쇼박스</td>\n",
              "      <td>액션</td>\n",
              "      <td>2010-02-04</td>\n",
              "      <td>116</td>\n",
              "      <td>15세 관람가</td>\n",
              "      <td>장훈</td>\n",
              "      <td>6.913420e+05</td>\n",
              "      <td>2</td>\n",
              "      <td>408</td>\n",
              "      <td>2</td>\n",
              "    </tr>\n",
              "    <tr>\n",
              "      <th>4</th>\n",
              "      <td>평행 이론</td>\n",
              "      <td>CJ 엔터테인먼트</td>\n",
              "      <td>공포</td>\n",
              "      <td>2010-02-18</td>\n",
              "      <td>110</td>\n",
              "      <td>15세 관람가</td>\n",
              "      <td>권호영</td>\n",
              "      <td>3.173800e+04</td>\n",
              "      <td>1</td>\n",
              "      <td>380</td>\n",
              "      <td>1</td>\n",
              "    </tr>\n",
              "  </tbody>\n",
              "</table>\n",
              "</div>"
            ],
            "text/plain": [
              "         title distributor   genre  ... dir_prev_num  num_staff num_actor\n",
              "0       용서는 없다      시네마서비스     느와르  ...            2        304         3\n",
              "1  아빠가 여자를 좋아해      (주)쇼박스  멜로/로맨스  ...            4        275         3\n",
              "2          하모니   CJ 엔터테인먼트     드라마  ...            3        419         7\n",
              "3          의형제      (주)쇼박스      액션  ...            2        408         2\n",
              "4        평행 이론   CJ 엔터테인먼트      공포  ...            1        380         1\n",
              "\n",
              "[5 rows x 11 columns]"
            ]
          },
          "metadata": {
            "tags": []
          },
          "execution_count": 9
        }
      ]
    },
    {
      "cell_type": "code",
      "metadata": {
        "colab": {
          "base_uri": "https://localhost:8080/"
        },
        "id": "bMSNKl_skBuh",
        "outputId": "2cc57fda-c479-46dd-8825-7b7e15b51247"
      },
      "source": [
        "train.shape"
      ],
      "execution_count": 12,
      "outputs": [
        {
          "output_type": "execute_result",
          "data": {
            "text/plain": [
              "(600, 12)"
            ]
          },
          "metadata": {
            "tags": []
          },
          "execution_count": 12
        }
      ]
    },
    {
      "cell_type": "code",
      "metadata": {
        "id": "Iw0dcW6Qk5GH",
        "colab": {
          "base_uri": "https://localhost:8080/"
        },
        "outputId": "2b872b6b-e5f6-4484-b5d9-5a1fcbeeaa87"
      },
      "source": [
        "test.shape"
      ],
      "execution_count": 13,
      "outputs": [
        {
          "output_type": "execute_result",
          "data": {
            "text/plain": [
              "(243, 11)"
            ]
          },
          "metadata": {
            "tags": []
          },
          "execution_count": 13
        }
      ]
    },
    {
      "cell_type": "code",
      "metadata": {
        "colab": {
          "base_uri": "https://localhost:8080/"
        },
        "id": "F1Pd4GS0k980",
        "outputId": "9331340e-9a59-48d2-f0ec-400189e84d57"
      },
      "source": [
        "train.info()"
      ],
      "execution_count": 15,
      "outputs": [
        {
          "output_type": "stream",
          "text": [
            "<class 'pandas.core.frame.DataFrame'>\n",
            "RangeIndex: 600 entries, 0 to 599\n",
            "Data columns (total 12 columns):\n",
            " #   Column          Non-Null Count  Dtype  \n",
            "---  ------          --------------  -----  \n",
            " 0   title           600 non-null    object \n",
            " 1   distributor     600 non-null    object \n",
            " 2   genre           600 non-null    object \n",
            " 3   release_time    600 non-null    object \n",
            " 4   time            600 non-null    int64  \n",
            " 5   screening_rat   600 non-null    object \n",
            " 6   director        600 non-null    object \n",
            " 7   dir_prev_bfnum  270 non-null    float64\n",
            " 8   dir_prev_num    600 non-null    int64  \n",
            " 9   num_staff       600 non-null    int64  \n",
            " 10  num_actor       600 non-null    int64  \n",
            " 11  box_off_num     600 non-null    int64  \n",
            "dtypes: float64(1), int64(5), object(6)\n",
            "memory usage: 56.4+ KB\n"
          ],
          "name": "stdout"
        }
      ]
    },
    {
      "cell_type": "code",
      "metadata": {
        "colab": {
          "base_uri": "https://localhost:8080/"
        },
        "id": "ArSQYZVTlNkB",
        "outputId": "e09700b5-4357-46c6-d346-4524a549a055"
      },
      "source": [
        "test.info()"
      ],
      "execution_count": 16,
      "outputs": [
        {
          "output_type": "stream",
          "text": [
            "<class 'pandas.core.frame.DataFrame'>\n",
            "RangeIndex: 243 entries, 0 to 242\n",
            "Data columns (total 11 columns):\n",
            " #   Column          Non-Null Count  Dtype  \n",
            "---  ------          --------------  -----  \n",
            " 0   title           243 non-null    object \n",
            " 1   distributor     243 non-null    object \n",
            " 2   genre           243 non-null    object \n",
            " 3   release_time    243 non-null    object \n",
            " 4   time            243 non-null    int64  \n",
            " 5   screening_rat   243 non-null    object \n",
            " 6   director        243 non-null    object \n",
            " 7   dir_prev_bfnum  107 non-null    float64\n",
            " 8   dir_prev_num    243 non-null    int64  \n",
            " 9   num_staff       243 non-null    int64  \n",
            " 10  num_actor       243 non-null    int64  \n",
            "dtypes: float64(1), int64(4), object(6)\n",
            "memory usage: 21.0+ KB\n"
          ],
          "name": "stdout"
        }
      ]
    },
    {
      "cell_type": "code",
      "metadata": {
        "id": "6lko8smmYYZ7"
      },
      "source": [
        "# e+ 포맷 변경하기\n",
        "pd.options.display.float_format = \"{:.1f}\".format"
      ],
      "execution_count": 20,
      "outputs": []
    },
    {
      "cell_type": "code",
      "metadata": {
        "colab": {
          "base_uri": "https://localhost:8080/",
          "height": 300
        },
        "id": "QFBlJf4fmQbF",
        "outputId": "b961c21f-4d61-451e-eae2-58cc2ff0d5a3"
      },
      "source": [
        "train.describe()"
      ],
      "execution_count": 21,
      "outputs": [
        {
          "output_type": "execute_result",
          "data": {
            "text/html": [
              "<div>\n",
              "<style scoped>\n",
              "    .dataframe tbody tr th:only-of-type {\n",
              "        vertical-align: middle;\n",
              "    }\n",
              "\n",
              "    .dataframe tbody tr th {\n",
              "        vertical-align: top;\n",
              "    }\n",
              "\n",
              "    .dataframe thead th {\n",
              "        text-align: right;\n",
              "    }\n",
              "</style>\n",
              "<table border=\"1\" class=\"dataframe\">\n",
              "  <thead>\n",
              "    <tr style=\"text-align: right;\">\n",
              "      <th></th>\n",
              "      <th>time</th>\n",
              "      <th>dir_prev_bfnum</th>\n",
              "      <th>dir_prev_num</th>\n",
              "      <th>num_staff</th>\n",
              "      <th>num_actor</th>\n",
              "      <th>box_off_num</th>\n",
              "    </tr>\n",
              "  </thead>\n",
              "  <tbody>\n",
              "    <tr>\n",
              "      <th>count</th>\n",
              "      <td>600.0</td>\n",
              "      <td>270.0</td>\n",
              "      <td>600.0</td>\n",
              "      <td>600.0</td>\n",
              "      <td>600.0</td>\n",
              "      <td>600.0</td>\n",
              "    </tr>\n",
              "    <tr>\n",
              "      <th>mean</th>\n",
              "      <td>100.9</td>\n",
              "      <td>1050442.9</td>\n",
              "      <td>0.9</td>\n",
              "      <td>151.1</td>\n",
              "      <td>3.7</td>\n",
              "      <td>708181.8</td>\n",
              "    </tr>\n",
              "    <tr>\n",
              "      <th>std</th>\n",
              "      <td>18.1</td>\n",
              "      <td>1791408.3</td>\n",
              "      <td>1.2</td>\n",
              "      <td>165.7</td>\n",
              "      <td>2.4</td>\n",
              "      <td>1828005.9</td>\n",
              "    </tr>\n",
              "    <tr>\n",
              "      <th>min</th>\n",
              "      <td>45.0</td>\n",
              "      <td>1.0</td>\n",
              "      <td>0.0</td>\n",
              "      <td>0.0</td>\n",
              "      <td>0.0</td>\n",
              "      <td>1.0</td>\n",
              "    </tr>\n",
              "    <tr>\n",
              "      <th>25%</th>\n",
              "      <td>89.0</td>\n",
              "      <td>20380.0</td>\n",
              "      <td>0.0</td>\n",
              "      <td>17.0</td>\n",
              "      <td>2.0</td>\n",
              "      <td>1297.2</td>\n",
              "    </tr>\n",
              "    <tr>\n",
              "      <th>50%</th>\n",
              "      <td>100.0</td>\n",
              "      <td>478423.6</td>\n",
              "      <td>0.0</td>\n",
              "      <td>82.5</td>\n",
              "      <td>3.0</td>\n",
              "      <td>12591.0</td>\n",
              "    </tr>\n",
              "    <tr>\n",
              "      <th>75%</th>\n",
              "      <td>114.0</td>\n",
              "      <td>1286568.6</td>\n",
              "      <td>2.0</td>\n",
              "      <td>264.0</td>\n",
              "      <td>4.0</td>\n",
              "      <td>479886.8</td>\n",
              "    </tr>\n",
              "    <tr>\n",
              "      <th>max</th>\n",
              "      <td>180.0</td>\n",
              "      <td>17615314.0</td>\n",
              "      <td>5.0</td>\n",
              "      <td>869.0</td>\n",
              "      <td>25.0</td>\n",
              "      <td>14262766.0</td>\n",
              "    </tr>\n",
              "  </tbody>\n",
              "</table>\n",
              "</div>"
            ],
            "text/plain": [
              "       time  dir_prev_bfnum  dir_prev_num  num_staff  num_actor  box_off_num\n",
              "count 600.0           270.0         600.0      600.0      600.0        600.0\n",
              "mean  100.9       1050442.9           0.9      151.1        3.7     708181.8\n",
              "std    18.1       1791408.3           1.2      165.7        2.4    1828005.9\n",
              "min    45.0             1.0           0.0        0.0        0.0          1.0\n",
              "25%    89.0         20380.0           0.0       17.0        2.0       1297.2\n",
              "50%   100.0        478423.6           0.0       82.5        3.0      12591.0\n",
              "75%   114.0       1286568.6           2.0      264.0        4.0     479886.8\n",
              "max   180.0      17615314.0           5.0      869.0       25.0   14262766.0"
            ]
          },
          "metadata": {
            "tags": []
          },
          "execution_count": 21
        }
      ]
    },
    {
      "cell_type": "code",
      "metadata": {
        "colab": {
          "base_uri": "https://localhost:8080/",
          "height": 457
        },
        "id": "qbylwxMcmTBB",
        "outputId": "d16fc049-905f-4598-e0c8-3c0b4652c30b"
      },
      "source": [
        "train[['genre','box_off_num']].groupby(\"genre\").mean().sort_values(by='box_off_num', ascending=False)"
      ],
      "execution_count": 31,
      "outputs": [
        {
          "output_type": "execute_result",
          "data": {
            "text/html": [
              "<div>\n",
              "<style scoped>\n",
              "    .dataframe tbody tr th:only-of-type {\n",
              "        vertical-align: middle;\n",
              "    }\n",
              "\n",
              "    .dataframe tbody tr th {\n",
              "        vertical-align: top;\n",
              "    }\n",
              "\n",
              "    .dataframe thead th {\n",
              "        text-align: right;\n",
              "    }\n",
              "</style>\n",
              "<table border=\"1\" class=\"dataframe\">\n",
              "  <thead>\n",
              "    <tr style=\"text-align: right;\">\n",
              "      <th></th>\n",
              "      <th>box_off_num</th>\n",
              "    </tr>\n",
              "    <tr>\n",
              "      <th>genre</th>\n",
              "      <th></th>\n",
              "    </tr>\n",
              "  </thead>\n",
              "  <tbody>\n",
              "    <tr>\n",
              "      <th>느와르</th>\n",
              "      <td>2263695.1</td>\n",
              "    </tr>\n",
              "    <tr>\n",
              "      <th>액션</th>\n",
              "      <td>2203974.1</td>\n",
              "    </tr>\n",
              "    <tr>\n",
              "      <th>SF</th>\n",
              "      <td>1788345.7</td>\n",
              "    </tr>\n",
              "    <tr>\n",
              "      <th>코미디</th>\n",
              "      <td>1193914.0</td>\n",
              "    </tr>\n",
              "    <tr>\n",
              "      <th>드라마</th>\n",
              "      <td>625689.8</td>\n",
              "    </tr>\n",
              "    <tr>\n",
              "      <th>공포</th>\n",
              "      <td>590832.5</td>\n",
              "    </tr>\n",
              "    <tr>\n",
              "      <th>미스터리</th>\n",
              "      <td>527548.2</td>\n",
              "    </tr>\n",
              "    <tr>\n",
              "      <th>멜로/로맨스</th>\n",
              "      <td>425968.0</td>\n",
              "    </tr>\n",
              "    <tr>\n",
              "      <th>애니메이션</th>\n",
              "      <td>181926.7</td>\n",
              "    </tr>\n",
              "    <tr>\n",
              "      <th>서스펜스</th>\n",
              "      <td>82611.0</td>\n",
              "    </tr>\n",
              "    <tr>\n",
              "      <th>다큐멘터리</th>\n",
              "      <td>67172.3</td>\n",
              "    </tr>\n",
              "    <tr>\n",
              "      <th>뮤지컬</th>\n",
              "      <td>6627.0</td>\n",
              "    </tr>\n",
              "  </tbody>\n",
              "</table>\n",
              "</div>"
            ],
            "text/plain": [
              "        box_off_num\n",
              "genre              \n",
              "느와르       2263695.1\n",
              "액션        2203974.1\n",
              "SF        1788345.7\n",
              "코미디       1193914.0\n",
              "드라마        625689.8\n",
              "공포         590832.5\n",
              "미스터리       527548.2\n",
              "멜로/로맨스     425968.0\n",
              "애니메이션      181926.7\n",
              "서스펜스        82611.0\n",
              "다큐멘터리       67172.3\n",
              "뮤지컬          6627.0"
            ]
          },
          "metadata": {
            "tags": []
          },
          "execution_count": 31
        }
      ]
    },
    {
      "cell_type": "code",
      "metadata": {
        "id": "kYLkr5FbmlHP"
      },
      "source": [
        "pd.reset_option(\"display.float_format\")"
      ],
      "execution_count": 33,
      "outputs": []
    },
    {
      "cell_type": "code",
      "metadata": {
        "colab": {
          "base_uri": "https://localhost:8080/",
          "height": 567
        },
        "id": "WNmv9424ZSFm",
        "outputId": "d9038087-9759-4276-ef0c-f0058532e21c"
      },
      "source": [
        "sns.heatmap(train.corr(), annot=True, square=True)"
      ],
      "execution_count": 36,
      "outputs": [
        {
          "output_type": "execute_result",
          "data": {
            "text/plain": [
              "<matplotlib.axes._subplots.AxesSubplot at 0x7f0c622f9150>"
            ]
          },
          "metadata": {
            "tags": []
          },
          "execution_count": 36
        },
        {
          "output_type": "display_data",
          "data": {
            "text/plain": [
              "<Figure size 576x396 with 2 Axes>"
            ],
            "image/svg+xml": "<?xml version=\"1.0\" encoding=\"utf-8\" standalone=\"no\"?>\n<!DOCTYPE svg PUBLIC \"-//W3C//DTD SVG 1.1//EN\"\n  \"http://www.w3.org/Graphics/SVG/1.1/DTD/svg11.dtd\">\n<!-- Created with matplotlib (https://matplotlib.org/) -->\n<svg height=\"395.974531pt\" version=\"1.1\" viewBox=\"0 0 450.988063 395.974531\" width=\"450.988063pt\" xmlns=\"http://www.w3.org/2000/svg\" xmlns:xlink=\"http://www.w3.org/1999/xlink\">\n <defs>\n  <style type=\"text/css\">\n*{stroke-linecap:butt;stroke-linejoin:round;}\n  </style>\n </defs>\n <g id=\"figure_1\">\n  <g id=\"patch_1\">\n   <path d=\"M 0 395.974531 \nL 450.988063 395.974531 \nL 450.988063 0 \nL 0 0 \nz\n\" style=\"fill:#ffffff;\"/>\n  </g>\n  <g id=\"axes_1\">\n   <g id=\"patch_2\">\n    <path d=\"M 85.909375 310.065156 \nL 384.889375 310.065156 \nL 384.889375 11.085156 \nL 85.909375 11.085156 \nz\n\" style=\"fill:#eaeaf2;\"/>\n   </g>\n   <g id=\"matplotlib.axis_1\">\n    <g id=\"xtick_1\">\n     <g id=\"line2d_1\"/>\n     <g id=\"text_1\">\n      <!-- time -->\n      <defs>\n       <path d=\"M 33.5 4.703125 \nQ 34.59375 5.5 34.59375 4.09375 \nL 34.59375 -2 \nQ 32.59375 -3.5 29.75 -4.09375 \nQ 26.90625 -4.703125 24.203125 -4.703125 \nQ 16.5 -4.796875 13.140625 -1.640625 \nQ 9.796875 1.5 9.796875 9.09375 \nL 9.796875 44.5 \nL 0.296875 44.5 \nL 0.296875 51 \nL 9.796875 51 \nL 9.796875 64.5 \nL 18.40625 64.5 \nL 18.40625 51 \nL 32.59375 51 \nL 32.59375 44.5 \nL 18.40625 44.5 \nL 18.40625 10.40625 \nQ 18.40625 8.203125 18.59375 6.703125 \nQ 18.796875 5.203125 19.5 4.296875 \nQ 20.203125 3.40625 21.59375 3 \nQ 23 2.59375 25.296875 2.59375 \nQ 26.703125 2.59375 29.09375 3.09375 \nQ 31.5 3.59375 33.5 4.703125 \nz\n\" id=\"NanumBarunGothic-116\"/>\n       <path d=\"M 16.5 51 \nL 16.5 -3.59375 \nL 7.796875 -3.59375 \nL 7.796875 51 \nz\nM 6 68.40625 \nQ 6 71.09375 7.75 72.890625 \nQ 9.5 74.703125 12.203125 74.703125 \nQ 14.796875 74.703125 16.59375 72.890625 \nQ 18.40625 71.09375 18.40625 68.40625 \nQ 18.40625 65.796875 16.59375 64.046875 \nQ 14.796875 62.296875 12.203125 62.296875 \nQ 9.5 62.296875 7.75 64.046875 \nQ 6 65.796875 6 68.40625 \nz\n\" id=\"NanumBarunGothic-105\"/>\n       <path d=\"M 48.09375 40 \nL 48.203125 40 \nQ 51.296875 46.09375 55.890625 49.140625 \nQ 60.5 52.203125 65.90625 52.203125 \nQ 70.796875 52.203125 74.09375 50.640625 \nQ 77.40625 49.09375 79.453125 46.09375 \nQ 81.5 43.09375 82.34375 38.6875 \nQ 83.203125 34.296875 83.203125 28.59375 \nL 83.203125 -3.59375 \nL 74.703125 -3.59375 \nL 74.703125 28.90625 \nQ 74.703125 37.296875 72.546875 41.390625 \nQ 70.40625 45.5 64.703125 45.5 \nQ 61.796875 45.5 59.09375 44.046875 \nQ 56.40625 42.59375 54.296875 40.046875 \nQ 52.203125 37.5 50.890625 34.046875 \nQ 49.59375 30.59375 49.59375 26.5 \nL 49.5 -3.59375 \nL 41.203125 -3.59375 \nL 41.203125 28.90625 \nQ 41.203125 37.296875 39 41.390625 \nQ 36.796875 45.5 31.09375 45.5 \nQ 28.203125 45.5 25.453125 44.046875 \nQ 22.703125 42.59375 20.546875 40.046875 \nQ 18.40625 37.5 17.09375 34.046875 \nQ 15.796875 30.59375 15.796875 26.5 \nL 15.796875 -3.59375 \nL 7.5 -3.59375 \nL 7.5 51 \nL 15.90625 51 \nL 16.203125 42.796875 \nL 16.296875 42.796875 \nQ 17.5 45 19.25 46.75 \nQ 21 48.5 23.09375 49.703125 \nQ 25.203125 50.90625 27.546875 51.546875 \nQ 29.90625 52.203125 32.296875 52.203125 \nQ 39.203125 52.203125 42.796875 49.203125 \nQ 46.40625 46.203125 48.09375 40 \nz\n\" id=\"NanumBarunGothic-109\"/>\n       <path d=\"M 13 29 \nL 43.90625 29 \nL 43.90625 29.40625 \nQ 43.90625 37.5 40.046875 41.640625 \nQ 36.203125 45.796875 29.59375 45.796875 \nQ 26.5 45.796875 23.75 44.640625 \nQ 21 43.5 18.796875 41.390625 \nQ 16.59375 39.296875 15.09375 36.25 \nQ 13.59375 33.203125 13 29.5 \nz\nM 29.796875 52.296875 \nQ 40.796875 52.296875 46.890625 45.6875 \nQ 53 39.09375 53 26.59375 \nL 53 22.5 \nL 12.90625 22.5 \nL 12.90625 21.59375 \nQ 13.09375 12 18.09375 7.09375 \nQ 23.09375 2.203125 31.5 2.203125 \nQ 35.90625 2.203125 40.25 3.5 \nQ 44.59375 4.796875 49.203125 8 \nQ 50.296875 8.90625 50.296875 7.59375 \nL 50.296875 0.703125 \nQ 46.09375 -2.5 41.1875 -3.640625 \nQ 36.296875 -4.796875 30.296875 -4.796875 \nQ 24.40625 -4.796875 19.5 -2.890625 \nQ 14.59375 -1 11.09375 2.59375 \nQ 7.59375 6.203125 5.640625 11.453125 \nQ 3.703125 16.703125 3.703125 23.5 \nQ 3.703125 30 5.59375 35.296875 \nQ 7.5 40.59375 10.953125 44.390625 \nQ 14.40625 48.203125 19.203125 50.25 \nQ 24 52.296875 29.796875 52.296875 \nz\n\" id=\"NanumBarunGothic-101\"/>\n      </defs>\n      <g style=\"fill:#262626;\" transform=\"translate(113.304844 337.587031)rotate(-90)scale(0.1 -0.1)\">\n       <use xlink:href=\"#NanumBarunGothic-116\"/>\n       <use x=\"35.699997\" xlink:href=\"#NanumBarunGothic-105\"/>\n       <use x=\"60.099991\" xlink:href=\"#NanumBarunGothic-109\"/>\n       <use x=\"149.299973\" xlink:href=\"#NanumBarunGothic-101\"/>\n      </g>\n     </g>\n    </g>\n    <g id=\"xtick_2\">\n     <g id=\"line2d_2\"/>\n     <g id=\"text_2\">\n      <!-- dir_prev_bfnum -->\n      <defs>\n       <path d=\"M 42.59375 20.203125 \nL 42.59375 28.796875 \nQ 42.59375 32.09375 41.5 35.046875 \nQ 40.40625 38 38.40625 40.25 \nQ 36.40625 42.5 33.65625 43.84375 \nQ 30.90625 45.203125 27.59375 45.203125 \nQ 20.203125 45.203125 16 39.390625 \nQ 11.796875 33.59375 11.796875 22.59375 \nQ 11.796875 13 15.890625 7.640625 \nQ 20 2.296875 26.59375 2.296875 \nQ 30.40625 2.296875 33.34375 3.6875 \nQ 36.296875 5.09375 38.34375 7.5 \nQ 40.40625 9.90625 41.5 13.15625 \nQ 42.59375 16.40625 42.59375 20.203125 \nz\nM 42.09375 3.09375 \nL 42 3.09375 \nQ 39.09375 -1.40625 35 -2.953125 \nQ 30.90625 -4.5 25.59375 -4.5 \nQ 19.703125 -4.5 15.390625 -2.5 \nQ 11.09375 -0.5 8.34375 3.09375 \nQ 5.59375 6.703125 4.25 11.640625 \nQ 2.90625 16.59375 2.90625 22.5 \nQ 2.90625 28.5 4.296875 33.953125 \nQ 5.703125 39.40625 8.640625 43.453125 \nQ 11.59375 47.5 16.046875 49.890625 \nQ 20.5 52.296875 26.59375 52.296875 \nQ 31.90625 52.296875 35.90625 50.1875 \nQ 39.90625 48.09375 42.703125 44.59375 \nL 42.796875 44.59375 \nL 42.796875 77.703125 \nL 51.40625 77.703125 \nL 51.40625 -3.59375 \nL 42.40625 -3.59375 \nz\n\" id=\"NanumBarunGothic-100\"/>\n       <path d=\"M 36.5 43.09375 \nQ 35.09375 43.90625 33.59375 44.25 \nQ 32.09375 44.59375 30.09375 44.59375 \nQ 27.5 44.59375 24.953125 43.34375 \nQ 22.40625 42.09375 20.453125 39.796875 \nQ 18.5 37.5 17.296875 34.296875 \nQ 16.09375 31.09375 16.09375 27.203125 \nL 16.09375 -3.59375 \nL 7.5 -3.59375 \nL 7.5 51 \nL 16.203125 51 \nL 16.59375 43.09375 \nQ 18.703125 47.5 22.703125 49.890625 \nQ 26.703125 52.296875 31 52.296875 \nQ 33.09375 52.296875 34.640625 52.046875 \nQ 36.203125 51.796875 37.703125 51 \nL 37.703125 43.59375 \nQ 37.703125 42.203125 36.5 43.09375 \nz\n\" id=\"NanumBarunGothic-114\"/>\n       <path d=\"M 43.59375 -15 \nL 1 -15 \nL 1 -8.40625 \nL 43.59375 -8.40625 \nz\n\" id=\"NanumBarunGothic-95\"/>\n       <path d=\"M 16.09375 51 \nL 16.40625 43.40625 \nQ 19.59375 47.59375 23.59375 49.9375 \nQ 27.59375 52.296875 33.203125 52.296875 \nQ 44.703125 52.296875 50.453125 45.140625 \nQ 56.203125 38 56.203125 25.203125 \nQ 56.203125 18.703125 54.75 13.25 \nQ 53.296875 7.796875 50.296875 3.84375 \nQ 47.296875 -0.09375 42.75 -2.296875 \nQ 38.203125 -4.5 32 -4.5 \nQ 26.59375 -4.5 22.796875 -2.59375 \nQ 19 -0.703125 16.296875 2.703125 \nL 16.09375 2.703125 \nL 16.09375 -28.09375 \nL 7.5 -28.09375 \nL 7.5 51 \nz\nM 15.90625 26 \nL 15.90625 17.90625 \nQ 15.90625 14.59375 17.046875 11.84375 \nQ 18.203125 9.09375 20.25 7.046875 \nQ 22.296875 5 25.09375 3.84375 \nQ 27.90625 2.703125 31.203125 2.703125 \nQ 38.703125 2.703125 42.953125 8.5 \nQ 47.203125 14.296875 47.203125 25.203125 \nQ 47.203125 34.796875 43.09375 40.1875 \nQ 39 45.59375 32.203125 45.59375 \nQ 28.40625 45.59375 25.34375 43.9375 \nQ 22.296875 42.296875 20.1875 39.546875 \nQ 18.09375 36.796875 17 33.25 \nQ 15.90625 29.703125 15.90625 26 \nz\n\" id=\"NanumBarunGothic-112\"/>\n       <path d=\"M 42.703125 51 \nL 51.703125 51 \nL 30.40625 -3.59375 \nL 22.5 -3.59375 \nL 1.203125 51 \nL 10.203125 51 \nL 26.40625 6.703125 \nz\n\" id=\"NanumBarunGothic-118\"/>\n       <path d=\"M 16.296875 26.59375 \nL 16.296875 18.90625 \nQ 16.296875 15.203125 17.4375 12.203125 \nQ 18.59375 9.203125 20.59375 7.046875 \nQ 22.59375 4.90625 25.390625 3.75 \nQ 28.203125 2.59375 31.40625 2.59375 \nQ 38.796875 2.59375 42.796875 8.390625 \nQ 46.796875 14.203125 46.796875 25.09375 \nQ 46.796875 34.703125 42.9375 40.09375 \nQ 39.09375 45.5 32.5 45.5 \nQ 29.09375 45.5 26.140625 43.953125 \nQ 23.203125 42.40625 21 39.796875 \nQ 18.796875 37.203125 17.546875 33.75 \nQ 16.296875 30.296875 16.296875 26.59375 \nz\nM 33.296875 52.296875 \nQ 39.09375 52.296875 43.34375 50.296875 \nQ 47.59375 48.296875 50.296875 44.6875 \nQ 53 41.09375 54.296875 36.09375 \nQ 55.59375 31.09375 55.59375 25.203125 \nQ 55.59375 18.796875 54.1875 13.34375 \nQ 52.796875 7.90625 49.890625 3.953125 \nQ 47 0 42.546875 -2.25 \nQ 38.09375 -4.5 32 -4.5 \nQ 26.703125 -4.5 23.09375 -2.453125 \nQ 19.5 -0.40625 16.90625 3.09375 \nL 16.796875 3.09375 \nL 16.5 -3.59375 \nL 7.5 -3.59375 \nL 7.5 77.703125 \nL 16.09375 77.703125 \nL 16.09375 42.703125 \nL 16.296875 42.703125 \nQ 18.90625 47.203125 23.25 49.75 \nQ 27.59375 52.296875 33.296875 52.296875 \nz\n\" id=\"NanumBarunGothic-98\"/>\n       <path d=\"M 34 71 \nQ 32.796875 71.40625 31.59375 71.59375 \nQ 30.40625 71.796875 29 71.796875 \nQ 24.296875 71.796875 21.9375 69.34375 \nQ 19.59375 66.90625 19.59375 60.203125 \nL 19.59375 51 \nL 32.703125 51 \nL 32.703125 44.5 \nL 19.59375 44.5 \nL 19.59375 -3.59375 \nL 11.09375 -3.59375 \nL 11.09375 44.5 \nL 1.5 44.5 \nL 1.5 51 \nL 11.09375 51 \nL 11.09375 61.5 \nQ 11.09375 66.09375 12.34375 69.390625 \nQ 13.59375 72.703125 15.890625 74.796875 \nQ 18.203125 76.90625 21.34375 77.90625 \nQ 24.5 78.90625 28.40625 78.90625 \nQ 30.5 78.90625 32.046875 78.59375 \nQ 33.59375 78.296875 35 77.5 \nL 35 71.703125 \nQ 35 70.59375 34 71 \nz\n\" id=\"NanumBarunGothic-102\"/>\n       <path d=\"M 52.796875 28.703125 \nL 52.796875 -3.59375 \nL 44.203125 -3.59375 \nL 44.203125 28.90625 \nQ 44.203125 37.296875 41.796875 41.390625 \nQ 39.40625 45.5 32.90625 45.5 \nQ 29.703125 45.5 26.640625 44.046875 \nQ 23.59375 42.59375 21.25 40.046875 \nQ 18.90625 37.5 17.453125 34.046875 \nQ 16 30.59375 16 26.5 \nL 16 -3.59375 \nL 7.5 -3.59375 \nL 7.5 51 \nL 16.09375 51 \nL 16.5 43.09375 \nL 16.59375 43.09375 \nQ 17.796875 45.203125 19.75 46.890625 \nQ 21.703125 48.59375 24 49.796875 \nQ 26.296875 51 28.84375 51.640625 \nQ 31.40625 52.296875 33.90625 52.296875 \nQ 44.296875 52.296875 48.546875 46.25 \nQ 52.796875 40.203125 52.796875 28.703125 \nz\n\" id=\"NanumBarunGothic-110\"/>\n       <path d=\"M 6.5 18.703125 \nL 6.5 51 \nL 15.09375 51 \nL 15.09375 18.5 \nQ 15.09375 10.203125 17.796875 6.09375 \nQ 20.5 2 27 2 \nQ 30.296875 2 33.25 3.34375 \nQ 36.203125 4.703125 38.453125 7.09375 \nQ 40.703125 9.5 42.046875 12.890625 \nQ 43.40625 16.296875 43.40625 20.40625 \nL 43.40625 51 \nL 51.90625 51 \nL 51.90625 -3.59375 \nL 43.296875 -3.59375 \nL 42.90625 4.296875 \nL 42.796875 4.296875 \nQ 40.203125 -0.09375 35.640625 -2.4375 \nQ 31.09375 -4.796875 26 -4.796875 \nQ 20.796875 -4.796875 17.09375 -3.1875 \nQ 13.40625 -1.59375 11.046875 1.453125 \nQ 8.703125 4.5 7.59375 8.84375 \nQ 6.5 13.203125 6.5 18.703125 \nz\n\" id=\"NanumBarunGothic-117\"/>\n      </defs>\n      <g style=\"fill:#262626;\" transform=\"translate(163.195 388.774531)rotate(-90)scale(0.1 -0.1)\">\n       <use xlink:href=\"#NanumBarunGothic-100\"/>\n       <use x=\"58.799988\" xlink:href=\"#NanumBarunGothic-105\"/>\n       <use x=\"83.199982\" xlink:href=\"#NanumBarunGothic-114\"/>\n       <use x=\"121.499969\" xlink:href=\"#NanumBarunGothic-95\"/>\n       <use x=\"166.09996\" xlink:href=\"#NanumBarunGothic-112\"/>\n       <use x=\"224.899948\" xlink:href=\"#NanumBarunGothic-114\"/>\n       <use x=\"263.199936\" xlink:href=\"#NanumBarunGothic-101\"/>\n       <use x=\"319.09993\" xlink:href=\"#NanumBarunGothic-118\"/>\n       <use x=\"372.099915\" xlink:href=\"#NanumBarunGothic-95\"/>\n       <use x=\"416.699905\" xlink:href=\"#NanumBarunGothic-98\"/>\n       <use x=\"475.499893\" xlink:href=\"#NanumBarunGothic-102\"/>\n       <use x=\"509.499878\" xlink:href=\"#NanumBarunGothic-110\"/>\n       <use x=\"568.699875\" xlink:href=\"#NanumBarunGothic-117\"/>\n       <use x=\"627.899872\" xlink:href=\"#NanumBarunGothic-109\"/>\n      </g>\n     </g>\n    </g>\n    <g id=\"xtick_3\">\n     <g id=\"line2d_3\"/>\n     <g id=\"text_3\">\n      <!-- dir_prev_num -->\n      <g style=\"fill:#262626;\" transform=\"translate(212.964844 379.494844)rotate(-90)scale(0.1 -0.1)\">\n       <use xlink:href=\"#NanumBarunGothic-100\"/>\n       <use x=\"58.799988\" xlink:href=\"#NanumBarunGothic-105\"/>\n       <use x=\"83.199982\" xlink:href=\"#NanumBarunGothic-114\"/>\n       <use x=\"121.499969\" xlink:href=\"#NanumBarunGothic-95\"/>\n       <use x=\"166.09996\" xlink:href=\"#NanumBarunGothic-112\"/>\n       <use x=\"224.899948\" xlink:href=\"#NanumBarunGothic-114\"/>\n       <use x=\"263.199936\" xlink:href=\"#NanumBarunGothic-101\"/>\n       <use x=\"319.09993\" xlink:href=\"#NanumBarunGothic-118\"/>\n       <use x=\"372.099915\" xlink:href=\"#NanumBarunGothic-95\"/>\n       <use x=\"416.699905\" xlink:href=\"#NanumBarunGothic-110\"/>\n       <use x=\"475.899902\" xlink:href=\"#NanumBarunGothic-117\"/>\n       <use x=\"535.099899\" xlink:href=\"#NanumBarunGothic-109\"/>\n      </g>\n     </g>\n    </g>\n    <g id=\"xtick_4\">\n     <g id=\"line2d_4\"/>\n     <g id=\"text_4\">\n      <!-- num_staff -->\n      <defs>\n       <path d=\"M 5 8 \nQ 10.09375 5.09375 14.6875 3.546875 \nQ 19.296875 2 23.09375 2 \nQ 28.796875 2 31.796875 4.296875 \nQ 34.796875 6.59375 34.796875 11.09375 \nQ 34.796875 13.703125 32.640625 15.640625 \nQ 30.5 17.59375 26.40625 19.296875 \nL 20.296875 21.90625 \nQ 12.90625 25.09375 9.25 28.796875 \nQ 5.59375 32.5 5.59375 38.203125 \nQ 5.59375 44.5 10.546875 48.390625 \nQ 15.5 52.296875 24.59375 52.296875 \nQ 29.09375 52.296875 33.25 51.140625 \nQ 37.40625 50 41.59375 47.40625 \nL 41.59375 40.09375 \nQ 41.59375 38.703125 40.703125 39.59375 \nQ 36.59375 42.703125 32.6875 44.203125 \nQ 28.796875 45.703125 24.203125 45.703125 \nQ 19.796875 45.703125 17.25 44.09375 \nQ 14.703125 42.5 14.703125 38.796875 \nQ 14.703125 34.90625 17 33 \nQ 19.296875 31.09375 22.40625 29.90625 \nL 29 27 \nQ 32.203125 25.59375 34.953125 24.1875 \nQ 37.703125 22.796875 39.703125 21 \nQ 41.703125 19.203125 42.84375 16.84375 \nQ 44 14.5 44 11.203125 \nQ 44 7.40625 42.453125 4.40625 \nQ 40.90625 1.40625 38.15625 -0.6875 \nQ 35.40625 -2.796875 31.59375 -3.890625 \nQ 27.796875 -5 23.296875 -5 \nQ 18.203125 -5 13.296875 -3.75 \nQ 8.40625 -2.5 4 0.40625 \nL 4 7.296875 \nQ 4 8.59375 5 8 \nz\n\" id=\"NanumBarunGothic-115\"/>\n       <path d=\"M 39.09375 18.59375 \nL 39.09375 25.796875 \nL 24.59375 24 \nQ 19 23.203125 15.5 20.25 \nQ 12 17.296875 12 11.703125 \nQ 12 7.203125 15.046875 4.796875 \nQ 18.09375 2.40625 22.90625 2.40625 \nQ 26.09375 2.40625 29.046875 3.796875 \nQ 32 5.203125 34.25 7.453125 \nQ 36.5 9.703125 37.796875 12.59375 \nQ 39.09375 15.5 39.09375 18.59375 \nz\nM 9.59375 39.296875 \nQ 9.09375 38.796875 8.6875 38.9375 \nQ 8.296875 39.09375 8.296875 39.90625 \nL 8.296875 47.203125 \nQ 12.5 50 17.703125 51.59375 \nQ 22.90625 53.203125 28.40625 53.203125 \nQ 38.203125 53.203125 42.75 48.703125 \nQ 47.296875 44.203125 47.296875 33.90625 \nL 47.296875 -3.59375 \nL 39 -3.59375 \nL 38.59375 4.296875 \nL 38.5 4.296875 \nQ 37.203125 2.09375 35.25 0.390625 \nQ 33.296875 -1.296875 30.9375 -2.4375 \nQ 28.59375 -3.59375 26.046875 -4.1875 \nQ 23.5 -4.796875 21 -4.796875 \nQ 17 -4.90625 13.640625 -3.90625 \nQ 10.296875 -2.90625 7.890625 -0.90625 \nQ 5.5 1.09375 4.203125 4.09375 \nQ 2.90625 7.09375 2.90625 11 \nQ 2.90625 18.59375 7.59375 23.640625 \nQ 12.296875 28.703125 21.59375 30.09375 \nL 38.796875 32.59375 \nL 38.796875 33.5 \nQ 38.796875 37.09375 38.09375 39.5 \nQ 37.40625 41.90625 36 43.25 \nQ 34.59375 44.59375 32.4375 45.140625 \nQ 30.296875 45.703125 27.40625 45.703125 \nQ 22.59375 45.703125 18.34375 44.09375 \nQ 14.09375 42.5 9.59375 39.296875 \nz\n\" id=\"NanumBarunGothic-97\"/>\n      </defs>\n      <g style=\"fill:#262626;\" transform=\"translate(262.794844 363.005781)rotate(-90)scale(0.1 -0.1)\">\n       <use xlink:href=\"#NanumBarunGothic-110\"/>\n       <use x=\"59.199997\" xlink:href=\"#NanumBarunGothic-117\"/>\n       <use x=\"118.399994\" xlink:href=\"#NanumBarunGothic-109\"/>\n       <use x=\"207.599976\" xlink:href=\"#NanumBarunGothic-95\"/>\n       <use x=\"252.199966\" xlink:href=\"#NanumBarunGothic-115\"/>\n       <use x=\"299.699951\" xlink:href=\"#NanumBarunGothic-116\"/>\n       <use x=\"335.399948\" xlink:href=\"#NanumBarunGothic-97\"/>\n       <use x=\"391.399933\" xlink:href=\"#NanumBarunGothic-102\"/>\n       <use x=\"425.399918\" xlink:href=\"#NanumBarunGothic-102\"/>\n      </g>\n     </g>\n    </g>\n    <g id=\"xtick_5\">\n     <g id=\"line2d_5\"/>\n     <g id=\"text_5\">\n      <!-- num_actor -->\n      <defs>\n       <path d=\"M 46.5 7.59375 \nQ 47.59375 8.703125 47.59375 7.203125 \nL 47.59375 0.5 \nQ 44.40625 -2.5 40.25 -3.75 \nQ 36.09375 -5 31.59375 -5 \nQ 25.296875 -5 20.1875 -3.203125 \nQ 15.09375 -1.40625 11.390625 2.09375 \nQ 7.703125 5.59375 5.703125 10.890625 \nQ 3.703125 16.203125 3.703125 23.296875 \nQ 3.703125 29.90625 5.59375 35.25 \nQ 7.5 40.59375 11.09375 44.390625 \nQ 14.703125 48.203125 19.84375 50.25 \nQ 25 52.296875 31.40625 52.296875 \nQ 35.796875 52.296875 39.890625 51.09375 \nQ 44 49.90625 47.203125 47.296875 \nL 47.203125 40.40625 \nQ 47.203125 38.703125 46.09375 40 \nQ 42.90625 42.90625 39.296875 44 \nQ 35.703125 45.09375 31.59375 45.09375 \nQ 26.90625 45.09375 23.40625 43.34375 \nQ 19.90625 41.59375 17.59375 38.640625 \nQ 15.296875 35.703125 14.09375 31.75 \nQ 12.90625 27.796875 12.90625 23.40625 \nQ 12.90625 18.703125 14.09375 14.796875 \nQ 15.296875 10.90625 17.6875 8.046875 \nQ 20.09375 5.203125 23.75 3.640625 \nQ 27.40625 2.09375 32.296875 2.09375 \nQ 36.5 2.09375 39.890625 3.390625 \nQ 43.296875 4.703125 46.5 7.59375 \nz\n\" id=\"NanumBarunGothic-99\"/>\n       <path d=\"M 28.796875 -4.5 \nQ 22.203125 -4.5 17.453125 -2.25 \nQ 12.703125 0 9.546875 3.890625 \nQ 6.40625 7.796875 4.90625 12.9375 \nQ 3.40625 18.09375 3.40625 23.90625 \nQ 3.40625 30 5 35.25 \nQ 6.59375 40.5 9.796875 44.25 \nQ 13 48 17.75 50.140625 \nQ 22.5 52.296875 28.796875 52.296875 \nQ 35.09375 52.296875 39.84375 50.140625 \nQ 44.59375 48 47.796875 44.25 \nQ 51 40.5 52.59375 35.25 \nQ 54.203125 30 54.203125 23.90625 \nQ 54.203125 18.09375 52.703125 12.9375 \nQ 51.203125 7.796875 48.046875 3.890625 \nQ 44.90625 0 40.15625 -2.25 \nQ 35.40625 -4.5 28.796875 -4.5 \nz\nM 28.796875 2.40625 \nQ 36.796875 2.40625 40.9375 7.796875 \nQ 45.09375 13.203125 45.09375 23.90625 \nQ 45.09375 34.90625 40.9375 40.203125 \nQ 36.796875 45.5 28.796875 45.5 \nQ 20.796875 45.5 16.640625 40.203125 \nQ 12.5 34.90625 12.5 23.90625 \nQ 12.5 13.203125 16.640625 7.796875 \nQ 20.796875 2.40625 28.796875 2.40625 \nz\n\" id=\"NanumBarunGothic-111\"/>\n      </defs>\n      <g style=\"fill:#262626;\" transform=\"translate(312.624844 365.955781)rotate(-90)scale(0.1 -0.1)\">\n       <use xlink:href=\"#NanumBarunGothic-110\"/>\n       <use x=\"59.199997\" xlink:href=\"#NanumBarunGothic-117\"/>\n       <use x=\"118.399994\" xlink:href=\"#NanumBarunGothic-109\"/>\n       <use x=\"207.599976\" xlink:href=\"#NanumBarunGothic-95\"/>\n       <use x=\"252.199966\" xlink:href=\"#NanumBarunGothic-97\"/>\n       <use x=\"308.199951\" xlink:href=\"#NanumBarunGothic-99\"/>\n       <use x=\"357.199936\" xlink:href=\"#NanumBarunGothic-116\"/>\n       <use x=\"392.899933\" xlink:href=\"#NanumBarunGothic-111\"/>\n       <use x=\"450.59993\" xlink:href=\"#NanumBarunGothic-114\"/>\n      </g>\n     </g>\n    </g>\n    <g id=\"xtick_6\">\n     <g id=\"line2d_6\"/>\n     <g id=\"text_6\">\n      <!-- box_off_num -->\n      <defs>\n       <path d=\"M 31.296875 24 \nL 51.203125 -3.59375 \nL 41.40625 -3.59375 \nL 26.40625 18.296875 \nL 26.203125 18.296875 \nL 11.296875 -3.59375 \nL 1.59375 -3.59375 \nL 21.40625 24 \nL 21.40625 24.203125 \nL 1.90625 51 \nL 11.703125 51 \nL 26.203125 29.796875 \nL 26.40625 29.796875 \nL 41.203125 51 \nL 50.796875 51 \nL 31.296875 24.203125 \nz\n\" id=\"NanumBarunGothic-120\"/>\n      </defs>\n      <g style=\"fill:#262626;\" transform=\"translate(362.454844 376.244844)rotate(-90)scale(0.1 -0.1)\">\n       <use xlink:href=\"#NanumBarunGothic-98\"/>\n       <use x=\"58.799988\" xlink:href=\"#NanumBarunGothic-111\"/>\n       <use x=\"116.499985\" xlink:href=\"#NanumBarunGothic-120\"/>\n       <use x=\"169.299973\" xlink:href=\"#NanumBarunGothic-95\"/>\n       <use x=\"213.899963\" xlink:href=\"#NanumBarunGothic-111\"/>\n       <use x=\"271.59996\" xlink:href=\"#NanumBarunGothic-102\"/>\n       <use x=\"305.599945\" xlink:href=\"#NanumBarunGothic-102\"/>\n       <use x=\"339.59993\" xlink:href=\"#NanumBarunGothic-95\"/>\n       <use x=\"384.199921\" xlink:href=\"#NanumBarunGothic-110\"/>\n       <use x=\"443.399918\" xlink:href=\"#NanumBarunGothic-117\"/>\n       <use x=\"502.599915\" xlink:href=\"#NanumBarunGothic-109\"/>\n      </g>\n     </g>\n    </g>\n   </g>\n   <g id=\"matplotlib.axis_2\">\n    <g id=\"ytick_1\">\n     <g id=\"line2d_7\"/>\n     <g id=\"text_7\">\n      <!-- time -->\n      <g style=\"fill:#262626;\" transform=\"translate(58.3875 39.885313)scale(0.1 -0.1)\">\n       <use xlink:href=\"#NanumBarunGothic-116\"/>\n       <use x=\"35.699997\" xlink:href=\"#NanumBarunGothic-105\"/>\n       <use x=\"60.099991\" xlink:href=\"#NanumBarunGothic-109\"/>\n       <use x=\"149.299973\" xlink:href=\"#NanumBarunGothic-101\"/>\n      </g>\n     </g>\n    </g>\n    <g id=\"ytick_2\">\n     <g id=\"line2d_8\"/>\n     <g id=\"text_8\">\n      <!-- dir_prev_bfnum -->\n      <g style=\"fill:#262626;\" transform=\"translate(7.2 89.775469)scale(0.1 -0.1)\">\n       <use xlink:href=\"#NanumBarunGothic-100\"/>\n       <use x=\"58.799988\" xlink:href=\"#NanumBarunGothic-105\"/>\n       <use x=\"83.199982\" xlink:href=\"#NanumBarunGothic-114\"/>\n       <use x=\"121.499969\" xlink:href=\"#NanumBarunGothic-95\"/>\n       <use x=\"166.09996\" xlink:href=\"#NanumBarunGothic-112\"/>\n       <use x=\"224.899948\" xlink:href=\"#NanumBarunGothic-114\"/>\n       <use x=\"263.199936\" xlink:href=\"#NanumBarunGothic-101\"/>\n       <use x=\"319.09993\" xlink:href=\"#NanumBarunGothic-118\"/>\n       <use x=\"372.099915\" xlink:href=\"#NanumBarunGothic-95\"/>\n       <use x=\"416.699905\" xlink:href=\"#NanumBarunGothic-98\"/>\n       <use x=\"475.499893\" xlink:href=\"#NanumBarunGothic-102\"/>\n       <use x=\"509.499878\" xlink:href=\"#NanumBarunGothic-110\"/>\n       <use x=\"568.699875\" xlink:href=\"#NanumBarunGothic-117\"/>\n       <use x=\"627.899872\" xlink:href=\"#NanumBarunGothic-109\"/>\n      </g>\n     </g>\n    </g>\n    <g id=\"ytick_3\">\n     <g id=\"line2d_9\"/>\n     <g id=\"text_9\">\n      <!-- dir_prev_num -->\n      <g style=\"fill:#262626;\" transform=\"translate(16.479688 139.545313)scale(0.1 -0.1)\">\n       <use xlink:href=\"#NanumBarunGothic-100\"/>\n       <use x=\"58.799988\" xlink:href=\"#NanumBarunGothic-105\"/>\n       <use x=\"83.199982\" xlink:href=\"#NanumBarunGothic-114\"/>\n       <use x=\"121.499969\" xlink:href=\"#NanumBarunGothic-95\"/>\n       <use x=\"166.09996\" xlink:href=\"#NanumBarunGothic-112\"/>\n       <use x=\"224.899948\" xlink:href=\"#NanumBarunGothic-114\"/>\n       <use x=\"263.199936\" xlink:href=\"#NanumBarunGothic-101\"/>\n       <use x=\"319.09993\" xlink:href=\"#NanumBarunGothic-118\"/>\n       <use x=\"372.099915\" xlink:href=\"#NanumBarunGothic-95\"/>\n       <use x=\"416.699905\" xlink:href=\"#NanumBarunGothic-110\"/>\n       <use x=\"475.899902\" xlink:href=\"#NanumBarunGothic-117\"/>\n       <use x=\"535.099899\" xlink:href=\"#NanumBarunGothic-109\"/>\n      </g>\n     </g>\n    </g>\n    <g id=\"ytick_4\">\n     <g id=\"line2d_10\"/>\n     <g id=\"text_10\">\n      <!-- num_staff -->\n      <g style=\"fill:#262626;\" transform=\"translate(32.96875 189.375313)scale(0.1 -0.1)\">\n       <use xlink:href=\"#NanumBarunGothic-110\"/>\n       <use x=\"59.199997\" xlink:href=\"#NanumBarunGothic-117\"/>\n       <use x=\"118.399994\" xlink:href=\"#NanumBarunGothic-109\"/>\n       <use x=\"207.599976\" xlink:href=\"#NanumBarunGothic-95\"/>\n       <use x=\"252.199966\" xlink:href=\"#NanumBarunGothic-115\"/>\n       <use x=\"299.699951\" xlink:href=\"#NanumBarunGothic-116\"/>\n       <use x=\"335.399948\" xlink:href=\"#NanumBarunGothic-97\"/>\n       <use x=\"391.399933\" xlink:href=\"#NanumBarunGothic-102\"/>\n       <use x=\"425.399918\" xlink:href=\"#NanumBarunGothic-102\"/>\n      </g>\n     </g>\n    </g>\n    <g id=\"ytick_5\">\n     <g id=\"line2d_11\"/>\n     <g id=\"text_11\">\n      <!-- num_actor -->\n      <g style=\"fill:#262626;\" transform=\"translate(30.01875 239.205312)scale(0.1 -0.1)\">\n       <use xlink:href=\"#NanumBarunGothic-110\"/>\n       <use x=\"59.199997\" xlink:href=\"#NanumBarunGothic-117\"/>\n       <use x=\"118.399994\" xlink:href=\"#NanumBarunGothic-109\"/>\n       <use x=\"207.599976\" xlink:href=\"#NanumBarunGothic-95\"/>\n       <use x=\"252.199966\" xlink:href=\"#NanumBarunGothic-97\"/>\n       <use x=\"308.199951\" xlink:href=\"#NanumBarunGothic-99\"/>\n       <use x=\"357.199936\" xlink:href=\"#NanumBarunGothic-116\"/>\n       <use x=\"392.899933\" xlink:href=\"#NanumBarunGothic-111\"/>\n       <use x=\"450.59993\" xlink:href=\"#NanumBarunGothic-114\"/>\n      </g>\n     </g>\n    </g>\n    <g id=\"ytick_6\">\n     <g id=\"line2d_12\"/>\n     <g id=\"text_12\">\n      <!-- box_off_num -->\n      <g style=\"fill:#262626;\" transform=\"translate(19.729688 289.035313)scale(0.1 -0.1)\">\n       <use xlink:href=\"#NanumBarunGothic-98\"/>\n       <use x=\"58.799988\" xlink:href=\"#NanumBarunGothic-111\"/>\n       <use x=\"116.499985\" xlink:href=\"#NanumBarunGothic-120\"/>\n       <use x=\"169.299973\" xlink:href=\"#NanumBarunGothic-95\"/>\n       <use x=\"213.899963\" xlink:href=\"#NanumBarunGothic-111\"/>\n       <use x=\"271.59996\" xlink:href=\"#NanumBarunGothic-102\"/>\n       <use x=\"305.599945\" xlink:href=\"#NanumBarunGothic-102\"/>\n       <use x=\"339.59993\" xlink:href=\"#NanumBarunGothic-95\"/>\n       <use x=\"384.199921\" xlink:href=\"#NanumBarunGothic-110\"/>\n       <use x=\"443.399918\" xlink:href=\"#NanumBarunGothic-117\"/>\n       <use x=\"502.599915\" xlink:href=\"#NanumBarunGothic-109\"/>\n      </g>\n     </g>\n    </g>\n   </g>\n   <g id=\"QuadMesh_1\">\n    <path clip-path=\"url(#p8f499889ee)\" d=\"M 85.909375 11.085156 \nL 135.739375 11.085156 \nL 135.739375 60.915156 \nL 85.909375 60.915156 \nL 85.909375 11.085156 \n\" style=\"fill:#faebdd;\"/>\n    <path clip-path=\"url(#p8f499889ee)\" d=\"M 135.739375 11.085156 \nL 185.569375 11.085156 \nL 185.569375 60.915156 \nL 135.739375 60.915156 \nL 135.739375 11.085156 \n\" style=\"fill:#631f53;\"/>\n    <path clip-path=\"url(#p8f499889ee)\" d=\"M 185.569375 11.085156 \nL 235.399375 11.085156 \nL 235.399375 60.915156 \nL 185.569375 60.915156 \nL 185.569375 11.085156 \n\" style=\"fill:#751f58;\"/>\n    <path clip-path=\"url(#p8f499889ee)\" d=\"M 235.399375 11.085156 \nL 285.229375 11.085156 \nL 285.229375 60.915156 \nL 235.399375 60.915156 \nL 235.399375 11.085156 \n\" style=\"fill:#eb483e;\"/>\n    <path clip-path=\"url(#p8f499889ee)\" d=\"M 285.229375 11.085156 \nL 335.059375 11.085156 \nL 335.059375 60.915156 \nL 285.229375 60.915156 \nL 285.229375 11.085156 \n\" style=\"fill:#271534;\"/>\n    <path clip-path=\"url(#p8f499889ee)\" d=\"M 335.059375 11.085156 \nL 384.889375 11.085156 \nL 384.889375 60.915156 \nL 335.059375 60.915156 \nL 335.059375 11.085156 \n\" style=\"fill:#af1759;\"/>\n    <path clip-path=\"url(#p8f499889ee)\" d=\"M 85.909375 60.915156 \nL 135.739375 60.915156 \nL 135.739375 110.745156 \nL 85.909375 110.745156 \nL 85.909375 60.915156 \n\" style=\"fill:#631f53;\"/>\n    <path clip-path=\"url(#p8f499889ee)\" d=\"M 135.739375 60.915156 \nL 185.569375 60.915156 \nL 185.569375 110.745156 \nL 135.739375 110.745156 \nL 135.739375 60.915156 \n\" style=\"fill:#faebdd;\"/>\n    <path clip-path=\"url(#p8f499889ee)\" d=\"M 185.569375 60.915156 \nL 235.399375 60.915156 \nL 235.399375 110.745156 \nL 185.569375 110.745156 \nL 185.569375 60.915156 \n\" style=\"fill:#2d1738;\"/>\n    <path clip-path=\"url(#p8f499889ee)\" d=\"M 235.399375 60.915156 \nL 285.229375 60.915156 \nL 285.229375 110.745156 \nL 235.399375 110.745156 \nL 235.399375 60.915156 \n\" style=\"fill:#7b1f59;\"/>\n    <path clip-path=\"url(#p8f499889ee)\" d=\"M 285.229375 60.915156 \nL 335.059375 60.915156 \nL 335.059375 110.745156 \nL 285.229375 110.745156 \nL 285.229375 60.915156 \n\" style=\"fill:#1b112b;\"/>\n    <path clip-path=\"url(#p8f499889ee)\" d=\"M 335.059375 60.915156 \nL 384.889375 60.915156 \nL 384.889375 110.745156 \nL 335.059375 110.745156 \nL 335.059375 60.915156 \n\" style=\"fill:#691f55;\"/>\n    <path clip-path=\"url(#p8f499889ee)\" d=\"M 85.909375 110.745156 \nL 135.739375 110.745156 \nL 135.739375 160.575156 \nL 85.909375 160.575156 \nL 85.909375 110.745156 \n\" style=\"fill:#751f58;\"/>\n    <path clip-path=\"url(#p8f499889ee)\" d=\"M 135.739375 110.745156 \nL 185.569375 110.745156 \nL 185.569375 160.575156 \nL 135.739375 160.575156 \nL 135.739375 110.745156 \n\" style=\"fill:#2d1738;\"/>\n    <path clip-path=\"url(#p8f499889ee)\" d=\"M 185.569375 110.745156 \nL 235.399375 110.745156 \nL 235.399375 160.575156 \nL 185.569375 160.575156 \nL 185.569375 110.745156 \n\" style=\"fill:#faebdd;\"/>\n    <path clip-path=\"url(#p8f499889ee)\" d=\"M 235.399375 110.745156 \nL 285.229375 110.745156 \nL 285.229375 160.575156 \nL 235.399375 160.575156 \nL 235.399375 110.745156 \n\" style=\"fill:#b41658;\"/>\n    <path clip-path=\"url(#p8f499889ee)\" d=\"M 285.229375 110.745156 \nL 335.059375 110.745156 \nL 335.059375 160.575156 \nL 285.229375 160.575156 \nL 285.229375 110.745156 \n\" style=\"fill:#03051a;\"/>\n    <path clip-path=\"url(#p8f499889ee)\" d=\"M 335.059375 110.745156 \nL 384.889375 110.745156 \nL 384.889375 160.575156 \nL 335.059375 160.575156 \nL 335.059375 110.745156 \n\" style=\"fill:#601f52;\"/>\n    <path clip-path=\"url(#p8f499889ee)\" d=\"M 85.909375 160.575156 \nL 135.739375 160.575156 \nL 135.739375 210.405156 \nL 85.909375 210.405156 \nL 85.909375 160.575156 \n\" style=\"fill:#eb483e;\"/>\n    <path clip-path=\"url(#p8f499889ee)\" d=\"M 135.739375 160.575156 \nL 185.569375 160.575156 \nL 185.569375 210.405156 \nL 135.739375 210.405156 \nL 135.739375 160.575156 \n\" style=\"fill:#7b1f59;\"/>\n    <path clip-path=\"url(#p8f499889ee)\" d=\"M 185.569375 160.575156 \nL 235.399375 160.575156 \nL 235.399375 210.405156 \nL 185.569375 210.405156 \nL 185.569375 160.575156 \n\" style=\"fill:#b41658;\"/>\n    <path clip-path=\"url(#p8f499889ee)\" d=\"M 235.399375 160.575156 \nL 285.229375 160.575156 \nL 285.229375 210.405156 \nL 235.399375 210.405156 \nL 235.399375 160.575156 \n\" style=\"fill:#faebdd;\"/>\n    <path clip-path=\"url(#p8f499889ee)\" d=\"M 285.229375 160.575156 \nL 335.059375 160.575156 \nL 335.059375 210.405156 \nL 285.229375 210.405156 \nL 285.229375 160.575156 \n\" style=\"fill:#180f29;\"/>\n    <path clip-path=\"url(#p8f499889ee)\" d=\"M 335.059375 160.575156 \nL 384.889375 160.575156 \nL 384.889375 210.405156 \nL 335.059375 210.405156 \nL 335.059375 160.575156 \n\" style=\"fill:#d72549;\"/>\n    <path clip-path=\"url(#p8f499889ee)\" d=\"M 85.909375 210.405156 \nL 135.739375 210.405156 \nL 135.739375 260.235156 \nL 85.909375 260.235156 \nL 85.909375 210.405156 \n\" style=\"fill:#271534;\"/>\n    <path clip-path=\"url(#p8f499889ee)\" d=\"M 135.739375 210.405156 \nL 185.569375 210.405156 \nL 185.569375 260.235156 \nL 135.739375 260.235156 \nL 135.739375 210.405156 \n\" style=\"fill:#1b112b;\"/>\n    <path clip-path=\"url(#p8f499889ee)\" d=\"M 185.569375 210.405156 \nL 235.399375 210.405156 \nL 235.399375 260.235156 \nL 185.569375 260.235156 \nL 185.569375 210.405156 \n\" style=\"fill:#03051a;\"/>\n    <path clip-path=\"url(#p8f499889ee)\" d=\"M 235.399375 210.405156 \nL 285.229375 210.405156 \nL 285.229375 260.235156 \nL 235.399375 260.235156 \nL 235.399375 210.405156 \n\" style=\"fill:#180f29;\"/>\n    <path clip-path=\"url(#p8f499889ee)\" d=\"M 285.229375 210.405156 \nL 335.059375 210.405156 \nL 335.059375 260.235156 \nL 285.229375 260.235156 \nL 285.229375 210.405156 \n\" style=\"fill:#faebdd;\"/>\n    <path clip-path=\"url(#p8f499889ee)\" d=\"M 335.059375 210.405156 \nL 384.889375 210.405156 \nL 384.889375 260.235156 \nL 335.059375 260.235156 \nL 335.059375 210.405156 \n\" style=\"fill:#251433;\"/>\n    <path clip-path=\"url(#p8f499889ee)\" d=\"M 85.909375 260.235156 \nL 135.739375 260.235156 \nL 135.739375 310.065156 \nL 85.909375 310.065156 \nL 85.909375 260.235156 \n\" style=\"fill:#af1759;\"/>\n    <path clip-path=\"url(#p8f499889ee)\" d=\"M 135.739375 260.235156 \nL 185.569375 260.235156 \nL 185.569375 310.065156 \nL 135.739375 310.065156 \nL 135.739375 260.235156 \n\" style=\"fill:#691f55;\"/>\n    <path clip-path=\"url(#p8f499889ee)\" d=\"M 185.569375 260.235156 \nL 235.399375 260.235156 \nL 235.399375 310.065156 \nL 185.569375 310.065156 \nL 185.569375 260.235156 \n\" style=\"fill:#601f52;\"/>\n    <path clip-path=\"url(#p8f499889ee)\" d=\"M 235.399375 260.235156 \nL 285.229375 260.235156 \nL 285.229375 310.065156 \nL 235.399375 310.065156 \nL 235.399375 260.235156 \n\" style=\"fill:#d72549;\"/>\n    <path clip-path=\"url(#p8f499889ee)\" d=\"M 285.229375 260.235156 \nL 335.059375 260.235156 \nL 335.059375 310.065156 \nL 285.229375 310.065156 \nL 285.229375 260.235156 \n\" style=\"fill:#251433;\"/>\n    <path clip-path=\"url(#p8f499889ee)\" d=\"M 335.059375 260.235156 \nL 384.889375 260.235156 \nL 384.889375 310.065156 \nL 335.059375 310.065156 \nL 335.059375 260.235156 \n\" style=\"fill:#faebdd;\"/>\n   </g>\n   <g id=\"text_13\">\n    <!-- 1 -->\n    <defs>\n     <path d=\"M 12.203125 55.40625 \nL 12.203125 61.59375 \nQ 16.296875 63.40625 19.9375 66.046875 \nQ 23.59375 68.703125 26.703125 72.203125 \nL 35.703125 72.203125 \nL 35.703125 -3.59375 \nL 27.09375 -3.59375 \nL 27.09375 62.796875 \nL 27 62.796875 \nQ 23.59375 60.09375 20.140625 58.140625 \nQ 16.703125 56.203125 13.203125 54.90625 \nQ 12.203125 54.5 12.203125 55.40625 \nz\n\" id=\"NanumBarunGothic-49\"/>\n    </defs>\n    <g style=\"fill:#262626;\" transform=\"translate(107.909531 38.480625)scale(0.1 -0.1)\">\n     <use xlink:href=\"#NanumBarunGothic-49\"/>\n    </g>\n   </g>\n   <g id=\"text_14\">\n    <!-- 0.26 -->\n    <defs>\n     <path d=\"M 29.203125 73.5 \nQ 41.09375 73.5 47.4375 63.59375 \nQ 53.796875 53.703125 53.796875 33.59375 \nQ 53.796875 13.59375 47.390625 4.390625 \nQ 41 -4.796875 29.203125 -4.796875 \nQ 23.296875 -4.796875 18.6875 -2.546875 \nQ 14.09375 -0.296875 10.9375 4.390625 \nQ 7.796875 9.09375 6.1875 16.34375 \nQ 4.59375 23.59375 4.59375 33.59375 \nQ 4.59375 53.703125 10.9375 63.59375 \nQ 17.296875 73.5 29.203125 73.5 \nz\nM 29.203125 66.5 \nQ 13.296875 66.5 13.296875 33.40625 \nQ 13.296875 16.90625 17.25 9.5 \nQ 21.203125 2.09375 29.203125 2.09375 \nQ 37.09375 2.09375 41.09375 9.5 \nQ 45.09375 16.90625 45.09375 33.40625 \nQ 45.09375 66.5 29.203125 66.5 \nz\n\" id=\"NanumBarunGothic-48\"/>\n     <path d=\"M 13 8.296875 \nQ 16 8.296875 17.890625 6.390625 \nQ 19.796875 4.5 19.796875 1.59375 \nQ 19.796875 -1.296875 17.890625 -3.1875 \nQ 16 -5.09375 13 -5.09375 \nQ 10 -5.09375 8.09375 -3.1875 \nQ 6.203125 -1.296875 6.203125 1.59375 \nQ 6.203125 4.5 8.09375 6.390625 \nQ 10 8.296875 13 8.296875 \nz\n\" id=\"NanumBarunGothic-46\"/>\n     <path d=\"M 9.09375 57.703125 \nQ 8 56.59375 8 58.09375 \nL 8 65.59375 \nQ 12.203125 68.90625 17.203125 71.203125 \nQ 22.203125 73.5 28.90625 73.5 \nQ 39.796875 73.5 45.4375 68.546875 \nQ 51.09375 63.59375 51.09375 53.40625 \nQ 51.09375 50 50 46.890625 \nQ 48.90625 43.796875 46.953125 40.640625 \nQ 45 37.5 42.25 34.09375 \nQ 39.5 30.703125 36.203125 26.703125 \nL 15.796875 3.5 \nL 15.796875 3.40625 \nL 52.203125 3.40625 \nL 52.203125 -3.59375 \nL 5.5 -3.59375 \nL 5.5 3.90625 \nL 28.796875 30.09375 \nQ 32.703125 35.09375 35.296875 38.4375 \nQ 37.90625 41.796875 39.453125 44.34375 \nQ 41 46.90625 41.640625 49 \nQ 42.296875 51.09375 42.296875 53.59375 \nQ 42.296875 59.703125 39.140625 63.09375 \nQ 36 66.5 29.09375 66.5 \nQ 24.296875 66.5 19.296875 64.25 \nQ 14.296875 62 9.09375 57.703125 \nz\n\" id=\"NanumBarunGothic-50\"/>\n     <path d=\"M 49.796875 62.90625 \nQ 47 64.59375 43.703125 65.59375 \nQ 40.40625 66.59375 36.59375 66.59375 \nQ 31.296875 66.59375 27.09375 64.046875 \nQ 22.90625 61.5 19.953125 57.140625 \nQ 17 52.796875 15.34375 47.09375 \nQ 13.703125 41.40625 13.5 35 \nL 13.703125 35 \nQ 14.703125 37.203125 16.390625 39.25 \nQ 18.09375 41.296875 20.4375 42.84375 \nQ 22.796875 44.40625 25.640625 45.296875 \nQ 28.5 46.203125 31.796875 46.203125 \nQ 37.203125 46.203125 41.34375 44.34375 \nQ 45.5 42.5 48.34375 39.203125 \nQ 51.203125 35.90625 52.703125 31.40625 \nQ 54.203125 26.90625 54.203125 21.59375 \nQ 54.203125 15.703125 52.453125 10.890625 \nQ 50.703125 6.09375 47.453125 2.6875 \nQ 44.203125 -0.703125 39.75 -2.546875 \nQ 35.296875 -4.40625 29.90625 -4.40625 \nQ 22.203125 -4.40625 17.390625 -1.15625 \nQ 12.59375 2.09375 9.890625 7.1875 \nQ 7.203125 12.296875 6.25 18.546875 \nQ 5.296875 24.796875 5.296875 30.90625 \nQ 5.296875 38.59375 7.046875 46.25 \nQ 8.796875 53.90625 12.546875 59.953125 \nQ 16.296875 66 22.1875 69.796875 \nQ 28.09375 73.59375 36.40625 73.59375 \nQ 40.59375 73.59375 44.09375 72.84375 \nQ 47.59375 72.09375 50.703125 70.703125 \nL 50.703125 63.296875 \nQ 50.703125 62.203125 49.796875 62.90625 \nz\nM 14.296875 20.796875 \nQ 14.296875 17.09375 15.34375 13.796875 \nQ 16.40625 10.5 18.453125 8 \nQ 20.5 5.5 23.390625 4 \nQ 26.296875 2.5 29.90625 2.5 \nQ 33.90625 2.5 36.84375 4.140625 \nQ 39.796875 5.796875 41.6875 8.390625 \nQ 43.59375 11 44.5 14.34375 \nQ 45.40625 17.703125 45.40625 21.09375 \nQ 45.40625 24.796875 44.5 28.09375 \nQ 43.59375 31.40625 41.796875 33.84375 \nQ 40 36.296875 37.203125 37.75 \nQ 34.40625 39.203125 30.59375 39.203125 \nQ 26.59375 39.203125 23.640625 37.75 \nQ 20.703125 36.296875 18.703125 33.75 \nQ 16.703125 31.203125 15.640625 27.84375 \nQ 14.59375 24.5 14.296875 20.796875 \nz\n\" id=\"NanumBarunGothic-54\"/>\n    </defs>\n    <g style=\"fill:#ffffff;\" transform=\"translate(150.424688 38.480625)scale(0.1 -0.1)\">\n     <use xlink:href=\"#NanumBarunGothic-48\"/>\n     <use x=\"58.299988\" xlink:href=\"#NanumBarunGothic-46\"/>\n     <use x=\"87.999985\" xlink:href=\"#NanumBarunGothic-50\"/>\n     <use x=\"146.299973\" xlink:href=\"#NanumBarunGothic-54\"/>\n    </g>\n   </g>\n   <g id=\"text_15\">\n    <!-- 0.31 -->\n    <defs>\n     <path d=\"M 28.703125 -4.5 \nQ 22 -4.40625 15.84375 -2.40625 \nQ 9.703125 -0.40625 5.90625 3.203125 \nL 5.90625 10.40625 \nQ 5.90625 11.09375 6.25 11.25 \nQ 6.59375 11.40625 7.09375 10.90625 \nQ 12.5 6.40625 17.75 4.453125 \nQ 23 2.5 28.90625 2.5 \nQ 32.203125 2.5 35 3.546875 \nQ 37.796875 4.59375 39.890625 6.546875 \nQ 42 8.5 43.203125 11.09375 \nQ 44.40625 13.703125 44.40625 16.90625 \nQ 44.40625 32.40625 25.796875 32.40625 \nL 23.09375 32.40625 \nL 23.09375 39.5 \nL 24.296875 39.5 \nQ 27.90625 39.59375 31.203125 40.25 \nQ 34.5 40.90625 37 42.453125 \nQ 39.5 44 41 46.703125 \nQ 42.5 49.40625 42.5 53.703125 \nQ 42.5 60.40625 38.546875 63.5 \nQ 34.59375 66.59375 28.59375 66.59375 \nQ 23.796875 66.59375 18.6875 64.6875 \nQ 13.59375 62.796875 9.203125 58.90625 \nQ 8.796875 58.59375 8.4375 58.6875 \nQ 8.09375 58.796875 8.09375 59.40625 \nL 8.09375 66.796875 \nQ 9.59375 68.09375 11.6875 69.296875 \nQ 13.796875 70.5 16.390625 71.453125 \nQ 19 72.40625 22.046875 73 \nQ 25.09375 73.59375 28.40625 73.59375 \nQ 33.40625 73.59375 37.65625 72.390625 \nQ 41.90625 71.203125 44.953125 68.75 \nQ 48 66.296875 49.703125 62.640625 \nQ 51.40625 59 51.40625 54.203125 \nQ 51.40625 50.703125 50.40625 47.75 \nQ 49.40625 44.796875 47.59375 42.4375 \nQ 45.796875 40.09375 43.296875 38.5 \nQ 40.796875 36.90625 37.796875 36.296875 \nL 37.796875 36.09375 \nQ 45 34.5 49.09375 30.046875 \nQ 53.203125 25.59375 53.203125 17.203125 \nQ 53.203125 13 51.640625 9.046875 \nQ 50.09375 5.09375 47 2.09375 \nQ 43.90625 -0.90625 39.34375 -2.703125 \nQ 34.796875 -4.5 28.703125 -4.5 \nz\n\" id=\"NanumBarunGothic-51\"/>\n    </defs>\n    <g style=\"fill:#ffffff;\" transform=\"translate(200.254687 38.480625)scale(0.1 -0.1)\">\n     <use xlink:href=\"#NanumBarunGothic-48\"/>\n     <use x=\"58.299988\" xlink:href=\"#NanumBarunGothic-46\"/>\n     <use x=\"87.999985\" xlink:href=\"#NanumBarunGothic-51\"/>\n     <use x=\"146.299973\" xlink:href=\"#NanumBarunGothic-49\"/>\n    </g>\n   </g>\n   <g id=\"text_16\">\n    <!-- 0.62 -->\n    <g style=\"fill:#ffffff;\" transform=\"translate(250.084687 38.480625)scale(0.1 -0.1)\">\n     <use xlink:href=\"#NanumBarunGothic-48\"/>\n     <use x=\"58.299988\" xlink:href=\"#NanumBarunGothic-46\"/>\n     <use x=\"87.999985\" xlink:href=\"#NanumBarunGothic-54\"/>\n     <use x=\"146.299973\" xlink:href=\"#NanumBarunGothic-50\"/>\n    </g>\n   </g>\n   <g id=\"text_17\">\n    <!-- 0.11 -->\n    <g style=\"fill:#ffffff;\" transform=\"translate(299.914687 38.480625)scale(0.1 -0.1)\">\n     <use xlink:href=\"#NanumBarunGothic-48\"/>\n     <use x=\"58.299988\" xlink:href=\"#NanumBarunGothic-46\"/>\n     <use x=\"87.999985\" xlink:href=\"#NanumBarunGothic-49\"/>\n     <use x=\"146.299973\" xlink:href=\"#NanumBarunGothic-49\"/>\n    </g>\n   </g>\n   <g id=\"text_18\">\n    <!-- 0.44 -->\n    <defs>\n     <path d=\"M 2.09375 13.703125 \nL 2.09375 22.203125 \nL 35.296875 72.203125 \nL 45.59375 72.203125 \nL 45.59375 20.703125 \nL 56.90625 20.703125 \nL 56.90625 13.703125 \nL 45.59375 13.703125 \nL 45.59375 -3.59375 \nL 37.09375 -3.59375 \nL 37.09375 13.703125 \nz\nM 34.703125 59.296875 \nL 9.296875 20.59375 \nL 9.296875 20.5 \nL 37.5 20.5 \nL 37.5 59.09375 \nL 37.59375 64.703125 \nz\n\" id=\"NanumBarunGothic-52\"/>\n    </defs>\n    <g style=\"fill:#ffffff;\" transform=\"translate(349.744687 38.480625)scale(0.1 -0.1)\">\n     <use xlink:href=\"#NanumBarunGothic-48\"/>\n     <use x=\"58.299988\" xlink:href=\"#NanumBarunGothic-46\"/>\n     <use x=\"87.999985\" xlink:href=\"#NanumBarunGothic-52\"/>\n     <use x=\"146.299973\" xlink:href=\"#NanumBarunGothic-52\"/>\n    </g>\n   </g>\n   <g id=\"text_19\">\n    <!-- 0.26 -->\n    <g style=\"fill:#ffffff;\" transform=\"translate(100.594688 88.310625)scale(0.1 -0.1)\">\n     <use xlink:href=\"#NanumBarunGothic-48\"/>\n     <use x=\"58.299988\" xlink:href=\"#NanumBarunGothic-46\"/>\n     <use x=\"87.999985\" xlink:href=\"#NanumBarunGothic-50\"/>\n     <use x=\"146.299973\" xlink:href=\"#NanumBarunGothic-54\"/>\n    </g>\n   </g>\n   <g id=\"text_20\">\n    <!-- 1 -->\n    <g style=\"fill:#262626;\" transform=\"translate(157.739531 88.310625)scale(0.1 -0.1)\">\n     <use xlink:href=\"#NanumBarunGothic-49\"/>\n    </g>\n   </g>\n   <g id=\"text_21\">\n    <!-- 0.13 -->\n    <g style=\"fill:#ffffff;\" transform=\"translate(200.254687 88.310625)scale(0.1 -0.1)\">\n     <use xlink:href=\"#NanumBarunGothic-48\"/>\n     <use x=\"58.299988\" xlink:href=\"#NanumBarunGothic-46\"/>\n     <use x=\"87.999985\" xlink:href=\"#NanumBarunGothic-49\"/>\n     <use x=\"146.299973\" xlink:href=\"#NanumBarunGothic-51\"/>\n    </g>\n   </g>\n   <g id=\"text_22\">\n    <!-- 0.32 -->\n    <g style=\"fill:#ffffff;\" transform=\"translate(250.084687 88.310625)scale(0.1 -0.1)\">\n     <use xlink:href=\"#NanumBarunGothic-48\"/>\n     <use x=\"58.299988\" xlink:href=\"#NanumBarunGothic-46\"/>\n     <use x=\"87.999985\" xlink:href=\"#NanumBarunGothic-51\"/>\n     <use x=\"146.299973\" xlink:href=\"#NanumBarunGothic-50\"/>\n    </g>\n   </g>\n   <g id=\"text_23\">\n    <!-- 0.084 -->\n    <defs>\n     <path d=\"M 29.09375 2.5 \nQ 32.5 2.5 35.546875 3.546875 \nQ 38.59375 4.59375 40.890625 6.5 \nQ 43.203125 8.40625 44.5 11.15625 \nQ 45.796875 13.90625 45.796875 17.40625 \nQ 45.796875 20.796875 44.5 23.640625 \nQ 43.203125 26.5 40.890625 28.59375 \nQ 38.59375 30.703125 35.546875 31.84375 \nQ 32.5 33 29.09375 33 \nQ 25.59375 33 22.59375 31.84375 \nQ 19.59375 30.703125 17.296875 28.59375 \nQ 15 26.5 13.703125 23.640625 \nQ 12.40625 20.796875 12.40625 17.40625 \nQ 12.40625 13.90625 13.703125 11.15625 \nQ 15 8.40625 17.296875 6.5 \nQ 19.59375 4.59375 22.59375 3.546875 \nQ 25.59375 2.5 29.09375 2.5 \nz\nM 29.09375 40.203125 \nQ 31.90625 40.203125 34.59375 41.09375 \nQ 37.296875 42 39.390625 43.703125 \nQ 41.5 45.40625 42.796875 47.90625 \nQ 44.09375 50.40625 44.09375 53.59375 \nQ 44.09375 56.703125 42.890625 59.203125 \nQ 41.703125 61.703125 39.640625 63.5 \nQ 37.59375 65.296875 34.890625 66.25 \nQ 32.203125 67.203125 29.09375 67.203125 \nQ 26 67.203125 23.296875 66.25 \nQ 20.59375 65.296875 18.546875 63.5 \nQ 16.5 61.703125 15.296875 59.203125 \nQ 14.09375 56.703125 14.09375 53.59375 \nQ 14.09375 50.40625 15.390625 47.90625 \nQ 16.703125 45.40625 18.796875 43.703125 \nQ 20.90625 42 23.59375 41.09375 \nQ 26.296875 40.203125 29.09375 40.203125 \nz\nM 29.09375 -4.5 \nQ 22.703125 -4.5 17.953125 -2.953125 \nQ 13.203125 -1.40625 10.046875 1.34375 \nQ 6.90625 4.09375 5.296875 7.890625 \nQ 3.703125 11.703125 3.703125 16.09375 \nQ 3.703125 23.40625 7.453125 28.796875 \nQ 11.203125 34.203125 19.296875 36.296875 \nL 19.296875 36.5 \nQ 13 38.5 9.203125 42.84375 \nQ 5.40625 47.203125 5.40625 53.5 \nQ 5.40625 57.59375 6.84375 61.25 \nQ 8.296875 64.90625 11.25 67.59375 \nQ 14.203125 70.296875 18.640625 71.890625 \nQ 23.09375 73.5 29.09375 73.5 \nQ 35.09375 73.5 39.546875 71.890625 \nQ 44 70.296875 46.953125 67.59375 \nQ 49.90625 64.90625 51.34375 61.25 \nQ 52.796875 57.59375 52.796875 53.5 \nQ 52.796875 47.203125 49 42.84375 \nQ 45.203125 38.5 38.90625 36.5 \nL 38.90625 36.296875 \nQ 47 34.203125 50.75 28.796875 \nQ 54.5 23.40625 54.5 16.09375 \nQ 54.5 11.703125 52.890625 7.890625 \nQ 51.296875 4.09375 48.140625 1.34375 \nQ 45 -1.40625 40.25 -2.953125 \nQ 35.5 -4.5 29.09375 -4.5 \nz\n\" id=\"NanumBarunGothic-56\"/>\n    </defs>\n    <g style=\"fill:#ffffff;\" transform=\"translate(296.999844 88.310625)scale(0.1 -0.1)\">\n     <use xlink:href=\"#NanumBarunGothic-48\"/>\n     <use x=\"58.299988\" xlink:href=\"#NanumBarunGothic-46\"/>\n     <use x=\"87.999985\" xlink:href=\"#NanumBarunGothic-48\"/>\n     <use x=\"146.299973\" xlink:href=\"#NanumBarunGothic-56\"/>\n     <use x=\"204.59996\" xlink:href=\"#NanumBarunGothic-52\"/>\n    </g>\n   </g>\n   <g id=\"text_24\">\n    <!-- 0.28 -->\n    <g style=\"fill:#ffffff;\" transform=\"translate(349.744687 88.310625)scale(0.1 -0.1)\">\n     <use xlink:href=\"#NanumBarunGothic-48\"/>\n     <use x=\"58.299988\" xlink:href=\"#NanumBarunGothic-46\"/>\n     <use x=\"87.999985\" xlink:href=\"#NanumBarunGothic-50\"/>\n     <use x=\"146.299973\" xlink:href=\"#NanumBarunGothic-56\"/>\n    </g>\n   </g>\n   <g id=\"text_25\">\n    <!-- 0.31 -->\n    <g style=\"fill:#ffffff;\" transform=\"translate(100.594688 138.140625)scale(0.1 -0.1)\">\n     <use xlink:href=\"#NanumBarunGothic-48\"/>\n     <use x=\"58.299988\" xlink:href=\"#NanumBarunGothic-46\"/>\n     <use x=\"87.999985\" xlink:href=\"#NanumBarunGothic-51\"/>\n     <use x=\"146.299973\" xlink:href=\"#NanumBarunGothic-49\"/>\n    </g>\n   </g>\n   <g id=\"text_26\">\n    <!-- 0.13 -->\n    <g style=\"fill:#ffffff;\" transform=\"translate(150.424688 138.140625)scale(0.1 -0.1)\">\n     <use xlink:href=\"#NanumBarunGothic-48\"/>\n     <use x=\"58.299988\" xlink:href=\"#NanumBarunGothic-46\"/>\n     <use x=\"87.999985\" xlink:href=\"#NanumBarunGothic-49\"/>\n     <use x=\"146.299973\" xlink:href=\"#NanumBarunGothic-51\"/>\n    </g>\n   </g>\n   <g id=\"text_27\">\n    <!-- 1 -->\n    <g style=\"fill:#262626;\" transform=\"translate(207.569531 138.140625)scale(0.1 -0.1)\">\n     <use xlink:href=\"#NanumBarunGothic-49\"/>\n    </g>\n   </g>\n   <g id=\"text_28\">\n    <!-- 0.45 -->\n    <defs>\n     <path d=\"M 6.796875 8.703125 \nQ 11.59375 5.5 16.59375 3.953125 \nQ 21.59375 2.40625 27.296875 2.40625 \nQ 31.203125 2.5 34.5 3.84375 \nQ 37.796875 5.203125 40.1875 7.5 \nQ 42.59375 9.796875 43.9375 12.9375 \nQ 45.296875 16.09375 45.296875 19.90625 \nQ 45.296875 24.296875 43.640625 27.34375 \nQ 42 30.40625 39.046875 32.296875 \nQ 36.09375 34.203125 32.140625 35.046875 \nQ 28.203125 35.90625 23.59375 35.90625 \nQ 20.09375 35.90625 16.09375 35.40625 \nQ 12.09375 34.90625 8.5 34.09375 \nL 10.59375 71.796875 \nL 49.796875 71.796875 \nL 49.796875 64.90625 \nL 17.796875 64.90625 \nL 16.296875 41.703125 \nL 16.5 41.703125 \nQ 19.40625 42 22 42.203125 \nQ 24.59375 42.40625 27.203125 42.40625 \nQ 33.09375 42.40625 38 40.953125 \nQ 42.90625 39.5 46.453125 36.75 \nQ 50 34 51.953125 29.953125 \nQ 53.90625 25.90625 53.90625 20.796875 \nQ 53.90625 15.5 52.046875 10.84375 \nQ 50.203125 6.203125 46.703125 2.796875 \nQ 43.203125 -0.59375 38.203125 -2.546875 \nQ 33.203125 -4.5 27 -4.5 \nQ 20.296875 -4.40625 15.09375 -3.046875 \nQ 9.90625 -1.703125 5.703125 1.296875 \nL 5.703125 8.203125 \nQ 5.703125 8.796875 6.046875 8.9375 \nQ 6.40625 9.09375 6.796875 8.703125 \nz\n\" id=\"NanumBarunGothic-53\"/>\n    </defs>\n    <g style=\"fill:#ffffff;\" transform=\"translate(250.084687 138.140625)scale(0.1 -0.1)\">\n     <use xlink:href=\"#NanumBarunGothic-48\"/>\n     <use x=\"58.299988\" xlink:href=\"#NanumBarunGothic-46\"/>\n     <use x=\"87.999985\" xlink:href=\"#NanumBarunGothic-52\"/>\n     <use x=\"146.299973\" xlink:href=\"#NanumBarunGothic-53\"/>\n    </g>\n   </g>\n   <g id=\"text_29\">\n    <!-- 0.014 -->\n    <g style=\"fill:#ffffff;\" transform=\"translate(296.999844 138.140625)scale(0.1 -0.1)\">\n     <use xlink:href=\"#NanumBarunGothic-48\"/>\n     <use x=\"58.299988\" xlink:href=\"#NanumBarunGothic-46\"/>\n     <use x=\"87.999985\" xlink:href=\"#NanumBarunGothic-48\"/>\n     <use x=\"146.299973\" xlink:href=\"#NanumBarunGothic-49\"/>\n     <use x=\"204.59996\" xlink:href=\"#NanumBarunGothic-52\"/>\n    </g>\n   </g>\n   <g id=\"text_30\">\n    <!-- 0.26 -->\n    <g style=\"fill:#ffffff;\" transform=\"translate(349.744687 138.140625)scale(0.1 -0.1)\">\n     <use xlink:href=\"#NanumBarunGothic-48\"/>\n     <use x=\"58.299988\" xlink:href=\"#NanumBarunGothic-46\"/>\n     <use x=\"87.999985\" xlink:href=\"#NanumBarunGothic-50\"/>\n     <use x=\"146.299973\" xlink:href=\"#NanumBarunGothic-54\"/>\n    </g>\n   </g>\n   <g id=\"text_31\">\n    <!-- 0.62 -->\n    <g style=\"fill:#ffffff;\" transform=\"translate(100.594688 187.970625)scale(0.1 -0.1)\">\n     <use xlink:href=\"#NanumBarunGothic-48\"/>\n     <use x=\"58.299988\" xlink:href=\"#NanumBarunGothic-46\"/>\n     <use x=\"87.999985\" xlink:href=\"#NanumBarunGothic-54\"/>\n     <use x=\"146.299973\" xlink:href=\"#NanumBarunGothic-50\"/>\n    </g>\n   </g>\n   <g id=\"text_32\">\n    <!-- 0.32 -->\n    <g style=\"fill:#ffffff;\" transform=\"translate(150.424688 187.970625)scale(0.1 -0.1)\">\n     <use xlink:href=\"#NanumBarunGothic-48\"/>\n     <use x=\"58.299988\" xlink:href=\"#NanumBarunGothic-46\"/>\n     <use x=\"87.999985\" xlink:href=\"#NanumBarunGothic-51\"/>\n     <use x=\"146.299973\" xlink:href=\"#NanumBarunGothic-50\"/>\n    </g>\n   </g>\n   <g id=\"text_33\">\n    <!-- 0.45 -->\n    <g style=\"fill:#ffffff;\" transform=\"translate(200.254687 187.970625)scale(0.1 -0.1)\">\n     <use xlink:href=\"#NanumBarunGothic-48\"/>\n     <use x=\"58.299988\" xlink:href=\"#NanumBarunGothic-46\"/>\n     <use x=\"87.999985\" xlink:href=\"#NanumBarunGothic-52\"/>\n     <use x=\"146.299973\" xlink:href=\"#NanumBarunGothic-53\"/>\n    </g>\n   </g>\n   <g id=\"text_34\">\n    <!-- 1 -->\n    <g style=\"fill:#262626;\" transform=\"translate(257.399531 187.970625)scale(0.1 -0.1)\">\n     <use xlink:href=\"#NanumBarunGothic-49\"/>\n    </g>\n   </g>\n   <g id=\"text_35\">\n    <!-- 0.078 -->\n    <defs>\n     <path d=\"M 23.09375 -3.59375 \nL 14.203125 -3.59375 \nL 44.40625 64.796875 \nL 4.09375 64.796875 \nL 4.09375 71.796875 \nL 52.40625 71.796875 \nL 52.40625 63.5 \nz\n\" id=\"NanumBarunGothic-55\"/>\n    </defs>\n    <g style=\"fill:#ffffff;\" transform=\"translate(296.999844 187.970625)scale(0.1 -0.1)\">\n     <use xlink:href=\"#NanumBarunGothic-48\"/>\n     <use x=\"58.299988\" xlink:href=\"#NanumBarunGothic-46\"/>\n     <use x=\"87.999985\" xlink:href=\"#NanumBarunGothic-48\"/>\n     <use x=\"146.299973\" xlink:href=\"#NanumBarunGothic-55\"/>\n     <use x=\"204.59996\" xlink:href=\"#NanumBarunGothic-56\"/>\n    </g>\n   </g>\n   <g id=\"text_36\">\n    <!-- 0.54 -->\n    <g style=\"fill:#ffffff;\" transform=\"translate(349.744687 187.970625)scale(0.1 -0.1)\">\n     <use xlink:href=\"#NanumBarunGothic-48\"/>\n     <use x=\"58.299988\" xlink:href=\"#NanumBarunGothic-46\"/>\n     <use x=\"87.999985\" xlink:href=\"#NanumBarunGothic-53\"/>\n     <use x=\"146.299973\" xlink:href=\"#NanumBarunGothic-52\"/>\n    </g>\n   </g>\n   <g id=\"text_37\">\n    <!-- 0.11 -->\n    <g style=\"fill:#ffffff;\" transform=\"translate(100.594688 237.800625)scale(0.1 -0.1)\">\n     <use xlink:href=\"#NanumBarunGothic-48\"/>\n     <use x=\"58.299988\" xlink:href=\"#NanumBarunGothic-46\"/>\n     <use x=\"87.999985\" xlink:href=\"#NanumBarunGothic-49\"/>\n     <use x=\"146.299973\" xlink:href=\"#NanumBarunGothic-49\"/>\n    </g>\n   </g>\n   <g id=\"text_38\">\n    <!-- 0.084 -->\n    <g style=\"fill:#ffffff;\" transform=\"translate(147.509844 237.800625)scale(0.1 -0.1)\">\n     <use xlink:href=\"#NanumBarunGothic-48\"/>\n     <use x=\"58.299988\" xlink:href=\"#NanumBarunGothic-46\"/>\n     <use x=\"87.999985\" xlink:href=\"#NanumBarunGothic-48\"/>\n     <use x=\"146.299973\" xlink:href=\"#NanumBarunGothic-56\"/>\n     <use x=\"204.59996\" xlink:href=\"#NanumBarunGothic-52\"/>\n    </g>\n   </g>\n   <g id=\"text_39\">\n    <!-- 0.014 -->\n    <g style=\"fill:#ffffff;\" transform=\"translate(197.339844 237.800625)scale(0.1 -0.1)\">\n     <use xlink:href=\"#NanumBarunGothic-48\"/>\n     <use x=\"58.299988\" xlink:href=\"#NanumBarunGothic-46\"/>\n     <use x=\"87.999985\" xlink:href=\"#NanumBarunGothic-48\"/>\n     <use x=\"146.299973\" xlink:href=\"#NanumBarunGothic-49\"/>\n     <use x=\"204.59996\" xlink:href=\"#NanumBarunGothic-52\"/>\n    </g>\n   </g>\n   <g id=\"text_40\">\n    <!-- 0.078 -->\n    <g style=\"fill:#ffffff;\" transform=\"translate(247.169844 237.800625)scale(0.1 -0.1)\">\n     <use xlink:href=\"#NanumBarunGothic-48\"/>\n     <use x=\"58.299988\" xlink:href=\"#NanumBarunGothic-46\"/>\n     <use x=\"87.999985\" xlink:href=\"#NanumBarunGothic-48\"/>\n     <use x=\"146.299973\" xlink:href=\"#NanumBarunGothic-55\"/>\n     <use x=\"204.59996\" xlink:href=\"#NanumBarunGothic-56\"/>\n    </g>\n   </g>\n   <g id=\"text_41\">\n    <!-- 1 -->\n    <g style=\"fill:#262626;\" transform=\"translate(307.229531 237.800625)scale(0.1 -0.1)\">\n     <use xlink:href=\"#NanumBarunGothic-49\"/>\n    </g>\n   </g>\n   <g id=\"text_42\">\n    <!-- 0.11 -->\n    <g style=\"fill:#ffffff;\" transform=\"translate(349.744687 237.800625)scale(0.1 -0.1)\">\n     <use xlink:href=\"#NanumBarunGothic-48\"/>\n     <use x=\"58.299988\" xlink:href=\"#NanumBarunGothic-46\"/>\n     <use x=\"87.999985\" xlink:href=\"#NanumBarunGothic-49\"/>\n     <use x=\"146.299973\" xlink:href=\"#NanumBarunGothic-49\"/>\n    </g>\n   </g>\n   <g id=\"text_43\">\n    <!-- 0.44 -->\n    <g style=\"fill:#ffffff;\" transform=\"translate(100.594688 287.630625)scale(0.1 -0.1)\">\n     <use xlink:href=\"#NanumBarunGothic-48\"/>\n     <use x=\"58.299988\" xlink:href=\"#NanumBarunGothic-46\"/>\n     <use x=\"87.999985\" xlink:href=\"#NanumBarunGothic-52\"/>\n     <use x=\"146.299973\" xlink:href=\"#NanumBarunGothic-52\"/>\n    </g>\n   </g>\n   <g id=\"text_44\">\n    <!-- 0.28 -->\n    <g style=\"fill:#ffffff;\" transform=\"translate(150.424688 287.630625)scale(0.1 -0.1)\">\n     <use xlink:href=\"#NanumBarunGothic-48\"/>\n     <use x=\"58.299988\" xlink:href=\"#NanumBarunGothic-46\"/>\n     <use x=\"87.999985\" xlink:href=\"#NanumBarunGothic-50\"/>\n     <use x=\"146.299973\" xlink:href=\"#NanumBarunGothic-56\"/>\n    </g>\n   </g>\n   <g id=\"text_45\">\n    <!-- 0.26 -->\n    <g style=\"fill:#ffffff;\" transform=\"translate(200.254687 287.630625)scale(0.1 -0.1)\">\n     <use xlink:href=\"#NanumBarunGothic-48\"/>\n     <use x=\"58.299988\" xlink:href=\"#NanumBarunGothic-46\"/>\n     <use x=\"87.999985\" xlink:href=\"#NanumBarunGothic-50\"/>\n     <use x=\"146.299973\" xlink:href=\"#NanumBarunGothic-54\"/>\n    </g>\n   </g>\n   <g id=\"text_46\">\n    <!-- 0.54 -->\n    <g style=\"fill:#ffffff;\" transform=\"translate(250.084687 287.630625)scale(0.1 -0.1)\">\n     <use xlink:href=\"#NanumBarunGothic-48\"/>\n     <use x=\"58.299988\" xlink:href=\"#NanumBarunGothic-46\"/>\n     <use x=\"87.999985\" xlink:href=\"#NanumBarunGothic-53\"/>\n     <use x=\"146.299973\" xlink:href=\"#NanumBarunGothic-52\"/>\n    </g>\n   </g>\n   <g id=\"text_47\">\n    <!-- 0.11 -->\n    <g style=\"fill:#ffffff;\" transform=\"translate(299.914687 287.630625)scale(0.1 -0.1)\">\n     <use xlink:href=\"#NanumBarunGothic-48\"/>\n     <use x=\"58.299988\" xlink:href=\"#NanumBarunGothic-46\"/>\n     <use x=\"87.999985\" xlink:href=\"#NanumBarunGothic-49\"/>\n     <use x=\"146.299973\" xlink:href=\"#NanumBarunGothic-49\"/>\n    </g>\n   </g>\n   <g id=\"text_48\">\n    <!-- 1 -->\n    <g style=\"fill:#262626;\" transform=\"translate(357.059531 287.630625)scale(0.1 -0.1)\">\n     <use xlink:href=\"#NanumBarunGothic-49\"/>\n    </g>\n   </g>\n  </g>\n  <g id=\"axes_2\">\n   <g id=\"patch_3\">\n    <path clip-path=\"url(#p87524235ea)\" d=\"M 407.209375 310.065156 \nL 407.209375 308.897266 \nL 407.209375 12.253047 \nL 407.209375 11.085156 \nL 422.158375 11.085156 \nL 422.158375 12.253047 \nL 422.158375 308.897266 \nL 422.158375 310.065156 \nz\n\" style=\"fill:#eaeaf2;stroke:#eaeaf2;stroke-linejoin:miter;stroke-width:0.01;\"/>\n   </g>\n   <g id=\"matplotlib.axis_3\"/>\n   <g id=\"matplotlib.axis_4\">\n    <g id=\"ytick_7\">\n     <g id=\"line2d_13\"/>\n     <g id=\"text_49\">\n      <!-- 0.2 -->\n      <g style=\"fill:#262626;\" transform=\"translate(429.158375 257.551887)scale(0.1 -0.1)\">\n       <use xlink:href=\"#NanumBarunGothic-48\"/>\n       <use x=\"58.299988\" xlink:href=\"#NanumBarunGothic-46\"/>\n       <use x=\"87.999985\" xlink:href=\"#NanumBarunGothic-50\"/>\n      </g>\n     </g>\n    </g>\n    <g id=\"ytick_8\">\n     <g id=\"line2d_14\"/>\n     <g id=\"text_50\">\n      <!-- 0.4 -->\n      <g style=\"fill:#262626;\" transform=\"translate(429.158375 196.906493)scale(0.1 -0.1)\">\n       <use xlink:href=\"#NanumBarunGothic-48\"/>\n       <use x=\"58.299988\" xlink:href=\"#NanumBarunGothic-46\"/>\n       <use x=\"87.999985\" xlink:href=\"#NanumBarunGothic-52\"/>\n      </g>\n     </g>\n    </g>\n    <g id=\"ytick_9\">\n     <g id=\"line2d_15\"/>\n     <g id=\"text_51\">\n      <!-- 0.6 -->\n      <g style=\"fill:#262626;\" transform=\"translate(429.158375 136.2611)scale(0.1 -0.1)\">\n       <use xlink:href=\"#NanumBarunGothic-48\"/>\n       <use x=\"58.299988\" xlink:href=\"#NanumBarunGothic-46\"/>\n       <use x=\"87.999985\" xlink:href=\"#NanumBarunGothic-54\"/>\n      </g>\n     </g>\n    </g>\n    <g id=\"ytick_10\">\n     <g id=\"line2d_16\"/>\n     <g id=\"text_52\">\n      <!-- 0.8 -->\n      <g style=\"fill:#262626;\" transform=\"translate(429.158375 75.615706)scale(0.1 -0.1)\">\n       <use xlink:href=\"#NanumBarunGothic-48\"/>\n       <use x=\"58.299988\" xlink:href=\"#NanumBarunGothic-46\"/>\n       <use x=\"87.999985\" xlink:href=\"#NanumBarunGothic-56\"/>\n      </g>\n     </g>\n    </g>\n    <g id=\"ytick_11\">\n     <g id=\"line2d_17\"/>\n     <g id=\"text_53\">\n      <!-- 1.0 -->\n      <g style=\"fill:#262626;\" transform=\"translate(429.158375 14.970312)scale(0.1 -0.1)\">\n       <use xlink:href=\"#NanumBarunGothic-49\"/>\n       <use x=\"58.299988\" xlink:href=\"#NanumBarunGothic-46\"/>\n       <use x=\"87.999985\" xlink:href=\"#NanumBarunGothic-48\"/>\n      </g>\n     </g>\n    </g>\n   </g>\n   <image height=\"299\" id=\"imagec2d7783aec\" transform=\"scale(1 -1)translate(0 -299)\" width=\"15\" x=\"407\" xlink:href=\"data:image/png;base64,\niVBORw0KGgoAAAANSUhEUgAAAA8AAAErCAYAAAABnNneAAAABHNCSVQICAgIfAhkiAAAAZZJREFUeJztm1sOAyEMAwNLL9H733N7BjJSRxbsv+XEzgNROp7P963mt0YXWVVrjD4cgstingA828iiOZOwoWAnWpUpWGaFMavE8mTM/bQ9n2MH4HnMplWpLSn5fOQAZGG3ober/s3Mcu5/sSdASzCvwugABGCvJTPDpgMQgNE5zFRbYha7Slzu16o9cKza/U88b6da1b6gdg9xBBw7AAkY+JxrFQGTxtByNteNNUlCfTYPcWJt96nP3FUvEYwwZ/pMrbLUhlZ5RdJnpgOQ5AyK21Qb7Ng1AVi9GwI5a4ItcKPFwoZdFZkzDBvsG5Qz7CoWtqd2GwvDJoLRn5wIGPls1TYNu89MrdJq2xJslZUzHYAWmAQeysysgmGDG9dQ5gLMtKsSc6ZhS2DxJYuW86oJHshqRUIHIBGMvCj2fB6Wz9AqUW2N2cqZ7qrjBINFoj3lg7Ud6jP5J0jqANTA7DTUZ75q/5f5RKvOYzbXzXlqI2bRqjEeiTnTZ3UAEqsiGwOV5x2A+8xShakD8Fq1812r9pmlGfYDAycuFW1Ob8oAAAAASUVORK5CYII=\" y=\"-10\"/>\n   <g id=\"patch_4\">\n    <path d=\"M 407.209375 310.065156 \nL 407.209375 308.897266 \nL 407.209375 12.253047 \nL 407.209375 11.085156 \nL 422.158375 11.085156 \nL 422.158375 12.253047 \nL 422.158375 308.897266 \nL 422.158375 310.065156 \nz\n\" style=\"fill:none;\"/>\n   </g>\n  </g>\n </g>\n <defs>\n  <clipPath id=\"p8f499889ee\">\n   <rect height=\"298.98\" width=\"298.98\" x=\"85.909375\" y=\"11.085156\"/>\n  </clipPath>\n  <clipPath id=\"p87524235ea\">\n   <rect height=\"298.98\" width=\"14.949\" x=\"407.209375\" y=\"11.085156\"/>\n  </clipPath>\n </defs>\n</svg>\n"
          },
          "metadata": {
            "tags": []
          }
        }
      ]
    },
    {
      "cell_type": "markdown",
      "metadata": {
        "id": "oFj4sAqFZ4f8"
      },
      "source": [
        "#데이터 전처리"
      ]
    },
    {
      "cell_type": "code",
      "metadata": {
        "colab": {
          "base_uri": "https://localhost:8080/"
        },
        "id": "Z_V_LbieZ5j6",
        "outputId": "f8518275-533d-48f2-d3a8-00924298aa2a"
      },
      "source": [
        "#결측치 퍼센트로 확인\n",
        "train.isnull().sum() / train.shape[0]"
      ],
      "execution_count": 39,
      "outputs": [
        {
          "output_type": "execute_result",
          "data": {
            "text/plain": [
              "title             0.00\n",
              "distributor       0.00\n",
              "genre             0.00\n",
              "release_time      0.00\n",
              "time              0.00\n",
              "screening_rat     0.00\n",
              "director          0.00\n",
              "dir_prev_bfnum    0.55\n",
              "dir_prev_num      0.00\n",
              "num_staff         0.00\n",
              "num_actor         0.00\n",
              "box_off_num       0.00\n",
              "dtype: float64"
            ]
          },
          "metadata": {
            "tags": []
          },
          "execution_count": 39
        }
      ]
    },
    {
      "cell_type": "code",
      "metadata": {
        "colab": {
          "base_uri": "https://localhost:8080/",
          "height": 423
        },
        "id": "AOSKnV8GaNeC",
        "outputId": "c0b8701f-63fa-405e-a09b-a0d1f4b8880b"
      },
      "source": [
        "train.loc[train['dir_prev_bfnum'].isnull()]"
      ],
      "execution_count": 44,
      "outputs": [
        {
          "output_type": "execute_result",
          "data": {
            "text/html": [
              "<div>\n",
              "<style scoped>\n",
              "    .dataframe tbody tr th:only-of-type {\n",
              "        vertical-align: middle;\n",
              "    }\n",
              "\n",
              "    .dataframe tbody tr th {\n",
              "        vertical-align: top;\n",
              "    }\n",
              "\n",
              "    .dataframe thead th {\n",
              "        text-align: right;\n",
              "    }\n",
              "</style>\n",
              "<table border=\"1\" class=\"dataframe\">\n",
              "  <thead>\n",
              "    <tr style=\"text-align: right;\">\n",
              "      <th></th>\n",
              "      <th>title</th>\n",
              "      <th>distributor</th>\n",
              "      <th>genre</th>\n",
              "      <th>release_time</th>\n",
              "      <th>time</th>\n",
              "      <th>screening_rat</th>\n",
              "      <th>director</th>\n",
              "      <th>dir_prev_bfnum</th>\n",
              "      <th>dir_prev_num</th>\n",
              "      <th>num_staff</th>\n",
              "      <th>num_actor</th>\n",
              "      <th>box_off_num</th>\n",
              "    </tr>\n",
              "  </thead>\n",
              "  <tbody>\n",
              "    <tr>\n",
              "      <th>0</th>\n",
              "      <td>개들의 전쟁</td>\n",
              "      <td>롯데엔터테인먼트</td>\n",
              "      <td>액션</td>\n",
              "      <td>2012-11-22</td>\n",
              "      <td>96</td>\n",
              "      <td>청소년 관람불가</td>\n",
              "      <td>조병옥</td>\n",
              "      <td>NaN</td>\n",
              "      <td>0</td>\n",
              "      <td>91</td>\n",
              "      <td>2</td>\n",
              "      <td>23398</td>\n",
              "    </tr>\n",
              "    <tr>\n",
              "      <th>6</th>\n",
              "      <td>길위에서</td>\n",
              "      <td>백두대간</td>\n",
              "      <td>다큐멘터리</td>\n",
              "      <td>2013-05-23</td>\n",
              "      <td>104</td>\n",
              "      <td>전체 관람가</td>\n",
              "      <td>이창재</td>\n",
              "      <td>NaN</td>\n",
              "      <td>0</td>\n",
              "      <td>32</td>\n",
              "      <td>5</td>\n",
              "      <td>53526</td>\n",
              "    </tr>\n",
              "    <tr>\n",
              "      <th>8</th>\n",
              "      <td>1789, 바스티유의 연인들</td>\n",
              "      <td>유니버설픽쳐스인터내셔널코리아</td>\n",
              "      <td>뮤지컬</td>\n",
              "      <td>2014-09-18</td>\n",
              "      <td>129</td>\n",
              "      <td>전체 관람가</td>\n",
              "      <td>정성복</td>\n",
              "      <td>NaN</td>\n",
              "      <td>0</td>\n",
              "      <td>3</td>\n",
              "      <td>5</td>\n",
              "      <td>4778</td>\n",
              "    </tr>\n",
              "    <tr>\n",
              "      <th>9</th>\n",
              "      <td>청춘그루브</td>\n",
              "      <td>(주)두타연</td>\n",
              "      <td>드라마</td>\n",
              "      <td>2012-03-15</td>\n",
              "      <td>94</td>\n",
              "      <td>15세 관람가</td>\n",
              "      <td>변성현</td>\n",
              "      <td>NaN</td>\n",
              "      <td>0</td>\n",
              "      <td>138</td>\n",
              "      <td>3</td>\n",
              "      <td>868</td>\n",
              "    </tr>\n",
              "    <tr>\n",
              "      <th>10</th>\n",
              "      <td>AV 아이돌</td>\n",
              "      <td>(주) 케이알씨지</td>\n",
              "      <td>멜로/로맨스</td>\n",
              "      <td>2015-07-27</td>\n",
              "      <td>89</td>\n",
              "      <td>청소년 관람불가</td>\n",
              "      <td>조조 히데오</td>\n",
              "      <td>NaN</td>\n",
              "      <td>0</td>\n",
              "      <td>0</td>\n",
              "      <td>4</td>\n",
              "      <td>745</td>\n",
              "    </tr>\n",
              "    <tr>\n",
              "      <th>...</th>\n",
              "      <td>...</td>\n",
              "      <td>...</td>\n",
              "      <td>...</td>\n",
              "      <td>...</td>\n",
              "      <td>...</td>\n",
              "      <td>...</td>\n",
              "      <td>...</td>\n",
              "      <td>...</td>\n",
              "      <td>...</td>\n",
              "      <td>...</td>\n",
              "      <td>...</td>\n",
              "      <td>...</td>\n",
              "    </tr>\n",
              "    <tr>\n",
              "      <th>593</th>\n",
              "      <td>낭만파 남편의 편지</td>\n",
              "      <td>퍼스트런</td>\n",
              "      <td>미스터리</td>\n",
              "      <td>2013-09-12</td>\n",
              "      <td>97</td>\n",
              "      <td>청소년 관람불가</td>\n",
              "      <td>최위안</td>\n",
              "      <td>NaN</td>\n",
              "      <td>0</td>\n",
              "      <td>5</td>\n",
              "      <td>3</td>\n",
              "      <td>1132</td>\n",
              "    </tr>\n",
              "    <tr>\n",
              "      <th>594</th>\n",
              "      <td>오빠가 돌아왔다</td>\n",
              "      <td>(주)마운틴픽쳐스</td>\n",
              "      <td>코미디</td>\n",
              "      <td>2014-03-20</td>\n",
              "      <td>94</td>\n",
              "      <td>청소년 관람불가</td>\n",
              "      <td>노진수</td>\n",
              "      <td>NaN</td>\n",
              "      <td>0</td>\n",
              "      <td>37</td>\n",
              "      <td>5</td>\n",
              "      <td>1958</td>\n",
              "    </tr>\n",
              "    <tr>\n",
              "      <th>597</th>\n",
              "      <td>살인의 강</td>\n",
              "      <td>(주)마운틴픽쳐스</td>\n",
              "      <td>공포</td>\n",
              "      <td>2010-09-30</td>\n",
              "      <td>99</td>\n",
              "      <td>청소년 관람불가</td>\n",
              "      <td>김대현</td>\n",
              "      <td>NaN</td>\n",
              "      <td>0</td>\n",
              "      <td>123</td>\n",
              "      <td>4</td>\n",
              "      <td>2475</td>\n",
              "    </tr>\n",
              "    <tr>\n",
              "      <th>598</th>\n",
              "      <td>악의 연대기</td>\n",
              "      <td>CJ 엔터테인먼트</td>\n",
              "      <td>느와르</td>\n",
              "      <td>2015-05-14</td>\n",
              "      <td>102</td>\n",
              "      <td>15세 관람가</td>\n",
              "      <td>백운학</td>\n",
              "      <td>NaN</td>\n",
              "      <td>0</td>\n",
              "      <td>431</td>\n",
              "      <td>4</td>\n",
              "      <td>2192525</td>\n",
              "    </tr>\n",
              "    <tr>\n",
              "      <th>599</th>\n",
              "      <td>베를린</td>\n",
              "      <td>CJ 엔터테인먼트</td>\n",
              "      <td>액션</td>\n",
              "      <td>2013-01-30</td>\n",
              "      <td>120</td>\n",
              "      <td>15세 관람가</td>\n",
              "      <td>류승완</td>\n",
              "      <td>NaN</td>\n",
              "      <td>0</td>\n",
              "      <td>363</td>\n",
              "      <td>5</td>\n",
              "      <td>7166532</td>\n",
              "    </tr>\n",
              "  </tbody>\n",
              "</table>\n",
              "<p>330 rows × 12 columns</p>\n",
              "</div>"
            ],
            "text/plain": [
              "               title      distributor  ... num_actor box_off_num\n",
              "0             개들의 전쟁         롯데엔터테인먼트  ...         2       23398\n",
              "6               길위에서             백두대간  ...         5       53526\n",
              "8    1789, 바스티유의 연인들  유니버설픽쳐스인터내셔널코리아  ...         5        4778\n",
              "9              청춘그루브           (주)두타연  ...         3         868\n",
              "10            AV 아이돌        (주) 케이알씨지  ...         4         745\n",
              "..               ...              ...  ...       ...         ...\n",
              "593       낭만파 남편의 편지             퍼스트런  ...         3        1132\n",
              "594         오빠가 돌아왔다        (주)마운틴픽쳐스  ...         5        1958\n",
              "597            살인의 강        (주)마운틴픽쳐스  ...         4        2475\n",
              "598           악의 연대기        CJ 엔터테인먼트  ...         4     2192525\n",
              "599              베를린        CJ 엔터테인먼트  ...         5     7166532\n",
              "\n",
              "[330 rows x 12 columns]"
            ]
          },
          "metadata": {
            "tags": []
          },
          "execution_count": 44
        }
      ]
    },
    {
      "cell_type": "code",
      "metadata": {
        "id": "vULGeu7Jaj6V"
      },
      "source": [
        "train['dir_prev_bfnum'] = train['dir_prev_bfnum'].fillna(0)\n",
        "test['dir_prev_bfnum'] = test['dir_prev_bfnum'].fillna(0)"
      ],
      "execution_count": 52,
      "outputs": []
    },
    {
      "cell_type": "code",
      "metadata": {
        "colab": {
          "base_uri": "https://localhost:8080/"
        },
        "id": "b-gGqZtLbIx5",
        "outputId": "98ec4ccd-3e8f-4fa7-a4bd-a1ecd1c86e72"
      },
      "source": [
        "train.isnull().sum()"
      ],
      "execution_count": 53,
      "outputs": [
        {
          "output_type": "execute_result",
          "data": {
            "text/plain": [
              "title             0\n",
              "distributor       0\n",
              "genre             0\n",
              "release_time      0\n",
              "time              0\n",
              "screening_rat     0\n",
              "director          0\n",
              "dir_prev_bfnum    0\n",
              "dir_prev_num      0\n",
              "num_staff         0\n",
              "num_actor         0\n",
              "box_off_num       0\n",
              "dtype: int64"
            ]
          },
          "metadata": {
            "tags": []
          },
          "execution_count": 53
        }
      ]
    },
    {
      "cell_type": "code",
      "metadata": {
        "colab": {
          "base_uri": "https://localhost:8080/"
        },
        "id": "Zr-Ly8oNbhGq",
        "outputId": "ffbab187-0174-4292-c455-db90669c22b2"
      },
      "source": [
        "test.isnull().sum()"
      ],
      "execution_count": 54,
      "outputs": [
        {
          "output_type": "execute_result",
          "data": {
            "text/plain": [
              "title             0\n",
              "distributor       0\n",
              "genre             0\n",
              "release_time      0\n",
              "time              0\n",
              "screening_rat     0\n",
              "director          0\n",
              "dir_prev_bfnum    0\n",
              "dir_prev_num      0\n",
              "num_staff         0\n",
              "num_actor         0\n",
              "dtype: int64"
            ]
          },
          "metadata": {
            "tags": []
          },
          "execution_count": 54
        }
      ]
    },
    {
      "cell_type": "markdown",
      "metadata": {
        "id": "t0Gwqa13bq2X"
      },
      "source": [
        "# 변수 선택 및 모델 구축"
      ]
    },
    {
      "cell_type": "code",
      "metadata": {
        "id": "B1TwVKCGb_93"
      },
      "source": [
        "features = ['time', \"dir_prev_num\",'num_staff',\"num_actor\"]\n",
        "target = ['box_off_num']"
      ],
      "execution_count": 57,
      "outputs": []
    },
    {
      "cell_type": "code",
      "metadata": {
        "colab": {
          "base_uri": "https://localhost:8080/"
        },
        "id": "dPA4S99Mb_75",
        "outputId": "90f74681-221b-4b26-baa9-7c6e2870ac80"
      },
      "source": [
        "X_train, X_test, y_train = train[features], test[features], train[target]\n",
        "X_train.shape, X_test.shape, y_train.shape"
      ],
      "execution_count": 58,
      "outputs": [
        {
          "output_type": "execute_result",
          "data": {
            "text/plain": [
              "((600, 4), (243, 4), (600, 1))"
            ]
          },
          "metadata": {
            "tags": []
          },
          "execution_count": 58
        }
      ]
    },
    {
      "cell_type": "markdown",
      "metadata": {
        "id": "w8g-cRUIZv8m"
      },
      "source": [
        "# 모델 학습 및 검증\n",
        "\n",
        "1. lightBGM(base model)\n",
        "2. k-fold lightGBM(k-fold model)\n",
        "3. feature engineering\n",
        "4. grid search(hyperparameter tuning)"
      ]
    },
    {
      "cell_type": "markdown",
      "metadata": {
        "id": "vRdyPxefbjsA"
      },
      "source": [
        "## LightGBM"
      ]
    },
    {
      "cell_type": "code",
      "metadata": {
        "id": "n2aNFG4CeDVT"
      },
      "source": [
        "from lightgbm import LGBMRegressor\n",
        "\n",
        "model = LGBMRegressor(random_state=42, n_esimators= 1000)"
      ],
      "execution_count": 59,
      "outputs": []
    },
    {
      "cell_type": "code",
      "metadata": {
        "colab": {
          "base_uri": "https://localhost:8080/"
        },
        "id": "ONY8TU0geDSu",
        "outputId": "11083ea0-2b28-4af3-82f5-b6a3384ba2fa"
      },
      "source": [
        "model.fit(X_train, y_train)"
      ],
      "execution_count": 65,
      "outputs": [
        {
          "output_type": "execute_result",
          "data": {
            "text/plain": [
              "LGBMRegressor(boosting_type='gbdt', class_weight=None, colsample_bytree=1.0,\n",
              "              importance_type='split', learning_rate=0.1, max_depth=-1,\n",
              "              min_child_samples=20, min_child_weight=0.001, min_split_gain=0.0,\n",
              "              n_esimators=1000, n_estimators=100, n_jobs=-1, num_leaves=31,\n",
              "              objective=None, random_state=42, reg_alpha=0.0, reg_lambda=0.0,\n",
              "              silent=True, subsample=1.0, subsample_for_bin=200000,\n",
              "              subsample_freq=0)"
            ]
          },
          "metadata": {
            "tags": []
          },
          "execution_count": 65
        }
      ]
    },
    {
      "cell_type": "code",
      "metadata": {
        "id": "SmgCzsyqeRTN"
      },
      "source": [
        "submission = pd.read_csv(path + \"submission.csv\")\n",
        "singleLGBM = submission.copy()"
      ],
      "execution_count": 62,
      "outputs": []
    },
    {
      "cell_type": "code",
      "metadata": {
        "colab": {
          "base_uri": "https://localhost:8080/",
          "height": 206
        },
        "id": "D4ahnV1HeYVj",
        "outputId": "9fed4b9e-ff07-401b-8666-0ba0fc7ff344"
      },
      "source": [
        "singleLGBM.head()"
      ],
      "execution_count": 63,
      "outputs": [
        {
          "output_type": "execute_result",
          "data": {
            "text/html": [
              "<div>\n",
              "<style scoped>\n",
              "    .dataframe tbody tr th:only-of-type {\n",
              "        vertical-align: middle;\n",
              "    }\n",
              "\n",
              "    .dataframe tbody tr th {\n",
              "        vertical-align: top;\n",
              "    }\n",
              "\n",
              "    .dataframe thead th {\n",
              "        text-align: right;\n",
              "    }\n",
              "</style>\n",
              "<table border=\"1\" class=\"dataframe\">\n",
              "  <thead>\n",
              "    <tr style=\"text-align: right;\">\n",
              "      <th></th>\n",
              "      <th>title</th>\n",
              "      <th>box_off_num</th>\n",
              "    </tr>\n",
              "  </thead>\n",
              "  <tbody>\n",
              "    <tr>\n",
              "      <th>0</th>\n",
              "      <td>용서는 없다</td>\n",
              "      <td>0</td>\n",
              "    </tr>\n",
              "    <tr>\n",
              "      <th>1</th>\n",
              "      <td>아빠가 여자를 좋아해</td>\n",
              "      <td>0</td>\n",
              "    </tr>\n",
              "    <tr>\n",
              "      <th>2</th>\n",
              "      <td>하모니</td>\n",
              "      <td>0</td>\n",
              "    </tr>\n",
              "    <tr>\n",
              "      <th>3</th>\n",
              "      <td>의형제</td>\n",
              "      <td>0</td>\n",
              "    </tr>\n",
              "    <tr>\n",
              "      <th>4</th>\n",
              "      <td>평행 이론</td>\n",
              "      <td>0</td>\n",
              "    </tr>\n",
              "  </tbody>\n",
              "</table>\n",
              "</div>"
            ],
            "text/plain": [
              "         title  box_off_num\n",
              "0       용서는 없다            0\n",
              "1  아빠가 여자를 좋아해            0\n",
              "2          하모니            0\n",
              "3          의형제            0\n",
              "4        평행 이론            0"
            ]
          },
          "metadata": {
            "tags": []
          },
          "execution_count": 63
        }
      ]
    },
    {
      "cell_type": "code",
      "metadata": {
        "colab": {
          "base_uri": "https://localhost:8080/",
          "height": 206
        },
        "id": "LYOXpPc4eYTZ",
        "outputId": "8cf0aad0-024f-4751-b8e4-69bd1ccea495"
      },
      "source": [
        "singleLGBM['box_off_num'] = model.predict(X_test)\n",
        "singleLGBM.head()"
      ],
      "execution_count": 66,
      "outputs": [
        {
          "output_type": "execute_result",
          "data": {
            "text/html": [
              "<div>\n",
              "<style scoped>\n",
              "    .dataframe tbody tr th:only-of-type {\n",
              "        vertical-align: middle;\n",
              "    }\n",
              "\n",
              "    .dataframe tbody tr th {\n",
              "        vertical-align: top;\n",
              "    }\n",
              "\n",
              "    .dataframe thead th {\n",
              "        text-align: right;\n",
              "    }\n",
              "</style>\n",
              "<table border=\"1\" class=\"dataframe\">\n",
              "  <thead>\n",
              "    <tr style=\"text-align: right;\">\n",
              "      <th></th>\n",
              "      <th>title</th>\n",
              "      <th>box_off_num</th>\n",
              "    </tr>\n",
              "  </thead>\n",
              "  <tbody>\n",
              "    <tr>\n",
              "      <th>0</th>\n",
              "      <td>용서는 없다</td>\n",
              "      <td>3.760144e+06</td>\n",
              "    </tr>\n",
              "    <tr>\n",
              "      <th>1</th>\n",
              "      <td>아빠가 여자를 좋아해</td>\n",
              "      <td>7.579988e+05</td>\n",
              "    </tr>\n",
              "    <tr>\n",
              "      <th>2</th>\n",
              "      <td>하모니</td>\n",
              "      <td>-1.091700e+04</td>\n",
              "    </tr>\n",
              "    <tr>\n",
              "      <th>3</th>\n",
              "      <td>의형제</td>\n",
              "      <td>1.490854e+06</td>\n",
              "    </tr>\n",
              "    <tr>\n",
              "      <th>4</th>\n",
              "      <td>평행 이론</td>\n",
              "      <td>8.458000e+05</td>\n",
              "    </tr>\n",
              "  </tbody>\n",
              "</table>\n",
              "</div>"
            ],
            "text/plain": [
              "         title   box_off_num\n",
              "0       용서는 없다  3.760144e+06\n",
              "1  아빠가 여자를 좋아해  7.579988e+05\n",
              "2          하모니 -1.091700e+04\n",
              "3          의형제  1.490854e+06\n",
              "4        평행 이론  8.458000e+05"
            ]
          },
          "metadata": {
            "tags": []
          },
          "execution_count": 66
        }
      ]
    },
    {
      "cell_type": "code",
      "metadata": {
        "id": "xqUVYg5AeYQ6"
      },
      "source": [
        "singleLGBM.to_csv('singleLGBM.csv', index=False)"
      ],
      "execution_count": 67,
      "outputs": []
    },
    {
      "cell_type": "markdown",
      "metadata": {
        "id": "9kywMxIqe7KM"
      },
      "source": [
        "## 교차검증(k-fold)\n",
        "\n",
        "- 과대적합 방지\n",
        "- 모델 간 일반적인 성능 비교"
      ]
    },
    {
      "cell_type": "code",
      "metadata": {
        "id": "vJl4Dl6ce_rg"
      },
      "source": [
        "from sklearn.model_selection import KFold"
      ],
      "execution_count": 69,
      "outputs": []
    },
    {
      "cell_type": "code",
      "metadata": {
        "id": "HIeI332_gm7T"
      },
      "source": [
        "k_fold = KFold(n_splits=5, shuffle=True, random_state=42)"
      ],
      "execution_count": 70,
      "outputs": []
    },
    {
      "cell_type": "code",
      "metadata": {
        "id": "6tAOnMD4gm4p"
      },
      "source": [
        "model = LGBMRegressor(random_state=42, n_estimators=1000)"
      ],
      "execution_count": 71,
      "outputs": []
    },
    {
      "cell_type": "code",
      "metadata": {
        "id": "BgnurEk8gm2S"
      },
      "source": [
        "models = []"
      ],
      "execution_count": 72,
      "outputs": []
    },
    {
      "cell_type": "code",
      "metadata": {
        "colab": {
          "base_uri": "https://localhost:8080/"
        },
        "id": "Yd8jPbqegmyj",
        "outputId": "df87b613-ead1-4889-e5f9-dd7f4dd2b021"
      },
      "source": [
        "for train_idx, val_idx in k_fold.split(X_train):\n",
        "  x_t = X_train.iloc[train_idx]\n",
        "  y_t = y_train.iloc[train_idx]\n",
        "  x_val = X_train.iloc[val_idx]\n",
        "  y_val = y_train.iloc[val_idx]\n",
        "\n",
        "  models.append(model.fit(x_t, y_t, eval_set=(x_val, y_val), early_stopping_rounds=100, verbose=100))"
      ],
      "execution_count": 76,
      "outputs": [
        {
          "output_type": "stream",
          "text": [
            "Training until validation scores don't improve for 100 rounds.\n",
            "[100]\tvalid_0's l2: 2.37794e+12\n",
            "Early stopping, best iteration is:\n",
            "[7]\tvalid_0's l2: 1.24852e+12\n",
            "Training until validation scores don't improve for 100 rounds.\n",
            "[100]\tvalid_0's l2: 1.37353e+12\n",
            "Early stopping, best iteration is:\n",
            "[13]\tvalid_0's l2: 1.19321e+12\n",
            "Training until validation scores don't improve for 100 rounds.\n",
            "[100]\tvalid_0's l2: 2.76187e+12\n",
            "Early stopping, best iteration is:\n",
            "[18]\tvalid_0's l2: 2.37215e+12\n",
            "Training until validation scores don't improve for 100 rounds.\n",
            "[100]\tvalid_0's l2: 2.67389e+12\n",
            "Early stopping, best iteration is:\n",
            "[96]\tvalid_0's l2: 2.64334e+12\n",
            "Training until validation scores don't improve for 100 rounds.\n",
            "[100]\tvalid_0's l2: 3.39842e+12\n",
            "Early stopping, best iteration is:\n",
            "[25]\tvalid_0's l2: 3.2135e+12\n"
          ],
          "name": "stdout"
        }
      ]
    },
    {
      "cell_type": "code",
      "metadata": {
        "colab": {
          "base_uri": "https://localhost:8080/"
        },
        "id": "HnPygwuHgmvt",
        "outputId": "001f7b43-d4d2-4bed-8d8f-c1749365b103"
      },
      "source": [
        "preds = []\n",
        "for model in models:\n",
        "  preds.append(model.predict(X_test))\n",
        "  \n",
        "print(len(preds))"
      ],
      "execution_count": 77,
      "outputs": [
        {
          "output_type": "stream",
          "text": [
            "5\n"
          ],
          "name": "stdout"
        }
      ]
    },
    {
      "cell_type": "code",
      "metadata": {
        "colab": {
          "base_uri": "https://localhost:8080/",
          "height": 206
        },
        "id": "Tr-4_euXi4oG",
        "outputId": "dff3efbc-2c13-4570-ab14-98f0c38e87c9"
      },
      "source": [
        "submission = pd.read_csv(path + \"submission.csv\")\n",
        "kfold_submission = submission.copy()\n",
        "kfold_submission.head()"
      ],
      "execution_count": 89,
      "outputs": [
        {
          "output_type": "execute_result",
          "data": {
            "text/html": [
              "<div>\n",
              "<style scoped>\n",
              "    .dataframe tbody tr th:only-of-type {\n",
              "        vertical-align: middle;\n",
              "    }\n",
              "\n",
              "    .dataframe tbody tr th {\n",
              "        vertical-align: top;\n",
              "    }\n",
              "\n",
              "    .dataframe thead th {\n",
              "        text-align: right;\n",
              "    }\n",
              "</style>\n",
              "<table border=\"1\" class=\"dataframe\">\n",
              "  <thead>\n",
              "    <tr style=\"text-align: right;\">\n",
              "      <th></th>\n",
              "      <th>title</th>\n",
              "      <th>box_off_num</th>\n",
              "    </tr>\n",
              "  </thead>\n",
              "  <tbody>\n",
              "    <tr>\n",
              "      <th>0</th>\n",
              "      <td>용서는 없다</td>\n",
              "      <td>0</td>\n",
              "    </tr>\n",
              "    <tr>\n",
              "      <th>1</th>\n",
              "      <td>아빠가 여자를 좋아해</td>\n",
              "      <td>0</td>\n",
              "    </tr>\n",
              "    <tr>\n",
              "      <th>2</th>\n",
              "      <td>하모니</td>\n",
              "      <td>0</td>\n",
              "    </tr>\n",
              "    <tr>\n",
              "      <th>3</th>\n",
              "      <td>의형제</td>\n",
              "      <td>0</td>\n",
              "    </tr>\n",
              "    <tr>\n",
              "      <th>4</th>\n",
              "      <td>평행 이론</td>\n",
              "      <td>0</td>\n",
              "    </tr>\n",
              "  </tbody>\n",
              "</table>\n",
              "</div>"
            ],
            "text/plain": [
              "         title  box_off_num\n",
              "0       용서는 없다            0\n",
              "1  아빠가 여자를 좋아해            0\n",
              "2          하모니            0\n",
              "3          의형제            0\n",
              "4        평행 이론            0"
            ]
          },
          "metadata": {
            "tags": []
          },
          "execution_count": 89
        }
      ]
    },
    {
      "cell_type": "code",
      "metadata": {
        "colab": {
          "base_uri": "https://localhost:8080/",
          "height": 206
        },
        "id": "__xGx2b_i-we",
        "outputId": "9d625d1a-510a-4d2e-e33b-ecaca7d7386b"
      },
      "source": [
        "kfold_submission['box_off_num'] = np.mean(preds, axis=0)\n",
        "kfold_submission.head()"
      ],
      "execution_count": 91,
      "outputs": [
        {
          "output_type": "execute_result",
          "data": {
            "text/html": [
              "<div>\n",
              "<style scoped>\n",
              "    .dataframe tbody tr th:only-of-type {\n",
              "        vertical-align: middle;\n",
              "    }\n",
              "\n",
              "    .dataframe tbody tr th {\n",
              "        vertical-align: top;\n",
              "    }\n",
              "\n",
              "    .dataframe thead th {\n",
              "        text-align: right;\n",
              "    }\n",
              "</style>\n",
              "<table border=\"1\" class=\"dataframe\">\n",
              "  <thead>\n",
              "    <tr style=\"text-align: right;\">\n",
              "      <th></th>\n",
              "      <th>title</th>\n",
              "      <th>box_off_num</th>\n",
              "    </tr>\n",
              "  </thead>\n",
              "  <tbody>\n",
              "    <tr>\n",
              "      <th>0</th>\n",
              "      <td>용서는 없다</td>\n",
              "      <td>3.193546e+06</td>\n",
              "    </tr>\n",
              "    <tr>\n",
              "      <th>1</th>\n",
              "      <td>아빠가 여자를 좋아해</td>\n",
              "      <td>7.890194e+05</td>\n",
              "    </tr>\n",
              "    <tr>\n",
              "      <th>2</th>\n",
              "      <td>하모니</td>\n",
              "      <td>8.253034e+05</td>\n",
              "    </tr>\n",
              "    <tr>\n",
              "      <th>3</th>\n",
              "      <td>의형제</td>\n",
              "      <td>1.924920e+06</td>\n",
              "    </tr>\n",
              "    <tr>\n",
              "      <th>4</th>\n",
              "      <td>평행 이론</td>\n",
              "      <td>9.656126e+05</td>\n",
              "    </tr>\n",
              "  </tbody>\n",
              "</table>\n",
              "</div>"
            ],
            "text/plain": [
              "         title   box_off_num\n",
              "0       용서는 없다  3.193546e+06\n",
              "1  아빠가 여자를 좋아해  7.890194e+05\n",
              "2          하모니  8.253034e+05\n",
              "3          의형제  1.924920e+06\n",
              "4        평행 이론  9.656126e+05"
            ]
          },
          "metadata": {
            "tags": []
          },
          "execution_count": 91
        }
      ]
    },
    {
      "cell_type": "code",
      "metadata": {
        "id": "EPwU4swhlkVg"
      },
      "source": [
        "kfold_submission.to_csv(\"kfold_submission.csv\", index=False)"
      ],
      "execution_count": null,
      "outputs": []
    },
    {
      "cell_type": "markdown",
      "metadata": {
        "id": "4aGllO18kLgG"
      },
      "source": [
        "## feature engineering"
      ]
    },
    {
      "cell_type": "code",
      "metadata": {
        "colab": {
          "base_uri": "https://localhost:8080/"
        },
        "id": "mUqXzRgYkXT-",
        "outputId": "8ae666f8-1326-48a4-b3b1-7b899f1cf59d"
      },
      "source": [
        "features"
      ],
      "execution_count": 93,
      "outputs": [
        {
          "output_type": "execute_result",
          "data": {
            "text/plain": [
              "['time', 'dir_prev_num', 'num_staff', 'num_actor']"
            ]
          },
          "metadata": {
            "tags": []
          },
          "execution_count": 93
        }
      ]
    },
    {
      "cell_type": "code",
      "metadata": {
        "colab": {
          "base_uri": "https://localhost:8080/"
        },
        "id": "aYO7UrUvkXuG",
        "outputId": "ea45992e-6062-42d0-a734-c495fc09e1d9"
      },
      "source": [
        "train.columns"
      ],
      "execution_count": 94,
      "outputs": [
        {
          "output_type": "execute_result",
          "data": {
            "text/plain": [
              "Index(['title', 'distributor', 'genre', 'release_time', 'time',\n",
              "       'screening_rat', 'director', 'dir_prev_bfnum', 'dir_prev_num',\n",
              "       'num_staff', 'num_actor', 'box_off_num'],\n",
              "      dtype='object')"
            ]
          },
          "metadata": {
            "tags": []
          },
          "execution_count": 94
        }
      ]
    },
    {
      "cell_type": "code",
      "metadata": {
        "id": "3VfcugDJkXml"
      },
      "source": [
        "from sklearn.preprocessing import LabelEncoder\n",
        "le = LabelEncoder()\n",
        "train['genre'] = le.fit_transform(train['genre'])\n",
        "test['genre'] = le.transform(test['genre'])"
      ],
      "execution_count": 97,
      "outputs": []
    },
    {
      "cell_type": "code",
      "metadata": {
        "colab": {
          "base_uri": "https://localhost:8080/"
        },
        "id": "MRVchOH6kxSQ",
        "outputId": "ef5a87d9-adbe-4a24-9eb6-cf2ac63499c5"
      },
      "source": [
        "features = ['time', \"dir_prev_num\",'num_staff',\"num_actor\", \"dir_prev_bfnum\",\"genre\"]\n",
        "target = ['box_off_num']\n",
        "\n",
        "X_train, X_test, y_train = train[features], test[features], train[target]\n",
        "X_train.shape, X_test.shape, y_train.shape"
      ],
      "execution_count": 98,
      "outputs": [
        {
          "output_type": "execute_result",
          "data": {
            "text/plain": [
              "((600, 6), (243, 6), (600, 1))"
            ]
          },
          "metadata": {
            "tags": []
          },
          "execution_count": 98
        }
      ]
    },
    {
      "cell_type": "code",
      "metadata": {
        "id": "3_JjAnx2lHqz",
        "colab": {
          "base_uri": "https://localhost:8080/"
        },
        "outputId": "7390f997-05fe-4913-e2be-6659b19a8946"
      },
      "source": [
        "from sklearn.model_selection import KFold\n",
        "k_fold = KFold(n_splits=5, shuffle=True, random_state=42)\n",
        "model = LGBMRegressor(random_state=42, n_estimators=1000)\n",
        "models = []\n",
        "\n",
        "for train_idx, val_idx in k_fold.split(X_train):\n",
        "  x_t = X_train.iloc[train_idx]\n",
        "  y_t = y_train.iloc[train_idx]\n",
        "  x_val = X_train.iloc[val_idx]\n",
        "  y_val = y_train.iloc[val_idx]\n",
        "\n",
        "  models.append(model.fit(x_t, y_t, eval_set=(x_val, y_val), early_stopping_rounds=100, verbose=100))"
      ],
      "execution_count": 99,
      "outputs": [
        {
          "output_type": "stream",
          "text": [
            "Training until validation scores don't improve for 100 rounds.\n",
            "[100]\tvalid_0's l2: 2.11116e+12\n",
            "Early stopping, best iteration is:\n",
            "[7]\tvalid_0's l2: 1.24145e+12\n",
            "Training until validation scores don't improve for 100 rounds.\n",
            "[100]\tvalid_0's l2: 1.04315e+12\n",
            "Early stopping, best iteration is:\n",
            "[80]\tvalid_0's l2: 9.95514e+11\n",
            "Training until validation scores don't improve for 100 rounds.\n",
            "[100]\tvalid_0's l2: 2.57987e+12\n",
            "Early stopping, best iteration is:\n",
            "[20]\tvalid_0's l2: 2.35713e+12\n",
            "Training until validation scores don't improve for 100 rounds.\n",
            "[100]\tvalid_0's l2: 2.80131e+12\n",
            "[200]\tvalid_0's l2: 2.86524e+12\n",
            "Early stopping, best iteration is:\n",
            "[111]\tvalid_0's l2: 2.77418e+12\n",
            "Training until validation scores don't improve for 100 rounds.\n",
            "[100]\tvalid_0's l2: 3.29601e+12\n",
            "Early stopping, best iteration is:\n",
            "[37]\tvalid_0's l2: 3.11588e+12\n"
          ],
          "name": "stdout"
        }
      ]
    },
    {
      "cell_type": "code",
      "metadata": {
        "colab": {
          "base_uri": "https://localhost:8080/",
          "height": 225
        },
        "id": "fWpOxNT6lyjh",
        "outputId": "aec4b261-23d4-4795-bd0d-33bd2807c53a"
      },
      "source": [
        "preds = []\n",
        "for model in models:\n",
        "  preds.append(model.predict(X_test))\n",
        "  \n",
        "print(len(preds))\n",
        "\n",
        "submission = pd.read_csv(path + \"submission.csv\")\n",
        "kfold_submission_fe = submission.copy()\n",
        "kfold_submission_fe.head()"
      ],
      "execution_count": 100,
      "outputs": [
        {
          "output_type": "stream",
          "text": [
            "5\n"
          ],
          "name": "stdout"
        },
        {
          "output_type": "execute_result",
          "data": {
            "text/html": [
              "<div>\n",
              "<style scoped>\n",
              "    .dataframe tbody tr th:only-of-type {\n",
              "        vertical-align: middle;\n",
              "    }\n",
              "\n",
              "    .dataframe tbody tr th {\n",
              "        vertical-align: top;\n",
              "    }\n",
              "\n",
              "    .dataframe thead th {\n",
              "        text-align: right;\n",
              "    }\n",
              "</style>\n",
              "<table border=\"1\" class=\"dataframe\">\n",
              "  <thead>\n",
              "    <tr style=\"text-align: right;\">\n",
              "      <th></th>\n",
              "      <th>title</th>\n",
              "      <th>box_off_num</th>\n",
              "    </tr>\n",
              "  </thead>\n",
              "  <tbody>\n",
              "    <tr>\n",
              "      <th>0</th>\n",
              "      <td>용서는 없다</td>\n",
              "      <td>0</td>\n",
              "    </tr>\n",
              "    <tr>\n",
              "      <th>1</th>\n",
              "      <td>아빠가 여자를 좋아해</td>\n",
              "      <td>0</td>\n",
              "    </tr>\n",
              "    <tr>\n",
              "      <th>2</th>\n",
              "      <td>하모니</td>\n",
              "      <td>0</td>\n",
              "    </tr>\n",
              "    <tr>\n",
              "      <th>3</th>\n",
              "      <td>의형제</td>\n",
              "      <td>0</td>\n",
              "    </tr>\n",
              "    <tr>\n",
              "      <th>4</th>\n",
              "      <td>평행 이론</td>\n",
              "      <td>0</td>\n",
              "    </tr>\n",
              "  </tbody>\n",
              "</table>\n",
              "</div>"
            ],
            "text/plain": [
              "         title  box_off_num\n",
              "0       용서는 없다            0\n",
              "1  아빠가 여자를 좋아해            0\n",
              "2          하모니            0\n",
              "3          의형제            0\n",
              "4        평행 이론            0"
            ]
          },
          "metadata": {
            "tags": []
          },
          "execution_count": 100
        }
      ]
    },
    {
      "cell_type": "code",
      "metadata": {
        "colab": {
          "base_uri": "https://localhost:8080/",
          "height": 206
        },
        "id": "pX4QHDmOl8e8",
        "outputId": "1f5ecf25-70e5-4c5b-b361-e219f8e9ca88"
      },
      "source": [
        "kfold_submission_fe['box_off_num'] = np.mean(preds, axis=0)\n",
        "kfold_submission_fe.head()"
      ],
      "execution_count": 101,
      "outputs": [
        {
          "output_type": "execute_result",
          "data": {
            "text/html": [
              "<div>\n",
              "<style scoped>\n",
              "    .dataframe tbody tr th:only-of-type {\n",
              "        vertical-align: middle;\n",
              "    }\n",
              "\n",
              "    .dataframe tbody tr th {\n",
              "        vertical-align: top;\n",
              "    }\n",
              "\n",
              "    .dataframe thead th {\n",
              "        text-align: right;\n",
              "    }\n",
              "</style>\n",
              "<table border=\"1\" class=\"dataframe\">\n",
              "  <thead>\n",
              "    <tr style=\"text-align: right;\">\n",
              "      <th></th>\n",
              "      <th>title</th>\n",
              "      <th>box_off_num</th>\n",
              "    </tr>\n",
              "  </thead>\n",
              "  <tbody>\n",
              "    <tr>\n",
              "      <th>0</th>\n",
              "      <td>용서는 없다</td>\n",
              "      <td>2.533810e+06</td>\n",
              "    </tr>\n",
              "    <tr>\n",
              "      <th>1</th>\n",
              "      <td>아빠가 여자를 좋아해</td>\n",
              "      <td>7.887681e+05</td>\n",
              "    </tr>\n",
              "    <tr>\n",
              "      <th>2</th>\n",
              "      <td>하모니</td>\n",
              "      <td>8.002678e+05</td>\n",
              "    </tr>\n",
              "    <tr>\n",
              "      <th>3</th>\n",
              "      <td>의형제</td>\n",
              "      <td>1.967902e+06</td>\n",
              "    </tr>\n",
              "    <tr>\n",
              "      <th>4</th>\n",
              "      <td>평행 이론</td>\n",
              "      <td>1.033341e+06</td>\n",
              "    </tr>\n",
              "  </tbody>\n",
              "</table>\n",
              "</div>"
            ],
            "text/plain": [
              "         title   box_off_num\n",
              "0       용서는 없다  2.533810e+06\n",
              "1  아빠가 여자를 좋아해  7.887681e+05\n",
              "2          하모니  8.002678e+05\n",
              "3          의형제  1.967902e+06\n",
              "4        평행 이론  1.033341e+06"
            ]
          },
          "metadata": {
            "tags": []
          },
          "execution_count": 101
        }
      ]
    },
    {
      "cell_type": "code",
      "metadata": {
        "id": "A9DAcUbkmDrR"
      },
      "source": [
        "kfold_submission_fe.to_csv(\"kfold_submission_fe.csv\", index=False)"
      ],
      "execution_count": 103,
      "outputs": []
    },
    {
      "cell_type": "markdown",
      "metadata": {
        "id": "a2BuaAK9mU-K"
      },
      "source": [
        "##튜닝"
      ]
    },
    {
      "cell_type": "code",
      "metadata": {
        "id": "oA76VMc1o_sC"
      },
      "source": [
        "from sklearn.metrics import mean_squared_error, make_scorer"
      ],
      "execution_count": 116,
      "outputs": []
    },
    {
      "cell_type": "code",
      "metadata": {
        "id": "j4Qh80oxpH83"
      },
      "source": [
        "def rmse(y_true, y_pred):\n",
        "  result = np.sqrt(mean_squared_error(y_true, y_pred))\n",
        "  return result"
      ],
      "execution_count": 117,
      "outputs": []
    },
    {
      "cell_type": "code",
      "metadata": {
        "id": "oJzIK3ErmXt2"
      },
      "source": [
        "from sklearn.model_selection import GridSearchCV\n",
        "\n",
        "model = LGBMRegressor(random_state = 42, n_estimators=1000)\n",
        "\n",
        "params ={\n",
        "    \"learning_rate\" : [0.1, 0.01, 0.003],\n",
        "    \"min_child_samples\" : [20,30]\n",
        "}\n",
        "\n",
        "gs = GridSearchCV(estimator=model,\n",
        "                  param_grid = params,\n",
        "                  scoring = make_scorer(rmse, greater_is_better=False),\n",
        "                  cv = k_fold)"
      ],
      "execution_count": 118,
      "outputs": []
    },
    {
      "cell_type": "code",
      "metadata": {
        "colab": {
          "base_uri": "https://localhost:8080/"
        },
        "id": "6JayxMW1pMQO",
        "outputId": "351d126c-9d33-4f58-e549-7f65bf698d2c"
      },
      "source": [
        "gs.fit(X_train, y_train)"
      ],
      "execution_count": 119,
      "outputs": [
        {
          "output_type": "execute_result",
          "data": {
            "text/plain": [
              "GridSearchCV(cv=KFold(n_splits=5, random_state=42, shuffle=True),\n",
              "             error_score=nan,\n",
              "             estimator=LGBMRegressor(boosting_type='gbdt', class_weight=None,\n",
              "                                     colsample_bytree=1.0,\n",
              "                                     importance_type='split', learning_rate=0.1,\n",
              "                                     max_depth=-1, min_child_samples=20,\n",
              "                                     min_child_weight=0.001, min_split_gain=0.0,\n",
              "                                     n_estimators=1000, n_jobs=-1,\n",
              "                                     num_leaves=31, objective=None,\n",
              "                                     random_state=42, reg_alpha=0.0,\n",
              "                                     reg_lambda=0.0, silent=True, subsample=1.0,\n",
              "                                     subsample_for_bin=200000,\n",
              "                                     subsample_freq=0),\n",
              "             iid='deprecated', n_jobs=None,\n",
              "             param_grid={'learning_rate': [0.1, 0.01, 0.003],\n",
              "                         'min_child_samples': [20, 30]},\n",
              "             pre_dispatch='2*n_jobs', refit=True, return_train_score=False,\n",
              "             scoring=make_scorer(rmse, greater_is_better=False), verbose=0)"
            ]
          },
          "metadata": {
            "tags": []
          },
          "execution_count": 119
        }
      ]
    },
    {
      "cell_type": "code",
      "metadata": {
        "colab": {
          "base_uri": "https://localhost:8080/"
        },
        "id": "jFzDA1wGpOwp",
        "outputId": "a2f42b6d-0436-4334-bb78-39e2a39223ee"
      },
      "source": [
        "gs.best_params_"
      ],
      "execution_count": 120,
      "outputs": [
        {
          "output_type": "execute_result",
          "data": {
            "text/plain": [
              "{'learning_rate': 0.003, 'min_child_samples': 20}"
            ]
          },
          "metadata": {
            "tags": []
          },
          "execution_count": 120
        }
      ]
    },
    {
      "cell_type": "code",
      "metadata": {
        "colab": {
          "base_uri": "https://localhost:8080/"
        },
        "id": "3Fx0Y-WLpTSr",
        "outputId": "5442f2ab-b21f-424d-ab13-a7b30bd523e1"
      },
      "source": [
        "model = gs.best_estimator_\n",
        "\n",
        "models =[]\n",
        "\n",
        "for train_idx, val_idx in k_fold.split(X_train):\n",
        "  x_t = X_train.iloc[train_idx]\n",
        "  y_t = y_train.iloc[train_idx]\n",
        "  x_val = X_train.iloc[val_idx]\n",
        "  y_val = y_train.iloc[val_idx]\n",
        "\n",
        "  models.append(model.fit(x_t, y_t, eval_set=(x_val, y_val), early_stopping_rounds=100, verbose=100))"
      ],
      "execution_count": 121,
      "outputs": [
        {
          "output_type": "stream",
          "text": [
            "Training until validation scores don't improve for 100 rounds.\n",
            "[100]\tvalid_0's l2: 1.37581e+12\n",
            "[200]\tvalid_0's l2: 1.25159e+12\n",
            "[300]\tvalid_0's l2: 1.25625e+12\n",
            "Early stopping, best iteration is:\n",
            "[227]\tvalid_0's l2: 1.24269e+12\n",
            "Training until validation scores don't improve for 100 rounds.\n",
            "[100]\tvalid_0's l2: 1.51413e+12\n",
            "[200]\tvalid_0's l2: 1.3137e+12\n",
            "[300]\tvalid_0's l2: 1.2253e+12\n",
            "[400]\tvalid_0's l2: 1.16048e+12\n",
            "[500]\tvalid_0's l2: 1.1264e+12\n",
            "[600]\tvalid_0's l2: 1.09866e+12\n",
            "[700]\tvalid_0's l2: 1.08304e+12\n",
            "[800]\tvalid_0's l2: 1.07435e+12\n",
            "[900]\tvalid_0's l2: 1.06756e+12\n",
            "[1000]\tvalid_0's l2: 1.06478e+12\n",
            "Did not meet early stopping. Best iteration is:\n",
            "[998]\tvalid_0's l2: 1.06478e+12\n",
            "Training until validation scores don't improve for 100 rounds.\n",
            "[100]\tvalid_0's l2: 3.18145e+12\n",
            "[200]\tvalid_0's l2: 2.79493e+12\n",
            "[300]\tvalid_0's l2: 2.55879e+12\n",
            "[400]\tvalid_0's l2: 2.46127e+12\n",
            "[500]\tvalid_0's l2: 2.40899e+12\n",
            "[600]\tvalid_0's l2: 2.37023e+12\n",
            "[700]\tvalid_0's l2: 2.36598e+12\n",
            "Early stopping, best iteration is:\n",
            "[668]\tvalid_0's l2: 2.35773e+12\n",
            "Training until validation scores don't improve for 100 rounds.\n",
            "[100]\tvalid_0's l2: 3.40213e+12\n",
            "[200]\tvalid_0's l2: 3.1535e+12\n",
            "[300]\tvalid_0's l2: 3.06888e+12\n",
            "[400]\tvalid_0's l2: 3.00059e+12\n",
            "[500]\tvalid_0's l2: 2.95032e+12\n",
            "[600]\tvalid_0's l2: 2.94507e+12\n",
            "Early stopping, best iteration is:\n",
            "[556]\tvalid_0's l2: 2.93894e+12\n",
            "Training until validation scores don't improve for 100 rounds.\n",
            "[100]\tvalid_0's l2: 4.45359e+12\n",
            "[200]\tvalid_0's l2: 3.995e+12\n",
            "[300]\tvalid_0's l2: 3.687e+12\n",
            "[400]\tvalid_0's l2: 3.47724e+12\n",
            "[500]\tvalid_0's l2: 3.3567e+12\n",
            "[600]\tvalid_0's l2: 3.28619e+12\n",
            "[700]\tvalid_0's l2: 3.22566e+12\n",
            "[800]\tvalid_0's l2: 3.18869e+12\n",
            "[900]\tvalid_0's l2: 3.16261e+12\n",
            "[1000]\tvalid_0's l2: 3.1368e+12\n",
            "Did not meet early stopping. Best iteration is:\n",
            "[1000]\tvalid_0's l2: 3.1368e+12\n"
          ],
          "name": "stdout"
        }
      ]
    },
    {
      "cell_type": "code",
      "metadata": {
        "colab": {
          "base_uri": "https://localhost:8080/"
        },
        "id": "yHY9cQCtpktR",
        "outputId": "b7e35c62-e115-438c-fb2a-8fbc69193f69"
      },
      "source": [
        "preds = []\n",
        "for model in models:\n",
        "  preds.append(model.predict(X_test))\n",
        "  \n",
        "print(len(preds))"
      ],
      "execution_count": 122,
      "outputs": [
        {
          "output_type": "stream",
          "text": [
            "5\n"
          ],
          "name": "stdout"
        }
      ]
    },
    {
      "cell_type": "code",
      "metadata": {
        "colab": {
          "base_uri": "https://localhost:8080/",
          "height": 206
        },
        "id": "jUKOwfrXpyf0",
        "outputId": "1baafd28-d863-45af-d50c-925928f3323f"
      },
      "source": [
        "submission = pd.read_csv(path + \"submission.csv\")\n",
        "gs_tuning_submission_2 = submission.copy()\n",
        "gs_tuning_submission_2.head()"
      ],
      "execution_count": 123,
      "outputs": [
        {
          "output_type": "execute_result",
          "data": {
            "text/html": [
              "<div>\n",
              "<style scoped>\n",
              "    .dataframe tbody tr th:only-of-type {\n",
              "        vertical-align: middle;\n",
              "    }\n",
              "\n",
              "    .dataframe tbody tr th {\n",
              "        vertical-align: top;\n",
              "    }\n",
              "\n",
              "    .dataframe thead th {\n",
              "        text-align: right;\n",
              "    }\n",
              "</style>\n",
              "<table border=\"1\" class=\"dataframe\">\n",
              "  <thead>\n",
              "    <tr style=\"text-align: right;\">\n",
              "      <th></th>\n",
              "      <th>title</th>\n",
              "      <th>box_off_num</th>\n",
              "    </tr>\n",
              "  </thead>\n",
              "  <tbody>\n",
              "    <tr>\n",
              "      <th>0</th>\n",
              "      <td>용서는 없다</td>\n",
              "      <td>0</td>\n",
              "    </tr>\n",
              "    <tr>\n",
              "      <th>1</th>\n",
              "      <td>아빠가 여자를 좋아해</td>\n",
              "      <td>0</td>\n",
              "    </tr>\n",
              "    <tr>\n",
              "      <th>2</th>\n",
              "      <td>하모니</td>\n",
              "      <td>0</td>\n",
              "    </tr>\n",
              "    <tr>\n",
              "      <th>3</th>\n",
              "      <td>의형제</td>\n",
              "      <td>0</td>\n",
              "    </tr>\n",
              "    <tr>\n",
              "      <th>4</th>\n",
              "      <td>평행 이론</td>\n",
              "      <td>0</td>\n",
              "    </tr>\n",
              "  </tbody>\n",
              "</table>\n",
              "</div>"
            ],
            "text/plain": [
              "         title  box_off_num\n",
              "0       용서는 없다            0\n",
              "1  아빠가 여자를 좋아해            0\n",
              "2          하모니            0\n",
              "3          의형제            0\n",
              "4        평행 이론            0"
            ]
          },
          "metadata": {
            "tags": []
          },
          "execution_count": 123
        }
      ]
    },
    {
      "cell_type": "code",
      "metadata": {
        "colab": {
          "base_uri": "https://localhost:8080/",
          "height": 206
        },
        "id": "jWltp6lcp1qp",
        "outputId": "81054310-8ea5-4483-b5bb-46cc02669236"
      },
      "source": [
        "gs_tuning_submission_2['box_off_num'] = np.mean(preds, axis=0)\n",
        "gs_tuning_submission_2.head()"
      ],
      "execution_count": 124,
      "outputs": [
        {
          "output_type": "execute_result",
          "data": {
            "text/html": [
              "<div>\n",
              "<style scoped>\n",
              "    .dataframe tbody tr th:only-of-type {\n",
              "        vertical-align: middle;\n",
              "    }\n",
              "\n",
              "    .dataframe tbody tr th {\n",
              "        vertical-align: top;\n",
              "    }\n",
              "\n",
              "    .dataframe thead th {\n",
              "        text-align: right;\n",
              "    }\n",
              "</style>\n",
              "<table border=\"1\" class=\"dataframe\">\n",
              "  <thead>\n",
              "    <tr style=\"text-align: right;\">\n",
              "      <th></th>\n",
              "      <th>title</th>\n",
              "      <th>box_off_num</th>\n",
              "    </tr>\n",
              "  </thead>\n",
              "  <tbody>\n",
              "    <tr>\n",
              "      <th>0</th>\n",
              "      <td>용서는 없다</td>\n",
              "      <td>2.411673e+06</td>\n",
              "    </tr>\n",
              "    <tr>\n",
              "      <th>1</th>\n",
              "      <td>아빠가 여자를 좋아해</td>\n",
              "      <td>6.759119e+05</td>\n",
              "    </tr>\n",
              "    <tr>\n",
              "      <th>2</th>\n",
              "      <td>하모니</td>\n",
              "      <td>7.852997e+05</td>\n",
              "    </tr>\n",
              "    <tr>\n",
              "      <th>3</th>\n",
              "      <td>의형제</td>\n",
              "      <td>1.955722e+06</td>\n",
              "    </tr>\n",
              "    <tr>\n",
              "      <th>4</th>\n",
              "      <td>평행 이론</td>\n",
              "      <td>1.020007e+06</td>\n",
              "    </tr>\n",
              "  </tbody>\n",
              "</table>\n",
              "</div>"
            ],
            "text/plain": [
              "         title   box_off_num\n",
              "0       용서는 없다  2.411673e+06\n",
              "1  아빠가 여자를 좋아해  6.759119e+05\n",
              "2          하모니  7.852997e+05\n",
              "3          의형제  1.955722e+06\n",
              "4        평행 이론  1.020007e+06"
            ]
          },
          "metadata": {
            "tags": []
          },
          "execution_count": 124
        }
      ]
    },
    {
      "cell_type": "code",
      "metadata": {
        "id": "dKo6W5Rzp7ei"
      },
      "source": [
        "gs_tuning_submission_2.to_csv('gs_tuning_submission2.csv', index=False)"
      ],
      "execution_count": 125,
      "outputs": []
    },
    {
      "cell_type": "markdown",
      "metadata": {
        "id": "lNhHXy3TKBtH"
      },
      "source": [
        "# 제출"
      ]
    },
    {
      "cell_type": "code",
      "metadata": {
        "colab": {
          "base_uri": "https://localhost:8080/",
          "height": 206
        },
        "id": "_X__0vr3KoWt",
        "outputId": "a1bbced9-d466-4a9c-de75-797a1ccd45b8"
      },
      "source": [
        "submission = pd.read_csv(path + \"submission.csv\")\n",
        "submission.head()"
      ],
      "execution_count": 60,
      "outputs": [
        {
          "output_type": "execute_result",
          "data": {
            "text/html": [
              "<div>\n",
              "<style scoped>\n",
              "    .dataframe tbody tr th:only-of-type {\n",
              "        vertical-align: middle;\n",
              "    }\n",
              "\n",
              "    .dataframe tbody tr th {\n",
              "        vertical-align: top;\n",
              "    }\n",
              "\n",
              "    .dataframe thead th {\n",
              "        text-align: right;\n",
              "    }\n",
              "</style>\n",
              "<table border=\"1\" class=\"dataframe\">\n",
              "  <thead>\n",
              "    <tr style=\"text-align: right;\">\n",
              "      <th></th>\n",
              "      <th>title</th>\n",
              "      <th>box_off_num</th>\n",
              "    </tr>\n",
              "  </thead>\n",
              "  <tbody>\n",
              "    <tr>\n",
              "      <th>0</th>\n",
              "      <td>용서는 없다</td>\n",
              "      <td>0</td>\n",
              "    </tr>\n",
              "    <tr>\n",
              "      <th>1</th>\n",
              "      <td>아빠가 여자를 좋아해</td>\n",
              "      <td>0</td>\n",
              "    </tr>\n",
              "    <tr>\n",
              "      <th>2</th>\n",
              "      <td>하모니</td>\n",
              "      <td>0</td>\n",
              "    </tr>\n",
              "    <tr>\n",
              "      <th>3</th>\n",
              "      <td>의형제</td>\n",
              "      <td>0</td>\n",
              "    </tr>\n",
              "    <tr>\n",
              "      <th>4</th>\n",
              "      <td>평행 이론</td>\n",
              "      <td>0</td>\n",
              "    </tr>\n",
              "  </tbody>\n",
              "</table>\n",
              "</div>"
            ],
            "text/plain": [
              "         title  box_off_num\n",
              "0       용서는 없다            0\n",
              "1  아빠가 여자를 좋아해            0\n",
              "2          하모니            0\n",
              "3          의형제            0\n",
              "4        평행 이론            0"
            ]
          },
          "metadata": {
            "tags": []
          },
          "execution_count": 60
        }
      ]
    },
    {
      "cell_type": "code",
      "metadata": {
        "colab": {
          "base_uri": "https://localhost:8080/",
          "height": 206
        },
        "id": "T6oQA5piKxQh",
        "outputId": "1320655d-0173-474f-d7a3-a863b54e8bac"
      },
      "source": [
        "submission['box_off_num'] = pred\n",
        "submission.head()"
      ],
      "execution_count": null,
      "outputs": [
        {
          "output_type": "execute_result",
          "data": {
            "text/html": [
              "<div>\n",
              "<style scoped>\n",
              "    .dataframe tbody tr th:only-of-type {\n",
              "        vertical-align: middle;\n",
              "    }\n",
              "\n",
              "    .dataframe tbody tr th {\n",
              "        vertical-align: top;\n",
              "    }\n",
              "\n",
              "    .dataframe thead th {\n",
              "        text-align: right;\n",
              "    }\n",
              "</style>\n",
              "<table border=\"1\" class=\"dataframe\">\n",
              "  <thead>\n",
              "    <tr style=\"text-align: right;\">\n",
              "      <th></th>\n",
              "      <th>title</th>\n",
              "      <th>box_off_num</th>\n",
              "    </tr>\n",
              "  </thead>\n",
              "  <tbody>\n",
              "    <tr>\n",
              "      <th>0</th>\n",
              "      <td>용서는 없다</td>\n",
              "      <td>2.547522e+06</td>\n",
              "    </tr>\n",
              "    <tr>\n",
              "      <th>1</th>\n",
              "      <td>아빠가 여자를 좋아해</td>\n",
              "      <td>9.604168e+05</td>\n",
              "    </tr>\n",
              "    <tr>\n",
              "      <th>2</th>\n",
              "      <td>하모니</td>\n",
              "      <td>1.376409e+06</td>\n",
              "    </tr>\n",
              "    <tr>\n",
              "      <th>3</th>\n",
              "      <td>의형제</td>\n",
              "      <td>1.270179e+06</td>\n",
              "    </tr>\n",
              "    <tr>\n",
              "      <th>4</th>\n",
              "      <td>평행 이론</td>\n",
              "      <td>1.067707e+06</td>\n",
              "    </tr>\n",
              "  </tbody>\n",
              "</table>\n",
              "</div>"
            ],
            "text/plain": [
              "         title   box_off_num\n",
              "0       용서는 없다  2.547522e+06\n",
              "1  아빠가 여자를 좋아해  9.604168e+05\n",
              "2          하모니  1.376409e+06\n",
              "3          의형제  1.270179e+06\n",
              "4        평행 이론  1.067707e+06"
            ]
          },
          "metadata": {
            "tags": []
          },
          "execution_count": 503
        }
      ]
    },
    {
      "cell_type": "code",
      "metadata": {
        "id": "1N18ZhvqK2KL"
      },
      "source": [
        "sub_path = \"/content/drive/MyDrive/Colab Notebooks/DataScience/My CSV/Dacon/movies/\"\n",
        "sub_name = \"rf_submission1.csv\"\n",
        "submission.to_csv(sub_path + sub_name, index=False)"
      ],
      "execution_count": null,
      "outputs": []
    },
    {
      "cell_type": "code",
      "metadata": {
        "id": "ORSVDhRDLLgm"
      },
      "source": [
        ""
      ],
      "execution_count": null,
      "outputs": []
    }
  ]
}