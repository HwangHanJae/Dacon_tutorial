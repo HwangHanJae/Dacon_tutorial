{
  "nbformat": 4,
  "nbformat_minor": 0,
  "metadata": {
    "colab": {
      "name": "pandas_10minutes_tutorial.ipynb",
      "provenance": [],
      "collapsed_sections": [],
      "toc_visible": true,
      "authorship_tag": "ABX9TyMEgKUOc8CemtjdilLJfVeN",
      "include_colab_link": true
    },
    "kernelspec": {
      "name": "python3",
      "display_name": "Python 3"
    },
    "language_info": {
      "name": "python"
    }
  },
  "cells": [
    {
      "cell_type": "markdown",
      "metadata": {
        "id": "view-in-github",
        "colab_type": "text"
      },
      "source": [
        "<a href=\"https://colab.research.google.com/github/HwangHanJae/Dacon_tutorial/blob/main/pandas_10minutes_tutorial.ipynb\" target=\"_parent\"><img src=\"https://colab.research.google.com/assets/colab-badge.svg\" alt=\"Open In Colab\"/></a>"
      ]
    },
    {
      "cell_type": "markdown",
      "metadata": {
        "id": "ZuwNx8zv0osT"
      },
      "source": [
        "# Pandas Tutorial\n",
        "- 10 minutes to pandas"
      ]
    },
    {
      "cell_type": "markdown",
      "metadata": {
        "id": "Mevz6U9500jL"
      },
      "source": [
        "# 라이브러리 로드"
      ]
    },
    {
      "cell_type": "code",
      "metadata": {
        "id": "wNpQQYEq0i6X"
      },
      "source": [
        "import numpy as np\n",
        "import pandas as pd"
      ],
      "execution_count": 1,
      "outputs": []
    },
    {
      "cell_type": "markdown",
      "metadata": {
        "id": "obj52xHz1Evg"
      },
      "source": [
        "# 객체 생성\n",
        "\n"
      ]
    },
    {
      "cell_type": "markdown",
      "metadata": {
        "id": "7hIsrsMs1aQM"
      },
      "source": [
        "value의 리스트를 전달하여 Series 타입을 생성하고 pandas의 기본 인덱스를 적용합니다."
      ]
    },
    {
      "cell_type": "code",
      "metadata": {
        "colab": {
          "base_uri": "https://localhost:8080/"
        },
        "id": "f2W1iNIF1YLX",
        "outputId": "2158c5a6-f657-46c1-abae-b6efa3a8056a"
      },
      "source": [
        "#Input\n",
        "s = pd.Series([1,3,5, np.nan, 6,8])\n",
        "#Output\n",
        "s"
      ],
      "execution_count": 2,
      "outputs": [
        {
          "output_type": "execute_result",
          "data": {
            "text/plain": [
              "0    1.0\n",
              "1    3.0\n",
              "2    5.0\n",
              "3    NaN\n",
              "4    6.0\n",
              "5    8.0\n",
              "dtype: float64"
            ]
          },
          "metadata": {
            "tags": []
          },
          "execution_count": 2
        }
      ]
    },
    {
      "cell_type": "markdown",
      "metadata": {
        "id": "A_BTVKtc1vo7"
      },
      "source": [
        "datatime 타입과 레이블이있는 column과 Numpy array를 전달하여 Dataframe을 생성합니다."
      ]
    },
    {
      "cell_type": "code",
      "metadata": {
        "colab": {
          "base_uri": "https://localhost:8080/"
        },
        "id": "Lv28pYXw1eR8",
        "outputId": "bba446d3-85ec-4d5c-8136-dea788995e59"
      },
      "source": [
        "dates = pd.date_range(\"20130101\", periods=6)\n",
        "dates"
      ],
      "execution_count": 3,
      "outputs": [
        {
          "output_type": "execute_result",
          "data": {
            "text/plain": [
              "DatetimeIndex(['2013-01-01', '2013-01-02', '2013-01-03', '2013-01-04',\n",
              "               '2013-01-05', '2013-01-06'],\n",
              "              dtype='datetime64[ns]', freq='D')"
            ]
          },
          "metadata": {
            "tags": []
          },
          "execution_count": 3
        }
      ]
    },
    {
      "cell_type": "code",
      "metadata": {
        "colab": {
          "base_uri": "https://localhost:8080/",
          "height": 237
        },
        "id": "BIkIY54Y1--g",
        "outputId": "a9aabf69-3eea-4e41-8a82-7854a4ff60d7"
      },
      "source": [
        "df = pd.DataFrame(np.random.randn(6,4), index=dates, columns=list(\"ABCD\"))\n",
        "df"
      ],
      "execution_count": 4,
      "outputs": [
        {
          "output_type": "execute_result",
          "data": {
            "text/html": [
              "<div>\n",
              "<style scoped>\n",
              "    .dataframe tbody tr th:only-of-type {\n",
              "        vertical-align: middle;\n",
              "    }\n",
              "\n",
              "    .dataframe tbody tr th {\n",
              "        vertical-align: top;\n",
              "    }\n",
              "\n",
              "    .dataframe thead th {\n",
              "        text-align: right;\n",
              "    }\n",
              "</style>\n",
              "<table border=\"1\" class=\"dataframe\">\n",
              "  <thead>\n",
              "    <tr style=\"text-align: right;\">\n",
              "      <th></th>\n",
              "      <th>A</th>\n",
              "      <th>B</th>\n",
              "      <th>C</th>\n",
              "      <th>D</th>\n",
              "    </tr>\n",
              "  </thead>\n",
              "  <tbody>\n",
              "    <tr>\n",
              "      <th>2013-01-01</th>\n",
              "      <td>0.497891</td>\n",
              "      <td>-0.195598</td>\n",
              "      <td>-0.520166</td>\n",
              "      <td>-0.101381</td>\n",
              "    </tr>\n",
              "    <tr>\n",
              "      <th>2013-01-02</th>\n",
              "      <td>-0.087665</td>\n",
              "      <td>-1.134527</td>\n",
              "      <td>0.679985</td>\n",
              "      <td>-0.797986</td>\n",
              "    </tr>\n",
              "    <tr>\n",
              "      <th>2013-01-03</th>\n",
              "      <td>-1.653663</td>\n",
              "      <td>0.471665</td>\n",
              "      <td>0.561040</td>\n",
              "      <td>0.901532</td>\n",
              "    </tr>\n",
              "    <tr>\n",
              "      <th>2013-01-04</th>\n",
              "      <td>-0.977763</td>\n",
              "      <td>-0.842951</td>\n",
              "      <td>-1.509517</td>\n",
              "      <td>1.092937</td>\n",
              "    </tr>\n",
              "    <tr>\n",
              "      <th>2013-01-05</th>\n",
              "      <td>1.840194</td>\n",
              "      <td>1.558633</td>\n",
              "      <td>0.247957</td>\n",
              "      <td>-0.402497</td>\n",
              "    </tr>\n",
              "    <tr>\n",
              "      <th>2013-01-06</th>\n",
              "      <td>1.610146</td>\n",
              "      <td>-1.665443</td>\n",
              "      <td>0.303155</td>\n",
              "      <td>-0.206343</td>\n",
              "    </tr>\n",
              "  </tbody>\n",
              "</table>\n",
              "</div>"
            ],
            "text/plain": [
              "                   A         B         C         D\n",
              "2013-01-01  0.497891 -0.195598 -0.520166 -0.101381\n",
              "2013-01-02 -0.087665 -1.134527  0.679985 -0.797986\n",
              "2013-01-03 -1.653663  0.471665  0.561040  0.901532\n",
              "2013-01-04 -0.977763 -0.842951 -1.509517  1.092937\n",
              "2013-01-05  1.840194  1.558633  0.247957 -0.402497\n",
              "2013-01-06  1.610146 -1.665443  0.303155 -0.206343"
            ]
          },
          "metadata": {
            "tags": []
          },
          "execution_count": 4
        }
      ]
    },
    {
      "cell_type": "markdown",
      "metadata": {
        "id": "pUIQtVnM2djQ"
      },
      "source": [
        "Series 타입처럼 변환할수 있는 객체의 dict 타입을 전달하여 DataFrame을 생성합니다."
      ]
    },
    {
      "cell_type": "code",
      "metadata": {
        "colab": {
          "base_uri": "https://localhost:8080/",
          "height": 175
        },
        "id": "KqouzYfo2Puz",
        "outputId": "94cc9876-2027-45e1-8f88-fb0a9c057063"
      },
      "source": [
        "df2 = pd.DataFrame(\n",
        "    {\"A\" : 1.0,\n",
        "    \"B\" : pd.Timestamp(\"20130102\"),\n",
        "    \"C\" : pd.Series(1, index=list(range(4)), dtype=\"float32\"),\n",
        "    \"D\" : np.array([3] *4, dtype=\"int32\"),\n",
        "    \"E\" : pd.Categorical([\"test\",\"train\",\"test\",\"train\"]),\n",
        "    \"F\" : 'foo',}\n",
        ")\n",
        "\n",
        "df2"
      ],
      "execution_count": 5,
      "outputs": [
        {
          "output_type": "execute_result",
          "data": {
            "text/html": [
              "<div>\n",
              "<style scoped>\n",
              "    .dataframe tbody tr th:only-of-type {\n",
              "        vertical-align: middle;\n",
              "    }\n",
              "\n",
              "    .dataframe tbody tr th {\n",
              "        vertical-align: top;\n",
              "    }\n",
              "\n",
              "    .dataframe thead th {\n",
              "        text-align: right;\n",
              "    }\n",
              "</style>\n",
              "<table border=\"1\" class=\"dataframe\">\n",
              "  <thead>\n",
              "    <tr style=\"text-align: right;\">\n",
              "      <th></th>\n",
              "      <th>A</th>\n",
              "      <th>B</th>\n",
              "      <th>C</th>\n",
              "      <th>D</th>\n",
              "      <th>E</th>\n",
              "      <th>F</th>\n",
              "    </tr>\n",
              "  </thead>\n",
              "  <tbody>\n",
              "    <tr>\n",
              "      <th>0</th>\n",
              "      <td>1.0</td>\n",
              "      <td>2013-01-02</td>\n",
              "      <td>1.0</td>\n",
              "      <td>3</td>\n",
              "      <td>test</td>\n",
              "      <td>foo</td>\n",
              "    </tr>\n",
              "    <tr>\n",
              "      <th>1</th>\n",
              "      <td>1.0</td>\n",
              "      <td>2013-01-02</td>\n",
              "      <td>1.0</td>\n",
              "      <td>3</td>\n",
              "      <td>train</td>\n",
              "      <td>foo</td>\n",
              "    </tr>\n",
              "    <tr>\n",
              "      <th>2</th>\n",
              "      <td>1.0</td>\n",
              "      <td>2013-01-02</td>\n",
              "      <td>1.0</td>\n",
              "      <td>3</td>\n",
              "      <td>test</td>\n",
              "      <td>foo</td>\n",
              "    </tr>\n",
              "    <tr>\n",
              "      <th>3</th>\n",
              "      <td>1.0</td>\n",
              "      <td>2013-01-02</td>\n",
              "      <td>1.0</td>\n",
              "      <td>3</td>\n",
              "      <td>train</td>\n",
              "      <td>foo</td>\n",
              "    </tr>\n",
              "  </tbody>\n",
              "</table>\n",
              "</div>"
            ],
            "text/plain": [
              "     A          B    C  D      E    F\n",
              "0  1.0 2013-01-02  1.0  3   test  foo\n",
              "1  1.0 2013-01-02  1.0  3  train  foo\n",
              "2  1.0 2013-01-02  1.0  3   test  foo\n",
              "3  1.0 2013-01-02  1.0  3  train  foo"
            ]
          },
          "metadata": {
            "tags": []
          },
          "execution_count": 5
        }
      ]
    },
    {
      "cell_type": "markdown",
      "metadata": {
        "id": "Z-cwgLLt3b2G"
      },
      "source": [
        "Dataframe의 columns 들은 다른 dtypes를 가지고 있습니다."
      ]
    },
    {
      "cell_type": "code",
      "metadata": {
        "colab": {
          "base_uri": "https://localhost:8080/"
        },
        "id": "uXn_366F3JKa",
        "outputId": "d38e88ef-08b5-43ee-c2d3-9514416d3e64"
      },
      "source": [
        "df2.dtypes"
      ],
      "execution_count": 6,
      "outputs": [
        {
          "output_type": "execute_result",
          "data": {
            "text/plain": [
              "A           float64\n",
              "B    datetime64[ns]\n",
              "C           float32\n",
              "D             int32\n",
              "E          category\n",
              "F            object\n",
              "dtype: object"
            ]
          },
          "metadata": {
            "tags": []
          },
          "execution_count": 6
        }
      ]
    },
    {
      "cell_type": "markdown",
      "metadata": {
        "id": "gXFSKoIQEQ1i"
      },
      "source": [
        "# 데이터 관찰"
      ]
    },
    {
      "cell_type": "markdown",
      "metadata": {
        "id": "dY1pn3YTEWjZ"
      },
      "source": [
        "데이터 프레임의 상단, 하단을 보는 방법입니다."
      ]
    },
    {
      "cell_type": "code",
      "metadata": {
        "colab": {
          "base_uri": "https://localhost:8080/",
          "height": 206
        },
        "id": "L5MVIIndEY_0",
        "outputId": "82fe2e7e-6aea-42a0-b7cc-8884257c3280"
      },
      "source": [
        "df.head()"
      ],
      "execution_count": 7,
      "outputs": [
        {
          "output_type": "execute_result",
          "data": {
            "text/html": [
              "<div>\n",
              "<style scoped>\n",
              "    .dataframe tbody tr th:only-of-type {\n",
              "        vertical-align: middle;\n",
              "    }\n",
              "\n",
              "    .dataframe tbody tr th {\n",
              "        vertical-align: top;\n",
              "    }\n",
              "\n",
              "    .dataframe thead th {\n",
              "        text-align: right;\n",
              "    }\n",
              "</style>\n",
              "<table border=\"1\" class=\"dataframe\">\n",
              "  <thead>\n",
              "    <tr style=\"text-align: right;\">\n",
              "      <th></th>\n",
              "      <th>A</th>\n",
              "      <th>B</th>\n",
              "      <th>C</th>\n",
              "      <th>D</th>\n",
              "    </tr>\n",
              "  </thead>\n",
              "  <tbody>\n",
              "    <tr>\n",
              "      <th>2013-01-01</th>\n",
              "      <td>0.497891</td>\n",
              "      <td>-0.195598</td>\n",
              "      <td>-0.520166</td>\n",
              "      <td>-0.101381</td>\n",
              "    </tr>\n",
              "    <tr>\n",
              "      <th>2013-01-02</th>\n",
              "      <td>-0.087665</td>\n",
              "      <td>-1.134527</td>\n",
              "      <td>0.679985</td>\n",
              "      <td>-0.797986</td>\n",
              "    </tr>\n",
              "    <tr>\n",
              "      <th>2013-01-03</th>\n",
              "      <td>-1.653663</td>\n",
              "      <td>0.471665</td>\n",
              "      <td>0.561040</td>\n",
              "      <td>0.901532</td>\n",
              "    </tr>\n",
              "    <tr>\n",
              "      <th>2013-01-04</th>\n",
              "      <td>-0.977763</td>\n",
              "      <td>-0.842951</td>\n",
              "      <td>-1.509517</td>\n",
              "      <td>1.092937</td>\n",
              "    </tr>\n",
              "    <tr>\n",
              "      <th>2013-01-05</th>\n",
              "      <td>1.840194</td>\n",
              "      <td>1.558633</td>\n",
              "      <td>0.247957</td>\n",
              "      <td>-0.402497</td>\n",
              "    </tr>\n",
              "  </tbody>\n",
              "</table>\n",
              "</div>"
            ],
            "text/plain": [
              "                   A         B         C         D\n",
              "2013-01-01  0.497891 -0.195598 -0.520166 -0.101381\n",
              "2013-01-02 -0.087665 -1.134527  0.679985 -0.797986\n",
              "2013-01-03 -1.653663  0.471665  0.561040  0.901532\n",
              "2013-01-04 -0.977763 -0.842951 -1.509517  1.092937\n",
              "2013-01-05  1.840194  1.558633  0.247957 -0.402497"
            ]
          },
          "metadata": {
            "tags": []
          },
          "execution_count": 7
        }
      ]
    },
    {
      "cell_type": "code",
      "metadata": {
        "colab": {
          "base_uri": "https://localhost:8080/",
          "height": 206
        },
        "id": "6Wjy6CU7EaAO",
        "outputId": "a32d922f-7ddc-47ef-9d30-f7ec3e48cbf3"
      },
      "source": [
        "df.tail()"
      ],
      "execution_count": 8,
      "outputs": [
        {
          "output_type": "execute_result",
          "data": {
            "text/html": [
              "<div>\n",
              "<style scoped>\n",
              "    .dataframe tbody tr th:only-of-type {\n",
              "        vertical-align: middle;\n",
              "    }\n",
              "\n",
              "    .dataframe tbody tr th {\n",
              "        vertical-align: top;\n",
              "    }\n",
              "\n",
              "    .dataframe thead th {\n",
              "        text-align: right;\n",
              "    }\n",
              "</style>\n",
              "<table border=\"1\" class=\"dataframe\">\n",
              "  <thead>\n",
              "    <tr style=\"text-align: right;\">\n",
              "      <th></th>\n",
              "      <th>A</th>\n",
              "      <th>B</th>\n",
              "      <th>C</th>\n",
              "      <th>D</th>\n",
              "    </tr>\n",
              "  </thead>\n",
              "  <tbody>\n",
              "    <tr>\n",
              "      <th>2013-01-02</th>\n",
              "      <td>-0.087665</td>\n",
              "      <td>-1.134527</td>\n",
              "      <td>0.679985</td>\n",
              "      <td>-0.797986</td>\n",
              "    </tr>\n",
              "    <tr>\n",
              "      <th>2013-01-03</th>\n",
              "      <td>-1.653663</td>\n",
              "      <td>0.471665</td>\n",
              "      <td>0.561040</td>\n",
              "      <td>0.901532</td>\n",
              "    </tr>\n",
              "    <tr>\n",
              "      <th>2013-01-04</th>\n",
              "      <td>-0.977763</td>\n",
              "      <td>-0.842951</td>\n",
              "      <td>-1.509517</td>\n",
              "      <td>1.092937</td>\n",
              "    </tr>\n",
              "    <tr>\n",
              "      <th>2013-01-05</th>\n",
              "      <td>1.840194</td>\n",
              "      <td>1.558633</td>\n",
              "      <td>0.247957</td>\n",
              "      <td>-0.402497</td>\n",
              "    </tr>\n",
              "    <tr>\n",
              "      <th>2013-01-06</th>\n",
              "      <td>1.610146</td>\n",
              "      <td>-1.665443</td>\n",
              "      <td>0.303155</td>\n",
              "      <td>-0.206343</td>\n",
              "    </tr>\n",
              "  </tbody>\n",
              "</table>\n",
              "</div>"
            ],
            "text/plain": [
              "                   A         B         C         D\n",
              "2013-01-02 -0.087665 -1.134527  0.679985 -0.797986\n",
              "2013-01-03 -1.653663  0.471665  0.561040  0.901532\n",
              "2013-01-04 -0.977763 -0.842951 -1.509517  1.092937\n",
              "2013-01-05  1.840194  1.558633  0.247957 -0.402497\n",
              "2013-01-06  1.610146 -1.665443  0.303155 -0.206343"
            ]
          },
          "metadata": {
            "tags": []
          },
          "execution_count": 8
        }
      ]
    },
    {
      "cell_type": "markdown",
      "metadata": {
        "id": "wurG2mjMEdFr"
      },
      "source": [
        "index, columns를 표현합니다."
      ]
    },
    {
      "cell_type": "code",
      "metadata": {
        "colab": {
          "base_uri": "https://localhost:8080/"
        },
        "id": "HQ_YDCN7EiM6",
        "outputId": "2568c1d6-bbdd-40b3-c87d-179b1dd2d303"
      },
      "source": [
        "df.index"
      ],
      "execution_count": 9,
      "outputs": [
        {
          "output_type": "execute_result",
          "data": {
            "text/plain": [
              "DatetimeIndex(['2013-01-01', '2013-01-02', '2013-01-03', '2013-01-04',\n",
              "               '2013-01-05', '2013-01-06'],\n",
              "              dtype='datetime64[ns]', freq='D')"
            ]
          },
          "metadata": {
            "tags": []
          },
          "execution_count": 9
        }
      ]
    },
    {
      "cell_type": "code",
      "metadata": {
        "colab": {
          "base_uri": "https://localhost:8080/"
        },
        "id": "XaX0y1CPEjUG",
        "outputId": "c023778e-fca8-4b4f-df1d-8630eec05d8f"
      },
      "source": [
        "df.columns"
      ],
      "execution_count": 10,
      "outputs": [
        {
          "output_type": "execute_result",
          "data": {
            "text/plain": [
              "Index(['A', 'B', 'C', 'D'], dtype='object')"
            ]
          },
          "metadata": {
            "tags": []
          },
          "execution_count": 10
        }
      ]
    },
    {
      "cell_type": "markdown",
      "metadata": {
        "id": "ffEzz2l5EkME"
      },
      "source": [
        "DataFrame.to_numpy()는 NumPy 표현을 제공합니다."
      ]
    },
    {
      "cell_type": "code",
      "metadata": {
        "colab": {
          "base_uri": "https://localhost:8080/",
          "height": 237
        },
        "id": "1KDxP-fmFCIn",
        "outputId": "85ee6779-bed7-4c4f-e744-6b084726c8ae"
      },
      "source": [
        "df"
      ],
      "execution_count": 11,
      "outputs": [
        {
          "output_type": "execute_result",
          "data": {
            "text/html": [
              "<div>\n",
              "<style scoped>\n",
              "    .dataframe tbody tr th:only-of-type {\n",
              "        vertical-align: middle;\n",
              "    }\n",
              "\n",
              "    .dataframe tbody tr th {\n",
              "        vertical-align: top;\n",
              "    }\n",
              "\n",
              "    .dataframe thead th {\n",
              "        text-align: right;\n",
              "    }\n",
              "</style>\n",
              "<table border=\"1\" class=\"dataframe\">\n",
              "  <thead>\n",
              "    <tr style=\"text-align: right;\">\n",
              "      <th></th>\n",
              "      <th>A</th>\n",
              "      <th>B</th>\n",
              "      <th>C</th>\n",
              "      <th>D</th>\n",
              "    </tr>\n",
              "  </thead>\n",
              "  <tbody>\n",
              "    <tr>\n",
              "      <th>2013-01-01</th>\n",
              "      <td>0.497891</td>\n",
              "      <td>-0.195598</td>\n",
              "      <td>-0.520166</td>\n",
              "      <td>-0.101381</td>\n",
              "    </tr>\n",
              "    <tr>\n",
              "      <th>2013-01-02</th>\n",
              "      <td>-0.087665</td>\n",
              "      <td>-1.134527</td>\n",
              "      <td>0.679985</td>\n",
              "      <td>-0.797986</td>\n",
              "    </tr>\n",
              "    <tr>\n",
              "      <th>2013-01-03</th>\n",
              "      <td>-1.653663</td>\n",
              "      <td>0.471665</td>\n",
              "      <td>0.561040</td>\n",
              "      <td>0.901532</td>\n",
              "    </tr>\n",
              "    <tr>\n",
              "      <th>2013-01-04</th>\n",
              "      <td>-0.977763</td>\n",
              "      <td>-0.842951</td>\n",
              "      <td>-1.509517</td>\n",
              "      <td>1.092937</td>\n",
              "    </tr>\n",
              "    <tr>\n",
              "      <th>2013-01-05</th>\n",
              "      <td>1.840194</td>\n",
              "      <td>1.558633</td>\n",
              "      <td>0.247957</td>\n",
              "      <td>-0.402497</td>\n",
              "    </tr>\n",
              "    <tr>\n",
              "      <th>2013-01-06</th>\n",
              "      <td>1.610146</td>\n",
              "      <td>-1.665443</td>\n",
              "      <td>0.303155</td>\n",
              "      <td>-0.206343</td>\n",
              "    </tr>\n",
              "  </tbody>\n",
              "</table>\n",
              "</div>"
            ],
            "text/plain": [
              "                   A         B         C         D\n",
              "2013-01-01  0.497891 -0.195598 -0.520166 -0.101381\n",
              "2013-01-02 -0.087665 -1.134527  0.679985 -0.797986\n",
              "2013-01-03 -1.653663  0.471665  0.561040  0.901532\n",
              "2013-01-04 -0.977763 -0.842951 -1.509517  1.092937\n",
              "2013-01-05  1.840194  1.558633  0.247957 -0.402497\n",
              "2013-01-06  1.610146 -1.665443  0.303155 -0.206343"
            ]
          },
          "metadata": {
            "tags": []
          },
          "execution_count": 11
        }
      ]
    },
    {
      "cell_type": "code",
      "metadata": {
        "colab": {
          "base_uri": "https://localhost:8080/"
        },
        "id": "wKqInYkvE0gU",
        "outputId": "92cda76f-51c5-40ff-d307-eb817f37439e"
      },
      "source": [
        "df.to_numpy()"
      ],
      "execution_count": 12,
      "outputs": [
        {
          "output_type": "execute_result",
          "data": {
            "text/plain": [
              "array([[ 0.49789083, -0.19559814, -0.52016626, -0.10138072],\n",
              "       [-0.08766529, -1.13452737,  0.67998469, -0.79798612],\n",
              "       [-1.65366325,  0.4716652 ,  0.56104012,  0.90153215],\n",
              "       [-0.97776335, -0.84295071, -1.5095174 ,  1.0929371 ],\n",
              "       [ 1.84019442,  1.55863276,  0.24795654, -0.40249686],\n",
              "       [ 1.61014624, -1.66544343,  0.30315529, -0.20634312]])"
            ]
          },
          "metadata": {
            "tags": []
          },
          "execution_count": 12
        }
      ]
    },
    {
      "cell_type": "code",
      "metadata": {
        "id": "uA7GXea8E_de",
        "colab": {
          "base_uri": "https://localhost:8080/",
          "height": 175
        },
        "outputId": "4d07c4ab-c762-4537-a97f-38a5fd7834e6"
      },
      "source": [
        "df2"
      ],
      "execution_count": 13,
      "outputs": [
        {
          "output_type": "execute_result",
          "data": {
            "text/html": [
              "<div>\n",
              "<style scoped>\n",
              "    .dataframe tbody tr th:only-of-type {\n",
              "        vertical-align: middle;\n",
              "    }\n",
              "\n",
              "    .dataframe tbody tr th {\n",
              "        vertical-align: top;\n",
              "    }\n",
              "\n",
              "    .dataframe thead th {\n",
              "        text-align: right;\n",
              "    }\n",
              "</style>\n",
              "<table border=\"1\" class=\"dataframe\">\n",
              "  <thead>\n",
              "    <tr style=\"text-align: right;\">\n",
              "      <th></th>\n",
              "      <th>A</th>\n",
              "      <th>B</th>\n",
              "      <th>C</th>\n",
              "      <th>D</th>\n",
              "      <th>E</th>\n",
              "      <th>F</th>\n",
              "    </tr>\n",
              "  </thead>\n",
              "  <tbody>\n",
              "    <tr>\n",
              "      <th>0</th>\n",
              "      <td>1.0</td>\n",
              "      <td>2013-01-02</td>\n",
              "      <td>1.0</td>\n",
              "      <td>3</td>\n",
              "      <td>test</td>\n",
              "      <td>foo</td>\n",
              "    </tr>\n",
              "    <tr>\n",
              "      <th>1</th>\n",
              "      <td>1.0</td>\n",
              "      <td>2013-01-02</td>\n",
              "      <td>1.0</td>\n",
              "      <td>3</td>\n",
              "      <td>train</td>\n",
              "      <td>foo</td>\n",
              "    </tr>\n",
              "    <tr>\n",
              "      <th>2</th>\n",
              "      <td>1.0</td>\n",
              "      <td>2013-01-02</td>\n",
              "      <td>1.0</td>\n",
              "      <td>3</td>\n",
              "      <td>test</td>\n",
              "      <td>foo</td>\n",
              "    </tr>\n",
              "    <tr>\n",
              "      <th>3</th>\n",
              "      <td>1.0</td>\n",
              "      <td>2013-01-02</td>\n",
              "      <td>1.0</td>\n",
              "      <td>3</td>\n",
              "      <td>train</td>\n",
              "      <td>foo</td>\n",
              "    </tr>\n",
              "  </tbody>\n",
              "</table>\n",
              "</div>"
            ],
            "text/plain": [
              "     A          B    C  D      E    F\n",
              "0  1.0 2013-01-02  1.0  3   test  foo\n",
              "1  1.0 2013-01-02  1.0  3  train  foo\n",
              "2  1.0 2013-01-02  1.0  3   test  foo\n",
              "3  1.0 2013-01-02  1.0  3  train  foo"
            ]
          },
          "metadata": {
            "tags": []
          },
          "execution_count": 13
        }
      ]
    },
    {
      "cell_type": "code",
      "metadata": {
        "colab": {
          "base_uri": "https://localhost:8080/"
        },
        "id": "worljdmrE2iE",
        "outputId": "c07d2537-1d20-44db-f83f-e2180e7aeb66"
      },
      "source": [
        "df2.to_numpy()"
      ],
      "execution_count": 14,
      "outputs": [
        {
          "output_type": "execute_result",
          "data": {
            "text/plain": [
              "array([[1.0, Timestamp('2013-01-02 00:00:00'), 1.0, 3, 'test', 'foo'],\n",
              "       [1.0, Timestamp('2013-01-02 00:00:00'), 1.0, 3, 'train', 'foo'],\n",
              "       [1.0, Timestamp('2013-01-02 00:00:00'), 1.0, 3, 'test', 'foo'],\n",
              "       [1.0, Timestamp('2013-01-02 00:00:00'), 1.0, 3, 'train', 'foo']],\n",
              "      dtype=object)"
            ]
          },
          "metadata": {
            "tags": []
          },
          "execution_count": 14
        }
      ]
    },
    {
      "cell_type": "markdown",
      "metadata": {
        "id": "NcnAybdKE93k"
      },
      "source": [
        "DataFrame.to_numpy()는 index와 columns를 포함하지 않습니다."
      ]
    },
    {
      "cell_type": "markdown",
      "metadata": {
        "id": "IzQJgkBPFL4g"
      },
      "source": [
        "Data를 T(transpose)합니다."
      ]
    },
    {
      "cell_type": "code",
      "metadata": {
        "colab": {
          "base_uri": "https://localhost:8080/",
          "height": 237
        },
        "id": "ZplehJKmFYG6",
        "outputId": "0d6362ea-1f65-428b-cf14-3a2061f7c34d"
      },
      "source": [
        "df"
      ],
      "execution_count": 15,
      "outputs": [
        {
          "output_type": "execute_result",
          "data": {
            "text/html": [
              "<div>\n",
              "<style scoped>\n",
              "    .dataframe tbody tr th:only-of-type {\n",
              "        vertical-align: middle;\n",
              "    }\n",
              "\n",
              "    .dataframe tbody tr th {\n",
              "        vertical-align: top;\n",
              "    }\n",
              "\n",
              "    .dataframe thead th {\n",
              "        text-align: right;\n",
              "    }\n",
              "</style>\n",
              "<table border=\"1\" class=\"dataframe\">\n",
              "  <thead>\n",
              "    <tr style=\"text-align: right;\">\n",
              "      <th></th>\n",
              "      <th>A</th>\n",
              "      <th>B</th>\n",
              "      <th>C</th>\n",
              "      <th>D</th>\n",
              "    </tr>\n",
              "  </thead>\n",
              "  <tbody>\n",
              "    <tr>\n",
              "      <th>2013-01-01</th>\n",
              "      <td>0.497891</td>\n",
              "      <td>-0.195598</td>\n",
              "      <td>-0.520166</td>\n",
              "      <td>-0.101381</td>\n",
              "    </tr>\n",
              "    <tr>\n",
              "      <th>2013-01-02</th>\n",
              "      <td>-0.087665</td>\n",
              "      <td>-1.134527</td>\n",
              "      <td>0.679985</td>\n",
              "      <td>-0.797986</td>\n",
              "    </tr>\n",
              "    <tr>\n",
              "      <th>2013-01-03</th>\n",
              "      <td>-1.653663</td>\n",
              "      <td>0.471665</td>\n",
              "      <td>0.561040</td>\n",
              "      <td>0.901532</td>\n",
              "    </tr>\n",
              "    <tr>\n",
              "      <th>2013-01-04</th>\n",
              "      <td>-0.977763</td>\n",
              "      <td>-0.842951</td>\n",
              "      <td>-1.509517</td>\n",
              "      <td>1.092937</td>\n",
              "    </tr>\n",
              "    <tr>\n",
              "      <th>2013-01-05</th>\n",
              "      <td>1.840194</td>\n",
              "      <td>1.558633</td>\n",
              "      <td>0.247957</td>\n",
              "      <td>-0.402497</td>\n",
              "    </tr>\n",
              "    <tr>\n",
              "      <th>2013-01-06</th>\n",
              "      <td>1.610146</td>\n",
              "      <td>-1.665443</td>\n",
              "      <td>0.303155</td>\n",
              "      <td>-0.206343</td>\n",
              "    </tr>\n",
              "  </tbody>\n",
              "</table>\n",
              "</div>"
            ],
            "text/plain": [
              "                   A         B         C         D\n",
              "2013-01-01  0.497891 -0.195598 -0.520166 -0.101381\n",
              "2013-01-02 -0.087665 -1.134527  0.679985 -0.797986\n",
              "2013-01-03 -1.653663  0.471665  0.561040  0.901532\n",
              "2013-01-04 -0.977763 -0.842951 -1.509517  1.092937\n",
              "2013-01-05  1.840194  1.558633  0.247957 -0.402497\n",
              "2013-01-06  1.610146 -1.665443  0.303155 -0.206343"
            ]
          },
          "metadata": {
            "tags": []
          },
          "execution_count": 15
        }
      ]
    },
    {
      "cell_type": "code",
      "metadata": {
        "colab": {
          "base_uri": "https://localhost:8080/",
          "height": 175
        },
        "id": "WCVY4vhYFVKG",
        "outputId": "23982918-5a22-4705-d74e-de6c83d08239"
      },
      "source": [
        "df.T"
      ],
      "execution_count": 16,
      "outputs": [
        {
          "output_type": "execute_result",
          "data": {
            "text/html": [
              "<div>\n",
              "<style scoped>\n",
              "    .dataframe tbody tr th:only-of-type {\n",
              "        vertical-align: middle;\n",
              "    }\n",
              "\n",
              "    .dataframe tbody tr th {\n",
              "        vertical-align: top;\n",
              "    }\n",
              "\n",
              "    .dataframe thead th {\n",
              "        text-align: right;\n",
              "    }\n",
              "</style>\n",
              "<table border=\"1\" class=\"dataframe\">\n",
              "  <thead>\n",
              "    <tr style=\"text-align: right;\">\n",
              "      <th></th>\n",
              "      <th>2013-01-01</th>\n",
              "      <th>2013-01-02</th>\n",
              "      <th>2013-01-03</th>\n",
              "      <th>2013-01-04</th>\n",
              "      <th>2013-01-05</th>\n",
              "      <th>2013-01-06</th>\n",
              "    </tr>\n",
              "  </thead>\n",
              "  <tbody>\n",
              "    <tr>\n",
              "      <th>A</th>\n",
              "      <td>0.497891</td>\n",
              "      <td>-0.087665</td>\n",
              "      <td>-1.653663</td>\n",
              "      <td>-0.977763</td>\n",
              "      <td>1.840194</td>\n",
              "      <td>1.610146</td>\n",
              "    </tr>\n",
              "    <tr>\n",
              "      <th>B</th>\n",
              "      <td>-0.195598</td>\n",
              "      <td>-1.134527</td>\n",
              "      <td>0.471665</td>\n",
              "      <td>-0.842951</td>\n",
              "      <td>1.558633</td>\n",
              "      <td>-1.665443</td>\n",
              "    </tr>\n",
              "    <tr>\n",
              "      <th>C</th>\n",
              "      <td>-0.520166</td>\n",
              "      <td>0.679985</td>\n",
              "      <td>0.561040</td>\n",
              "      <td>-1.509517</td>\n",
              "      <td>0.247957</td>\n",
              "      <td>0.303155</td>\n",
              "    </tr>\n",
              "    <tr>\n",
              "      <th>D</th>\n",
              "      <td>-0.101381</td>\n",
              "      <td>-0.797986</td>\n",
              "      <td>0.901532</td>\n",
              "      <td>1.092937</td>\n",
              "      <td>-0.402497</td>\n",
              "      <td>-0.206343</td>\n",
              "    </tr>\n",
              "  </tbody>\n",
              "</table>\n",
              "</div>"
            ],
            "text/plain": [
              "   2013-01-01  2013-01-02  2013-01-03  2013-01-04  2013-01-05  2013-01-06\n",
              "A    0.497891   -0.087665   -1.653663   -0.977763    1.840194    1.610146\n",
              "B   -0.195598   -1.134527    0.471665   -0.842951    1.558633   -1.665443\n",
              "C   -0.520166    0.679985    0.561040   -1.509517    0.247957    0.303155\n",
              "D   -0.101381   -0.797986    0.901532    1.092937   -0.402497   -0.206343"
            ]
          },
          "metadata": {
            "tags": []
          },
          "execution_count": 16
        }
      ]
    },
    {
      "cell_type": "markdown",
      "metadata": {
        "id": "3g625yTgFW3V"
      },
      "source": [
        "axis=1(열)을 기준으로 정렬합니다."
      ]
    },
    {
      "cell_type": "code",
      "metadata": {
        "colab": {
          "base_uri": "https://localhost:8080/",
          "height": 237
        },
        "id": "SlJ4tOXnFmqc",
        "outputId": "0ec0dc7f-5af0-4094-96a0-436786ad4ce3"
      },
      "source": [
        "df"
      ],
      "execution_count": 17,
      "outputs": [
        {
          "output_type": "execute_result",
          "data": {
            "text/html": [
              "<div>\n",
              "<style scoped>\n",
              "    .dataframe tbody tr th:only-of-type {\n",
              "        vertical-align: middle;\n",
              "    }\n",
              "\n",
              "    .dataframe tbody tr th {\n",
              "        vertical-align: top;\n",
              "    }\n",
              "\n",
              "    .dataframe thead th {\n",
              "        text-align: right;\n",
              "    }\n",
              "</style>\n",
              "<table border=\"1\" class=\"dataframe\">\n",
              "  <thead>\n",
              "    <tr style=\"text-align: right;\">\n",
              "      <th></th>\n",
              "      <th>A</th>\n",
              "      <th>B</th>\n",
              "      <th>C</th>\n",
              "      <th>D</th>\n",
              "    </tr>\n",
              "  </thead>\n",
              "  <tbody>\n",
              "    <tr>\n",
              "      <th>2013-01-01</th>\n",
              "      <td>0.497891</td>\n",
              "      <td>-0.195598</td>\n",
              "      <td>-0.520166</td>\n",
              "      <td>-0.101381</td>\n",
              "    </tr>\n",
              "    <tr>\n",
              "      <th>2013-01-02</th>\n",
              "      <td>-0.087665</td>\n",
              "      <td>-1.134527</td>\n",
              "      <td>0.679985</td>\n",
              "      <td>-0.797986</td>\n",
              "    </tr>\n",
              "    <tr>\n",
              "      <th>2013-01-03</th>\n",
              "      <td>-1.653663</td>\n",
              "      <td>0.471665</td>\n",
              "      <td>0.561040</td>\n",
              "      <td>0.901532</td>\n",
              "    </tr>\n",
              "    <tr>\n",
              "      <th>2013-01-04</th>\n",
              "      <td>-0.977763</td>\n",
              "      <td>-0.842951</td>\n",
              "      <td>-1.509517</td>\n",
              "      <td>1.092937</td>\n",
              "    </tr>\n",
              "    <tr>\n",
              "      <th>2013-01-05</th>\n",
              "      <td>1.840194</td>\n",
              "      <td>1.558633</td>\n",
              "      <td>0.247957</td>\n",
              "      <td>-0.402497</td>\n",
              "    </tr>\n",
              "    <tr>\n",
              "      <th>2013-01-06</th>\n",
              "      <td>1.610146</td>\n",
              "      <td>-1.665443</td>\n",
              "      <td>0.303155</td>\n",
              "      <td>-0.206343</td>\n",
              "    </tr>\n",
              "  </tbody>\n",
              "</table>\n",
              "</div>"
            ],
            "text/plain": [
              "                   A         B         C         D\n",
              "2013-01-01  0.497891 -0.195598 -0.520166 -0.101381\n",
              "2013-01-02 -0.087665 -1.134527  0.679985 -0.797986\n",
              "2013-01-03 -1.653663  0.471665  0.561040  0.901532\n",
              "2013-01-04 -0.977763 -0.842951 -1.509517  1.092937\n",
              "2013-01-05  1.840194  1.558633  0.247957 -0.402497\n",
              "2013-01-06  1.610146 -1.665443  0.303155 -0.206343"
            ]
          },
          "metadata": {
            "tags": []
          },
          "execution_count": 17
        }
      ]
    },
    {
      "cell_type": "code",
      "metadata": {
        "colab": {
          "base_uri": "https://localhost:8080/",
          "height": 237
        },
        "id": "37nFMi94Fgfk",
        "outputId": "e767b0a6-2c4d-48b9-9351-058809a3846c"
      },
      "source": [
        "df.sort_index(axis=1, ascending=False)"
      ],
      "execution_count": 18,
      "outputs": [
        {
          "output_type": "execute_result",
          "data": {
            "text/html": [
              "<div>\n",
              "<style scoped>\n",
              "    .dataframe tbody tr th:only-of-type {\n",
              "        vertical-align: middle;\n",
              "    }\n",
              "\n",
              "    .dataframe tbody tr th {\n",
              "        vertical-align: top;\n",
              "    }\n",
              "\n",
              "    .dataframe thead th {\n",
              "        text-align: right;\n",
              "    }\n",
              "</style>\n",
              "<table border=\"1\" class=\"dataframe\">\n",
              "  <thead>\n",
              "    <tr style=\"text-align: right;\">\n",
              "      <th></th>\n",
              "      <th>D</th>\n",
              "      <th>C</th>\n",
              "      <th>B</th>\n",
              "      <th>A</th>\n",
              "    </tr>\n",
              "  </thead>\n",
              "  <tbody>\n",
              "    <tr>\n",
              "      <th>2013-01-01</th>\n",
              "      <td>-0.101381</td>\n",
              "      <td>-0.520166</td>\n",
              "      <td>-0.195598</td>\n",
              "      <td>0.497891</td>\n",
              "    </tr>\n",
              "    <tr>\n",
              "      <th>2013-01-02</th>\n",
              "      <td>-0.797986</td>\n",
              "      <td>0.679985</td>\n",
              "      <td>-1.134527</td>\n",
              "      <td>-0.087665</td>\n",
              "    </tr>\n",
              "    <tr>\n",
              "      <th>2013-01-03</th>\n",
              "      <td>0.901532</td>\n",
              "      <td>0.561040</td>\n",
              "      <td>0.471665</td>\n",
              "      <td>-1.653663</td>\n",
              "    </tr>\n",
              "    <tr>\n",
              "      <th>2013-01-04</th>\n",
              "      <td>1.092937</td>\n",
              "      <td>-1.509517</td>\n",
              "      <td>-0.842951</td>\n",
              "      <td>-0.977763</td>\n",
              "    </tr>\n",
              "    <tr>\n",
              "      <th>2013-01-05</th>\n",
              "      <td>-0.402497</td>\n",
              "      <td>0.247957</td>\n",
              "      <td>1.558633</td>\n",
              "      <td>1.840194</td>\n",
              "    </tr>\n",
              "    <tr>\n",
              "      <th>2013-01-06</th>\n",
              "      <td>-0.206343</td>\n",
              "      <td>0.303155</td>\n",
              "      <td>-1.665443</td>\n",
              "      <td>1.610146</td>\n",
              "    </tr>\n",
              "  </tbody>\n",
              "</table>\n",
              "</div>"
            ],
            "text/plain": [
              "                   D         C         B         A\n",
              "2013-01-01 -0.101381 -0.520166 -0.195598  0.497891\n",
              "2013-01-02 -0.797986  0.679985 -1.134527 -0.087665\n",
              "2013-01-03  0.901532  0.561040  0.471665 -1.653663\n",
              "2013-01-04  1.092937 -1.509517 -0.842951 -0.977763\n",
              "2013-01-05 -0.402497  0.247957  1.558633  1.840194\n",
              "2013-01-06 -0.206343  0.303155 -1.665443  1.610146"
            ]
          },
          "metadata": {
            "tags": []
          },
          "execution_count": 18
        }
      ]
    },
    {
      "cell_type": "markdown",
      "metadata": {
        "id": "qbpQocBRFkN6"
      },
      "source": [
        "values를 기준으로 정렬합니다.\n",
        "\n",
        "기본적으로 오름차순이 적용됩니다. ascending = True "
      ]
    },
    {
      "cell_type": "code",
      "metadata": {
        "colab": {
          "base_uri": "https://localhost:8080/",
          "height": 237
        },
        "id": "7w7kMRIRFuM2",
        "outputId": "d968e836-dae3-43fa-8356-47db1c6be55b"
      },
      "source": [
        "df.sort_values(by=\"B\")"
      ],
      "execution_count": 19,
      "outputs": [
        {
          "output_type": "execute_result",
          "data": {
            "text/html": [
              "<div>\n",
              "<style scoped>\n",
              "    .dataframe tbody tr th:only-of-type {\n",
              "        vertical-align: middle;\n",
              "    }\n",
              "\n",
              "    .dataframe tbody tr th {\n",
              "        vertical-align: top;\n",
              "    }\n",
              "\n",
              "    .dataframe thead th {\n",
              "        text-align: right;\n",
              "    }\n",
              "</style>\n",
              "<table border=\"1\" class=\"dataframe\">\n",
              "  <thead>\n",
              "    <tr style=\"text-align: right;\">\n",
              "      <th></th>\n",
              "      <th>A</th>\n",
              "      <th>B</th>\n",
              "      <th>C</th>\n",
              "      <th>D</th>\n",
              "    </tr>\n",
              "  </thead>\n",
              "  <tbody>\n",
              "    <tr>\n",
              "      <th>2013-01-06</th>\n",
              "      <td>1.610146</td>\n",
              "      <td>-1.665443</td>\n",
              "      <td>0.303155</td>\n",
              "      <td>-0.206343</td>\n",
              "    </tr>\n",
              "    <tr>\n",
              "      <th>2013-01-02</th>\n",
              "      <td>-0.087665</td>\n",
              "      <td>-1.134527</td>\n",
              "      <td>0.679985</td>\n",
              "      <td>-0.797986</td>\n",
              "    </tr>\n",
              "    <tr>\n",
              "      <th>2013-01-04</th>\n",
              "      <td>-0.977763</td>\n",
              "      <td>-0.842951</td>\n",
              "      <td>-1.509517</td>\n",
              "      <td>1.092937</td>\n",
              "    </tr>\n",
              "    <tr>\n",
              "      <th>2013-01-01</th>\n",
              "      <td>0.497891</td>\n",
              "      <td>-0.195598</td>\n",
              "      <td>-0.520166</td>\n",
              "      <td>-0.101381</td>\n",
              "    </tr>\n",
              "    <tr>\n",
              "      <th>2013-01-03</th>\n",
              "      <td>-1.653663</td>\n",
              "      <td>0.471665</td>\n",
              "      <td>0.561040</td>\n",
              "      <td>0.901532</td>\n",
              "    </tr>\n",
              "    <tr>\n",
              "      <th>2013-01-05</th>\n",
              "      <td>1.840194</td>\n",
              "      <td>1.558633</td>\n",
              "      <td>0.247957</td>\n",
              "      <td>-0.402497</td>\n",
              "    </tr>\n",
              "  </tbody>\n",
              "</table>\n",
              "</div>"
            ],
            "text/plain": [
              "                   A         B         C         D\n",
              "2013-01-06  1.610146 -1.665443  0.303155 -0.206343\n",
              "2013-01-02 -0.087665 -1.134527  0.679985 -0.797986\n",
              "2013-01-04 -0.977763 -0.842951 -1.509517  1.092937\n",
              "2013-01-01  0.497891 -0.195598 -0.520166 -0.101381\n",
              "2013-01-03 -1.653663  0.471665  0.561040  0.901532\n",
              "2013-01-05  1.840194  1.558633  0.247957 -0.402497"
            ]
          },
          "metadata": {
            "tags": []
          },
          "execution_count": 19
        }
      ]
    },
    {
      "cell_type": "markdown",
      "metadata": {
        "id": "pcJqOgM3SZe8"
      },
      "source": [
        "# 가져오기"
      ]
    },
    {
      "cell_type": "markdown",
      "metadata": {
        "id": "t9aUEM7tSkwE"
      },
      "source": [
        "single column을 선택하면 Series 가 생성이 됩니다.\n",
        "\n",
        "df.A와 기능이 동등합니다."
      ]
    },
    {
      "cell_type": "code",
      "metadata": {
        "colab": {
          "base_uri": "https://localhost:8080/"
        },
        "id": "ZmSEp2dKS92g",
        "outputId": "c2f1a9f0-4877-43be-e974-3ad818796436"
      },
      "source": [
        "df[\"A\"]"
      ],
      "execution_count": 20,
      "outputs": [
        {
          "output_type": "execute_result",
          "data": {
            "text/plain": [
              "2013-01-01    0.497891\n",
              "2013-01-02   -0.087665\n",
              "2013-01-03   -1.653663\n",
              "2013-01-04   -0.977763\n",
              "2013-01-05    1.840194\n",
              "2013-01-06    1.610146\n",
              "Freq: D, Name: A, dtype: float64"
            ]
          },
          "metadata": {
            "tags": []
          },
          "execution_count": 20
        }
      ]
    },
    {
      "cell_type": "markdown",
      "metadata": {
        "id": "oo4oB5joS-uR"
      },
      "source": [
        "[]을 사용하면 행을 분할(슬라이싱) 합니다."
      ]
    },
    {
      "cell_type": "code",
      "metadata": {
        "colab": {
          "base_uri": "https://localhost:8080/",
          "height": 143
        },
        "id": "c-4744oRTMzY",
        "outputId": "928edf21-cefe-49e5-fad2-7077967d2094"
      },
      "source": [
        "df[0:3]"
      ],
      "execution_count": 21,
      "outputs": [
        {
          "output_type": "execute_result",
          "data": {
            "text/html": [
              "<div>\n",
              "<style scoped>\n",
              "    .dataframe tbody tr th:only-of-type {\n",
              "        vertical-align: middle;\n",
              "    }\n",
              "\n",
              "    .dataframe tbody tr th {\n",
              "        vertical-align: top;\n",
              "    }\n",
              "\n",
              "    .dataframe thead th {\n",
              "        text-align: right;\n",
              "    }\n",
              "</style>\n",
              "<table border=\"1\" class=\"dataframe\">\n",
              "  <thead>\n",
              "    <tr style=\"text-align: right;\">\n",
              "      <th></th>\n",
              "      <th>A</th>\n",
              "      <th>B</th>\n",
              "      <th>C</th>\n",
              "      <th>D</th>\n",
              "    </tr>\n",
              "  </thead>\n",
              "  <tbody>\n",
              "    <tr>\n",
              "      <th>2013-01-01</th>\n",
              "      <td>0.497891</td>\n",
              "      <td>-0.195598</td>\n",
              "      <td>-0.520166</td>\n",
              "      <td>-0.101381</td>\n",
              "    </tr>\n",
              "    <tr>\n",
              "      <th>2013-01-02</th>\n",
              "      <td>-0.087665</td>\n",
              "      <td>-1.134527</td>\n",
              "      <td>0.679985</td>\n",
              "      <td>-0.797986</td>\n",
              "    </tr>\n",
              "    <tr>\n",
              "      <th>2013-01-03</th>\n",
              "      <td>-1.653663</td>\n",
              "      <td>0.471665</td>\n",
              "      <td>0.561040</td>\n",
              "      <td>0.901532</td>\n",
              "    </tr>\n",
              "  </tbody>\n",
              "</table>\n",
              "</div>"
            ],
            "text/plain": [
              "                   A         B         C         D\n",
              "2013-01-01  0.497891 -0.195598 -0.520166 -0.101381\n",
              "2013-01-02 -0.087665 -1.134527  0.679985 -0.797986\n",
              "2013-01-03 -1.653663  0.471665  0.561040  0.901532"
            ]
          },
          "metadata": {
            "tags": []
          },
          "execution_count": 21
        }
      ]
    },
    {
      "cell_type": "code",
      "metadata": {
        "colab": {
          "base_uri": "https://localhost:8080/",
          "height": 143
        },
        "id": "BknuO9lBTOPQ",
        "outputId": "faf926c0-9840-43f5-d0be-68d331f39614"
      },
      "source": [
        "df[\"20130102\":\"20130104\"]"
      ],
      "execution_count": 22,
      "outputs": [
        {
          "output_type": "execute_result",
          "data": {
            "text/html": [
              "<div>\n",
              "<style scoped>\n",
              "    .dataframe tbody tr th:only-of-type {\n",
              "        vertical-align: middle;\n",
              "    }\n",
              "\n",
              "    .dataframe tbody tr th {\n",
              "        vertical-align: top;\n",
              "    }\n",
              "\n",
              "    .dataframe thead th {\n",
              "        text-align: right;\n",
              "    }\n",
              "</style>\n",
              "<table border=\"1\" class=\"dataframe\">\n",
              "  <thead>\n",
              "    <tr style=\"text-align: right;\">\n",
              "      <th></th>\n",
              "      <th>A</th>\n",
              "      <th>B</th>\n",
              "      <th>C</th>\n",
              "      <th>D</th>\n",
              "    </tr>\n",
              "  </thead>\n",
              "  <tbody>\n",
              "    <tr>\n",
              "      <th>2013-01-02</th>\n",
              "      <td>-0.087665</td>\n",
              "      <td>-1.134527</td>\n",
              "      <td>0.679985</td>\n",
              "      <td>-0.797986</td>\n",
              "    </tr>\n",
              "    <tr>\n",
              "      <th>2013-01-03</th>\n",
              "      <td>-1.653663</td>\n",
              "      <td>0.471665</td>\n",
              "      <td>0.561040</td>\n",
              "      <td>0.901532</td>\n",
              "    </tr>\n",
              "    <tr>\n",
              "      <th>2013-01-04</th>\n",
              "      <td>-0.977763</td>\n",
              "      <td>-0.842951</td>\n",
              "      <td>-1.509517</td>\n",
              "      <td>1.092937</td>\n",
              "    </tr>\n",
              "  </tbody>\n",
              "</table>\n",
              "</div>"
            ],
            "text/plain": [
              "                   A         B         C         D\n",
              "2013-01-02 -0.087665 -1.134527  0.679985 -0.797986\n",
              "2013-01-03 -1.653663  0.471665  0.561040  0.901532\n",
              "2013-01-04 -0.977763 -0.842951 -1.509517  1.092937"
            ]
          },
          "metadata": {
            "tags": []
          },
          "execution_count": 22
        }
      ]
    },
    {
      "cell_type": "markdown",
      "metadata": {
        "id": "6N6gvzinTSVG"
      },
      "source": [
        "# 레이블별 선택"
      ]
    },
    {
      "cell_type": "markdown",
      "metadata": {
        "id": "Tt7gjsYXTe9R"
      },
      "source": [
        "레이블을 사용하여 가져오기"
      ]
    },
    {
      "cell_type": "code",
      "metadata": {
        "colab": {
          "base_uri": "https://localhost:8080/"
        },
        "id": "CfIVV_NuTnyg",
        "outputId": "549f9b2a-13b3-4c8b-db83-cca81baf6c76"
      },
      "source": [
        "df.loc[dates[0]]"
      ],
      "execution_count": 23,
      "outputs": [
        {
          "output_type": "execute_result",
          "data": {
            "text/plain": [
              "A    0.497891\n",
              "B   -0.195598\n",
              "C   -0.520166\n",
              "D   -0.101381\n",
              "Name: 2013-01-01 00:00:00, dtype: float64"
            ]
          },
          "metadata": {
            "tags": []
          },
          "execution_count": 23
        }
      ]
    },
    {
      "cell_type": "markdown",
      "metadata": {
        "id": "bT0x0_EGTpCk"
      },
      "source": [
        "컬럼을 다중으로 선택하여 가져오기"
      ]
    },
    {
      "cell_type": "code",
      "metadata": {
        "colab": {
          "base_uri": "https://localhost:8080/",
          "height": 237
        },
        "id": "KDkcryxkT2_T",
        "outputId": "73e87e78-dc03-4bcc-ff3f-2b6985112a44"
      },
      "source": [
        "df.loc[:, [\"A\", \"B\"]]"
      ],
      "execution_count": 24,
      "outputs": [
        {
          "output_type": "execute_result",
          "data": {
            "text/html": [
              "<div>\n",
              "<style scoped>\n",
              "    .dataframe tbody tr th:only-of-type {\n",
              "        vertical-align: middle;\n",
              "    }\n",
              "\n",
              "    .dataframe tbody tr th {\n",
              "        vertical-align: top;\n",
              "    }\n",
              "\n",
              "    .dataframe thead th {\n",
              "        text-align: right;\n",
              "    }\n",
              "</style>\n",
              "<table border=\"1\" class=\"dataframe\">\n",
              "  <thead>\n",
              "    <tr style=\"text-align: right;\">\n",
              "      <th></th>\n",
              "      <th>A</th>\n",
              "      <th>B</th>\n",
              "    </tr>\n",
              "  </thead>\n",
              "  <tbody>\n",
              "    <tr>\n",
              "      <th>2013-01-01</th>\n",
              "      <td>0.497891</td>\n",
              "      <td>-0.195598</td>\n",
              "    </tr>\n",
              "    <tr>\n",
              "      <th>2013-01-02</th>\n",
              "      <td>-0.087665</td>\n",
              "      <td>-1.134527</td>\n",
              "    </tr>\n",
              "    <tr>\n",
              "      <th>2013-01-03</th>\n",
              "      <td>-1.653663</td>\n",
              "      <td>0.471665</td>\n",
              "    </tr>\n",
              "    <tr>\n",
              "      <th>2013-01-04</th>\n",
              "      <td>-0.977763</td>\n",
              "      <td>-0.842951</td>\n",
              "    </tr>\n",
              "    <tr>\n",
              "      <th>2013-01-05</th>\n",
              "      <td>1.840194</td>\n",
              "      <td>1.558633</td>\n",
              "    </tr>\n",
              "    <tr>\n",
              "      <th>2013-01-06</th>\n",
              "      <td>1.610146</td>\n",
              "      <td>-1.665443</td>\n",
              "    </tr>\n",
              "  </tbody>\n",
              "</table>\n",
              "</div>"
            ],
            "text/plain": [
              "                   A         B\n",
              "2013-01-01  0.497891 -0.195598\n",
              "2013-01-02 -0.087665 -1.134527\n",
              "2013-01-03 -1.653663  0.471665\n",
              "2013-01-04 -0.977763 -0.842951\n",
              "2013-01-05  1.840194  1.558633\n",
              "2013-01-06  1.610146 -1.665443"
            ]
          },
          "metadata": {
            "tags": []
          },
          "execution_count": 24
        }
      ]
    },
    {
      "cell_type": "markdown",
      "metadata": {
        "id": "K6Vt032_T5yz"
      },
      "source": [
        "종료지점을 포함한 슬라이싱"
      ]
    },
    {
      "cell_type": "code",
      "metadata": {
        "colab": {
          "base_uri": "https://localhost:8080/",
          "height": 143
        },
        "id": "1yXVywS6UDzY",
        "outputId": "9a727ca2-54ca-48a3-d424-fac3427a21d6"
      },
      "source": [
        "df.loc[\"20130102\" : \"20130104\", [\"A\",\"B\"]]"
      ],
      "execution_count": 25,
      "outputs": [
        {
          "output_type": "execute_result",
          "data": {
            "text/html": [
              "<div>\n",
              "<style scoped>\n",
              "    .dataframe tbody tr th:only-of-type {\n",
              "        vertical-align: middle;\n",
              "    }\n",
              "\n",
              "    .dataframe tbody tr th {\n",
              "        vertical-align: top;\n",
              "    }\n",
              "\n",
              "    .dataframe thead th {\n",
              "        text-align: right;\n",
              "    }\n",
              "</style>\n",
              "<table border=\"1\" class=\"dataframe\">\n",
              "  <thead>\n",
              "    <tr style=\"text-align: right;\">\n",
              "      <th></th>\n",
              "      <th>A</th>\n",
              "      <th>B</th>\n",
              "    </tr>\n",
              "  </thead>\n",
              "  <tbody>\n",
              "    <tr>\n",
              "      <th>2013-01-02</th>\n",
              "      <td>-0.087665</td>\n",
              "      <td>-1.134527</td>\n",
              "    </tr>\n",
              "    <tr>\n",
              "      <th>2013-01-03</th>\n",
              "      <td>-1.653663</td>\n",
              "      <td>0.471665</td>\n",
              "    </tr>\n",
              "    <tr>\n",
              "      <th>2013-01-04</th>\n",
              "      <td>-0.977763</td>\n",
              "      <td>-0.842951</td>\n",
              "    </tr>\n",
              "  </tbody>\n",
              "</table>\n",
              "</div>"
            ],
            "text/plain": [
              "                   A         B\n",
              "2013-01-02 -0.087665 -1.134527\n",
              "2013-01-03 -1.653663  0.471665\n",
              "2013-01-04 -0.977763 -0.842951"
            ]
          },
          "metadata": {
            "tags": []
          },
          "execution_count": 25
        }
      ]
    },
    {
      "cell_type": "markdown",
      "metadata": {
        "id": "7LuZbaMSUTx3"
      },
      "source": [
        "객체가 반환하는 차원이 감소합니다."
      ]
    },
    {
      "cell_type": "code",
      "metadata": {
        "colab": {
          "base_uri": "https://localhost:8080/"
        },
        "id": "AWJKW0uLUHpY",
        "outputId": "c855fb40-cc39-4df5-a763-5424b94393e3"
      },
      "source": [
        "df.loc[\"20130102\", [\"A\",\"B\"]]"
      ],
      "execution_count": 26,
      "outputs": [
        {
          "output_type": "execute_result",
          "data": {
            "text/plain": [
              "A   -0.087665\n",
              "B   -1.134527\n",
              "Name: 2013-01-02 00:00:00, dtype: float64"
            ]
          },
          "metadata": {
            "tags": []
          },
          "execution_count": 26
        }
      ]
    },
    {
      "cell_type": "markdown",
      "metadata": {
        "id": "Y1lEwei4UQ87"
      },
      "source": [
        "scalar 값을 가져옵니다"
      ]
    },
    {
      "cell_type": "code",
      "metadata": {
        "colab": {
          "base_uri": "https://localhost:8080/"
        },
        "id": "1YQIvMpdUaEE",
        "outputId": "3d102eb7-2bc1-4c09-ed00-2b1b257470e3"
      },
      "source": [
        "df.loc[dates[0], \"A\"]"
      ],
      "execution_count": 27,
      "outputs": [
        {
          "output_type": "execute_result",
          "data": {
            "text/plain": [
              "0.4978908342602056"
            ]
          },
          "metadata": {
            "tags": []
          },
          "execution_count": 27
        }
      ]
    },
    {
      "cell_type": "markdown",
      "metadata": {
        "id": "ZCtA9AcEUdVE"
      },
      "source": [
        "scalar에 빠르게 엑세스하여 가져오는 방법입니다."
      ]
    },
    {
      "cell_type": "code",
      "metadata": {
        "colab": {
          "base_uri": "https://localhost:8080/"
        },
        "id": "mQdU6hpyUoH4",
        "outputId": "afe535c1-7e61-40e8-a570-6c8bfe1611df"
      },
      "source": [
        "# df.at[\"20130101\",\"A\"]\n",
        "df.at[dates[0],\"A\"]"
      ],
      "execution_count": 28,
      "outputs": [
        {
          "output_type": "execute_result",
          "data": {
            "text/plain": [
              "0.4978908342602056"
            ]
          },
          "metadata": {
            "tags": []
          },
          "execution_count": 28
        }
      ]
    },
    {
      "cell_type": "markdown",
      "metadata": {
        "id": "tck16pWdUp2E"
      },
      "source": [
        "# 위치(position)별로 선택"
      ]
    },
    {
      "cell_type": "markdown",
      "metadata": {
        "id": "125XTh123r9u"
      },
      "source": [
        "전달된 정수(integers)의 위치를 통해 다음을 선택\n"
      ]
    },
    {
      "cell_type": "code",
      "metadata": {
        "colab": {
          "base_uri": "https://localhost:8080/"
        },
        "id": "U1m1qi1t4PXj",
        "outputId": "67734123-003e-4b54-cc03-c428209ecf5f"
      },
      "source": [
        "df.iloc[3]"
      ],
      "execution_count": 29,
      "outputs": [
        {
          "output_type": "execute_result",
          "data": {
            "text/plain": [
              "A   -0.977763\n",
              "B   -0.842951\n",
              "C   -1.509517\n",
              "D    1.092937\n",
              "Name: 2013-01-04 00:00:00, dtype: float64"
            ]
          },
          "metadata": {
            "tags": []
          },
          "execution_count": 29
        }
      ]
    },
    {
      "cell_type": "markdown",
      "metadata": {
        "id": "j2cWlsJ74ce4"
      },
      "source": [
        "슬라이싱을 통해 Numpy/Python과 유사하게 작동합니다."
      ]
    },
    {
      "cell_type": "code",
      "metadata": {
        "colab": {
          "base_uri": "https://localhost:8080/",
          "height": 112
        },
        "id": "TRaHBSvb4QhU",
        "outputId": "704ed0f8-071f-4fa3-b2cc-79a66cf337d1"
      },
      "source": [
        "df.iloc[3:5, 0:2]"
      ],
      "execution_count": 30,
      "outputs": [
        {
          "output_type": "execute_result",
          "data": {
            "text/html": [
              "<div>\n",
              "<style scoped>\n",
              "    .dataframe tbody tr th:only-of-type {\n",
              "        vertical-align: middle;\n",
              "    }\n",
              "\n",
              "    .dataframe tbody tr th {\n",
              "        vertical-align: top;\n",
              "    }\n",
              "\n",
              "    .dataframe thead th {\n",
              "        text-align: right;\n",
              "    }\n",
              "</style>\n",
              "<table border=\"1\" class=\"dataframe\">\n",
              "  <thead>\n",
              "    <tr style=\"text-align: right;\">\n",
              "      <th></th>\n",
              "      <th>A</th>\n",
              "      <th>B</th>\n",
              "    </tr>\n",
              "  </thead>\n",
              "  <tbody>\n",
              "    <tr>\n",
              "      <th>2013-01-04</th>\n",
              "      <td>-0.977763</td>\n",
              "      <td>-0.842951</td>\n",
              "    </tr>\n",
              "    <tr>\n",
              "      <th>2013-01-05</th>\n",
              "      <td>1.840194</td>\n",
              "      <td>1.558633</td>\n",
              "    </tr>\n",
              "  </tbody>\n",
              "</table>\n",
              "</div>"
            ],
            "text/plain": [
              "                   A         B\n",
              "2013-01-04 -0.977763 -0.842951\n",
              "2013-01-05  1.840194  1.558633"
            ]
          },
          "metadata": {
            "tags": []
          },
          "execution_count": 30
        }
      ]
    },
    {
      "cell_type": "markdown",
      "metadata": {
        "id": "cCrSph7c4kA6"
      },
      "source": [
        "정수 리스트를 통해 표현"
      ]
    },
    {
      "cell_type": "code",
      "metadata": {
        "colab": {
          "base_uri": "https://localhost:8080/",
          "height": 143
        },
        "id": "B62OfjMU42ok",
        "outputId": "17d58ef3-3232-48fa-952e-2b7ea9d2d3d4"
      },
      "source": [
        "df.iloc[[1,2,4],[0,2]]\n"
      ],
      "execution_count": 31,
      "outputs": [
        {
          "output_type": "execute_result",
          "data": {
            "text/html": [
              "<div>\n",
              "<style scoped>\n",
              "    .dataframe tbody tr th:only-of-type {\n",
              "        vertical-align: middle;\n",
              "    }\n",
              "\n",
              "    .dataframe tbody tr th {\n",
              "        vertical-align: top;\n",
              "    }\n",
              "\n",
              "    .dataframe thead th {\n",
              "        text-align: right;\n",
              "    }\n",
              "</style>\n",
              "<table border=\"1\" class=\"dataframe\">\n",
              "  <thead>\n",
              "    <tr style=\"text-align: right;\">\n",
              "      <th></th>\n",
              "      <th>A</th>\n",
              "      <th>C</th>\n",
              "    </tr>\n",
              "  </thead>\n",
              "  <tbody>\n",
              "    <tr>\n",
              "      <th>2013-01-02</th>\n",
              "      <td>-0.087665</td>\n",
              "      <td>0.679985</td>\n",
              "    </tr>\n",
              "    <tr>\n",
              "      <th>2013-01-03</th>\n",
              "      <td>-1.653663</td>\n",
              "      <td>0.561040</td>\n",
              "    </tr>\n",
              "    <tr>\n",
              "      <th>2013-01-05</th>\n",
              "      <td>1.840194</td>\n",
              "      <td>0.247957</td>\n",
              "    </tr>\n",
              "  </tbody>\n",
              "</table>\n",
              "</div>"
            ],
            "text/plain": [
              "                   A         C\n",
              "2013-01-02 -0.087665  0.679985\n",
              "2013-01-03 -1.653663  0.561040\n",
              "2013-01-05  1.840194  0.247957"
            ]
          },
          "metadata": {
            "tags": []
          },
          "execution_count": 31
        }
      ]
    },
    {
      "cell_type": "markdown",
      "metadata": {
        "id": "5nmHF4Gx48AH"
      },
      "source": [
        "row(행)만 슬라이싱을 합니다."
      ]
    },
    {
      "cell_type": "code",
      "metadata": {
        "colab": {
          "base_uri": "https://localhost:8080/",
          "height": 112
        },
        "id": "LaKmst7R46QM",
        "outputId": "fc7ff85e-8b75-497b-eecc-f924b75575e3"
      },
      "source": [
        "df.iloc[1:3, :]"
      ],
      "execution_count": 32,
      "outputs": [
        {
          "output_type": "execute_result",
          "data": {
            "text/html": [
              "<div>\n",
              "<style scoped>\n",
              "    .dataframe tbody tr th:only-of-type {\n",
              "        vertical-align: middle;\n",
              "    }\n",
              "\n",
              "    .dataframe tbody tr th {\n",
              "        vertical-align: top;\n",
              "    }\n",
              "\n",
              "    .dataframe thead th {\n",
              "        text-align: right;\n",
              "    }\n",
              "</style>\n",
              "<table border=\"1\" class=\"dataframe\">\n",
              "  <thead>\n",
              "    <tr style=\"text-align: right;\">\n",
              "      <th></th>\n",
              "      <th>A</th>\n",
              "      <th>B</th>\n",
              "      <th>C</th>\n",
              "      <th>D</th>\n",
              "    </tr>\n",
              "  </thead>\n",
              "  <tbody>\n",
              "    <tr>\n",
              "      <th>2013-01-02</th>\n",
              "      <td>-0.087665</td>\n",
              "      <td>-1.134527</td>\n",
              "      <td>0.679985</td>\n",
              "      <td>-0.797986</td>\n",
              "    </tr>\n",
              "    <tr>\n",
              "      <th>2013-01-03</th>\n",
              "      <td>-1.653663</td>\n",
              "      <td>0.471665</td>\n",
              "      <td>0.561040</td>\n",
              "      <td>0.901532</td>\n",
              "    </tr>\n",
              "  </tbody>\n",
              "</table>\n",
              "</div>"
            ],
            "text/plain": [
              "                   A         B         C         D\n",
              "2013-01-02 -0.087665 -1.134527  0.679985 -0.797986\n",
              "2013-01-03 -1.653663  0.471665  0.561040  0.901532"
            ]
          },
          "metadata": {
            "tags": []
          },
          "execution_count": 32
        }
      ]
    },
    {
      "cell_type": "markdown",
      "metadata": {
        "id": "2CqPzUc95AuZ"
      },
      "source": [
        "columns(열)만 슬라이싱 합니다."
      ]
    },
    {
      "cell_type": "code",
      "metadata": {
        "colab": {
          "base_uri": "https://localhost:8080/",
          "height": 237
        },
        "id": "81A5dEsT5Fjw",
        "outputId": "2c0eddce-cfa0-4b46-d806-ef61231be0b3"
      },
      "source": [
        "df.iloc[:, 1:3]"
      ],
      "execution_count": 33,
      "outputs": [
        {
          "output_type": "execute_result",
          "data": {
            "text/html": [
              "<div>\n",
              "<style scoped>\n",
              "    .dataframe tbody tr th:only-of-type {\n",
              "        vertical-align: middle;\n",
              "    }\n",
              "\n",
              "    .dataframe tbody tr th {\n",
              "        vertical-align: top;\n",
              "    }\n",
              "\n",
              "    .dataframe thead th {\n",
              "        text-align: right;\n",
              "    }\n",
              "</style>\n",
              "<table border=\"1\" class=\"dataframe\">\n",
              "  <thead>\n",
              "    <tr style=\"text-align: right;\">\n",
              "      <th></th>\n",
              "      <th>B</th>\n",
              "      <th>C</th>\n",
              "    </tr>\n",
              "  </thead>\n",
              "  <tbody>\n",
              "    <tr>\n",
              "      <th>2013-01-01</th>\n",
              "      <td>-0.195598</td>\n",
              "      <td>-0.520166</td>\n",
              "    </tr>\n",
              "    <tr>\n",
              "      <th>2013-01-02</th>\n",
              "      <td>-1.134527</td>\n",
              "      <td>0.679985</td>\n",
              "    </tr>\n",
              "    <tr>\n",
              "      <th>2013-01-03</th>\n",
              "      <td>0.471665</td>\n",
              "      <td>0.561040</td>\n",
              "    </tr>\n",
              "    <tr>\n",
              "      <th>2013-01-04</th>\n",
              "      <td>-0.842951</td>\n",
              "      <td>-1.509517</td>\n",
              "    </tr>\n",
              "    <tr>\n",
              "      <th>2013-01-05</th>\n",
              "      <td>1.558633</td>\n",
              "      <td>0.247957</td>\n",
              "    </tr>\n",
              "    <tr>\n",
              "      <th>2013-01-06</th>\n",
              "      <td>-1.665443</td>\n",
              "      <td>0.303155</td>\n",
              "    </tr>\n",
              "  </tbody>\n",
              "</table>\n",
              "</div>"
            ],
            "text/plain": [
              "                   B         C\n",
              "2013-01-01 -0.195598 -0.520166\n",
              "2013-01-02 -1.134527  0.679985\n",
              "2013-01-03  0.471665  0.561040\n",
              "2013-01-04 -0.842951 -1.509517\n",
              "2013-01-05  1.558633  0.247957\n",
              "2013-01-06 -1.665443  0.303155"
            ]
          },
          "metadata": {
            "tags": []
          },
          "execution_count": 33
        }
      ]
    },
    {
      "cell_type": "markdown",
      "metadata": {
        "id": "sEgHTk0O5G2V"
      },
      "source": [
        "value(값)로 가져옵니다."
      ]
    },
    {
      "cell_type": "code",
      "metadata": {
        "colab": {
          "base_uri": "https://localhost:8080/"
        },
        "id": "IbcyjwKW5OmQ",
        "outputId": "eefec4ae-3417-4b6e-8b51-265cd9c983bb"
      },
      "source": [
        "df.iloc[1,1]"
      ],
      "execution_count": 34,
      "outputs": [
        {
          "output_type": "execute_result",
          "data": {
            "text/plain": [
              "-1.134527370652213"
            ]
          },
          "metadata": {
            "tags": []
          },
          "execution_count": 34
        }
      ]
    },
    {
      "cell_type": "markdown",
      "metadata": {
        "id": "9AnVgVyX5PnN"
      },
      "source": [
        "scalar를 빠르게 엑세스하여 가져옵니다."
      ]
    },
    {
      "cell_type": "code",
      "metadata": {
        "colab": {
          "base_uri": "https://localhost:8080/"
        },
        "id": "cVHauL2Y5UWR",
        "outputId": "af8d4a13-ff23-44ce-b098-2c0d1c4dc33b"
      },
      "source": [
        "df.iat[1,1]"
      ],
      "execution_count": 35,
      "outputs": [
        {
          "output_type": "execute_result",
          "data": {
            "text/plain": [
              "-1.134527370652213"
            ]
          },
          "metadata": {
            "tags": []
          },
          "execution_count": 35
        }
      ]
    },
    {
      "cell_type": "markdown",
      "metadata": {
        "id": "z6-ICp6f5VQE"
      },
      "source": [
        "#Boolean indexing"
      ]
    },
    {
      "cell_type": "markdown",
      "metadata": {
        "id": "b1mu9QQ65bYO"
      },
      "source": [
        "single column의 value를 통해 선택합니다."
      ]
    },
    {
      "cell_type": "code",
      "metadata": {
        "colab": {
          "base_uri": "https://localhost:8080/",
          "height": 143
        },
        "id": "b4EGfsS15ieO",
        "outputId": "64ba6fe7-2336-495c-bd0b-e68e6dcd66c7"
      },
      "source": [
        "df[df[\"A\"]>0]"
      ],
      "execution_count": 36,
      "outputs": [
        {
          "output_type": "execute_result",
          "data": {
            "text/html": [
              "<div>\n",
              "<style scoped>\n",
              "    .dataframe tbody tr th:only-of-type {\n",
              "        vertical-align: middle;\n",
              "    }\n",
              "\n",
              "    .dataframe tbody tr th {\n",
              "        vertical-align: top;\n",
              "    }\n",
              "\n",
              "    .dataframe thead th {\n",
              "        text-align: right;\n",
              "    }\n",
              "</style>\n",
              "<table border=\"1\" class=\"dataframe\">\n",
              "  <thead>\n",
              "    <tr style=\"text-align: right;\">\n",
              "      <th></th>\n",
              "      <th>A</th>\n",
              "      <th>B</th>\n",
              "      <th>C</th>\n",
              "      <th>D</th>\n",
              "    </tr>\n",
              "  </thead>\n",
              "  <tbody>\n",
              "    <tr>\n",
              "      <th>2013-01-01</th>\n",
              "      <td>0.497891</td>\n",
              "      <td>-0.195598</td>\n",
              "      <td>-0.520166</td>\n",
              "      <td>-0.101381</td>\n",
              "    </tr>\n",
              "    <tr>\n",
              "      <th>2013-01-05</th>\n",
              "      <td>1.840194</td>\n",
              "      <td>1.558633</td>\n",
              "      <td>0.247957</td>\n",
              "      <td>-0.402497</td>\n",
              "    </tr>\n",
              "    <tr>\n",
              "      <th>2013-01-06</th>\n",
              "      <td>1.610146</td>\n",
              "      <td>-1.665443</td>\n",
              "      <td>0.303155</td>\n",
              "      <td>-0.206343</td>\n",
              "    </tr>\n",
              "  </tbody>\n",
              "</table>\n",
              "</div>"
            ],
            "text/plain": [
              "                   A         B         C         D\n",
              "2013-01-01  0.497891 -0.195598 -0.520166 -0.101381\n",
              "2013-01-05  1.840194  1.558633  0.247957 -0.402497\n",
              "2013-01-06  1.610146 -1.665443  0.303155 -0.206343"
            ]
          },
          "metadata": {
            "tags": []
          },
          "execution_count": 36
        }
      ]
    },
    {
      "cell_type": "code",
      "metadata": {
        "colab": {
          "base_uri": "https://localhost:8080/",
          "height": 237
        },
        "id": "25A7v5jn5yJF",
        "outputId": "f540350a-0c62-43a3-9b57-81f090160cad"
      },
      "source": [
        "df"
      ],
      "execution_count": 37,
      "outputs": [
        {
          "output_type": "execute_result",
          "data": {
            "text/html": [
              "<div>\n",
              "<style scoped>\n",
              "    .dataframe tbody tr th:only-of-type {\n",
              "        vertical-align: middle;\n",
              "    }\n",
              "\n",
              "    .dataframe tbody tr th {\n",
              "        vertical-align: top;\n",
              "    }\n",
              "\n",
              "    .dataframe thead th {\n",
              "        text-align: right;\n",
              "    }\n",
              "</style>\n",
              "<table border=\"1\" class=\"dataframe\">\n",
              "  <thead>\n",
              "    <tr style=\"text-align: right;\">\n",
              "      <th></th>\n",
              "      <th>A</th>\n",
              "      <th>B</th>\n",
              "      <th>C</th>\n",
              "      <th>D</th>\n",
              "    </tr>\n",
              "  </thead>\n",
              "  <tbody>\n",
              "    <tr>\n",
              "      <th>2013-01-01</th>\n",
              "      <td>0.497891</td>\n",
              "      <td>-0.195598</td>\n",
              "      <td>-0.520166</td>\n",
              "      <td>-0.101381</td>\n",
              "    </tr>\n",
              "    <tr>\n",
              "      <th>2013-01-02</th>\n",
              "      <td>-0.087665</td>\n",
              "      <td>-1.134527</td>\n",
              "      <td>0.679985</td>\n",
              "      <td>-0.797986</td>\n",
              "    </tr>\n",
              "    <tr>\n",
              "      <th>2013-01-03</th>\n",
              "      <td>-1.653663</td>\n",
              "      <td>0.471665</td>\n",
              "      <td>0.561040</td>\n",
              "      <td>0.901532</td>\n",
              "    </tr>\n",
              "    <tr>\n",
              "      <th>2013-01-04</th>\n",
              "      <td>-0.977763</td>\n",
              "      <td>-0.842951</td>\n",
              "      <td>-1.509517</td>\n",
              "      <td>1.092937</td>\n",
              "    </tr>\n",
              "    <tr>\n",
              "      <th>2013-01-05</th>\n",
              "      <td>1.840194</td>\n",
              "      <td>1.558633</td>\n",
              "      <td>0.247957</td>\n",
              "      <td>-0.402497</td>\n",
              "    </tr>\n",
              "    <tr>\n",
              "      <th>2013-01-06</th>\n",
              "      <td>1.610146</td>\n",
              "      <td>-1.665443</td>\n",
              "      <td>0.303155</td>\n",
              "      <td>-0.206343</td>\n",
              "    </tr>\n",
              "  </tbody>\n",
              "</table>\n",
              "</div>"
            ],
            "text/plain": [
              "                   A         B         C         D\n",
              "2013-01-01  0.497891 -0.195598 -0.520166 -0.101381\n",
              "2013-01-02 -0.087665 -1.134527  0.679985 -0.797986\n",
              "2013-01-03 -1.653663  0.471665  0.561040  0.901532\n",
              "2013-01-04 -0.977763 -0.842951 -1.509517  1.092937\n",
              "2013-01-05  1.840194  1.558633  0.247957 -0.402497\n",
              "2013-01-06  1.610146 -1.665443  0.303155 -0.206343"
            ]
          },
          "metadata": {
            "tags": []
          },
          "execution_count": 37
        }
      ]
    },
    {
      "cell_type": "code",
      "metadata": {
        "colab": {
          "base_uri": "https://localhost:8080/",
          "height": 237
        },
        "id": "NxJWrAzS5kBz",
        "outputId": "844dd7b0-b157-48b8-fb78-d77f23effe50"
      },
      "source": [
        "df[df>0]"
      ],
      "execution_count": 38,
      "outputs": [
        {
          "output_type": "execute_result",
          "data": {
            "text/html": [
              "<div>\n",
              "<style scoped>\n",
              "    .dataframe tbody tr th:only-of-type {\n",
              "        vertical-align: middle;\n",
              "    }\n",
              "\n",
              "    .dataframe tbody tr th {\n",
              "        vertical-align: top;\n",
              "    }\n",
              "\n",
              "    .dataframe thead th {\n",
              "        text-align: right;\n",
              "    }\n",
              "</style>\n",
              "<table border=\"1\" class=\"dataframe\">\n",
              "  <thead>\n",
              "    <tr style=\"text-align: right;\">\n",
              "      <th></th>\n",
              "      <th>A</th>\n",
              "      <th>B</th>\n",
              "      <th>C</th>\n",
              "      <th>D</th>\n",
              "    </tr>\n",
              "  </thead>\n",
              "  <tbody>\n",
              "    <tr>\n",
              "      <th>2013-01-01</th>\n",
              "      <td>0.497891</td>\n",
              "      <td>NaN</td>\n",
              "      <td>NaN</td>\n",
              "      <td>NaN</td>\n",
              "    </tr>\n",
              "    <tr>\n",
              "      <th>2013-01-02</th>\n",
              "      <td>NaN</td>\n",
              "      <td>NaN</td>\n",
              "      <td>0.679985</td>\n",
              "      <td>NaN</td>\n",
              "    </tr>\n",
              "    <tr>\n",
              "      <th>2013-01-03</th>\n",
              "      <td>NaN</td>\n",
              "      <td>0.471665</td>\n",
              "      <td>0.561040</td>\n",
              "      <td>0.901532</td>\n",
              "    </tr>\n",
              "    <tr>\n",
              "      <th>2013-01-04</th>\n",
              "      <td>NaN</td>\n",
              "      <td>NaN</td>\n",
              "      <td>NaN</td>\n",
              "      <td>1.092937</td>\n",
              "    </tr>\n",
              "    <tr>\n",
              "      <th>2013-01-05</th>\n",
              "      <td>1.840194</td>\n",
              "      <td>1.558633</td>\n",
              "      <td>0.247957</td>\n",
              "      <td>NaN</td>\n",
              "    </tr>\n",
              "    <tr>\n",
              "      <th>2013-01-06</th>\n",
              "      <td>1.610146</td>\n",
              "      <td>NaN</td>\n",
              "      <td>0.303155</td>\n",
              "      <td>NaN</td>\n",
              "    </tr>\n",
              "  </tbody>\n",
              "</table>\n",
              "</div>"
            ],
            "text/plain": [
              "                   A         B         C         D\n",
              "2013-01-01  0.497891       NaN       NaN       NaN\n",
              "2013-01-02       NaN       NaN  0.679985       NaN\n",
              "2013-01-03       NaN  0.471665  0.561040  0.901532\n",
              "2013-01-04       NaN       NaN       NaN  1.092937\n",
              "2013-01-05  1.840194  1.558633  0.247957       NaN\n",
              "2013-01-06  1.610146       NaN  0.303155       NaN"
            ]
          },
          "metadata": {
            "tags": []
          },
          "execution_count": 38
        }
      ]
    },
    {
      "cell_type": "markdown",
      "metadata": {
        "id": "h1GDfwla51D_"
      },
      "source": [
        "isin() method를 통해 필터링"
      ]
    },
    {
      "cell_type": "code",
      "metadata": {
        "colab": {
          "base_uri": "https://localhost:8080/",
          "height": 237
        },
        "id": "NU-sJgA75wG6",
        "outputId": "92e5c604-6281-496e-c47d-77cbf016624d"
      },
      "source": [
        "df2 = df.copy()\n",
        "df2['E'] = [\"one\",\"one\",\"two\",\"three\",\"four\",\"three\"]\n",
        "df2"
      ],
      "execution_count": 39,
      "outputs": [
        {
          "output_type": "execute_result",
          "data": {
            "text/html": [
              "<div>\n",
              "<style scoped>\n",
              "    .dataframe tbody tr th:only-of-type {\n",
              "        vertical-align: middle;\n",
              "    }\n",
              "\n",
              "    .dataframe tbody tr th {\n",
              "        vertical-align: top;\n",
              "    }\n",
              "\n",
              "    .dataframe thead th {\n",
              "        text-align: right;\n",
              "    }\n",
              "</style>\n",
              "<table border=\"1\" class=\"dataframe\">\n",
              "  <thead>\n",
              "    <tr style=\"text-align: right;\">\n",
              "      <th></th>\n",
              "      <th>A</th>\n",
              "      <th>B</th>\n",
              "      <th>C</th>\n",
              "      <th>D</th>\n",
              "      <th>E</th>\n",
              "    </tr>\n",
              "  </thead>\n",
              "  <tbody>\n",
              "    <tr>\n",
              "      <th>2013-01-01</th>\n",
              "      <td>0.497891</td>\n",
              "      <td>-0.195598</td>\n",
              "      <td>-0.520166</td>\n",
              "      <td>-0.101381</td>\n",
              "      <td>one</td>\n",
              "    </tr>\n",
              "    <tr>\n",
              "      <th>2013-01-02</th>\n",
              "      <td>-0.087665</td>\n",
              "      <td>-1.134527</td>\n",
              "      <td>0.679985</td>\n",
              "      <td>-0.797986</td>\n",
              "      <td>one</td>\n",
              "    </tr>\n",
              "    <tr>\n",
              "      <th>2013-01-03</th>\n",
              "      <td>-1.653663</td>\n",
              "      <td>0.471665</td>\n",
              "      <td>0.561040</td>\n",
              "      <td>0.901532</td>\n",
              "      <td>two</td>\n",
              "    </tr>\n",
              "    <tr>\n",
              "      <th>2013-01-04</th>\n",
              "      <td>-0.977763</td>\n",
              "      <td>-0.842951</td>\n",
              "      <td>-1.509517</td>\n",
              "      <td>1.092937</td>\n",
              "      <td>three</td>\n",
              "    </tr>\n",
              "    <tr>\n",
              "      <th>2013-01-05</th>\n",
              "      <td>1.840194</td>\n",
              "      <td>1.558633</td>\n",
              "      <td>0.247957</td>\n",
              "      <td>-0.402497</td>\n",
              "      <td>four</td>\n",
              "    </tr>\n",
              "    <tr>\n",
              "      <th>2013-01-06</th>\n",
              "      <td>1.610146</td>\n",
              "      <td>-1.665443</td>\n",
              "      <td>0.303155</td>\n",
              "      <td>-0.206343</td>\n",
              "      <td>three</td>\n",
              "    </tr>\n",
              "  </tbody>\n",
              "</table>\n",
              "</div>"
            ],
            "text/plain": [
              "                   A         B         C         D      E\n",
              "2013-01-01  0.497891 -0.195598 -0.520166 -0.101381    one\n",
              "2013-01-02 -0.087665 -1.134527  0.679985 -0.797986    one\n",
              "2013-01-03 -1.653663  0.471665  0.561040  0.901532    two\n",
              "2013-01-04 -0.977763 -0.842951 -1.509517  1.092937  three\n",
              "2013-01-05  1.840194  1.558633  0.247957 -0.402497   four\n",
              "2013-01-06  1.610146 -1.665443  0.303155 -0.206343  three"
            ]
          },
          "metadata": {
            "tags": []
          },
          "execution_count": 39
        }
      ]
    },
    {
      "cell_type": "code",
      "metadata": {
        "colab": {
          "base_uri": "https://localhost:8080/",
          "height": 112
        },
        "id": "vTQt0FxY5_HG",
        "outputId": "8bd13fef-0e39-4e5e-b69f-6aa3e7148666"
      },
      "source": [
        "df2[df2['E'].isin([\"two\",\"four\"])]"
      ],
      "execution_count": 40,
      "outputs": [
        {
          "output_type": "execute_result",
          "data": {
            "text/html": [
              "<div>\n",
              "<style scoped>\n",
              "    .dataframe tbody tr th:only-of-type {\n",
              "        vertical-align: middle;\n",
              "    }\n",
              "\n",
              "    .dataframe tbody tr th {\n",
              "        vertical-align: top;\n",
              "    }\n",
              "\n",
              "    .dataframe thead th {\n",
              "        text-align: right;\n",
              "    }\n",
              "</style>\n",
              "<table border=\"1\" class=\"dataframe\">\n",
              "  <thead>\n",
              "    <tr style=\"text-align: right;\">\n",
              "      <th></th>\n",
              "      <th>A</th>\n",
              "      <th>B</th>\n",
              "      <th>C</th>\n",
              "      <th>D</th>\n",
              "      <th>E</th>\n",
              "    </tr>\n",
              "  </thead>\n",
              "  <tbody>\n",
              "    <tr>\n",
              "      <th>2013-01-03</th>\n",
              "      <td>-1.653663</td>\n",
              "      <td>0.471665</td>\n",
              "      <td>0.561040</td>\n",
              "      <td>0.901532</td>\n",
              "      <td>two</td>\n",
              "    </tr>\n",
              "    <tr>\n",
              "      <th>2013-01-05</th>\n",
              "      <td>1.840194</td>\n",
              "      <td>1.558633</td>\n",
              "      <td>0.247957</td>\n",
              "      <td>-0.402497</td>\n",
              "      <td>four</td>\n",
              "    </tr>\n",
              "  </tbody>\n",
              "</table>\n",
              "</div>"
            ],
            "text/plain": [
              "                   A         B         C         D     E\n",
              "2013-01-03 -1.653663  0.471665  0.561040  0.901532   two\n",
              "2013-01-05  1.840194  1.558633  0.247957 -0.402497  four"
            ]
          },
          "metadata": {
            "tags": []
          },
          "execution_count": 40
        }
      ]
    },
    {
      "cell_type": "markdown",
      "metadata": {
        "id": "-6FJ9hzW6DF1"
      },
      "source": [
        "# Setting"
      ]
    },
    {
      "cell_type": "markdown",
      "metadata": {
        "id": "37A39qgQS3no"
      },
      "source": [
        "새로운 column을 설정하면 index별로 데이터가 자동으로 정렬됩니다."
      ]
    },
    {
      "cell_type": "code",
      "metadata": {
        "colab": {
          "base_uri": "https://localhost:8080/"
        },
        "id": "aujp-AgVTCzL",
        "outputId": "3f68998c-b535-46ae-b025-65a971d2bed9"
      },
      "source": [
        "s1 = pd.Series([1,2,3,4,5,6], index=pd.date_range(\"20130102\", periods=6))\n",
        "s1"
      ],
      "execution_count": 41,
      "outputs": [
        {
          "output_type": "execute_result",
          "data": {
            "text/plain": [
              "2013-01-02    1\n",
              "2013-01-03    2\n",
              "2013-01-04    3\n",
              "2013-01-05    4\n",
              "2013-01-06    5\n",
              "2013-01-07    6\n",
              "Freq: D, dtype: int64"
            ]
          },
          "metadata": {
            "tags": []
          },
          "execution_count": 41
        }
      ]
    },
    {
      "cell_type": "code",
      "metadata": {
        "id": "9jdbFZb4TJ4W"
      },
      "source": [
        "df['F'] = s1"
      ],
      "execution_count": 42,
      "outputs": []
    },
    {
      "cell_type": "code",
      "metadata": {
        "colab": {
          "base_uri": "https://localhost:8080/",
          "height": 237
        },
        "id": "0sKI9syWTOnb",
        "outputId": "b8bf978b-af7f-4c0a-b27a-3134fa08bf2e"
      },
      "source": [
        "df"
      ],
      "execution_count": 43,
      "outputs": [
        {
          "output_type": "execute_result",
          "data": {
            "text/html": [
              "<div>\n",
              "<style scoped>\n",
              "    .dataframe tbody tr th:only-of-type {\n",
              "        vertical-align: middle;\n",
              "    }\n",
              "\n",
              "    .dataframe tbody tr th {\n",
              "        vertical-align: top;\n",
              "    }\n",
              "\n",
              "    .dataframe thead th {\n",
              "        text-align: right;\n",
              "    }\n",
              "</style>\n",
              "<table border=\"1\" class=\"dataframe\">\n",
              "  <thead>\n",
              "    <tr style=\"text-align: right;\">\n",
              "      <th></th>\n",
              "      <th>A</th>\n",
              "      <th>B</th>\n",
              "      <th>C</th>\n",
              "      <th>D</th>\n",
              "      <th>F</th>\n",
              "    </tr>\n",
              "  </thead>\n",
              "  <tbody>\n",
              "    <tr>\n",
              "      <th>2013-01-01</th>\n",
              "      <td>0.497891</td>\n",
              "      <td>-0.195598</td>\n",
              "      <td>-0.520166</td>\n",
              "      <td>-0.101381</td>\n",
              "      <td>NaN</td>\n",
              "    </tr>\n",
              "    <tr>\n",
              "      <th>2013-01-02</th>\n",
              "      <td>-0.087665</td>\n",
              "      <td>-1.134527</td>\n",
              "      <td>0.679985</td>\n",
              "      <td>-0.797986</td>\n",
              "      <td>1.0</td>\n",
              "    </tr>\n",
              "    <tr>\n",
              "      <th>2013-01-03</th>\n",
              "      <td>-1.653663</td>\n",
              "      <td>0.471665</td>\n",
              "      <td>0.561040</td>\n",
              "      <td>0.901532</td>\n",
              "      <td>2.0</td>\n",
              "    </tr>\n",
              "    <tr>\n",
              "      <th>2013-01-04</th>\n",
              "      <td>-0.977763</td>\n",
              "      <td>-0.842951</td>\n",
              "      <td>-1.509517</td>\n",
              "      <td>1.092937</td>\n",
              "      <td>3.0</td>\n",
              "    </tr>\n",
              "    <tr>\n",
              "      <th>2013-01-05</th>\n",
              "      <td>1.840194</td>\n",
              "      <td>1.558633</td>\n",
              "      <td>0.247957</td>\n",
              "      <td>-0.402497</td>\n",
              "      <td>4.0</td>\n",
              "    </tr>\n",
              "    <tr>\n",
              "      <th>2013-01-06</th>\n",
              "      <td>1.610146</td>\n",
              "      <td>-1.665443</td>\n",
              "      <td>0.303155</td>\n",
              "      <td>-0.206343</td>\n",
              "      <td>5.0</td>\n",
              "    </tr>\n",
              "  </tbody>\n",
              "</table>\n",
              "</div>"
            ],
            "text/plain": [
              "                   A         B         C         D    F\n",
              "2013-01-01  0.497891 -0.195598 -0.520166 -0.101381  NaN\n",
              "2013-01-02 -0.087665 -1.134527  0.679985 -0.797986  1.0\n",
              "2013-01-03 -1.653663  0.471665  0.561040  0.901532  2.0\n",
              "2013-01-04 -0.977763 -0.842951 -1.509517  1.092937  3.0\n",
              "2013-01-05  1.840194  1.558633  0.247957 -0.402497  4.0\n",
              "2013-01-06  1.610146 -1.665443  0.303155 -0.206343  5.0"
            ]
          },
          "metadata": {
            "tags": []
          },
          "execution_count": 43
        }
      ]
    },
    {
      "cell_type": "markdown",
      "metadata": {
        "id": "YcKq4AehTQ31"
      },
      "source": [
        "label 별로 value를 설정합니다."
      ]
    },
    {
      "cell_type": "code",
      "metadata": {
        "colab": {
          "base_uri": "https://localhost:8080/",
          "height": 237
        },
        "id": "nd98z549TVZs",
        "outputId": "1afee826-0457-4137-ffdb-03fa99b235af"
      },
      "source": [
        "df.at[dates[0], \"A\"] = 0\n",
        "df"
      ],
      "execution_count": 44,
      "outputs": [
        {
          "output_type": "execute_result",
          "data": {
            "text/html": [
              "<div>\n",
              "<style scoped>\n",
              "    .dataframe tbody tr th:only-of-type {\n",
              "        vertical-align: middle;\n",
              "    }\n",
              "\n",
              "    .dataframe tbody tr th {\n",
              "        vertical-align: top;\n",
              "    }\n",
              "\n",
              "    .dataframe thead th {\n",
              "        text-align: right;\n",
              "    }\n",
              "</style>\n",
              "<table border=\"1\" class=\"dataframe\">\n",
              "  <thead>\n",
              "    <tr style=\"text-align: right;\">\n",
              "      <th></th>\n",
              "      <th>A</th>\n",
              "      <th>B</th>\n",
              "      <th>C</th>\n",
              "      <th>D</th>\n",
              "      <th>F</th>\n",
              "    </tr>\n",
              "  </thead>\n",
              "  <tbody>\n",
              "    <tr>\n",
              "      <th>2013-01-01</th>\n",
              "      <td>0.000000</td>\n",
              "      <td>-0.195598</td>\n",
              "      <td>-0.520166</td>\n",
              "      <td>-0.101381</td>\n",
              "      <td>NaN</td>\n",
              "    </tr>\n",
              "    <tr>\n",
              "      <th>2013-01-02</th>\n",
              "      <td>-0.087665</td>\n",
              "      <td>-1.134527</td>\n",
              "      <td>0.679985</td>\n",
              "      <td>-0.797986</td>\n",
              "      <td>1.0</td>\n",
              "    </tr>\n",
              "    <tr>\n",
              "      <th>2013-01-03</th>\n",
              "      <td>-1.653663</td>\n",
              "      <td>0.471665</td>\n",
              "      <td>0.561040</td>\n",
              "      <td>0.901532</td>\n",
              "      <td>2.0</td>\n",
              "    </tr>\n",
              "    <tr>\n",
              "      <th>2013-01-04</th>\n",
              "      <td>-0.977763</td>\n",
              "      <td>-0.842951</td>\n",
              "      <td>-1.509517</td>\n",
              "      <td>1.092937</td>\n",
              "      <td>3.0</td>\n",
              "    </tr>\n",
              "    <tr>\n",
              "      <th>2013-01-05</th>\n",
              "      <td>1.840194</td>\n",
              "      <td>1.558633</td>\n",
              "      <td>0.247957</td>\n",
              "      <td>-0.402497</td>\n",
              "      <td>4.0</td>\n",
              "    </tr>\n",
              "    <tr>\n",
              "      <th>2013-01-06</th>\n",
              "      <td>1.610146</td>\n",
              "      <td>-1.665443</td>\n",
              "      <td>0.303155</td>\n",
              "      <td>-0.206343</td>\n",
              "      <td>5.0</td>\n",
              "    </tr>\n",
              "  </tbody>\n",
              "</table>\n",
              "</div>"
            ],
            "text/plain": [
              "                   A         B         C         D    F\n",
              "2013-01-01  0.000000 -0.195598 -0.520166 -0.101381  NaN\n",
              "2013-01-02 -0.087665 -1.134527  0.679985 -0.797986  1.0\n",
              "2013-01-03 -1.653663  0.471665  0.561040  0.901532  2.0\n",
              "2013-01-04 -0.977763 -0.842951 -1.509517  1.092937  3.0\n",
              "2013-01-05  1.840194  1.558633  0.247957 -0.402497  4.0\n",
              "2013-01-06  1.610146 -1.665443  0.303155 -0.206343  5.0"
            ]
          },
          "metadata": {
            "tags": []
          },
          "execution_count": 44
        }
      ]
    },
    {
      "cell_type": "markdown",
      "metadata": {
        "id": "Vtu3QHFNTb2w"
      },
      "source": [
        "position 별로 value를 설정합니다."
      ]
    },
    {
      "cell_type": "code",
      "metadata": {
        "colab": {
          "base_uri": "https://localhost:8080/",
          "height": 237
        },
        "id": "lrdvdkPZTcVR",
        "outputId": "98200fb7-82d6-4a64-8d70-82836ab5a901"
      },
      "source": [
        "df.iat[0,1] = 0\n",
        "df"
      ],
      "execution_count": 45,
      "outputs": [
        {
          "output_type": "execute_result",
          "data": {
            "text/html": [
              "<div>\n",
              "<style scoped>\n",
              "    .dataframe tbody tr th:only-of-type {\n",
              "        vertical-align: middle;\n",
              "    }\n",
              "\n",
              "    .dataframe tbody tr th {\n",
              "        vertical-align: top;\n",
              "    }\n",
              "\n",
              "    .dataframe thead th {\n",
              "        text-align: right;\n",
              "    }\n",
              "</style>\n",
              "<table border=\"1\" class=\"dataframe\">\n",
              "  <thead>\n",
              "    <tr style=\"text-align: right;\">\n",
              "      <th></th>\n",
              "      <th>A</th>\n",
              "      <th>B</th>\n",
              "      <th>C</th>\n",
              "      <th>D</th>\n",
              "      <th>F</th>\n",
              "    </tr>\n",
              "  </thead>\n",
              "  <tbody>\n",
              "    <tr>\n",
              "      <th>2013-01-01</th>\n",
              "      <td>0.000000</td>\n",
              "      <td>0.000000</td>\n",
              "      <td>-0.520166</td>\n",
              "      <td>-0.101381</td>\n",
              "      <td>NaN</td>\n",
              "    </tr>\n",
              "    <tr>\n",
              "      <th>2013-01-02</th>\n",
              "      <td>-0.087665</td>\n",
              "      <td>-1.134527</td>\n",
              "      <td>0.679985</td>\n",
              "      <td>-0.797986</td>\n",
              "      <td>1.0</td>\n",
              "    </tr>\n",
              "    <tr>\n",
              "      <th>2013-01-03</th>\n",
              "      <td>-1.653663</td>\n",
              "      <td>0.471665</td>\n",
              "      <td>0.561040</td>\n",
              "      <td>0.901532</td>\n",
              "      <td>2.0</td>\n",
              "    </tr>\n",
              "    <tr>\n",
              "      <th>2013-01-04</th>\n",
              "      <td>-0.977763</td>\n",
              "      <td>-0.842951</td>\n",
              "      <td>-1.509517</td>\n",
              "      <td>1.092937</td>\n",
              "      <td>3.0</td>\n",
              "    </tr>\n",
              "    <tr>\n",
              "      <th>2013-01-05</th>\n",
              "      <td>1.840194</td>\n",
              "      <td>1.558633</td>\n",
              "      <td>0.247957</td>\n",
              "      <td>-0.402497</td>\n",
              "      <td>4.0</td>\n",
              "    </tr>\n",
              "    <tr>\n",
              "      <th>2013-01-06</th>\n",
              "      <td>1.610146</td>\n",
              "      <td>-1.665443</td>\n",
              "      <td>0.303155</td>\n",
              "      <td>-0.206343</td>\n",
              "      <td>5.0</td>\n",
              "    </tr>\n",
              "  </tbody>\n",
              "</table>\n",
              "</div>"
            ],
            "text/plain": [
              "                   A         B         C         D    F\n",
              "2013-01-01  0.000000  0.000000 -0.520166 -0.101381  NaN\n",
              "2013-01-02 -0.087665 -1.134527  0.679985 -0.797986  1.0\n",
              "2013-01-03 -1.653663  0.471665  0.561040  0.901532  2.0\n",
              "2013-01-04 -0.977763 -0.842951 -1.509517  1.092937  3.0\n",
              "2013-01-05  1.840194  1.558633  0.247957 -0.402497  4.0\n",
              "2013-01-06  1.610146 -1.665443  0.303155 -0.206343  5.0"
            ]
          },
          "metadata": {
            "tags": []
          },
          "execution_count": 45
        }
      ]
    },
    {
      "cell_type": "markdown",
      "metadata": {
        "id": "sIPFNhgqTiID"
      },
      "source": [
        "NumPy array를 할당하여 설정합니다."
      ]
    },
    {
      "cell_type": "code",
      "metadata": {
        "colab": {
          "base_uri": "https://localhost:8080/",
          "height": 237
        },
        "id": "xUOd5mbNTwI-",
        "outputId": "940cd617-00cb-4cad-f061-2ab6b72cffe1"
      },
      "source": [
        "df.loc[:,\"D\"] = np.array([5] * len(df))\n",
        "df"
      ],
      "execution_count": 46,
      "outputs": [
        {
          "output_type": "execute_result",
          "data": {
            "text/html": [
              "<div>\n",
              "<style scoped>\n",
              "    .dataframe tbody tr th:only-of-type {\n",
              "        vertical-align: middle;\n",
              "    }\n",
              "\n",
              "    .dataframe tbody tr th {\n",
              "        vertical-align: top;\n",
              "    }\n",
              "\n",
              "    .dataframe thead th {\n",
              "        text-align: right;\n",
              "    }\n",
              "</style>\n",
              "<table border=\"1\" class=\"dataframe\">\n",
              "  <thead>\n",
              "    <tr style=\"text-align: right;\">\n",
              "      <th></th>\n",
              "      <th>A</th>\n",
              "      <th>B</th>\n",
              "      <th>C</th>\n",
              "      <th>D</th>\n",
              "      <th>F</th>\n",
              "    </tr>\n",
              "  </thead>\n",
              "  <tbody>\n",
              "    <tr>\n",
              "      <th>2013-01-01</th>\n",
              "      <td>0.000000</td>\n",
              "      <td>0.000000</td>\n",
              "      <td>-0.520166</td>\n",
              "      <td>5</td>\n",
              "      <td>NaN</td>\n",
              "    </tr>\n",
              "    <tr>\n",
              "      <th>2013-01-02</th>\n",
              "      <td>-0.087665</td>\n",
              "      <td>-1.134527</td>\n",
              "      <td>0.679985</td>\n",
              "      <td>5</td>\n",
              "      <td>1.0</td>\n",
              "    </tr>\n",
              "    <tr>\n",
              "      <th>2013-01-03</th>\n",
              "      <td>-1.653663</td>\n",
              "      <td>0.471665</td>\n",
              "      <td>0.561040</td>\n",
              "      <td>5</td>\n",
              "      <td>2.0</td>\n",
              "    </tr>\n",
              "    <tr>\n",
              "      <th>2013-01-04</th>\n",
              "      <td>-0.977763</td>\n",
              "      <td>-0.842951</td>\n",
              "      <td>-1.509517</td>\n",
              "      <td>5</td>\n",
              "      <td>3.0</td>\n",
              "    </tr>\n",
              "    <tr>\n",
              "      <th>2013-01-05</th>\n",
              "      <td>1.840194</td>\n",
              "      <td>1.558633</td>\n",
              "      <td>0.247957</td>\n",
              "      <td>5</td>\n",
              "      <td>4.0</td>\n",
              "    </tr>\n",
              "    <tr>\n",
              "      <th>2013-01-06</th>\n",
              "      <td>1.610146</td>\n",
              "      <td>-1.665443</td>\n",
              "      <td>0.303155</td>\n",
              "      <td>5</td>\n",
              "      <td>5.0</td>\n",
              "    </tr>\n",
              "  </tbody>\n",
              "</table>\n",
              "</div>"
            ],
            "text/plain": [
              "                   A         B         C  D    F\n",
              "2013-01-01  0.000000  0.000000 -0.520166  5  NaN\n",
              "2013-01-02 -0.087665 -1.134527  0.679985  5  1.0\n",
              "2013-01-03 -1.653663  0.471665  0.561040  5  2.0\n",
              "2013-01-04 -0.977763 -0.842951 -1.509517  5  3.0\n",
              "2013-01-05  1.840194  1.558633  0.247957  5  4.0\n",
              "2013-01-06  1.610146 -1.665443  0.303155  5  5.0"
            ]
          },
          "metadata": {
            "tags": []
          },
          "execution_count": 46
        }
      ]
    },
    {
      "cell_type": "code",
      "metadata": {
        "id": "Lzz7JudGTxdZ",
        "colab": {
          "base_uri": "https://localhost:8080/",
          "height": 237
        },
        "outputId": "9ca7e9fd-a60e-4334-9074-7f66acbb17a4"
      },
      "source": [
        "df2 = df.copy()\n",
        "df2[df2 > 0] = -df2\n",
        "df2"
      ],
      "execution_count": 47,
      "outputs": [
        {
          "output_type": "execute_result",
          "data": {
            "text/html": [
              "<div>\n",
              "<style scoped>\n",
              "    .dataframe tbody tr th:only-of-type {\n",
              "        vertical-align: middle;\n",
              "    }\n",
              "\n",
              "    .dataframe tbody tr th {\n",
              "        vertical-align: top;\n",
              "    }\n",
              "\n",
              "    .dataframe thead th {\n",
              "        text-align: right;\n",
              "    }\n",
              "</style>\n",
              "<table border=\"1\" class=\"dataframe\">\n",
              "  <thead>\n",
              "    <tr style=\"text-align: right;\">\n",
              "      <th></th>\n",
              "      <th>A</th>\n",
              "      <th>B</th>\n",
              "      <th>C</th>\n",
              "      <th>D</th>\n",
              "      <th>F</th>\n",
              "    </tr>\n",
              "  </thead>\n",
              "  <tbody>\n",
              "    <tr>\n",
              "      <th>2013-01-01</th>\n",
              "      <td>0.000000</td>\n",
              "      <td>0.000000</td>\n",
              "      <td>-0.520166</td>\n",
              "      <td>-5</td>\n",
              "      <td>NaN</td>\n",
              "    </tr>\n",
              "    <tr>\n",
              "      <th>2013-01-02</th>\n",
              "      <td>-0.087665</td>\n",
              "      <td>-1.134527</td>\n",
              "      <td>-0.679985</td>\n",
              "      <td>-5</td>\n",
              "      <td>-1.0</td>\n",
              "    </tr>\n",
              "    <tr>\n",
              "      <th>2013-01-03</th>\n",
              "      <td>-1.653663</td>\n",
              "      <td>-0.471665</td>\n",
              "      <td>-0.561040</td>\n",
              "      <td>-5</td>\n",
              "      <td>-2.0</td>\n",
              "    </tr>\n",
              "    <tr>\n",
              "      <th>2013-01-04</th>\n",
              "      <td>-0.977763</td>\n",
              "      <td>-0.842951</td>\n",
              "      <td>-1.509517</td>\n",
              "      <td>-5</td>\n",
              "      <td>-3.0</td>\n",
              "    </tr>\n",
              "    <tr>\n",
              "      <th>2013-01-05</th>\n",
              "      <td>-1.840194</td>\n",
              "      <td>-1.558633</td>\n",
              "      <td>-0.247957</td>\n",
              "      <td>-5</td>\n",
              "      <td>-4.0</td>\n",
              "    </tr>\n",
              "    <tr>\n",
              "      <th>2013-01-06</th>\n",
              "      <td>-1.610146</td>\n",
              "      <td>-1.665443</td>\n",
              "      <td>-0.303155</td>\n",
              "      <td>-5</td>\n",
              "      <td>-5.0</td>\n",
              "    </tr>\n",
              "  </tbody>\n",
              "</table>\n",
              "</div>"
            ],
            "text/plain": [
              "                   A         B         C  D    F\n",
              "2013-01-01  0.000000  0.000000 -0.520166 -5  NaN\n",
              "2013-01-02 -0.087665 -1.134527 -0.679985 -5 -1.0\n",
              "2013-01-03 -1.653663 -0.471665 -0.561040 -5 -2.0\n",
              "2013-01-04 -0.977763 -0.842951 -1.509517 -5 -3.0\n",
              "2013-01-05 -1.840194 -1.558633 -0.247957 -5 -4.0\n",
              "2013-01-06 -1.610146 -1.665443 -0.303155 -5 -5.0"
            ]
          },
          "metadata": {
            "tags": []
          },
          "execution_count": 47
        }
      ]
    },
    {
      "cell_type": "markdown",
      "metadata": {
        "id": "RALisJaDUE4t"
      },
      "source": [
        "# 결측치"
      ]
    },
    {
      "cell_type": "markdown",
      "metadata": {
        "id": "YyVw0LjMMbIE"
      },
      "source": [
        "pandas는 주로  np.nan값을 누락 데이터를 나타내기 위하여 사용합니다."
      ]
    },
    {
      "cell_type": "code",
      "metadata": {
        "colab": {
          "base_uri": "https://localhost:8080/",
          "height": 175
        },
        "id": "F8diBDc7Mr04",
        "outputId": "e7c8ebca-f1fd-4829-a4d2-732b099c5106"
      },
      "source": [
        "df1 = df.reindex(index=dates[0:4], columns=list(df.columns)+[\"E\"])\n",
        "df1.loc[dates[0] : dates[1], \"E\"] = 1\n",
        "df1"
      ],
      "execution_count": 48,
      "outputs": [
        {
          "output_type": "execute_result",
          "data": {
            "text/html": [
              "<div>\n",
              "<style scoped>\n",
              "    .dataframe tbody tr th:only-of-type {\n",
              "        vertical-align: middle;\n",
              "    }\n",
              "\n",
              "    .dataframe tbody tr th {\n",
              "        vertical-align: top;\n",
              "    }\n",
              "\n",
              "    .dataframe thead th {\n",
              "        text-align: right;\n",
              "    }\n",
              "</style>\n",
              "<table border=\"1\" class=\"dataframe\">\n",
              "  <thead>\n",
              "    <tr style=\"text-align: right;\">\n",
              "      <th></th>\n",
              "      <th>A</th>\n",
              "      <th>B</th>\n",
              "      <th>C</th>\n",
              "      <th>D</th>\n",
              "      <th>F</th>\n",
              "      <th>E</th>\n",
              "    </tr>\n",
              "  </thead>\n",
              "  <tbody>\n",
              "    <tr>\n",
              "      <th>2013-01-01</th>\n",
              "      <td>0.000000</td>\n",
              "      <td>0.000000</td>\n",
              "      <td>-0.520166</td>\n",
              "      <td>5</td>\n",
              "      <td>NaN</td>\n",
              "      <td>1.0</td>\n",
              "    </tr>\n",
              "    <tr>\n",
              "      <th>2013-01-02</th>\n",
              "      <td>-0.087665</td>\n",
              "      <td>-1.134527</td>\n",
              "      <td>0.679985</td>\n",
              "      <td>5</td>\n",
              "      <td>1.0</td>\n",
              "      <td>1.0</td>\n",
              "    </tr>\n",
              "    <tr>\n",
              "      <th>2013-01-03</th>\n",
              "      <td>-1.653663</td>\n",
              "      <td>0.471665</td>\n",
              "      <td>0.561040</td>\n",
              "      <td>5</td>\n",
              "      <td>2.0</td>\n",
              "      <td>NaN</td>\n",
              "    </tr>\n",
              "    <tr>\n",
              "      <th>2013-01-04</th>\n",
              "      <td>-0.977763</td>\n",
              "      <td>-0.842951</td>\n",
              "      <td>-1.509517</td>\n",
              "      <td>5</td>\n",
              "      <td>3.0</td>\n",
              "      <td>NaN</td>\n",
              "    </tr>\n",
              "  </tbody>\n",
              "</table>\n",
              "</div>"
            ],
            "text/plain": [
              "                   A         B         C  D    F    E\n",
              "2013-01-01  0.000000  0.000000 -0.520166  5  NaN  1.0\n",
              "2013-01-02 -0.087665 -1.134527  0.679985  5  1.0  1.0\n",
              "2013-01-03 -1.653663  0.471665  0.561040  5  2.0  NaN\n",
              "2013-01-04 -0.977763 -0.842951 -1.509517  5  3.0  NaN"
            ]
          },
          "metadata": {
            "tags": []
          },
          "execution_count": 48
        }
      ]
    },
    {
      "cell_type": "markdown",
      "metadata": {
        "id": "fOMr1BVCMtG4"
      },
      "source": [
        "how = 'any' 옵션을 사용하여 결측치를 가지고 있지 않는 데이터를 보여줍니다."
      ]
    },
    {
      "cell_type": "code",
      "metadata": {
        "colab": {
          "base_uri": "https://localhost:8080/",
          "height": 81
        },
        "id": "xDHrX3kuMxfp",
        "outputId": "fcb40df5-af75-435e-c4f4-4a88e6512cdb"
      },
      "source": [
        "df1.dropna(how='any')"
      ],
      "execution_count": 49,
      "outputs": [
        {
          "output_type": "execute_result",
          "data": {
            "text/html": [
              "<div>\n",
              "<style scoped>\n",
              "    .dataframe tbody tr th:only-of-type {\n",
              "        vertical-align: middle;\n",
              "    }\n",
              "\n",
              "    .dataframe tbody tr th {\n",
              "        vertical-align: top;\n",
              "    }\n",
              "\n",
              "    .dataframe thead th {\n",
              "        text-align: right;\n",
              "    }\n",
              "</style>\n",
              "<table border=\"1\" class=\"dataframe\">\n",
              "  <thead>\n",
              "    <tr style=\"text-align: right;\">\n",
              "      <th></th>\n",
              "      <th>A</th>\n",
              "      <th>B</th>\n",
              "      <th>C</th>\n",
              "      <th>D</th>\n",
              "      <th>F</th>\n",
              "      <th>E</th>\n",
              "    </tr>\n",
              "  </thead>\n",
              "  <tbody>\n",
              "    <tr>\n",
              "      <th>2013-01-02</th>\n",
              "      <td>-0.087665</td>\n",
              "      <td>-1.134527</td>\n",
              "      <td>0.679985</td>\n",
              "      <td>5</td>\n",
              "      <td>1.0</td>\n",
              "      <td>1.0</td>\n",
              "    </tr>\n",
              "  </tbody>\n",
              "</table>\n",
              "</div>"
            ],
            "text/plain": [
              "                   A         B         C  D    F    E\n",
              "2013-01-02 -0.087665 -1.134527  0.679985  5  1.0  1.0"
            ]
          },
          "metadata": {
            "tags": []
          },
          "execution_count": 49
        }
      ]
    },
    {
      "cell_type": "markdown",
      "metadata": {
        "id": "R2K369xANImz"
      },
      "source": [
        "결측치를 채우기"
      ]
    },
    {
      "cell_type": "code",
      "metadata": {
        "colab": {
          "base_uri": "https://localhost:8080/",
          "height": 175
        },
        "id": "OQ4LqM1INMA-",
        "outputId": "e461b548-dc79-44d7-d5d2-e68796cadd94"
      },
      "source": [
        "df1.fillna(value=5)"
      ],
      "execution_count": 50,
      "outputs": [
        {
          "output_type": "execute_result",
          "data": {
            "text/html": [
              "<div>\n",
              "<style scoped>\n",
              "    .dataframe tbody tr th:only-of-type {\n",
              "        vertical-align: middle;\n",
              "    }\n",
              "\n",
              "    .dataframe tbody tr th {\n",
              "        vertical-align: top;\n",
              "    }\n",
              "\n",
              "    .dataframe thead th {\n",
              "        text-align: right;\n",
              "    }\n",
              "</style>\n",
              "<table border=\"1\" class=\"dataframe\">\n",
              "  <thead>\n",
              "    <tr style=\"text-align: right;\">\n",
              "      <th></th>\n",
              "      <th>A</th>\n",
              "      <th>B</th>\n",
              "      <th>C</th>\n",
              "      <th>D</th>\n",
              "      <th>F</th>\n",
              "      <th>E</th>\n",
              "    </tr>\n",
              "  </thead>\n",
              "  <tbody>\n",
              "    <tr>\n",
              "      <th>2013-01-01</th>\n",
              "      <td>0.000000</td>\n",
              "      <td>0.000000</td>\n",
              "      <td>-0.520166</td>\n",
              "      <td>5</td>\n",
              "      <td>5.0</td>\n",
              "      <td>1.0</td>\n",
              "    </tr>\n",
              "    <tr>\n",
              "      <th>2013-01-02</th>\n",
              "      <td>-0.087665</td>\n",
              "      <td>-1.134527</td>\n",
              "      <td>0.679985</td>\n",
              "      <td>5</td>\n",
              "      <td>1.0</td>\n",
              "      <td>1.0</td>\n",
              "    </tr>\n",
              "    <tr>\n",
              "      <th>2013-01-03</th>\n",
              "      <td>-1.653663</td>\n",
              "      <td>0.471665</td>\n",
              "      <td>0.561040</td>\n",
              "      <td>5</td>\n",
              "      <td>2.0</td>\n",
              "      <td>5.0</td>\n",
              "    </tr>\n",
              "    <tr>\n",
              "      <th>2013-01-04</th>\n",
              "      <td>-0.977763</td>\n",
              "      <td>-0.842951</td>\n",
              "      <td>-1.509517</td>\n",
              "      <td>5</td>\n",
              "      <td>3.0</td>\n",
              "      <td>5.0</td>\n",
              "    </tr>\n",
              "  </tbody>\n",
              "</table>\n",
              "</div>"
            ],
            "text/plain": [
              "                   A         B         C  D    F    E\n",
              "2013-01-01  0.000000  0.000000 -0.520166  5  5.0  1.0\n",
              "2013-01-02 -0.087665 -1.134527  0.679985  5  1.0  1.0\n",
              "2013-01-03 -1.653663  0.471665  0.561040  5  2.0  5.0\n",
              "2013-01-04 -0.977763 -0.842951 -1.509517  5  3.0  5.0"
            ]
          },
          "metadata": {
            "tags": []
          },
          "execution_count": 50
        }
      ]
    },
    {
      "cell_type": "markdown",
      "metadata": {
        "id": "FnnMKlaKNOjq"
      },
      "source": [
        "nan값을 가진 value를 boolean mask로 가져옵니다."
      ]
    },
    {
      "cell_type": "code",
      "metadata": {
        "colab": {
          "base_uri": "https://localhost:8080/",
          "height": 175
        },
        "id": "UBU05t9xNm6Q",
        "outputId": "3866df18-7241-4824-dc64-3ef433c5c148"
      },
      "source": [
        "df1"
      ],
      "execution_count": 51,
      "outputs": [
        {
          "output_type": "execute_result",
          "data": {
            "text/html": [
              "<div>\n",
              "<style scoped>\n",
              "    .dataframe tbody tr th:only-of-type {\n",
              "        vertical-align: middle;\n",
              "    }\n",
              "\n",
              "    .dataframe tbody tr th {\n",
              "        vertical-align: top;\n",
              "    }\n",
              "\n",
              "    .dataframe thead th {\n",
              "        text-align: right;\n",
              "    }\n",
              "</style>\n",
              "<table border=\"1\" class=\"dataframe\">\n",
              "  <thead>\n",
              "    <tr style=\"text-align: right;\">\n",
              "      <th></th>\n",
              "      <th>A</th>\n",
              "      <th>B</th>\n",
              "      <th>C</th>\n",
              "      <th>D</th>\n",
              "      <th>F</th>\n",
              "      <th>E</th>\n",
              "    </tr>\n",
              "  </thead>\n",
              "  <tbody>\n",
              "    <tr>\n",
              "      <th>2013-01-01</th>\n",
              "      <td>0.000000</td>\n",
              "      <td>0.000000</td>\n",
              "      <td>-0.520166</td>\n",
              "      <td>5</td>\n",
              "      <td>NaN</td>\n",
              "      <td>1.0</td>\n",
              "    </tr>\n",
              "    <tr>\n",
              "      <th>2013-01-02</th>\n",
              "      <td>-0.087665</td>\n",
              "      <td>-1.134527</td>\n",
              "      <td>0.679985</td>\n",
              "      <td>5</td>\n",
              "      <td>1.0</td>\n",
              "      <td>1.0</td>\n",
              "    </tr>\n",
              "    <tr>\n",
              "      <th>2013-01-03</th>\n",
              "      <td>-1.653663</td>\n",
              "      <td>0.471665</td>\n",
              "      <td>0.561040</td>\n",
              "      <td>5</td>\n",
              "      <td>2.0</td>\n",
              "      <td>NaN</td>\n",
              "    </tr>\n",
              "    <tr>\n",
              "      <th>2013-01-04</th>\n",
              "      <td>-0.977763</td>\n",
              "      <td>-0.842951</td>\n",
              "      <td>-1.509517</td>\n",
              "      <td>5</td>\n",
              "      <td>3.0</td>\n",
              "      <td>NaN</td>\n",
              "    </tr>\n",
              "  </tbody>\n",
              "</table>\n",
              "</div>"
            ],
            "text/plain": [
              "                   A         B         C  D    F    E\n",
              "2013-01-01  0.000000  0.000000 -0.520166  5  NaN  1.0\n",
              "2013-01-02 -0.087665 -1.134527  0.679985  5  1.0  1.0\n",
              "2013-01-03 -1.653663  0.471665  0.561040  5  2.0  NaN\n",
              "2013-01-04 -0.977763 -0.842951 -1.509517  5  3.0  NaN"
            ]
          },
          "metadata": {
            "tags": []
          },
          "execution_count": 51
        }
      ]
    },
    {
      "cell_type": "code",
      "metadata": {
        "colab": {
          "base_uri": "https://localhost:8080/",
          "height": 175
        },
        "id": "m-fBaUIYNkgz",
        "outputId": "0aace1e6-74e8-46b7-8f4c-f2376c671656"
      },
      "source": [
        "pd.isna(df1)"
      ],
      "execution_count": 52,
      "outputs": [
        {
          "output_type": "execute_result",
          "data": {
            "text/html": [
              "<div>\n",
              "<style scoped>\n",
              "    .dataframe tbody tr th:only-of-type {\n",
              "        vertical-align: middle;\n",
              "    }\n",
              "\n",
              "    .dataframe tbody tr th {\n",
              "        vertical-align: top;\n",
              "    }\n",
              "\n",
              "    .dataframe thead th {\n",
              "        text-align: right;\n",
              "    }\n",
              "</style>\n",
              "<table border=\"1\" class=\"dataframe\">\n",
              "  <thead>\n",
              "    <tr style=\"text-align: right;\">\n",
              "      <th></th>\n",
              "      <th>A</th>\n",
              "      <th>B</th>\n",
              "      <th>C</th>\n",
              "      <th>D</th>\n",
              "      <th>F</th>\n",
              "      <th>E</th>\n",
              "    </tr>\n",
              "  </thead>\n",
              "  <tbody>\n",
              "    <tr>\n",
              "      <th>2013-01-01</th>\n",
              "      <td>False</td>\n",
              "      <td>False</td>\n",
              "      <td>False</td>\n",
              "      <td>False</td>\n",
              "      <td>True</td>\n",
              "      <td>False</td>\n",
              "    </tr>\n",
              "    <tr>\n",
              "      <th>2013-01-02</th>\n",
              "      <td>False</td>\n",
              "      <td>False</td>\n",
              "      <td>False</td>\n",
              "      <td>False</td>\n",
              "      <td>False</td>\n",
              "      <td>False</td>\n",
              "    </tr>\n",
              "    <tr>\n",
              "      <th>2013-01-03</th>\n",
              "      <td>False</td>\n",
              "      <td>False</td>\n",
              "      <td>False</td>\n",
              "      <td>False</td>\n",
              "      <td>False</td>\n",
              "      <td>True</td>\n",
              "    </tr>\n",
              "    <tr>\n",
              "      <th>2013-01-04</th>\n",
              "      <td>False</td>\n",
              "      <td>False</td>\n",
              "      <td>False</td>\n",
              "      <td>False</td>\n",
              "      <td>False</td>\n",
              "      <td>True</td>\n",
              "    </tr>\n",
              "  </tbody>\n",
              "</table>\n",
              "</div>"
            ],
            "text/plain": [
              "                A      B      C      D      F      E\n",
              "2013-01-01  False  False  False  False   True  False\n",
              "2013-01-02  False  False  False  False  False  False\n",
              "2013-01-03  False  False  False  False  False   True\n",
              "2013-01-04  False  False  False  False  False   True"
            ]
          },
          "metadata": {
            "tags": []
          },
          "execution_count": 52
        }
      ]
    },
    {
      "cell_type": "markdown",
      "metadata": {
        "id": "hDGs-OkVNlod"
      },
      "source": [
        "# Stats"
      ]
    },
    {
      "cell_type": "code",
      "metadata": {
        "colab": {
          "base_uri": "https://localhost:8080/",
          "height": 237
        },
        "id": "aaDZjtye-AB_",
        "outputId": "0aee6b5d-1a6c-459a-aa6e-c46e3a3da7fa"
      },
      "source": [
        "df"
      ],
      "execution_count": 53,
      "outputs": [
        {
          "output_type": "execute_result",
          "data": {
            "text/html": [
              "<div>\n",
              "<style scoped>\n",
              "    .dataframe tbody tr th:only-of-type {\n",
              "        vertical-align: middle;\n",
              "    }\n",
              "\n",
              "    .dataframe tbody tr th {\n",
              "        vertical-align: top;\n",
              "    }\n",
              "\n",
              "    .dataframe thead th {\n",
              "        text-align: right;\n",
              "    }\n",
              "</style>\n",
              "<table border=\"1\" class=\"dataframe\">\n",
              "  <thead>\n",
              "    <tr style=\"text-align: right;\">\n",
              "      <th></th>\n",
              "      <th>A</th>\n",
              "      <th>B</th>\n",
              "      <th>C</th>\n",
              "      <th>D</th>\n",
              "      <th>F</th>\n",
              "    </tr>\n",
              "  </thead>\n",
              "  <tbody>\n",
              "    <tr>\n",
              "      <th>2013-01-01</th>\n",
              "      <td>0.000000</td>\n",
              "      <td>0.000000</td>\n",
              "      <td>-0.520166</td>\n",
              "      <td>5</td>\n",
              "      <td>NaN</td>\n",
              "    </tr>\n",
              "    <tr>\n",
              "      <th>2013-01-02</th>\n",
              "      <td>-0.087665</td>\n",
              "      <td>-1.134527</td>\n",
              "      <td>0.679985</td>\n",
              "      <td>5</td>\n",
              "      <td>1.0</td>\n",
              "    </tr>\n",
              "    <tr>\n",
              "      <th>2013-01-03</th>\n",
              "      <td>-1.653663</td>\n",
              "      <td>0.471665</td>\n",
              "      <td>0.561040</td>\n",
              "      <td>5</td>\n",
              "      <td>2.0</td>\n",
              "    </tr>\n",
              "    <tr>\n",
              "      <th>2013-01-04</th>\n",
              "      <td>-0.977763</td>\n",
              "      <td>-0.842951</td>\n",
              "      <td>-1.509517</td>\n",
              "      <td>5</td>\n",
              "      <td>3.0</td>\n",
              "    </tr>\n",
              "    <tr>\n",
              "      <th>2013-01-05</th>\n",
              "      <td>1.840194</td>\n",
              "      <td>1.558633</td>\n",
              "      <td>0.247957</td>\n",
              "      <td>5</td>\n",
              "      <td>4.0</td>\n",
              "    </tr>\n",
              "    <tr>\n",
              "      <th>2013-01-06</th>\n",
              "      <td>1.610146</td>\n",
              "      <td>-1.665443</td>\n",
              "      <td>0.303155</td>\n",
              "      <td>5</td>\n",
              "      <td>5.0</td>\n",
              "    </tr>\n",
              "  </tbody>\n",
              "</table>\n",
              "</div>"
            ],
            "text/plain": [
              "                   A         B         C  D    F\n",
              "2013-01-01  0.000000  0.000000 -0.520166  5  NaN\n",
              "2013-01-02 -0.087665 -1.134527  0.679985  5  1.0\n",
              "2013-01-03 -1.653663  0.471665  0.561040  5  2.0\n",
              "2013-01-04 -0.977763 -0.842951 -1.509517  5  3.0\n",
              "2013-01-05  1.840194  1.558633  0.247957  5  4.0\n",
              "2013-01-06  1.610146 -1.665443  0.303155  5  5.0"
            ]
          },
          "metadata": {
            "tags": []
          },
          "execution_count": 53
        }
      ]
    },
    {
      "cell_type": "code",
      "metadata": {
        "colab": {
          "base_uri": "https://localhost:8080/"
        },
        "id": "DZPMQhqt9zoZ",
        "outputId": "01ce519b-1680-42d1-d4d2-dfae9efc071e"
      },
      "source": [
        "df.mean()"
      ],
      "execution_count": 54,
      "outputs": [
        {
          "output_type": "execute_result",
          "data": {
            "text/plain": [
              "A    0.121875\n",
              "B   -0.268771\n",
              "C   -0.039591\n",
              "D    5.000000\n",
              "F    3.000000\n",
              "dtype: float64"
            ]
          },
          "metadata": {
            "tags": []
          },
          "execution_count": 54
        }
      ]
    },
    {
      "cell_type": "code",
      "metadata": {
        "colab": {
          "base_uri": "https://localhost:8080/"
        },
        "id": "WKdnnJrn91Fz",
        "outputId": "a93867d7-fa7d-4164-e024-8765571a878f"
      },
      "source": [
        "df.mean(1)"
      ],
      "execution_count": 55,
      "outputs": [
        {
          "output_type": "execute_result",
          "data": {
            "text/plain": [
              "2013-01-01    1.119958\n",
              "2013-01-02    1.091558\n",
              "2013-01-03    1.275808\n",
              "2013-01-04    0.933954\n",
              "2013-01-05    2.529357\n",
              "2013-01-06    2.049572\n",
              "Freq: D, dtype: float64"
            ]
          },
          "metadata": {
            "tags": []
          },
          "execution_count": 55
        }
      ]
    },
    {
      "cell_type": "code",
      "metadata": {
        "colab": {
          "base_uri": "https://localhost:8080/"
        },
        "id": "Z6OTZiQA98Bu",
        "outputId": "611cc96b-35cd-4ff1-d73f-393d328b3c5d"
      },
      "source": [
        "s = pd.Series([1,3,5,np.nan,6,8], index=dates).shift(2)\n",
        "s"
      ],
      "execution_count": 56,
      "outputs": [
        {
          "output_type": "execute_result",
          "data": {
            "text/plain": [
              "2013-01-01    NaN\n",
              "2013-01-02    NaN\n",
              "2013-01-03    1.0\n",
              "2013-01-04    3.0\n",
              "2013-01-05    5.0\n",
              "2013-01-06    NaN\n",
              "Freq: D, dtype: float64"
            ]
          },
          "metadata": {
            "tags": []
          },
          "execution_count": 56
        }
      ]
    },
    {
      "cell_type": "markdown",
      "metadata": {
        "id": "gHDDDZIcZ9gt"
      },
      "source": [
        "크기가 다르고 정렬이 필요한 객체로 작업합니다.\n",
        "\n",
        "pandas는 지정된 차원을 따라 자동으로 broadcast합니다."
      ]
    },
    {
      "cell_type": "code",
      "metadata": {
        "colab": {
          "base_uri": "https://localhost:8080/",
          "height": 237
        },
        "id": "h7S65jxM-RFk",
        "outputId": "718d41c1-099f-498e-b717-80490c522958"
      },
      "source": [
        "df.sub(s, axis='index')"
      ],
      "execution_count": 57,
      "outputs": [
        {
          "output_type": "execute_result",
          "data": {
            "text/html": [
              "<div>\n",
              "<style scoped>\n",
              "    .dataframe tbody tr th:only-of-type {\n",
              "        vertical-align: middle;\n",
              "    }\n",
              "\n",
              "    .dataframe tbody tr th {\n",
              "        vertical-align: top;\n",
              "    }\n",
              "\n",
              "    .dataframe thead th {\n",
              "        text-align: right;\n",
              "    }\n",
              "</style>\n",
              "<table border=\"1\" class=\"dataframe\">\n",
              "  <thead>\n",
              "    <tr style=\"text-align: right;\">\n",
              "      <th></th>\n",
              "      <th>A</th>\n",
              "      <th>B</th>\n",
              "      <th>C</th>\n",
              "      <th>D</th>\n",
              "      <th>F</th>\n",
              "    </tr>\n",
              "  </thead>\n",
              "  <tbody>\n",
              "    <tr>\n",
              "      <th>2013-01-01</th>\n",
              "      <td>NaN</td>\n",
              "      <td>NaN</td>\n",
              "      <td>NaN</td>\n",
              "      <td>NaN</td>\n",
              "      <td>NaN</td>\n",
              "    </tr>\n",
              "    <tr>\n",
              "      <th>2013-01-02</th>\n",
              "      <td>NaN</td>\n",
              "      <td>NaN</td>\n",
              "      <td>NaN</td>\n",
              "      <td>NaN</td>\n",
              "      <td>NaN</td>\n",
              "    </tr>\n",
              "    <tr>\n",
              "      <th>2013-01-03</th>\n",
              "      <td>-2.653663</td>\n",
              "      <td>-0.528335</td>\n",
              "      <td>-0.438960</td>\n",
              "      <td>4.0</td>\n",
              "      <td>1.0</td>\n",
              "    </tr>\n",
              "    <tr>\n",
              "      <th>2013-01-04</th>\n",
              "      <td>-3.977763</td>\n",
              "      <td>-3.842951</td>\n",
              "      <td>-4.509517</td>\n",
              "      <td>2.0</td>\n",
              "      <td>0.0</td>\n",
              "    </tr>\n",
              "    <tr>\n",
              "      <th>2013-01-05</th>\n",
              "      <td>-3.159806</td>\n",
              "      <td>-3.441367</td>\n",
              "      <td>-4.752043</td>\n",
              "      <td>0.0</td>\n",
              "      <td>-1.0</td>\n",
              "    </tr>\n",
              "    <tr>\n",
              "      <th>2013-01-06</th>\n",
              "      <td>NaN</td>\n",
              "      <td>NaN</td>\n",
              "      <td>NaN</td>\n",
              "      <td>NaN</td>\n",
              "      <td>NaN</td>\n",
              "    </tr>\n",
              "  </tbody>\n",
              "</table>\n",
              "</div>"
            ],
            "text/plain": [
              "                   A         B         C    D    F\n",
              "2013-01-01       NaN       NaN       NaN  NaN  NaN\n",
              "2013-01-02       NaN       NaN       NaN  NaN  NaN\n",
              "2013-01-03 -2.653663 -0.528335 -0.438960  4.0  1.0\n",
              "2013-01-04 -3.977763 -3.842951 -4.509517  2.0  0.0\n",
              "2013-01-05 -3.159806 -3.441367 -4.752043  0.0 -1.0\n",
              "2013-01-06       NaN       NaN       NaN  NaN  NaN"
            ]
          },
          "metadata": {
            "tags": []
          },
          "execution_count": 57
        }
      ]
    },
    {
      "cell_type": "markdown",
      "metadata": {
        "id": "HyNeBsIjZU_d"
      },
      "source": [
        "# Apply"
      ]
    },
    {
      "cell_type": "code",
      "metadata": {
        "colab": {
          "base_uri": "https://localhost:8080/",
          "height": 237
        },
        "id": "oM6gOzhXaQ-g",
        "outputId": "50923319-d831-4d3f-c708-5ed8a6b8dc42"
      },
      "source": [
        "df"
      ],
      "execution_count": 58,
      "outputs": [
        {
          "output_type": "execute_result",
          "data": {
            "text/html": [
              "<div>\n",
              "<style scoped>\n",
              "    .dataframe tbody tr th:only-of-type {\n",
              "        vertical-align: middle;\n",
              "    }\n",
              "\n",
              "    .dataframe tbody tr th {\n",
              "        vertical-align: top;\n",
              "    }\n",
              "\n",
              "    .dataframe thead th {\n",
              "        text-align: right;\n",
              "    }\n",
              "</style>\n",
              "<table border=\"1\" class=\"dataframe\">\n",
              "  <thead>\n",
              "    <tr style=\"text-align: right;\">\n",
              "      <th></th>\n",
              "      <th>A</th>\n",
              "      <th>B</th>\n",
              "      <th>C</th>\n",
              "      <th>D</th>\n",
              "      <th>F</th>\n",
              "    </tr>\n",
              "  </thead>\n",
              "  <tbody>\n",
              "    <tr>\n",
              "      <th>2013-01-01</th>\n",
              "      <td>0.000000</td>\n",
              "      <td>0.000000</td>\n",
              "      <td>-0.520166</td>\n",
              "      <td>5</td>\n",
              "      <td>NaN</td>\n",
              "    </tr>\n",
              "    <tr>\n",
              "      <th>2013-01-02</th>\n",
              "      <td>-0.087665</td>\n",
              "      <td>-1.134527</td>\n",
              "      <td>0.679985</td>\n",
              "      <td>5</td>\n",
              "      <td>1.0</td>\n",
              "    </tr>\n",
              "    <tr>\n",
              "      <th>2013-01-03</th>\n",
              "      <td>-1.653663</td>\n",
              "      <td>0.471665</td>\n",
              "      <td>0.561040</td>\n",
              "      <td>5</td>\n",
              "      <td>2.0</td>\n",
              "    </tr>\n",
              "    <tr>\n",
              "      <th>2013-01-04</th>\n",
              "      <td>-0.977763</td>\n",
              "      <td>-0.842951</td>\n",
              "      <td>-1.509517</td>\n",
              "      <td>5</td>\n",
              "      <td>3.0</td>\n",
              "    </tr>\n",
              "    <tr>\n",
              "      <th>2013-01-05</th>\n",
              "      <td>1.840194</td>\n",
              "      <td>1.558633</td>\n",
              "      <td>0.247957</td>\n",
              "      <td>5</td>\n",
              "      <td>4.0</td>\n",
              "    </tr>\n",
              "    <tr>\n",
              "      <th>2013-01-06</th>\n",
              "      <td>1.610146</td>\n",
              "      <td>-1.665443</td>\n",
              "      <td>0.303155</td>\n",
              "      <td>5</td>\n",
              "      <td>5.0</td>\n",
              "    </tr>\n",
              "  </tbody>\n",
              "</table>\n",
              "</div>"
            ],
            "text/plain": [
              "                   A         B         C  D    F\n",
              "2013-01-01  0.000000  0.000000 -0.520166  5  NaN\n",
              "2013-01-02 -0.087665 -1.134527  0.679985  5  1.0\n",
              "2013-01-03 -1.653663  0.471665  0.561040  5  2.0\n",
              "2013-01-04 -0.977763 -0.842951 -1.509517  5  3.0\n",
              "2013-01-05  1.840194  1.558633  0.247957  5  4.0\n",
              "2013-01-06  1.610146 -1.665443  0.303155  5  5.0"
            ]
          },
          "metadata": {
            "tags": []
          },
          "execution_count": 58
        }
      ]
    },
    {
      "cell_type": "code",
      "metadata": {
        "colab": {
          "base_uri": "https://localhost:8080/",
          "height": 237
        },
        "id": "AUwCemCwaIva",
        "outputId": "4538fb92-4ffa-4e46-f645-d2bc33675f64"
      },
      "source": [
        "df.apply(np.cumsum)"
      ],
      "execution_count": 59,
      "outputs": [
        {
          "output_type": "execute_result",
          "data": {
            "text/html": [
              "<div>\n",
              "<style scoped>\n",
              "    .dataframe tbody tr th:only-of-type {\n",
              "        vertical-align: middle;\n",
              "    }\n",
              "\n",
              "    .dataframe tbody tr th {\n",
              "        vertical-align: top;\n",
              "    }\n",
              "\n",
              "    .dataframe thead th {\n",
              "        text-align: right;\n",
              "    }\n",
              "</style>\n",
              "<table border=\"1\" class=\"dataframe\">\n",
              "  <thead>\n",
              "    <tr style=\"text-align: right;\">\n",
              "      <th></th>\n",
              "      <th>A</th>\n",
              "      <th>B</th>\n",
              "      <th>C</th>\n",
              "      <th>D</th>\n",
              "      <th>F</th>\n",
              "    </tr>\n",
              "  </thead>\n",
              "  <tbody>\n",
              "    <tr>\n",
              "      <th>2013-01-01</th>\n",
              "      <td>0.000000</td>\n",
              "      <td>0.000000</td>\n",
              "      <td>-0.520166</td>\n",
              "      <td>5</td>\n",
              "      <td>NaN</td>\n",
              "    </tr>\n",
              "    <tr>\n",
              "      <th>2013-01-02</th>\n",
              "      <td>-0.087665</td>\n",
              "      <td>-1.134527</td>\n",
              "      <td>0.159818</td>\n",
              "      <td>10</td>\n",
              "      <td>1.0</td>\n",
              "    </tr>\n",
              "    <tr>\n",
              "      <th>2013-01-03</th>\n",
              "      <td>-1.741329</td>\n",
              "      <td>-0.662862</td>\n",
              "      <td>0.720859</td>\n",
              "      <td>15</td>\n",
              "      <td>3.0</td>\n",
              "    </tr>\n",
              "    <tr>\n",
              "      <th>2013-01-04</th>\n",
              "      <td>-2.719092</td>\n",
              "      <td>-1.505813</td>\n",
              "      <td>-0.788659</td>\n",
              "      <td>20</td>\n",
              "      <td>6.0</td>\n",
              "    </tr>\n",
              "    <tr>\n",
              "      <th>2013-01-05</th>\n",
              "      <td>-0.878897</td>\n",
              "      <td>0.052820</td>\n",
              "      <td>-0.540702</td>\n",
              "      <td>25</td>\n",
              "      <td>10.0</td>\n",
              "    </tr>\n",
              "    <tr>\n",
              "      <th>2013-01-06</th>\n",
              "      <td>0.731249</td>\n",
              "      <td>-1.612624</td>\n",
              "      <td>-0.237547</td>\n",
              "      <td>30</td>\n",
              "      <td>15.0</td>\n",
              "    </tr>\n",
              "  </tbody>\n",
              "</table>\n",
              "</div>"
            ],
            "text/plain": [
              "                   A         B         C   D     F\n",
              "2013-01-01  0.000000  0.000000 -0.520166   5   NaN\n",
              "2013-01-02 -0.087665 -1.134527  0.159818  10   1.0\n",
              "2013-01-03 -1.741329 -0.662862  0.720859  15   3.0\n",
              "2013-01-04 -2.719092 -1.505813 -0.788659  20   6.0\n",
              "2013-01-05 -0.878897  0.052820 -0.540702  25  10.0\n",
              "2013-01-06  0.731249 -1.612624 -0.237547  30  15.0"
            ]
          },
          "metadata": {
            "tags": []
          },
          "execution_count": 59
        }
      ]
    },
    {
      "cell_type": "code",
      "metadata": {
        "colab": {
          "base_uri": "https://localhost:8080/"
        },
        "id": "k1dvGedcaPOZ",
        "outputId": "cc6b5267-e54b-4583-cc59-778545aeb750"
      },
      "source": [
        "df.apply(lambda x : x.max() - x.min())"
      ],
      "execution_count": 60,
      "outputs": [
        {
          "output_type": "execute_result",
          "data": {
            "text/plain": [
              "A    3.493858\n",
              "B    3.224076\n",
              "C    2.189502\n",
              "D    0.000000\n",
              "F    4.000000\n",
              "dtype: float64"
            ]
          },
          "metadata": {
            "tags": []
          },
          "execution_count": 60
        }
      ]
    },
    {
      "cell_type": "markdown",
      "metadata": {
        "id": "d1AtVgcQVzXm"
      },
      "source": [
        "# Histogramming"
      ]
    },
    {
      "cell_type": "code",
      "metadata": {
        "colab": {
          "base_uri": "https://localhost:8080/"
        },
        "id": "3ygHPhQhV2lq",
        "outputId": "1e5a9fa8-2b82-4bba-d564-ea2b9ae82e38"
      },
      "source": [
        "s = pd.Series(np.random.randint(0,7,size=10))\n",
        "s"
      ],
      "execution_count": 61,
      "outputs": [
        {
          "output_type": "execute_result",
          "data": {
            "text/plain": [
              "0    2\n",
              "1    3\n",
              "2    2\n",
              "3    2\n",
              "4    5\n",
              "5    0\n",
              "6    6\n",
              "7    6\n",
              "8    6\n",
              "9    4\n",
              "dtype: int64"
            ]
          },
          "metadata": {
            "tags": []
          },
          "execution_count": 61
        }
      ]
    },
    {
      "cell_type": "code",
      "metadata": {
        "colab": {
          "base_uri": "https://localhost:8080/"
        },
        "id": "s3TZ6t2fV8jK",
        "outputId": "2bc34373-d6bb-4834-ad5b-936515e94a92"
      },
      "source": [
        "s.value_counts()"
      ],
      "execution_count": 62,
      "outputs": [
        {
          "output_type": "execute_result",
          "data": {
            "text/plain": [
              "6    3\n",
              "2    3\n",
              "5    1\n",
              "4    1\n",
              "3    1\n",
              "0    1\n",
              "dtype: int64"
            ]
          },
          "metadata": {
            "tags": []
          },
          "execution_count": 62
        }
      ]
    },
    {
      "cell_type": "markdown",
      "metadata": {
        "id": "nVg7wDStV_uh"
      },
      "source": [
        "# String Methods "
      ]
    },
    {
      "cell_type": "code",
      "metadata": {
        "colab": {
          "base_uri": "https://localhost:8080/"
        },
        "id": "2UqtxUFxWE7j",
        "outputId": "ba342872-08db-4c13-dd5c-774f9ed1f39f"
      },
      "source": [
        "s = pd.Series(['A', \"B\",\"C\",\"Aaba\",\"Baca\",np.nan,\"CABA\",\"dog\",\"cat\"])\n",
        "s.str.lower()"
      ],
      "execution_count": 63,
      "outputs": [
        {
          "output_type": "execute_result",
          "data": {
            "text/plain": [
              "0       a\n",
              "1       b\n",
              "2       c\n",
              "3    aaba\n",
              "4    baca\n",
              "5     NaN\n",
              "6    caba\n",
              "7     dog\n",
              "8     cat\n",
              "dtype: object"
            ]
          },
          "metadata": {
            "tags": []
          },
          "execution_count": 63
        }
      ]
    },
    {
      "cell_type": "markdown",
      "metadata": {
        "id": "eJMgO8leqteA"
      },
      "source": [
        "# Merge(병합)\n"
      ]
    },
    {
      "cell_type": "markdown",
      "metadata": {
        "id": "w2qA_W53rlvy"
      },
      "source": [
        "## Concat\n",
        "\n",
        "pandas는 Series와 DataFrame 객체를 쉽게 결합할 수 있는 다양한 기능을 제공합니다.\n",
        "\n",
        "Join, Merge 연산의 경우 index와 관계 대수를 위한 다양한 로직을 제공합니다."
      ]
    },
    {
      "cell_type": "code",
      "metadata": {
        "colab": {
          "base_uri": "https://localhost:8080/",
          "height": 363
        },
        "id": "Xr4ydbObr823",
        "outputId": "35e9164e-e0b0-44df-a3e5-6b379ced5677"
      },
      "source": [
        "df = pd.DataFrame(np.random.randn(10,4))\n",
        "df"
      ],
      "execution_count": 64,
      "outputs": [
        {
          "output_type": "execute_result",
          "data": {
            "text/html": [
              "<div>\n",
              "<style scoped>\n",
              "    .dataframe tbody tr th:only-of-type {\n",
              "        vertical-align: middle;\n",
              "    }\n",
              "\n",
              "    .dataframe tbody tr th {\n",
              "        vertical-align: top;\n",
              "    }\n",
              "\n",
              "    .dataframe thead th {\n",
              "        text-align: right;\n",
              "    }\n",
              "</style>\n",
              "<table border=\"1\" class=\"dataframe\">\n",
              "  <thead>\n",
              "    <tr style=\"text-align: right;\">\n",
              "      <th></th>\n",
              "      <th>0</th>\n",
              "      <th>1</th>\n",
              "      <th>2</th>\n",
              "      <th>3</th>\n",
              "    </tr>\n",
              "  </thead>\n",
              "  <tbody>\n",
              "    <tr>\n",
              "      <th>0</th>\n",
              "      <td>0.276184</td>\n",
              "      <td>-1.529821</td>\n",
              "      <td>-0.954428</td>\n",
              "      <td>1.704632</td>\n",
              "    </tr>\n",
              "    <tr>\n",
              "      <th>1</th>\n",
              "      <td>0.608064</td>\n",
              "      <td>-1.452748</td>\n",
              "      <td>0.785889</td>\n",
              "      <td>-0.021884</td>\n",
              "    </tr>\n",
              "    <tr>\n",
              "      <th>2</th>\n",
              "      <td>0.380750</td>\n",
              "      <td>-0.267682</td>\n",
              "      <td>0.426416</td>\n",
              "      <td>-0.046315</td>\n",
              "    </tr>\n",
              "    <tr>\n",
              "      <th>3</th>\n",
              "      <td>-1.204269</td>\n",
              "      <td>-0.359624</td>\n",
              "      <td>-0.613022</td>\n",
              "      <td>-0.023310</td>\n",
              "    </tr>\n",
              "    <tr>\n",
              "      <th>4</th>\n",
              "      <td>-0.484589</td>\n",
              "      <td>-0.188248</td>\n",
              "      <td>1.765421</td>\n",
              "      <td>0.763799</td>\n",
              "    </tr>\n",
              "    <tr>\n",
              "      <th>5</th>\n",
              "      <td>-0.574224</td>\n",
              "      <td>-0.100409</td>\n",
              "      <td>-1.893361</td>\n",
              "      <td>-0.277343</td>\n",
              "    </tr>\n",
              "    <tr>\n",
              "      <th>6</th>\n",
              "      <td>0.047345</td>\n",
              "      <td>0.430533</td>\n",
              "      <td>-0.239817</td>\n",
              "      <td>1.074811</td>\n",
              "    </tr>\n",
              "    <tr>\n",
              "      <th>7</th>\n",
              "      <td>-1.753386</td>\n",
              "      <td>0.475709</td>\n",
              "      <td>0.095090</td>\n",
              "      <td>1.886534</td>\n",
              "    </tr>\n",
              "    <tr>\n",
              "      <th>8</th>\n",
              "      <td>-0.076452</td>\n",
              "      <td>-1.620315</td>\n",
              "      <td>0.211969</td>\n",
              "      <td>1.274269</td>\n",
              "    </tr>\n",
              "    <tr>\n",
              "      <th>9</th>\n",
              "      <td>0.534128</td>\n",
              "      <td>0.762523</td>\n",
              "      <td>-0.277589</td>\n",
              "      <td>-0.881869</td>\n",
              "    </tr>\n",
              "  </tbody>\n",
              "</table>\n",
              "</div>"
            ],
            "text/plain": [
              "          0         1         2         3\n",
              "0  0.276184 -1.529821 -0.954428  1.704632\n",
              "1  0.608064 -1.452748  0.785889 -0.021884\n",
              "2  0.380750 -0.267682  0.426416 -0.046315\n",
              "3 -1.204269 -0.359624 -0.613022 -0.023310\n",
              "4 -0.484589 -0.188248  1.765421  0.763799\n",
              "5 -0.574224 -0.100409 -1.893361 -0.277343\n",
              "6  0.047345  0.430533 -0.239817  1.074811\n",
              "7 -1.753386  0.475709  0.095090  1.886534\n",
              "8 -0.076452 -1.620315  0.211969  1.274269\n",
              "9  0.534128  0.762523 -0.277589 -0.881869"
            ]
          },
          "metadata": {
            "tags": []
          },
          "execution_count": 64
        }
      ]
    },
    {
      "cell_type": "code",
      "metadata": {
        "colab": {
          "base_uri": "https://localhost:8080/"
        },
        "id": "q-MLHVSKsE-S",
        "outputId": "3bb0fe00-af18-44ce-c58e-a2b862bf49c6"
      },
      "source": [
        "pieces = [df[:3], df[3:7],df[7:]]\n",
        "pieces"
      ],
      "execution_count": 65,
      "outputs": [
        {
          "output_type": "execute_result",
          "data": {
            "text/plain": [
              "[          0         1         2         3\n",
              " 0  0.276184 -1.529821 -0.954428  1.704632\n",
              " 1  0.608064 -1.452748  0.785889 -0.021884\n",
              " 2  0.380750 -0.267682  0.426416 -0.046315,\n",
              "           0         1         2         3\n",
              " 3 -1.204269 -0.359624 -0.613022 -0.023310\n",
              " 4 -0.484589 -0.188248  1.765421  0.763799\n",
              " 5 -0.574224 -0.100409 -1.893361 -0.277343\n",
              " 6  0.047345  0.430533 -0.239817  1.074811,\n",
              "           0         1         2         3\n",
              " 7 -1.753386  0.475709  0.095090  1.886534\n",
              " 8 -0.076452 -1.620315  0.211969  1.274269\n",
              " 9  0.534128  0.762523 -0.277589 -0.881869]"
            ]
          },
          "metadata": {
            "tags": []
          },
          "execution_count": 65
        }
      ]
    },
    {
      "cell_type": "code",
      "metadata": {
        "colab": {
          "base_uri": "https://localhost:8080/",
          "height": 363
        },
        "id": "LKMnoXfusK5u",
        "outputId": "65d72731-5fdf-4c77-de6a-cb8286992efc"
      },
      "source": [
        "pd.concat(pieces)"
      ],
      "execution_count": 66,
      "outputs": [
        {
          "output_type": "execute_result",
          "data": {
            "text/html": [
              "<div>\n",
              "<style scoped>\n",
              "    .dataframe tbody tr th:only-of-type {\n",
              "        vertical-align: middle;\n",
              "    }\n",
              "\n",
              "    .dataframe tbody tr th {\n",
              "        vertical-align: top;\n",
              "    }\n",
              "\n",
              "    .dataframe thead th {\n",
              "        text-align: right;\n",
              "    }\n",
              "</style>\n",
              "<table border=\"1\" class=\"dataframe\">\n",
              "  <thead>\n",
              "    <tr style=\"text-align: right;\">\n",
              "      <th></th>\n",
              "      <th>0</th>\n",
              "      <th>1</th>\n",
              "      <th>2</th>\n",
              "      <th>3</th>\n",
              "    </tr>\n",
              "  </thead>\n",
              "  <tbody>\n",
              "    <tr>\n",
              "      <th>0</th>\n",
              "      <td>0.276184</td>\n",
              "      <td>-1.529821</td>\n",
              "      <td>-0.954428</td>\n",
              "      <td>1.704632</td>\n",
              "    </tr>\n",
              "    <tr>\n",
              "      <th>1</th>\n",
              "      <td>0.608064</td>\n",
              "      <td>-1.452748</td>\n",
              "      <td>0.785889</td>\n",
              "      <td>-0.021884</td>\n",
              "    </tr>\n",
              "    <tr>\n",
              "      <th>2</th>\n",
              "      <td>0.380750</td>\n",
              "      <td>-0.267682</td>\n",
              "      <td>0.426416</td>\n",
              "      <td>-0.046315</td>\n",
              "    </tr>\n",
              "    <tr>\n",
              "      <th>3</th>\n",
              "      <td>-1.204269</td>\n",
              "      <td>-0.359624</td>\n",
              "      <td>-0.613022</td>\n",
              "      <td>-0.023310</td>\n",
              "    </tr>\n",
              "    <tr>\n",
              "      <th>4</th>\n",
              "      <td>-0.484589</td>\n",
              "      <td>-0.188248</td>\n",
              "      <td>1.765421</td>\n",
              "      <td>0.763799</td>\n",
              "    </tr>\n",
              "    <tr>\n",
              "      <th>5</th>\n",
              "      <td>-0.574224</td>\n",
              "      <td>-0.100409</td>\n",
              "      <td>-1.893361</td>\n",
              "      <td>-0.277343</td>\n",
              "    </tr>\n",
              "    <tr>\n",
              "      <th>6</th>\n",
              "      <td>0.047345</td>\n",
              "      <td>0.430533</td>\n",
              "      <td>-0.239817</td>\n",
              "      <td>1.074811</td>\n",
              "    </tr>\n",
              "    <tr>\n",
              "      <th>7</th>\n",
              "      <td>-1.753386</td>\n",
              "      <td>0.475709</td>\n",
              "      <td>0.095090</td>\n",
              "      <td>1.886534</td>\n",
              "    </tr>\n",
              "    <tr>\n",
              "      <th>8</th>\n",
              "      <td>-0.076452</td>\n",
              "      <td>-1.620315</td>\n",
              "      <td>0.211969</td>\n",
              "      <td>1.274269</td>\n",
              "    </tr>\n",
              "    <tr>\n",
              "      <th>9</th>\n",
              "      <td>0.534128</td>\n",
              "      <td>0.762523</td>\n",
              "      <td>-0.277589</td>\n",
              "      <td>-0.881869</td>\n",
              "    </tr>\n",
              "  </tbody>\n",
              "</table>\n",
              "</div>"
            ],
            "text/plain": [
              "          0         1         2         3\n",
              "0  0.276184 -1.529821 -0.954428  1.704632\n",
              "1  0.608064 -1.452748  0.785889 -0.021884\n",
              "2  0.380750 -0.267682  0.426416 -0.046315\n",
              "3 -1.204269 -0.359624 -0.613022 -0.023310\n",
              "4 -0.484589 -0.188248  1.765421  0.763799\n",
              "5 -0.574224 -0.100409 -1.893361 -0.277343\n",
              "6  0.047345  0.430533 -0.239817  1.074811\n",
              "7 -1.753386  0.475709  0.095090  1.886534\n",
              "8 -0.076452 -1.620315  0.211969  1.274269\n",
              "9  0.534128  0.762523 -0.277589 -0.881869"
            ]
          },
          "metadata": {
            "tags": []
          },
          "execution_count": 66
        }
      ]
    },
    {
      "cell_type": "markdown",
      "metadata": {
        "id": "zMDUwZobsO9J"
      },
      "source": [
        "## Join\n",
        "\n",
        "SQL 스타일로 병합이 됩니다."
      ]
    },
    {
      "cell_type": "code",
      "metadata": {
        "colab": {
          "base_uri": "https://localhost:8080/",
          "height": 112
        },
        "id": "unlKN_UHsobN",
        "outputId": "0fc899fd-b52c-4b1c-d997-5af978f04fd2"
      },
      "source": [
        "left = pd.DataFrame({\"key\" :[\"foo\",\"foo\"], \"lval\" : [1,2]})\n",
        "left"
      ],
      "execution_count": 67,
      "outputs": [
        {
          "output_type": "execute_result",
          "data": {
            "text/html": [
              "<div>\n",
              "<style scoped>\n",
              "    .dataframe tbody tr th:only-of-type {\n",
              "        vertical-align: middle;\n",
              "    }\n",
              "\n",
              "    .dataframe tbody tr th {\n",
              "        vertical-align: top;\n",
              "    }\n",
              "\n",
              "    .dataframe thead th {\n",
              "        text-align: right;\n",
              "    }\n",
              "</style>\n",
              "<table border=\"1\" class=\"dataframe\">\n",
              "  <thead>\n",
              "    <tr style=\"text-align: right;\">\n",
              "      <th></th>\n",
              "      <th>key</th>\n",
              "      <th>lval</th>\n",
              "    </tr>\n",
              "  </thead>\n",
              "  <tbody>\n",
              "    <tr>\n",
              "      <th>0</th>\n",
              "      <td>foo</td>\n",
              "      <td>1</td>\n",
              "    </tr>\n",
              "    <tr>\n",
              "      <th>1</th>\n",
              "      <td>foo</td>\n",
              "      <td>2</td>\n",
              "    </tr>\n",
              "  </tbody>\n",
              "</table>\n",
              "</div>"
            ],
            "text/plain": [
              "   key  lval\n",
              "0  foo     1\n",
              "1  foo     2"
            ]
          },
          "metadata": {
            "tags": []
          },
          "execution_count": 67
        }
      ]
    },
    {
      "cell_type": "code",
      "metadata": {
        "colab": {
          "base_uri": "https://localhost:8080/",
          "height": 112
        },
        "id": "owM6iz7ss2YF",
        "outputId": "ded176e7-fa42-439f-84de-d9053b69b814"
      },
      "source": [
        "right = pd.DataFrame({\"key\" :[\"foo\",\"foo\"], \"lval\" : [4,5]})\n",
        "right"
      ],
      "execution_count": 68,
      "outputs": [
        {
          "output_type": "execute_result",
          "data": {
            "text/html": [
              "<div>\n",
              "<style scoped>\n",
              "    .dataframe tbody tr th:only-of-type {\n",
              "        vertical-align: middle;\n",
              "    }\n",
              "\n",
              "    .dataframe tbody tr th {\n",
              "        vertical-align: top;\n",
              "    }\n",
              "\n",
              "    .dataframe thead th {\n",
              "        text-align: right;\n",
              "    }\n",
              "</style>\n",
              "<table border=\"1\" class=\"dataframe\">\n",
              "  <thead>\n",
              "    <tr style=\"text-align: right;\">\n",
              "      <th></th>\n",
              "      <th>key</th>\n",
              "      <th>lval</th>\n",
              "    </tr>\n",
              "  </thead>\n",
              "  <tbody>\n",
              "    <tr>\n",
              "      <th>0</th>\n",
              "      <td>foo</td>\n",
              "      <td>4</td>\n",
              "    </tr>\n",
              "    <tr>\n",
              "      <th>1</th>\n",
              "      <td>foo</td>\n",
              "      <td>5</td>\n",
              "    </tr>\n",
              "  </tbody>\n",
              "</table>\n",
              "</div>"
            ],
            "text/plain": [
              "   key  lval\n",
              "0  foo     4\n",
              "1  foo     5"
            ]
          },
          "metadata": {
            "tags": []
          },
          "execution_count": 68
        }
      ]
    },
    {
      "cell_type": "code",
      "metadata": {
        "colab": {
          "base_uri": "https://localhost:8080/",
          "height": 175
        },
        "id": "Cdcntm1cs3Az",
        "outputId": "245661fc-e8cf-41ac-b0dd-351ae927ae73"
      },
      "source": [
        "pd.merge(left, right, on='key')"
      ],
      "execution_count": 69,
      "outputs": [
        {
          "output_type": "execute_result",
          "data": {
            "text/html": [
              "<div>\n",
              "<style scoped>\n",
              "    .dataframe tbody tr th:only-of-type {\n",
              "        vertical-align: middle;\n",
              "    }\n",
              "\n",
              "    .dataframe tbody tr th {\n",
              "        vertical-align: top;\n",
              "    }\n",
              "\n",
              "    .dataframe thead th {\n",
              "        text-align: right;\n",
              "    }\n",
              "</style>\n",
              "<table border=\"1\" class=\"dataframe\">\n",
              "  <thead>\n",
              "    <tr style=\"text-align: right;\">\n",
              "      <th></th>\n",
              "      <th>key</th>\n",
              "      <th>lval_x</th>\n",
              "      <th>lval_y</th>\n",
              "    </tr>\n",
              "  </thead>\n",
              "  <tbody>\n",
              "    <tr>\n",
              "      <th>0</th>\n",
              "      <td>foo</td>\n",
              "      <td>1</td>\n",
              "      <td>4</td>\n",
              "    </tr>\n",
              "    <tr>\n",
              "      <th>1</th>\n",
              "      <td>foo</td>\n",
              "      <td>1</td>\n",
              "      <td>5</td>\n",
              "    </tr>\n",
              "    <tr>\n",
              "      <th>2</th>\n",
              "      <td>foo</td>\n",
              "      <td>2</td>\n",
              "      <td>4</td>\n",
              "    </tr>\n",
              "    <tr>\n",
              "      <th>3</th>\n",
              "      <td>foo</td>\n",
              "      <td>2</td>\n",
              "      <td>5</td>\n",
              "    </tr>\n",
              "  </tbody>\n",
              "</table>\n",
              "</div>"
            ],
            "text/plain": [
              "   key  lval_x  lval_y\n",
              "0  foo       1       4\n",
              "1  foo       1       5\n",
              "2  foo       2       4\n",
              "3  foo       2       5"
            ]
          },
          "metadata": {
            "tags": []
          },
          "execution_count": 69
        }
      ]
    },
    {
      "cell_type": "markdown",
      "metadata": {
        "id": "AkIsgmpqtJ_o"
      },
      "source": [
        "다른 예를 보자면"
      ]
    },
    {
      "cell_type": "code",
      "metadata": {
        "colab": {
          "base_uri": "https://localhost:8080/",
          "height": 112
        },
        "id": "HeOvJI_zs_44",
        "outputId": "938485db-7024-4518-ed22-110b45c98155"
      },
      "source": [
        "left = pd.DataFrame({\"key\" : [\"foo\",\"bar\"], \"lval\" : [1,2]})\n",
        "left"
      ],
      "execution_count": 70,
      "outputs": [
        {
          "output_type": "execute_result",
          "data": {
            "text/html": [
              "<div>\n",
              "<style scoped>\n",
              "    .dataframe tbody tr th:only-of-type {\n",
              "        vertical-align: middle;\n",
              "    }\n",
              "\n",
              "    .dataframe tbody tr th {\n",
              "        vertical-align: top;\n",
              "    }\n",
              "\n",
              "    .dataframe thead th {\n",
              "        text-align: right;\n",
              "    }\n",
              "</style>\n",
              "<table border=\"1\" class=\"dataframe\">\n",
              "  <thead>\n",
              "    <tr style=\"text-align: right;\">\n",
              "      <th></th>\n",
              "      <th>key</th>\n",
              "      <th>lval</th>\n",
              "    </tr>\n",
              "  </thead>\n",
              "  <tbody>\n",
              "    <tr>\n",
              "      <th>0</th>\n",
              "      <td>foo</td>\n",
              "      <td>1</td>\n",
              "    </tr>\n",
              "    <tr>\n",
              "      <th>1</th>\n",
              "      <td>bar</td>\n",
              "      <td>2</td>\n",
              "    </tr>\n",
              "  </tbody>\n",
              "</table>\n",
              "</div>"
            ],
            "text/plain": [
              "   key  lval\n",
              "0  foo     1\n",
              "1  bar     2"
            ]
          },
          "metadata": {
            "tags": []
          },
          "execution_count": 70
        }
      ]
    },
    {
      "cell_type": "code",
      "metadata": {
        "colab": {
          "base_uri": "https://localhost:8080/",
          "height": 112
        },
        "id": "yWMdb3OstYIF",
        "outputId": "e74d4b25-3675-4bf2-8db2-d1eed3d9681d"
      },
      "source": [
        "right = pd.DataFrame({\"key\" :[\"foo\",\"bar\"], \"lval\" : [4,5]})\n",
        "right"
      ],
      "execution_count": 71,
      "outputs": [
        {
          "output_type": "execute_result",
          "data": {
            "text/html": [
              "<div>\n",
              "<style scoped>\n",
              "    .dataframe tbody tr th:only-of-type {\n",
              "        vertical-align: middle;\n",
              "    }\n",
              "\n",
              "    .dataframe tbody tr th {\n",
              "        vertical-align: top;\n",
              "    }\n",
              "\n",
              "    .dataframe thead th {\n",
              "        text-align: right;\n",
              "    }\n",
              "</style>\n",
              "<table border=\"1\" class=\"dataframe\">\n",
              "  <thead>\n",
              "    <tr style=\"text-align: right;\">\n",
              "      <th></th>\n",
              "      <th>key</th>\n",
              "      <th>lval</th>\n",
              "    </tr>\n",
              "  </thead>\n",
              "  <tbody>\n",
              "    <tr>\n",
              "      <th>0</th>\n",
              "      <td>foo</td>\n",
              "      <td>4</td>\n",
              "    </tr>\n",
              "    <tr>\n",
              "      <th>1</th>\n",
              "      <td>bar</td>\n",
              "      <td>5</td>\n",
              "    </tr>\n",
              "  </tbody>\n",
              "</table>\n",
              "</div>"
            ],
            "text/plain": [
              "   key  lval\n",
              "0  foo     4\n",
              "1  bar     5"
            ]
          },
          "metadata": {
            "tags": []
          },
          "execution_count": 71
        }
      ]
    },
    {
      "cell_type": "code",
      "metadata": {
        "colab": {
          "base_uri": "https://localhost:8080/",
          "height": 112
        },
        "id": "ru_lM6YxtaFU",
        "outputId": "697b0dfd-ea66-48e7-97b9-cb9ce432c630"
      },
      "source": [
        "pd.merge(left, right, on='key')"
      ],
      "execution_count": 72,
      "outputs": [
        {
          "output_type": "execute_result",
          "data": {
            "text/html": [
              "<div>\n",
              "<style scoped>\n",
              "    .dataframe tbody tr th:only-of-type {\n",
              "        vertical-align: middle;\n",
              "    }\n",
              "\n",
              "    .dataframe tbody tr th {\n",
              "        vertical-align: top;\n",
              "    }\n",
              "\n",
              "    .dataframe thead th {\n",
              "        text-align: right;\n",
              "    }\n",
              "</style>\n",
              "<table border=\"1\" class=\"dataframe\">\n",
              "  <thead>\n",
              "    <tr style=\"text-align: right;\">\n",
              "      <th></th>\n",
              "      <th>key</th>\n",
              "      <th>lval_x</th>\n",
              "      <th>lval_y</th>\n",
              "    </tr>\n",
              "  </thead>\n",
              "  <tbody>\n",
              "    <tr>\n",
              "      <th>0</th>\n",
              "      <td>foo</td>\n",
              "      <td>1</td>\n",
              "      <td>4</td>\n",
              "    </tr>\n",
              "    <tr>\n",
              "      <th>1</th>\n",
              "      <td>bar</td>\n",
              "      <td>2</td>\n",
              "      <td>5</td>\n",
              "    </tr>\n",
              "  </tbody>\n",
              "</table>\n",
              "</div>"
            ],
            "text/plain": [
              "   key  lval_x  lval_y\n",
              "0  foo       1       4\n",
              "1  bar       2       5"
            ]
          },
          "metadata": {
            "tags": []
          },
          "execution_count": 72
        }
      ]
    },
    {
      "cell_type": "markdown",
      "metadata": {
        "id": "Dkftr4Uz-e5J"
      },
      "source": [
        "# Grouping\n",
        "'group by' 란 다음 단계 중 하나이상을 포함하는 프로세스를 의미합니다.\n",
        "- 일부 기준에 따라 데이터를 그룹으로 나눕니다.\n",
        "- 각 그룹에 독립적으로 기능을 적용합니다.\n",
        "- 결과를 데이터 구조로 결합합니다.\n"
      ]
    },
    {
      "cell_type": "code",
      "metadata": {
        "colab": {
          "base_uri": "https://localhost:8080/",
          "height": 300
        },
        "id": "3-bJMmDp-3OL",
        "outputId": "7308aeb5-e230-47b7-8534-c82cd46409f9"
      },
      "source": [
        "df = pd.DataFrame(\n",
        "    {\n",
        "        \"A\" : [\"foo\",'bar','foo','bar','foo','bar','foo','foo'],\n",
        "        \"B\" : [\"one\",\"one\",\"two\",\"three\",\"two\",'two','one','three'],\n",
        "        \"C\" : np.random.randn(8),\n",
        "        \"D\" : np.random.randn(8)\n",
        "    }\n",
        ")\n",
        "df"
      ],
      "execution_count": 73,
      "outputs": [
        {
          "output_type": "execute_result",
          "data": {
            "text/html": [
              "<div>\n",
              "<style scoped>\n",
              "    .dataframe tbody tr th:only-of-type {\n",
              "        vertical-align: middle;\n",
              "    }\n",
              "\n",
              "    .dataframe tbody tr th {\n",
              "        vertical-align: top;\n",
              "    }\n",
              "\n",
              "    .dataframe thead th {\n",
              "        text-align: right;\n",
              "    }\n",
              "</style>\n",
              "<table border=\"1\" class=\"dataframe\">\n",
              "  <thead>\n",
              "    <tr style=\"text-align: right;\">\n",
              "      <th></th>\n",
              "      <th>A</th>\n",
              "      <th>B</th>\n",
              "      <th>C</th>\n",
              "      <th>D</th>\n",
              "    </tr>\n",
              "  </thead>\n",
              "  <tbody>\n",
              "    <tr>\n",
              "      <th>0</th>\n",
              "      <td>foo</td>\n",
              "      <td>one</td>\n",
              "      <td>-2.052044</td>\n",
              "      <td>0.469428</td>\n",
              "    </tr>\n",
              "    <tr>\n",
              "      <th>1</th>\n",
              "      <td>bar</td>\n",
              "      <td>one</td>\n",
              "      <td>-0.597934</td>\n",
              "      <td>2.574255</td>\n",
              "    </tr>\n",
              "    <tr>\n",
              "      <th>2</th>\n",
              "      <td>foo</td>\n",
              "      <td>two</td>\n",
              "      <td>-0.212307</td>\n",
              "      <td>0.297336</td>\n",
              "    </tr>\n",
              "    <tr>\n",
              "      <th>3</th>\n",
              "      <td>bar</td>\n",
              "      <td>three</td>\n",
              "      <td>0.098658</td>\n",
              "      <td>-2.047563</td>\n",
              "    </tr>\n",
              "    <tr>\n",
              "      <th>4</th>\n",
              "      <td>foo</td>\n",
              "      <td>two</td>\n",
              "      <td>0.078527</td>\n",
              "      <td>1.253583</td>\n",
              "    </tr>\n",
              "    <tr>\n",
              "      <th>5</th>\n",
              "      <td>bar</td>\n",
              "      <td>two</td>\n",
              "      <td>1.294573</td>\n",
              "      <td>1.836968</td>\n",
              "    </tr>\n",
              "    <tr>\n",
              "      <th>6</th>\n",
              "      <td>foo</td>\n",
              "      <td>one</td>\n",
              "      <td>-0.744790</td>\n",
              "      <td>-0.064595</td>\n",
              "    </tr>\n",
              "    <tr>\n",
              "      <th>7</th>\n",
              "      <td>foo</td>\n",
              "      <td>three</td>\n",
              "      <td>-1.685760</td>\n",
              "      <td>-0.367868</td>\n",
              "    </tr>\n",
              "  </tbody>\n",
              "</table>\n",
              "</div>"
            ],
            "text/plain": [
              "     A      B         C         D\n",
              "0  foo    one -2.052044  0.469428\n",
              "1  bar    one -0.597934  2.574255\n",
              "2  foo    two -0.212307  0.297336\n",
              "3  bar  three  0.098658 -2.047563\n",
              "4  foo    two  0.078527  1.253583\n",
              "5  bar    two  1.294573  1.836968\n",
              "6  foo    one -0.744790 -0.064595\n",
              "7  foo  three -1.685760 -0.367868"
            ]
          },
          "metadata": {
            "tags": []
          },
          "execution_count": 73
        }
      ]
    },
    {
      "cell_type": "markdown",
      "metadata": {
        "id": "DG2vrtBo_S6r"
      },
      "source": [
        "그룹으로 결합후에 sum() 함수를 적용합니다.\n"
      ]
    },
    {
      "cell_type": "code",
      "metadata": {
        "colab": {
          "base_uri": "https://localhost:8080/",
          "height": 143
        },
        "id": "WpDJjQsi_OX9",
        "outputId": "8e49abbd-a725-441b-9291-4a04e093e5c2"
      },
      "source": [
        "df.groupby(\"A\").sum()"
      ],
      "execution_count": 74,
      "outputs": [
        {
          "output_type": "execute_result",
          "data": {
            "text/html": [
              "<div>\n",
              "<style scoped>\n",
              "    .dataframe tbody tr th:only-of-type {\n",
              "        vertical-align: middle;\n",
              "    }\n",
              "\n",
              "    .dataframe tbody tr th {\n",
              "        vertical-align: top;\n",
              "    }\n",
              "\n",
              "    .dataframe thead th {\n",
              "        text-align: right;\n",
              "    }\n",
              "</style>\n",
              "<table border=\"1\" class=\"dataframe\">\n",
              "  <thead>\n",
              "    <tr style=\"text-align: right;\">\n",
              "      <th></th>\n",
              "      <th>C</th>\n",
              "      <th>D</th>\n",
              "    </tr>\n",
              "    <tr>\n",
              "      <th>A</th>\n",
              "      <th></th>\n",
              "      <th></th>\n",
              "    </tr>\n",
              "  </thead>\n",
              "  <tbody>\n",
              "    <tr>\n",
              "      <th>bar</th>\n",
              "      <td>0.795296</td>\n",
              "      <td>2.363660</td>\n",
              "    </tr>\n",
              "    <tr>\n",
              "      <th>foo</th>\n",
              "      <td>-4.616374</td>\n",
              "      <td>1.587885</td>\n",
              "    </tr>\n",
              "  </tbody>\n",
              "</table>\n",
              "</div>"
            ],
            "text/plain": [
              "            C         D\n",
              "A                      \n",
              "bar  0.795296  2.363660\n",
              "foo -4.616374  1.587885"
            ]
          },
          "metadata": {
            "tags": []
          },
          "execution_count": 74
        }
      ]
    },
    {
      "cell_type": "markdown",
      "metadata": {
        "id": "MRJ_c3ilRdxV"
      },
      "source": [
        "# Reshaping"
      ]
    },
    {
      "cell_type": "markdown",
      "metadata": {
        "id": "Yzdtm_xoRgXK"
      },
      "source": [
        "## Stack"
      ]
    },
    {
      "cell_type": "code",
      "metadata": {
        "colab": {
          "base_uri": "https://localhost:8080/",
          "height": 206
        },
        "id": "UAIvEdC6Rm3w",
        "outputId": "07be10ce-5d8e-4888-e6d4-4f6a9611cc8e"
      },
      "source": [
        "tuples = list(\n",
        "    zip(\n",
        "        *[\n",
        "          [\"bar\",\"bar\",\"baz\",\"baz\",\"foo\",\"foo\",\"qux\",\"qux\"],\n",
        "          [\"one\",\"two\",\"one\",\"two\",\"one\",\"two\",\"one\",'two'],\n",
        "        ]\n",
        "    )\n",
        ")\n",
        "\n",
        "index = pd.MultiIndex.from_tuples(tuples, names=['first','second'])\n",
        "df = pd.DataFrame(np.random.randn(8,2), index=index, columns=[\"A\",\"B\"])\n",
        "df2 = df[:4]\n",
        "df2"
      ],
      "execution_count": 75,
      "outputs": [
        {
          "output_type": "execute_result",
          "data": {
            "text/html": [
              "<div>\n",
              "<style scoped>\n",
              "    .dataframe tbody tr th:only-of-type {\n",
              "        vertical-align: middle;\n",
              "    }\n",
              "\n",
              "    .dataframe tbody tr th {\n",
              "        vertical-align: top;\n",
              "    }\n",
              "\n",
              "    .dataframe thead th {\n",
              "        text-align: right;\n",
              "    }\n",
              "</style>\n",
              "<table border=\"1\" class=\"dataframe\">\n",
              "  <thead>\n",
              "    <tr style=\"text-align: right;\">\n",
              "      <th></th>\n",
              "      <th></th>\n",
              "      <th>A</th>\n",
              "      <th>B</th>\n",
              "    </tr>\n",
              "    <tr>\n",
              "      <th>first</th>\n",
              "      <th>second</th>\n",
              "      <th></th>\n",
              "      <th></th>\n",
              "    </tr>\n",
              "  </thead>\n",
              "  <tbody>\n",
              "    <tr>\n",
              "      <th rowspan=\"2\" valign=\"top\">bar</th>\n",
              "      <th>one</th>\n",
              "      <td>-0.797000</td>\n",
              "      <td>0.807699</td>\n",
              "    </tr>\n",
              "    <tr>\n",
              "      <th>two</th>\n",
              "      <td>-1.239920</td>\n",
              "      <td>2.044707</td>\n",
              "    </tr>\n",
              "    <tr>\n",
              "      <th rowspan=\"2\" valign=\"top\">baz</th>\n",
              "      <th>one</th>\n",
              "      <td>0.574299</td>\n",
              "      <td>1.645335</td>\n",
              "    </tr>\n",
              "    <tr>\n",
              "      <th>two</th>\n",
              "      <td>-0.027953</td>\n",
              "      <td>0.849107</td>\n",
              "    </tr>\n",
              "  </tbody>\n",
              "</table>\n",
              "</div>"
            ],
            "text/plain": [
              "                     A         B\n",
              "first second                    \n",
              "bar   one    -0.797000  0.807699\n",
              "      two    -1.239920  2.044707\n",
              "baz   one     0.574299  1.645335\n",
              "      two    -0.027953  0.849107"
            ]
          },
          "metadata": {
            "tags": []
          },
          "execution_count": 75
        }
      ]
    },
    {
      "cell_type": "markdown",
      "metadata": {
        "id": "slWmdSv7SpWJ"
      },
      "source": [
        "stack() 메서드는 DataFrame 열의 수준을 압축합니다."
      ]
    },
    {
      "cell_type": "code",
      "metadata": {
        "colab": {
          "base_uri": "https://localhost:8080/"
        },
        "id": "CdYVCVt6SWXs",
        "outputId": "7efbcf32-bfd8-4e34-de76-82aedc04a7ba"
      },
      "source": [
        "stacked = df2.stack()\n",
        "stacked\n"
      ],
      "execution_count": 76,
      "outputs": [
        {
          "output_type": "execute_result",
          "data": {
            "text/plain": [
              "first  second   \n",
              "bar    one     A   -0.797000\n",
              "               B    0.807699\n",
              "       two     A   -1.239920\n",
              "               B    2.044707\n",
              "baz    one     A    0.574299\n",
              "               B    1.645335\n",
              "       two     A   -0.027953\n",
              "               B    0.849107\n",
              "dtype: float64"
            ]
          },
          "metadata": {
            "tags": []
          },
          "execution_count": 76
        }
      ]
    },
    {
      "cell_type": "markdown",
      "metadata": {
        "id": "_00dg21mTFR2"
      },
      "source": [
        "stacked DataFrame 이나 Series를 역 stack() 한 메서드는 unstack()입니다."
      ]
    },
    {
      "cell_type": "code",
      "metadata": {
        "colab": {
          "base_uri": "https://localhost:8080/",
          "height": 206
        },
        "id": "KME7N4HTSmUp",
        "outputId": "4d76e9ed-1712-4e3b-8366-36d8e008dd74"
      },
      "source": [
        "stacked.unstack()"
      ],
      "execution_count": 77,
      "outputs": [
        {
          "output_type": "execute_result",
          "data": {
            "text/html": [
              "<div>\n",
              "<style scoped>\n",
              "    .dataframe tbody tr th:only-of-type {\n",
              "        vertical-align: middle;\n",
              "    }\n",
              "\n",
              "    .dataframe tbody tr th {\n",
              "        vertical-align: top;\n",
              "    }\n",
              "\n",
              "    .dataframe thead th {\n",
              "        text-align: right;\n",
              "    }\n",
              "</style>\n",
              "<table border=\"1\" class=\"dataframe\">\n",
              "  <thead>\n",
              "    <tr style=\"text-align: right;\">\n",
              "      <th></th>\n",
              "      <th></th>\n",
              "      <th>A</th>\n",
              "      <th>B</th>\n",
              "    </tr>\n",
              "    <tr>\n",
              "      <th>first</th>\n",
              "      <th>second</th>\n",
              "      <th></th>\n",
              "      <th></th>\n",
              "    </tr>\n",
              "  </thead>\n",
              "  <tbody>\n",
              "    <tr>\n",
              "      <th rowspan=\"2\" valign=\"top\">bar</th>\n",
              "      <th>one</th>\n",
              "      <td>-0.797000</td>\n",
              "      <td>0.807699</td>\n",
              "    </tr>\n",
              "    <tr>\n",
              "      <th>two</th>\n",
              "      <td>-1.239920</td>\n",
              "      <td>2.044707</td>\n",
              "    </tr>\n",
              "    <tr>\n",
              "      <th rowspan=\"2\" valign=\"top\">baz</th>\n",
              "      <th>one</th>\n",
              "      <td>0.574299</td>\n",
              "      <td>1.645335</td>\n",
              "    </tr>\n",
              "    <tr>\n",
              "      <th>two</th>\n",
              "      <td>-0.027953</td>\n",
              "      <td>0.849107</td>\n",
              "    </tr>\n",
              "  </tbody>\n",
              "</table>\n",
              "</div>"
            ],
            "text/plain": [
              "                     A         B\n",
              "first second                    \n",
              "bar   one    -0.797000  0.807699\n",
              "      two    -1.239920  2.044707\n",
              "baz   one     0.574299  1.645335\n",
              "      two    -0.027953  0.849107"
            ]
          },
          "metadata": {
            "tags": []
          },
          "execution_count": 77
        }
      ]
    },
    {
      "cell_type": "code",
      "metadata": {
        "colab": {
          "base_uri": "https://localhost:8080/",
          "height": 206
        },
        "id": "4Bsy5p39S6cM",
        "outputId": "beb8b73e-f0f7-4043-f5d1-56c92781208e"
      },
      "source": [
        "stacked.unstack(1)"
      ],
      "execution_count": 78,
      "outputs": [
        {
          "output_type": "execute_result",
          "data": {
            "text/html": [
              "<div>\n",
              "<style scoped>\n",
              "    .dataframe tbody tr th:only-of-type {\n",
              "        vertical-align: middle;\n",
              "    }\n",
              "\n",
              "    .dataframe tbody tr th {\n",
              "        vertical-align: top;\n",
              "    }\n",
              "\n",
              "    .dataframe thead th {\n",
              "        text-align: right;\n",
              "    }\n",
              "</style>\n",
              "<table border=\"1\" class=\"dataframe\">\n",
              "  <thead>\n",
              "    <tr style=\"text-align: right;\">\n",
              "      <th></th>\n",
              "      <th>second</th>\n",
              "      <th>one</th>\n",
              "      <th>two</th>\n",
              "    </tr>\n",
              "    <tr>\n",
              "      <th>first</th>\n",
              "      <th></th>\n",
              "      <th></th>\n",
              "      <th></th>\n",
              "    </tr>\n",
              "  </thead>\n",
              "  <tbody>\n",
              "    <tr>\n",
              "      <th rowspan=\"2\" valign=\"top\">bar</th>\n",
              "      <th>A</th>\n",
              "      <td>-0.797000</td>\n",
              "      <td>-1.239920</td>\n",
              "    </tr>\n",
              "    <tr>\n",
              "      <th>B</th>\n",
              "      <td>0.807699</td>\n",
              "      <td>2.044707</td>\n",
              "    </tr>\n",
              "    <tr>\n",
              "      <th rowspan=\"2\" valign=\"top\">baz</th>\n",
              "      <th>A</th>\n",
              "      <td>0.574299</td>\n",
              "      <td>-0.027953</td>\n",
              "    </tr>\n",
              "    <tr>\n",
              "      <th>B</th>\n",
              "      <td>1.645335</td>\n",
              "      <td>0.849107</td>\n",
              "    </tr>\n",
              "  </tbody>\n",
              "</table>\n",
              "</div>"
            ],
            "text/plain": [
              "second        one       two\n",
              "first                      \n",
              "bar   A -0.797000 -1.239920\n",
              "      B  0.807699  2.044707\n",
              "baz   A  0.574299 -0.027953\n",
              "      B  1.645335  0.849107"
            ]
          },
          "metadata": {
            "tags": []
          },
          "execution_count": 78
        }
      ]
    },
    {
      "cell_type": "code",
      "metadata": {
        "colab": {
          "base_uri": "https://localhost:8080/",
          "height": 206
        },
        "id": "l2-Uo5hxS-a8",
        "outputId": "b8046555-6fab-4731-df26-98a165fc3bdc"
      },
      "source": [
        "stacked.unstack(0)"
      ],
      "execution_count": 79,
      "outputs": [
        {
          "output_type": "execute_result",
          "data": {
            "text/html": [
              "<div>\n",
              "<style scoped>\n",
              "    .dataframe tbody tr th:only-of-type {\n",
              "        vertical-align: middle;\n",
              "    }\n",
              "\n",
              "    .dataframe tbody tr th {\n",
              "        vertical-align: top;\n",
              "    }\n",
              "\n",
              "    .dataframe thead th {\n",
              "        text-align: right;\n",
              "    }\n",
              "</style>\n",
              "<table border=\"1\" class=\"dataframe\">\n",
              "  <thead>\n",
              "    <tr style=\"text-align: right;\">\n",
              "      <th></th>\n",
              "      <th>first</th>\n",
              "      <th>bar</th>\n",
              "      <th>baz</th>\n",
              "    </tr>\n",
              "    <tr>\n",
              "      <th>second</th>\n",
              "      <th></th>\n",
              "      <th></th>\n",
              "      <th></th>\n",
              "    </tr>\n",
              "  </thead>\n",
              "  <tbody>\n",
              "    <tr>\n",
              "      <th rowspan=\"2\" valign=\"top\">one</th>\n",
              "      <th>A</th>\n",
              "      <td>-0.797000</td>\n",
              "      <td>0.574299</td>\n",
              "    </tr>\n",
              "    <tr>\n",
              "      <th>B</th>\n",
              "      <td>0.807699</td>\n",
              "      <td>1.645335</td>\n",
              "    </tr>\n",
              "    <tr>\n",
              "      <th rowspan=\"2\" valign=\"top\">two</th>\n",
              "      <th>A</th>\n",
              "      <td>-1.239920</td>\n",
              "      <td>-0.027953</td>\n",
              "    </tr>\n",
              "    <tr>\n",
              "      <th>B</th>\n",
              "      <td>2.044707</td>\n",
              "      <td>0.849107</td>\n",
              "    </tr>\n",
              "  </tbody>\n",
              "</table>\n",
              "</div>"
            ],
            "text/plain": [
              "first          bar       baz\n",
              "second                      \n",
              "one    A -0.797000  0.574299\n",
              "       B  0.807699  1.645335\n",
              "two    A -1.239920 -0.027953\n",
              "       B  2.044707  0.849107"
            ]
          },
          "metadata": {
            "tags": []
          },
          "execution_count": 79
        }
      ]
    },
    {
      "cell_type": "markdown",
      "metadata": {
        "id": "30_yN3gDT1ag"
      },
      "source": [
        "## Pivot tables"
      ]
    },
    {
      "cell_type": "code",
      "metadata": {
        "colab": {
          "base_uri": "https://localhost:8080/",
          "height": 425
        },
        "id": "cc_3062HT3tP",
        "outputId": "eba5b1d8-db0b-46ee-d675-4e55040a9563"
      },
      "source": [
        "df = pd.DataFrame(\n",
        "    {\n",
        "    \"A\" : [\"one\", \"one\",\"two\",\"three\"] * 3,\n",
        "    \"B\" : [\"A\",\"B\",\"C\"] * 4,\n",
        "    \"C\" : [\"foo\",\"foo\",\"foo\",\"bar\",\"bar\",\"bar\"] * 2,\n",
        "    \"D\" : np.random.randn(12),\n",
        "    \"E\" : np.random.randn(12),\n",
        "    }\n",
        ")\n",
        "df"
      ],
      "execution_count": 80,
      "outputs": [
        {
          "output_type": "execute_result",
          "data": {
            "text/html": [
              "<div>\n",
              "<style scoped>\n",
              "    .dataframe tbody tr th:only-of-type {\n",
              "        vertical-align: middle;\n",
              "    }\n",
              "\n",
              "    .dataframe tbody tr th {\n",
              "        vertical-align: top;\n",
              "    }\n",
              "\n",
              "    .dataframe thead th {\n",
              "        text-align: right;\n",
              "    }\n",
              "</style>\n",
              "<table border=\"1\" class=\"dataframe\">\n",
              "  <thead>\n",
              "    <tr style=\"text-align: right;\">\n",
              "      <th></th>\n",
              "      <th>A</th>\n",
              "      <th>B</th>\n",
              "      <th>C</th>\n",
              "      <th>D</th>\n",
              "      <th>E</th>\n",
              "    </tr>\n",
              "  </thead>\n",
              "  <tbody>\n",
              "    <tr>\n",
              "      <th>0</th>\n",
              "      <td>one</td>\n",
              "      <td>A</td>\n",
              "      <td>foo</td>\n",
              "      <td>-0.328885</td>\n",
              "      <td>-1.341039</td>\n",
              "    </tr>\n",
              "    <tr>\n",
              "      <th>1</th>\n",
              "      <td>one</td>\n",
              "      <td>B</td>\n",
              "      <td>foo</td>\n",
              "      <td>1.013916</td>\n",
              "      <td>0.379695</td>\n",
              "    </tr>\n",
              "    <tr>\n",
              "      <th>2</th>\n",
              "      <td>two</td>\n",
              "      <td>C</td>\n",
              "      <td>foo</td>\n",
              "      <td>0.165272</td>\n",
              "      <td>-1.626509</td>\n",
              "    </tr>\n",
              "    <tr>\n",
              "      <th>3</th>\n",
              "      <td>three</td>\n",
              "      <td>A</td>\n",
              "      <td>bar</td>\n",
              "      <td>-0.504271</td>\n",
              "      <td>0.374782</td>\n",
              "    </tr>\n",
              "    <tr>\n",
              "      <th>4</th>\n",
              "      <td>one</td>\n",
              "      <td>B</td>\n",
              "      <td>bar</td>\n",
              "      <td>0.582786</td>\n",
              "      <td>-1.223989</td>\n",
              "    </tr>\n",
              "    <tr>\n",
              "      <th>5</th>\n",
              "      <td>one</td>\n",
              "      <td>C</td>\n",
              "      <td>bar</td>\n",
              "      <td>1.150846</td>\n",
              "      <td>-1.053940</td>\n",
              "    </tr>\n",
              "    <tr>\n",
              "      <th>6</th>\n",
              "      <td>two</td>\n",
              "      <td>A</td>\n",
              "      <td>foo</td>\n",
              "      <td>-1.440628</td>\n",
              "      <td>-0.947660</td>\n",
              "    </tr>\n",
              "    <tr>\n",
              "      <th>7</th>\n",
              "      <td>three</td>\n",
              "      <td>B</td>\n",
              "      <td>foo</td>\n",
              "      <td>0.200722</td>\n",
              "      <td>-1.968508</td>\n",
              "    </tr>\n",
              "    <tr>\n",
              "      <th>8</th>\n",
              "      <td>one</td>\n",
              "      <td>C</td>\n",
              "      <td>foo</td>\n",
              "      <td>0.333152</td>\n",
              "      <td>-0.703639</td>\n",
              "    </tr>\n",
              "    <tr>\n",
              "      <th>9</th>\n",
              "      <td>one</td>\n",
              "      <td>A</td>\n",
              "      <td>bar</td>\n",
              "      <td>-0.823029</td>\n",
              "      <td>0.836216</td>\n",
              "    </tr>\n",
              "    <tr>\n",
              "      <th>10</th>\n",
              "      <td>two</td>\n",
              "      <td>B</td>\n",
              "      <td>bar</td>\n",
              "      <td>-0.972057</td>\n",
              "      <td>-0.045179</td>\n",
              "    </tr>\n",
              "    <tr>\n",
              "      <th>11</th>\n",
              "      <td>three</td>\n",
              "      <td>C</td>\n",
              "      <td>bar</td>\n",
              "      <td>0.449928</td>\n",
              "      <td>0.046713</td>\n",
              "    </tr>\n",
              "  </tbody>\n",
              "</table>\n",
              "</div>"
            ],
            "text/plain": [
              "        A  B    C         D         E\n",
              "0     one  A  foo -0.328885 -1.341039\n",
              "1     one  B  foo  1.013916  0.379695\n",
              "2     two  C  foo  0.165272 -1.626509\n",
              "3   three  A  bar -0.504271  0.374782\n",
              "4     one  B  bar  0.582786 -1.223989\n",
              "5     one  C  bar  1.150846 -1.053940\n",
              "6     two  A  foo -1.440628 -0.947660\n",
              "7   three  B  foo  0.200722 -1.968508\n",
              "8     one  C  foo  0.333152 -0.703639\n",
              "9     one  A  bar -0.823029  0.836216\n",
              "10    two  B  bar -0.972057 -0.045179\n",
              "11  three  C  bar  0.449928  0.046713"
            ]
          },
          "metadata": {
            "tags": []
          },
          "execution_count": 80
        }
      ]
    },
    {
      "cell_type": "code",
      "metadata": {
        "colab": {
          "base_uri": "https://localhost:8080/",
          "height": 363
        },
        "id": "87p873lJUNpU",
        "outputId": "c05913f5-d6bf-4402-f88b-4aaa826d771f"
      },
      "source": [
        "pd.pivot_table(df, values=\"D\", index=[\"A\",\"B\"], columns=[\"C\"])"
      ],
      "execution_count": 81,
      "outputs": [
        {
          "output_type": "execute_result",
          "data": {
            "text/html": [
              "<div>\n",
              "<style scoped>\n",
              "    .dataframe tbody tr th:only-of-type {\n",
              "        vertical-align: middle;\n",
              "    }\n",
              "\n",
              "    .dataframe tbody tr th {\n",
              "        vertical-align: top;\n",
              "    }\n",
              "\n",
              "    .dataframe thead th {\n",
              "        text-align: right;\n",
              "    }\n",
              "</style>\n",
              "<table border=\"1\" class=\"dataframe\">\n",
              "  <thead>\n",
              "    <tr style=\"text-align: right;\">\n",
              "      <th></th>\n",
              "      <th>C</th>\n",
              "      <th>bar</th>\n",
              "      <th>foo</th>\n",
              "    </tr>\n",
              "    <tr>\n",
              "      <th>A</th>\n",
              "      <th>B</th>\n",
              "      <th></th>\n",
              "      <th></th>\n",
              "    </tr>\n",
              "  </thead>\n",
              "  <tbody>\n",
              "    <tr>\n",
              "      <th rowspan=\"3\" valign=\"top\">one</th>\n",
              "      <th>A</th>\n",
              "      <td>-0.823029</td>\n",
              "      <td>-0.328885</td>\n",
              "    </tr>\n",
              "    <tr>\n",
              "      <th>B</th>\n",
              "      <td>0.582786</td>\n",
              "      <td>1.013916</td>\n",
              "    </tr>\n",
              "    <tr>\n",
              "      <th>C</th>\n",
              "      <td>1.150846</td>\n",
              "      <td>0.333152</td>\n",
              "    </tr>\n",
              "    <tr>\n",
              "      <th rowspan=\"3\" valign=\"top\">three</th>\n",
              "      <th>A</th>\n",
              "      <td>-0.504271</td>\n",
              "      <td>NaN</td>\n",
              "    </tr>\n",
              "    <tr>\n",
              "      <th>B</th>\n",
              "      <td>NaN</td>\n",
              "      <td>0.200722</td>\n",
              "    </tr>\n",
              "    <tr>\n",
              "      <th>C</th>\n",
              "      <td>0.449928</td>\n",
              "      <td>NaN</td>\n",
              "    </tr>\n",
              "    <tr>\n",
              "      <th rowspan=\"3\" valign=\"top\">two</th>\n",
              "      <th>A</th>\n",
              "      <td>NaN</td>\n",
              "      <td>-1.440628</td>\n",
              "    </tr>\n",
              "    <tr>\n",
              "      <th>B</th>\n",
              "      <td>-0.972057</td>\n",
              "      <td>NaN</td>\n",
              "    </tr>\n",
              "    <tr>\n",
              "      <th>C</th>\n",
              "      <td>NaN</td>\n",
              "      <td>0.165272</td>\n",
              "    </tr>\n",
              "  </tbody>\n",
              "</table>\n",
              "</div>"
            ],
            "text/plain": [
              "C             bar       foo\n",
              "A     B                    \n",
              "one   A -0.823029 -0.328885\n",
              "      B  0.582786  1.013916\n",
              "      C  1.150846  0.333152\n",
              "three A -0.504271       NaN\n",
              "      B       NaN  0.200722\n",
              "      C  0.449928       NaN\n",
              "two   A       NaN -1.440628\n",
              "      B -0.972057       NaN\n",
              "      C       NaN  0.165272"
            ]
          },
          "metadata": {
            "tags": []
          },
          "execution_count": 81
        }
      ]
    },
    {
      "cell_type": "markdown",
      "metadata": {
        "id": "YrFG5J8N_p2J"
      },
      "source": [
        "# Time series"
      ]
    },
    {
      "cell_type": "code",
      "metadata": {
        "colab": {
          "base_uri": "https://localhost:8080/"
        },
        "id": "KlI4k6EI_tZi",
        "outputId": "5ca77c6e-c3eb-4be1-9840-e1f490d523b1"
      },
      "source": [
        "rng = pd.date_range(\"1/1/2012\", periods=100, freq=\"S\")\n",
        "ts = pd.Series(np.random.randint(0, 500, len(rng)), index=rng)\n",
        "ts.resample('5Min').sum()"
      ],
      "execution_count": 82,
      "outputs": [
        {
          "output_type": "execute_result",
          "data": {
            "text/plain": [
              "2012-01-01    21466\n",
              "Freq: 5T, dtype: int64"
            ]
          },
          "metadata": {
            "tags": []
          },
          "execution_count": 82
        }
      ]
    },
    {
      "cell_type": "code",
      "metadata": {
        "colab": {
          "base_uri": "https://localhost:8080/"
        },
        "id": "bZT2Q167ABrq",
        "outputId": "6bc57f84-fcee-494d-de3a-4bb392dd90a8"
      },
      "source": [
        "rng = pd.date_range(\"3/6/2012 00:00\", periods=5, freq=\"D\")\n",
        "ts = pd.Series(np.random.randn(len(rng)), rng)\n",
        "ts"
      ],
      "execution_count": 83,
      "outputs": [
        {
          "output_type": "execute_result",
          "data": {
            "text/plain": [
              "2012-03-06    0.147612\n",
              "2012-03-07    0.143711\n",
              "2012-03-08   -0.317626\n",
              "2012-03-09   -0.076127\n",
              "2012-03-10    0.610381\n",
              "Freq: D, dtype: float64"
            ]
          },
          "metadata": {
            "tags": []
          },
          "execution_count": 83
        }
      ]
    },
    {
      "cell_type": "code",
      "metadata": {
        "colab": {
          "base_uri": "https://localhost:8080/"
        },
        "id": "uQmnmGhKAKCJ",
        "outputId": "c4e46735-592a-43b9-82ba-d2c6cf86b6ce"
      },
      "source": [
        "ts_utc = ts.tz_localize(\"UTC\")\n",
        "ts_utc"
      ],
      "execution_count": 84,
      "outputs": [
        {
          "output_type": "execute_result",
          "data": {
            "text/plain": [
              "2012-03-06 00:00:00+00:00    0.147612\n",
              "2012-03-07 00:00:00+00:00    0.143711\n",
              "2012-03-08 00:00:00+00:00   -0.317626\n",
              "2012-03-09 00:00:00+00:00   -0.076127\n",
              "2012-03-10 00:00:00+00:00    0.610381\n",
              "Freq: D, dtype: float64"
            ]
          },
          "metadata": {
            "tags": []
          },
          "execution_count": 84
        }
      ]
    },
    {
      "cell_type": "code",
      "metadata": {
        "colab": {
          "base_uri": "https://localhost:8080/"
        },
        "id": "zH395wpZAeL4",
        "outputId": "effa15dd-0d1d-4a35-9811-6ba6fb1f0302"
      },
      "source": [
        "ts_utc.tz_convert(\"US/Eastern\")"
      ],
      "execution_count": 85,
      "outputs": [
        {
          "output_type": "execute_result",
          "data": {
            "text/plain": [
              "2012-03-05 19:00:00-05:00    0.147612\n",
              "2012-03-06 19:00:00-05:00    0.143711\n",
              "2012-03-07 19:00:00-05:00   -0.317626\n",
              "2012-03-08 19:00:00-05:00   -0.076127\n",
              "2012-03-09 19:00:00-05:00    0.610381\n",
              "Freq: D, dtype: float64"
            ]
          },
          "metadata": {
            "tags": []
          },
          "execution_count": 85
        }
      ]
    },
    {
      "cell_type": "code",
      "metadata": {
        "colab": {
          "base_uri": "https://localhost:8080/"
        },
        "id": "2EaZjHaCAi2k",
        "outputId": "5c40d728-cd47-4ccd-cf84-a27f79d9f521"
      },
      "source": [
        "rng = pd.date_range(\"1/1/2012\", periods = 5, freq=\"M\")\n",
        "ts = pd.Series(np.random.randn(len(rng)), index=rng)\n",
        "ts"
      ],
      "execution_count": 86,
      "outputs": [
        {
          "output_type": "execute_result",
          "data": {
            "text/plain": [
              "2012-01-31    0.917016\n",
              "2012-02-29    1.174416\n",
              "2012-03-31    0.491375\n",
              "2012-04-30   -0.955836\n",
              "2012-05-31   -0.843397\n",
              "Freq: M, dtype: float64"
            ]
          },
          "metadata": {
            "tags": []
          },
          "execution_count": 86
        }
      ]
    },
    {
      "cell_type": "code",
      "metadata": {
        "colab": {
          "base_uri": "https://localhost:8080/"
        },
        "id": "NThjIlMVAvbZ",
        "outputId": "ef0874dc-72c7-4d0a-d85b-5ab84ea3b43b"
      },
      "source": [
        "ps = ts.to_period()\n",
        "ps"
      ],
      "execution_count": 87,
      "outputs": [
        {
          "output_type": "execute_result",
          "data": {
            "text/plain": [
              "2012-01    0.917016\n",
              "2012-02    1.174416\n",
              "2012-03    0.491375\n",
              "2012-04   -0.955836\n",
              "2012-05   -0.843397\n",
              "Freq: M, dtype: float64"
            ]
          },
          "metadata": {
            "tags": []
          },
          "execution_count": 87
        }
      ]
    },
    {
      "cell_type": "code",
      "metadata": {
        "colab": {
          "base_uri": "https://localhost:8080/"
        },
        "id": "VU58WRHiA69a",
        "outputId": "591b3e84-7a56-4507-8498-e9dc6c8eee93"
      },
      "source": [
        "ps.to_timestamp()"
      ],
      "execution_count": 88,
      "outputs": [
        {
          "output_type": "execute_result",
          "data": {
            "text/plain": [
              "2012-01-01    0.917016\n",
              "2012-02-01    1.174416\n",
              "2012-03-01    0.491375\n",
              "2012-04-01   -0.955836\n",
              "2012-05-01   -0.843397\n",
              "Freq: MS, dtype: float64"
            ]
          },
          "metadata": {
            "tags": []
          },
          "execution_count": 88
        }
      ]
    },
    {
      "cell_type": "code",
      "metadata": {
        "colab": {
          "base_uri": "https://localhost:8080/"
        },
        "id": "Emz22pMwA9sg",
        "outputId": "aed8fb62-4020-4ef0-945d-63f9e7aad4a2"
      },
      "source": [
        "prng = pd.period_range(\"1990Q1\", \"2000Q4\", freq=\"Q-NOV\")\n",
        "ts= pd.Series(np.random.randn(len(prng)), prng)\n",
        "ts.index = (prng.asfreq(\"M\", \"e\") + 1).asfreq(\"H\", \"s\") + 9\n",
        "\n",
        "ts.head()"
      ],
      "execution_count": 89,
      "outputs": [
        {
          "output_type": "execute_result",
          "data": {
            "text/plain": [
              "1990-03-01 09:00   -0.154137\n",
              "1990-06-01 09:00   -0.743370\n",
              "1990-09-01 09:00   -0.782631\n",
              "1990-12-01 09:00   -0.699273\n",
              "1991-03-01 09:00    0.885288\n",
              "Freq: H, dtype: float64"
            ]
          },
          "metadata": {
            "tags": []
          },
          "execution_count": 89
        }
      ]
    },
    {
      "cell_type": "markdown",
      "metadata": {
        "id": "2zn7NUE7BZ0V"
      },
      "source": [
        "# Categoricals"
      ]
    },
    {
      "cell_type": "code",
      "metadata": {
        "id": "PftL6ZfkBlvp"
      },
      "source": [
        "df = pd.DataFrame({\n",
        "    \"id\" : [1,2,3,4,5,6],\n",
        "    \"raw_grade\" : [\"a\",\"b\",\"b\",\"a\",\"a\",\"e\"]\n",
        "})"
      ],
      "execution_count": 90,
      "outputs": []
    },
    {
      "cell_type": "code",
      "metadata": {
        "colab": {
          "base_uri": "https://localhost:8080/",
          "height": 237
        },
        "id": "-EK80GaeBx2U",
        "outputId": "40ebe18b-e9ef-47ab-9cc4-8a54c9fbd5c0"
      },
      "source": [
        "df"
      ],
      "execution_count": 91,
      "outputs": [
        {
          "output_type": "execute_result",
          "data": {
            "text/html": [
              "<div>\n",
              "<style scoped>\n",
              "    .dataframe tbody tr th:only-of-type {\n",
              "        vertical-align: middle;\n",
              "    }\n",
              "\n",
              "    .dataframe tbody tr th {\n",
              "        vertical-align: top;\n",
              "    }\n",
              "\n",
              "    .dataframe thead th {\n",
              "        text-align: right;\n",
              "    }\n",
              "</style>\n",
              "<table border=\"1\" class=\"dataframe\">\n",
              "  <thead>\n",
              "    <tr style=\"text-align: right;\">\n",
              "      <th></th>\n",
              "      <th>id</th>\n",
              "      <th>raw_grade</th>\n",
              "    </tr>\n",
              "  </thead>\n",
              "  <tbody>\n",
              "    <tr>\n",
              "      <th>0</th>\n",
              "      <td>1</td>\n",
              "      <td>a</td>\n",
              "    </tr>\n",
              "    <tr>\n",
              "      <th>1</th>\n",
              "      <td>2</td>\n",
              "      <td>b</td>\n",
              "    </tr>\n",
              "    <tr>\n",
              "      <th>2</th>\n",
              "      <td>3</td>\n",
              "      <td>b</td>\n",
              "    </tr>\n",
              "    <tr>\n",
              "      <th>3</th>\n",
              "      <td>4</td>\n",
              "      <td>a</td>\n",
              "    </tr>\n",
              "    <tr>\n",
              "      <th>4</th>\n",
              "      <td>5</td>\n",
              "      <td>a</td>\n",
              "    </tr>\n",
              "    <tr>\n",
              "      <th>5</th>\n",
              "      <td>6</td>\n",
              "      <td>e</td>\n",
              "    </tr>\n",
              "  </tbody>\n",
              "</table>\n",
              "</div>"
            ],
            "text/plain": [
              "   id raw_grade\n",
              "0   1         a\n",
              "1   2         b\n",
              "2   3         b\n",
              "3   4         a\n",
              "4   5         a\n",
              "5   6         e"
            ]
          },
          "metadata": {
            "tags": []
          },
          "execution_count": 91
        }
      ]
    },
    {
      "cell_type": "markdown",
      "metadata": {
        "id": "qtIuFs6sJdko"
      },
      "source": [
        "raw_grade를 범주형 데이터 타입으로 변환합니다."
      ]
    },
    {
      "cell_type": "code",
      "metadata": {
        "colab": {
          "base_uri": "https://localhost:8080/"
        },
        "id": "q02Kk5GEByT-",
        "outputId": "eac5ec5b-e931-4faa-bf7c-7f55cad0676d"
      },
      "source": [
        "df['grade'] = df['raw_grade'].astype(\"category\")\n",
        "df['grade']"
      ],
      "execution_count": 92,
      "outputs": [
        {
          "output_type": "execute_result",
          "data": {
            "text/plain": [
              "0    a\n",
              "1    b\n",
              "2    b\n",
              "3    a\n",
              "4    a\n",
              "5    e\n",
              "Name: grade, dtype: category\n",
              "Categories (3, object): ['a', 'b', 'e']"
            ]
          },
          "metadata": {
            "tags": []
          },
          "execution_count": 92
        }
      ]
    },
    {
      "cell_type": "markdown",
      "metadata": {
        "id": "8ny65_3pJlis"
      },
      "source": [
        "카테고리의 이름을 변경합니다."
      ]
    },
    {
      "cell_type": "code",
      "metadata": {
        "id": "zNZovQ14B5LW"
      },
      "source": [
        "df['grade'].cat.categories = ['very good','good','very bad']"
      ],
      "execution_count": 93,
      "outputs": []
    },
    {
      "cell_type": "code",
      "metadata": {
        "colab": {
          "base_uri": "https://localhost:8080/"
        },
        "id": "DXQi2qqYCMdU",
        "outputId": "a850bce8-1437-49ba-c012-60762ef0c158"
      },
      "source": [
        "df['grade']"
      ],
      "execution_count": 94,
      "outputs": [
        {
          "output_type": "execute_result",
          "data": {
            "text/plain": [
              "0    very good\n",
              "1         good\n",
              "2         good\n",
              "3    very good\n",
              "4    very good\n",
              "5     very bad\n",
              "Name: grade, dtype: category\n",
              "Categories (3, object): ['very good', 'good', 'very bad']"
            ]
          },
          "metadata": {
            "tags": []
          },
          "execution_count": 94
        }
      ]
    },
    {
      "cell_type": "markdown",
      "metadata": {
        "id": "jpYfY0EZJvZB"
      },
      "source": [
        "범주의 순서를 변경하고, 누락된 범주를 동시에 추가합니다."
      ]
    },
    {
      "cell_type": "code",
      "metadata": {
        "colab": {
          "base_uri": "https://localhost:8080/"
        },
        "id": "GnHqc4oqCNZb",
        "outputId": "1093edd4-5cda-42b5-a8a5-f1361641b88c"
      },
      "source": [
        "df['grade'] = df['grade'].cat.set_categories(\n",
        "    ['very bad', \"bad\", \"medium\", \"good\", \"very good\"]\n",
        ")\n",
        "\n",
        "df['grade']"
      ],
      "execution_count": 95,
      "outputs": [
        {
          "output_type": "execute_result",
          "data": {
            "text/plain": [
              "0    very good\n",
              "1         good\n",
              "2         good\n",
              "3    very good\n",
              "4    very good\n",
              "5     very bad\n",
              "Name: grade, dtype: category\n",
              "Categories (5, object): ['very bad', 'bad', 'medium', 'good', 'very good']"
            ]
          },
          "metadata": {
            "tags": []
          },
          "execution_count": 95
        }
      ]
    },
    {
      "cell_type": "code",
      "metadata": {
        "colab": {
          "base_uri": "https://localhost:8080/",
          "height": 237
        },
        "id": "gt6lb-CpCYQt",
        "outputId": "675e8445-d146-4737-ec60-44ae2065933b"
      },
      "source": [
        "df"
      ],
      "execution_count": 96,
      "outputs": [
        {
          "output_type": "execute_result",
          "data": {
            "text/html": [
              "<div>\n",
              "<style scoped>\n",
              "    .dataframe tbody tr th:only-of-type {\n",
              "        vertical-align: middle;\n",
              "    }\n",
              "\n",
              "    .dataframe tbody tr th {\n",
              "        vertical-align: top;\n",
              "    }\n",
              "\n",
              "    .dataframe thead th {\n",
              "        text-align: right;\n",
              "    }\n",
              "</style>\n",
              "<table border=\"1\" class=\"dataframe\">\n",
              "  <thead>\n",
              "    <tr style=\"text-align: right;\">\n",
              "      <th></th>\n",
              "      <th>id</th>\n",
              "      <th>raw_grade</th>\n",
              "      <th>grade</th>\n",
              "    </tr>\n",
              "  </thead>\n",
              "  <tbody>\n",
              "    <tr>\n",
              "      <th>0</th>\n",
              "      <td>1</td>\n",
              "      <td>a</td>\n",
              "      <td>very good</td>\n",
              "    </tr>\n",
              "    <tr>\n",
              "      <th>1</th>\n",
              "      <td>2</td>\n",
              "      <td>b</td>\n",
              "      <td>good</td>\n",
              "    </tr>\n",
              "    <tr>\n",
              "      <th>2</th>\n",
              "      <td>3</td>\n",
              "      <td>b</td>\n",
              "      <td>good</td>\n",
              "    </tr>\n",
              "    <tr>\n",
              "      <th>3</th>\n",
              "      <td>4</td>\n",
              "      <td>a</td>\n",
              "      <td>very good</td>\n",
              "    </tr>\n",
              "    <tr>\n",
              "      <th>4</th>\n",
              "      <td>5</td>\n",
              "      <td>a</td>\n",
              "      <td>very good</td>\n",
              "    </tr>\n",
              "    <tr>\n",
              "      <th>5</th>\n",
              "      <td>6</td>\n",
              "      <td>e</td>\n",
              "      <td>very bad</td>\n",
              "    </tr>\n",
              "  </tbody>\n",
              "</table>\n",
              "</div>"
            ],
            "text/plain": [
              "   id raw_grade      grade\n",
              "0   1         a  very good\n",
              "1   2         b       good\n",
              "2   3         b       good\n",
              "3   4         a  very good\n",
              "4   5         a  very good\n",
              "5   6         e   very bad"
            ]
          },
          "metadata": {
            "tags": []
          },
          "execution_count": 96
        }
      ]
    },
    {
      "cell_type": "code",
      "metadata": {
        "colab": {
          "base_uri": "https://localhost:8080/",
          "height": 237
        },
        "id": "19sfGefyCbRK",
        "outputId": "d3c408d2-3c7d-40fd-d27d-6b91a329a3c7"
      },
      "source": [
        "df.sort_values(by=\"grade\")"
      ],
      "execution_count": 97,
      "outputs": [
        {
          "output_type": "execute_result",
          "data": {
            "text/html": [
              "<div>\n",
              "<style scoped>\n",
              "    .dataframe tbody tr th:only-of-type {\n",
              "        vertical-align: middle;\n",
              "    }\n",
              "\n",
              "    .dataframe tbody tr th {\n",
              "        vertical-align: top;\n",
              "    }\n",
              "\n",
              "    .dataframe thead th {\n",
              "        text-align: right;\n",
              "    }\n",
              "</style>\n",
              "<table border=\"1\" class=\"dataframe\">\n",
              "  <thead>\n",
              "    <tr style=\"text-align: right;\">\n",
              "      <th></th>\n",
              "      <th>id</th>\n",
              "      <th>raw_grade</th>\n",
              "      <th>grade</th>\n",
              "    </tr>\n",
              "  </thead>\n",
              "  <tbody>\n",
              "    <tr>\n",
              "      <th>5</th>\n",
              "      <td>6</td>\n",
              "      <td>e</td>\n",
              "      <td>very bad</td>\n",
              "    </tr>\n",
              "    <tr>\n",
              "      <th>1</th>\n",
              "      <td>2</td>\n",
              "      <td>b</td>\n",
              "      <td>good</td>\n",
              "    </tr>\n",
              "    <tr>\n",
              "      <th>2</th>\n",
              "      <td>3</td>\n",
              "      <td>b</td>\n",
              "      <td>good</td>\n",
              "    </tr>\n",
              "    <tr>\n",
              "      <th>0</th>\n",
              "      <td>1</td>\n",
              "      <td>a</td>\n",
              "      <td>very good</td>\n",
              "    </tr>\n",
              "    <tr>\n",
              "      <th>3</th>\n",
              "      <td>4</td>\n",
              "      <td>a</td>\n",
              "      <td>very good</td>\n",
              "    </tr>\n",
              "    <tr>\n",
              "      <th>4</th>\n",
              "      <td>5</td>\n",
              "      <td>a</td>\n",
              "      <td>very good</td>\n",
              "    </tr>\n",
              "  </tbody>\n",
              "</table>\n",
              "</div>"
            ],
            "text/plain": [
              "   id raw_grade      grade\n",
              "5   6         e   very bad\n",
              "1   2         b       good\n",
              "2   3         b       good\n",
              "0   1         a  very good\n",
              "3   4         a  very good\n",
              "4   5         a  very good"
            ]
          },
          "metadata": {
            "tags": []
          },
          "execution_count": 97
        }
      ]
    },
    {
      "cell_type": "code",
      "metadata": {
        "colab": {
          "base_uri": "https://localhost:8080/"
        },
        "id": "LQalJodACesD",
        "outputId": "d553cf78-bcf3-4177-ca9a-869453eb8771"
      },
      "source": [
        "df.groupby('grade').size()"
      ],
      "execution_count": 98,
      "outputs": [
        {
          "output_type": "execute_result",
          "data": {
            "text/plain": [
              "grade\n",
              "very bad     1\n",
              "bad          0\n",
              "medium       0\n",
              "good         2\n",
              "very good    3\n",
              "dtype: int64"
            ]
          },
          "metadata": {
            "tags": []
          },
          "execution_count": 98
        }
      ]
    },
    {
      "cell_type": "markdown",
      "metadata": {
        "id": "Ie7xFZl7ks3A"
      },
      "source": [
        "# Plotting"
      ]
    },
    {
      "cell_type": "code",
      "metadata": {
        "id": "EJEM48Z5kzRB"
      },
      "source": [
        "import matplotlib.pyplot as plt\n",
        "plt.close(\"all\")"
      ],
      "execution_count": 100,
      "outputs": []
    },
    {
      "cell_type": "code",
      "metadata": {
        "colab": {
          "base_uri": "https://localhost:8080/",
          "height": 297
        },
        "id": "tVaEf9iBk47E",
        "outputId": "2c68344f-b12f-4276-d10b-246d360b7e10"
      },
      "source": [
        "ts = pd.Series(np.random.randn(1000), index = pd.date_range(\"1/1/2000\", periods=1000))\n",
        "ts = ts.cumsum()\n",
        "ts.plot()"
      ],
      "execution_count": 102,
      "outputs": [
        {
          "output_type": "execute_result",
          "data": {
            "text/plain": [
              "<matplotlib.axes._subplots.AxesSubplot at 0x7f6c1c2b09d0>"
            ]
          },
          "metadata": {
            "tags": []
          },
          "execution_count": 102
        },
        {
          "output_type": "display_data",
          "data": {
            "image/png": "[encoded data removed]",
            "text/plain": [
              "<Figure size 432x288 with 1 Axes>"
            ]
          },
          "metadata": {
            "tags": [],
            "needs_background": "light"
          }
        }
      ]
    },
    {
      "cell_type": "code",
      "metadata": {
        "colab": {
          "base_uri": "https://localhost:8080/",
          "height": 316
        },
        "id": "qSrtN4KTlD7P",
        "outputId": "e0e360be-ea4b-49bd-e4c6-19345a557509"
      },
      "source": [
        "df = pd.DataFrame(\n",
        "    np.random.randn(1000, 4), index=ts.index, columns = ['A',\"B\",\"C\",\"D\"]\n",
        ")\n",
        "\n",
        "df = df.cumsum()\n",
        "plt.figure()\n",
        "\n",
        "df.plot()\n",
        "\n",
        "plt.legend(loc='best')"
      ],
      "execution_count": 105,
      "outputs": [
        {
          "output_type": "execute_result",
          "data": {
            "text/plain": [
              "<matplotlib.legend.Legend at 0x7f6c1c71e910>"
            ]
          },
          "metadata": {
            "tags": []
          },
          "execution_count": 105
        },
        {
          "output_type": "display_data",
          "data": {
            "text/plain": [
              "<Figure size 432x288 with 0 Axes>"
            ]
          },
          "metadata": {
            "tags": []
          }
        },
        {
          "output_type": "display_data",
          "data": {
            "image/png": "[encoded data removed]",
            "text/plain": [
              "<Figure size 432x288 with 1 Axes>"
            ]
          },
          "metadata": {
            "tags": [],
            "needs_background": "light"
          }
        }
      ]
    }
  ]
}