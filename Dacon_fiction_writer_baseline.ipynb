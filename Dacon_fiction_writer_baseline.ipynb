{
  "nbformat": 4,
  "nbformat_minor": 0,
  "metadata": {
    "colab": {
      "name": "Dacon_fiction_writer_baseline.ipynb",
      "provenance": [],
      "mount_file_id": "1UaEVU1EbXRJL59HdO9lcCl_fWy4bA2mN",
      "authorship_tag": "ABX9TyOq14nkWFcv21KCMXqvWxUb",
      "include_colab_link": true
    },
    "kernelspec": {
      "name": "python3",
      "display_name": "Python 3"
    },
    "language_info": {
      "name": "python"
    },
    "accelerator": "GPU"
  },
  "cells": [
    {
      "cell_type": "markdown",
      "metadata": {
        "id": "view-in-github",
        "colab_type": "text"
      },
      "source": [
        "<a href=\"https://colab.research.google.com/github/HwangHanJae/Dacon_tutorial/blob/main/Dacon_fiction_writer_baseline.ipynb\" target=\"_parent\"><img src=\"https://colab.research.google.com/assets/colab-badge.svg\" alt=\"Open In Colab\"/></a>"
      ]
    },
    {
      "cell_type": "markdown",
      "metadata": {
        "id": "5ldoSC7OjAg7"
      },
      "source": [
        "# 라이브러리 로드"
      ]
    },
    {
      "cell_type": "code",
      "metadata": {
        "id": "U-IWP4b0knvo"
      },
      "source": [
        "import numpy as np\n",
        "import pandas as pd\n",
        "import warnings\n",
        "import re\n",
        "warnings.filterwarnings('ignore')"
      ],
      "execution_count": null,
      "outputs": []
    },
    {
      "cell_type": "markdown",
      "metadata": {
        "id": "4hyQtH1fkxbq"
      },
      "source": [
        "#데이터 불러오기"
      ]
    },
    {
      "cell_type": "code",
      "metadata": {
        "id": "elVOq8OZkznc"
      },
      "source": [
        "path = \"/content/drive/MyDrive/Colab Notebooks/DataScience/Data/fiction_writer/\"\n",
        "train = pd.read_csv(path + \"train.csv\", encoding='utf-8')\n",
        "test = pd.read_csv(path + \"test.csv\", encoding='utf-8')\n",
        "submission = pd.read_csv(path + \"sample_submission.csv\", encoding='utf-8')"
      ],
      "execution_count": null,
      "outputs": []
    },
    {
      "cell_type": "code",
      "metadata": {
        "colab": {
          "base_uri": "https://localhost:8080/",
          "height": 206
        },
        "id": "JQ4mH32wlKaw",
        "outputId": "8af135e6-abb3-49e2-ca16-2f454f9c1200"
      },
      "source": [
        "train.head()"
      ],
      "execution_count": null,
      "outputs": [
        {
          "output_type": "execute_result",
          "data": {
            "text/html": [
              "<div>\n",
              "<style scoped>\n",
              "    .dataframe tbody tr th:only-of-type {\n",
              "        vertical-align: middle;\n",
              "    }\n",
              "\n",
              "    .dataframe tbody tr th {\n",
              "        vertical-align: top;\n",
              "    }\n",
              "\n",
              "    .dataframe thead th {\n",
              "        text-align: right;\n",
              "    }\n",
              "</style>\n",
              "<table border=\"1\" class=\"dataframe\">\n",
              "  <thead>\n",
              "    <tr style=\"text-align: right;\">\n",
              "      <th></th>\n",
              "      <th>index</th>\n",
              "      <th>text</th>\n",
              "      <th>author</th>\n",
              "    </tr>\n",
              "  </thead>\n",
              "  <tbody>\n",
              "    <tr>\n",
              "      <th>0</th>\n",
              "      <td>0</td>\n",
              "      <td>He was almost choking. There was so much, so m...</td>\n",
              "      <td>3</td>\n",
              "    </tr>\n",
              "    <tr>\n",
              "      <th>1</th>\n",
              "      <td>1</td>\n",
              "      <td>“Your sister asked for it, I suppose?”</td>\n",
              "      <td>2</td>\n",
              "    </tr>\n",
              "    <tr>\n",
              "      <th>2</th>\n",
              "      <td>2</td>\n",
              "      <td>She was engaged one day as she walked, in per...</td>\n",
              "      <td>1</td>\n",
              "    </tr>\n",
              "    <tr>\n",
              "      <th>3</th>\n",
              "      <td>3</td>\n",
              "      <td>The captain was in the porch, keeping himself ...</td>\n",
              "      <td>4</td>\n",
              "    </tr>\n",
              "    <tr>\n",
              "      <th>4</th>\n",
              "      <td>4</td>\n",
              "      <td>“Have mercy, gentlemen!” odin flung up his han...</td>\n",
              "      <td>3</td>\n",
              "    </tr>\n",
              "  </tbody>\n",
              "</table>\n",
              "</div>"
            ],
            "text/plain": [
              "   index                                               text  author\n",
              "0      0  He was almost choking. There was so much, so m...       3\n",
              "1      1             “Your sister asked for it, I suppose?”       2\n",
              "2      2   She was engaged one day as she walked, in per...       1\n",
              "3      3  The captain was in the porch, keeping himself ...       4\n",
              "4      4  “Have mercy, gentlemen!” odin flung up his han...       3"
            ]
          },
          "metadata": {
            "tags": []
          },
          "execution_count": 3
        }
      ]
    },
    {
      "cell_type": "code",
      "metadata": {
        "colab": {
          "base_uri": "https://localhost:8080/",
          "height": 206
        },
        "id": "fcCbFuunlLsX",
        "outputId": "4edd2152-52a6-402a-dc92-7f5ad64ad35c"
      },
      "source": [
        "test.head()"
      ],
      "execution_count": null,
      "outputs": [
        {
          "output_type": "execute_result",
          "data": {
            "text/html": [
              "<div>\n",
              "<style scoped>\n",
              "    .dataframe tbody tr th:only-of-type {\n",
              "        vertical-align: middle;\n",
              "    }\n",
              "\n",
              "    .dataframe tbody tr th {\n",
              "        vertical-align: top;\n",
              "    }\n",
              "\n",
              "    .dataframe thead th {\n",
              "        text-align: right;\n",
              "    }\n",
              "</style>\n",
              "<table border=\"1\" class=\"dataframe\">\n",
              "  <thead>\n",
              "    <tr style=\"text-align: right;\">\n",
              "      <th></th>\n",
              "      <th>index</th>\n",
              "      <th>text</th>\n",
              "    </tr>\n",
              "  </thead>\n",
              "  <tbody>\n",
              "    <tr>\n",
              "      <th>0</th>\n",
              "      <td>0</td>\n",
              "      <td>“Not at all. I think she is one of the most ch...</td>\n",
              "    </tr>\n",
              "    <tr>\n",
              "      <th>1</th>\n",
              "      <td>1</td>\n",
              "      <td>\"No,\" replied he, with sudden consciousness, \"...</td>\n",
              "    </tr>\n",
              "    <tr>\n",
              "      <th>2</th>\n",
              "      <td>2</td>\n",
              "      <td>As the lady had stated her intention of scream...</td>\n",
              "    </tr>\n",
              "    <tr>\n",
              "      <th>3</th>\n",
              "      <td>3</td>\n",
              "      <td>“And then suddenly in the silence I heard a so...</td>\n",
              "    </tr>\n",
              "    <tr>\n",
              "      <th>4</th>\n",
              "      <td>4</td>\n",
              "      <td>His conviction remained unchanged. So far as I...</td>\n",
              "    </tr>\n",
              "  </tbody>\n",
              "</table>\n",
              "</div>"
            ],
            "text/plain": [
              "   index                                               text\n",
              "0      0  “Not at all. I think she is one of the most ch...\n",
              "1      1  \"No,\" replied he, with sudden consciousness, \"...\n",
              "2      2  As the lady had stated her intention of scream...\n",
              "3      3  “And then suddenly in the silence I heard a so...\n",
              "4      4  His conviction remained unchanged. So far as I..."
            ]
          },
          "metadata": {
            "tags": []
          },
          "execution_count": 4
        }
      ]
    },
    {
      "cell_type": "code",
      "metadata": {
        "colab": {
          "base_uri": "https://localhost:8080/",
          "height": 206
        },
        "id": "-XL-V5HRlPBV",
        "outputId": "1afb47db-c3d0-4706-a03a-dfc465507125"
      },
      "source": [
        "submission.head()"
      ],
      "execution_count": null,
      "outputs": [
        {
          "output_type": "execute_result",
          "data": {
            "text/html": [
              "<div>\n",
              "<style scoped>\n",
              "    .dataframe tbody tr th:only-of-type {\n",
              "        vertical-align: middle;\n",
              "    }\n",
              "\n",
              "    .dataframe tbody tr th {\n",
              "        vertical-align: top;\n",
              "    }\n",
              "\n",
              "    .dataframe thead th {\n",
              "        text-align: right;\n",
              "    }\n",
              "</style>\n",
              "<table border=\"1\" class=\"dataframe\">\n",
              "  <thead>\n",
              "    <tr style=\"text-align: right;\">\n",
              "      <th></th>\n",
              "      <th>index</th>\n",
              "      <th>0</th>\n",
              "      <th>1</th>\n",
              "      <th>2</th>\n",
              "      <th>3</th>\n",
              "      <th>4</th>\n",
              "    </tr>\n",
              "  </thead>\n",
              "  <tbody>\n",
              "    <tr>\n",
              "      <th>0</th>\n",
              "      <td>0</td>\n",
              "      <td>0</td>\n",
              "      <td>0</td>\n",
              "      <td>0</td>\n",
              "      <td>0</td>\n",
              "      <td>0</td>\n",
              "    </tr>\n",
              "    <tr>\n",
              "      <th>1</th>\n",
              "      <td>1</td>\n",
              "      <td>0</td>\n",
              "      <td>0</td>\n",
              "      <td>0</td>\n",
              "      <td>0</td>\n",
              "      <td>0</td>\n",
              "    </tr>\n",
              "    <tr>\n",
              "      <th>2</th>\n",
              "      <td>2</td>\n",
              "      <td>0</td>\n",
              "      <td>0</td>\n",
              "      <td>0</td>\n",
              "      <td>0</td>\n",
              "      <td>0</td>\n",
              "    </tr>\n",
              "    <tr>\n",
              "      <th>3</th>\n",
              "      <td>3</td>\n",
              "      <td>0</td>\n",
              "      <td>0</td>\n",
              "      <td>0</td>\n",
              "      <td>0</td>\n",
              "      <td>0</td>\n",
              "    </tr>\n",
              "    <tr>\n",
              "      <th>4</th>\n",
              "      <td>4</td>\n",
              "      <td>0</td>\n",
              "      <td>0</td>\n",
              "      <td>0</td>\n",
              "      <td>0</td>\n",
              "      <td>0</td>\n",
              "    </tr>\n",
              "  </tbody>\n",
              "</table>\n",
              "</div>"
            ],
            "text/plain": [
              "   index  0  1  2  3  4\n",
              "0      0  0  0  0  0  0\n",
              "1      1  0  0  0  0  0\n",
              "2      2  0  0  0  0  0\n",
              "3      3  0  0  0  0  0\n",
              "4      4  0  0  0  0  0"
            ]
          },
          "metadata": {
            "tags": []
          },
          "execution_count": 5
        }
      ]
    },
    {
      "cell_type": "code",
      "metadata": {
        "colab": {
          "base_uri": "https://localhost:8080/"
        },
        "id": "U7OzTUuqlRYm",
        "outputId": "c86f84e2-d662-42ad-a9f8-776b660eb03c"
      },
      "source": [
        "train.shape, test.shape"
      ],
      "execution_count": null,
      "outputs": [
        {
          "output_type": "execute_result",
          "data": {
            "text/plain": [
              "((54879, 3), (19617, 2))"
            ]
          },
          "metadata": {
            "tags": []
          },
          "execution_count": 6
        }
      ]
    },
    {
      "cell_type": "code",
      "metadata": {
        "colab": {
          "base_uri": "https://localhost:8080/"
        },
        "id": "L7Bxq1omlVed",
        "outputId": "5b57a452-34cd-4b69-8c46-e955e2b53ac5"
      },
      "source": [
        "train['author'].unique()"
      ],
      "execution_count": null,
      "outputs": [
        {
          "output_type": "execute_result",
          "data": {
            "text/plain": [
              "array([3, 2, 1, 4, 0])"
            ]
          },
          "metadata": {
            "tags": []
          },
          "execution_count": 7
        }
      ]
    },
    {
      "cell_type": "markdown",
      "metadata": {
        "id": "ZqPmenXLlaCo"
      },
      "source": [
        "# 전처리"
      ]
    },
    {
      "cell_type": "code",
      "metadata": {
        "id": "FWCtLw0yld9c"
      },
      "source": [
        "#부호를 제거해주는 함수\n",
        "\n",
        "#re.sub함수는 첫번째인자를 두번째인자와 교체해준다.\n",
        "def alpha_num(text):\n",
        "  return re.sub('[^a-zA-Z0-9]',' ',text)\n",
        "\n",
        "train['text'] = train['text'].apply(alpha_num)"
      ],
      "execution_count": null,
      "outputs": []
    },
    {
      "cell_type": "code",
      "metadata": {
        "colab": {
          "base_uri": "https://localhost:8080/",
          "height": 206
        },
        "id": "6fcJv6o1lp_D",
        "outputId": "49ab924a-be6a-43d0-e4d6-9f3b6f842d01"
      },
      "source": [
        "# \"\"와 같은 부호가 사라진 것을 확인할 수 있다.\n",
        "train.head()\n"
      ],
      "execution_count": null,
      "outputs": [
        {
          "output_type": "execute_result",
          "data": {
            "text/html": [
              "<div>\n",
              "<style scoped>\n",
              "    .dataframe tbody tr th:only-of-type {\n",
              "        vertical-align: middle;\n",
              "    }\n",
              "\n",
              "    .dataframe tbody tr th {\n",
              "        vertical-align: top;\n",
              "    }\n",
              "\n",
              "    .dataframe thead th {\n",
              "        text-align: right;\n",
              "    }\n",
              "</style>\n",
              "<table border=\"1\" class=\"dataframe\">\n",
              "  <thead>\n",
              "    <tr style=\"text-align: right;\">\n",
              "      <th></th>\n",
              "      <th>index</th>\n",
              "      <th>text</th>\n",
              "      <th>author</th>\n",
              "    </tr>\n",
              "  </thead>\n",
              "  <tbody>\n",
              "    <tr>\n",
              "      <th>0</th>\n",
              "      <td>0</td>\n",
              "      <td>He was almost choking  There was so much  so m...</td>\n",
              "      <td>3</td>\n",
              "    </tr>\n",
              "    <tr>\n",
              "      <th>1</th>\n",
              "      <td>1</td>\n",
              "      <td>Your sister asked for it  I suppose</td>\n",
              "      <td>2</td>\n",
              "    </tr>\n",
              "    <tr>\n",
              "      <th>2</th>\n",
              "      <td>2</td>\n",
              "      <td>She was engaged one day as she walked  in per...</td>\n",
              "      <td>1</td>\n",
              "    </tr>\n",
              "    <tr>\n",
              "      <th>3</th>\n",
              "      <td>3</td>\n",
              "      <td>The captain was in the porch  keeping himself ...</td>\n",
              "      <td>4</td>\n",
              "    </tr>\n",
              "    <tr>\n",
              "      <th>4</th>\n",
              "      <td>4</td>\n",
              "      <td>Have mercy  gentlemen   odin flung up his han...</td>\n",
              "      <td>3</td>\n",
              "    </tr>\n",
              "  </tbody>\n",
              "</table>\n",
              "</div>"
            ],
            "text/plain": [
              "   index                                               text  author\n",
              "0      0  He was almost choking  There was so much  so m...       3\n",
              "1      1              Your sister asked for it  I suppose         2\n",
              "2      2   She was engaged one day as she walked  in per...       1\n",
              "3      3  The captain was in the porch  keeping himself ...       4\n",
              "4      4   Have mercy  gentlemen   odin flung up his han...       3"
            ]
          },
          "metadata": {
            "tags": []
          },
          "execution_count": 9
        }
      ]
    },
    {
      "cell_type": "code",
      "metadata": {
        "colab": {
          "base_uri": "https://localhost:8080/"
        },
        "id": "aqm0bVgYptnA",
        "outputId": "f03d7b79-b413-4348-a132-a9535f9de492"
      },
      "source": [
        "#불용어 제거해주는 함수\n",
        "import nltk\n",
        "from nltk.corpus import stopwords\n",
        "nltk.download('stopwords')\n",
        "\n",
        "stop_words = stopwords.words('english')\n",
        "\n",
        "def remove_stopwords(text):\n",
        "  final_text = []\n",
        " \n",
        "  for i in text.split():                    #text를 공백을 기준으로 나누어 리스트를 만들어줌\n",
        "    if i.strip().lower() not in stop_words:  #i.strip()함수는 i의 양옆 공백을 제거\n",
        "      final_text.append(i.strip())\n",
        "  return \" \".join(final_text)"
      ],
      "execution_count": null,
      "outputs": [
        {
          "output_type": "stream",
          "text": [
            "[nltk_data] Downloading package stopwords to /root/nltk_data...\n",
            "[nltk_data]   Unzipping corpora/stopwords.zip.\n"
          ],
          "name": "stdout"
        }
      ]
    },
    {
      "cell_type": "code",
      "metadata": {
        "id": "mNOEniwUqKM_"
      },
      "source": [
        "#전처리 적용 \n",
        "#모든 문자를 소문자로 변경해주기\n",
        "train['text'] = train['text'].str.lower()\n",
        "test['text'] = test['text'].str.lower()\n",
        "train['text'] = train['text'].apply(alpha_num).apply(remove_stopwords)\n",
        "test['text'] = test['text'].apply(alpha_num).apply(remove_stopwords)"
      ],
      "execution_count": null,
      "outputs": []
    },
    {
      "cell_type": "code",
      "metadata": {
        "colab": {
          "base_uri": "https://localhost:8080/",
          "height": 206
        },
        "id": "YgWBIKnbquyP",
        "outputId": "b832efc9-2c7b-4a5d-a568-0c530af83b20"
      },
      "source": [
        "train.head()"
      ],
      "execution_count": null,
      "outputs": [
        {
          "output_type": "execute_result",
          "data": {
            "text/html": [
              "<div>\n",
              "<style scoped>\n",
              "    .dataframe tbody tr th:only-of-type {\n",
              "        vertical-align: middle;\n",
              "    }\n",
              "\n",
              "    .dataframe tbody tr th {\n",
              "        vertical-align: top;\n",
              "    }\n",
              "\n",
              "    .dataframe thead th {\n",
              "        text-align: right;\n",
              "    }\n",
              "</style>\n",
              "<table border=\"1\" class=\"dataframe\">\n",
              "  <thead>\n",
              "    <tr style=\"text-align: right;\">\n",
              "      <th></th>\n",
              "      <th>index</th>\n",
              "      <th>text</th>\n",
              "      <th>author</th>\n",
              "    </tr>\n",
              "  </thead>\n",
              "  <tbody>\n",
              "    <tr>\n",
              "      <th>0</th>\n",
              "      <td>0</td>\n",
              "      <td>almost choking much much wanted say strange ex...</td>\n",
              "      <td>3</td>\n",
              "    </tr>\n",
              "    <tr>\n",
              "      <th>1</th>\n",
              "      <td>1</td>\n",
              "      <td>sister asked suppose</td>\n",
              "      <td>2</td>\n",
              "    </tr>\n",
              "    <tr>\n",
              "      <th>2</th>\n",
              "      <td>2</td>\n",
              "      <td>engaged one day walked perusing jane last lett...</td>\n",
              "      <td>1</td>\n",
              "    </tr>\n",
              "    <tr>\n",
              "      <th>3</th>\n",
              "      <td>3</td>\n",
              "      <td>captain porch keeping carefully way treacherou...</td>\n",
              "      <td>4</td>\n",
              "    </tr>\n",
              "    <tr>\n",
              "      <th>4</th>\n",
              "      <td>4</td>\n",
              "      <td>mercy gentlemen odin flung hands write anyway ...</td>\n",
              "      <td>3</td>\n",
              "    </tr>\n",
              "  </tbody>\n",
              "</table>\n",
              "</div>"
            ],
            "text/plain": [
              "   index                                               text  author\n",
              "0      0  almost choking much much wanted say strange ex...       3\n",
              "1      1                               sister asked suppose       2\n",
              "2      2  engaged one day walked perusing jane last lett...       1\n",
              "3      3  captain porch keeping carefully way treacherou...       4\n",
              "4      4  mercy gentlemen odin flung hands write anyway ...       3"
            ]
          },
          "metadata": {
            "tags": []
          },
          "execution_count": 12
        }
      ]
    },
    {
      "cell_type": "code",
      "metadata": {
        "colab": {
          "base_uri": "https://localhost:8080/",
          "height": 206
        },
        "id": "SGqpBuqHuKnw",
        "outputId": "ad8997c7-993f-4160-d8d5-97cf540f9139"
      },
      "source": [
        "test.head()"
      ],
      "execution_count": null,
      "outputs": [
        {
          "output_type": "execute_result",
          "data": {
            "text/html": [
              "<div>\n",
              "<style scoped>\n",
              "    .dataframe tbody tr th:only-of-type {\n",
              "        vertical-align: middle;\n",
              "    }\n",
              "\n",
              "    .dataframe tbody tr th {\n",
              "        vertical-align: top;\n",
              "    }\n",
              "\n",
              "    .dataframe thead th {\n",
              "        text-align: right;\n",
              "    }\n",
              "</style>\n",
              "<table border=\"1\" class=\"dataframe\">\n",
              "  <thead>\n",
              "    <tr style=\"text-align: right;\">\n",
              "      <th></th>\n",
              "      <th>index</th>\n",
              "      <th>text</th>\n",
              "    </tr>\n",
              "  </thead>\n",
              "  <tbody>\n",
              "    <tr>\n",
              "      <th>0</th>\n",
              "      <td>0</td>\n",
              "      <td>think one charming young ladies ever met might...</td>\n",
              "    </tr>\n",
              "    <tr>\n",
              "      <th>1</th>\n",
              "      <td>1</td>\n",
              "      <td>replied sudden consciousness find cannot ignor...</td>\n",
              "    </tr>\n",
              "    <tr>\n",
              "      <th>2</th>\n",
              "      <td>2</td>\n",
              "      <td>lady stated intention screaming course would s...</td>\n",
              "    </tr>\n",
              "    <tr>\n",
              "      <th>3</th>\n",
              "      <td>3</td>\n",
              "      <td>suddenly silence heard sound sent heart mouth ...</td>\n",
              "    </tr>\n",
              "    <tr>\n",
              "      <th>4</th>\n",
              "      <td>4</td>\n",
              "      <td>conviction remained unchanged far know believe...</td>\n",
              "    </tr>\n",
              "  </tbody>\n",
              "</table>\n",
              "</div>"
            ],
            "text/plain": [
              "   index                                               text\n",
              "0      0  think one charming young ladies ever met might...\n",
              "1      1  replied sudden consciousness find cannot ignor...\n",
              "2      2  lady stated intention screaming course would s...\n",
              "3      3  suddenly silence heard sound sent heart mouth ...\n",
              "4      4  conviction remained unchanged far know believe..."
            ]
          },
          "metadata": {
            "tags": []
          },
          "execution_count": 13
        }
      ]
    },
    {
      "cell_type": "code",
      "metadata": {
        "colab": {
          "base_uri": "https://localhost:8080/"
        },
        "id": "bpOWWSSguqK7",
        "outputId": "f55ca5c7-d7e8-4111-da0a-9646672073d9"
      },
      "source": [
        "np.array([x for x in train['text']])"
      ],
      "execution_count": null,
      "outputs": [
        {
          "output_type": "execute_result",
          "data": {
            "text/plain": [
              "array(['almost choking much much wanted say strange exclamations came lips pole gazed fixedly bundle notes hand looked odin evident perplexity',\n",
              "       'sister asked suppose',\n",
              "       'engaged one day walked perusing jane last letter dwelling passages proved jane written spirits instead surprised mr odin saw looking odin meeting putting away letter immediately forcing smile said',\n",
              "       ..., 'sincere well wisher friend sister lucy odin',\n",
              "       'wanted lend money', 'certainly occurred said yes like'],\n",
              "      dtype='<U1443')"
            ]
          },
          "metadata": {
            "tags": []
          },
          "execution_count": 14
        }
      ]
    },
    {
      "cell_type": "code",
      "metadata": {
        "id": "tJUrTsEBuLpc"
      },
      "source": [
        "#train, test 분리\n",
        "X_train = np.array([x for x in train['text']])\n",
        "X_test = np.array([x for x in test['text']])\n",
        "y_train = np.array([x for x in train['author']])"
      ],
      "execution_count": null,
      "outputs": []
    },
    {
      "cell_type": "code",
      "metadata": {
        "colab": {
          "base_uri": "https://localhost:8080/"
        },
        "id": "8uuBjXxDu3Ub",
        "outputId": "c7a44dd4-5e12-4fd8-c19a-a15c060a8e1d"
      },
      "source": [
        "X_train"
      ],
      "execution_count": null,
      "outputs": [
        {
          "output_type": "execute_result",
          "data": {
            "text/plain": [
              "array(['almost choking much much wanted say strange exclamations came lips pole gazed fixedly bundle notes hand looked odin evident perplexity',\n",
              "       'sister asked suppose',\n",
              "       'engaged one day walked perusing jane last letter dwelling passages proved jane written spirits instead surprised mr odin saw looking odin meeting putting away letter immediately forcing smile said',\n",
              "       ..., 'sincere well wisher friend sister lucy odin',\n",
              "       'wanted lend money', 'certainly occurred said yes like'],\n",
              "      dtype='<U1443')"
            ]
          },
          "metadata": {
            "tags": []
          },
          "execution_count": 16
        }
      ]
    },
    {
      "cell_type": "code",
      "metadata": {
        "colab": {
          "base_uri": "https://localhost:8080/"
        },
        "id": "qG9AYcBpu33f",
        "outputId": "9989fadc-99b6-4aec-f5c1-1e6fe507bcc3"
      },
      "source": [
        "X_test"
      ],
      "execution_count": null,
      "outputs": [
        {
          "output_type": "execute_result",
          "data": {
            "text/plain": [
              "array(['think one charming young ladies ever met might useful work decided genius way witness way preserved agra plan papers father love emotional thing whatever emotional opposed true cold reason place things never marry lest bias judgment',\n",
              "       'replied sudden consciousness find cannot ignorant goodness owe feel would express could well know orator',\n",
              "       'lady stated intention screaming course would screamed additional boldness exertion rendered unnecessary hasty knocking door sooner heard mr odin darted much agility wine bottles began dusting great violence matron sharply demanded',\n",
              "       ...,\n",
              "       'odin carried thanks odin proceeded happiness lucy excess time reached bartlett buildings able assure mrs odin called next day congratulations never seen spirits life',\n",
              "       'soon upon odin leaving room mama said odin alarm subject illness cannot conceal sure odin well almost fortnight yet come nothing real indisposition could occasion extraordinary delay else detain norland',\n",
              "       'worse doomed man denouncer well known citizen attached friend father wife one frenzied aspirations populace imitations questionable public virtues antiquity sacrifices self immolations people altar therefore president said else head quivered shoulders good physician republic would deserve better still republic rooting obnoxious family aristocrats would doubtless feel sacred glow joy making daughter widow child orphan wild excitement patriotic fervour touch human sympathy'],\n",
              "      dtype='<U1427')"
            ]
          },
          "metadata": {
            "tags": []
          },
          "execution_count": 17
        }
      ]
    },
    {
      "cell_type": "code",
      "metadata": {
        "colab": {
          "base_uri": "https://localhost:8080/"
        },
        "id": "f7qUkwRhu4yQ",
        "outputId": "48359569-c01e-4d13-bf9a-59de6410b1c5"
      },
      "source": [
        "y_train"
      ],
      "execution_count": null,
      "outputs": [
        {
          "output_type": "execute_result",
          "data": {
            "text/plain": [
              "array([3, 2, 1, ..., 1, 3, 0])"
            ]
          },
          "metadata": {
            "tags": []
          },
          "execution_count": 18
        }
      ]
    },
    {
      "cell_type": "markdown",
      "metadata": {
        "id": "iw7ffZ4Au6Gx"
      },
      "source": [
        "# 모델링"
      ]
    },
    {
      "cell_type": "code",
      "metadata": {
        "id": "K_yNnY5IvBDF"
      },
      "source": [
        "import tensorflow as ts\n",
        "from tensorflow.keras.preprocessing.sequence import pad_sequences\n",
        "from tensorflow.keras.preprocessing.text import Tokenizer\n",
        "from tensorflow.keras.layers import Embedding, GlobalAveragePooling1D, Dense\n",
        "from tensorflow.keras import Sequential"
      ],
      "execution_count": null,
      "outputs": []
    },
    {
      "cell_type": "code",
      "metadata": {
        "id": "7D0cp_d8u80f"
      },
      "source": [
        "#파라미터 설정\n",
        "vocab_size = 20000\n",
        "embedding_dim = 16\n",
        "max_length = 500\n",
        "padding_type = 'post'"
      ],
      "execution_count": null,
      "outputs": []
    },
    {
      "cell_type": "code",
      "metadata": {
        "id": "Q0ABkBU7vSXk"
      },
      "source": [
        "#tokenizer에 fit\n",
        "tokenizer = Tokenizer(num_words = vocab_size)\n",
        "tokenizer.fit_on_texts(X_train)\n",
        "word_index = tokenizer.word_index"
      ],
      "execution_count": null,
      "outputs": []
    },
    {
      "cell_type": "code",
      "metadata": {
        "id": "JIvG5NGkvhGd"
      },
      "source": [
        "#데이터를 sequence로 변환해주고 padding 해줍니다.\n",
        "train_sequences = tokenizer.texts_to_sequences(X_train)\n",
        "train_padded = pad_sequences(train_sequences, padding= padding_type, maxlen = max_length)\n",
        "\n",
        "test_sequences = tokenizer.texts_to_sequences(X_test)\n",
        "test_padded = pad_sequences(test_sequences, padding=padding_type, maxlen=max_length)"
      ],
      "execution_count": null,
      "outputs": []
    },
    {
      "cell_type": "code",
      "metadata": {
        "id": "aR5ae-0JwA-u"
      },
      "source": [
        "#가벼운 NLP 모델 생성\n",
        "model = Sequential([\n",
        "    Embedding(vocab_size, embedding_dim, input_length=max_length),\n",
        "    GlobalAveragePooling1D(),\n",
        "    Dense(24, activation='relu'),\n",
        "    Dense(5, activation='softmax')\n",
        "])"
      ],
      "execution_count": null,
      "outputs": []
    },
    {
      "cell_type": "code",
      "metadata": {
        "id": "8HujWQ-mwi3C"
      },
      "source": [
        "#compile model\n",
        "model.compile(loss='sparse_categorical_crossentropy',\n",
        "              optimizer='adam',\n",
        "              metrics=['accuracy'])"
      ],
      "execution_count": null,
      "outputs": []
    },
    {
      "cell_type": "code",
      "metadata": {
        "colab": {
          "base_uri": "https://localhost:8080/"
        },
        "id": "py3yScLhw52Y",
        "outputId": "56d78d09-eae0-4350-ba3b-4a87ca021f4c"
      },
      "source": [
        "#model.summary\n",
        "print(model.summary())"
      ],
      "execution_count": null,
      "outputs": [
        {
          "output_type": "stream",
          "text": [
            "Model: \"sequential\"\n",
            "_________________________________________________________________\n",
            "Layer (type)                 Output Shape              Param #   \n",
            "=================================================================\n",
            "embedding (Embedding)        (None, 500, 16)           320000    \n",
            "_________________________________________________________________\n",
            "global_average_pooling1d (Gl (None, 16)                0         \n",
            "_________________________________________________________________\n",
            "dense (Dense)                (None, 24)                408       \n",
            "_________________________________________________________________\n",
            "dense_1 (Dense)              (None, 5)                 125       \n",
            "=================================================================\n",
            "Total params: 320,533\n",
            "Trainable params: 320,533\n",
            "Non-trainable params: 0\n",
            "_________________________________________________________________\n",
            "None\n"
          ],
          "name": "stdout"
        }
      ]
    },
    {
      "cell_type": "code",
      "metadata": {
        "colab": {
          "base_uri": "https://localhost:8080/"
        },
        "id": "xt3d3b1Bw9on",
        "outputId": "b0e75e9c-8eda-463f-9f15-1e602f32cfbd"
      },
      "source": [
        "#fit model\n",
        "num_epochs= 20\n",
        "history = model.fit(train_padded, y_train, epochs=num_epochs,verbose=2, validation_split=0.2)"
      ],
      "execution_count": null,
      "outputs": [
        {
          "output_type": "stream",
          "text": [
            "Epoch 1/20\n",
            "1372/1372 - 10s - loss: 1.5666 - accuracy: 0.2764 - val_loss: 1.5542 - val_accuracy: 0.2774\n",
            "Epoch 2/20\n",
            "1372/1372 - 7s - loss: 1.4559 - accuracy: 0.3695 - val_loss: 1.3586 - val_accuracy: 0.4219\n",
            "Epoch 3/20\n",
            "1372/1372 - 7s - loss: 1.2777 - accuracy: 0.4668 - val_loss: 1.2345 - val_accuracy: 0.4877\n",
            "Epoch 4/20\n",
            "1372/1372 - 7s - loss: 1.1692 - accuracy: 0.5207 - val_loss: 1.1560 - val_accuracy: 0.5304\n",
            "Epoch 5/20\n",
            "1372/1372 - 7s - loss: 1.0793 - accuracy: 0.5644 - val_loss: 1.0817 - val_accuracy: 0.5791\n",
            "Epoch 6/20\n",
            "1372/1372 - 7s - loss: 0.9890 - accuracy: 0.6119 - val_loss: 1.0074 - val_accuracy: 0.5972\n",
            "Epoch 7/20\n",
            "1372/1372 - 7s - loss: 0.9099 - accuracy: 0.6480 - val_loss: 0.9548 - val_accuracy: 0.6288\n",
            "Epoch 8/20\n",
            "1372/1372 - 7s - loss: 0.8409 - accuracy: 0.6799 - val_loss: 0.9848 - val_accuracy: 0.6122\n",
            "Epoch 9/20\n",
            "1372/1372 - 7s - loss: 0.7810 - accuracy: 0.7073 - val_loss: 0.8622 - val_accuracy: 0.6666\n",
            "Epoch 10/20\n",
            "1372/1372 - 7s - loss: 0.7298 - accuracy: 0.7269 - val_loss: 0.8395 - val_accuracy: 0.6696\n",
            "Epoch 11/20\n",
            "1372/1372 - 7s - loss: 0.6859 - accuracy: 0.7452 - val_loss: 0.8147 - val_accuracy: 0.6924\n",
            "Epoch 12/20\n",
            "1372/1372 - 7s - loss: 0.6467 - accuracy: 0.7602 - val_loss: 0.8116 - val_accuracy: 0.6829\n",
            "Epoch 13/20\n",
            "1372/1372 - 7s - loss: 0.6152 - accuracy: 0.7728 - val_loss: 0.7842 - val_accuracy: 0.7055\n",
            "Epoch 14/20\n",
            "1372/1372 - 7s - loss: 0.5880 - accuracy: 0.7832 - val_loss: 0.8043 - val_accuracy: 0.6870\n",
            "Epoch 15/20\n",
            "1372/1372 - 7s - loss: 0.5615 - accuracy: 0.7943 - val_loss: 0.7754 - val_accuracy: 0.7057\n",
            "Epoch 16/20\n",
            "1372/1372 - 7s - loss: 0.5411 - accuracy: 0.8012 - val_loss: 0.7756 - val_accuracy: 0.7113\n",
            "Epoch 17/20\n",
            "1372/1372 - 7s - loss: 0.5210 - accuracy: 0.8081 - val_loss: 0.7705 - val_accuracy: 0.7180\n",
            "Epoch 18/20\n",
            "1372/1372 - 7s - loss: 0.5020 - accuracy: 0.8174 - val_loss: 0.8047 - val_accuracy: 0.7010\n",
            "Epoch 19/20\n",
            "1372/1372 - 7s - loss: 0.4858 - accuracy: 0.8222 - val_loss: 0.7692 - val_accuracy: 0.7228\n",
            "Epoch 20/20\n",
            "1372/1372 - 7s - loss: 0.4724 - accuracy: 0.8273 - val_loss: 0.7757 - val_accuracy: 0.7199\n"
          ],
          "name": "stdout"
        }
      ]
    },
    {
      "cell_type": "code",
      "metadata": {
        "id": "qqKF4bsBxK4H"
      },
      "source": [
        "#predict values\n",
        "pred = model.predict_proba(test_padded)"
      ],
      "execution_count": null,
      "outputs": []
    },
    {
      "cell_type": "code",
      "metadata": {
        "colab": {
          "base_uri": "https://localhost:8080/",
          "height": 206
        },
        "id": "8b_E6JpJxiq0",
        "outputId": "4597ca3c-a510-4295-fd15-565bfa81b8fe"
      },
      "source": [
        "#submission\n",
        "submission[['0','1','2','3','4']] = pred\n",
        "submission.head()"
      ],
      "execution_count": null,
      "outputs": [
        {
          "output_type": "execute_result",
          "data": {
            "text/html": [
              "<div>\n",
              "<style scoped>\n",
              "    .dataframe tbody tr th:only-of-type {\n",
              "        vertical-align: middle;\n",
              "    }\n",
              "\n",
              "    .dataframe tbody tr th {\n",
              "        vertical-align: top;\n",
              "    }\n",
              "\n",
              "    .dataframe thead th {\n",
              "        text-align: right;\n",
              "    }\n",
              "</style>\n",
              "<table border=\"1\" class=\"dataframe\">\n",
              "  <thead>\n",
              "    <tr style=\"text-align: right;\">\n",
              "      <th></th>\n",
              "      <th>index</th>\n",
              "      <th>0</th>\n",
              "      <th>1</th>\n",
              "      <th>2</th>\n",
              "      <th>3</th>\n",
              "      <th>4</th>\n",
              "    </tr>\n",
              "  </thead>\n",
              "  <tbody>\n",
              "    <tr>\n",
              "      <th>0</th>\n",
              "      <td>0</td>\n",
              "      <td>0.000109</td>\n",
              "      <td>8.892132e-01</td>\n",
              "      <td>1.077157e-01</td>\n",
              "      <td>2.934160e-03</td>\n",
              "      <td>0.000028</td>\n",
              "    </tr>\n",
              "    <tr>\n",
              "      <th>1</th>\n",
              "      <td>1</td>\n",
              "      <td>0.211541</td>\n",
              "      <td>1.497825e-01</td>\n",
              "      <td>3.127408e-01</td>\n",
              "      <td>5.776790e-03</td>\n",
              "      <td>0.320159</td>\n",
              "    </tr>\n",
              "    <tr>\n",
              "      <th>2</th>\n",
              "      <td>2</td>\n",
              "      <td>0.999829</td>\n",
              "      <td>5.887616e-05</td>\n",
              "      <td>6.306669e-10</td>\n",
              "      <td>1.510149e-10</td>\n",
              "      <td>0.000112</td>\n",
              "    </tr>\n",
              "    <tr>\n",
              "      <th>3</th>\n",
              "      <td>3</td>\n",
              "      <td>0.000007</td>\n",
              "      <td>4.311142e-08</td>\n",
              "      <td>3.068992e-01</td>\n",
              "      <td>7.637627e-08</td>\n",
              "      <td>0.693094</td>\n",
              "    </tr>\n",
              "    <tr>\n",
              "      <th>4</th>\n",
              "      <td>4</td>\n",
              "      <td>0.703682</td>\n",
              "      <td>4.943748e-04</td>\n",
              "      <td>5.462918e-04</td>\n",
              "      <td>2.482293e-01</td>\n",
              "      <td>0.047048</td>\n",
              "    </tr>\n",
              "  </tbody>\n",
              "</table>\n",
              "</div>"
            ],
            "text/plain": [
              "   index         0             1             2             3         4\n",
              "0      0  0.000109  8.892132e-01  1.077157e-01  2.934160e-03  0.000028\n",
              "1      1  0.211541  1.497825e-01  3.127408e-01  5.776790e-03  0.320159\n",
              "2      2  0.999829  5.887616e-05  6.306669e-10  1.510149e-10  0.000112\n",
              "3      3  0.000007  4.311142e-08  3.068992e-01  7.637627e-08  0.693094\n",
              "4      4  0.703682  4.943748e-04  5.462918e-04  2.482293e-01  0.047048"
            ]
          },
          "metadata": {
            "tags": []
          },
          "execution_count": 29
        }
      ]
    },
    {
      "cell_type": "code",
      "metadata": {
        "id": "NqgC2ISFxrRi"
      },
      "source": [
        "sub_path = \"/content/drive/MyDrive/Colab Notebooks/DataScience/My CSV/Dacon/fiction_writer/\"\n",
        "sub_name = 'baseline_submit.csv'\n",
        "submission.to_csv(sub_path + sub_name, index=False, encoding='utf-8')"
      ],
      "execution_count": null,
      "outputs": []
    },
    {
      "cell_type": "code",
      "metadata": {
        "id": "nWjUMfIkyH3R"
      },
      "source": [
        ""
      ],
      "execution_count": null,
      "outputs": []
    }
  ]
}