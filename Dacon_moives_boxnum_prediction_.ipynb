{
  "nbformat": 4,
  "nbformat_minor": 0,
  "metadata": {
    "colab": {
      "name": "Dacon_moives_boxnum_prediction_.ipynb",
      "provenance": [],
      "collapsed_sections": [],
      "mount_file_id": "1NbRur0mfn2WSekLywN1f7rwL1xdfNxYZ",
      "authorship_tag": "ABX9TyNlmDlI0WXD21FFhH8VwGvy",
      "include_colab_link": true
    },
    "kernelspec": {
      "name": "python3",
      "display_name": "Python 3"
    },
    "language_info": {
      "name": "python"
    }
  },
  "cells": [
    {
      "cell_type": "markdown",
      "metadata": {
        "id": "view-in-github",
        "colab_type": "text"
      },
      "source": [
        "<a href=\"https://colab.research.google.com/github/HwangHanJae/Dacon_tutorial/blob/main/Dacon_moives_boxnum_prediction_.ipynb\" target=\"_parent\"><img src=\"https://colab.research.google.com/assets/colab-badge.svg\" alt=\"Open In Colab\"/></a>"
      ]
    },
    {
      "cell_type": "markdown",
      "metadata": {
        "id": "M7uwxzjRjrtu"
      },
      "source": [
        "#한글화"
      ]
    },
    {
      "cell_type": "code",
      "metadata": {
        "id": "tCMwAWFPjyfD",
        "colab": {
          "base_uri": "https://localhost:8080/"
        },
        "outputId": "07a8372e-3dd4-4df2-fd83-fe52736f1de6"
      },
      "source": [
        "#나눔 고딕 폰트 인스톨\n",
        "!apt-get update -qq\n",
        "!apt-get install fonts-nanum* -qq"
      ],
      "execution_count": 5,
      "outputs": [
        {
          "output_type": "stream",
          "text": [
            "Selecting previously unselected package fonts-nanum.\n",
            "(Reading database ... 160815 files and directories currently installed.)\n",
            "Preparing to unpack .../fonts-nanum_20170925-1_all.deb ...\n",
            "Unpacking fonts-nanum (20170925-1) ...\n",
            "Selecting previously unselected package fonts-nanum-eco.\n",
            "Preparing to unpack .../fonts-nanum-eco_1.000-6_all.deb ...\n",
            "Unpacking fonts-nanum-eco (1.000-6) ...\n",
            "Selecting previously unselected package fonts-nanum-extra.\n",
            "Preparing to unpack .../fonts-nanum-extra_20170925-1_all.deb ...\n",
            "Unpacking fonts-nanum-extra (20170925-1) ...\n",
            "Selecting previously unselected package fonts-nanum-coding.\n",
            "Preparing to unpack .../fonts-nanum-coding_2.5-1_all.deb ...\n",
            "Unpacking fonts-nanum-coding (2.5-1) ...\n",
            "Setting up fonts-nanum-extra (20170925-1) ...\n",
            "Setting up fonts-nanum (20170925-1) ...\n",
            "Setting up fonts-nanum-coding (2.5-1) ...\n",
            "Setting up fonts-nanum-eco (1.000-6) ...\n",
            "Processing triggers for fontconfig (2.12.6-0ubuntu2) ...\n"
          ],
          "name": "stdout"
        }
      ]
    },
    {
      "cell_type": "markdown",
      "metadata": {
        "id": "ppk1enEdi1ep"
      },
      "source": [
        "# 라이브러리 로드"
      ]
    },
    {
      "cell_type": "code",
      "metadata": {
        "id": "6PW81GTciota"
      },
      "source": [
        "import numpy as np\n",
        "import pandas as pd\n",
        "import seaborn as sns\n",
        "import matplotlib.pyplot as plt\n",
        "import warnings\n",
        "\n",
        "from IPython.display import set_matplotlib_formats\n",
        "\n",
        "warnings.filterwarnings(action='ignore')\n",
        "plt.style.use('seaborn')\n",
        "set_matplotlib_formats('svg')\n",
        "\n"
      ],
      "execution_count": 4,
      "outputs": []
    },
    {
      "cell_type": "code",
      "metadata": {
        "colab": {
          "base_uri": "https://localhost:8080/"
        },
        "id": "8KB8PVU1j-sZ",
        "outputId": "8e2c7c3f-2937-4366-d468-4e6f902e5d41"
      },
      "source": [
        "#맷플롯립 폰트 관련 매니저\n",
        "import matplotlib.font_manager as fm\n",
        "# 맷플롯라이브러리에 폰트 설정\n",
        "plt.rc('font', family='NanumBarunGothic') \n",
        "fm._rebuild()\n",
        "# 진행후에 런타임 다시시작\n",
        "print(\"현재 설정 폰트\",plt.rcParams['font.family'])"
      ],
      "execution_count": 5,
      "outputs": [
        {
          "output_type": "stream",
          "text": [
            "현재 설정 폰트 ['NanumBarunGothic']\n"
          ],
          "name": "stdout"
        }
      ]
    },
    {
      "cell_type": "markdown",
      "metadata": {
        "id": "PDe0EcQhjOX5"
      },
      "source": [
        "# 데이터 불러오기"
      ]
    },
    {
      "cell_type": "code",
      "metadata": {
        "id": "2dac00CKjPry"
      },
      "source": [
        "path  = \"/content/drive/MyDrive/Colab Notebooks/DataScience/Data/movies/\"\n",
        "train = pd.read_csv(path+\"train.csv\")\n",
        "test = pd.read_csv(path+\"test.csv\")"
      ],
      "execution_count": 418,
      "outputs": []
    },
    {
      "cell_type": "code",
      "metadata": {
        "colab": {
          "base_uri": "https://localhost:8080/",
          "height": 206
        },
        "id": "CqtczrnMjoU7",
        "outputId": "e0607bf6-d08c-4509-ddbe-15e3642fad4d"
      },
      "source": [
        "train.head()"
      ],
      "execution_count": 34,
      "outputs": [
        {
          "output_type": "execute_result",
          "data": {
            "text/html": [
              "<div>\n",
              "<style scoped>\n",
              "    .dataframe tbody tr th:only-of-type {\n",
              "        vertical-align: middle;\n",
              "    }\n",
              "\n",
              "    .dataframe tbody tr th {\n",
              "        vertical-align: top;\n",
              "    }\n",
              "\n",
              "    .dataframe thead th {\n",
              "        text-align: right;\n",
              "    }\n",
              "</style>\n",
              "<table border=\"1\" class=\"dataframe\">\n",
              "  <thead>\n",
              "    <tr style=\"text-align: right;\">\n",
              "      <th></th>\n",
              "      <th>title</th>\n",
              "      <th>distributor</th>\n",
              "      <th>genre</th>\n",
              "      <th>release_time</th>\n",
              "      <th>time</th>\n",
              "      <th>screening_rat</th>\n",
              "      <th>director</th>\n",
              "      <th>dir_prev_bfnum</th>\n",
              "      <th>dir_prev_num</th>\n",
              "      <th>num_staff</th>\n",
              "      <th>num_actor</th>\n",
              "      <th>box_off_num</th>\n",
              "    </tr>\n",
              "  </thead>\n",
              "  <tbody>\n",
              "    <tr>\n",
              "      <th>0</th>\n",
              "      <td>개들의 전쟁</td>\n",
              "      <td>롯데엔터테인먼트</td>\n",
              "      <td>액션</td>\n",
              "      <td>2012-11-22</td>\n",
              "      <td>96</td>\n",
              "      <td>청소년 관람불가</td>\n",
              "      <td>조병옥</td>\n",
              "      <td>NaN</td>\n",
              "      <td>0</td>\n",
              "      <td>91</td>\n",
              "      <td>2</td>\n",
              "      <td>23398</td>\n",
              "    </tr>\n",
              "    <tr>\n",
              "      <th>1</th>\n",
              "      <td>내부자들</td>\n",
              "      <td>(주)쇼박스</td>\n",
              "      <td>느와르</td>\n",
              "      <td>2015-11-19</td>\n",
              "      <td>130</td>\n",
              "      <td>청소년 관람불가</td>\n",
              "      <td>우민호</td>\n",
              "      <td>1161602.50</td>\n",
              "      <td>2</td>\n",
              "      <td>387</td>\n",
              "      <td>3</td>\n",
              "      <td>7072501</td>\n",
              "    </tr>\n",
              "    <tr>\n",
              "      <th>2</th>\n",
              "      <td>은밀하게 위대하게</td>\n",
              "      <td>(주)쇼박스</td>\n",
              "      <td>액션</td>\n",
              "      <td>2013-06-05</td>\n",
              "      <td>123</td>\n",
              "      <td>15세 관람가</td>\n",
              "      <td>장철수</td>\n",
              "      <td>220775.25</td>\n",
              "      <td>4</td>\n",
              "      <td>343</td>\n",
              "      <td>4</td>\n",
              "      <td>6959083</td>\n",
              "    </tr>\n",
              "    <tr>\n",
              "      <th>3</th>\n",
              "      <td>나는 공무원이다</td>\n",
              "      <td>(주)NEW</td>\n",
              "      <td>코미디</td>\n",
              "      <td>2012-07-12</td>\n",
              "      <td>101</td>\n",
              "      <td>전체 관람가</td>\n",
              "      <td>구자홍</td>\n",
              "      <td>23894.00</td>\n",
              "      <td>2</td>\n",
              "      <td>20</td>\n",
              "      <td>6</td>\n",
              "      <td>217866</td>\n",
              "    </tr>\n",
              "    <tr>\n",
              "      <th>4</th>\n",
              "      <td>불량남녀</td>\n",
              "      <td>쇼박스(주)미디어플렉스</td>\n",
              "      <td>코미디</td>\n",
              "      <td>2010-11-04</td>\n",
              "      <td>108</td>\n",
              "      <td>15세 관람가</td>\n",
              "      <td>신근호</td>\n",
              "      <td>1.00</td>\n",
              "      <td>1</td>\n",
              "      <td>251</td>\n",
              "      <td>2</td>\n",
              "      <td>483387</td>\n",
              "    </tr>\n",
              "  </tbody>\n",
              "</table>\n",
              "</div>"
            ],
            "text/plain": [
              "       title   distributor genre  ... num_staff  num_actor box_off_num\n",
              "0     개들의 전쟁      롯데엔터테인먼트    액션  ...        91          2       23398\n",
              "1       내부자들        (주)쇼박스   느와르  ...       387          3     7072501\n",
              "2  은밀하게 위대하게        (주)쇼박스    액션  ...       343          4     6959083\n",
              "3   나는 공무원이다        (주)NEW   코미디  ...        20          6      217866\n",
              "4       불량남녀  쇼박스(주)미디어플렉스   코미디  ...       251          2      483387\n",
              "\n",
              "[5 rows x 12 columns]"
            ]
          },
          "metadata": {
            "tags": []
          },
          "execution_count": 34
        }
      ]
    },
    {
      "cell_type": "code",
      "metadata": {
        "colab": {
          "base_uri": "https://localhost:8080/",
          "height": 206
        },
        "id": "TDq-1TvQjpL_",
        "outputId": "5ea9665f-1b9b-4129-fc73-be8c79b77b03"
      },
      "source": [
        "test.head()"
      ],
      "execution_count": 35,
      "outputs": [
        {
          "output_type": "execute_result",
          "data": {
            "text/html": [
              "<div>\n",
              "<style scoped>\n",
              "    .dataframe tbody tr th:only-of-type {\n",
              "        vertical-align: middle;\n",
              "    }\n",
              "\n",
              "    .dataframe tbody tr th {\n",
              "        vertical-align: top;\n",
              "    }\n",
              "\n",
              "    .dataframe thead th {\n",
              "        text-align: right;\n",
              "    }\n",
              "</style>\n",
              "<table border=\"1\" class=\"dataframe\">\n",
              "  <thead>\n",
              "    <tr style=\"text-align: right;\">\n",
              "      <th></th>\n",
              "      <th>title</th>\n",
              "      <th>distributor</th>\n",
              "      <th>genre</th>\n",
              "      <th>release_time</th>\n",
              "      <th>time</th>\n",
              "      <th>screening_rat</th>\n",
              "      <th>director</th>\n",
              "      <th>dir_prev_bfnum</th>\n",
              "      <th>dir_prev_num</th>\n",
              "      <th>num_staff</th>\n",
              "      <th>num_actor</th>\n",
              "    </tr>\n",
              "  </thead>\n",
              "  <tbody>\n",
              "    <tr>\n",
              "      <th>0</th>\n",
              "      <td>용서는 없다</td>\n",
              "      <td>시네마서비스</td>\n",
              "      <td>느와르</td>\n",
              "      <td>2010-01-07</td>\n",
              "      <td>125</td>\n",
              "      <td>청소년 관람불가</td>\n",
              "      <td>김형준</td>\n",
              "      <td>3.005290e+05</td>\n",
              "      <td>2</td>\n",
              "      <td>304</td>\n",
              "      <td>3</td>\n",
              "    </tr>\n",
              "    <tr>\n",
              "      <th>1</th>\n",
              "      <td>아빠가 여자를 좋아해</td>\n",
              "      <td>(주)쇼박스</td>\n",
              "      <td>멜로/로맨스</td>\n",
              "      <td>2010-01-14</td>\n",
              "      <td>113</td>\n",
              "      <td>12세 관람가</td>\n",
              "      <td>이광재</td>\n",
              "      <td>3.427002e+05</td>\n",
              "      <td>4</td>\n",
              "      <td>275</td>\n",
              "      <td>3</td>\n",
              "    </tr>\n",
              "    <tr>\n",
              "      <th>2</th>\n",
              "      <td>하모니</td>\n",
              "      <td>CJ 엔터테인먼트</td>\n",
              "      <td>드라마</td>\n",
              "      <td>2010-01-28</td>\n",
              "      <td>115</td>\n",
              "      <td>12세 관람가</td>\n",
              "      <td>강대규</td>\n",
              "      <td>4.206611e+06</td>\n",
              "      <td>3</td>\n",
              "      <td>419</td>\n",
              "      <td>7</td>\n",
              "    </tr>\n",
              "    <tr>\n",
              "      <th>3</th>\n",
              "      <td>의형제</td>\n",
              "      <td>(주)쇼박스</td>\n",
              "      <td>액션</td>\n",
              "      <td>2010-02-04</td>\n",
              "      <td>116</td>\n",
              "      <td>15세 관람가</td>\n",
              "      <td>장훈</td>\n",
              "      <td>6.913420e+05</td>\n",
              "      <td>2</td>\n",
              "      <td>408</td>\n",
              "      <td>2</td>\n",
              "    </tr>\n",
              "    <tr>\n",
              "      <th>4</th>\n",
              "      <td>평행 이론</td>\n",
              "      <td>CJ 엔터테인먼트</td>\n",
              "      <td>공포</td>\n",
              "      <td>2010-02-18</td>\n",
              "      <td>110</td>\n",
              "      <td>15세 관람가</td>\n",
              "      <td>권호영</td>\n",
              "      <td>3.173800e+04</td>\n",
              "      <td>1</td>\n",
              "      <td>380</td>\n",
              "      <td>1</td>\n",
              "    </tr>\n",
              "  </tbody>\n",
              "</table>\n",
              "</div>"
            ],
            "text/plain": [
              "         title distributor   genre  ... dir_prev_num  num_staff num_actor\n",
              "0       용서는 없다      시네마서비스     느와르  ...            2        304         3\n",
              "1  아빠가 여자를 좋아해      (주)쇼박스  멜로/로맨스  ...            4        275         3\n",
              "2          하모니   CJ 엔터테인먼트     드라마  ...            3        419         7\n",
              "3          의형제      (주)쇼박스      액션  ...            2        408         2\n",
              "4        평행 이론   CJ 엔터테인먼트      공포  ...            1        380         1\n",
              "\n",
              "[5 rows x 11 columns]"
            ]
          },
          "metadata": {
            "tags": []
          },
          "execution_count": 35
        }
      ]
    },
    {
      "cell_type": "code",
      "metadata": {
        "colab": {
          "base_uri": "https://localhost:8080/"
        },
        "id": "bMSNKl_skBuh",
        "outputId": "52846f33-ba90-483f-b1dd-40891bd71360"
      },
      "source": [
        "train.info()"
      ],
      "execution_count": 36,
      "outputs": [
        {
          "output_type": "stream",
          "text": [
            "<class 'pandas.core.frame.DataFrame'>\n",
            "RangeIndex: 600 entries, 0 to 599\n",
            "Data columns (total 12 columns):\n",
            " #   Column          Non-Null Count  Dtype  \n",
            "---  ------          --------------  -----  \n",
            " 0   title           600 non-null    object \n",
            " 1   distributor     600 non-null    object \n",
            " 2   genre           600 non-null    object \n",
            " 3   release_time    600 non-null    object \n",
            " 4   time            600 non-null    int64  \n",
            " 5   screening_rat   600 non-null    object \n",
            " 6   director        600 non-null    object \n",
            " 7   dir_prev_bfnum  270 non-null    float64\n",
            " 8   dir_prev_num    600 non-null    int64  \n",
            " 9   num_staff       600 non-null    int64  \n",
            " 10  num_actor       600 non-null    int64  \n",
            " 11  box_off_num     600 non-null    int64  \n",
            "dtypes: float64(1), int64(5), object(6)\n",
            "memory usage: 56.4+ KB\n"
          ],
          "name": "stdout"
        }
      ]
    },
    {
      "cell_type": "code",
      "metadata": {
        "id": "Iw0dcW6Qk5GH",
        "colab": {
          "base_uri": "https://localhost:8080/"
        },
        "outputId": "d54dd7ca-6da7-4c06-9238-5a2d239e2786"
      },
      "source": [
        "train.isnull().sum()"
      ],
      "execution_count": 37,
      "outputs": [
        {
          "output_type": "execute_result",
          "data": {
            "text/plain": [
              "title               0\n",
              "distributor         0\n",
              "genre               0\n",
              "release_time        0\n",
              "time                0\n",
              "screening_rat       0\n",
              "director            0\n",
              "dir_prev_bfnum    330\n",
              "dir_prev_num        0\n",
              "num_staff           0\n",
              "num_actor           0\n",
              "box_off_num         0\n",
              "dtype: int64"
            ]
          },
          "metadata": {
            "tags": []
          },
          "execution_count": 37
        }
      ]
    },
    {
      "cell_type": "code",
      "metadata": {
        "colab": {
          "base_uri": "https://localhost:8080/"
        },
        "id": "F1Pd4GS0k980",
        "outputId": "17d0bdbd-607f-491a-ce86-53cf9707ecf5"
      },
      "source": [
        "test.isnull().sum()"
      ],
      "execution_count": 38,
      "outputs": [
        {
          "output_type": "execute_result",
          "data": {
            "text/plain": [
              "title               0\n",
              "distributor         0\n",
              "genre               0\n",
              "release_time        0\n",
              "time                0\n",
              "screening_rat       0\n",
              "director            0\n",
              "dir_prev_bfnum    136\n",
              "dir_prev_num        0\n",
              "num_staff           0\n",
              "num_actor           0\n",
              "dtype: int64"
            ]
          },
          "metadata": {
            "tags": []
          },
          "execution_count": 38
        }
      ]
    },
    {
      "cell_type": "markdown",
      "metadata": {
        "id": "SipZURuRlFFY"
      },
      "source": [
        "#EDA"
      ]
    },
    {
      "cell_type": "code",
      "metadata": {
        "colab": {
          "base_uri": "https://localhost:8080/"
        },
        "id": "obGhX7eLloqu",
        "outputId": "d71f707f-79a9-4c6e-8c3e-2838ae27f8d4"
      },
      "source": [
        "train.shape, test.shape"
      ],
      "execution_count": 39,
      "outputs": [
        {
          "output_type": "execute_result",
          "data": {
            "text/plain": [
              "((600, 12), (243, 11))"
            ]
          },
          "metadata": {
            "tags": []
          },
          "execution_count": 39
        }
      ]
    },
    {
      "cell_type": "code",
      "metadata": {
        "colab": {
          "base_uri": "https://localhost:8080/",
          "height": 663
        },
        "id": "VNJvtXaDlGFO",
        "outputId": "fa5b8434-88b9-4605-8a84-351ba7048da6"
      },
      "source": [
        "f, ax = plt.subplots(1,2, figsize=(14,8))\n",
        "sns.histplot(data=train, x='box_off_num', kde=True, ax=ax[0])\n",
        "sns.boxplot(data=train, x='box_off_num', ax=ax[1])\n",
        "plt.show()"
      ],
      "execution_count": 40,
      "outputs": [
        {
          "output_type": "display_data",
          "data": {
            "text/plain": [
              "<Figure size 1008x576 with 2 Axes>"
            ],
            "image/svg+xml": "<?xml version=\"1.0\" encoding=\"utf-8\" standalone=\"no\"?>\n<!DOCTYPE svg PUBLIC \"-//W3C//DTD SVG 1.1//EN\"\n  \"http://www.w3.org/Graphics/SVG/1.1/DTD/svg11.dtd\">\n<!-- Created with matplotlib (https://matplotlib.org/) -->\n<svg height=\"482.497344pt\" version=\"1.1\" viewBox=\"0 0 835.726719 482.497344\" width=\"835.726719pt\" xmlns=\"http://www.w3.org/2000/svg\" xmlns:xlink=\"http://www.w3.org/1999/xlink\">\n <defs>\n  <style type=\"text/css\">\n*{stroke-linecap:butt;stroke-linejoin:round;}\n  </style>\n </defs>\n <g id=\"figure_1\">\n  <g id=\"patch_1\">\n   <path d=\"M 0 482.497344 \nL 835.726719 482.497344 \nL 835.726719 0 \nL 0 0 \nz\n\" style=\"fill:#ffffff;\"/>\n  </g>\n  <g id=\"axes_1\">\n   <g id=\"patch_2\">\n    <path d=\"M 47.326719 442.08 \nL 402.417628 442.08 \nL 402.417628 7.2 \nL 47.326719 7.2 \nz\n\" style=\"fill:#eaeaf2;\"/>\n   </g>\n   <g id=\"matplotlib.axis_1\">\n    <g id=\"xtick_1\">\n     <g id=\"line2d_1\">\n      <path clip-path=\"url(#p5eeda9aa29)\" d=\"M 63.467192 442.08 \nL 63.467192 7.2 \n\" style=\"fill:none;stroke:#ffffff;stroke-linecap:round;\"/>\n     </g>\n     <g id=\"line2d_2\"/>\n     <g id=\"text_1\">\n      <!-- 0.0 -->\n      <defs>\n       <path d=\"M 29.203125 73.5 \nQ 41.09375 73.5 47.4375 63.59375 \nQ 53.796875 53.703125 53.796875 33.59375 \nQ 53.796875 13.59375 47.390625 4.390625 \nQ 41 -4.796875 29.203125 -4.796875 \nQ 23.296875 -4.796875 18.6875 -2.546875 \nQ 14.09375 -0.296875 10.9375 4.390625 \nQ 7.796875 9.09375 6.1875 16.34375 \nQ 4.59375 23.59375 4.59375 33.59375 \nQ 4.59375 53.703125 10.9375 63.59375 \nQ 17.296875 73.5 29.203125 73.5 \nz\nM 29.203125 66.5 \nQ 13.296875 66.5 13.296875 33.40625 \nQ 13.296875 16.90625 17.25 9.5 \nQ 21.203125 2.09375 29.203125 2.09375 \nQ 37.09375 2.09375 41.09375 9.5 \nQ 45.09375 16.90625 45.09375 33.40625 \nQ 45.09375 66.5 29.203125 66.5 \nz\n\" id=\"NanumBarunGothic-48\"/>\n       <path d=\"M 13 8.296875 \nQ 16 8.296875 17.890625 6.390625 \nQ 19.796875 4.5 19.796875 1.59375 \nQ 19.796875 -1.296875 17.890625 -3.1875 \nQ 16 -5.09375 13 -5.09375 \nQ 10 -5.09375 8.09375 -3.1875 \nQ 6.203125 -1.296875 6.203125 1.59375 \nQ 6.203125 4.5 8.09375 6.390625 \nQ 10 8.296875 13 8.296875 \nz\n\" id=\"NanumBarunGothic-46\"/>\n      </defs>\n      <g style=\"fill:#262626;\" transform=\"translate(56.152348 456.850312)scale(0.1 -0.1)\">\n       <use xlink:href=\"#NanumBarunGothic-48\"/>\n       <use x=\"58.299988\" xlink:href=\"#NanumBarunGothic-46\"/>\n       <use x=\"87.999985\" xlink:href=\"#NanumBarunGothic-48\"/>\n      </g>\n     </g>\n    </g>\n    <g id=\"xtick_2\">\n     <g id=\"line2d_3\">\n      <path clip-path=\"url(#p5eeda9aa29)\" d=\"M 108.733298 442.08 \nL 108.733298 7.2 \n\" style=\"fill:none;stroke:#ffffff;stroke-linecap:round;\"/>\n     </g>\n     <g id=\"line2d_4\"/>\n     <g id=\"text_2\">\n      <!-- 0.2 -->\n      <defs>\n       <path d=\"M 9.09375 57.703125 \nQ 8 56.59375 8 58.09375 \nL 8 65.59375 \nQ 12.203125 68.90625 17.203125 71.203125 \nQ 22.203125 73.5 28.90625 73.5 \nQ 39.796875 73.5 45.4375 68.546875 \nQ 51.09375 63.59375 51.09375 53.40625 \nQ 51.09375 50 50 46.890625 \nQ 48.90625 43.796875 46.953125 40.640625 \nQ 45 37.5 42.25 34.09375 \nQ 39.5 30.703125 36.203125 26.703125 \nL 15.796875 3.5 \nL 15.796875 3.40625 \nL 52.203125 3.40625 \nL 52.203125 -3.59375 \nL 5.5 -3.59375 \nL 5.5 3.90625 \nL 28.796875 30.09375 \nQ 32.703125 35.09375 35.296875 38.4375 \nQ 37.90625 41.796875 39.453125 44.34375 \nQ 41 46.90625 41.640625 49 \nQ 42.296875 51.09375 42.296875 53.59375 \nQ 42.296875 59.703125 39.140625 63.09375 \nQ 36 66.5 29.09375 66.5 \nQ 24.296875 66.5 19.296875 64.25 \nQ 14.296875 62 9.09375 57.703125 \nz\n\" id=\"NanumBarunGothic-50\"/>\n      </defs>\n      <g style=\"fill:#262626;\" transform=\"translate(101.418454 456.850312)scale(0.1 -0.1)\">\n       <use xlink:href=\"#NanumBarunGothic-48\"/>\n       <use x=\"58.299988\" xlink:href=\"#NanumBarunGothic-46\"/>\n       <use x=\"87.999985\" xlink:href=\"#NanumBarunGothic-50\"/>\n      </g>\n     </g>\n    </g>\n    <g id=\"xtick_3\">\n     <g id=\"line2d_5\">\n      <path clip-path=\"url(#p5eeda9aa29)\" d=\"M 153.999404 442.08 \nL 153.999404 7.2 \n\" style=\"fill:none;stroke:#ffffff;stroke-linecap:round;\"/>\n     </g>\n     <g id=\"line2d_6\"/>\n     <g id=\"text_3\">\n      <!-- 0.4 -->\n      <defs>\n       <path d=\"M 2.09375 13.703125 \nL 2.09375 22.203125 \nL 35.296875 72.203125 \nL 45.59375 72.203125 \nL 45.59375 20.703125 \nL 56.90625 20.703125 \nL 56.90625 13.703125 \nL 45.59375 13.703125 \nL 45.59375 -3.59375 \nL 37.09375 -3.59375 \nL 37.09375 13.703125 \nz\nM 34.703125 59.296875 \nL 9.296875 20.59375 \nL 9.296875 20.5 \nL 37.5 20.5 \nL 37.5 59.09375 \nL 37.59375 64.703125 \nz\n\" id=\"NanumBarunGothic-52\"/>\n      </defs>\n      <g style=\"fill:#262626;\" transform=\"translate(146.684561 456.850312)scale(0.1 -0.1)\">\n       <use xlink:href=\"#NanumBarunGothic-48\"/>\n       <use x=\"58.299988\" xlink:href=\"#NanumBarunGothic-46\"/>\n       <use x=\"87.999985\" xlink:href=\"#NanumBarunGothic-52\"/>\n      </g>\n     </g>\n    </g>\n    <g id=\"xtick_4\">\n     <g id=\"line2d_7\">\n      <path clip-path=\"url(#p5eeda9aa29)\" d=\"M 199.26551 442.08 \nL 199.26551 7.2 \n\" style=\"fill:none;stroke:#ffffff;stroke-linecap:round;\"/>\n     </g>\n     <g id=\"line2d_8\"/>\n     <g id=\"text_4\">\n      <!-- 0.6 -->\n      <defs>\n       <path d=\"M 49.796875 62.90625 \nQ 47 64.59375 43.703125 65.59375 \nQ 40.40625 66.59375 36.59375 66.59375 \nQ 31.296875 66.59375 27.09375 64.046875 \nQ 22.90625 61.5 19.953125 57.140625 \nQ 17 52.796875 15.34375 47.09375 \nQ 13.703125 41.40625 13.5 35 \nL 13.703125 35 \nQ 14.703125 37.203125 16.390625 39.25 \nQ 18.09375 41.296875 20.4375 42.84375 \nQ 22.796875 44.40625 25.640625 45.296875 \nQ 28.5 46.203125 31.796875 46.203125 \nQ 37.203125 46.203125 41.34375 44.34375 \nQ 45.5 42.5 48.34375 39.203125 \nQ 51.203125 35.90625 52.703125 31.40625 \nQ 54.203125 26.90625 54.203125 21.59375 \nQ 54.203125 15.703125 52.453125 10.890625 \nQ 50.703125 6.09375 47.453125 2.6875 \nQ 44.203125 -0.703125 39.75 -2.546875 \nQ 35.296875 -4.40625 29.90625 -4.40625 \nQ 22.203125 -4.40625 17.390625 -1.15625 \nQ 12.59375 2.09375 9.890625 7.1875 \nQ 7.203125 12.296875 6.25 18.546875 \nQ 5.296875 24.796875 5.296875 30.90625 \nQ 5.296875 38.59375 7.046875 46.25 \nQ 8.796875 53.90625 12.546875 59.953125 \nQ 16.296875 66 22.1875 69.796875 \nQ 28.09375 73.59375 36.40625 73.59375 \nQ 40.59375 73.59375 44.09375 72.84375 \nQ 47.59375 72.09375 50.703125 70.703125 \nL 50.703125 63.296875 \nQ 50.703125 62.203125 49.796875 62.90625 \nz\nM 14.296875 20.796875 \nQ 14.296875 17.09375 15.34375 13.796875 \nQ 16.40625 10.5 18.453125 8 \nQ 20.5 5.5 23.390625 4 \nQ 26.296875 2.5 29.90625 2.5 \nQ 33.90625 2.5 36.84375 4.140625 \nQ 39.796875 5.796875 41.6875 8.390625 \nQ 43.59375 11 44.5 14.34375 \nQ 45.40625 17.703125 45.40625 21.09375 \nQ 45.40625 24.796875 44.5 28.09375 \nQ 43.59375 31.40625 41.796875 33.84375 \nQ 40 36.296875 37.203125 37.75 \nQ 34.40625 39.203125 30.59375 39.203125 \nQ 26.59375 39.203125 23.640625 37.75 \nQ 20.703125 36.296875 18.703125 33.75 \nQ 16.703125 31.203125 15.640625 27.84375 \nQ 14.59375 24.5 14.296875 20.796875 \nz\n\" id=\"NanumBarunGothic-54\"/>\n      </defs>\n      <g style=\"fill:#262626;\" transform=\"translate(191.950667 456.850312)scale(0.1 -0.1)\">\n       <use xlink:href=\"#NanumBarunGothic-48\"/>\n       <use x=\"58.299988\" xlink:href=\"#NanumBarunGothic-46\"/>\n       <use x=\"87.999985\" xlink:href=\"#NanumBarunGothic-54\"/>\n      </g>\n     </g>\n    </g>\n    <g id=\"xtick_5\">\n     <g id=\"line2d_9\">\n      <path clip-path=\"url(#p5eeda9aa29)\" d=\"M 244.531617 442.08 \nL 244.531617 7.2 \n\" style=\"fill:none;stroke:#ffffff;stroke-linecap:round;\"/>\n     </g>\n     <g id=\"line2d_10\"/>\n     <g id=\"text_5\">\n      <!-- 0.8 -->\n      <defs>\n       <path d=\"M 29.09375 2.5 \nQ 32.5 2.5 35.546875 3.546875 \nQ 38.59375 4.59375 40.890625 6.5 \nQ 43.203125 8.40625 44.5 11.15625 \nQ 45.796875 13.90625 45.796875 17.40625 \nQ 45.796875 20.796875 44.5 23.640625 \nQ 43.203125 26.5 40.890625 28.59375 \nQ 38.59375 30.703125 35.546875 31.84375 \nQ 32.5 33 29.09375 33 \nQ 25.59375 33 22.59375 31.84375 \nQ 19.59375 30.703125 17.296875 28.59375 \nQ 15 26.5 13.703125 23.640625 \nQ 12.40625 20.796875 12.40625 17.40625 \nQ 12.40625 13.90625 13.703125 11.15625 \nQ 15 8.40625 17.296875 6.5 \nQ 19.59375 4.59375 22.59375 3.546875 \nQ 25.59375 2.5 29.09375 2.5 \nz\nM 29.09375 40.203125 \nQ 31.90625 40.203125 34.59375 41.09375 \nQ 37.296875 42 39.390625 43.703125 \nQ 41.5 45.40625 42.796875 47.90625 \nQ 44.09375 50.40625 44.09375 53.59375 \nQ 44.09375 56.703125 42.890625 59.203125 \nQ 41.703125 61.703125 39.640625 63.5 \nQ 37.59375 65.296875 34.890625 66.25 \nQ 32.203125 67.203125 29.09375 67.203125 \nQ 26 67.203125 23.296875 66.25 \nQ 20.59375 65.296875 18.546875 63.5 \nQ 16.5 61.703125 15.296875 59.203125 \nQ 14.09375 56.703125 14.09375 53.59375 \nQ 14.09375 50.40625 15.390625 47.90625 \nQ 16.703125 45.40625 18.796875 43.703125 \nQ 20.90625 42 23.59375 41.09375 \nQ 26.296875 40.203125 29.09375 40.203125 \nz\nM 29.09375 -4.5 \nQ 22.703125 -4.5 17.953125 -2.953125 \nQ 13.203125 -1.40625 10.046875 1.34375 \nQ 6.90625 4.09375 5.296875 7.890625 \nQ 3.703125 11.703125 3.703125 16.09375 \nQ 3.703125 23.40625 7.453125 28.796875 \nQ 11.203125 34.203125 19.296875 36.296875 \nL 19.296875 36.5 \nQ 13 38.5 9.203125 42.84375 \nQ 5.40625 47.203125 5.40625 53.5 \nQ 5.40625 57.59375 6.84375 61.25 \nQ 8.296875 64.90625 11.25 67.59375 \nQ 14.203125 70.296875 18.640625 71.890625 \nQ 23.09375 73.5 29.09375 73.5 \nQ 35.09375 73.5 39.546875 71.890625 \nQ 44 70.296875 46.953125 67.59375 \nQ 49.90625 64.90625 51.34375 61.25 \nQ 52.796875 57.59375 52.796875 53.5 \nQ 52.796875 47.203125 49 42.84375 \nQ 45.203125 38.5 38.90625 36.5 \nL 38.90625 36.296875 \nQ 47 34.203125 50.75 28.796875 \nQ 54.5 23.40625 54.5 16.09375 \nQ 54.5 11.703125 52.890625 7.890625 \nQ 51.296875 4.09375 48.140625 1.34375 \nQ 45 -1.40625 40.25 -2.953125 \nQ 35.5 -4.5 29.09375 -4.5 \nz\n\" id=\"NanumBarunGothic-56\"/>\n      </defs>\n      <g style=\"fill:#262626;\" transform=\"translate(237.216773 456.850312)scale(0.1 -0.1)\">\n       <use xlink:href=\"#NanumBarunGothic-48\"/>\n       <use x=\"58.299988\" xlink:href=\"#NanumBarunGothic-46\"/>\n       <use x=\"87.999985\" xlink:href=\"#NanumBarunGothic-56\"/>\n      </g>\n     </g>\n    </g>\n    <g id=\"xtick_6\">\n     <g id=\"line2d_11\">\n      <path clip-path=\"url(#p5eeda9aa29)\" d=\"M 289.797723 442.08 \nL 289.797723 7.2 \n\" style=\"fill:none;stroke:#ffffff;stroke-linecap:round;\"/>\n     </g>\n     <g id=\"line2d_12\"/>\n     <g id=\"text_6\">\n      <!-- 1.0 -->\n      <defs>\n       <path d=\"M 12.203125 55.40625 \nL 12.203125 61.59375 \nQ 16.296875 63.40625 19.9375 66.046875 \nQ 23.59375 68.703125 26.703125 72.203125 \nL 35.703125 72.203125 \nL 35.703125 -3.59375 \nL 27.09375 -3.59375 \nL 27.09375 62.796875 \nL 27 62.796875 \nQ 23.59375 60.09375 20.140625 58.140625 \nQ 16.703125 56.203125 13.203125 54.90625 \nQ 12.203125 54.5 12.203125 55.40625 \nz\n\" id=\"NanumBarunGothic-49\"/>\n      </defs>\n      <g style=\"fill:#262626;\" transform=\"translate(282.482879 456.850312)scale(0.1 -0.1)\">\n       <use xlink:href=\"#NanumBarunGothic-49\"/>\n       <use x=\"58.299988\" xlink:href=\"#NanumBarunGothic-46\"/>\n       <use x=\"87.999985\" xlink:href=\"#NanumBarunGothic-48\"/>\n      </g>\n     </g>\n    </g>\n    <g id=\"xtick_7\">\n     <g id=\"line2d_13\">\n      <path clip-path=\"url(#p5eeda9aa29)\" d=\"M 335.063829 442.08 \nL 335.063829 7.2 \n\" style=\"fill:none;stroke:#ffffff;stroke-linecap:round;\"/>\n     </g>\n     <g id=\"line2d_14\"/>\n     <g id=\"text_7\">\n      <!-- 1.2 -->\n      <g style=\"fill:#262626;\" transform=\"translate(327.748985 456.850312)scale(0.1 -0.1)\">\n       <use xlink:href=\"#NanumBarunGothic-49\"/>\n       <use x=\"58.299988\" xlink:href=\"#NanumBarunGothic-46\"/>\n       <use x=\"87.999985\" xlink:href=\"#NanumBarunGothic-50\"/>\n      </g>\n     </g>\n    </g>\n    <g id=\"xtick_8\">\n     <g id=\"line2d_15\">\n      <path clip-path=\"url(#p5eeda9aa29)\" d=\"M 380.329935 442.08 \nL 380.329935 7.2 \n\" style=\"fill:none;stroke:#ffffff;stroke-linecap:round;\"/>\n     </g>\n     <g id=\"line2d_16\"/>\n     <g id=\"text_8\">\n      <!-- 1.4 -->\n      <g style=\"fill:#262626;\" transform=\"translate(373.015091 456.850312)scale(0.1 -0.1)\">\n       <use xlink:href=\"#NanumBarunGothic-49\"/>\n       <use x=\"58.299988\" xlink:href=\"#NanumBarunGothic-46\"/>\n       <use x=\"87.999985\" xlink:href=\"#NanumBarunGothic-52\"/>\n      </g>\n     </g>\n    </g>\n    <g id=\"text_9\">\n     <!-- box_off_num -->\n     <defs>\n      <path d=\"M 16.296875 26.59375 \nL 16.296875 18.90625 \nQ 16.296875 15.203125 17.4375 12.203125 \nQ 18.59375 9.203125 20.59375 7.046875 \nQ 22.59375 4.90625 25.390625 3.75 \nQ 28.203125 2.59375 31.40625 2.59375 \nQ 38.796875 2.59375 42.796875 8.390625 \nQ 46.796875 14.203125 46.796875 25.09375 \nQ 46.796875 34.703125 42.9375 40.09375 \nQ 39.09375 45.5 32.5 45.5 \nQ 29.09375 45.5 26.140625 43.953125 \nQ 23.203125 42.40625 21 39.796875 \nQ 18.796875 37.203125 17.546875 33.75 \nQ 16.296875 30.296875 16.296875 26.59375 \nz\nM 33.296875 52.296875 \nQ 39.09375 52.296875 43.34375 50.296875 \nQ 47.59375 48.296875 50.296875 44.6875 \nQ 53 41.09375 54.296875 36.09375 \nQ 55.59375 31.09375 55.59375 25.203125 \nQ 55.59375 18.796875 54.1875 13.34375 \nQ 52.796875 7.90625 49.890625 3.953125 \nQ 47 0 42.546875 -2.25 \nQ 38.09375 -4.5 32 -4.5 \nQ 26.703125 -4.5 23.09375 -2.453125 \nQ 19.5 -0.40625 16.90625 3.09375 \nL 16.796875 3.09375 \nL 16.5 -3.59375 \nL 7.5 -3.59375 \nL 7.5 77.703125 \nL 16.09375 77.703125 \nL 16.09375 42.703125 \nL 16.296875 42.703125 \nQ 18.90625 47.203125 23.25 49.75 \nQ 27.59375 52.296875 33.296875 52.296875 \nz\n\" id=\"NanumBarunGothic-98\"/>\n      <path d=\"M 28.796875 -4.5 \nQ 22.203125 -4.5 17.453125 -2.25 \nQ 12.703125 0 9.546875 3.890625 \nQ 6.40625 7.796875 4.90625 12.9375 \nQ 3.40625 18.09375 3.40625 23.90625 \nQ 3.40625 30 5 35.25 \nQ 6.59375 40.5 9.796875 44.25 \nQ 13 48 17.75 50.140625 \nQ 22.5 52.296875 28.796875 52.296875 \nQ 35.09375 52.296875 39.84375 50.140625 \nQ 44.59375 48 47.796875 44.25 \nQ 51 40.5 52.59375 35.25 \nQ 54.203125 30 54.203125 23.90625 \nQ 54.203125 18.09375 52.703125 12.9375 \nQ 51.203125 7.796875 48.046875 3.890625 \nQ 44.90625 0 40.15625 -2.25 \nQ 35.40625 -4.5 28.796875 -4.5 \nz\nM 28.796875 2.40625 \nQ 36.796875 2.40625 40.9375 7.796875 \nQ 45.09375 13.203125 45.09375 23.90625 \nQ 45.09375 34.90625 40.9375 40.203125 \nQ 36.796875 45.5 28.796875 45.5 \nQ 20.796875 45.5 16.640625 40.203125 \nQ 12.5 34.90625 12.5 23.90625 \nQ 12.5 13.203125 16.640625 7.796875 \nQ 20.796875 2.40625 28.796875 2.40625 \nz\n\" id=\"NanumBarunGothic-111\"/>\n      <path d=\"M 31.296875 24 \nL 51.203125 -3.59375 \nL 41.40625 -3.59375 \nL 26.40625 18.296875 \nL 26.203125 18.296875 \nL 11.296875 -3.59375 \nL 1.59375 -3.59375 \nL 21.40625 24 \nL 21.40625 24.203125 \nL 1.90625 51 \nL 11.703125 51 \nL 26.203125 29.796875 \nL 26.40625 29.796875 \nL 41.203125 51 \nL 50.796875 51 \nL 31.296875 24.203125 \nz\n\" id=\"NanumBarunGothic-120\"/>\n      <path d=\"M 43.59375 -15 \nL 1 -15 \nL 1 -8.40625 \nL 43.59375 -8.40625 \nz\n\" id=\"NanumBarunGothic-95\"/>\n      <path d=\"M 34 71 \nQ 32.796875 71.40625 31.59375 71.59375 \nQ 30.40625 71.796875 29 71.796875 \nQ 24.296875 71.796875 21.9375 69.34375 \nQ 19.59375 66.90625 19.59375 60.203125 \nL 19.59375 51 \nL 32.703125 51 \nL 32.703125 44.5 \nL 19.59375 44.5 \nL 19.59375 -3.59375 \nL 11.09375 -3.59375 \nL 11.09375 44.5 \nL 1.5 44.5 \nL 1.5 51 \nL 11.09375 51 \nL 11.09375 61.5 \nQ 11.09375 66.09375 12.34375 69.390625 \nQ 13.59375 72.703125 15.890625 74.796875 \nQ 18.203125 76.90625 21.34375 77.90625 \nQ 24.5 78.90625 28.40625 78.90625 \nQ 30.5 78.90625 32.046875 78.59375 \nQ 33.59375 78.296875 35 77.5 \nL 35 71.703125 \nQ 35 70.59375 34 71 \nz\n\" id=\"NanumBarunGothic-102\"/>\n      <path d=\"M 52.796875 28.703125 \nL 52.796875 -3.59375 \nL 44.203125 -3.59375 \nL 44.203125 28.90625 \nQ 44.203125 37.296875 41.796875 41.390625 \nQ 39.40625 45.5 32.90625 45.5 \nQ 29.703125 45.5 26.640625 44.046875 \nQ 23.59375 42.59375 21.25 40.046875 \nQ 18.90625 37.5 17.453125 34.046875 \nQ 16 30.59375 16 26.5 \nL 16 -3.59375 \nL 7.5 -3.59375 \nL 7.5 51 \nL 16.09375 51 \nL 16.5 43.09375 \nL 16.59375 43.09375 \nQ 17.796875 45.203125 19.75 46.890625 \nQ 21.703125 48.59375 24 49.796875 \nQ 26.296875 51 28.84375 51.640625 \nQ 31.40625 52.296875 33.90625 52.296875 \nQ 44.296875 52.296875 48.546875 46.25 \nQ 52.796875 40.203125 52.796875 28.703125 \nz\n\" id=\"NanumBarunGothic-110\"/>\n      <path d=\"M 6.5 18.703125 \nL 6.5 51 \nL 15.09375 51 \nL 15.09375 18.5 \nQ 15.09375 10.203125 17.796875 6.09375 \nQ 20.5 2 27 2 \nQ 30.296875 2 33.25 3.34375 \nQ 36.203125 4.703125 38.453125 7.09375 \nQ 40.703125 9.5 42.046875 12.890625 \nQ 43.40625 16.296875 43.40625 20.40625 \nL 43.40625 51 \nL 51.90625 51 \nL 51.90625 -3.59375 \nL 43.296875 -3.59375 \nL 42.90625 4.296875 \nL 42.796875 4.296875 \nQ 40.203125 -0.09375 35.640625 -2.4375 \nQ 31.09375 -4.796875 26 -4.796875 \nQ 20.796875 -4.796875 17.09375 -3.1875 \nQ 13.40625 -1.59375 11.046875 1.453125 \nQ 8.703125 4.5 7.59375 8.84375 \nQ 6.5 13.203125 6.5 18.703125 \nz\n\" id=\"NanumBarunGothic-117\"/>\n      <path d=\"M 48.09375 40 \nL 48.203125 40 \nQ 51.296875 46.09375 55.890625 49.140625 \nQ 60.5 52.203125 65.90625 52.203125 \nQ 70.796875 52.203125 74.09375 50.640625 \nQ 77.40625 49.09375 79.453125 46.09375 \nQ 81.5 43.09375 82.34375 38.6875 \nQ 83.203125 34.296875 83.203125 28.59375 \nL 83.203125 -3.59375 \nL 74.703125 -3.59375 \nL 74.703125 28.90625 \nQ 74.703125 37.296875 72.546875 41.390625 \nQ 70.40625 45.5 64.703125 45.5 \nQ 61.796875 45.5 59.09375 44.046875 \nQ 56.40625 42.59375 54.296875 40.046875 \nQ 52.203125 37.5 50.890625 34.046875 \nQ 49.59375 30.59375 49.59375 26.5 \nL 49.5 -3.59375 \nL 41.203125 -3.59375 \nL 41.203125 28.90625 \nQ 41.203125 37.296875 39 41.390625 \nQ 36.796875 45.5 31.09375 45.5 \nQ 28.203125 45.5 25.453125 44.046875 \nQ 22.703125 42.59375 20.546875 40.046875 \nQ 18.40625 37.5 17.09375 34.046875 \nQ 15.796875 30.59375 15.796875 26.5 \nL 15.796875 -3.59375 \nL 7.5 -3.59375 \nL 7.5 51 \nL 15.90625 51 \nL 16.203125 42.796875 \nL 16.296875 42.796875 \nQ 17.5 45 19.25 46.75 \nQ 21 48.5 23.09375 49.703125 \nQ 25.203125 50.90625 27.546875 51.546875 \nQ 29.90625 52.203125 32.296875 52.203125 \nQ 39.203125 52.203125 42.796875 49.203125 \nQ 46.40625 46.203125 48.09375 40 \nz\n\" id=\"NanumBarunGothic-109\"/>\n     </defs>\n     <g style=\"fill:#262626;\" transform=\"translate(192.323345 472.207031)scale(0.11 -0.11)\">\n      <use xlink:href=\"#NanumBarunGothic-98\"/>\n      <use x=\"58.799988\" xlink:href=\"#NanumBarunGothic-111\"/>\n      <use x=\"116.499985\" xlink:href=\"#NanumBarunGothic-120\"/>\n      <use x=\"169.299973\" xlink:href=\"#NanumBarunGothic-95\"/>\n      <use x=\"213.899963\" xlink:href=\"#NanumBarunGothic-111\"/>\n      <use x=\"271.59996\" xlink:href=\"#NanumBarunGothic-102\"/>\n      <use x=\"305.599945\" xlink:href=\"#NanumBarunGothic-102\"/>\n      <use x=\"339.59993\" xlink:href=\"#NanumBarunGothic-95\"/>\n      <use x=\"384.199921\" xlink:href=\"#NanumBarunGothic-110\"/>\n      <use x=\"443.399918\" xlink:href=\"#NanumBarunGothic-117\"/>\n      <use x=\"502.599915\" xlink:href=\"#NanumBarunGothic-109\"/>\n     </g>\n    </g>\n    <g id=\"text_10\">\n     <!-- 1e7 -->\n     <defs>\n      <path d=\"M 13 29 \nL 43.90625 29 \nL 43.90625 29.40625 \nQ 43.90625 37.5 40.046875 41.640625 \nQ 36.203125 45.796875 29.59375 45.796875 \nQ 26.5 45.796875 23.75 44.640625 \nQ 21 43.5 18.796875 41.390625 \nQ 16.59375 39.296875 15.09375 36.25 \nQ 13.59375 33.203125 13 29.5 \nz\nM 29.796875 52.296875 \nQ 40.796875 52.296875 46.890625 45.6875 \nQ 53 39.09375 53 26.59375 \nL 53 22.5 \nL 12.90625 22.5 \nL 12.90625 21.59375 \nQ 13.09375 12 18.09375 7.09375 \nQ 23.09375 2.203125 31.5 2.203125 \nQ 35.90625 2.203125 40.25 3.5 \nQ 44.59375 4.796875 49.203125 8 \nQ 50.296875 8.90625 50.296875 7.59375 \nL 50.296875 0.703125 \nQ 46.09375 -2.5 41.1875 -3.640625 \nQ 36.296875 -4.796875 30.296875 -4.796875 \nQ 24.40625 -4.796875 19.5 -2.890625 \nQ 14.59375 -1 11.09375 2.59375 \nQ 7.59375 6.203125 5.640625 11.453125 \nQ 3.703125 16.703125 3.703125 23.5 \nQ 3.703125 30 5.59375 35.296875 \nQ 7.5 40.59375 10.953125 44.390625 \nQ 14.40625 48.203125 19.203125 50.25 \nQ 24 52.296875 29.796875 52.296875 \nz\n\" id=\"NanumBarunGothic-101\"/>\n      <path d=\"M 23.09375 -3.59375 \nL 14.203125 -3.59375 \nL 44.40625 64.796875 \nL 4.09375 64.796875 \nL 4.09375 71.796875 \nL 52.40625 71.796875 \nL 52.40625 63.5 \nz\n\" id=\"NanumBarunGothic-55\"/>\n     </defs>\n     <g style=\"fill:#262626;\" transform=\"translate(385.167628 470.43)scale(0.1 -0.1)\">\n      <use xlink:href=\"#NanumBarunGothic-49\"/>\n      <use x=\"58.299988\" xlink:href=\"#NanumBarunGothic-101\"/>\n      <use x=\"114.199982\" xlink:href=\"#NanumBarunGothic-55\"/>\n     </g>\n    </g>\n   </g>\n   <g id=\"matplotlib.axis_2\">\n    <g id=\"ytick_1\">\n     <g id=\"line2d_17\">\n      <path clip-path=\"url(#p5eeda9aa29)\" d=\"M 47.326719 442.08 \nL 402.417628 442.08 \n\" style=\"fill:none;stroke:#ffffff;stroke-linecap:round;\"/>\n     </g>\n     <g id=\"line2d_18\"/>\n     <g id=\"text_11\">\n      <!-- 0 -->\n      <g style=\"fill:#262626;\" transform=\"translate(34.497031 445.965156)scale(0.1 -0.1)\">\n       <use xlink:href=\"#NanumBarunGothic-48\"/>\n      </g>\n     </g>\n    </g>\n    <g id=\"ytick_2\">\n     <g id=\"line2d_19\">\n      <path clip-path=\"url(#p5eeda9aa29)\" d=\"M 47.326719 389.386434 \nL 402.417628 389.386434 \n\" style=\"fill:none;stroke:#ffffff;stroke-linecap:round;\"/>\n     </g>\n     <g id=\"line2d_20\"/>\n     <g id=\"text_12\">\n      <!-- 50 -->\n      <defs>\n       <path d=\"M 6.796875 8.703125 \nQ 11.59375 5.5 16.59375 3.953125 \nQ 21.59375 2.40625 27.296875 2.40625 \nQ 31.203125 2.5 34.5 3.84375 \nQ 37.796875 5.203125 40.1875 7.5 \nQ 42.59375 9.796875 43.9375 12.9375 \nQ 45.296875 16.09375 45.296875 19.90625 \nQ 45.296875 24.296875 43.640625 27.34375 \nQ 42 30.40625 39.046875 32.296875 \nQ 36.09375 34.203125 32.140625 35.046875 \nQ 28.203125 35.90625 23.59375 35.90625 \nQ 20.09375 35.90625 16.09375 35.40625 \nQ 12.09375 34.90625 8.5 34.09375 \nL 10.59375 71.796875 \nL 49.796875 71.796875 \nL 49.796875 64.90625 \nL 17.796875 64.90625 \nL 16.296875 41.703125 \nL 16.5 41.703125 \nQ 19.40625 42 22 42.203125 \nQ 24.59375 42.40625 27.203125 42.40625 \nQ 33.09375 42.40625 38 40.953125 \nQ 42.90625 39.5 46.453125 36.75 \nQ 50 34 51.953125 29.953125 \nQ 53.90625 25.90625 53.90625 20.796875 \nQ 53.90625 15.5 52.046875 10.84375 \nQ 50.203125 6.203125 46.703125 2.796875 \nQ 43.203125 -0.59375 38.203125 -2.546875 \nQ 33.203125 -4.5 27 -4.5 \nQ 20.296875 -4.40625 15.09375 -3.046875 \nQ 9.90625 -1.703125 5.703125 1.296875 \nL 5.703125 8.203125 \nQ 5.703125 8.796875 6.046875 8.9375 \nQ 6.40625 9.09375 6.796875 8.703125 \nz\n\" id=\"NanumBarunGothic-53\"/>\n      </defs>\n      <g style=\"fill:#262626;\" transform=\"translate(28.667344 393.27159)scale(0.1 -0.1)\">\n       <use xlink:href=\"#NanumBarunGothic-53\"/>\n       <use x=\"58.299988\" xlink:href=\"#NanumBarunGothic-48\"/>\n      </g>\n     </g>\n    </g>\n    <g id=\"ytick_3\">\n     <g id=\"line2d_21\">\n      <path clip-path=\"url(#p5eeda9aa29)\" d=\"M 47.326719 336.692868 \nL 402.417628 336.692868 \n\" style=\"fill:none;stroke:#ffffff;stroke-linecap:round;\"/>\n     </g>\n     <g id=\"line2d_22\"/>\n     <g id=\"text_13\">\n      <!-- 100 -->\n      <g style=\"fill:#262626;\" transform=\"translate(22.837656 340.578024)scale(0.1 -0.1)\">\n       <use xlink:href=\"#NanumBarunGothic-49\"/>\n       <use x=\"58.299988\" xlink:href=\"#NanumBarunGothic-48\"/>\n       <use x=\"116.599976\" xlink:href=\"#NanumBarunGothic-48\"/>\n      </g>\n     </g>\n    </g>\n    <g id=\"ytick_4\">\n     <g id=\"line2d_23\">\n      <path clip-path=\"url(#p5eeda9aa29)\" d=\"M 47.326719 283.999302 \nL 402.417628 283.999302 \n\" style=\"fill:none;stroke:#ffffff;stroke-linecap:round;\"/>\n     </g>\n     <g id=\"line2d_24\"/>\n     <g id=\"text_14\">\n      <!-- 150 -->\n      <g style=\"fill:#262626;\" transform=\"translate(22.837656 287.884458)scale(0.1 -0.1)\">\n       <use xlink:href=\"#NanumBarunGothic-49\"/>\n       <use x=\"58.299988\" xlink:href=\"#NanumBarunGothic-53\"/>\n       <use x=\"116.599976\" xlink:href=\"#NanumBarunGothic-48\"/>\n      </g>\n     </g>\n    </g>\n    <g id=\"ytick_5\">\n     <g id=\"line2d_25\">\n      <path clip-path=\"url(#p5eeda9aa29)\" d=\"M 47.326719 231.305736 \nL 402.417628 231.305736 \n\" style=\"fill:none;stroke:#ffffff;stroke-linecap:round;\"/>\n     </g>\n     <g id=\"line2d_26\"/>\n     <g id=\"text_15\">\n      <!-- 200 -->\n      <g style=\"fill:#262626;\" transform=\"translate(22.837656 235.190892)scale(0.1 -0.1)\">\n       <use xlink:href=\"#NanumBarunGothic-50\"/>\n       <use x=\"58.299988\" xlink:href=\"#NanumBarunGothic-48\"/>\n       <use x=\"116.599976\" xlink:href=\"#NanumBarunGothic-48\"/>\n      </g>\n     </g>\n    </g>\n    <g id=\"ytick_6\">\n     <g id=\"line2d_27\">\n      <path clip-path=\"url(#p5eeda9aa29)\" d=\"M 47.326719 178.61217 \nL 402.417628 178.61217 \n\" style=\"fill:none;stroke:#ffffff;stroke-linecap:round;\"/>\n     </g>\n     <g id=\"line2d_28\"/>\n     <g id=\"text_16\">\n      <!-- 250 -->\n      <g style=\"fill:#262626;\" transform=\"translate(22.837656 182.497326)scale(0.1 -0.1)\">\n       <use xlink:href=\"#NanumBarunGothic-50\"/>\n       <use x=\"58.299988\" xlink:href=\"#NanumBarunGothic-53\"/>\n       <use x=\"116.599976\" xlink:href=\"#NanumBarunGothic-48\"/>\n      </g>\n     </g>\n    </g>\n    <g id=\"ytick_7\">\n     <g id=\"line2d_29\">\n      <path clip-path=\"url(#p5eeda9aa29)\" d=\"M 47.326719 125.918604 \nL 402.417628 125.918604 \n\" style=\"fill:none;stroke:#ffffff;stroke-linecap:round;\"/>\n     </g>\n     <g id=\"line2d_30\"/>\n     <g id=\"text_17\">\n      <!-- 300 -->\n      <defs>\n       <path d=\"M 28.703125 -4.5 \nQ 22 -4.40625 15.84375 -2.40625 \nQ 9.703125 -0.40625 5.90625 3.203125 \nL 5.90625 10.40625 \nQ 5.90625 11.09375 6.25 11.25 \nQ 6.59375 11.40625 7.09375 10.90625 \nQ 12.5 6.40625 17.75 4.453125 \nQ 23 2.5 28.90625 2.5 \nQ 32.203125 2.5 35 3.546875 \nQ 37.796875 4.59375 39.890625 6.546875 \nQ 42 8.5 43.203125 11.09375 \nQ 44.40625 13.703125 44.40625 16.90625 \nQ 44.40625 32.40625 25.796875 32.40625 \nL 23.09375 32.40625 \nL 23.09375 39.5 \nL 24.296875 39.5 \nQ 27.90625 39.59375 31.203125 40.25 \nQ 34.5 40.90625 37 42.453125 \nQ 39.5 44 41 46.703125 \nQ 42.5 49.40625 42.5 53.703125 \nQ 42.5 60.40625 38.546875 63.5 \nQ 34.59375 66.59375 28.59375 66.59375 \nQ 23.796875 66.59375 18.6875 64.6875 \nQ 13.59375 62.796875 9.203125 58.90625 \nQ 8.796875 58.59375 8.4375 58.6875 \nQ 8.09375 58.796875 8.09375 59.40625 \nL 8.09375 66.796875 \nQ 9.59375 68.09375 11.6875 69.296875 \nQ 13.796875 70.5 16.390625 71.453125 \nQ 19 72.40625 22.046875 73 \nQ 25.09375 73.59375 28.40625 73.59375 \nQ 33.40625 73.59375 37.65625 72.390625 \nQ 41.90625 71.203125 44.953125 68.75 \nQ 48 66.296875 49.703125 62.640625 \nQ 51.40625 59 51.40625 54.203125 \nQ 51.40625 50.703125 50.40625 47.75 \nQ 49.40625 44.796875 47.59375 42.4375 \nQ 45.796875 40.09375 43.296875 38.5 \nQ 40.796875 36.90625 37.796875 36.296875 \nL 37.796875 36.09375 \nQ 45 34.5 49.09375 30.046875 \nQ 53.203125 25.59375 53.203125 17.203125 \nQ 53.203125 13 51.640625 9.046875 \nQ 50.09375 5.09375 47 2.09375 \nQ 43.90625 -0.90625 39.34375 -2.703125 \nQ 34.796875 -4.5 28.703125 -4.5 \nz\n\" id=\"NanumBarunGothic-51\"/>\n      </defs>\n      <g style=\"fill:#262626;\" transform=\"translate(22.837656 129.80376)scale(0.1 -0.1)\">\n       <use xlink:href=\"#NanumBarunGothic-51\"/>\n       <use x=\"58.299988\" xlink:href=\"#NanumBarunGothic-48\"/>\n       <use x=\"116.599976\" xlink:href=\"#NanumBarunGothic-48\"/>\n      </g>\n     </g>\n    </g>\n    <g id=\"ytick_8\">\n     <g id=\"line2d_31\">\n      <path clip-path=\"url(#p5eeda9aa29)\" d=\"M 47.326719 73.225038 \nL 402.417628 73.225038 \n\" style=\"fill:none;stroke:#ffffff;stroke-linecap:round;\"/>\n     </g>\n     <g id=\"line2d_32\"/>\n     <g id=\"text_18\">\n      <!-- 350 -->\n      <g style=\"fill:#262626;\" transform=\"translate(22.837656 77.110194)scale(0.1 -0.1)\">\n       <use xlink:href=\"#NanumBarunGothic-51\"/>\n       <use x=\"58.299988\" xlink:href=\"#NanumBarunGothic-53\"/>\n       <use x=\"116.599976\" xlink:href=\"#NanumBarunGothic-48\"/>\n      </g>\n     </g>\n    </g>\n    <g id=\"ytick_9\">\n     <g id=\"line2d_33\">\n      <path clip-path=\"url(#p5eeda9aa29)\" d=\"M 47.326719 20.531472 \nL 402.417628 20.531472 \n\" style=\"fill:none;stroke:#ffffff;stroke-linecap:round;\"/>\n     </g>\n     <g id=\"line2d_34\"/>\n     <g id=\"text_19\">\n      <!-- 400 -->\n      <g style=\"fill:#262626;\" transform=\"translate(22.837656 24.416628)scale(0.1 -0.1)\">\n       <use xlink:href=\"#NanumBarunGothic-52\"/>\n       <use x=\"58.299988\" xlink:href=\"#NanumBarunGothic-48\"/>\n       <use x=\"116.599976\" xlink:href=\"#NanumBarunGothic-48\"/>\n      </g>\n     </g>\n    </g>\n    <g id=\"text_20\">\n     <!-- Count -->\n     <defs>\n      <path d=\"M 60.09375 12.5 \nQ 61.40625 13.5 61.40625 12.09375 \nL 61.40625 3.296875 \nQ 56.703125 -0.703125 50.796875 -2.59375 \nQ 44.90625 -4.5 37.796875 -4.5 \nQ 29.703125 -4.5 23.34375 -1.703125 \nQ 17 1.09375 12.546875 6.1875 \nQ 8.09375 11.296875 5.796875 18.390625 \nQ 3.5 25.5 3.5 34.203125 \nQ 3.5 43.203125 6.140625 50.390625 \nQ 8.796875 57.59375 13.546875 62.640625 \nQ 18.296875 67.703125 24.796875 70.34375 \nQ 31.296875 73 39 73 \nQ 45.59375 73 50.890625 71.546875 \nQ 56.203125 70.09375 60.796875 66.5 \nL 60.796875 57.296875 \nQ 60.796875 56.59375 60.390625 56.5 \nQ 60 56.40625 59.5 56.90625 \nQ 51.703125 65.5 39.59375 65.5 \nQ 34 65.5 29.09375 63.5 \nQ 24.203125 61.5 20.59375 57.59375 \nQ 17 53.703125 14.890625 47.953125 \nQ 12.796875 42.203125 12.796875 34.703125 \nQ 12.796875 19.09375 19.640625 11.140625 \nQ 26.5 3.203125 39.296875 3.203125 \nQ 51.296875 3.203125 60.09375 12.5 \nz\n\" id=\"NanumBarunGothic-67\"/>\n      <path d=\"M 33.5 4.703125 \nQ 34.59375 5.5 34.59375 4.09375 \nL 34.59375 -2 \nQ 32.59375 -3.5 29.75 -4.09375 \nQ 26.90625 -4.703125 24.203125 -4.703125 \nQ 16.5 -4.796875 13.140625 -1.640625 \nQ 9.796875 1.5 9.796875 9.09375 \nL 9.796875 44.5 \nL 0.296875 44.5 \nL 0.296875 51 \nL 9.796875 51 \nL 9.796875 64.5 \nL 18.40625 64.5 \nL 18.40625 51 \nL 32.59375 51 \nL 32.59375 44.5 \nL 18.40625 44.5 \nL 18.40625 10.40625 \nQ 18.40625 8.203125 18.59375 6.703125 \nQ 18.796875 5.203125 19.5 4.296875 \nQ 20.203125 3.40625 21.59375 3 \nQ 23 2.59375 25.296875 2.59375 \nQ 26.703125 2.59375 29.09375 3.09375 \nQ 31.5 3.59375 33.5 4.703125 \nz\n\" id=\"NanumBarunGothic-116\"/>\n     </defs>\n     <g style=\"fill:#262626;\" transform=\"translate(15.747344 239.804531)rotate(-90)scale(0.11 -0.11)\">\n      <use xlink:href=\"#NanumBarunGothic-67\"/>\n      <use x=\"63.899994\" xlink:href=\"#NanumBarunGothic-111\"/>\n      <use x=\"121.599991\" xlink:href=\"#NanumBarunGothic-117\"/>\n      <use x=\"180.799988\" xlink:href=\"#NanumBarunGothic-110\"/>\n      <use x=\"239.999985\" xlink:href=\"#NanumBarunGothic-116\"/>\n     </g>\n    </g>\n   </g>\n   <g id=\"patch_3\">\n    <path clip-path=\"url(#p5eeda9aa29)\" d=\"M 63.467215 442.08 \nL 66.029198 442.08 \nL 66.029198 27.908571 \nL 63.467215 27.908571 \nz\n\" style=\"fill:#4c72b0;fill-opacity:0.5;stroke:#000000;stroke-linejoin:miter;stroke-width:0.256198;\"/>\n   </g>\n   <g id=\"patch_4\">\n    <path clip-path=\"url(#p5eeda9aa29)\" d=\"M 66.029198 442.08 \nL 68.591182 442.08 \nL 68.591182 416.787088 \nL 66.029198 416.787088 \nz\n\" style=\"fill:#4c72b0;fill-opacity:0.5;stroke:#000000;stroke-linejoin:miter;stroke-width:0.256198;\"/>\n   </g>\n   <g id=\"patch_5\">\n    <path clip-path=\"url(#p5eeda9aa29)\" d=\"M 68.591182 442.08 \nL 71.153165 442.08 \nL 71.153165 429.433544 \nL 68.591182 429.433544 \nz\n\" style=\"fill:#4c72b0;fill-opacity:0.5;stroke:#000000;stroke-linejoin:miter;stroke-width:0.256198;\"/>\n   </g>\n   <g id=\"patch_6\">\n    <path clip-path=\"url(#p5eeda9aa29)\" d=\"M 71.153165 442.08 \nL 73.715149 442.08 \nL 73.715149 428.379673 \nL 71.153165 428.379673 \nz\n\" style=\"fill:#4c72b0;fill-opacity:0.5;stroke:#000000;stroke-linejoin:miter;stroke-width:0.256198;\"/>\n   </g>\n   <g id=\"patch_7\">\n    <path clip-path=\"url(#p5eeda9aa29)\" d=\"M 73.715149 442.08 \nL 76.277132 442.08 \nL 76.277132 425.218059 \nL 73.715149 425.218059 \nz\n\" style=\"fill:#4c72b0;fill-opacity:0.5;stroke:#000000;stroke-linejoin:miter;stroke-width:0.256198;\"/>\n   </g>\n   <g id=\"patch_8\">\n    <path clip-path=\"url(#p5eeda9aa29)\" d=\"M 76.277132 442.08 \nL 78.839115 442.08 \nL 78.839115 431.541287 \nL 76.277132 431.541287 \nz\n\" style=\"fill:#4c72b0;fill-opacity:0.5;stroke:#000000;stroke-linejoin:miter;stroke-width:0.256198;\"/>\n   </g>\n   <g id=\"patch_9\">\n    <path clip-path=\"url(#p5eeda9aa29)\" d=\"M 78.839115 442.08 \nL 81.401099 442.08 \nL 81.401099 430.487415 \nL 78.839115 430.487415 \nz\n\" style=\"fill:#4c72b0;fill-opacity:0.5;stroke:#000000;stroke-linejoin:miter;stroke-width:0.256198;\"/>\n   </g>\n   <g id=\"patch_10\">\n    <path clip-path=\"url(#p5eeda9aa29)\" d=\"M 81.401099 442.08 \nL 83.963082 442.08 \nL 83.963082 435.756772 \nL 81.401099 435.756772 \nz\n\" style=\"fill:#4c72b0;fill-opacity:0.5;stroke:#000000;stroke-linejoin:miter;stroke-width:0.256198;\"/>\n   </g>\n   <g id=\"patch_11\">\n    <path clip-path=\"url(#p5eeda9aa29)\" d=\"M 83.963082 442.08 \nL 86.525066 442.08 \nL 86.525066 434.702901 \nL 83.963082 434.702901 \nz\n\" style=\"fill:#4c72b0;fill-opacity:0.5;stroke:#000000;stroke-linejoin:miter;stroke-width:0.256198;\"/>\n   </g>\n   <g id=\"patch_12\">\n    <path clip-path=\"url(#p5eeda9aa29)\" d=\"M 86.525066 442.08 \nL 89.087049 442.08 \nL 89.087049 434.702901 \nL 86.525066 434.702901 \nz\n\" style=\"fill:#4c72b0;fill-opacity:0.5;stroke:#000000;stroke-linejoin:miter;stroke-width:0.256198;\"/>\n   </g>\n   <g id=\"patch_13\">\n    <path clip-path=\"url(#p5eeda9aa29)\" d=\"M 89.087049 442.08 \nL 91.649033 442.08 \nL 91.649033 431.541287 \nL 89.087049 431.541287 \nz\n\" style=\"fill:#4c72b0;fill-opacity:0.5;stroke:#000000;stroke-linejoin:miter;stroke-width:0.256198;\"/>\n   </g>\n   <g id=\"patch_14\">\n    <path clip-path=\"url(#p5eeda9aa29)\" d=\"M 91.649033 442.08 \nL 94.211016 442.08 \nL 94.211016 438.918386 \nL 91.649033 438.918386 \nz\n\" style=\"fill:#4c72b0;fill-opacity:0.5;stroke:#000000;stroke-linejoin:miter;stroke-width:0.256198;\"/>\n   </g>\n   <g id=\"patch_15\">\n    <path clip-path=\"url(#p5eeda9aa29)\" d=\"M 94.211016 442.08 \nL 96.773 442.08 \nL 96.773 438.918386 \nL 94.211016 438.918386 \nz\n\" style=\"fill:#4c72b0;fill-opacity:0.5;stroke:#000000;stroke-linejoin:miter;stroke-width:0.256198;\"/>\n   </g>\n   <g id=\"patch_16\">\n    <path clip-path=\"url(#p5eeda9aa29)\" d=\"M 96.773 442.08 \nL 99.334983 442.08 \nL 99.334983 437.864515 \nL 96.773 437.864515 \nz\n\" style=\"fill:#4c72b0;fill-opacity:0.5;stroke:#000000;stroke-linejoin:miter;stroke-width:0.256198;\"/>\n   </g>\n   <g id=\"patch_17\">\n    <path clip-path=\"url(#p5eeda9aa29)\" d=\"M 99.334983 442.08 \nL 101.896967 442.08 \nL 101.896967 435.756772 \nL 99.334983 435.756772 \nz\n\" style=\"fill:#4c72b0;fill-opacity:0.5;stroke:#000000;stroke-linejoin:miter;stroke-width:0.256198;\"/>\n   </g>\n   <g id=\"patch_18\">\n    <path clip-path=\"url(#p5eeda9aa29)\" d=\"M 101.896967 442.08 \nL 104.45895 442.08 \nL 104.45895 433.649029 \nL 101.896967 433.649029 \nz\n\" style=\"fill:#4c72b0;fill-opacity:0.5;stroke:#000000;stroke-linejoin:miter;stroke-width:0.256198;\"/>\n   </g>\n   <g id=\"patch_19\">\n    <path clip-path=\"url(#p5eeda9aa29)\" d=\"M 104.45895 442.08 \nL 107.020934 442.08 \nL 107.020934 435.756772 \nL 104.45895 435.756772 \nz\n\" style=\"fill:#4c72b0;fill-opacity:0.5;stroke:#000000;stroke-linejoin:miter;stroke-width:0.256198;\"/>\n   </g>\n   <g id=\"patch_20\">\n    <path clip-path=\"url(#p5eeda9aa29)\" d=\"M 107.020934 442.08 \nL 109.582917 442.08 \nL 109.582917 441.026129 \nL 107.020934 441.026129 \nz\n\" style=\"fill:#4c72b0;fill-opacity:0.5;stroke:#000000;stroke-linejoin:miter;stroke-width:0.256198;\"/>\n   </g>\n   <g id=\"patch_21\">\n    <path clip-path=\"url(#p5eeda9aa29)\" d=\"M 109.582917 442.08 \nL 112.144901 442.08 \nL 112.144901 437.864515 \nL 109.582917 437.864515 \nz\n\" style=\"fill:#4c72b0;fill-opacity:0.5;stroke:#000000;stroke-linejoin:miter;stroke-width:0.256198;\"/>\n   </g>\n   <g id=\"patch_22\">\n    <path clip-path=\"url(#p5eeda9aa29)\" d=\"M 112.144901 442.08 \nL 114.706884 442.08 \nL 114.706884 436.810643 \nL 112.144901 436.810643 \nz\n\" style=\"fill:#4c72b0;fill-opacity:0.5;stroke:#000000;stroke-linejoin:miter;stroke-width:0.256198;\"/>\n   </g>\n   <g id=\"patch_23\">\n    <path clip-path=\"url(#p5eeda9aa29)\" d=\"M 114.706884 442.08 \nL 117.268868 442.08 \nL 117.268868 439.972257 \nL 114.706884 439.972257 \nz\n\" style=\"fill:#4c72b0;fill-opacity:0.5;stroke:#000000;stroke-linejoin:miter;stroke-width:0.256198;\"/>\n   </g>\n   <g id=\"patch_24\">\n    <path clip-path=\"url(#p5eeda9aa29)\" d=\"M 117.268868 442.08 \nL 119.830851 442.08 \nL 119.830851 437.864515 \nL 117.268868 437.864515 \nz\n\" style=\"fill:#4c72b0;fill-opacity:0.5;stroke:#000000;stroke-linejoin:miter;stroke-width:0.256198;\"/>\n   </g>\n   <g id=\"patch_25\">\n    <path clip-path=\"url(#p5eeda9aa29)\" d=\"M 119.830851 442.08 \nL 122.392834 442.08 \nL 122.392834 441.026129 \nL 119.830851 441.026129 \nz\n\" style=\"fill:#4c72b0;fill-opacity:0.5;stroke:#000000;stroke-linejoin:miter;stroke-width:0.256198;\"/>\n   </g>\n   <g id=\"patch_26\">\n    <path clip-path=\"url(#p5eeda9aa29)\" d=\"M 122.392834 442.08 \nL 124.954818 442.08 \nL 124.954818 439.972257 \nL 122.392834 439.972257 \nz\n\" style=\"fill:#4c72b0;fill-opacity:0.5;stroke:#000000;stroke-linejoin:miter;stroke-width:0.256198;\"/>\n   </g>\n   <g id=\"patch_27\">\n    <path clip-path=\"url(#p5eeda9aa29)\" d=\"M 124.954818 442.08 \nL 127.516801 442.08 \nL 127.516801 441.026129 \nL 124.954818 441.026129 \nz\n\" style=\"fill:#4c72b0;fill-opacity:0.5;stroke:#000000;stroke-linejoin:miter;stroke-width:0.256198;\"/>\n   </g>\n   <g id=\"patch_28\">\n    <path clip-path=\"url(#p5eeda9aa29)\" d=\"M 127.516801 442.08 \nL 130.078785 442.08 \nL 130.078785 442.08 \nL 127.516801 442.08 \nz\n\" style=\"fill:#4c72b0;fill-opacity:0.5;stroke:#000000;stroke-linejoin:miter;stroke-width:0.256198;\"/>\n   </g>\n   <g id=\"patch_29\">\n    <path clip-path=\"url(#p5eeda9aa29)\" d=\"M 130.078785 442.08 \nL 132.640768 442.08 \nL 132.640768 435.756772 \nL 130.078785 435.756772 \nz\n\" style=\"fill:#4c72b0;fill-opacity:0.5;stroke:#000000;stroke-linejoin:miter;stroke-width:0.256198;\"/>\n   </g>\n   <g id=\"patch_30\">\n    <path clip-path=\"url(#p5eeda9aa29)\" d=\"M 132.640768 442.08 \nL 135.202752 442.08 \nL 135.202752 441.026129 \nL 132.640768 441.026129 \nz\n\" style=\"fill:#4c72b0;fill-opacity:0.5;stroke:#000000;stroke-linejoin:miter;stroke-width:0.256198;\"/>\n   </g>\n   <g id=\"patch_31\">\n    <path clip-path=\"url(#p5eeda9aa29)\" d=\"M 135.202752 442.08 \nL 137.764735 442.08 \nL 137.764735 442.08 \nL 135.202752 442.08 \nz\n\" style=\"fill:#4c72b0;fill-opacity:0.5;stroke:#000000;stroke-linejoin:miter;stroke-width:0.256198;\"/>\n   </g>\n   <g id=\"patch_32\">\n    <path clip-path=\"url(#p5eeda9aa29)\" d=\"M 137.764735 442.08 \nL 140.326719 442.08 \nL 140.326719 441.026129 \nL 137.764735 441.026129 \nz\n\" style=\"fill:#4c72b0;fill-opacity:0.5;stroke:#000000;stroke-linejoin:miter;stroke-width:0.256198;\"/>\n   </g>\n   <g id=\"patch_33\">\n    <path clip-path=\"url(#p5eeda9aa29)\" d=\"M 140.326719 442.08 \nL 142.888702 442.08 \nL 142.888702 439.972257 \nL 140.326719 439.972257 \nz\n\" style=\"fill:#4c72b0;fill-opacity:0.5;stroke:#000000;stroke-linejoin:miter;stroke-width:0.256198;\"/>\n   </g>\n   <g id=\"patch_34\">\n    <path clip-path=\"url(#p5eeda9aa29)\" d=\"M 142.888702 442.08 \nL 145.450686 442.08 \nL 145.450686 441.026129 \nL 142.888702 441.026129 \nz\n\" style=\"fill:#4c72b0;fill-opacity:0.5;stroke:#000000;stroke-linejoin:miter;stroke-width:0.256198;\"/>\n   </g>\n   <g id=\"patch_35\">\n    <path clip-path=\"url(#p5eeda9aa29)\" d=\"M 145.450686 442.08 \nL 148.012669 442.08 \nL 148.012669 442.08 \nL 145.450686 442.08 \nz\n\" style=\"fill:#4c72b0;fill-opacity:0.5;stroke:#000000;stroke-linejoin:miter;stroke-width:0.256198;\"/>\n   </g>\n   <g id=\"patch_36\">\n    <path clip-path=\"url(#p5eeda9aa29)\" d=\"M 148.012669 442.08 \nL 150.574653 442.08 \nL 150.574653 442.08 \nL 148.012669 442.08 \nz\n\" style=\"fill:#4c72b0;fill-opacity:0.5;stroke:#000000;stroke-linejoin:miter;stroke-width:0.256198;\"/>\n   </g>\n   <g id=\"patch_37\">\n    <path clip-path=\"url(#p5eeda9aa29)\" d=\"M 150.574653 442.08 \nL 153.136636 442.08 \nL 153.136636 439.972257 \nL 150.574653 439.972257 \nz\n\" style=\"fill:#4c72b0;fill-opacity:0.5;stroke:#000000;stroke-linejoin:miter;stroke-width:0.256198;\"/>\n   </g>\n   <g id=\"patch_38\">\n    <path clip-path=\"url(#p5eeda9aa29)\" d=\"M 153.136636 442.08 \nL 155.69862 442.08 \nL 155.69862 441.026129 \nL 153.136636 441.026129 \nz\n\" style=\"fill:#4c72b0;fill-opacity:0.5;stroke:#000000;stroke-linejoin:miter;stroke-width:0.256198;\"/>\n   </g>\n   <g id=\"patch_39\">\n    <path clip-path=\"url(#p5eeda9aa29)\" d=\"M 155.69862 442.08 \nL 158.260603 442.08 \nL 158.260603 441.026129 \nL 155.69862 441.026129 \nz\n\" style=\"fill:#4c72b0;fill-opacity:0.5;stroke:#000000;stroke-linejoin:miter;stroke-width:0.256198;\"/>\n   </g>\n   <g id=\"patch_40\">\n    <path clip-path=\"url(#p5eeda9aa29)\" d=\"M 158.260603 442.08 \nL 160.822587 442.08 \nL 160.822587 442.08 \nL 158.260603 442.08 \nz\n\" style=\"fill:#4c72b0;fill-opacity:0.5;stroke:#000000;stroke-linejoin:miter;stroke-width:0.256198;\"/>\n   </g>\n   <g id=\"patch_41\">\n    <path clip-path=\"url(#p5eeda9aa29)\" d=\"M 160.822587 442.08 \nL 163.38457 442.08 \nL 163.38457 442.08 \nL 160.822587 442.08 \nz\n\" style=\"fill:#4c72b0;fill-opacity:0.5;stroke:#000000;stroke-linejoin:miter;stroke-width:0.256198;\"/>\n   </g>\n   <g id=\"patch_42\">\n    <path clip-path=\"url(#p5eeda9aa29)\" d=\"M 163.38457 442.08 \nL 165.946553 442.08 \nL 165.946553 441.026129 \nL 163.38457 441.026129 \nz\n\" style=\"fill:#4c72b0;fill-opacity:0.5;stroke:#000000;stroke-linejoin:miter;stroke-width:0.256198;\"/>\n   </g>\n   <g id=\"patch_43\">\n    <path clip-path=\"url(#p5eeda9aa29)\" d=\"M 165.946553 442.08 \nL 168.508537 442.08 \nL 168.508537 441.026129 \nL 165.946553 441.026129 \nz\n\" style=\"fill:#4c72b0;fill-opacity:0.5;stroke:#000000;stroke-linejoin:miter;stroke-width:0.256198;\"/>\n   </g>\n   <g id=\"patch_44\">\n    <path clip-path=\"url(#p5eeda9aa29)\" d=\"M 168.508537 442.08 \nL 171.07052 442.08 \nL 171.07052 441.026129 \nL 168.508537 441.026129 \nz\n\" style=\"fill:#4c72b0;fill-opacity:0.5;stroke:#000000;stroke-linejoin:miter;stroke-width:0.256198;\"/>\n   </g>\n   <g id=\"patch_45\">\n    <path clip-path=\"url(#p5eeda9aa29)\" d=\"M 171.07052 442.08 \nL 173.632504 442.08 \nL 173.632504 439.972257 \nL 171.07052 439.972257 \nz\n\" style=\"fill:#4c72b0;fill-opacity:0.5;stroke:#000000;stroke-linejoin:miter;stroke-width:0.256198;\"/>\n   </g>\n   <g id=\"patch_46\">\n    <path clip-path=\"url(#p5eeda9aa29)\" d=\"M 173.632504 442.08 \nL 176.194487 442.08 \nL 176.194487 442.08 \nL 173.632504 442.08 \nz\n\" style=\"fill:#4c72b0;fill-opacity:0.5;stroke:#000000;stroke-linejoin:miter;stroke-width:0.256198;\"/>\n   </g>\n   <g id=\"patch_47\">\n    <path clip-path=\"url(#p5eeda9aa29)\" d=\"M 176.194487 442.08 \nL 178.756471 442.08 \nL 178.756471 442.08 \nL 176.194487 442.08 \nz\n\" style=\"fill:#4c72b0;fill-opacity:0.5;stroke:#000000;stroke-linejoin:miter;stroke-width:0.256198;\"/>\n   </g>\n   <g id=\"patch_48\">\n    <path clip-path=\"url(#p5eeda9aa29)\" d=\"M 178.756471 442.08 \nL 181.318454 442.08 \nL 181.318454 441.026129 \nL 178.756471 441.026129 \nz\n\" style=\"fill:#4c72b0;fill-opacity:0.5;stroke:#000000;stroke-linejoin:miter;stroke-width:0.256198;\"/>\n   </g>\n   <g id=\"patch_49\">\n    <path clip-path=\"url(#p5eeda9aa29)\" d=\"M 181.318454 442.08 \nL 183.880438 442.08 \nL 183.880438 442.08 \nL 181.318454 442.08 \nz\n\" style=\"fill:#4c72b0;fill-opacity:0.5;stroke:#000000;stroke-linejoin:miter;stroke-width:0.256198;\"/>\n   </g>\n   <g id=\"patch_50\">\n    <path clip-path=\"url(#p5eeda9aa29)\" d=\"M 183.880438 442.08 \nL 186.442421 442.08 \nL 186.442421 442.08 \nL 183.880438 442.08 \nz\n\" style=\"fill:#4c72b0;fill-opacity:0.5;stroke:#000000;stroke-linejoin:miter;stroke-width:0.256198;\"/>\n   </g>\n   <g id=\"patch_51\">\n    <path clip-path=\"url(#p5eeda9aa29)\" d=\"M 186.442421 442.08 \nL 189.004405 442.08 \nL 189.004405 439.972257 \nL 186.442421 439.972257 \nz\n\" style=\"fill:#4c72b0;fill-opacity:0.5;stroke:#000000;stroke-linejoin:miter;stroke-width:0.256198;\"/>\n   </g>\n   <g id=\"patch_52\">\n    <path clip-path=\"url(#p5eeda9aa29)\" d=\"M 189.004405 442.08 \nL 191.566388 442.08 \nL 191.566388 441.026129 \nL 189.004405 441.026129 \nz\n\" style=\"fill:#4c72b0;fill-opacity:0.5;stroke:#000000;stroke-linejoin:miter;stroke-width:0.256198;\"/>\n   </g>\n   <g id=\"patch_53\">\n    <path clip-path=\"url(#p5eeda9aa29)\" d=\"M 191.566388 442.08 \nL 194.128372 442.08 \nL 194.128372 442.08 \nL 191.566388 442.08 \nz\n\" style=\"fill:#4c72b0;fill-opacity:0.5;stroke:#000000;stroke-linejoin:miter;stroke-width:0.256198;\"/>\n   </g>\n   <g id=\"patch_54\">\n    <path clip-path=\"url(#p5eeda9aa29)\" d=\"M 194.128372 442.08 \nL 196.690355 442.08 \nL 196.690355 442.08 \nL 194.128372 442.08 \nz\n\" style=\"fill:#4c72b0;fill-opacity:0.5;stroke:#000000;stroke-linejoin:miter;stroke-width:0.256198;\"/>\n   </g>\n   <g id=\"patch_55\">\n    <path clip-path=\"url(#p5eeda9aa29)\" d=\"M 196.690355 442.08 \nL 199.252339 442.08 \nL 199.252339 442.08 \nL 196.690355 442.08 \nz\n\" style=\"fill:#4c72b0;fill-opacity:0.5;stroke:#000000;stroke-linejoin:miter;stroke-width:0.256198;\"/>\n   </g>\n   <g id=\"patch_56\">\n    <path clip-path=\"url(#p5eeda9aa29)\" d=\"M 199.252339 442.08 \nL 201.814322 442.08 \nL 201.814322 442.08 \nL 199.252339 442.08 \nz\n\" style=\"fill:#4c72b0;fill-opacity:0.5;stroke:#000000;stroke-linejoin:miter;stroke-width:0.256198;\"/>\n   </g>\n   <g id=\"patch_57\">\n    <path clip-path=\"url(#p5eeda9aa29)\" d=\"M 201.814322 442.08 \nL 204.376306 442.08 \nL 204.376306 441.026129 \nL 201.814322 441.026129 \nz\n\" style=\"fill:#4c72b0;fill-opacity:0.5;stroke:#000000;stroke-linejoin:miter;stroke-width:0.256198;\"/>\n   </g>\n   <g id=\"patch_58\">\n    <path clip-path=\"url(#p5eeda9aa29)\" d=\"M 204.376306 442.08 \nL 206.938289 442.08 \nL 206.938289 442.08 \nL 204.376306 442.08 \nz\n\" style=\"fill:#4c72b0;fill-opacity:0.5;stroke:#000000;stroke-linejoin:miter;stroke-width:0.256198;\"/>\n   </g>\n   <g id=\"patch_59\">\n    <path clip-path=\"url(#p5eeda9aa29)\" d=\"M 206.938289 442.08 \nL 209.500272 442.08 \nL 209.500272 442.08 \nL 206.938289 442.08 \nz\n\" style=\"fill:#4c72b0;fill-opacity:0.5;stroke:#000000;stroke-linejoin:miter;stroke-width:0.256198;\"/>\n   </g>\n   <g id=\"patch_60\">\n    <path clip-path=\"url(#p5eeda9aa29)\" d=\"M 209.500272 442.08 \nL 212.062256 442.08 \nL 212.062256 442.08 \nL 209.500272 442.08 \nz\n\" style=\"fill:#4c72b0;fill-opacity:0.5;stroke:#000000;stroke-linejoin:miter;stroke-width:0.256198;\"/>\n   </g>\n   <g id=\"patch_61\">\n    <path clip-path=\"url(#p5eeda9aa29)\" d=\"M 212.062256 442.08 \nL 214.624239 442.08 \nL 214.624239 442.08 \nL 212.062256 442.08 \nz\n\" style=\"fill:#4c72b0;fill-opacity:0.5;stroke:#000000;stroke-linejoin:miter;stroke-width:0.256198;\"/>\n   </g>\n   <g id=\"patch_62\">\n    <path clip-path=\"url(#p5eeda9aa29)\" d=\"M 214.624239 442.08 \nL 217.186223 442.08 \nL 217.186223 442.08 \nL 214.624239 442.08 \nz\n\" style=\"fill:#4c72b0;fill-opacity:0.5;stroke:#000000;stroke-linejoin:miter;stroke-width:0.256198;\"/>\n   </g>\n   <g id=\"patch_63\">\n    <path clip-path=\"url(#p5eeda9aa29)\" d=\"M 217.186223 442.08 \nL 219.748206 442.08 \nL 219.748206 442.08 \nL 217.186223 442.08 \nz\n\" style=\"fill:#4c72b0;fill-opacity:0.5;stroke:#000000;stroke-linejoin:miter;stroke-width:0.256198;\"/>\n   </g>\n   <g id=\"patch_64\">\n    <path clip-path=\"url(#p5eeda9aa29)\" d=\"M 219.748206 442.08 \nL 222.31019 442.08 \nL 222.31019 441.026129 \nL 219.748206 441.026129 \nz\n\" style=\"fill:#4c72b0;fill-opacity:0.5;stroke:#000000;stroke-linejoin:miter;stroke-width:0.256198;\"/>\n   </g>\n   <g id=\"patch_65\">\n    <path clip-path=\"url(#p5eeda9aa29)\" d=\"M 222.31019 442.08 \nL 224.872173 442.08 \nL 224.872173 441.026129 \nL 222.31019 441.026129 \nz\n\" style=\"fill:#4c72b0;fill-opacity:0.5;stroke:#000000;stroke-linejoin:miter;stroke-width:0.256198;\"/>\n   </g>\n   <g id=\"patch_66\">\n    <path clip-path=\"url(#p5eeda9aa29)\" d=\"M 224.872173 442.08 \nL 227.434157 442.08 \nL 227.434157 441.026129 \nL 224.872173 441.026129 \nz\n\" style=\"fill:#4c72b0;fill-opacity:0.5;stroke:#000000;stroke-linejoin:miter;stroke-width:0.256198;\"/>\n   </g>\n   <g id=\"patch_67\">\n    <path clip-path=\"url(#p5eeda9aa29)\" d=\"M 227.434157 442.08 \nL 229.99614 442.08 \nL 229.99614 442.08 \nL 227.434157 442.08 \nz\n\" style=\"fill:#4c72b0;fill-opacity:0.5;stroke:#000000;stroke-linejoin:miter;stroke-width:0.256198;\"/>\n   </g>\n   <g id=\"patch_68\">\n    <path clip-path=\"url(#p5eeda9aa29)\" d=\"M 229.99614 442.08 \nL 232.558124 442.08 \nL 232.558124 441.026129 \nL 229.99614 441.026129 \nz\n\" style=\"fill:#4c72b0;fill-opacity:0.5;stroke:#000000;stroke-linejoin:miter;stroke-width:0.256198;\"/>\n   </g>\n   <g id=\"patch_69\">\n    <path clip-path=\"url(#p5eeda9aa29)\" d=\"M 232.558124 442.08 \nL 235.120107 442.08 \nL 235.120107 441.026129 \nL 232.558124 441.026129 \nz\n\" style=\"fill:#4c72b0;fill-opacity:0.5;stroke:#000000;stroke-linejoin:miter;stroke-width:0.256198;\"/>\n   </g>\n   <g id=\"patch_70\">\n    <path clip-path=\"url(#p5eeda9aa29)\" d=\"M 235.120107 442.08 \nL 237.682091 442.08 \nL 237.682091 442.08 \nL 235.120107 442.08 \nz\n\" style=\"fill:#4c72b0;fill-opacity:0.5;stroke:#000000;stroke-linejoin:miter;stroke-width:0.256198;\"/>\n   </g>\n   <g id=\"patch_71\">\n    <path clip-path=\"url(#p5eeda9aa29)\" d=\"M 237.682091 442.08 \nL 240.244074 442.08 \nL 240.244074 441.026129 \nL 237.682091 441.026129 \nz\n\" style=\"fill:#4c72b0;fill-opacity:0.5;stroke:#000000;stroke-linejoin:miter;stroke-width:0.256198;\"/>\n   </g>\n   <g id=\"patch_72\">\n    <path clip-path=\"url(#p5eeda9aa29)\" d=\"M 240.244074 442.08 \nL 242.806058 442.08 \nL 242.806058 442.08 \nL 240.244074 442.08 \nz\n\" style=\"fill:#4c72b0;fill-opacity:0.5;stroke:#000000;stroke-linejoin:miter;stroke-width:0.256198;\"/>\n   </g>\n   <g id=\"patch_73\">\n    <path clip-path=\"url(#p5eeda9aa29)\" d=\"M 242.806058 442.08 \nL 245.368041 442.08 \nL 245.368041 442.08 \nL 242.806058 442.08 \nz\n\" style=\"fill:#4c72b0;fill-opacity:0.5;stroke:#000000;stroke-linejoin:miter;stroke-width:0.256198;\"/>\n   </g>\n   <g id=\"patch_74\">\n    <path clip-path=\"url(#p5eeda9aa29)\" d=\"M 245.368041 442.08 \nL 247.930025 442.08 \nL 247.930025 442.08 \nL 245.368041 442.08 \nz\n\" style=\"fill:#4c72b0;fill-opacity:0.5;stroke:#000000;stroke-linejoin:miter;stroke-width:0.256198;\"/>\n   </g>\n   <g id=\"patch_75\">\n    <path clip-path=\"url(#p5eeda9aa29)\" d=\"M 247.930025 442.08 \nL 250.492008 442.08 \nL 250.492008 442.08 \nL 247.930025 442.08 \nz\n\" style=\"fill:#4c72b0;fill-opacity:0.5;stroke:#000000;stroke-linejoin:miter;stroke-width:0.256198;\"/>\n   </g>\n   <g id=\"patch_76\">\n    <path clip-path=\"url(#p5eeda9aa29)\" d=\"M 250.492008 442.08 \nL 253.053991 442.08 \nL 253.053991 442.08 \nL 250.492008 442.08 \nz\n\" style=\"fill:#4c72b0;fill-opacity:0.5;stroke:#000000;stroke-linejoin:miter;stroke-width:0.256198;\"/>\n   </g>\n   <g id=\"patch_77\">\n    <path clip-path=\"url(#p5eeda9aa29)\" d=\"M 253.053991 442.08 \nL 255.615975 442.08 \nL 255.615975 442.08 \nL 253.053991 442.08 \nz\n\" style=\"fill:#4c72b0;fill-opacity:0.5;stroke:#000000;stroke-linejoin:miter;stroke-width:0.256198;\"/>\n   </g>\n   <g id=\"patch_78\">\n    <path clip-path=\"url(#p5eeda9aa29)\" d=\"M 255.615975 442.08 \nL 258.177958 442.08 \nL 258.177958 442.08 \nL 255.615975 442.08 \nz\n\" style=\"fill:#4c72b0;fill-opacity:0.5;stroke:#000000;stroke-linejoin:miter;stroke-width:0.256198;\"/>\n   </g>\n   <g id=\"patch_79\">\n    <path clip-path=\"url(#p5eeda9aa29)\" d=\"M 258.177958 442.08 \nL 260.739942 442.08 \nL 260.739942 439.972257 \nL 258.177958 439.972257 \nz\n\" style=\"fill:#4c72b0;fill-opacity:0.5;stroke:#000000;stroke-linejoin:miter;stroke-width:0.256198;\"/>\n   </g>\n   <g id=\"patch_80\">\n    <path clip-path=\"url(#p5eeda9aa29)\" d=\"M 260.739942 442.08 \nL 263.301925 442.08 \nL 263.301925 442.08 \nL 260.739942 442.08 \nz\n\" style=\"fill:#4c72b0;fill-opacity:0.5;stroke:#000000;stroke-linejoin:miter;stroke-width:0.256198;\"/>\n   </g>\n   <g id=\"patch_81\">\n    <path clip-path=\"url(#p5eeda9aa29)\" d=\"M 263.301925 442.08 \nL 265.863909 442.08 \nL 265.863909 442.08 \nL 263.301925 442.08 \nz\n\" style=\"fill:#4c72b0;fill-opacity:0.5;stroke:#000000;stroke-linejoin:miter;stroke-width:0.256198;\"/>\n   </g>\n   <g id=\"patch_82\">\n    <path clip-path=\"url(#p5eeda9aa29)\" d=\"M 265.863909 442.08 \nL 268.425892 442.08 \nL 268.425892 442.08 \nL 265.863909 442.08 \nz\n\" style=\"fill:#4c72b0;fill-opacity:0.5;stroke:#000000;stroke-linejoin:miter;stroke-width:0.256198;\"/>\n   </g>\n   <g id=\"patch_83\">\n    <path clip-path=\"url(#p5eeda9aa29)\" d=\"M 268.425892 442.08 \nL 270.987876 442.08 \nL 270.987876 441.026129 \nL 268.425892 441.026129 \nz\n\" style=\"fill:#4c72b0;fill-opacity:0.5;stroke:#000000;stroke-linejoin:miter;stroke-width:0.256198;\"/>\n   </g>\n   <g id=\"patch_84\">\n    <path clip-path=\"url(#p5eeda9aa29)\" d=\"M 270.987876 442.08 \nL 273.549859 442.08 \nL 273.549859 442.08 \nL 270.987876 442.08 \nz\n\" style=\"fill:#4c72b0;fill-opacity:0.5;stroke:#000000;stroke-linejoin:miter;stroke-width:0.256198;\"/>\n   </g>\n   <g id=\"patch_85\">\n    <path clip-path=\"url(#p5eeda9aa29)\" d=\"M 273.549859 442.08 \nL 276.111843 442.08 \nL 276.111843 441.026129 \nL 273.549859 441.026129 \nz\n\" style=\"fill:#4c72b0;fill-opacity:0.5;stroke:#000000;stroke-linejoin:miter;stroke-width:0.256198;\"/>\n   </g>\n   <g id=\"patch_86\">\n    <path clip-path=\"url(#p5eeda9aa29)\" d=\"M 276.111843 442.08 \nL 278.673826 442.08 \nL 278.673826 442.08 \nL 276.111843 442.08 \nz\n\" style=\"fill:#4c72b0;fill-opacity:0.5;stroke:#000000;stroke-linejoin:miter;stroke-width:0.256198;\"/>\n   </g>\n   <g id=\"patch_87\">\n    <path clip-path=\"url(#p5eeda9aa29)\" d=\"M 278.673826 442.08 \nL 281.23581 442.08 \nL 281.23581 442.08 \nL 278.673826 442.08 \nz\n\" style=\"fill:#4c72b0;fill-opacity:0.5;stroke:#000000;stroke-linejoin:miter;stroke-width:0.256198;\"/>\n   </g>\n   <g id=\"patch_88\">\n    <path clip-path=\"url(#p5eeda9aa29)\" d=\"M 281.23581 442.08 \nL 283.797793 442.08 \nL 283.797793 442.08 \nL 281.23581 442.08 \nz\n\" style=\"fill:#4c72b0;fill-opacity:0.5;stroke:#000000;stroke-linejoin:miter;stroke-width:0.256198;\"/>\n   </g>\n   <g id=\"patch_89\">\n    <path clip-path=\"url(#p5eeda9aa29)\" d=\"M 283.797793 442.08 \nL 286.359777 442.08 \nL 286.359777 442.08 \nL 283.797793 442.08 \nz\n\" style=\"fill:#4c72b0;fill-opacity:0.5;stroke:#000000;stroke-linejoin:miter;stroke-width:0.256198;\"/>\n   </g>\n   <g id=\"patch_90\">\n    <path clip-path=\"url(#p5eeda9aa29)\" d=\"M 286.359777 442.08 \nL 288.92176 442.08 \nL 288.92176 442.08 \nL 286.359777 442.08 \nz\n\" style=\"fill:#4c72b0;fill-opacity:0.5;stroke:#000000;stroke-linejoin:miter;stroke-width:0.256198;\"/>\n   </g>\n   <g id=\"patch_91\">\n    <path clip-path=\"url(#p5eeda9aa29)\" d=\"M 288.92176 442.08 \nL 291.483744 442.08 \nL 291.483744 442.08 \nL 288.92176 442.08 \nz\n\" style=\"fill:#4c72b0;fill-opacity:0.5;stroke:#000000;stroke-linejoin:miter;stroke-width:0.256198;\"/>\n   </g>\n   <g id=\"patch_92\">\n    <path clip-path=\"url(#p5eeda9aa29)\" d=\"M 291.483744 442.08 \nL 294.045727 442.08 \nL 294.045727 442.08 \nL 291.483744 442.08 \nz\n\" style=\"fill:#4c72b0;fill-opacity:0.5;stroke:#000000;stroke-linejoin:miter;stroke-width:0.256198;\"/>\n   </g>\n   <g id=\"patch_93\">\n    <path clip-path=\"url(#p5eeda9aa29)\" d=\"M 294.045727 442.08 \nL 296.60771 442.08 \nL 296.60771 442.08 \nL 294.045727 442.08 \nz\n\" style=\"fill:#4c72b0;fill-opacity:0.5;stroke:#000000;stroke-linejoin:miter;stroke-width:0.256198;\"/>\n   </g>\n   <g id=\"patch_94\">\n    <path clip-path=\"url(#p5eeda9aa29)\" d=\"M 296.60771 442.08 \nL 299.169694 442.08 \nL 299.169694 442.08 \nL 296.60771 442.08 \nz\n\" style=\"fill:#4c72b0;fill-opacity:0.5;stroke:#000000;stroke-linejoin:miter;stroke-width:0.256198;\"/>\n   </g>\n   <g id=\"patch_95\">\n    <path clip-path=\"url(#p5eeda9aa29)\" d=\"M 299.169694 442.08 \nL 301.731677 442.08 \nL 301.731677 442.08 \nL 299.169694 442.08 \nz\n\" style=\"fill:#4c72b0;fill-opacity:0.5;stroke:#000000;stroke-linejoin:miter;stroke-width:0.256198;\"/>\n   </g>\n   <g id=\"patch_96\">\n    <path clip-path=\"url(#p5eeda9aa29)\" d=\"M 301.731677 442.08 \nL 304.293661 442.08 \nL 304.293661 442.08 \nL 301.731677 442.08 \nz\n\" style=\"fill:#4c72b0;fill-opacity:0.5;stroke:#000000;stroke-linejoin:miter;stroke-width:0.256198;\"/>\n   </g>\n   <g id=\"patch_97\">\n    <path clip-path=\"url(#p5eeda9aa29)\" d=\"M 304.293661 442.08 \nL 306.855644 442.08 \nL 306.855644 442.08 \nL 304.293661 442.08 \nz\n\" style=\"fill:#4c72b0;fill-opacity:0.5;stroke:#000000;stroke-linejoin:miter;stroke-width:0.256198;\"/>\n   </g>\n   <g id=\"patch_98\">\n    <path clip-path=\"url(#p5eeda9aa29)\" d=\"M 306.855644 442.08 \nL 309.417628 442.08 \nL 309.417628 442.08 \nL 306.855644 442.08 \nz\n\" style=\"fill:#4c72b0;fill-opacity:0.5;stroke:#000000;stroke-linejoin:miter;stroke-width:0.256198;\"/>\n   </g>\n   <g id=\"patch_99\">\n    <path clip-path=\"url(#p5eeda9aa29)\" d=\"M 309.417628 442.08 \nL 311.979611 442.08 \nL 311.979611 442.08 \nL 309.417628 442.08 \nz\n\" style=\"fill:#4c72b0;fill-opacity:0.5;stroke:#000000;stroke-linejoin:miter;stroke-width:0.256198;\"/>\n   </g>\n   <g id=\"patch_100\">\n    <path clip-path=\"url(#p5eeda9aa29)\" d=\"M 311.979611 442.08 \nL 314.541595 442.08 \nL 314.541595 442.08 \nL 311.979611 442.08 \nz\n\" style=\"fill:#4c72b0;fill-opacity:0.5;stroke:#000000;stroke-linejoin:miter;stroke-width:0.256198;\"/>\n   </g>\n   <g id=\"patch_101\">\n    <path clip-path=\"url(#p5eeda9aa29)\" d=\"M 314.541595 442.08 \nL 317.103578 442.08 \nL 317.103578 442.08 \nL 314.541595 442.08 \nz\n\" style=\"fill:#4c72b0;fill-opacity:0.5;stroke:#000000;stroke-linejoin:miter;stroke-width:0.256198;\"/>\n   </g>\n   <g id=\"patch_102\">\n    <path clip-path=\"url(#p5eeda9aa29)\" d=\"M 317.103578 442.08 \nL 319.665562 442.08 \nL 319.665562 442.08 \nL 317.103578 442.08 \nz\n\" style=\"fill:#4c72b0;fill-opacity:0.5;stroke:#000000;stroke-linejoin:miter;stroke-width:0.256198;\"/>\n   </g>\n   <g id=\"patch_103\">\n    <path clip-path=\"url(#p5eeda9aa29)\" d=\"M 319.665562 442.08 \nL 322.227545 442.08 \nL 322.227545 441.026129 \nL 319.665562 441.026129 \nz\n\" style=\"fill:#4c72b0;fill-opacity:0.5;stroke:#000000;stroke-linejoin:miter;stroke-width:0.256198;\"/>\n   </g>\n   <g id=\"patch_104\">\n    <path clip-path=\"url(#p5eeda9aa29)\" d=\"M 322.227545 442.08 \nL 324.789529 442.08 \nL 324.789529 442.08 \nL 322.227545 442.08 \nz\n\" style=\"fill:#4c72b0;fill-opacity:0.5;stroke:#000000;stroke-linejoin:miter;stroke-width:0.256198;\"/>\n   </g>\n   <g id=\"patch_105\">\n    <path clip-path=\"url(#p5eeda9aa29)\" d=\"M 324.789529 442.08 \nL 327.351512 442.08 \nL 327.351512 442.08 \nL 324.789529 442.08 \nz\n\" style=\"fill:#4c72b0;fill-opacity:0.5;stroke:#000000;stroke-linejoin:miter;stroke-width:0.256198;\"/>\n   </g>\n   <g id=\"patch_106\">\n    <path clip-path=\"url(#p5eeda9aa29)\" d=\"M 327.351512 442.08 \nL 329.913496 442.08 \nL 329.913496 442.08 \nL 327.351512 442.08 \nz\n\" style=\"fill:#4c72b0;fill-opacity:0.5;stroke:#000000;stroke-linejoin:miter;stroke-width:0.256198;\"/>\n   </g>\n   <g id=\"patch_107\">\n    <path clip-path=\"url(#p5eeda9aa29)\" d=\"M 329.913496 442.08 \nL 332.475479 442.08 \nL 332.475479 442.08 \nL 329.913496 442.08 \nz\n\" style=\"fill:#4c72b0;fill-opacity:0.5;stroke:#000000;stroke-linejoin:miter;stroke-width:0.256198;\"/>\n   </g>\n   <g id=\"patch_108\">\n    <path clip-path=\"url(#p5eeda9aa29)\" d=\"M 332.475479 442.08 \nL 335.037463 442.08 \nL 335.037463 442.08 \nL 332.475479 442.08 \nz\n\" style=\"fill:#4c72b0;fill-opacity:0.5;stroke:#000000;stroke-linejoin:miter;stroke-width:0.256198;\"/>\n   </g>\n   <g id=\"patch_109\">\n    <path clip-path=\"url(#p5eeda9aa29)\" d=\"M 335.037463 442.08 \nL 337.599446 442.08 \nL 337.599446 442.08 \nL 335.037463 442.08 \nz\n\" style=\"fill:#4c72b0;fill-opacity:0.5;stroke:#000000;stroke-linejoin:miter;stroke-width:0.256198;\"/>\n   </g>\n   <g id=\"patch_110\">\n    <path clip-path=\"url(#p5eeda9aa29)\" d=\"M 337.599446 442.08 \nL 340.161429 442.08 \nL 340.161429 442.08 \nL 337.599446 442.08 \nz\n\" style=\"fill:#4c72b0;fill-opacity:0.5;stroke:#000000;stroke-linejoin:miter;stroke-width:0.256198;\"/>\n   </g>\n   <g id=\"patch_111\">\n    <path clip-path=\"url(#p5eeda9aa29)\" d=\"M 340.161429 442.08 \nL 342.723413 442.08 \nL 342.723413 441.026129 \nL 340.161429 441.026129 \nz\n\" style=\"fill:#4c72b0;fill-opacity:0.5;stroke:#000000;stroke-linejoin:miter;stroke-width:0.256198;\"/>\n   </g>\n   <g id=\"patch_112\">\n    <path clip-path=\"url(#p5eeda9aa29)\" d=\"M 342.723413 442.08 \nL 345.285396 442.08 \nL 345.285396 442.08 \nL 342.723413 442.08 \nz\n\" style=\"fill:#4c72b0;fill-opacity:0.5;stroke:#000000;stroke-linejoin:miter;stroke-width:0.256198;\"/>\n   </g>\n   <g id=\"patch_113\">\n    <path clip-path=\"url(#p5eeda9aa29)\" d=\"M 345.285396 442.08 \nL 347.84738 442.08 \nL 347.84738 442.08 \nL 345.285396 442.08 \nz\n\" style=\"fill:#4c72b0;fill-opacity:0.5;stroke:#000000;stroke-linejoin:miter;stroke-width:0.256198;\"/>\n   </g>\n   <g id=\"patch_114\">\n    <path clip-path=\"url(#p5eeda9aa29)\" d=\"M 347.84738 442.08 \nL 350.409363 442.08 \nL 350.409363 442.08 \nL 347.84738 442.08 \nz\n\" style=\"fill:#4c72b0;fill-opacity:0.5;stroke:#000000;stroke-linejoin:miter;stroke-width:0.256198;\"/>\n   </g>\n   <g id=\"patch_115\">\n    <path clip-path=\"url(#p5eeda9aa29)\" d=\"M 350.409363 442.08 \nL 352.971347 442.08 \nL 352.971347 441.026129 \nL 350.409363 441.026129 \nz\n\" style=\"fill:#4c72b0;fill-opacity:0.5;stroke:#000000;stroke-linejoin:miter;stroke-width:0.256198;\"/>\n   </g>\n   <g id=\"patch_116\">\n    <path clip-path=\"url(#p5eeda9aa29)\" d=\"M 352.971347 442.08 \nL 355.53333 442.08 \nL 355.53333 441.026129 \nL 352.971347 441.026129 \nz\n\" style=\"fill:#4c72b0;fill-opacity:0.5;stroke:#000000;stroke-linejoin:miter;stroke-width:0.256198;\"/>\n   </g>\n   <g id=\"patch_117\">\n    <path clip-path=\"url(#p5eeda9aa29)\" d=\"M 355.53333 442.08 \nL 358.095314 442.08 \nL 358.095314 441.026129 \nL 355.53333 441.026129 \nz\n\" style=\"fill:#4c72b0;fill-opacity:0.5;stroke:#000000;stroke-linejoin:miter;stroke-width:0.256198;\"/>\n   </g>\n   <g id=\"patch_118\">\n    <path clip-path=\"url(#p5eeda9aa29)\" d=\"M 358.095314 442.08 \nL 360.657297 442.08 \nL 360.657297 442.08 \nL 358.095314 442.08 \nz\n\" style=\"fill:#4c72b0;fill-opacity:0.5;stroke:#000000;stroke-linejoin:miter;stroke-width:0.256198;\"/>\n   </g>\n   <g id=\"patch_119\">\n    <path clip-path=\"url(#p5eeda9aa29)\" d=\"M 360.657297 442.08 \nL 363.219281 442.08 \nL 363.219281 442.08 \nL 360.657297 442.08 \nz\n\" style=\"fill:#4c72b0;fill-opacity:0.5;stroke:#000000;stroke-linejoin:miter;stroke-width:0.256198;\"/>\n   </g>\n   <g id=\"patch_120\">\n    <path clip-path=\"url(#p5eeda9aa29)\" d=\"M 363.219281 442.08 \nL 365.781264 442.08 \nL 365.781264 442.08 \nL 363.219281 442.08 \nz\n\" style=\"fill:#4c72b0;fill-opacity:0.5;stroke:#000000;stroke-linejoin:miter;stroke-width:0.256198;\"/>\n   </g>\n   <g id=\"patch_121\">\n    <path clip-path=\"url(#p5eeda9aa29)\" d=\"M 365.781264 442.08 \nL 368.343248 442.08 \nL 368.343248 442.08 \nL 365.781264 442.08 \nz\n\" style=\"fill:#4c72b0;fill-opacity:0.5;stroke:#000000;stroke-linejoin:miter;stroke-width:0.256198;\"/>\n   </g>\n   <g id=\"patch_122\">\n    <path clip-path=\"url(#p5eeda9aa29)\" d=\"M 368.343248 442.08 \nL 370.905231 442.08 \nL 370.905231 442.08 \nL 368.343248 442.08 \nz\n\" style=\"fill:#4c72b0;fill-opacity:0.5;stroke:#000000;stroke-linejoin:miter;stroke-width:0.256198;\"/>\n   </g>\n   <g id=\"patch_123\">\n    <path clip-path=\"url(#p5eeda9aa29)\" d=\"M 370.905231 442.08 \nL 373.467215 442.08 \nL 373.467215 442.08 \nL 370.905231 442.08 \nz\n\" style=\"fill:#4c72b0;fill-opacity:0.5;stroke:#000000;stroke-linejoin:miter;stroke-width:0.256198;\"/>\n   </g>\n   <g id=\"patch_124\">\n    <path clip-path=\"url(#p5eeda9aa29)\" d=\"M 373.467215 442.08 \nL 376.029198 442.08 \nL 376.029198 442.08 \nL 373.467215 442.08 \nz\n\" style=\"fill:#4c72b0;fill-opacity:0.5;stroke:#000000;stroke-linejoin:miter;stroke-width:0.256198;\"/>\n   </g>\n   <g id=\"patch_125\">\n    <path clip-path=\"url(#p5eeda9aa29)\" d=\"M 376.029198 442.08 \nL 378.591182 442.08 \nL 378.591182 442.08 \nL 376.029198 442.08 \nz\n\" style=\"fill:#4c72b0;fill-opacity:0.5;stroke:#000000;stroke-linejoin:miter;stroke-width:0.256198;\"/>\n   </g>\n   <g id=\"patch_126\">\n    <path clip-path=\"url(#p5eeda9aa29)\" d=\"M 378.591182 442.08 \nL 381.153165 442.08 \nL 381.153165 442.08 \nL 378.591182 442.08 \nz\n\" style=\"fill:#4c72b0;fill-opacity:0.5;stroke:#000000;stroke-linejoin:miter;stroke-width:0.256198;\"/>\n   </g>\n   <g id=\"patch_127\">\n    <path clip-path=\"url(#p5eeda9aa29)\" d=\"M 381.153165 442.08 \nL 383.715149 442.08 \nL 383.715149 442.08 \nL 381.153165 442.08 \nz\n\" style=\"fill:#4c72b0;fill-opacity:0.5;stroke:#000000;stroke-linejoin:miter;stroke-width:0.256198;\"/>\n   </g>\n   <g id=\"patch_128\">\n    <path clip-path=\"url(#p5eeda9aa29)\" d=\"M 383.715149 442.08 \nL 386.277132 442.08 \nL 386.277132 441.026129 \nL 383.715149 441.026129 \nz\n\" style=\"fill:#4c72b0;fill-opacity:0.5;stroke:#000000;stroke-linejoin:miter;stroke-width:0.256198;\"/>\n   </g>\n   <g id=\"line2d_35\">\n    <path clip-path=\"url(#p5eeda9aa29)\" d=\"M 63.467215 399.258583 \nL 65.089375 398.851439 \nL 66.711535 399.194768 \nL 68.333696 400.251805 \nL 69.955856 401.947567 \nL 71.578017 404.176349 \nL 73.200177 406.811632 \nL 76.444498 412.757666 \nL 79.688819 418.763675 \nL 81.310979 421.538694 \nL 82.933139 424.074427 \nL 84.5553 426.335577 \nL 86.17746 428.308393 \nL 87.79962 429.99689 \nL 89.421781 431.418465 \nL 91.043941 432.599463 \nL 92.666102 433.571165 \nL 94.288262 434.366456 \nL 97.532583 435.553121 \nL 100.776904 436.378518 \nL 105.643385 437.267827 \nL 113.754187 438.414797 \nL 121.864989 439.370188 \nL 129.975791 440.100018 \nL 139.708753 440.705373 \nL 149.441715 441.082191 \nL 160.796838 441.273313 \nL 191.617885 441.609314 \nL 206.217329 441.783266 \nL 217.572452 441.682299 \nL 230.549735 441.580806 \nL 316.524235 441.983557 \nL 363.566887 441.853172 \nL 379.78849 441.974789 \nL 386.277132 441.97993 \nL 386.277132 441.97993 \n\" style=\"fill:none;stroke:#4c72b0;stroke-linecap:round;stroke-width:1.75;\"/>\n   </g>\n   <g id=\"patch_129\">\n    <path d=\"M 47.326719 442.08 \nL 47.326719 7.2 \n\" style=\"fill:none;\"/>\n   </g>\n   <g id=\"patch_130\">\n    <path d=\"M 402.417628 442.08 \nL 402.417628 7.2 \n\" style=\"fill:none;\"/>\n   </g>\n   <g id=\"patch_131\">\n    <path d=\"M 47.326719 442.08 \nL 402.417628 442.08 \n\" style=\"fill:none;\"/>\n   </g>\n   <g id=\"patch_132\">\n    <path d=\"M 47.326719 7.2 \nL 402.417628 7.2 \n\" style=\"fill:none;\"/>\n   </g>\n  </g>\n  <g id=\"axes_2\">\n   <g id=\"patch_133\">\n    <path d=\"M 473.43581 442.08 \nL 828.526719 442.08 \nL 828.526719 7.2 \nL 473.43581 7.2 \nz\n\" style=\"fill:#eaeaf2;\"/>\n   </g>\n   <g id=\"matplotlib.axis_3\">\n    <g id=\"xtick_9\">\n     <g id=\"line2d_36\">\n      <path clip-path=\"url(#p495451eef5)\" d=\"M 489.576283 442.08 \nL 489.576283 7.2 \n\" style=\"fill:none;stroke:#ffffff;stroke-linecap:round;\"/>\n     </g>\n     <g id=\"line2d_37\"/>\n     <g id=\"text_21\">\n      <!-- 0.0 -->\n      <g style=\"fill:#262626;\" transform=\"translate(482.261439 456.850312)scale(0.1 -0.1)\">\n       <use xlink:href=\"#NanumBarunGothic-48\"/>\n       <use x=\"58.299988\" xlink:href=\"#NanumBarunGothic-46\"/>\n       <use x=\"87.999985\" xlink:href=\"#NanumBarunGothic-48\"/>\n      </g>\n     </g>\n    </g>\n    <g id=\"xtick_10\">\n     <g id=\"line2d_38\">\n      <path clip-path=\"url(#p495451eef5)\" d=\"M 534.842389 442.08 \nL 534.842389 7.2 \n\" style=\"fill:none;stroke:#ffffff;stroke-linecap:round;\"/>\n     </g>\n     <g id=\"line2d_39\"/>\n     <g id=\"text_22\">\n      <!-- 0.2 -->\n      <g style=\"fill:#262626;\" transform=\"translate(527.527545 456.850312)scale(0.1 -0.1)\">\n       <use xlink:href=\"#NanumBarunGothic-48\"/>\n       <use x=\"58.299988\" xlink:href=\"#NanumBarunGothic-46\"/>\n       <use x=\"87.999985\" xlink:href=\"#NanumBarunGothic-50\"/>\n      </g>\n     </g>\n    </g>\n    <g id=\"xtick_11\">\n     <g id=\"line2d_40\">\n      <path clip-path=\"url(#p495451eef5)\" d=\"M 580.108495 442.08 \nL 580.108495 7.2 \n\" style=\"fill:none;stroke:#ffffff;stroke-linecap:round;\"/>\n     </g>\n     <g id=\"line2d_41\"/>\n     <g id=\"text_23\">\n      <!-- 0.4 -->\n      <g style=\"fill:#262626;\" transform=\"translate(572.793651 456.850312)scale(0.1 -0.1)\">\n       <use xlink:href=\"#NanumBarunGothic-48\"/>\n       <use x=\"58.299988\" xlink:href=\"#NanumBarunGothic-46\"/>\n       <use x=\"87.999985\" xlink:href=\"#NanumBarunGothic-52\"/>\n      </g>\n     </g>\n    </g>\n    <g id=\"xtick_12\">\n     <g id=\"line2d_42\">\n      <path clip-path=\"url(#p495451eef5)\" d=\"M 625.374601 442.08 \nL 625.374601 7.2 \n\" style=\"fill:none;stroke:#ffffff;stroke-linecap:round;\"/>\n     </g>\n     <g id=\"line2d_43\"/>\n     <g id=\"text_24\">\n      <!-- 0.6 -->\n      <g style=\"fill:#262626;\" transform=\"translate(618.059758 456.850312)scale(0.1 -0.1)\">\n       <use xlink:href=\"#NanumBarunGothic-48\"/>\n       <use x=\"58.299988\" xlink:href=\"#NanumBarunGothic-46\"/>\n       <use x=\"87.999985\" xlink:href=\"#NanumBarunGothic-54\"/>\n      </g>\n     </g>\n    </g>\n    <g id=\"xtick_13\">\n     <g id=\"line2d_44\">\n      <path clip-path=\"url(#p495451eef5)\" d=\"M 670.640708 442.08 \nL 670.640708 7.2 \n\" style=\"fill:none;stroke:#ffffff;stroke-linecap:round;\"/>\n     </g>\n     <g id=\"line2d_45\"/>\n     <g id=\"text_25\">\n      <!-- 0.8 -->\n      <g style=\"fill:#262626;\" transform=\"translate(663.325864 456.850312)scale(0.1 -0.1)\">\n       <use xlink:href=\"#NanumBarunGothic-48\"/>\n       <use x=\"58.299988\" xlink:href=\"#NanumBarunGothic-46\"/>\n       <use x=\"87.999985\" xlink:href=\"#NanumBarunGothic-56\"/>\n      </g>\n     </g>\n    </g>\n    <g id=\"xtick_14\">\n     <g id=\"line2d_46\">\n      <path clip-path=\"url(#p495451eef5)\" d=\"M 715.906814 442.08 \nL 715.906814 7.2 \n\" style=\"fill:none;stroke:#ffffff;stroke-linecap:round;\"/>\n     </g>\n     <g id=\"line2d_47\"/>\n     <g id=\"text_26\">\n      <!-- 1.0 -->\n      <g style=\"fill:#262626;\" transform=\"translate(708.59197 456.850312)scale(0.1 -0.1)\">\n       <use xlink:href=\"#NanumBarunGothic-49\"/>\n       <use x=\"58.299988\" xlink:href=\"#NanumBarunGothic-46\"/>\n       <use x=\"87.999985\" xlink:href=\"#NanumBarunGothic-48\"/>\n      </g>\n     </g>\n    </g>\n    <g id=\"xtick_15\">\n     <g id=\"line2d_48\">\n      <path clip-path=\"url(#p495451eef5)\" d=\"M 761.17292 442.08 \nL 761.17292 7.2 \n\" style=\"fill:none;stroke:#ffffff;stroke-linecap:round;\"/>\n     </g>\n     <g id=\"line2d_49\"/>\n     <g id=\"text_27\">\n      <!-- 1.2 -->\n      <g style=\"fill:#262626;\" transform=\"translate(753.858076 456.850312)scale(0.1 -0.1)\">\n       <use xlink:href=\"#NanumBarunGothic-49\"/>\n       <use x=\"58.299988\" xlink:href=\"#NanumBarunGothic-46\"/>\n       <use x=\"87.999985\" xlink:href=\"#NanumBarunGothic-50\"/>\n      </g>\n     </g>\n    </g>\n    <g id=\"xtick_16\">\n     <g id=\"line2d_50\">\n      <path clip-path=\"url(#p495451eef5)\" d=\"M 806.439026 442.08 \nL 806.439026 7.2 \n\" style=\"fill:none;stroke:#ffffff;stroke-linecap:round;\"/>\n     </g>\n     <g id=\"line2d_51\"/>\n     <g id=\"text_28\">\n      <!-- 1.4 -->\n      <g style=\"fill:#262626;\" transform=\"translate(799.124182 456.850312)scale(0.1 -0.1)\">\n       <use xlink:href=\"#NanumBarunGothic-49\"/>\n       <use x=\"58.299988\" xlink:href=\"#NanumBarunGothic-46\"/>\n       <use x=\"87.999985\" xlink:href=\"#NanumBarunGothic-52\"/>\n      </g>\n     </g>\n    </g>\n    <g id=\"text_29\">\n     <!-- box_off_num -->\n     <g style=\"fill:#262626;\" transform=\"translate(618.432436 472.207031)scale(0.11 -0.11)\">\n      <use xlink:href=\"#NanumBarunGothic-98\"/>\n      <use x=\"58.799988\" xlink:href=\"#NanumBarunGothic-111\"/>\n      <use x=\"116.499985\" xlink:href=\"#NanumBarunGothic-120\"/>\n      <use x=\"169.299973\" xlink:href=\"#NanumBarunGothic-95\"/>\n      <use x=\"213.899963\" xlink:href=\"#NanumBarunGothic-111\"/>\n      <use x=\"271.59996\" xlink:href=\"#NanumBarunGothic-102\"/>\n      <use x=\"305.599945\" xlink:href=\"#NanumBarunGothic-102\"/>\n      <use x=\"339.59993\" xlink:href=\"#NanumBarunGothic-95\"/>\n      <use x=\"384.199921\" xlink:href=\"#NanumBarunGothic-110\"/>\n      <use x=\"443.399918\" xlink:href=\"#NanumBarunGothic-117\"/>\n      <use x=\"502.599915\" xlink:href=\"#NanumBarunGothic-109\"/>\n     </g>\n    </g>\n    <g id=\"text_30\">\n     <!-- 1e7 -->\n     <g style=\"fill:#262626;\" transform=\"translate(811.276719 470.43)scale(0.1 -0.1)\">\n      <use xlink:href=\"#NanumBarunGothic-49\"/>\n      <use x=\"58.299988\" xlink:href=\"#NanumBarunGothic-101\"/>\n      <use x=\"114.199982\" xlink:href=\"#NanumBarunGothic-55\"/>\n     </g>\n    </g>\n   </g>\n   <g id=\"matplotlib.axis_4\">\n    <g id=\"ytick_10\">\n     <g id=\"line2d_52\"/>\n    </g>\n   </g>\n   <g id=\"patch_134\">\n    <path clip-path=\"url(#p495451eef5)\" d=\"M 489.605644 50.688 \nL 489.605644 398.592 \nL 500.437585 398.592 \nL 500.437585 50.688 \nL 489.605644 50.688 \nz\n\" style=\"fill:#5875a4;stroke:#4c4c4c;stroke-linejoin:miter;stroke-width:1.75;\"/>\n   </g>\n   <g id=\"line2d_53\">\n    <path clip-path=\"url(#p495451eef5)\" d=\"M 489.605644 224.64 \nL 489.576306 224.64 \n\" style=\"fill:none;stroke:#4c4c4c;stroke-linecap:round;stroke-width:1.75;\"/>\n   </g>\n   <g id=\"line2d_54\">\n    <path clip-path=\"url(#p495451eef5)\" d=\"M 500.437585 224.64 \nL 516.225232 224.64 \n\" style=\"fill:none;stroke:#4c4c4c;stroke-linecap:round;stroke-width:1.75;\"/>\n   </g>\n   <g id=\"line2d_55\">\n    <path clip-path=\"url(#p495451eef5)\" d=\"M 489.576306 137.664 \nL 489.576306 311.616 \n\" style=\"fill:none;stroke:#4c4c4c;stroke-linecap:round;stroke-width:1.75;\"/>\n   </g>\n   <g id=\"line2d_56\">\n    <path clip-path=\"url(#p495451eef5)\" d=\"M 516.225232 137.664 \nL 516.225232 311.616 \n\" style=\"fill:none;stroke:#4c4c4c;stroke-linecap:round;stroke-width:1.75;\"/>\n   </g>\n   <g id=\"line2d_57\">\n    <defs>\n     <path d=\"M -0 3.535534 \nL 2.12132 0 \nL -0 -3.535534 \nL -2.12132 -0 \nz\n\" id=\"me7e337d6c3\" style=\"stroke:#4c4c4c;stroke-linejoin:miter;\"/>\n    </defs>\n    <g clip-path=\"url(#p495451eef5)\">\n     <use style=\"fill:#4c4c4c;stroke:#4c4c4c;stroke-linejoin:miter;\" x=\"649.648573\" xlink:href=\"#me7e337d6c3\" y=\"224.64\"/>\n     <use style=\"fill:#4c4c4c;stroke:#4c4c4c;stroke-linejoin:miter;\" x=\"647.081578\" xlink:href=\"#me7e337d6c3\" y=\"224.64\"/>\n     <use style=\"fill:#4c4c4c;stroke:#4c4c4c;stroke-linejoin:miter;\" x=\"658.27661\" xlink:href=\"#me7e337d6c3\" y=\"224.64\"/>\n     <use style=\"fill:#4c4c4c;stroke:#4c4c4c;stroke-linejoin:miter;\" x=\"526.34533\" xlink:href=\"#me7e337d6c3\" y=\"224.64\"/>\n     <use style=\"fill:#4c4c4c;stroke:#4c4c4c;stroke-linejoin:miter;\" x=\"557.688329\" xlink:href=\"#me7e337d6c3\" y=\"224.64\"/>\n     <use style=\"fill:#4c4c4c;stroke:#4c4c4c;stroke-linejoin:miter;\" x=\"528.64607\" xlink:href=\"#me7e337d6c3\" y=\"224.64\"/>\n     <use style=\"fill:#4c4c4c;stroke:#4c4c4c;stroke-linejoin:miter;\" x=\"551.20672\" xlink:href=\"#me7e337d6c3\" y=\"224.64\"/>\n     <use style=\"fill:#4c4c4c;stroke:#4c4c4c;stroke-linejoin:miter;\" x=\"556.829834\" xlink:href=\"#me7e337d6c3\" y=\"224.64\"/>\n     <use style=\"fill:#4c4c4c;stroke:#4c4c4c;stroke-linejoin:miter;\" x=\"519.245839\" xlink:href=\"#me7e337d6c3\" y=\"224.64\"/>\n     <use style=\"fill:#4c4c4c;stroke:#4c4c4c;stroke-linejoin:miter;\" x=\"543.73951\" xlink:href=\"#me7e337d6c3\" y=\"224.64\"/>\n     <use style=\"fill:#4c4c4c;stroke:#4c4c4c;stroke-linejoin:miter;\" x=\"629.418336\" xlink:href=\"#me7e337d6c3\" y=\"224.64\"/>\n     <use style=\"fill:#4c4c4c;stroke:#4c4c4c;stroke-linejoin:miter;\" x=\"516.924027\" xlink:href=\"#me7e337d6c3\" y=\"224.64\"/>\n     <use style=\"fill:#4c4c4c;stroke:#4c4c4c;stroke-linejoin:miter;\" x=\"545.611128\" xlink:href=\"#me7e337d6c3\" y=\"224.64\"/>\n     <use style=\"fill:#4c4c4c;stroke:#4c4c4c;stroke-linejoin:miter;\" x=\"522.212919\" xlink:href=\"#me7e337d6c3\" y=\"224.64\"/>\n     <use style=\"fill:#4c4c4c;stroke:#4c4c4c;stroke-linejoin:miter;\" x=\"524.569971\" xlink:href=\"#me7e337d6c3\" y=\"224.64\"/>\n     <use style=\"fill:#4c4c4c;stroke:#4c4c4c;stroke-linejoin:miter;\" x=\"556.652776\" xlink:href=\"#me7e337d6c3\" y=\"224.64\"/>\n     <use style=\"fill:#4c4c4c;stroke:#4c4c4c;stroke-linejoin:miter;\" x=\"696.347465\" xlink:href=\"#me7e337d6c3\" y=\"224.64\"/>\n     <use style=\"fill:#4c4c4c;stroke:#4c4c4c;stroke-linejoin:miter;\" x=\"520.057438\" xlink:href=\"#me7e337d6c3\" y=\"224.64\"/>\n     <use style=\"fill:#4c4c4c;stroke:#4c4c4c;stroke-linejoin:miter;\" x=\"596.405425\" xlink:href=\"#me7e337d6c3\" y=\"224.64\"/>\n     <use style=\"fill:#4c4c4c;stroke:#4c4c4c;stroke-linejoin:miter;\" x=\"532.400848\" xlink:href=\"#me7e337d6c3\" y=\"224.64\"/>\n     <use style=\"fill:#4c4c4c;stroke:#4c4c4c;stroke-linejoin:miter;\" x=\"547.100519\" xlink:href=\"#me7e337d6c3\" y=\"224.64\"/>\n     <use style=\"fill:#4c4c4c;stroke:#4c4c4c;stroke-linejoin:miter;\" x=\"747.024523\" xlink:href=\"#me7e337d6c3\" y=\"224.64\"/>\n     <use style=\"fill:#4c4c4c;stroke:#4c4c4c;stroke-linejoin:miter;\" x=\"576.706657\" xlink:href=\"#me7e337d6c3\" y=\"224.64\"/>\n     <use style=\"fill:#4c4c4c;stroke:#4c4c4c;stroke-linejoin:miter;\" x=\"597.903937\" xlink:href=\"#me7e337d6c3\" y=\"224.64\"/>\n     <use style=\"fill:#4c4c4c;stroke:#4c4c4c;stroke-linejoin:miter;\" x=\"556.234042\" xlink:href=\"#me7e337d6c3\" y=\"224.64\"/>\n     <use style=\"fill:#4c4c4c;stroke:#4c4c4c;stroke-linejoin:miter;\" x=\"540.331131\" xlink:href=\"#me7e337d6c3\" y=\"224.64\"/>\n     <use style=\"fill:#4c4c4c;stroke:#4c4c4c;stroke-linejoin:miter;\" x=\"531.851408\" xlink:href=\"#me7e337d6c3\" y=\"224.64\"/>\n     <use style=\"fill:#4c4c4c;stroke:#4c4c4c;stroke-linejoin:miter;\" x=\"577.211804\" xlink:href=\"#me7e337d6c3\" y=\"224.64\"/>\n     <use style=\"fill:#4c4c4c;stroke:#4c4c4c;stroke-linejoin:miter;\" x=\"517.071798\" xlink:href=\"#me7e337d6c3\" y=\"224.64\"/>\n     <use style=\"fill:#4c4c4c;stroke:#4c4c4c;stroke-linejoin:miter;\" x=\"567.891445\" xlink:href=\"#me7e337d6c3\" y=\"224.64\"/>\n     <use style=\"fill:#4c4c4c;stroke:#4c4c4c;stroke-linejoin:miter;\" x=\"539.194182\" xlink:href=\"#me7e337d6c3\" y=\"224.64\"/>\n     <use style=\"fill:#4c4c4c;stroke:#4c4c4c;stroke-linejoin:miter;\" x=\"540.898519\" xlink:href=\"#me7e337d6c3\" y=\"224.64\"/>\n     <use style=\"fill:#4c4c4c;stroke:#4c4c4c;stroke-linejoin:miter;\" x=\"565.40405\" xlink:href=\"#me7e337d6c3\" y=\"224.64\"/>\n     <use style=\"fill:#4c4c4c;stroke:#4c4c4c;stroke-linejoin:miter;\" x=\"537.799284\" xlink:href=\"#me7e337d6c3\" y=\"224.64\"/>\n     <use style=\"fill:#4c4c4c;stroke:#4c4c4c;stroke-linejoin:miter;\" x=\"531.554055\" xlink:href=\"#me7e337d6c3\" y=\"224.64\"/>\n     <use style=\"fill:#4c4c4c;stroke:#4c4c4c;stroke-linejoin:miter;\" x=\"521.779587\" xlink:href=\"#me7e337d6c3\" y=\"224.64\"/>\n     <use style=\"fill:#4c4c4c;stroke:#4c4c4c;stroke-linejoin:miter;\" x=\"517.058173\" xlink:href=\"#me7e337d6c3\" y=\"224.64\"/>\n     <use style=\"fill:#4c4c4c;stroke:#4c4c4c;stroke-linejoin:miter;\" x=\"526.907399\" xlink:href=\"#me7e337d6c3\" y=\"224.64\"/>\n     <use style=\"fill:#4c4c4c;stroke:#4c4c4c;stroke-linejoin:miter;\" x=\"598.264029\" xlink:href=\"#me7e337d6c3\" y=\"224.64\"/>\n     <use style=\"fill:#4c4c4c;stroke:#4c4c4c;stroke-linejoin:miter;\" x=\"560.142951\" xlink:href=\"#me7e337d6c3\" y=\"224.64\"/>\n     <use style=\"fill:#4c4c4c;stroke:#4c4c4c;stroke-linejoin:miter;\" x=\"534.39086\" xlink:href=\"#me7e337d6c3\" y=\"224.64\"/>\n     <use style=\"fill:#4c4c4c;stroke:#4c4c4c;stroke-linejoin:miter;\" x=\"606.838448\" xlink:href=\"#me7e337d6c3\" y=\"224.64\"/>\n     <use style=\"fill:#4c4c4c;stroke:#4c4c4c;stroke-linejoin:miter;\" x=\"550.341459\" xlink:href=\"#me7e337d6c3\" y=\"224.64\"/>\n     <use style=\"fill:#4c4c4c;stroke:#4c4c4c;stroke-linejoin:miter;\" x=\"658.92086\" xlink:href=\"#me7e337d6c3\" y=\"224.64\"/>\n     <use style=\"fill:#4c4c4c;stroke:#4c4c4c;stroke-linejoin:miter;\" x=\"665.202234\" xlink:href=\"#me7e337d6c3\" y=\"224.64\"/>\n     <use style=\"fill:#4c4c4c;stroke:#4c4c4c;stroke-linejoin:miter;\" x=\"612.7691\" xlink:href=\"#me7e337d6c3\" y=\"224.64\"/>\n     <use style=\"fill:#4c4c4c;stroke:#4c4c4c;stroke-linejoin:miter;\" x=\"528.400343\" xlink:href=\"#me7e337d6c3\" y=\"224.64\"/>\n     <use style=\"fill:#4c4c4c;stroke:#4c4c4c;stroke-linejoin:miter;\" x=\"525.715882\" xlink:href=\"#me7e337d6c3\" y=\"224.64\"/>\n     <use style=\"fill:#4c4c4c;stroke:#4c4c4c;stroke-linejoin:miter;\" x=\"783.440245\" xlink:href=\"#me7e337d6c3\" y=\"224.64\"/>\n     <use style=\"fill:#4c4c4c;stroke:#4c4c4c;stroke-linejoin:miter;\" x=\"812.386223\" xlink:href=\"#me7e337d6c3\" y=\"224.64\"/>\n     <use style=\"fill:#4c4c4c;stroke:#4c4c4c;stroke-linejoin:miter;\" x=\"536.762668\" xlink:href=\"#me7e337d6c3\" y=\"224.64\"/>\n     <use style=\"fill:#4c4c4c;stroke:#4c4c4c;stroke-linejoin:miter;\" x=\"539.432101\" xlink:href=\"#me7e337d6c3\" y=\"224.64\"/>\n     <use style=\"fill:#4c4c4c;stroke:#4c4c4c;stroke-linejoin:miter;\" x=\"523.686195\" xlink:href=\"#me7e337d6c3\" y=\"224.64\"/>\n     <use style=\"fill:#4c4c4c;stroke:#4c4c4c;stroke-linejoin:miter;\" x=\"526.833502\" xlink:href=\"#me7e337d6c3\" y=\"224.64\"/>\n     <use style=\"fill:#4c4c4c;stroke:#4c4c4c;stroke-linejoin:miter;\" x=\"582.676125\" xlink:href=\"#me7e337d6c3\" y=\"224.64\"/>\n     <use style=\"fill:#4c4c4c;stroke:#4c4c4c;stroke-linejoin:miter;\" x=\"557.927198\" xlink:href=\"#me7e337d6c3\" y=\"224.64\"/>\n     <use style=\"fill:#4c4c4c;stroke:#4c4c4c;stroke-linejoin:miter;\" x=\"528.450045\" xlink:href=\"#me7e337d6c3\" y=\"224.64\"/>\n     <use style=\"fill:#4c4c4c;stroke:#4c4c4c;stroke-linejoin:miter;\" x=\"527.510185\" xlink:href=\"#me7e337d6c3\" y=\"224.64\"/>\n     <use style=\"fill:#4c4c4c;stroke:#4c4c4c;stroke-linejoin:miter;\" x=\"580.456229\" xlink:href=\"#me7e337d6c3\" y=\"224.64\"/>\n     <use style=\"fill:#4c4c4c;stroke:#4c4c4c;stroke-linejoin:miter;\" x=\"531.960794\" xlink:href=\"#me7e337d6c3\" y=\"224.64\"/>\n     <use style=\"fill:#4c4c4c;stroke:#4c4c4c;stroke-linejoin:miter;\" x=\"529.061568\" xlink:href=\"#me7e337d6c3\" y=\"224.64\"/>\n     <use style=\"fill:#4c4c4c;stroke:#4c4c4c;stroke-linejoin:miter;\" x=\"570.304852\" xlink:href=\"#me7e337d6c3\" y=\"224.64\"/>\n     <use style=\"fill:#4c4c4c;stroke:#4c4c4c;stroke-linejoin:miter;\" x=\"519.656991\" xlink:href=\"#me7e337d6c3\" y=\"224.64\"/>\n     <use style=\"fill:#4c4c4c;stroke:#4c4c4c;stroke-linejoin:miter;\" x=\"530.702102\" xlink:href=\"#me7e337d6c3\" y=\"224.64\"/>\n     <use style=\"fill:#4c4c4c;stroke:#4c4c4c;stroke-linejoin:miter;\" x=\"557.14853\" xlink:href=\"#me7e337d6c3\" y=\"224.64\"/>\n     <use style=\"fill:#4c4c4c;stroke:#4c4c4c;stroke-linejoin:miter;\" x=\"549.003574\" xlink:href=\"#me7e337d6c3\" y=\"224.64\"/>\n     <use style=\"fill:#4c4c4c;stroke:#4c4c4c;stroke-linejoin:miter;\" x=\"544.674979\" xlink:href=\"#me7e337d6c3\" y=\"224.64\"/>\n     <use style=\"fill:#4c4c4c;stroke:#4c4c4c;stroke-linejoin:miter;\" x=\"768.496863\" xlink:href=\"#me7e337d6c3\" y=\"224.64\"/>\n     <use style=\"fill:#4c4c4c;stroke:#4c4c4c;stroke-linejoin:miter;\" x=\"531.794939\" xlink:href=\"#me7e337d6c3\" y=\"224.64\"/>\n     <use style=\"fill:#4c4c4c;stroke:#4c4c4c;stroke-linejoin:miter;\" x=\"591.783371\" xlink:href=\"#me7e337d6c3\" y=\"224.64\"/>\n     <use style=\"fill:#4c4c4c;stroke:#4c4c4c;stroke-linejoin:miter;\" x=\"614.245907\" xlink:href=\"#me7e337d6c3\" y=\"224.64\"/>\n     <use style=\"fill:#4c4c4c;stroke:#4c4c4c;stroke-linejoin:miter;\" x=\"685.572299\" xlink:href=\"#me7e337d6c3\" y=\"224.64\"/>\n     <use style=\"fill:#4c4c4c;stroke:#4c4c4c;stroke-linejoin:miter;\" x=\"540.738571\" xlink:href=\"#me7e337d6c3\" y=\"224.64\"/>\n     <use style=\"fill:#4c4c4c;stroke:#4c4c4c;stroke-linejoin:miter;\" x=\"538.037158\" xlink:href=\"#me7e337d6c3\" y=\"224.64\"/>\n     <use style=\"fill:#4c4c4c;stroke:#4c4c4c;stroke-linejoin:miter;\" x=\"567.667219\" xlink:href=\"#me7e337d6c3\" y=\"224.64\"/>\n     <use style=\"fill:#4c4c4c;stroke:#4c4c4c;stroke-linejoin:miter;\" x=\"536.152752\" xlink:href=\"#me7e337d6c3\" y=\"224.64\"/>\n     <use style=\"fill:#4c4c4c;stroke:#4c4c4c;stroke-linejoin:miter;\" x=\"529.472312\" xlink:href=\"#me7e337d6c3\" y=\"224.64\"/>\n     <use style=\"fill:#4c4c4c;stroke:#4c4c4c;stroke-linejoin:miter;\" x=\"516.779945\" xlink:href=\"#me7e337d6c3\" y=\"224.64\"/>\n     <use style=\"fill:#4c4c4c;stroke:#4c4c4c;stroke-linejoin:miter;\" x=\"544.730408\" xlink:href=\"#me7e337d6c3\" y=\"224.64\"/>\n     <use style=\"fill:#4c4c4c;stroke:#4c4c4c;stroke-linejoin:miter;\" x=\"701.203273\" xlink:href=\"#me7e337d6c3\" y=\"224.64\"/>\n     <use style=\"fill:#4c4c4c;stroke:#4c4c4c;stroke-linejoin:miter;\" x=\"777.166861\" xlink:href=\"#me7e337d6c3\" y=\"224.64\"/>\n     <use style=\"fill:#4c4c4c;stroke:#4c4c4c;stroke-linejoin:miter;\" x=\"685.719029\" xlink:href=\"#me7e337d6c3\" y=\"224.64\"/>\n     <use style=\"fill:#4c4c4c;stroke:#4c4c4c;stroke-linejoin:miter;\" x=\"593.665355\" xlink:href=\"#me7e337d6c3\" y=\"224.64\"/>\n     <use style=\"fill:#4c4c4c;stroke:#4c4c4c;stroke-linejoin:miter;\" x=\"516.94786\" xlink:href=\"#me7e337d6c3\" y=\"224.64\"/>\n     <use style=\"fill:#4c4c4c;stroke:#4c4c4c;stroke-linejoin:miter;\" x=\"516.759327\" xlink:href=\"#me7e337d6c3\" y=\"224.64\"/>\n     <use style=\"fill:#4c4c4c;stroke:#4c4c4c;stroke-linejoin:miter;\" x=\"779.538171\" xlink:href=\"#me7e337d6c3\" y=\"224.64\"/>\n     <use style=\"fill:#4c4c4c;stroke:#4c4c4c;stroke-linejoin:miter;\" x=\"542.056629\" xlink:href=\"#me7e337d6c3\" y=\"224.64\"/>\n     <use style=\"fill:#4c4c4c;stroke:#4c4c4c;stroke-linejoin:miter;\" x=\"520.897418\" xlink:href=\"#me7e337d6c3\" y=\"224.64\"/>\n     <use style=\"fill:#4c4c4c;stroke:#4c4c4c;stroke-linejoin:miter;\" x=\"529.301388\" xlink:href=\"#me7e337d6c3\" y=\"224.64\"/>\n     <use style=\"fill:#4c4c4c;stroke:#4c4c4c;stroke-linejoin:miter;\" x=\"616.414311\" xlink:href=\"#me7e337d6c3\" y=\"224.64\"/>\n     <use style=\"fill:#4c4c4c;stroke:#4c4c4c;stroke-linejoin:miter;\" x=\"529.552705\" xlink:href=\"#me7e337d6c3\" y=\"224.64\"/>\n     <use style=\"fill:#4c4c4c;stroke:#4c4c4c;stroke-linejoin:miter;\" x=\"526.073303\" xlink:href=\"#me7e337d6c3\" y=\"224.64\"/>\n     <use style=\"fill:#4c4c4c;stroke:#4c4c4c;stroke-linejoin:miter;\" x=\"522.895464\" xlink:href=\"#me7e337d6c3\" y=\"224.64\"/>\n     <use style=\"fill:#4c4c4c;stroke:#4c4c4c;stroke-linejoin:miter;\" x=\"522.962096\" xlink:href=\"#me7e337d6c3\" y=\"224.64\"/>\n     <use style=\"fill:#4c4c4c;stroke:#4c4c4c;stroke-linejoin:miter;\" x=\"528.424515\" xlink:href=\"#me7e337d6c3\" y=\"224.64\"/>\n     <use style=\"fill:#4c4c4c;stroke:#4c4c4c;stroke-linejoin:miter;\" x=\"539.199818\" xlink:href=\"#me7e337d6c3\" y=\"224.64\"/>\n     <use style=\"fill:#4c4c4c;stroke:#4c4c4c;stroke-linejoin:miter;\" x=\"651.776782\" xlink:href=\"#me7e337d6c3\" y=\"224.64\"/>\n    </g>\n   </g>\n   <g id=\"line2d_58\">\n    <path clip-path=\"url(#p495451eef5)\" d=\"M 489.861256 50.688 \nL 489.861256 398.592 \n\" style=\"fill:none;stroke:#4c4c4c;stroke-linecap:round;stroke-width:1.75;\"/>\n   </g>\n   <g id=\"patch_135\">\n    <path d=\"M 473.43581 442.08 \nL 473.43581 7.2 \n\" style=\"fill:none;\"/>\n   </g>\n   <g id=\"patch_136\">\n    <path d=\"M 828.526719 442.08 \nL 828.526719 7.2 \n\" style=\"fill:none;\"/>\n   </g>\n   <g id=\"patch_137\">\n    <path d=\"M 473.43581 442.08 \nL 828.526719 442.08 \n\" style=\"fill:none;\"/>\n   </g>\n   <g id=\"patch_138\">\n    <path d=\"M 473.43581 7.2 \nL 828.526719 7.2 \n\" style=\"fill:none;\"/>\n   </g>\n  </g>\n </g>\n <defs>\n  <clipPath id=\"p5eeda9aa29\">\n   <rect height=\"434.88\" width=\"355.090909\" x=\"47.326719\" y=\"7.2\"/>\n  </clipPath>\n  <clipPath id=\"p495451eef5\">\n   <rect height=\"434.88\" width=\"355.090909\" x=\"473.43581\" y=\"7.2\"/>\n  </clipPath>\n </defs>\n</svg>\n"
          },
          "metadata": {
            "tags": []
          }
        }
      ]
    },
    {
      "cell_type": "code",
      "metadata": {
        "colab": {
          "base_uri": "https://localhost:8080/",
          "height": 206
        },
        "id": "ArSQYZVTlNkB",
        "outputId": "84621962-8028-44ee-ee9a-08d284bcc37f"
      },
      "source": [
        "train.sample(5)"
      ],
      "execution_count": 44,
      "outputs": [
        {
          "output_type": "execute_result",
          "data": {
            "text/html": [
              "<div>\n",
              "<style scoped>\n",
              "    .dataframe tbody tr th:only-of-type {\n",
              "        vertical-align: middle;\n",
              "    }\n",
              "\n",
              "    .dataframe tbody tr th {\n",
              "        vertical-align: top;\n",
              "    }\n",
              "\n",
              "    .dataframe thead th {\n",
              "        text-align: right;\n",
              "    }\n",
              "</style>\n",
              "<table border=\"1\" class=\"dataframe\">\n",
              "  <thead>\n",
              "    <tr style=\"text-align: right;\">\n",
              "      <th></th>\n",
              "      <th>title</th>\n",
              "      <th>distributor</th>\n",
              "      <th>genre</th>\n",
              "      <th>release_time</th>\n",
              "      <th>time</th>\n",
              "      <th>screening_rat</th>\n",
              "      <th>director</th>\n",
              "      <th>dir_prev_bfnum</th>\n",
              "      <th>dir_prev_num</th>\n",
              "      <th>num_staff</th>\n",
              "      <th>num_actor</th>\n",
              "      <th>box_off_num</th>\n",
              "    </tr>\n",
              "  </thead>\n",
              "  <tbody>\n",
              "    <tr>\n",
              "      <th>533</th>\n",
              "      <td>홈 스위트 홈</td>\n",
              "      <td>머스트 씨 무비</td>\n",
              "      <td>애니메이션</td>\n",
              "      <td>2014-07-17</td>\n",
              "      <td>67</td>\n",
              "      <td>12세 관람가</td>\n",
              "      <td>안도 마사히로</td>\n",
              "      <td>NaN</td>\n",
              "      <td>0</td>\n",
              "      <td>8</td>\n",
              "      <td>3</td>\n",
              "      <td>2329</td>\n",
              "    </tr>\n",
              "    <tr>\n",
              "      <th>227</th>\n",
              "      <td>나를 닮은 얼굴</td>\n",
              "      <td>영화사 진진</td>\n",
              "      <td>다큐멘터리</td>\n",
              "      <td>2010-09-30</td>\n",
              "      <td>75</td>\n",
              "      <td>전체 관람가</td>\n",
              "      <td>태미 추</td>\n",
              "      <td>NaN</td>\n",
              "      <td>0</td>\n",
              "      <td>3</td>\n",
              "      <td>2</td>\n",
              "      <td>893</td>\n",
              "    </tr>\n",
              "    <tr>\n",
              "      <th>202</th>\n",
              "      <td>사랑해! 진영아</td>\n",
              "      <td>인디스토리</td>\n",
              "      <td>드라마</td>\n",
              "      <td>2013-11-07</td>\n",
              "      <td>102</td>\n",
              "      <td>15세 관람가</td>\n",
              "      <td>이성은</td>\n",
              "      <td>7.0</td>\n",
              "      <td>1</td>\n",
              "      <td>112</td>\n",
              "      <td>5</td>\n",
              "      <td>4941</td>\n",
              "    </tr>\n",
              "    <tr>\n",
              "      <th>16</th>\n",
              "      <td>써니</td>\n",
              "      <td>CJ E&amp;M Pictures</td>\n",
              "      <td>코미디</td>\n",
              "      <td>2011-05-04</td>\n",
              "      <td>124</td>\n",
              "      <td>15세 관람가</td>\n",
              "      <td>강형철</td>\n",
              "      <td>8223342.0</td>\n",
              "      <td>1</td>\n",
              "      <td>572</td>\n",
              "      <td>11</td>\n",
              "      <td>7453715</td>\n",
              "    </tr>\n",
              "    <tr>\n",
              "      <th>256</th>\n",
              "      <td>태아 3D</td>\n",
              "      <td>(주)팝엔터테인먼트</td>\n",
              "      <td>다큐멘터리</td>\n",
              "      <td>2013-04-18</td>\n",
              "      <td>80</td>\n",
              "      <td>전체 관람가</td>\n",
              "      <td>표만석</td>\n",
              "      <td>NaN</td>\n",
              "      <td>0</td>\n",
              "      <td>15</td>\n",
              "      <td>2</td>\n",
              "      <td>712</td>\n",
              "    </tr>\n",
              "  </tbody>\n",
              "</table>\n",
              "</div>"
            ],
            "text/plain": [
              "        title      distributor  genre  ... num_staff  num_actor box_off_num\n",
              "533   홈 스위트 홈         머스트 씨 무비  애니메이션  ...         8          3        2329\n",
              "227  나를 닮은 얼굴           영화사 진진  다큐멘터리  ...         3          2         893\n",
              "202  사랑해! 진영아            인디스토리    드라마  ...       112          5        4941\n",
              "16         써니  CJ E&M Pictures    코미디  ...       572         11     7453715\n",
              "256     태아 3D       (주)팝엔터테인먼트  다큐멘터리  ...        15          2         712\n",
              "\n",
              "[5 rows x 12 columns]"
            ]
          },
          "metadata": {
            "tags": []
          },
          "execution_count": 44
        }
      ]
    },
    {
      "cell_type": "code",
      "metadata": {
        "colab": {
          "base_uri": "https://localhost:8080/"
        },
        "id": "QFBlJf4fmQbF",
        "outputId": "993b76d3-029a-4c26-af78-916bdb7c27d8"
      },
      "source": [
        "train['distributor'].value_counts()"
      ],
      "execution_count": 43,
      "outputs": [
        {
          "output_type": "execute_result",
          "data": {
            "text/plain": [
              "CJ 엔터테인먼트          54\n",
              "롯데엔터테인먼트           52\n",
              "(주)NEW             30\n",
              "(주)마운틴픽쳐스          29\n",
              "인디스토리              26\n",
              "                   ..\n",
              "전망좋은영화사             1\n",
              "씨네굿필름               1\n",
              "동국대학교 충무로영상제작센터     1\n",
              "판다미디어               1\n",
              "영희야놀자               1\n",
              "Name: distributor, Length: 169, dtype: int64"
            ]
          },
          "metadata": {
            "tags": []
          },
          "execution_count": 43
        }
      ]
    },
    {
      "cell_type": "code",
      "metadata": {
        "colab": {
          "base_uri": "https://localhost:8080/"
        },
        "id": "qbylwxMcmTBB",
        "outputId": "acc5f3ad-24f3-4787-8c89-28a9a928dd31"
      },
      "source": [
        "train['genre'].value_counts()"
      ],
      "execution_count": 45,
      "outputs": [
        {
          "output_type": "execute_result",
          "data": {
            "text/plain": [
              "드라마       221\n",
              "다큐멘터리      93\n",
              "멜로/로맨스     78\n",
              "코미디        53\n",
              "공포         42\n",
              "액션         28\n",
              "느와르        27\n",
              "애니메이션      21\n",
              "미스터리       17\n",
              "SF         13\n",
              "뮤지컬         5\n",
              "서스펜스        2\n",
              "Name: genre, dtype: int64"
            ]
          },
          "metadata": {
            "tags": []
          },
          "execution_count": 45
        }
      ]
    },
    {
      "cell_type": "code",
      "metadata": {
        "colab": {
          "base_uri": "https://localhost:8080/"
        },
        "id": "kYLkr5FbmlHP",
        "outputId": "8f98e586-c2d0-4534-f5d2-7a5341d5c07c"
      },
      "source": [
        "train['screening_rat'].value_counts()"
      ],
      "execution_count": 47,
      "outputs": [
        {
          "output_type": "execute_result",
          "data": {
            "text/plain": [
              "청소년 관람불가    204\n",
              "15세 관람가     202\n",
              "12세 관람가     102\n",
              "전체 관람가       92\n",
              "Name: screening_rat, dtype: int64"
            ]
          },
          "metadata": {
            "tags": []
          },
          "execution_count": 47
        }
      ]
    },
    {
      "cell_type": "markdown",
      "metadata": {
        "id": "N_qA_7rkneyL"
      },
      "source": [
        "# Feature Engineering"
      ]
    },
    {
      "cell_type": "code",
      "metadata": {
        "colab": {
          "base_uri": "https://localhost:8080/"
        },
        "id": "5ojFm3fhEmfT",
        "outputId": "b7e1c7cf-4361-462f-a2a7-1582aa08e688"
      },
      "source": [
        ""
      ],
      "execution_count": 432,
      "outputs": [
        {
          "output_type": "execute_result",
          "data": {
            "text/plain": [
              "0       2.197802\n",
              "1       0.775194\n",
              "2       1.166181\n",
              "3      30.000000\n",
              "4       0.796813\n",
              "         ...    \n",
              "595     1.372549\n",
              "596     2.097902\n",
              "597     3.252033\n",
              "598     0.928074\n",
              "599     1.377410\n",
              "Length: 600, dtype: float64"
            ]
          },
          "metadata": {
            "tags": []
          },
          "execution_count": 432
        }
      ]
    },
    {
      "cell_type": "code",
      "metadata": {
        "id": "rz6iWbkBBKDE"
      },
      "source": [
        "#스태프별 주연비율\n",
        "train['actor_rat'] = train['num_actor'] / train[\"num_staff\"].round() * 100\n",
        "test['actor_rat'] = test['num_actor'] / test[\"num_staff\"].round() * 100\n",
        "\n",
        "train.loc[train['actor_rat'].isnull(), 'actor_rat'] = 0"
      ],
      "execution_count": 433,
      "outputs": []
    },
    {
      "cell_type": "code",
      "metadata": {
        "colab": {
          "base_uri": "https://localhost:8080/"
        },
        "id": "YlJQc2rrCNL9",
        "outputId": "e23cc7f8-10d6-4858-dfe5-d412990a95b6"
      },
      "source": [
        "train.isnull().sum()"
      ],
      "execution_count": 381,
      "outputs": [
        {
          "output_type": "execute_result",
          "data": {
            "text/plain": [
              "title               0\n",
              "distributor         0\n",
              "genre               0\n",
              "release_time        0\n",
              "time                0\n",
              "screening_rat       0\n",
              "director            0\n",
              "dir_prev_bfnum    330\n",
              "dir_prev_num        0\n",
              "num_staff           0\n",
              "num_actor           0\n",
              "box_off_num         0\n",
              "actor_rat           0\n",
              "dtype: int64"
            ]
          },
          "metadata": {
            "tags": []
          },
          "execution_count": 381
        }
      ]
    },
    {
      "cell_type": "code",
      "metadata": {
        "colab": {
          "base_uri": "https://localhost:8080/"
        },
        "id": "cYV0YpYeCP6i",
        "outputId": "3cf34c31-b617-4966-ca78-8fda9ea949e0"
      },
      "source": [
        "test.isnull().sum()"
      ],
      "execution_count": 382,
      "outputs": [
        {
          "output_type": "execute_result",
          "data": {
            "text/plain": [
              "title               0\n",
              "distributor         0\n",
              "genre               0\n",
              "release_time        0\n",
              "time                0\n",
              "screening_rat       0\n",
              "director            0\n",
              "dir_prev_bfnum    136\n",
              "dir_prev_num        0\n",
              "num_staff           0\n",
              "num_actor           0\n",
              "actor_rat           0\n",
              "dtype: int64"
            ]
          },
          "metadata": {
            "tags": []
          },
          "execution_count": 382
        }
      ]
    },
    {
      "cell_type": "code",
      "metadata": {
        "id": "JIF4uixutZ5u"
      },
      "source": [
        "# train['distributor'].unique()"
      ],
      "execution_count": 313,
      "outputs": []
    },
    {
      "cell_type": "code",
      "metadata": {
        "id": "Ds3xPN_2vGqx"
      },
      "source": [
        "# train['distributor'].nunique()"
      ],
      "execution_count": 314,
      "outputs": []
    },
    {
      "cell_type": "code",
      "metadata": {
        "id": "dGaQBXsxrHpH"
      },
      "source": [
        "# #(주) 제거\n",
        "# train['distributor'] = train['distributor'].str.replace('\\\\(',\"\").str.replace('주',\"\").str.replace(\"\\\\)\",\"\")\n",
        "# test['distributor'] = test['distributor'].str.replace('\\\\(',\"\").str.replace('주',\"\").str.replace(\"\\\\)\",\"\")\n",
        "# #공백 제거\n",
        "# train['distributor'] = train['distributor'].str.replace(\" \",\"\")\n",
        "# test['distributor'] = test['distributor'].str.replace(\" \",\"\")"
      ],
      "execution_count": 315,
      "outputs": []
    },
    {
      "cell_type": "code",
      "metadata": {
        "id": "12qVaQM7ng-7"
      },
      "source": [
        "# # distributor 중복제거\n",
        "# distributor_names = train['distributor'].unique()\n",
        "# distributor_names\n",
        "# showbox = []\n",
        "# CJ = []\n",
        "# mountain = []\n",
        "# for name in distributor_names:\n",
        "#   if \"쇼박스\" in name:\n",
        "#     showbox.append(name)\n",
        "#   if \"CJ\" in name or \"CGV\" in name:\n",
        "#     CJ.append(name)\n",
        "#   if \"마운틴\" in name:\n",
        "#     if \"더픽쳐스/마운틴픽쳐스\" == name:\n",
        "#       continue\n",
        "#     else:\n",
        "#       mountain.append(name)\n",
        "#   if \"THE\" in name:\n",
        "#     train.loc[train['distributor'] == name, \"distributor\"] = \"더픽쳐스\"\n",
        "\n",
        "# for name in showbox:\n",
        "#   train.loc[train['distributor'] == name, \"distributor\"] = \"쇼박스\"\n",
        "\n",
        "# for name in CJ:\n",
        "#   train.loc[train['distributor'] == name, \"distributor\"] = \"CJ\"\n",
        "\n",
        "# for name in mountain:\n",
        "#   train.loc[train['distributor'] == name, \"distributor\"] = \"마운틴\""
      ],
      "execution_count": 316,
      "outputs": []
    },
    {
      "cell_type": "code",
      "metadata": {
        "id": "XNluyHOhuf4A"
      },
      "source": [
        "# train['distributor'].nunique()"
      ],
      "execution_count": 317,
      "outputs": []
    },
    {
      "cell_type": "code",
      "metadata": {
        "id": "276u1qfzvLKy"
      },
      "source": [
        "# train['distributor'].unique()"
      ],
      "execution_count": 318,
      "outputs": []
    },
    {
      "cell_type": "code",
      "metadata": {
        "id": "UuXP70fgpTdr"
      },
      "source": [
        "#year\n",
        "train['year'] = train['release_time'].astype(np.datetime64).dt.year\n",
        "test['year'] = test['release_time'].astype(np.datetime64).dt.year\n",
        "#month\n",
        "train['month'] = train['release_time'].astype(np.datetime64).dt.month\n",
        "test['month'] = test['release_time'].astype(np.datetime64).dt.month"
      ],
      "execution_count": 434,
      "outputs": []
    },
    {
      "cell_type": "code",
      "metadata": {
        "id": "K9fPuUm0whim"
      },
      "source": [
        "train.loc[(train['dir_prev_bfnum'].isnull()) & (train['dir_prev_num'] == 0), \"dir_prev_bfnum\"] = 0\n",
        "test.loc[(test['dir_prev_bfnum'].isnull()) & (test['dir_prev_num'] == 0), \"dir_prev_bfnum\"] = 0"
      ],
      "execution_count": 435,
      "outputs": []
    },
    {
      "cell_type": "code",
      "metadata": {
        "colab": {
          "base_uri": "https://localhost:8080/"
        },
        "id": "quw6gjvPw4ns",
        "outputId": "12dad3f7-a726-4517-9225-60f92b124821"
      },
      "source": [
        "train.isnull().sum()"
      ],
      "execution_count": 436,
      "outputs": [
        {
          "output_type": "execute_result",
          "data": {
            "text/plain": [
              "title             0\n",
              "distributor       0\n",
              "genre             0\n",
              "release_time      0\n",
              "time              0\n",
              "screening_rat     0\n",
              "director          0\n",
              "dir_prev_bfnum    0\n",
              "dir_prev_num      0\n",
              "num_staff         0\n",
              "num_actor         0\n",
              "box_off_num       0\n",
              "actor_rat         0\n",
              "year              0\n",
              "month             0\n",
              "dtype: int64"
            ]
          },
          "metadata": {
            "tags": []
          },
          "execution_count": 436
        }
      ]
    },
    {
      "cell_type": "code",
      "metadata": {
        "colab": {
          "base_uri": "https://localhost:8080/"
        },
        "id": "qMj8b-5qxOFK",
        "outputId": "0c2ff9eb-077e-46b1-f7fe-58aa8f458817"
      },
      "source": [
        " test.isnull().sum()"
      ],
      "execution_count": 386,
      "outputs": [
        {
          "output_type": "execute_result",
          "data": {
            "text/plain": [
              "title             0\n",
              "distributor       0\n",
              "genre             0\n",
              "release_time      0\n",
              "time              0\n",
              "screening_rat     0\n",
              "director          0\n",
              "dir_prev_bfnum    0\n",
              "dir_prev_num      0\n",
              "num_staff         0\n",
              "num_actor         0\n",
              "actor_rat         0\n",
              "year              0\n",
              "month             0\n",
              "dtype: int64"
            ]
          },
          "metadata": {
            "tags": []
          },
          "execution_count": 386
        }
      ]
    },
    {
      "cell_type": "code",
      "metadata": {
        "id": "3BSRB7jBy6hY"
      },
      "source": [
        "#drop\n",
        "drop_columns = ['title', 'release_time',\"director\",\"distributor\"]\n",
        "train = train.drop(drop_columns, axis=1)\n",
        "test = test.drop(drop_columns, axis=1)"
      ],
      "execution_count": 437,
      "outputs": []
    },
    {
      "cell_type": "code",
      "metadata": {
        "colab": {
          "base_uri": "https://localhost:8080/",
          "height": 206
        },
        "id": "tq_wcaYWzOX_",
        "outputId": "9ded7ff7-6ae4-4922-bc3a-dd2aad0fb395"
      },
      "source": [
        "train.head()"
      ],
      "execution_count": 438,
      "outputs": [
        {
          "output_type": "execute_result",
          "data": {
            "text/html": [
              "<div>\n",
              "<style scoped>\n",
              "    .dataframe tbody tr th:only-of-type {\n",
              "        vertical-align: middle;\n",
              "    }\n",
              "\n",
              "    .dataframe tbody tr th {\n",
              "        vertical-align: top;\n",
              "    }\n",
              "\n",
              "    .dataframe thead th {\n",
              "        text-align: right;\n",
              "    }\n",
              "</style>\n",
              "<table border=\"1\" class=\"dataframe\">\n",
              "  <thead>\n",
              "    <tr style=\"text-align: right;\">\n",
              "      <th></th>\n",
              "      <th>genre</th>\n",
              "      <th>time</th>\n",
              "      <th>screening_rat</th>\n",
              "      <th>dir_prev_bfnum</th>\n",
              "      <th>dir_prev_num</th>\n",
              "      <th>num_staff</th>\n",
              "      <th>num_actor</th>\n",
              "      <th>box_off_num</th>\n",
              "      <th>actor_rat</th>\n",
              "      <th>year</th>\n",
              "      <th>month</th>\n",
              "    </tr>\n",
              "  </thead>\n",
              "  <tbody>\n",
              "    <tr>\n",
              "      <th>0</th>\n",
              "      <td>액션</td>\n",
              "      <td>96</td>\n",
              "      <td>청소년 관람불가</td>\n",
              "      <td>0.00</td>\n",
              "      <td>0</td>\n",
              "      <td>91</td>\n",
              "      <td>2</td>\n",
              "      <td>23398</td>\n",
              "      <td>2.197802</td>\n",
              "      <td>2012</td>\n",
              "      <td>11</td>\n",
              "    </tr>\n",
              "    <tr>\n",
              "      <th>1</th>\n",
              "      <td>느와르</td>\n",
              "      <td>130</td>\n",
              "      <td>청소년 관람불가</td>\n",
              "      <td>1161602.50</td>\n",
              "      <td>2</td>\n",
              "      <td>387</td>\n",
              "      <td>3</td>\n",
              "      <td>7072501</td>\n",
              "      <td>0.775194</td>\n",
              "      <td>2015</td>\n",
              "      <td>11</td>\n",
              "    </tr>\n",
              "    <tr>\n",
              "      <th>2</th>\n",
              "      <td>액션</td>\n",
              "      <td>123</td>\n",
              "      <td>15세 관람가</td>\n",
              "      <td>220775.25</td>\n",
              "      <td>4</td>\n",
              "      <td>343</td>\n",
              "      <td>4</td>\n",
              "      <td>6959083</td>\n",
              "      <td>1.166181</td>\n",
              "      <td>2013</td>\n",
              "      <td>6</td>\n",
              "    </tr>\n",
              "    <tr>\n",
              "      <th>3</th>\n",
              "      <td>코미디</td>\n",
              "      <td>101</td>\n",
              "      <td>전체 관람가</td>\n",
              "      <td>23894.00</td>\n",
              "      <td>2</td>\n",
              "      <td>20</td>\n",
              "      <td>6</td>\n",
              "      <td>217866</td>\n",
              "      <td>30.000000</td>\n",
              "      <td>2012</td>\n",
              "      <td>7</td>\n",
              "    </tr>\n",
              "    <tr>\n",
              "      <th>4</th>\n",
              "      <td>코미디</td>\n",
              "      <td>108</td>\n",
              "      <td>15세 관람가</td>\n",
              "      <td>1.00</td>\n",
              "      <td>1</td>\n",
              "      <td>251</td>\n",
              "      <td>2</td>\n",
              "      <td>483387</td>\n",
              "      <td>0.796813</td>\n",
              "      <td>2010</td>\n",
              "      <td>11</td>\n",
              "    </tr>\n",
              "  </tbody>\n",
              "</table>\n",
              "</div>"
            ],
            "text/plain": [
              "  genre  time screening_rat  ...  actor_rat  year  month\n",
              "0    액션    96      청소년 관람불가  ...   2.197802  2012     11\n",
              "1   느와르   130      청소년 관람불가  ...   0.775194  2015     11\n",
              "2    액션   123       15세 관람가  ...   1.166181  2013      6\n",
              "3   코미디   101        전체 관람가  ...  30.000000  2012      7\n",
              "4   코미디   108       15세 관람가  ...   0.796813  2010     11\n",
              "\n",
              "[5 rows x 11 columns]"
            ]
          },
          "metadata": {
            "tags": []
          },
          "execution_count": 438
        }
      ]
    },
    {
      "cell_type": "code",
      "metadata": {
        "colab": {
          "base_uri": "https://localhost:8080/",
          "height": 206
        },
        "id": "HwXKQjKt3xy0",
        "outputId": "c0c5b026-eac1-4c9d-d522-db6dcedeb254"
      },
      "source": [
        "test.head()"
      ],
      "execution_count": 439,
      "outputs": [
        {
          "output_type": "execute_result",
          "data": {
            "text/html": [
              "<div>\n",
              "<style scoped>\n",
              "    .dataframe tbody tr th:only-of-type {\n",
              "        vertical-align: middle;\n",
              "    }\n",
              "\n",
              "    .dataframe tbody tr th {\n",
              "        vertical-align: top;\n",
              "    }\n",
              "\n",
              "    .dataframe thead th {\n",
              "        text-align: right;\n",
              "    }\n",
              "</style>\n",
              "<table border=\"1\" class=\"dataframe\">\n",
              "  <thead>\n",
              "    <tr style=\"text-align: right;\">\n",
              "      <th></th>\n",
              "      <th>genre</th>\n",
              "      <th>time</th>\n",
              "      <th>screening_rat</th>\n",
              "      <th>dir_prev_bfnum</th>\n",
              "      <th>dir_prev_num</th>\n",
              "      <th>num_staff</th>\n",
              "      <th>num_actor</th>\n",
              "      <th>actor_rat</th>\n",
              "      <th>year</th>\n",
              "      <th>month</th>\n",
              "    </tr>\n",
              "  </thead>\n",
              "  <tbody>\n",
              "    <tr>\n",
              "      <th>0</th>\n",
              "      <td>느와르</td>\n",
              "      <td>125</td>\n",
              "      <td>청소년 관람불가</td>\n",
              "      <td>3.005290e+05</td>\n",
              "      <td>2</td>\n",
              "      <td>304</td>\n",
              "      <td>3</td>\n",
              "      <td>0.986842</td>\n",
              "      <td>2010</td>\n",
              "      <td>1</td>\n",
              "    </tr>\n",
              "    <tr>\n",
              "      <th>1</th>\n",
              "      <td>멜로/로맨스</td>\n",
              "      <td>113</td>\n",
              "      <td>12세 관람가</td>\n",
              "      <td>3.427002e+05</td>\n",
              "      <td>4</td>\n",
              "      <td>275</td>\n",
              "      <td>3</td>\n",
              "      <td>1.090909</td>\n",
              "      <td>2010</td>\n",
              "      <td>1</td>\n",
              "    </tr>\n",
              "    <tr>\n",
              "      <th>2</th>\n",
              "      <td>드라마</td>\n",
              "      <td>115</td>\n",
              "      <td>12세 관람가</td>\n",
              "      <td>4.206611e+06</td>\n",
              "      <td>3</td>\n",
              "      <td>419</td>\n",
              "      <td>7</td>\n",
              "      <td>1.670644</td>\n",
              "      <td>2010</td>\n",
              "      <td>1</td>\n",
              "    </tr>\n",
              "    <tr>\n",
              "      <th>3</th>\n",
              "      <td>액션</td>\n",
              "      <td>116</td>\n",
              "      <td>15세 관람가</td>\n",
              "      <td>6.913420e+05</td>\n",
              "      <td>2</td>\n",
              "      <td>408</td>\n",
              "      <td>2</td>\n",
              "      <td>0.490196</td>\n",
              "      <td>2010</td>\n",
              "      <td>2</td>\n",
              "    </tr>\n",
              "    <tr>\n",
              "      <th>4</th>\n",
              "      <td>공포</td>\n",
              "      <td>110</td>\n",
              "      <td>15세 관람가</td>\n",
              "      <td>3.173800e+04</td>\n",
              "      <td>1</td>\n",
              "      <td>380</td>\n",
              "      <td>1</td>\n",
              "      <td>0.263158</td>\n",
              "      <td>2010</td>\n",
              "      <td>2</td>\n",
              "    </tr>\n",
              "  </tbody>\n",
              "</table>\n",
              "</div>"
            ],
            "text/plain": [
              "    genre  time screening_rat  ...  actor_rat  year  month\n",
              "0     느와르   125      청소년 관람불가  ...   0.986842  2010      1\n",
              "1  멜로/로맨스   113       12세 관람가  ...   1.090909  2010      1\n",
              "2     드라마   115       12세 관람가  ...   1.670644  2010      1\n",
              "3      액션   116       15세 관람가  ...   0.490196  2010      2\n",
              "4      공포   110       15세 관람가  ...   0.263158  2010      2\n",
              "\n",
              "[5 rows x 10 columns]"
            ]
          },
          "metadata": {
            "tags": []
          },
          "execution_count": 439
        }
      ]
    },
    {
      "cell_type": "code",
      "metadata": {
        "id": "rSPXR09q3yji"
      },
      "source": [
        "#label encoding\n",
        "from sklearn.preprocessing import LabelEncoder\n",
        "label_encoder = LabelEncoder()\n",
        "\n",
        "encoding_columns = [\"genre\",\"screening_rat\"]\n",
        "for column in encoding_columns:\n",
        "  train[column] = label_encoder.fit_transform(train[column])\n",
        "  test[column] = label_encoder.transform(test[column])"
      ],
      "execution_count": 440,
      "outputs": []
    },
    {
      "cell_type": "code",
      "metadata": {
        "colab": {
          "base_uri": "https://localhost:8080/",
          "height": 206
        },
        "id": "ZbHmNlez4VQE",
        "outputId": "a9054ec2-1460-4e19-f286-e35257b94e73"
      },
      "source": [
        "train.head()"
      ],
      "execution_count": 391,
      "outputs": [
        {
          "output_type": "execute_result",
          "data": {
            "text/html": [
              "<div>\n",
              "<style scoped>\n",
              "    .dataframe tbody tr th:only-of-type {\n",
              "        vertical-align: middle;\n",
              "    }\n",
              "\n",
              "    .dataframe tbody tr th {\n",
              "        vertical-align: top;\n",
              "    }\n",
              "\n",
              "    .dataframe thead th {\n",
              "        text-align: right;\n",
              "    }\n",
              "</style>\n",
              "<table border=\"1\" class=\"dataframe\">\n",
              "  <thead>\n",
              "    <tr style=\"text-align: right;\">\n",
              "      <th></th>\n",
              "      <th>genre</th>\n",
              "      <th>time</th>\n",
              "      <th>screening_rat</th>\n",
              "      <th>dir_prev_bfnum</th>\n",
              "      <th>dir_prev_num</th>\n",
              "      <th>num_staff</th>\n",
              "      <th>num_actor</th>\n",
              "      <th>box_off_num</th>\n",
              "      <th>actor_rat</th>\n",
              "      <th>year</th>\n",
              "      <th>month</th>\n",
              "    </tr>\n",
              "  </thead>\n",
              "  <tbody>\n",
              "    <tr>\n",
              "      <th>0</th>\n",
              "      <td>10</td>\n",
              "      <td>96</td>\n",
              "      <td>3</td>\n",
              "      <td>0.00</td>\n",
              "      <td>0</td>\n",
              "      <td>91</td>\n",
              "      <td>2</td>\n",
              "      <td>23398</td>\n",
              "      <td>2.2</td>\n",
              "      <td>2012</td>\n",
              "      <td>11</td>\n",
              "    </tr>\n",
              "    <tr>\n",
              "      <th>1</th>\n",
              "      <td>2</td>\n",
              "      <td>130</td>\n",
              "      <td>3</td>\n",
              "      <td>1161602.50</td>\n",
              "      <td>2</td>\n",
              "      <td>387</td>\n",
              "      <td>3</td>\n",
              "      <td>7072501</td>\n",
              "      <td>0.8</td>\n",
              "      <td>2015</td>\n",
              "      <td>11</td>\n",
              "    </tr>\n",
              "    <tr>\n",
              "      <th>2</th>\n",
              "      <td>10</td>\n",
              "      <td>123</td>\n",
              "      <td>1</td>\n",
              "      <td>220775.25</td>\n",
              "      <td>4</td>\n",
              "      <td>343</td>\n",
              "      <td>4</td>\n",
              "      <td>6959083</td>\n",
              "      <td>1.2</td>\n",
              "      <td>2013</td>\n",
              "      <td>6</td>\n",
              "    </tr>\n",
              "    <tr>\n",
              "      <th>3</th>\n",
              "      <td>11</td>\n",
              "      <td>101</td>\n",
              "      <td>2</td>\n",
              "      <td>23894.00</td>\n",
              "      <td>2</td>\n",
              "      <td>20</td>\n",
              "      <td>6</td>\n",
              "      <td>217866</td>\n",
              "      <td>30.0</td>\n",
              "      <td>2012</td>\n",
              "      <td>7</td>\n",
              "    </tr>\n",
              "    <tr>\n",
              "      <th>4</th>\n",
              "      <td>11</td>\n",
              "      <td>108</td>\n",
              "      <td>1</td>\n",
              "      <td>1.00</td>\n",
              "      <td>1</td>\n",
              "      <td>251</td>\n",
              "      <td>2</td>\n",
              "      <td>483387</td>\n",
              "      <td>0.8</td>\n",
              "      <td>2010</td>\n",
              "      <td>11</td>\n",
              "    </tr>\n",
              "  </tbody>\n",
              "</table>\n",
              "</div>"
            ],
            "text/plain": [
              "   genre  time  screening_rat  ...  actor_rat  year  month\n",
              "0     10    96              3  ...        2.2  2012     11\n",
              "1      2   130              3  ...        0.8  2015     11\n",
              "2     10   123              1  ...        1.2  2013      6\n",
              "3     11   101              2  ...       30.0  2012      7\n",
              "4     11   108              1  ...        0.8  2010     11\n",
              "\n",
              "[5 rows x 11 columns]"
            ]
          },
          "metadata": {
            "tags": []
          },
          "execution_count": 391
        }
      ]
    },
    {
      "cell_type": "code",
      "metadata": {
        "colab": {
          "base_uri": "https://localhost:8080/",
          "height": 206
        },
        "id": "J6rWkTHX4s8M",
        "outputId": "0d4e97e8-84e6-4596-bf96-acfbf41dda03"
      },
      "source": [
        "test.head()"
      ],
      "execution_count": 392,
      "outputs": [
        {
          "output_type": "execute_result",
          "data": {
            "text/html": [
              "<div>\n",
              "<style scoped>\n",
              "    .dataframe tbody tr th:only-of-type {\n",
              "        vertical-align: middle;\n",
              "    }\n",
              "\n",
              "    .dataframe tbody tr th {\n",
              "        vertical-align: top;\n",
              "    }\n",
              "\n",
              "    .dataframe thead th {\n",
              "        text-align: right;\n",
              "    }\n",
              "</style>\n",
              "<table border=\"1\" class=\"dataframe\">\n",
              "  <thead>\n",
              "    <tr style=\"text-align: right;\">\n",
              "      <th></th>\n",
              "      <th>genre</th>\n",
              "      <th>time</th>\n",
              "      <th>screening_rat</th>\n",
              "      <th>dir_prev_bfnum</th>\n",
              "      <th>dir_prev_num</th>\n",
              "      <th>num_staff</th>\n",
              "      <th>num_actor</th>\n",
              "      <th>actor_rat</th>\n",
              "      <th>year</th>\n",
              "      <th>month</th>\n",
              "    </tr>\n",
              "  </thead>\n",
              "  <tbody>\n",
              "    <tr>\n",
              "      <th>0</th>\n",
              "      <td>2</td>\n",
              "      <td>125</td>\n",
              "      <td>3</td>\n",
              "      <td>3.005290e+05</td>\n",
              "      <td>2</td>\n",
              "      <td>304</td>\n",
              "      <td>3</td>\n",
              "      <td>1.0</td>\n",
              "      <td>2010</td>\n",
              "      <td>1</td>\n",
              "    </tr>\n",
              "    <tr>\n",
              "      <th>1</th>\n",
              "      <td>5</td>\n",
              "      <td>113</td>\n",
              "      <td>0</td>\n",
              "      <td>3.427002e+05</td>\n",
              "      <td>4</td>\n",
              "      <td>275</td>\n",
              "      <td>3</td>\n",
              "      <td>1.1</td>\n",
              "      <td>2010</td>\n",
              "      <td>1</td>\n",
              "    </tr>\n",
              "    <tr>\n",
              "      <th>2</th>\n",
              "      <td>4</td>\n",
              "      <td>115</td>\n",
              "      <td>0</td>\n",
              "      <td>4.206611e+06</td>\n",
              "      <td>3</td>\n",
              "      <td>419</td>\n",
              "      <td>7</td>\n",
              "      <td>1.7</td>\n",
              "      <td>2010</td>\n",
              "      <td>1</td>\n",
              "    </tr>\n",
              "    <tr>\n",
              "      <th>3</th>\n",
              "      <td>10</td>\n",
              "      <td>116</td>\n",
              "      <td>1</td>\n",
              "      <td>6.913420e+05</td>\n",
              "      <td>2</td>\n",
              "      <td>408</td>\n",
              "      <td>2</td>\n",
              "      <td>0.5</td>\n",
              "      <td>2010</td>\n",
              "      <td>2</td>\n",
              "    </tr>\n",
              "    <tr>\n",
              "      <th>4</th>\n",
              "      <td>1</td>\n",
              "      <td>110</td>\n",
              "      <td>1</td>\n",
              "      <td>3.173800e+04</td>\n",
              "      <td>1</td>\n",
              "      <td>380</td>\n",
              "      <td>1</td>\n",
              "      <td>0.3</td>\n",
              "      <td>2010</td>\n",
              "      <td>2</td>\n",
              "    </tr>\n",
              "  </tbody>\n",
              "</table>\n",
              "</div>"
            ],
            "text/plain": [
              "   genre  time  screening_rat  ...  actor_rat  year  month\n",
              "0      2   125              3  ...        1.0  2010      1\n",
              "1      5   113              0  ...        1.1  2010      1\n",
              "2      4   115              0  ...        1.7  2010      1\n",
              "3     10   116              1  ...        0.5  2010      2\n",
              "4      1   110              1  ...        0.3  2010      2\n",
              "\n",
              "[5 rows x 10 columns]"
            ]
          },
          "metadata": {
            "tags": []
          },
          "execution_count": 392
        }
      ]
    },
    {
      "cell_type": "code",
      "metadata": {
        "colab": {
          "base_uri": "https://localhost:8080/"
        },
        "id": "4KDOW8w4DGuI",
        "outputId": "21931c55-667b-4377-c58c-3e0ec583d224"
      },
      "source": [
        "train.dtypes"
      ],
      "execution_count": 393,
      "outputs": [
        {
          "output_type": "execute_result",
          "data": {
            "text/plain": [
              "genre               int64\n",
              "time                int64\n",
              "screening_rat       int64\n",
              "dir_prev_bfnum    float64\n",
              "dir_prev_num        int64\n",
              "num_staff           int64\n",
              "num_actor           int64\n",
              "box_off_num         int64\n",
              "actor_rat         float64\n",
              "year                int64\n",
              "month               int64\n",
              "dtype: object"
            ]
          },
          "metadata": {
            "tags": []
          },
          "execution_count": 393
        }
      ]
    },
    {
      "cell_type": "code",
      "metadata": {
        "colab": {
          "base_uri": "https://localhost:8080/"
        },
        "id": "yRIm5xmzELXH",
        "outputId": "fc4b94a4-0c65-47f4-c747-fbd6971667f0"
      },
      "source": [
        ""
      ],
      "execution_count": 410,
      "outputs": [
        {
          "output_type": "execute_result",
          "data": {
            "text/plain": [
              "0            0.0\n",
              "1      1161602.0\n",
              "2       220775.0\n",
              "3        23894.0\n",
              "4            1.0\n",
              "         ...    \n",
              "595       3833.0\n",
              "596     496061.0\n",
              "597          0.0\n",
              "598          0.0\n",
              "599          0.0\n",
              "Name: dir_prev_bfnum, Length: 600, dtype: float64"
            ]
          },
          "metadata": {
            "tags": []
          },
          "execution_count": 410
        }
      ]
    },
    {
      "cell_type": "code",
      "metadata": {
        "id": "OzjxzjY1DIq4"
      },
      "source": [
        "dfs = [train, test]\n",
        "for df in dfs: \n",
        "  df['dir_prev_bfnum'] = np.round(df['dir_prev_bfnum'])\n",
        "  df['dir_prev_bfnum'] = np.round(df['dir_prev_bfnum'])"
      ],
      "execution_count": 411,
      "outputs": []
    },
    {
      "cell_type": "code",
      "metadata": {
        "colab": {
          "base_uri": "https://localhost:8080/",
          "height": 206
        },
        "id": "ZTxCswg4D8vC",
        "outputId": "d430533e-680b-425f-88dd-52cf77519343"
      },
      "source": [
        "train.head()"
      ],
      "execution_count": 412,
      "outputs": [
        {
          "output_type": "execute_result",
          "data": {
            "text/html": [
              "<div>\n",
              "<style scoped>\n",
              "    .dataframe tbody tr th:only-of-type {\n",
              "        vertical-align: middle;\n",
              "    }\n",
              "\n",
              "    .dataframe tbody tr th {\n",
              "        vertical-align: top;\n",
              "    }\n",
              "\n",
              "    .dataframe thead th {\n",
              "        text-align: right;\n",
              "    }\n",
              "</style>\n",
              "<table border=\"1\" class=\"dataframe\">\n",
              "  <thead>\n",
              "    <tr style=\"text-align: right;\">\n",
              "      <th></th>\n",
              "      <th>genre</th>\n",
              "      <th>time</th>\n",
              "      <th>screening_rat</th>\n",
              "      <th>dir_prev_bfnum</th>\n",
              "      <th>dir_prev_num</th>\n",
              "      <th>num_staff</th>\n",
              "      <th>num_actor</th>\n",
              "      <th>box_off_num</th>\n",
              "      <th>actor_rat</th>\n",
              "      <th>year</th>\n",
              "      <th>month</th>\n",
              "    </tr>\n",
              "  </thead>\n",
              "  <tbody>\n",
              "    <tr>\n",
              "      <th>0</th>\n",
              "      <td>10</td>\n",
              "      <td>96</td>\n",
              "      <td>3</td>\n",
              "      <td>0.0</td>\n",
              "      <td>0</td>\n",
              "      <td>91</td>\n",
              "      <td>2</td>\n",
              "      <td>23398</td>\n",
              "      <td>2.2</td>\n",
              "      <td>2012</td>\n",
              "      <td>11</td>\n",
              "    </tr>\n",
              "    <tr>\n",
              "      <th>1</th>\n",
              "      <td>2</td>\n",
              "      <td>130</td>\n",
              "      <td>3</td>\n",
              "      <td>1161602.0</td>\n",
              "      <td>2</td>\n",
              "      <td>387</td>\n",
              "      <td>3</td>\n",
              "      <td>7072501</td>\n",
              "      <td>0.8</td>\n",
              "      <td>2015</td>\n",
              "      <td>11</td>\n",
              "    </tr>\n",
              "    <tr>\n",
              "      <th>2</th>\n",
              "      <td>10</td>\n",
              "      <td>123</td>\n",
              "      <td>1</td>\n",
              "      <td>220775.0</td>\n",
              "      <td>4</td>\n",
              "      <td>343</td>\n",
              "      <td>4</td>\n",
              "      <td>6959083</td>\n",
              "      <td>1.2</td>\n",
              "      <td>2013</td>\n",
              "      <td>6</td>\n",
              "    </tr>\n",
              "    <tr>\n",
              "      <th>3</th>\n",
              "      <td>11</td>\n",
              "      <td>101</td>\n",
              "      <td>2</td>\n",
              "      <td>23894.0</td>\n",
              "      <td>2</td>\n",
              "      <td>20</td>\n",
              "      <td>6</td>\n",
              "      <td>217866</td>\n",
              "      <td>30.0</td>\n",
              "      <td>2012</td>\n",
              "      <td>7</td>\n",
              "    </tr>\n",
              "    <tr>\n",
              "      <th>4</th>\n",
              "      <td>11</td>\n",
              "      <td>108</td>\n",
              "      <td>1</td>\n",
              "      <td>1.0</td>\n",
              "      <td>1</td>\n",
              "      <td>251</td>\n",
              "      <td>2</td>\n",
              "      <td>483387</td>\n",
              "      <td>0.8</td>\n",
              "      <td>2010</td>\n",
              "      <td>11</td>\n",
              "    </tr>\n",
              "  </tbody>\n",
              "</table>\n",
              "</div>"
            ],
            "text/plain": [
              "   genre  time  screening_rat  ...  actor_rat  year  month\n",
              "0     10    96              3  ...        2.2  2012     11\n",
              "1      2   130              3  ...        0.8  2015     11\n",
              "2     10   123              1  ...        1.2  2013      6\n",
              "3     11   101              2  ...       30.0  2012      7\n",
              "4     11   108              1  ...        0.8  2010     11\n",
              "\n",
              "[5 rows x 11 columns]"
            ]
          },
          "metadata": {
            "tags": []
          },
          "execution_count": 412
        }
      ]
    },
    {
      "cell_type": "markdown",
      "metadata": {
        "id": "N5K6Ihfd74-9"
      },
      "source": [
        "#모델"
      ]
    },
    {
      "cell_type": "code",
      "metadata": {
        "colab": {
          "base_uri": "https://localhost:8080/"
        },
        "id": "BIEy-Q-078Vb",
        "outputId": "9f1b1c9b-ab1d-4588-a8b1-245f857d0fa1"
      },
      "source": [
        "!pip install catboost"
      ],
      "execution_count": 251,
      "outputs": [
        {
          "output_type": "stream",
          "text": [
            "Collecting catboost\n",
            "\u001b[?25l  Downloading https://files.pythonhosted.org/packages/5a/41/24e14322b9986cf72a8763e0a0a69cc256cf963cf9502c8f0044a62c1ae8/catboost-0.26-cp37-none-manylinux1_x86_64.whl (69.2MB)\n",
            "\u001b[K     |████████████████████████████████| 69.2MB 46kB/s \n",
            "\u001b[?25hRequirement already satisfied: matplotlib in /usr/local/lib/python3.7/dist-packages (from catboost) (3.2.2)\n",
            "Requirement already satisfied: graphviz in /usr/local/lib/python3.7/dist-packages (from catboost) (0.10.1)\n",
            "Requirement already satisfied: pandas>=0.24.0 in /usr/local/lib/python3.7/dist-packages (from catboost) (1.1.5)\n",
            "Requirement already satisfied: numpy>=1.16.0 in /usr/local/lib/python3.7/dist-packages (from catboost) (1.19.5)\n",
            "Requirement already satisfied: six in /usr/local/lib/python3.7/dist-packages (from catboost) (1.15.0)\n",
            "Requirement already satisfied: plotly in /usr/local/lib/python3.7/dist-packages (from catboost) (4.4.1)\n",
            "Requirement already satisfied: scipy in /usr/local/lib/python3.7/dist-packages (from catboost) (1.4.1)\n",
            "Requirement already satisfied: cycler>=0.10 in /usr/local/lib/python3.7/dist-packages (from matplotlib->catboost) (0.10.0)\n",
            "Requirement already satisfied: pyparsing!=2.0.4,!=2.1.2,!=2.1.6,>=2.0.1 in /usr/local/lib/python3.7/dist-packages (from matplotlib->catboost) (2.4.7)\n",
            "Requirement already satisfied: python-dateutil>=2.1 in /usr/local/lib/python3.7/dist-packages (from matplotlib->catboost) (2.8.1)\n",
            "Requirement already satisfied: kiwisolver>=1.0.1 in /usr/local/lib/python3.7/dist-packages (from matplotlib->catboost) (1.3.1)\n",
            "Requirement already satisfied: pytz>=2017.2 in /usr/local/lib/python3.7/dist-packages (from pandas>=0.24.0->catboost) (2018.9)\n",
            "Requirement already satisfied: retrying>=1.3.3 in /usr/local/lib/python3.7/dist-packages (from plotly->catboost) (1.3.3)\n",
            "Installing collected packages: catboost\n",
            "Successfully installed catboost-0.26\n"
          ],
          "name": "stdout"
        }
      ]
    },
    {
      "cell_type": "code",
      "metadata": {
        "id": "us6BP8Og8A6L"
      },
      "source": [
        "\n",
        "from sklearn.metrics import mean_squared_error as mse\n",
        "\n",
        "from sklearn.model_selection import train_test_split"
      ],
      "execution_count": 441,
      "outputs": []
    },
    {
      "cell_type": "code",
      "metadata": {
        "id": "5D2_SrAm8XSb"
      },
      "source": [
        "def rmse(y_true, y_pred):\n",
        "  result = mse(y_true, y_pred)\n",
        "  result = np.sqrt(result)\n",
        "  return result"
      ],
      "execution_count": 463,
      "outputs": []
    },
    {
      "cell_type": "code",
      "metadata": {
        "colab": {
          "base_uri": "https://localhost:8080/"
        },
        "id": "eU-tXgbd8vdl",
        "outputId": "ee50cce9-e10b-43ea-f6d9-1826e72f6107"
      },
      "source": [
        "column = ['genre', 'time', 'screening_rat', 'dir_prev_bfnum', 'dir_prev_num','num_staff', 'num_actor', 'year', 'month']\n",
        "\n",
        "X = train[column]\n",
        "y = train['box_off_num']\n",
        "\n",
        "X_test = test[column]\n",
        "\n",
        "X_train, X_val, y_train, y_val = train_test_split(X, y, test_size=0.2, random_state=42)\n",
        "\n",
        "print(\"X_train : {} y_train : {}\".format(X_train.shape, y_train.shape))\n",
        "print(\"X_val : {} y_val : {}\".format(X_val.shape, y_val.shape))\n",
        "print(\"X_test : {}\".format(X_test.shape))"
      ],
      "execution_count": 480,
      "outputs": [
        {
          "output_type": "stream",
          "text": [
            "X_train : (480, 9) y_train : (480,)\n",
            "X_val : (120, 9) y_val : (120,)\n",
            "X_test : (243, 9)\n"
          ],
          "name": "stdout"
        }
      ]
    },
    {
      "cell_type": "code",
      "metadata": {
        "id": "mCP8Mfz79BrG"
      },
      "source": [
        "from sklearn.ensemble import RandomForestRegressor\n",
        "from xgboost import XGBRegressor\n",
        "from lightgbm import LGBMRegressor\n",
        "from catboost import CatBoostRegressor\n",
        "from sklearn.metrics import make_scorer"
      ],
      "execution_count": 481,
      "outputs": []
    },
    {
      "cell_type": "code",
      "metadata": {
        "colab": {
          "base_uri": "https://localhost:8080/"
        },
        "id": "mV51h9SI9nSN",
        "outputId": "0235f3d1-d7e0-4334-dd90-14aff58e95db"
      },
      "source": [
        "models = [RandomForestRegressor(criterion='mse'), XGBRegressor(criterion='mse'), LGBMRegressor(objective='mse'), CatBoostRegressor(verbose=200)]\n",
        "\n",
        "for model in models:\n",
        "  print(model.__class__.__name__)\n",
        "  model.fit(X_train, y_train)\n",
        "  model_pred = model.predict(X_val)\n",
        "  print(\"rmse\" ,rmse(y_val, model_pred))"
      ],
      "execution_count": 466,
      "outputs": [
        {
          "output_type": "stream",
          "text": [
            "RandomForestRegressor\n",
            "rmse 1378633.6864292237\n",
            "XGBRegressor\n",
            "[11:42:15] WARNING: /workspace/src/objective/regression_obj.cu:152: reg:linear is now deprecated in favor of reg:squarederror.\n",
            "rmse 1346661.1234122857\n",
            "LGBMRegressor\n",
            "rmse 1548465.3590515207\n",
            "CatBoostRegressor\n",
            "Learning rate set to 0.03425\n",
            "0:\tlearn: 1908196.5792805\ttotal: 989us\tremaining: 989ms\n",
            "200:\tlearn: 756444.5074167\ttotal: 142ms\tremaining: 564ms\n",
            "400:\tlearn: 504533.3499086\ttotal: 269ms\tremaining: 402ms\n",
            "600:\tlearn: 347557.7829011\ttotal: 396ms\tremaining: 263ms\n",
            "800:\tlearn: 258834.5991714\ttotal: 522ms\tremaining: 130ms\n",
            "999:\tlearn: 202836.0742574\ttotal: 657ms\tremaining: 0us\n",
            "rmse 1595047.9662631156\n"
          ],
          "name": "stdout"
        }
      ]
    },
    {
      "cell_type": "code",
      "metadata": {
        "colab": {
          "base_uri": "https://localhost:8080/"
        },
        "id": "xcBSAZBEDzUb",
        "outputId": "934e151d-f849-4762-ae22-ed517f8a7c5a"
      },
      "source": [
        "from sklearn.model_selection import GridSearchCV\n",
        "clf  = XGBRegressor()\n",
        "params = {\n",
        "    \"learning_rate \" : [0.01,0.05],\n",
        "    \"n_estimators \" : [1000,2000]\n",
        "}\n",
        "grid_clf = GridSearchCV(estimator=clf, param_grid= params, n_jobs=-1, cv=5, scoring=make_scorer(rmse, greater_is_better=False))\n",
        "grid_clf.fit(X,y)\n",
        "print(grid_clf.best_score_)"
      ],
      "execution_count": 483,
      "outputs": [
        {
          "output_type": "stream",
          "text": [
            "[11:49:06] WARNING: /workspace/src/objective/regression_obj.cu:152: reg:linear is now deprecated in favor of reg:squarederror.\n",
            "-1544781.1424696157\n"
          ],
          "name": "stdout"
        }
      ]
    },
    {
      "cell_type": "code",
      "metadata": {
        "colab": {
          "base_uri": "https://localhost:8080/"
        },
        "id": "PxYeNLQTIm1t",
        "outputId": "e544424a-bdbc-4586-b15e-4aed26886851"
      },
      "source": [
        "from sklearn.model_selection import GridSearchCV\n",
        "clf  = RandomForestRegressor(criterion='mse')\n",
        "params = {\n",
        "    \"random_state\" : [42],\n",
        "    \"max_depth\" : [4,5,6],\n",
        "}\n",
        "grid_clf = GridSearchCV(estimator=clf, param_grid= params, n_jobs=-1, cv=5, scoring=make_scorer(rmse, greater_is_better=False))\n",
        "grid_clf.fit(X,y)\n",
        "print(grid_clf.best_score_)"
      ],
      "execution_count": 498,
      "outputs": [
        {
          "output_type": "stream",
          "text": [
            "-1446022.9233185586\n"
          ],
          "name": "stdout"
        }
      ]
    },
    {
      "cell_type": "code",
      "metadata": {
        "id": "LzHJpI-xJpO4"
      },
      "source": [
        "pred = grid_clf.predict(X_test)"
      ],
      "execution_count": 501,
      "outputs": []
    },
    {
      "cell_type": "markdown",
      "metadata": {
        "id": "lNhHXy3TKBtH"
      },
      "source": [
        "# 제출"
      ]
    },
    {
      "cell_type": "code",
      "metadata": {
        "colab": {
          "base_uri": "https://localhost:8080/",
          "height": 206
        },
        "id": "_X__0vr3KoWt",
        "outputId": "0dbd853c-1269-4d2b-ed4b-d5d200d8ae33"
      },
      "source": [
        "submission = pd.read_csv(path + \"submission.csv\")\n",
        "submission.head()"
      ],
      "execution_count": 502,
      "outputs": [
        {
          "output_type": "execute_result",
          "data": {
            "text/html": [
              "<div>\n",
              "<style scoped>\n",
              "    .dataframe tbody tr th:only-of-type {\n",
              "        vertical-align: middle;\n",
              "    }\n",
              "\n",
              "    .dataframe tbody tr th {\n",
              "        vertical-align: top;\n",
              "    }\n",
              "\n",
              "    .dataframe thead th {\n",
              "        text-align: right;\n",
              "    }\n",
              "</style>\n",
              "<table border=\"1\" class=\"dataframe\">\n",
              "  <thead>\n",
              "    <tr style=\"text-align: right;\">\n",
              "      <th></th>\n",
              "      <th>title</th>\n",
              "      <th>box_off_num</th>\n",
              "    </tr>\n",
              "  </thead>\n",
              "  <tbody>\n",
              "    <tr>\n",
              "      <th>0</th>\n",
              "      <td>용서는 없다</td>\n",
              "      <td>0</td>\n",
              "    </tr>\n",
              "    <tr>\n",
              "      <th>1</th>\n",
              "      <td>아빠가 여자를 좋아해</td>\n",
              "      <td>0</td>\n",
              "    </tr>\n",
              "    <tr>\n",
              "      <th>2</th>\n",
              "      <td>하모니</td>\n",
              "      <td>0</td>\n",
              "    </tr>\n",
              "    <tr>\n",
              "      <th>3</th>\n",
              "      <td>의형제</td>\n",
              "      <td>0</td>\n",
              "    </tr>\n",
              "    <tr>\n",
              "      <th>4</th>\n",
              "      <td>평행 이론</td>\n",
              "      <td>0</td>\n",
              "    </tr>\n",
              "  </tbody>\n",
              "</table>\n",
              "</div>"
            ],
            "text/plain": [
              "         title  box_off_num\n",
              "0       용서는 없다            0\n",
              "1  아빠가 여자를 좋아해            0\n",
              "2          하모니            0\n",
              "3          의형제            0\n",
              "4        평행 이론            0"
            ]
          },
          "metadata": {
            "tags": []
          },
          "execution_count": 502
        }
      ]
    },
    {
      "cell_type": "code",
      "metadata": {
        "colab": {
          "base_uri": "https://localhost:8080/",
          "height": 206
        },
        "id": "T6oQA5piKxQh",
        "outputId": "1320655d-0173-474f-d7a3-a863b54e8bac"
      },
      "source": [
        "submission['box_off_num'] = pred\n",
        "submission.head()"
      ],
      "execution_count": 503,
      "outputs": [
        {
          "output_type": "execute_result",
          "data": {
            "text/html": [
              "<div>\n",
              "<style scoped>\n",
              "    .dataframe tbody tr th:only-of-type {\n",
              "        vertical-align: middle;\n",
              "    }\n",
              "\n",
              "    .dataframe tbody tr th {\n",
              "        vertical-align: top;\n",
              "    }\n",
              "\n",
              "    .dataframe thead th {\n",
              "        text-align: right;\n",
              "    }\n",
              "</style>\n",
              "<table border=\"1\" class=\"dataframe\">\n",
              "  <thead>\n",
              "    <tr style=\"text-align: right;\">\n",
              "      <th></th>\n",
              "      <th>title</th>\n",
              "      <th>box_off_num</th>\n",
              "    </tr>\n",
              "  </thead>\n",
              "  <tbody>\n",
              "    <tr>\n",
              "      <th>0</th>\n",
              "      <td>용서는 없다</td>\n",
              "      <td>2.547522e+06</td>\n",
              "    </tr>\n",
              "    <tr>\n",
              "      <th>1</th>\n",
              "      <td>아빠가 여자를 좋아해</td>\n",
              "      <td>9.604168e+05</td>\n",
              "    </tr>\n",
              "    <tr>\n",
              "      <th>2</th>\n",
              "      <td>하모니</td>\n",
              "      <td>1.376409e+06</td>\n",
              "    </tr>\n",
              "    <tr>\n",
              "      <th>3</th>\n",
              "      <td>의형제</td>\n",
              "      <td>1.270179e+06</td>\n",
              "    </tr>\n",
              "    <tr>\n",
              "      <th>4</th>\n",
              "      <td>평행 이론</td>\n",
              "      <td>1.067707e+06</td>\n",
              "    </tr>\n",
              "  </tbody>\n",
              "</table>\n",
              "</div>"
            ],
            "text/plain": [
              "         title   box_off_num\n",
              "0       용서는 없다  2.547522e+06\n",
              "1  아빠가 여자를 좋아해  9.604168e+05\n",
              "2          하모니  1.376409e+06\n",
              "3          의형제  1.270179e+06\n",
              "4        평행 이론  1.067707e+06"
            ]
          },
          "metadata": {
            "tags": []
          },
          "execution_count": 503
        }
      ]
    },
    {
      "cell_type": "code",
      "metadata": {
        "id": "1N18ZhvqK2KL"
      },
      "source": [
        "sub_path = \"/content/drive/MyDrive/Colab Notebooks/DataScience/My CSV/Dacon/movies/\"\n",
        "sub_name = \"rf_submission1.csv\"\n",
        "submission.to_csv(sub_path + sub_name, index=False)"
      ],
      "execution_count": 504,
      "outputs": []
    },
    {
      "cell_type": "code",
      "metadata": {
        "id": "ORSVDhRDLLgm"
      },
      "source": [
        ""
      ],
      "execution_count": null,
      "outputs": []
    }
  ]
}