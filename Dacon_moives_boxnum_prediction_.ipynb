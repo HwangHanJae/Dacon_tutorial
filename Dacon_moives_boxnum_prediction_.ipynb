{
  "nbformat": 4,
  "nbformat_minor": 0,
  "metadata": {
    "colab": {
      "name": "Dacon_moives_boxnum_prediction_.ipynb",
      "provenance": [],
      "collapsed_sections": [],
      "mount_file_id": "1NbRur0mfn2WSekLywN1f7rwL1xdfNxYZ",
      "authorship_tag": "ABX9TyMQPHPs+ayFxdlE+J4AexOS",
      "include_colab_link": true
    },
    "kernelspec": {
      "name": "python3",
      "display_name": "Python 3"
    },
    "language_info": {
      "name": "python"
    }
  },
  "cells": [
    {
      "cell_type": "markdown",
      "metadata": {
        "id": "view-in-github",
        "colab_type": "text"
      },
      "source": [
        "<a href=\"https://colab.research.google.com/github/HwangHanJae/Dacon_tutorial/blob/main/Dacon_moives_boxnum_prediction_.ipynb\" target=\"_parent\"><img src=\"https://colab.research.google.com/assets/colab-badge.svg\" alt=\"Open In Colab\"/></a>"
      ]
    },
    {
      "cell_type": "markdown",
      "metadata": {
        "id": "M7uwxzjRjrtu"
      },
      "source": [
        "#한글화"
      ]
    },
    {
      "cell_type": "code",
      "metadata": {
        "id": "tCMwAWFPjyfD"
      },
      "source": [
        "#나눔 고딕 폰트 인스톨\n",
        "!apt-get update -qq\n",
        "!apt-get install fonts-nanum* -qq"
      ],
      "execution_count": 1,
      "outputs": []
    },
    {
      "cell_type": "markdown",
      "metadata": {
        "id": "ppk1enEdi1ep"
      },
      "source": [
        "# 라이브러리 로드"
      ]
    },
    {
      "cell_type": "code",
      "metadata": {
        "id": "6PW81GTciota"
      },
      "source": [
        "import numpy as np\n",
        "import pandas as pd\n",
        "import seaborn as sns\n",
        "import matplotlib.pyplot as plt\n",
        "import warnings\n",
        "import re\n",
        "\n",
        "from IPython.display import set_matplotlib_formats\n",
        "\n",
        "warnings.filterwarnings(action='ignore')\n",
        "plt.style.use('seaborn')\n",
        "set_matplotlib_formats('svg')"
      ],
      "execution_count": 233,
      "outputs": []
    },
    {
      "cell_type": "code",
      "metadata": {
        "colab": {
          "base_uri": "https://localhost:8080/"
        },
        "id": "8KB8PVU1j-sZ",
        "outputId": "1f68d8f4-2e52-4940-dd30-52a3d77ca3a6"
      },
      "source": [
        "#맷플롯립 폰트 관련 매니저\n",
        "import matplotlib.font_manager as fm\n",
        "# 맷플롯라이브러리에 폰트 설정\n",
        "plt.rc('font', family='NanumBarunGothic') \n",
        "fm._rebuild()\n",
        "# 진행후에 런타임 다시시작\n",
        "print(\"현재 설정 폰트\",plt.rcParams['font.family'])"
      ],
      "execution_count": 234,
      "outputs": [
        {
          "output_type": "stream",
          "text": [
            "현재 설정 폰트 ['NanumBarunGothic']\n"
          ],
          "name": "stdout"
        }
      ]
    },
    {
      "cell_type": "markdown",
      "metadata": {
        "id": "PDe0EcQhjOX5"
      },
      "source": [
        "# 데이터 불러오기"
      ]
    },
    {
      "cell_type": "code",
      "metadata": {
        "id": "2dac00CKjPry"
      },
      "source": [
        "path  = \"/content/drive/MyDrive/Colab Notebooks/DataScience/Data/movies/\"\n",
        "train = pd.read_csv(path+\"train.csv\")\n",
        "test = pd.read_csv(path+\"test.csv\")"
      ],
      "execution_count": 235,
      "outputs": []
    },
    {
      "cell_type": "code",
      "metadata": {
        "colab": {
          "base_uri": "https://localhost:8080/",
          "height": 206
        },
        "id": "CqtczrnMjoU7",
        "outputId": "e03f6512-c410-44ce-8f5d-89a7131fce99"
      },
      "source": [
        "train.head()"
      ],
      "execution_count": 236,
      "outputs": [
        {
          "output_type": "execute_result",
          "data": {
            "text/html": [
              "<div>\n",
              "<style scoped>\n",
              "    .dataframe tbody tr th:only-of-type {\n",
              "        vertical-align: middle;\n",
              "    }\n",
              "\n",
              "    .dataframe tbody tr th {\n",
              "        vertical-align: top;\n",
              "    }\n",
              "\n",
              "    .dataframe thead th {\n",
              "        text-align: right;\n",
              "    }\n",
              "</style>\n",
              "<table border=\"1\" class=\"dataframe\">\n",
              "  <thead>\n",
              "    <tr style=\"text-align: right;\">\n",
              "      <th></th>\n",
              "      <th>title</th>\n",
              "      <th>distributor</th>\n",
              "      <th>genre</th>\n",
              "      <th>release_time</th>\n",
              "      <th>time</th>\n",
              "      <th>screening_rat</th>\n",
              "      <th>director</th>\n",
              "      <th>dir_prev_bfnum</th>\n",
              "      <th>dir_prev_num</th>\n",
              "      <th>num_staff</th>\n",
              "      <th>num_actor</th>\n",
              "      <th>box_off_num</th>\n",
              "    </tr>\n",
              "  </thead>\n",
              "  <tbody>\n",
              "    <tr>\n",
              "      <th>0</th>\n",
              "      <td>개들의 전쟁</td>\n",
              "      <td>롯데엔터테인먼트</td>\n",
              "      <td>액션</td>\n",
              "      <td>2012-11-22</td>\n",
              "      <td>96</td>\n",
              "      <td>청소년 관람불가</td>\n",
              "      <td>조병옥</td>\n",
              "      <td>NaN</td>\n",
              "      <td>0</td>\n",
              "      <td>91</td>\n",
              "      <td>2</td>\n",
              "      <td>23398</td>\n",
              "    </tr>\n",
              "    <tr>\n",
              "      <th>1</th>\n",
              "      <td>내부자들</td>\n",
              "      <td>(주)쇼박스</td>\n",
              "      <td>느와르</td>\n",
              "      <td>2015-11-19</td>\n",
              "      <td>130</td>\n",
              "      <td>청소년 관람불가</td>\n",
              "      <td>우민호</td>\n",
              "      <td>1161602.50</td>\n",
              "      <td>2</td>\n",
              "      <td>387</td>\n",
              "      <td>3</td>\n",
              "      <td>7072501</td>\n",
              "    </tr>\n",
              "    <tr>\n",
              "      <th>2</th>\n",
              "      <td>은밀하게 위대하게</td>\n",
              "      <td>(주)쇼박스</td>\n",
              "      <td>액션</td>\n",
              "      <td>2013-06-05</td>\n",
              "      <td>123</td>\n",
              "      <td>15세 관람가</td>\n",
              "      <td>장철수</td>\n",
              "      <td>220775.25</td>\n",
              "      <td>4</td>\n",
              "      <td>343</td>\n",
              "      <td>4</td>\n",
              "      <td>6959083</td>\n",
              "    </tr>\n",
              "    <tr>\n",
              "      <th>3</th>\n",
              "      <td>나는 공무원이다</td>\n",
              "      <td>(주)NEW</td>\n",
              "      <td>코미디</td>\n",
              "      <td>2012-07-12</td>\n",
              "      <td>101</td>\n",
              "      <td>전체 관람가</td>\n",
              "      <td>구자홍</td>\n",
              "      <td>23894.00</td>\n",
              "      <td>2</td>\n",
              "      <td>20</td>\n",
              "      <td>6</td>\n",
              "      <td>217866</td>\n",
              "    </tr>\n",
              "    <tr>\n",
              "      <th>4</th>\n",
              "      <td>불량남녀</td>\n",
              "      <td>쇼박스(주)미디어플렉스</td>\n",
              "      <td>코미디</td>\n",
              "      <td>2010-11-04</td>\n",
              "      <td>108</td>\n",
              "      <td>15세 관람가</td>\n",
              "      <td>신근호</td>\n",
              "      <td>1.00</td>\n",
              "      <td>1</td>\n",
              "      <td>251</td>\n",
              "      <td>2</td>\n",
              "      <td>483387</td>\n",
              "    </tr>\n",
              "  </tbody>\n",
              "</table>\n",
              "</div>"
            ],
            "text/plain": [
              "       title   distributor genre  ... num_staff  num_actor box_off_num\n",
              "0     개들의 전쟁      롯데엔터테인먼트    액션  ...        91          2       23398\n",
              "1       내부자들        (주)쇼박스   느와르  ...       387          3     7072501\n",
              "2  은밀하게 위대하게        (주)쇼박스    액션  ...       343          4     6959083\n",
              "3   나는 공무원이다        (주)NEW   코미디  ...        20          6      217866\n",
              "4       불량남녀  쇼박스(주)미디어플렉스   코미디  ...       251          2      483387\n",
              "\n",
              "[5 rows x 12 columns]"
            ]
          },
          "metadata": {
            "tags": []
          },
          "execution_count": 236
        }
      ]
    },
    {
      "cell_type": "code",
      "metadata": {
        "colab": {
          "base_uri": "https://localhost:8080/",
          "height": 206
        },
        "id": "TDq-1TvQjpL_",
        "outputId": "469e92db-ec05-4f22-d908-de8424f15125"
      },
      "source": [
        "test.head()"
      ],
      "execution_count": 237,
      "outputs": [
        {
          "output_type": "execute_result",
          "data": {
            "text/html": [
              "<div>\n",
              "<style scoped>\n",
              "    .dataframe tbody tr th:only-of-type {\n",
              "        vertical-align: middle;\n",
              "    }\n",
              "\n",
              "    .dataframe tbody tr th {\n",
              "        vertical-align: top;\n",
              "    }\n",
              "\n",
              "    .dataframe thead th {\n",
              "        text-align: right;\n",
              "    }\n",
              "</style>\n",
              "<table border=\"1\" class=\"dataframe\">\n",
              "  <thead>\n",
              "    <tr style=\"text-align: right;\">\n",
              "      <th></th>\n",
              "      <th>title</th>\n",
              "      <th>distributor</th>\n",
              "      <th>genre</th>\n",
              "      <th>release_time</th>\n",
              "      <th>time</th>\n",
              "      <th>screening_rat</th>\n",
              "      <th>director</th>\n",
              "      <th>dir_prev_bfnum</th>\n",
              "      <th>dir_prev_num</th>\n",
              "      <th>num_staff</th>\n",
              "      <th>num_actor</th>\n",
              "    </tr>\n",
              "  </thead>\n",
              "  <tbody>\n",
              "    <tr>\n",
              "      <th>0</th>\n",
              "      <td>용서는 없다</td>\n",
              "      <td>시네마서비스</td>\n",
              "      <td>느와르</td>\n",
              "      <td>2010-01-07</td>\n",
              "      <td>125</td>\n",
              "      <td>청소년 관람불가</td>\n",
              "      <td>김형준</td>\n",
              "      <td>3.005290e+05</td>\n",
              "      <td>2</td>\n",
              "      <td>304</td>\n",
              "      <td>3</td>\n",
              "    </tr>\n",
              "    <tr>\n",
              "      <th>1</th>\n",
              "      <td>아빠가 여자를 좋아해</td>\n",
              "      <td>(주)쇼박스</td>\n",
              "      <td>멜로/로맨스</td>\n",
              "      <td>2010-01-14</td>\n",
              "      <td>113</td>\n",
              "      <td>12세 관람가</td>\n",
              "      <td>이광재</td>\n",
              "      <td>3.427002e+05</td>\n",
              "      <td>4</td>\n",
              "      <td>275</td>\n",
              "      <td>3</td>\n",
              "    </tr>\n",
              "    <tr>\n",
              "      <th>2</th>\n",
              "      <td>하모니</td>\n",
              "      <td>CJ 엔터테인먼트</td>\n",
              "      <td>드라마</td>\n",
              "      <td>2010-01-28</td>\n",
              "      <td>115</td>\n",
              "      <td>12세 관람가</td>\n",
              "      <td>강대규</td>\n",
              "      <td>4.206611e+06</td>\n",
              "      <td>3</td>\n",
              "      <td>419</td>\n",
              "      <td>7</td>\n",
              "    </tr>\n",
              "    <tr>\n",
              "      <th>3</th>\n",
              "      <td>의형제</td>\n",
              "      <td>(주)쇼박스</td>\n",
              "      <td>액션</td>\n",
              "      <td>2010-02-04</td>\n",
              "      <td>116</td>\n",
              "      <td>15세 관람가</td>\n",
              "      <td>장훈</td>\n",
              "      <td>6.913420e+05</td>\n",
              "      <td>2</td>\n",
              "      <td>408</td>\n",
              "      <td>2</td>\n",
              "    </tr>\n",
              "    <tr>\n",
              "      <th>4</th>\n",
              "      <td>평행 이론</td>\n",
              "      <td>CJ 엔터테인먼트</td>\n",
              "      <td>공포</td>\n",
              "      <td>2010-02-18</td>\n",
              "      <td>110</td>\n",
              "      <td>15세 관람가</td>\n",
              "      <td>권호영</td>\n",
              "      <td>3.173800e+04</td>\n",
              "      <td>1</td>\n",
              "      <td>380</td>\n",
              "      <td>1</td>\n",
              "    </tr>\n",
              "  </tbody>\n",
              "</table>\n",
              "</div>"
            ],
            "text/plain": [
              "         title distributor   genre  ... dir_prev_num  num_staff num_actor\n",
              "0       용서는 없다      시네마서비스     느와르  ...            2        304         3\n",
              "1  아빠가 여자를 좋아해      (주)쇼박스  멜로/로맨스  ...            4        275         3\n",
              "2          하모니   CJ 엔터테인먼트     드라마  ...            3        419         7\n",
              "3          의형제      (주)쇼박스      액션  ...            2        408         2\n",
              "4        평행 이론   CJ 엔터테인먼트      공포  ...            1        380         1\n",
              "\n",
              "[5 rows x 11 columns]"
            ]
          },
          "metadata": {
            "tags": []
          },
          "execution_count": 237
        }
      ]
    },
    {
      "cell_type": "code",
      "metadata": {
        "colab": {
          "base_uri": "https://localhost:8080/"
        },
        "id": "bMSNKl_skBuh",
        "outputId": "a80e60b5-14d1-448a-d683-0b2d2d8ac4b7"
      },
      "source": [
        "train.info()"
      ],
      "execution_count": 238,
      "outputs": [
        {
          "output_type": "stream",
          "text": [
            "<class 'pandas.core.frame.DataFrame'>\n",
            "RangeIndex: 600 entries, 0 to 599\n",
            "Data columns (total 12 columns):\n",
            " #   Column          Non-Null Count  Dtype  \n",
            "---  ------          --------------  -----  \n",
            " 0   title           600 non-null    object \n",
            " 1   distributor     600 non-null    object \n",
            " 2   genre           600 non-null    object \n",
            " 3   release_time    600 non-null    object \n",
            " 4   time            600 non-null    int64  \n",
            " 5   screening_rat   600 non-null    object \n",
            " 6   director        600 non-null    object \n",
            " 7   dir_prev_bfnum  270 non-null    float64\n",
            " 8   dir_prev_num    600 non-null    int64  \n",
            " 9   num_staff       600 non-null    int64  \n",
            " 10  num_actor       600 non-null    int64  \n",
            " 11  box_off_num     600 non-null    int64  \n",
            "dtypes: float64(1), int64(5), object(6)\n",
            "memory usage: 56.4+ KB\n"
          ],
          "name": "stdout"
        }
      ]
    },
    {
      "cell_type": "code",
      "metadata": {
        "id": "Iw0dcW6Qk5GH",
        "colab": {
          "base_uri": "https://localhost:8080/"
        },
        "outputId": "326af2c7-bdd1-4dcc-d7c0-c81be2fb348d"
      },
      "source": [
        "train.isnull().sum()"
      ],
      "execution_count": 239,
      "outputs": [
        {
          "output_type": "execute_result",
          "data": {
            "text/plain": [
              "title               0\n",
              "distributor         0\n",
              "genre               0\n",
              "release_time        0\n",
              "time                0\n",
              "screening_rat       0\n",
              "director            0\n",
              "dir_prev_bfnum    330\n",
              "dir_prev_num        0\n",
              "num_staff           0\n",
              "num_actor           0\n",
              "box_off_num         0\n",
              "dtype: int64"
            ]
          },
          "metadata": {
            "tags": []
          },
          "execution_count": 239
        }
      ]
    },
    {
      "cell_type": "code",
      "metadata": {
        "colab": {
          "base_uri": "https://localhost:8080/"
        },
        "id": "F1Pd4GS0k980",
        "outputId": "5f39b405-6262-4bdb-8dc4-7afb30068adc"
      },
      "source": [
        "test.isnull().sum()"
      ],
      "execution_count": 240,
      "outputs": [
        {
          "output_type": "execute_result",
          "data": {
            "text/plain": [
              "title               0\n",
              "distributor         0\n",
              "genre               0\n",
              "release_time        0\n",
              "time                0\n",
              "screening_rat       0\n",
              "director            0\n",
              "dir_prev_bfnum    136\n",
              "dir_prev_num        0\n",
              "num_staff           0\n",
              "num_actor           0\n",
              "dtype: int64"
            ]
          },
          "metadata": {
            "tags": []
          },
          "execution_count": 240
        }
      ]
    },
    {
      "cell_type": "code",
      "metadata": {
        "colab": {
          "base_uri": "https://localhost:8080/",
          "height": 206
        },
        "id": "ArSQYZVTlNkB",
        "outputId": "c5b04fe6-a7da-4ce7-db89-84fd921fa033"
      },
      "source": [
        "train.sample(5)"
      ],
      "execution_count": 241,
      "outputs": [
        {
          "output_type": "execute_result",
          "data": {
            "text/html": [
              "<div>\n",
              "<style scoped>\n",
              "    .dataframe tbody tr th:only-of-type {\n",
              "        vertical-align: middle;\n",
              "    }\n",
              "\n",
              "    .dataframe tbody tr th {\n",
              "        vertical-align: top;\n",
              "    }\n",
              "\n",
              "    .dataframe thead th {\n",
              "        text-align: right;\n",
              "    }\n",
              "</style>\n",
              "<table border=\"1\" class=\"dataframe\">\n",
              "  <thead>\n",
              "    <tr style=\"text-align: right;\">\n",
              "      <th></th>\n",
              "      <th>title</th>\n",
              "      <th>distributor</th>\n",
              "      <th>genre</th>\n",
              "      <th>release_time</th>\n",
              "      <th>time</th>\n",
              "      <th>screening_rat</th>\n",
              "      <th>director</th>\n",
              "      <th>dir_prev_bfnum</th>\n",
              "      <th>dir_prev_num</th>\n",
              "      <th>num_staff</th>\n",
              "      <th>num_actor</th>\n",
              "      <th>box_off_num</th>\n",
              "    </tr>\n",
              "  </thead>\n",
              "  <tbody>\n",
              "    <tr>\n",
              "      <th>523</th>\n",
              "      <td>옥희의 영화</td>\n",
              "      <td>스폰지</td>\n",
              "      <td>드라마</td>\n",
              "      <td>2010-09-16</td>\n",
              "      <td>80</td>\n",
              "      <td>청소년 관람불가</td>\n",
              "      <td>홍상수</td>\n",
              "      <td>NaN</td>\n",
              "      <td>0</td>\n",
              "      <td>57</td>\n",
              "      <td>3</td>\n",
              "      <td>37122</td>\n",
              "    </tr>\n",
              "    <tr>\n",
              "      <th>309</th>\n",
              "      <td>레바논 감정</td>\n",
              "      <td>어뮤즈</td>\n",
              "      <td>공포</td>\n",
              "      <td>2014-02-27</td>\n",
              "      <td>106</td>\n",
              "      <td>청소년 관람불가</td>\n",
              "      <td>정영헌</td>\n",
              "      <td>2.972299e+06</td>\n",
              "      <td>1</td>\n",
              "      <td>10</td>\n",
              "      <td>3</td>\n",
              "      <td>1523</td>\n",
              "    </tr>\n",
              "    <tr>\n",
              "      <th>404</th>\n",
              "      <td>태어나서 미안해</td>\n",
              "      <td>CJ 엔터테인먼트</td>\n",
              "      <td>드라마</td>\n",
              "      <td>2012-03-08</td>\n",
              "      <td>80</td>\n",
              "      <td>15세 관람가</td>\n",
              "      <td>최영석</td>\n",
              "      <td>NaN</td>\n",
              "      <td>0</td>\n",
              "      <td>51</td>\n",
              "      <td>3</td>\n",
              "      <td>201</td>\n",
              "    </tr>\n",
              "    <tr>\n",
              "      <th>236</th>\n",
              "      <td>꿍따리 유랑단</td>\n",
              "      <td>(주)키노아이</td>\n",
              "      <td>다큐멘터리</td>\n",
              "      <td>2011-12-01</td>\n",
              "      <td>72</td>\n",
              "      <td>전체 관람가</td>\n",
              "      <td>김영진</td>\n",
              "      <td>NaN</td>\n",
              "      <td>0</td>\n",
              "      <td>3</td>\n",
              "      <td>7</td>\n",
              "      <td>179</td>\n",
              "    </tr>\n",
              "    <tr>\n",
              "      <th>428</th>\n",
              "      <td>한민족 그리고 조선족</td>\n",
              "      <td>한국YWCA연합회</td>\n",
              "      <td>다큐멘터리</td>\n",
              "      <td>2014-12-10</td>\n",
              "      <td>61</td>\n",
              "      <td>전체 관람가</td>\n",
              "      <td>전화성</td>\n",
              "      <td>3.453333e+02</td>\n",
              "      <td>3</td>\n",
              "      <td>2</td>\n",
              "      <td>6</td>\n",
              "      <td>71</td>\n",
              "    </tr>\n",
              "  </tbody>\n",
              "</table>\n",
              "</div>"
            ],
            "text/plain": [
              "           title distributor  genre  ... num_staff  num_actor box_off_num\n",
              "523       옥희의 영화         스폰지    드라마  ...        57          3       37122\n",
              "309       레바논 감정         어뮤즈     공포  ...        10          3        1523\n",
              "404     태어나서 미안해   CJ 엔터테인먼트    드라마  ...        51          3         201\n",
              "236      꿍따리 유랑단     (주)키노아이  다큐멘터리  ...         3          7         179\n",
              "428  한민족 그리고 조선족   한국YWCA연합회  다큐멘터리  ...         2          6          71\n",
              "\n",
              "[5 rows x 12 columns]"
            ]
          },
          "metadata": {
            "tags": []
          },
          "execution_count": 241
        }
      ]
    },
    {
      "cell_type": "code",
      "metadata": {
        "colab": {
          "base_uri": "https://localhost:8080/"
        },
        "id": "QFBlJf4fmQbF",
        "outputId": "f10f4338-42d5-449d-ea11-c9e6d4e5a845"
      },
      "source": [
        "train['distributor'].value_counts()"
      ],
      "execution_count": 242,
      "outputs": [
        {
          "output_type": "execute_result",
          "data": {
            "text/plain": [
              "CJ 엔터테인먼트        54\n",
              "롯데엔터테인먼트         52\n",
              "(주)NEW           30\n",
              "(주)마운틴픽쳐스        29\n",
              "(주)쇼박스           26\n",
              "                 ..\n",
              "영화사 廊             1\n",
              "이상우필름             1\n",
              "(주)두타연            1\n",
              "새인컴퍼니             1\n",
              "(주)에이원 엔터테인먼트     1\n",
              "Name: distributor, Length: 169, dtype: int64"
            ]
          },
          "metadata": {
            "tags": []
          },
          "execution_count": 242
        }
      ]
    },
    {
      "cell_type": "code",
      "metadata": {
        "colab": {
          "base_uri": "https://localhost:8080/"
        },
        "id": "qbylwxMcmTBB",
        "outputId": "e8c417ad-9ebd-4d18-bfdd-505499ccc444"
      },
      "source": [
        "train['genre'].value_counts()"
      ],
      "execution_count": 243,
      "outputs": [
        {
          "output_type": "execute_result",
          "data": {
            "text/plain": [
              "드라마       221\n",
              "다큐멘터리      93\n",
              "멜로/로맨스     78\n",
              "코미디        53\n",
              "공포         42\n",
              "액션         28\n",
              "느와르        27\n",
              "애니메이션      21\n",
              "미스터리       17\n",
              "SF         13\n",
              "뮤지컬         5\n",
              "서스펜스        2\n",
              "Name: genre, dtype: int64"
            ]
          },
          "metadata": {
            "tags": []
          },
          "execution_count": 243
        }
      ]
    },
    {
      "cell_type": "code",
      "metadata": {
        "colab": {
          "base_uri": "https://localhost:8080/"
        },
        "id": "kYLkr5FbmlHP",
        "outputId": "4414d7a8-0430-4fb7-c2cc-24515943a537"
      },
      "source": [
        "train['screening_rat'].value_counts()"
      ],
      "execution_count": 244,
      "outputs": [
        {
          "output_type": "execute_result",
          "data": {
            "text/plain": [
              "청소년 관람불가    204\n",
              "15세 관람가     202\n",
              "12세 관람가     102\n",
              "전체 관람가       92\n",
              "Name: screening_rat, dtype: int64"
            ]
          },
          "metadata": {
            "tags": []
          },
          "execution_count": 244
        }
      ]
    },
    {
      "cell_type": "code",
      "metadata": {
        "colab": {
          "base_uri": "https://localhost:8080/",
          "height": 499
        },
        "id": "RmbMPDlPupRl",
        "outputId": "582c2d62-e1eb-40ac-d4a5-d93e057c4437"
      },
      "source": [
        "#장르별 박스 오피스 넘버\n",
        "train.groupby(\"genre\")['box_off_num'].mean().sort_values().plot.barh()"
      ],
      "execution_count": 245,
      "outputs": [
        {
          "output_type": "execute_result",
          "data": {
            "text/plain": [
              "<matplotlib.axes._subplots.AxesSubplot at 0x7fb045da2a90>"
            ]
          },
          "metadata": {
            "tags": []
          },
          "execution_count": 245
        },
        {
          "output_type": "display_data",
          "data": {
            "text/plain": [
              "<Figure size 576x396 with 1 Axes>"
            ],
            "image/svg+xml": "<?xml version=\"1.0\" encoding=\"utf-8\" standalone=\"no\"?>\n<!DOCTYPE svg PUBLIC \"-//W3C//DTD SVG 1.1//EN\"\n  \"http://www.w3.org/Graphics/SVG/1.1/DTD/svg11.dtd\">\n<!-- Created with matplotlib (https://matplotlib.org/) -->\n<svg height=\"344.539375pt\" version=\"1.1\" viewBox=\"0 0 532.498594 344.539375\" width=\"532.498594pt\" xmlns=\"http://www.w3.org/2000/svg\" xmlns:xlink=\"http://www.w3.org/1999/xlink\">\n <defs>\n  <style type=\"text/css\">\n*{stroke-linecap:butt;stroke-linejoin:round;}\n  </style>\n </defs>\n <g id=\"figure_1\">\n  <g id=\"patch_1\">\n   <path d=\"M 0 344.539375 \nL 532.498594 344.539375 \nL 532.498594 0 \nL 0 0 \nz\n\" style=\"fill:#ffffff;\"/>\n  </g>\n  <g id=\"axes_1\">\n   <g id=\"patch_2\">\n    <path d=\"M 78.898594 306.18 \nL 525.298594 306.18 \nL 525.298594 7.2 \nL 78.898594 7.2 \nz\n\" style=\"fill:#eaeaf2;\"/>\n   </g>\n   <g id=\"matplotlib.axis_1\">\n    <g id=\"xtick_1\">\n     <g id=\"line2d_1\">\n      <path clip-path=\"url(#p316cb343bd)\" d=\"M 78.898594 306.18 \nL 78.898594 7.2 \n\" style=\"fill:none;stroke:#ffffff;stroke-linecap:round;\"/>\n     </g>\n     <g id=\"line2d_2\"/>\n     <g id=\"text_1\">\n      <!-- 0.0 -->\n      <defs>\n       <path d=\"M 29.203125 73.5 \nQ 41.09375 73.5 47.4375 63.59375 \nQ 53.796875 53.703125 53.796875 33.59375 \nQ 53.796875 13.59375 47.390625 4.390625 \nQ 41 -4.796875 29.203125 -4.796875 \nQ 23.296875 -4.796875 18.6875 -2.546875 \nQ 14.09375 -0.296875 10.9375 4.390625 \nQ 7.796875 9.09375 6.1875 16.34375 \nQ 4.59375 23.59375 4.59375 33.59375 \nQ 4.59375 53.703125 10.9375 63.59375 \nQ 17.296875 73.5 29.203125 73.5 \nz\nM 29.203125 66.5 \nQ 13.296875 66.5 13.296875 33.40625 \nQ 13.296875 16.90625 17.25 9.5 \nQ 21.203125 2.09375 29.203125 2.09375 \nQ 37.09375 2.09375 41.09375 9.5 \nQ 45.09375 16.90625 45.09375 33.40625 \nQ 45.09375 66.5 29.203125 66.5 \nz\n\" id=\"NanumBarunGothic-48\"/>\n       <path d=\"M 13 8.296875 \nQ 16 8.296875 17.890625 6.390625 \nQ 19.796875 4.5 19.796875 1.59375 \nQ 19.796875 -1.296875 17.890625 -3.1875 \nQ 16 -5.09375 13 -5.09375 \nQ 10 -5.09375 8.09375 -3.1875 \nQ 6.203125 -1.296875 6.203125 1.59375 \nQ 6.203125 4.5 8.09375 6.390625 \nQ 10 8.296875 13 8.296875 \nz\n\" id=\"NanumBarunGothic-46\"/>\n      </defs>\n      <g style=\"fill:#262626;\" transform=\"translate(71.58375 320.950312)scale(0.1 -0.1)\">\n       <use xlink:href=\"#NanumBarunGothic-48\"/>\n       <use x=\"58.299988\" xlink:href=\"#NanumBarunGothic-46\"/>\n       <use x=\"87.999985\" xlink:href=\"#NanumBarunGothic-48\"/>\n      </g>\n     </g>\n    </g>\n    <g id=\"xtick_2\">\n     <g id=\"line2d_3\">\n      <path clip-path=\"url(#p316cb343bd)\" d=\"M 172.803213 306.18 \nL 172.803213 7.2 \n\" style=\"fill:none;stroke:#ffffff;stroke-linecap:round;\"/>\n     </g>\n     <g id=\"line2d_4\"/>\n     <g id=\"text_2\">\n      <!-- 0.5 -->\n      <defs>\n       <path d=\"M 6.796875 8.703125 \nQ 11.59375 5.5 16.59375 3.953125 \nQ 21.59375 2.40625 27.296875 2.40625 \nQ 31.203125 2.5 34.5 3.84375 \nQ 37.796875 5.203125 40.1875 7.5 \nQ 42.59375 9.796875 43.9375 12.9375 \nQ 45.296875 16.09375 45.296875 19.90625 \nQ 45.296875 24.296875 43.640625 27.34375 \nQ 42 30.40625 39.046875 32.296875 \nQ 36.09375 34.203125 32.140625 35.046875 \nQ 28.203125 35.90625 23.59375 35.90625 \nQ 20.09375 35.90625 16.09375 35.40625 \nQ 12.09375 34.90625 8.5 34.09375 \nL 10.59375 71.796875 \nL 49.796875 71.796875 \nL 49.796875 64.90625 \nL 17.796875 64.90625 \nL 16.296875 41.703125 \nL 16.5 41.703125 \nQ 19.40625 42 22 42.203125 \nQ 24.59375 42.40625 27.203125 42.40625 \nQ 33.09375 42.40625 38 40.953125 \nQ 42.90625 39.5 46.453125 36.75 \nQ 50 34 51.953125 29.953125 \nQ 53.90625 25.90625 53.90625 20.796875 \nQ 53.90625 15.5 52.046875 10.84375 \nQ 50.203125 6.203125 46.703125 2.796875 \nQ 43.203125 -0.59375 38.203125 -2.546875 \nQ 33.203125 -4.5 27 -4.5 \nQ 20.296875 -4.40625 15.09375 -3.046875 \nQ 9.90625 -1.703125 5.703125 1.296875 \nL 5.703125 8.203125 \nQ 5.703125 8.796875 6.046875 8.9375 \nQ 6.40625 9.09375 6.796875 8.703125 \nz\n\" id=\"NanumBarunGothic-53\"/>\n      </defs>\n      <g style=\"fill:#262626;\" transform=\"translate(165.48837 320.950312)scale(0.1 -0.1)\">\n       <use xlink:href=\"#NanumBarunGothic-48\"/>\n       <use x=\"58.299988\" xlink:href=\"#NanumBarunGothic-46\"/>\n       <use x=\"87.999985\" xlink:href=\"#NanumBarunGothic-53\"/>\n      </g>\n     </g>\n    </g>\n    <g id=\"xtick_3\">\n     <g id=\"line2d_5\">\n      <path clip-path=\"url(#p316cb343bd)\" d=\"M 266.707833 306.18 \nL 266.707833 7.2 \n\" style=\"fill:none;stroke:#ffffff;stroke-linecap:round;\"/>\n     </g>\n     <g id=\"line2d_6\"/>\n     <g id=\"text_3\">\n      <!-- 1.0 -->\n      <defs>\n       <path d=\"M 12.203125 55.40625 \nL 12.203125 61.59375 \nQ 16.296875 63.40625 19.9375 66.046875 \nQ 23.59375 68.703125 26.703125 72.203125 \nL 35.703125 72.203125 \nL 35.703125 -3.59375 \nL 27.09375 -3.59375 \nL 27.09375 62.796875 \nL 27 62.796875 \nQ 23.59375 60.09375 20.140625 58.140625 \nQ 16.703125 56.203125 13.203125 54.90625 \nQ 12.203125 54.5 12.203125 55.40625 \nz\n\" id=\"NanumBarunGothic-49\"/>\n      </defs>\n      <g style=\"fill:#262626;\" transform=\"translate(259.392989 320.950312)scale(0.1 -0.1)\">\n       <use xlink:href=\"#NanumBarunGothic-49\"/>\n       <use x=\"58.299988\" xlink:href=\"#NanumBarunGothic-46\"/>\n       <use x=\"87.999985\" xlink:href=\"#NanumBarunGothic-48\"/>\n      </g>\n     </g>\n    </g>\n    <g id=\"xtick_4\">\n     <g id=\"line2d_7\">\n      <path clip-path=\"url(#p316cb343bd)\" d=\"M 360.612453 306.18 \nL 360.612453 7.2 \n\" style=\"fill:none;stroke:#ffffff;stroke-linecap:round;\"/>\n     </g>\n     <g id=\"line2d_8\"/>\n     <g id=\"text_4\">\n      <!-- 1.5 -->\n      <g style=\"fill:#262626;\" transform=\"translate(353.297609 320.950312)scale(0.1 -0.1)\">\n       <use xlink:href=\"#NanumBarunGothic-49\"/>\n       <use x=\"58.299988\" xlink:href=\"#NanumBarunGothic-46\"/>\n       <use x=\"87.999985\" xlink:href=\"#NanumBarunGothic-53\"/>\n      </g>\n     </g>\n    </g>\n    <g id=\"xtick_5\">\n     <g id=\"line2d_9\">\n      <path clip-path=\"url(#p316cb343bd)\" d=\"M 454.517073 306.18 \nL 454.517073 7.2 \n\" style=\"fill:none;stroke:#ffffff;stroke-linecap:round;\"/>\n     </g>\n     <g id=\"line2d_10\"/>\n     <g id=\"text_5\">\n      <!-- 2.0 -->\n      <defs>\n       <path d=\"M 9.09375 57.703125 \nQ 8 56.59375 8 58.09375 \nL 8 65.59375 \nQ 12.203125 68.90625 17.203125 71.203125 \nQ 22.203125 73.5 28.90625 73.5 \nQ 39.796875 73.5 45.4375 68.546875 \nQ 51.09375 63.59375 51.09375 53.40625 \nQ 51.09375 50 50 46.890625 \nQ 48.90625 43.796875 46.953125 40.640625 \nQ 45 37.5 42.25 34.09375 \nQ 39.5 30.703125 36.203125 26.703125 \nL 15.796875 3.5 \nL 15.796875 3.40625 \nL 52.203125 3.40625 \nL 52.203125 -3.59375 \nL 5.5 -3.59375 \nL 5.5 3.90625 \nL 28.796875 30.09375 \nQ 32.703125 35.09375 35.296875 38.4375 \nQ 37.90625 41.796875 39.453125 44.34375 \nQ 41 46.90625 41.640625 49 \nQ 42.296875 51.09375 42.296875 53.59375 \nQ 42.296875 59.703125 39.140625 63.09375 \nQ 36 66.5 29.09375 66.5 \nQ 24.296875 66.5 19.296875 64.25 \nQ 14.296875 62 9.09375 57.703125 \nz\n\" id=\"NanumBarunGothic-50\"/>\n      </defs>\n      <g style=\"fill:#262626;\" transform=\"translate(447.202229 320.950312)scale(0.1 -0.1)\">\n       <use xlink:href=\"#NanumBarunGothic-50\"/>\n       <use x=\"58.299988\" xlink:href=\"#NanumBarunGothic-46\"/>\n       <use x=\"87.999985\" xlink:href=\"#NanumBarunGothic-48\"/>\n      </g>\n     </g>\n    </g>\n    <g id=\"text_6\">\n     <!-- 1e6 -->\n     <defs>\n      <path d=\"M 13 29 \nL 43.90625 29 \nL 43.90625 29.40625 \nQ 43.90625 37.5 40.046875 41.640625 \nQ 36.203125 45.796875 29.59375 45.796875 \nQ 26.5 45.796875 23.75 44.640625 \nQ 21 43.5 18.796875 41.390625 \nQ 16.59375 39.296875 15.09375 36.25 \nQ 13.59375 33.203125 13 29.5 \nz\nM 29.796875 52.296875 \nQ 40.796875 52.296875 46.890625 45.6875 \nQ 53 39.09375 53 26.59375 \nL 53 22.5 \nL 12.90625 22.5 \nL 12.90625 21.59375 \nQ 13.09375 12 18.09375 7.09375 \nQ 23.09375 2.203125 31.5 2.203125 \nQ 35.90625 2.203125 40.25 3.5 \nQ 44.59375 4.796875 49.203125 8 \nQ 50.296875 8.90625 50.296875 7.59375 \nL 50.296875 0.703125 \nQ 46.09375 -2.5 41.1875 -3.640625 \nQ 36.296875 -4.796875 30.296875 -4.796875 \nQ 24.40625 -4.796875 19.5 -2.890625 \nQ 14.59375 -1 11.09375 2.59375 \nQ 7.59375 6.203125 5.640625 11.453125 \nQ 3.703125 16.703125 3.703125 23.5 \nQ 3.703125 30 5.59375 35.296875 \nQ 7.5 40.59375 10.953125 44.390625 \nQ 14.40625 48.203125 19.203125 50.25 \nQ 24 52.296875 29.796875 52.296875 \nz\n\" id=\"NanumBarunGothic-101\"/>\n      <path d=\"M 49.796875 62.90625 \nQ 47 64.59375 43.703125 65.59375 \nQ 40.40625 66.59375 36.59375 66.59375 \nQ 31.296875 66.59375 27.09375 64.046875 \nQ 22.90625 61.5 19.953125 57.140625 \nQ 17 52.796875 15.34375 47.09375 \nQ 13.703125 41.40625 13.5 35 \nL 13.703125 35 \nQ 14.703125 37.203125 16.390625 39.25 \nQ 18.09375 41.296875 20.4375 42.84375 \nQ 22.796875 44.40625 25.640625 45.296875 \nQ 28.5 46.203125 31.796875 46.203125 \nQ 37.203125 46.203125 41.34375 44.34375 \nQ 45.5 42.5 48.34375 39.203125 \nQ 51.203125 35.90625 52.703125 31.40625 \nQ 54.203125 26.90625 54.203125 21.59375 \nQ 54.203125 15.703125 52.453125 10.890625 \nQ 50.703125 6.09375 47.453125 2.6875 \nQ 44.203125 -0.703125 39.75 -2.546875 \nQ 35.296875 -4.40625 29.90625 -4.40625 \nQ 22.203125 -4.40625 17.390625 -1.15625 \nQ 12.59375 2.09375 9.890625 7.1875 \nQ 7.203125 12.296875 6.25 18.546875 \nQ 5.296875 24.796875 5.296875 30.90625 \nQ 5.296875 38.59375 7.046875 46.25 \nQ 8.796875 53.90625 12.546875 59.953125 \nQ 16.296875 66 22.1875 69.796875 \nQ 28.09375 73.59375 36.40625 73.59375 \nQ 40.59375 73.59375 44.09375 72.84375 \nQ 47.59375 72.09375 50.703125 70.703125 \nL 50.703125 63.296875 \nQ 50.703125 62.203125 49.796875 62.90625 \nz\nM 14.296875 20.796875 \nQ 14.296875 17.09375 15.34375 13.796875 \nQ 16.40625 10.5 18.453125 8 \nQ 20.5 5.5 23.390625 4 \nQ 26.296875 2.5 29.90625 2.5 \nQ 33.90625 2.5 36.84375 4.140625 \nQ 39.796875 5.796875 41.6875 8.390625 \nQ 43.59375 11 44.5 14.34375 \nQ 45.40625 17.703125 45.40625 21.09375 \nQ 45.40625 24.796875 44.5 28.09375 \nQ 43.59375 31.40625 41.796875 33.84375 \nQ 40 36.296875 37.203125 37.75 \nQ 34.40625 39.203125 30.59375 39.203125 \nQ 26.59375 39.203125 23.640625 37.75 \nQ 20.703125 36.296875 18.703125 33.75 \nQ 16.703125 31.203125 15.640625 27.84375 \nQ 14.59375 24.5 14.296875 20.796875 \nz\n\" id=\"NanumBarunGothic-54\"/>\n     </defs>\n     <g style=\"fill:#262626;\" transform=\"translate(508.048594 334.53)scale(0.1 -0.1)\">\n      <use xlink:href=\"#NanumBarunGothic-49\"/>\n      <use x=\"58.299988\" xlink:href=\"#NanumBarunGothic-101\"/>\n      <use x=\"114.199982\" xlink:href=\"#NanumBarunGothic-54\"/>\n     </g>\n    </g>\n   </g>\n   <g id=\"matplotlib.axis_2\">\n    <g id=\"ytick_1\">\n     <g id=\"line2d_11\">\n      <path clip-path=\"url(#p316cb343bd)\" d=\"M 78.898594 293.7225 \nL 525.298594 293.7225 \n\" style=\"fill:none;stroke:#ffffff;stroke-linecap:round;\"/>\n     </g>\n     <g id=\"line2d_12\"/>\n     <g id=\"text_7\">\n      <!-- 뮤지컬 -->\n      <defs>\n       <path d=\"M 2.09375 18.5 \nL 2.09375 25.796875 \nL 87.09375 25.796875 \nL 87.09375 18.5 \nL 65.703125 18.5 \nL 65.703125 -12.796875 \nL 57 -12.796875 \nL 57 18.5 \nL 34.5 18.5 \nL 34.5 -12.796875 \nL 25.796875 -12.796875 \nL 25.796875 18.5 \nz\nM 16.203125 37.203125 \nL 16.203125 74.796875 \nL 74.203125 74.796875 \nL 74.203125 37.203125 \nz\nM 65.59375 67.296875 \nL 24.796875 67.296875 \nL 24.796875 44.5 \nL 65.59375 44.5 \nz\n\" id=\"NanumBarunGothic-48036\"/>\n       <path d=\"M 69.5 78 \nL 78.09375 78 \nL 78.09375 -13.296875 \nL 69.5 -13.296875 \nz\nM 40.203125 38.40625 \nQ 44.40625 31.796875 50.09375 25.640625 \nQ 55.796875 19.5 62.40625 14.703125 \nL 56 8.5 \nQ 50 13.09375 44.953125 18.890625 \nQ 39.90625 24.703125 35.59375 31.296875 \nQ 29.796875 23.203125 22.6875 16.59375 \nQ 15.59375 10 7.796875 5.5 \nL 2 11.296875 \nQ 10 15.59375 16.75 22 \nQ 23.5 28.40625 28.546875 35.5 \nQ 33.59375 42.59375 36.6875 49.796875 \nQ 39.796875 57 40.40625 63 \nQ 34.703125 62.796875 29.25 62.75 \nQ 23.796875 62.703125 18.203125 62.703125 \nL 7.40625 62.703125 \nL 7.40625 70 \nL 23.5 70 \nQ 29.90625 70 36.5 70 \nQ 43.09375 70 50.203125 70.203125 \nQ 49.90625 62.09375 47.296875 54 \nQ 44.703125 45.90625 40.203125 38.40625 \nz\n\" id=\"NanumBarunGothic-51648\"/>\n       <path d=\"M 80.09375 -12.296875 \nL 20.703125 -12.296875 \nL 20.703125 11.203125 \nL 69.59375 11.203125 \nL 69.59375 19.703125 \nL 20.703125 19.703125 \nL 20.703125 27.09375 \nL 78.09375 27.09375 \nL 78.09375 3.90625 \nL 29.203125 3.90625 \nL 29.203125 -4.90625 \nL 80.09375 -4.90625 \nz\nM 44.09375 66.796875 \nQ 38.09375 66.59375 32.4375 66.546875 \nQ 26.796875 66.5 20.796875 66.5 \nL 10 66.5 \nL 10 73.703125 \nL 26.5 73.703125 \nQ 33.5 73.703125 40.25 73.703125 \nQ 47 73.703125 54.09375 73.90625 \nQ 53.5 66 50 58.890625 \nQ 46.5 51.796875 40.59375 45.84375 \nQ 34.703125 39.90625 26.75 35.296875 \nQ 18.796875 30.703125 9.296875 27.796875 \nL 4.5 34.09375 \nQ 14.09375 36.796875 21.890625 41 \nQ 29.703125 45.203125 35.09375 50.90625 \nQ 30.90625 50.40625 26.453125 50.25 \nQ 22 50.09375 17.296875 50 \nL 8.703125 50 \nL 8.703125 56.703125 \nL 20.703125 56.703125 \nQ 26 56.703125 30.796875 56.953125 \nQ 35.59375 57.203125 40.40625 57.796875 \nQ 41.59375 59.90625 42.546875 62.15625 \nQ 43.5 64.40625 44.09375 66.796875 \nz\nM 53.09375 47.203125 \nL 53.09375 54.796875 \nL 69.5 54.796875 \nL 69.5 78 \nL 78.09375 78 \nL 78.09375 32.296875 \nL 69.5 32.296875 \nL 69.5 47.203125 \nz\n\" id=\"NanumBarunGothic-52972\"/>\n      </defs>\n      <g style=\"fill:#262626;\" transform=\"translate(45.137656 297.607656)scale(0.1 -0.1)\">\n       <use xlink:href=\"#NanumBarunGothic-48036\"/>\n       <use x=\"89.199982\" xlink:href=\"#NanumBarunGothic-51648\"/>\n       <use x=\"178.399963\" xlink:href=\"#NanumBarunGothic-52972\"/>\n      </g>\n     </g>\n    </g>\n    <g id=\"ytick_2\">\n     <g id=\"line2d_13\">\n      <path clip-path=\"url(#p316cb343bd)\" d=\"M 78.898594 268.8075 \nL 525.298594 268.8075 \n\" style=\"fill:none;stroke:#ffffff;stroke-linecap:round;\"/>\n     </g>\n     <g id=\"line2d_14\"/>\n     <g id=\"text_8\">\n      <!-- 다큐멘터리 -->\n      <defs>\n       <path d=\"M 89 35.59375 \nL 73.296875 35.59375 \nL 73.296875 -13.296875 \nL 64.703125 -13.296875 \nL 64.703125 78 \nL 73.296875 78 \nL 73.296875 43.09375 \nL 89 43.09375 \nz\nM 7 70.203125 \nL 49.203125 70.203125 \nL 49.203125 62.90625 \nL 15.796875 62.90625 \nL 15.796875 17.703125 \nL 25.796875 17.703125 \nQ 35.90625 17.703125 44.296875 19 \nQ 52.703125 20.296875 58 21.40625 \nL 58 14.09375 \nQ 55.09375 13.296875 51.1875 12.59375 \nQ 47.296875 11.90625 42.890625 11.34375 \nQ 38.5 10.796875 33.796875 10.4375 \nQ 29.09375 10.09375 24.59375 10.09375 \nL 7 10.09375 \nz\n\" id=\"NanumBarunGothic-45796\"/>\n       <path d=\"M 13.59375 53.90625 \nL 39.5 53.90625 \nQ 46.796875 53.90625 53.25 54.203125 \nQ 59.703125 54.5 65.40625 55.203125 \nQ 65.59375 58.296875 65.75 61.140625 \nQ 65.90625 64 65.90625 66.59375 \nL 15.09375 66.59375 \nL 15.09375 74 \nL 74.59375 74 \nQ 74.59375 68.90625 74.25 63.25 \nQ 73.90625 57.59375 73.296875 52.09375 \nQ 72.703125 46.59375 72 41.5 \nQ 71.296875 36.40625 70.59375 32.203125 \nL 87.09375 32.203125 \nL 87.09375 24.703125 \nL 65.703125 24.703125 \nL 65.703125 -12.796875 \nL 57 -12.796875 \nL 57 24.703125 \nL 34.5 24.703125 \nL 34.5 -12.796875 \nL 25.796875 -12.796875 \nL 25.796875 24.703125 \nL 2.09375 24.703125 \nL 2.09375 32.203125 \nL 62.296875 32.203125 \nQ 63 35.90625 63.640625 40.09375 \nQ 64.296875 44.296875 64.796875 48.703125 \nQ 58.796875 47.59375 52.046875 47.25 \nQ 45.296875 46.90625 37.703125 46.90625 \nL 13.59375 46.90625 \nz\n\" id=\"NanumBarunGothic-53328\"/>\n       <path d=\"M 80.40625 10.09375 \nL 72.09375 10.09375 \nL 72.09375 78 \nL 80.40625 78 \nz\nM 53.703125 77 \nL 61.90625 77 \nL 61.90625 12.09375 \nL 53.703125 12.09375 \nL 53.703125 48.796875 \nL 41.796875 48.796875 \nL 41.796875 29.796875 \nL 7.203125 29.796875 \nL 7.203125 72.796875 \nL 41.796875 72.796875 \nL 41.796875 56.296875 \nL 53.703125 56.296875 \nz\nM 33.59375 37.09375 \nL 33.59375 65.59375 \nL 15.59375 65.59375 \nL 15.59375 37.09375 \nz\nM 81.90625 -11.5 \nL 23 -11.5 \nL 23 16.296875 \nL 31.703125 16.296875 \nL 31.703125 -4.09375 \nL 81.90625 -4.09375 \nz\n\" id=\"NanumBarunGothic-47704\"/>\n       <path d=\"M 53.40625 38.59375 \nL 53.40625 46.09375 \nL 69.5 46.09375 \nL 69.5 78 \nL 78.09375 78 \nL 78.09375 -13.296875 \nL 69.5 -13.296875 \nL 69.5 38.59375 \nz\nM 27.40625 9.59375 \nL 7.203125 9.59375 \nL 7.203125 70.59375 \nL 46.90625 70.59375 \nL 46.90625 63.296875 \nL 15.796875 63.296875 \nL 15.796875 44 \nL 44.703125 44 \nL 44.703125 36.703125 \nL 15.796875 36.703125 \nL 15.796875 16.90625 \nL 28.703125 16.90625 \nQ 37.203125 16.90625 45.140625 17.84375 \nQ 53.09375 18.796875 60.5 20.5 \nL 60.5 13.40625 \nQ 53.09375 11.5 44.59375 10.546875 \nQ 36.09375 9.59375 27.40625 9.59375 \nz\n\" id=\"NanumBarunGothic-53552\"/>\n       <path d=\"M 69.5 78 \nL 78.09375 78 \nL 78.09375 -13.296875 \nL 69.5 -13.296875 \nz\nM 16.296875 15.703125 \nL 30.203125 15.703125 \nQ 35.40625 15.703125 40.25 16.046875 \nQ 45.09375 16.40625 49.34375 16.953125 \nQ 53.59375 17.5 57.1875 18.140625 \nQ 60.796875 18.796875 63.5 19.40625 \nL 63.5 12.296875 \nQ 60.5 11.5 56.5 10.796875 \nQ 52.5 10.09375 47.890625 9.59375 \nQ 43.296875 9.09375 38.4375 8.75 \nQ 33.59375 8.40625 29 8.40625 \nL 7.5 8.40625 \nL 7.5 44.59375 \nL 38.59375 44.59375 \nL 38.59375 63.296875 \nL 7.296875 63.296875 \nL 7.296875 70.703125 \nL 47.40625 70.703125 \nL 47.40625 37.296875 \nL 16.296875 37.296875 \nz\n\" id=\"NanumBarunGothic-47532\"/>\n      </defs>\n      <g style=\"fill:#262626;\" transform=\"translate(27.297031 272.692656)scale(0.1 -0.1)\">\n       <use xlink:href=\"#NanumBarunGothic-45796\"/>\n       <use x=\"89.199982\" xlink:href=\"#NanumBarunGothic-53328\"/>\n       <use x=\"178.399963\" xlink:href=\"#NanumBarunGothic-47704\"/>\n       <use x=\"267.599945\" xlink:href=\"#NanumBarunGothic-53552\"/>\n       <use x=\"356.799927\" xlink:href=\"#NanumBarunGothic-47532\"/>\n      </g>\n     </g>\n    </g>\n    <g id=\"ytick_3\">\n     <g id=\"line2d_15\">\n      <path clip-path=\"url(#p316cb343bd)\" d=\"M 78.898594 243.8925 \nL 525.298594 243.8925 \n\" style=\"fill:none;stroke:#ffffff;stroke-linecap:round;\"/>\n     </g>\n     <g id=\"line2d_16\"/>\n     <g id=\"text_9\">\n      <!-- 서스펜스 -->\n      <defs>\n       <path d=\"M 49.09375 39.203125 \nL 49.09375 46.703125 \nL 69.5 46.703125 \nL 69.5 78 \nL 78.09375 78 \nL 78.09375 -13.296875 \nL 69.5 -13.296875 \nL 69.5 39.203125 \nz\nM 6 6.703125 \nL -0.203125 12.203125 \nQ 5.90625 16.59375 11.09375 22.296875 \nQ 16.296875 28 19.890625 35.34375 \nQ 23.5 42.703125 25.25 51.890625 \nQ 27 61.09375 26.203125 72.40625 \nL 35.296875 72.40625 \nQ 35.5 65.796875 34.890625 59.890625 \nQ 34.296875 54 33.203125 48.59375 \nQ 36.796875 38.296875 43.390625 29.75 \nQ 50 21.203125 59.09375 15.09375 \nL 53.5 8.703125 \nQ 46 14 40.046875 21.25 \nQ 34.09375 28.5 29.90625 37.59375 \nQ 26.09375 27.796875 20.046875 20.140625 \nQ 14 12.5 6 6.703125 \nz\n\" id=\"NanumBarunGothic-49436\"/>\n       <path d=\"M 87.09375 7.203125 \nL 87.09375 -0.09375 \nL 2.09375 -0.09375 \nL 2.09375 7.203125 \nz\nM 48.5 60.296875 \nQ 54.203125 49.703125 62.640625 42.203125 \nQ 71.09375 34.703125 82.296875 31 \nL 76.703125 24.5 \nQ 67.09375 27.90625 58.890625 35 \nQ 50.703125 42.09375 45.203125 51.40625 \nQ 40.40625 42 32.09375 35.25 \nQ 23.796875 28.5 13.796875 24.796875 \nL 8.09375 31.40625 \nQ 15.703125 34.09375 21.84375 37.84375 \nQ 28 41.59375 32.296875 46.75 \nQ 36.59375 51.90625 38.84375 58.546875 \nQ 41.09375 65.203125 40.90625 73.703125 \nL 49.796875 73.703125 \nQ 50.09375 66.40625 48.5 60.296875 \nz\n\" id=\"NanumBarunGothic-49828\"/>\n       <path d=\"M 80.40625 10.09375 \nL 72.09375 10.09375 \nL 72.09375 78 \nL 80.40625 78 \nz\nM 55.59375 77 \nL 63.796875 77 \nL 63.796875 12.09375 \nL 55.59375 12.09375 \nL 55.59375 46.703125 \nL 44 46.703125 \nL 44 54.203125 \nL 55.59375 54.203125 \nz\nM 81.90625 -11.5 \nL 23 -11.5 \nL 23 16.796875 \nL 31.703125 16.796875 \nL 31.703125 -4 \nL 81.90625 -4 \nz\nM 3.5 65 \nL 3.5 72.203125 \nL 45.59375 72.203125 \nL 45.59375 65 \nz\nM 10.59375 35.59375 \nL 9.90625 61.296875 \nL 18 61.296875 \nL 18.703125 35.59375 \nL 30.09375 35.59375 \nL 30.59375 61.296875 \nL 38.703125 61.296875 \nL 38.203125 35.90625 \nQ 45.296875 36.40625 51.203125 37.90625 \nL 51.203125 30.796875 \nQ 46.296875 29.203125 40.4375 28.75 \nQ 34.59375 28.296875 28.5 28.296875 \nL 2.296875 28.296875 \nL 2.296875 35.59375 \nz\n\" id=\"NanumBarunGothic-54172\"/>\n      </defs>\n      <g style=\"fill:#262626;\" transform=\"translate(36.217344 247.777656)scale(0.1 -0.1)\">\n       <use xlink:href=\"#NanumBarunGothic-49436\"/>\n       <use x=\"89.199982\" xlink:href=\"#NanumBarunGothic-49828\"/>\n       <use x=\"178.399963\" xlink:href=\"#NanumBarunGothic-54172\"/>\n       <use x=\"267.599945\" xlink:href=\"#NanumBarunGothic-49828\"/>\n      </g>\n     </g>\n    </g>\n    <g id=\"ytick_4\">\n     <g id=\"line2d_17\">\n      <path clip-path=\"url(#p316cb343bd)\" d=\"M 78.898594 218.9775 \nL 525.298594 218.9775 \n\" style=\"fill:none;stroke:#ffffff;stroke-linecap:round;\"/>\n     </g>\n     <g id=\"line2d_18\"/>\n     <g id=\"text_10\">\n      <!-- 애니메이션 -->\n      <defs>\n       <path d=\"M 42.5 40 \nQ 42.5 24.203125 37.390625 15.953125 \nQ 32.296875 7.703125 23.203125 7.703125 \nQ 14.40625 7.703125 9.296875 15.953125 \nQ 4.203125 24.203125 4.203125 40 \nQ 4.203125 55.796875 9.296875 64.046875 \nQ 14.40625 72.296875 23.203125 72.296875 \nQ 32.296875 72.296875 37.390625 64.046875 \nQ 42.5 55.796875 42.5 40 \nz\nM 34.09375 40 \nQ 34.09375 45.5 33.5 50.09375 \nQ 32.90625 54.703125 31.59375 58 \nQ 30.296875 61.296875 28.1875 63.09375 \nQ 26.09375 64.90625 23.09375 64.90625 \nQ 20.203125 64.90625 18.203125 63.09375 \nQ 16.203125 61.296875 15 58 \nQ 13.796875 54.703125 13.25 50.09375 \nQ 12.703125 45.5 12.703125 40 \nQ 12.703125 34.5 13.25 29.890625 \nQ 13.796875 25.296875 15 22 \nQ 16.203125 18.703125 18.203125 16.890625 \nQ 20.203125 15.09375 23.09375 15.09375 \nQ 26.09375 15.09375 28.1875 16.890625 \nQ 30.296875 18.703125 31.59375 22 \nQ 32.90625 25.296875 33.5 29.890625 \nQ 34.09375 34.5 34.09375 40 \nz\nM 79.59375 -13.296875 \nL 71 -13.296875 \nL 71 38.296875 \nL 59.59375 38.296875 \nL 59.59375 -11 \nL 51.203125 -11 \nL 51.203125 77 \nL 59.59375 77 \nL 59.59375 45.703125 \nL 71 45.703125 \nL 71 78 \nL 79.59375 78 \nz\n\" id=\"NanumBarunGothic-50528\"/>\n       <path d=\"M 69.5 78 \nL 78.09375 78 \nL 78.09375 -13.296875 \nL 69.5 -13.296875 \nz\nM 30.40625 13 \nL 8 13 \nL 8 71.40625 \nL 16.90625 71.40625 \nL 16.90625 20.703125 \nL 31.59375 20.703125 \nQ 41.703125 20.703125 50.09375 22 \nQ 58.5 23.296875 63.796875 24.5 \nL 63.796875 17 \nQ 60.90625 16.203125 57 15.5 \nQ 53.09375 14.796875 48.6875 14.25 \nQ 44.296875 13.703125 39.59375 13.34375 \nQ 34.90625 13 30.40625 13 \nz\n\" id=\"NanumBarunGothic-45768\"/>\n       <path d=\"M 79.59375 -13.296875 \nL 71 -13.296875 \nL 71 78 \nL 79.59375 78 \nz\nM 53.09375 77 \nL 61.703125 77 \nL 61.703125 -11 \nL 53.09375 -11 \nL 53.09375 38.40625 \nL 41 38.40625 \nL 41 11.90625 \nL 6.796875 11.90625 \nL 6.796875 70.09375 \nL 41 70.09375 \nL 41 45.90625 \nL 53.09375 45.90625 \nz\nM 32.703125 19.203125 \nL 32.703125 62.90625 \nL 15.203125 62.90625 \nL 15.203125 19.203125 \nz\n\" id=\"NanumBarunGothic-47700\"/>\n       <path d=\"M 69.5 78 \nL 78.09375 78 \nL 78.09375 -13.296875 \nL 69.5 -13.296875 \nz\nM 52.203125 40.09375 \nQ 52.203125 32.09375 50.390625 25.9375 \nQ 48.59375 19.796875 45.4375 15.6875 \nQ 42.296875 11.59375 38 9.5 \nQ 33.703125 7.40625 28.796875 7.40625 \nQ 23.90625 7.40625 19.65625 9.5 \nQ 15.40625 11.59375 12.203125 15.6875 \nQ 9 19.796875 7.140625 25.9375 \nQ 5.296875 32.09375 5.296875 40.09375 \nQ 5.296875 48.09375 7.140625 54.1875 \nQ 9 60.296875 12.203125 64.390625 \nQ 15.40625 68.5 19.65625 70.59375 \nQ 23.90625 72.703125 28.796875 72.703125 \nQ 33.703125 72.703125 38 70.59375 \nQ 42.296875 68.5 45.4375 64.390625 \nQ 48.59375 60.296875 50.390625 54.1875 \nQ 52.203125 48.09375 52.203125 40.09375 \nz\nM 43.5 40.09375 \nQ 43.5 45.703125 42.5 50.296875 \nQ 41.5 54.90625 39.640625 58.203125 \nQ 37.796875 61.5 35.046875 63.296875 \nQ 32.296875 65.09375 28.796875 65.09375 \nQ 25.296875 65.09375 22.546875 63.296875 \nQ 19.796875 61.5 17.9375 58.203125 \nQ 16.09375 54.90625 15.09375 50.296875 \nQ 14.09375 45.703125 14.09375 40.09375 \nQ 14.09375 34.5 15.09375 29.890625 \nQ 16.09375 25.296875 17.9375 22 \nQ 19.796875 18.703125 22.546875 16.84375 \nQ 25.296875 15 28.796875 15 \nQ 32.296875 15 35.046875 16.84375 \nQ 37.796875 18.703125 39.640625 22 \nQ 41.5 25.296875 42.5 29.890625 \nQ 43.5 34.5 43.5 40.09375 \nz\n\" id=\"NanumBarunGothic-51060\"/>\n       <path d=\"M 52.796875 57.296875 \nL 52.796875 64.5 \nL 69.5 64.5 \nL 69.5 78 \nL 78.09375 78 \nL 78.09375 12 \nL 69.5 12 \nL 69.5 40.296875 \nL 52.796875 40.296875 \nL 52.796875 47.59375 \nL 69.59375 47.59375 \nL 69.59375 57.296875 \nz\nM 80.09375 -11.5 \nL 22.09375 -11.5 \nL 22.09375 15.5 \nL 30.796875 15.5 \nL 30.796875 -4 \nL 80.09375 -4 \nz\nM 8.09375 21.5 \nL 2 27.203125 \nQ 28.90625 43.59375 27.296875 75.703125 \nL 36.296875 75.703125 \nQ 36.40625 65.796875 34.203125 57.09375 \nQ 38.796875 47.703125 44.890625 41.5 \nQ 51 35.296875 59.296875 30.59375 \nL 53.796875 24.203125 \nQ 46.5 28.40625 40.703125 34.34375 \nQ 34.90625 40.296875 30.90625 47.40625 \nQ 27.296875 39 21.5 32.5 \nQ 15.703125 26 8.09375 21.5 \nz\n\" id=\"NanumBarunGothic-49496\"/>\n      </defs>\n      <g style=\"fill:#262626;\" transform=\"translate(27.297031 222.862656)scale(0.1 -0.1)\">\n       <use xlink:href=\"#NanumBarunGothic-50528\"/>\n       <use x=\"89.199982\" xlink:href=\"#NanumBarunGothic-45768\"/>\n       <use x=\"178.399963\" xlink:href=\"#NanumBarunGothic-47700\"/>\n       <use x=\"267.599945\" xlink:href=\"#NanumBarunGothic-51060\"/>\n       <use x=\"356.799927\" xlink:href=\"#NanumBarunGothic-49496\"/>\n      </g>\n     </g>\n    </g>\n    <g id=\"ytick_5\">\n     <g id=\"line2d_19\">\n      <path clip-path=\"url(#p316cb343bd)\" d=\"M 78.898594 194.0625 \nL 525.298594 194.0625 \n\" style=\"fill:none;stroke:#ffffff;stroke-linecap:round;\"/>\n     </g>\n     <g id=\"line2d_20\"/>\n     <g id=\"text_11\">\n      <!-- 멜로/로맨스 -->\n      <defs>\n       <path d=\"M 41.59375 36.59375 \nL 7.203125 36.59375 \nL 7.203125 73.40625 \nL 41.59375 73.40625 \nL 41.59375 60.296875 \nL 53.703125 60.296875 \nL 53.703125 77 \nL 61.90625 77 \nL 61.90625 32.296875 \nL 53.703125 32.296875 \nL 53.703125 52.796875 \nL 41.59375 52.796875 \nz\nM 33.40625 43.5 \nL 33.40625 66.5 \nL 15.59375 66.5 \nL 15.59375 43.5 \nz\nM 80.40625 32.296875 \nL 72.09375 32.296875 \nL 72.09375 78 \nL 80.40625 78 \nz\nM 82.40625 -12.296875 \nL 21.5 -12.296875 \nL 21.5 11.09375 \nL 71.90625 11.09375 \nL 71.90625 19.90625 \nL 21.09375 19.90625 \nL 21.09375 27.09375 \nL 80.40625 27.09375 \nL 80.40625 4.09375 \nL 30 4.09375 \nL 30 -5 \nL 82.40625 -5 \nz\n\" id=\"NanumBarunGothic-47708\"/>\n       <path d=\"M 16.09375 23.203125 \nL 16.09375 50.796875 \nL 64.59375 50.796875 \nL 64.59375 64 \nL 16 64 \nL 16 71.5 \nL 73.203125 71.5 \nL 73.203125 43.703125 \nL 24.703125 43.703125 \nL 24.703125 30.5 \nL 76.203125 30.5 \nL 76.203125 23.203125 \nL 49.09375 23.203125 \nL 49.09375 6.90625 \nL 87.09375 6.90625 \nL 87.09375 -0.40625 \nL 2.09375 -0.40625 \nL 2.09375 6.90625 \nL 40.09375 6.90625 \nL 40.09375 23.203125 \nz\n\" id=\"NanumBarunGothic-47196\"/>\n       <path d=\"M 12.796875 -14.90625 \nL 4.5 -14.90625 \nL 32.40625 78.5 \nL 40.203125 78.5 \nz\n\" id=\"NanumBarunGothic-47\"/>\n       <path d=\"M 41.796875 29.796875 \nL 7.203125 29.796875 \nL 7.203125 72.796875 \nL 41.796875 72.796875 \nz\nM 33.59375 37.09375 \nL 33.59375 65.59375 \nL 15.59375 65.59375 \nL 15.59375 37.09375 \nz\nM 80.40625 11.09375 \nL 72.09375 11.09375 \nL 72.09375 47 \nL 61 47 \nL 61 13.09375 \nL 52.796875 13.09375 \nL 52.796875 77 \nL 61 77 \nL 61 54.40625 \nL 72.09375 54.40625 \nL 72.09375 78 \nL 80.40625 78 \nz\nM 81.90625 -11.5 \nL 23 -11.5 \nL 23 16.296875 \nL 31.703125 16.296875 \nL 31.703125 -4.09375 \nL 81.90625 -4.09375 \nz\n\" id=\"NanumBarunGothic-47592\"/>\n      </defs>\n      <g style=\"fill:#262626;\" transform=\"translate(22.837656 197.947656)scale(0.1 -0.1)\">\n       <use xlink:href=\"#NanumBarunGothic-47708\"/>\n       <use x=\"89.199982\" xlink:href=\"#NanumBarunGothic-47196\"/>\n       <use x=\"178.399963\" xlink:href=\"#NanumBarunGothic-47\"/>\n       <use x=\"222.999954\" xlink:href=\"#NanumBarunGothic-47196\"/>\n       <use x=\"312.199936\" xlink:href=\"#NanumBarunGothic-47592\"/>\n       <use x=\"401.399918\" xlink:href=\"#NanumBarunGothic-49828\"/>\n      </g>\n     </g>\n    </g>\n    <g id=\"ytick_6\">\n     <g id=\"line2d_21\">\n      <path clip-path=\"url(#p316cb343bd)\" d=\"M 78.898594 169.1475 \nL 525.298594 169.1475 \n\" style=\"fill:none;stroke:#ffffff;stroke-linecap:round;\"/>\n     </g>\n     <g id=\"line2d_22\"/>\n     <g id=\"text_12\">\n      <!-- 미스터리 -->\n      <defs>\n       <path d=\"M 69.5 78 \nL 78.09375 78 \nL 78.09375 -13.296875 \nL 69.5 -13.296875 \nz\nM 48.703125 11.796875 \nL 7.90625 11.796875 \nL 7.90625 70.203125 \nL 48.703125 70.203125 \nz\nM 40.203125 19.09375 \nL 40.203125 63 \nL 16.703125 63 \nL 16.703125 19.09375 \nz\n\" id=\"NanumBarunGothic-48120\"/>\n      </defs>\n      <g style=\"fill:#262626;\" transform=\"translate(36.217344 173.032656)scale(0.1 -0.1)\">\n       <use xlink:href=\"#NanumBarunGothic-48120\"/>\n       <use x=\"89.199982\" xlink:href=\"#NanumBarunGothic-49828\"/>\n       <use x=\"178.399963\" xlink:href=\"#NanumBarunGothic-53552\"/>\n       <use x=\"267.599945\" xlink:href=\"#NanumBarunGothic-47532\"/>\n      </g>\n     </g>\n    </g>\n    <g id=\"ytick_7\">\n     <g id=\"line2d_23\">\n      <path clip-path=\"url(#p316cb343bd)\" d=\"M 78.898594 144.2325 \nL 525.298594 144.2325 \n\" style=\"fill:none;stroke:#ffffff;stroke-linecap:round;\"/>\n     </g>\n     <g id=\"line2d_24\"/>\n     <g id=\"text_13\">\n      <!-- 공포 -->\n      <defs>\n       <path d=\"M 13.203125 75.5 \nL 73.703125 75.5 \nQ 73.5 65.796875 72.703125 57.140625 \nQ 71.90625 48.5 71 42.59375 \nL 62.5 42.59375 \nQ 63.5 48.90625 64.140625 55.296875 \nQ 64.796875 61.703125 65 68 \nL 13.203125 68 \nz\nM 42.40625 55.5 \nL 42.40625 36.90625 \nL 88.09375 36.90625 \nL 88.09375 29.5 \nL 1.09375 29.5 \nL 1.09375 36.90625 \nL 33.5 36.90625 \nL 33.5 55.5 \nz\nM 75 4.203125 \nQ 75 0.40625 73.046875 -2.9375 \nQ 71.09375 -6.296875 67.1875 -8.796875 \nQ 63.296875 -11.296875 57.5 -12.6875 \nQ 51.703125 -14.09375 44.09375 -14.09375 \nQ 36.40625 -14.09375 30.59375 -12.6875 \nQ 24.796875 -11.296875 20.890625 -8.796875 \nQ 17 -6.296875 15 -2.9375 \nQ 13 0.40625 13 4.203125 \nQ 13 8.09375 15 11.390625 \nQ 17 14.703125 20.890625 17.09375 \nQ 24.796875 19.5 30.59375 20.84375 \nQ 36.40625 22.203125 44.09375 22.203125 \nQ 51.703125 22.203125 57.5 20.84375 \nQ 63.296875 19.5 67.1875 17.09375 \nQ 71.09375 14.703125 73.046875 11.390625 \nQ 75 8.09375 75 4.203125 \nz\nM 65.703125 4.203125 \nQ 65.703125 6.203125 64.640625 8.140625 \nQ 63.59375 10.09375 61.046875 11.59375 \nQ 58.5 13.09375 54.34375 14.046875 \nQ 50.203125 15 44.09375 15 \nQ 37.90625 15 33.75 14.046875 \nQ 29.59375 13.09375 27.046875 11.59375 \nQ 24.5 10.09375 23.453125 8.140625 \nQ 22.40625 6.203125 22.40625 4.203125 \nQ 22.40625 2.296875 23.453125 0.34375 \nQ 24.5 -1.59375 27.046875 -3.140625 \nQ 29.59375 -4.703125 33.75 -5.703125 \nQ 37.90625 -6.703125 44.09375 -6.703125 \nQ 50.203125 -6.703125 54.34375 -5.703125 \nQ 58.5 -4.703125 61.046875 -3.140625 \nQ 63.59375 -1.59375 64.640625 0.34375 \nQ 65.703125 2.296875 65.703125 4.203125 \nz\n\" id=\"NanumBarunGothic-44277\"/>\n       <path d=\"M 13.59375 62.796875 \nL 13.59375 70.09375 \nL 75.90625 70.09375 \nL 75.90625 62.796875 \nz\nM 12 26.09375 \nL 12 33.40625 \nL 24.703125 33.40625 \nL 24 59.5 \nL 32.59375 59.5 \nL 33.09375 33.296875 \nL 56 33.296875 \nL 56.90625 59.5 \nL 65.5 59.5 \nL 64.40625 33.40625 \nL 77.40625 33.40625 \nL 77.40625 26.09375 \nL 48.796875 26.09375 \nL 48.796875 7.203125 \nL 87.09375 7.203125 \nL 87.09375 -0.09375 \nL 2.09375 -0.09375 \nL 2.09375 7.203125 \nL 39.796875 7.203125 \nL 39.796875 26.09375 \nz\n\" id=\"NanumBarunGothic-54252\"/>\n      </defs>\n      <g style=\"fill:#262626;\" transform=\"translate(54.057969 148.117656)scale(0.1 -0.1)\">\n       <use xlink:href=\"#NanumBarunGothic-44277\"/>\n       <use x=\"89.199982\" xlink:href=\"#NanumBarunGothic-54252\"/>\n      </g>\n     </g>\n    </g>\n    <g id=\"ytick_8\">\n     <g id=\"line2d_25\">\n      <path clip-path=\"url(#p316cb343bd)\" d=\"M 78.898594 119.3175 \nL 525.298594 119.3175 \n\" style=\"fill:none;stroke:#ffffff;stroke-linecap:round;\"/>\n     </g>\n     <g id=\"line2d_26\"/>\n     <g id=\"text_14\">\n      <!-- 드라마 -->\n      <defs>\n       <path d=\"M 16.40625 26.59375 \nL 16.40625 70.09375 \nL 73.40625 70.09375 \nL 73.40625 62.59375 \nL 25.09375 62.59375 \nL 25.09375 34.5 \nL 74.296875 34.5 \nL 74.296875 26.59375 \nz\nM 87.09375 7.59375 \nL 87.09375 0.296875 \nL 2.09375 0.296875 \nL 2.09375 7.59375 \nz\n\" id=\"NanumBarunGothic-46300\"/>\n       <path d=\"M 89 34.90625 \nL 73.296875 34.90625 \nL 73.296875 -13.296875 \nL 64.703125 -13.296875 \nL 64.703125 78 \nL 73.296875 78 \nL 73.296875 42.5 \nL 89 42.5 \nz\nM 15 15.703125 \nL 25.203125 15.703125 \nQ 30.40625 15.703125 35.25 16.046875 \nQ 40.09375 16.40625 44.34375 16.953125 \nQ 48.59375 17.5 52.1875 18.140625 \nQ 55.796875 18.796875 58.5 19.40625 \nL 58.5 12.296875 \nQ 55.5 11.5 51.5 10.796875 \nQ 47.5 10.09375 42.890625 9.59375 \nQ 38.296875 9.09375 33.4375 8.75 \nQ 28.59375 8.40625 24 8.40625 \nL 6.203125 8.40625 \nL 6.203125 44.59375 \nL 37.296875 44.59375 \nL 37.296875 63.296875 \nL 6 63.296875 \nL 6 70.703125 \nL 46.09375 70.703125 \nL 46.09375 37.296875 \nL 15 37.296875 \nz\n\" id=\"NanumBarunGothic-46972\"/>\n       <path d=\"M 46.59375 11.796875 \nL 6.59375 11.796875 \nL 6.59375 70.203125 \nL 46.59375 70.203125 \nz\nM 38.09375 19.09375 \nL 38.09375 63 \nL 15.40625 63 \nL 15.40625 19.09375 \nz\nM 89 38.09375 \nL 73.296875 38.09375 \nL 73.296875 -13.296875 \nL 64.703125 -13.296875 \nL 64.703125 78 \nL 73.296875 78 \nL 73.296875 45.703125 \nL 89 45.703125 \nz\n\" id=\"NanumBarunGothic-47560\"/>\n      </defs>\n      <g style=\"fill:#262626;\" transform=\"translate(45.137656 123.202656)scale(0.1 -0.1)\">\n       <use xlink:href=\"#NanumBarunGothic-46300\"/>\n       <use x=\"89.199982\" xlink:href=\"#NanumBarunGothic-46972\"/>\n       <use x=\"178.399963\" xlink:href=\"#NanumBarunGothic-47560\"/>\n      </g>\n     </g>\n    </g>\n    <g id=\"ytick_9\">\n     <g id=\"line2d_27\">\n      <path clip-path=\"url(#p316cb343bd)\" d=\"M 78.898594 94.4025 \nL 525.298594 94.4025 \n\" style=\"fill:none;stroke:#ffffff;stroke-linecap:round;\"/>\n     </g>\n     <g id=\"line2d_28\"/>\n     <g id=\"text_15\">\n      <!-- 코미디 -->\n      <defs>\n       <path d=\"M 68.5 18.59375 \nL 60.203125 18.59375 \nQ 61.59375 23.796875 62.5 29.59375 \nQ 63.40625 35.40625 64.09375 41.40625 \nQ 58.203125 40.40625 51.453125 40.046875 \nQ 44.703125 39.703125 37.203125 39.703125 \nL 13.40625 39.703125 \nL 13.40625 47 \nL 39 47 \nQ 46.203125 47 52.640625 47.296875 \nQ 59.09375 47.59375 64.703125 48.296875 \nQ 64.90625 52 65.09375 55.59375 \nQ 65.296875 59.203125 65.40625 62.703125 \nL 14.703125 62.703125 \nL 14.703125 70.09375 \nL 73.90625 70.09375 \nQ 73.796875 64.09375 73.390625 57.34375 \nQ 73 50.59375 72.296875 43.75 \nQ 71.59375 36.90625 70.640625 30.453125 \nQ 69.703125 24 68.5 18.59375 \nz\nM 41.59375 31.59375 \nL 41.59375 7.59375 \nL 87.09375 7.59375 \nL 87.09375 0.296875 \nL 2.09375 0.296875 \nL 2.09375 7.59375 \nL 32.796875 7.59375 \nL 32.796875 31.59375 \nz\n\" id=\"NanumBarunGothic-53076\"/>\n       <path d=\"M 69.5 78 \nL 78.09375 78 \nL 78.09375 -13.296875 \nL 69.5 -13.296875 \nz\nM 8.40625 70.203125 \nL 50.203125 70.203125 \nL 50.203125 62.90625 \nL 17.203125 62.90625 \nL 17.203125 18.203125 \nL 30.796875 18.203125 \nQ 40.90625 18.203125 49.296875 19.5 \nQ 57.703125 20.796875 63 21.90625 \nL 63 14.59375 \nQ 60.09375 13.796875 56.1875 13.09375 \nQ 52.296875 12.40625 47.890625 11.84375 \nQ 43.5 11.296875 38.796875 10.9375 \nQ 34.09375 10.59375 29.59375 10.59375 \nL 8.40625 10.59375 \nz\n\" id=\"NanumBarunGothic-46356\"/>\n      </defs>\n      <g style=\"fill:#262626;\" transform=\"translate(45.137656 98.287656)scale(0.1 -0.1)\">\n       <use xlink:href=\"#NanumBarunGothic-53076\"/>\n       <use x=\"89.199982\" xlink:href=\"#NanumBarunGothic-48120\"/>\n       <use x=\"178.399963\" xlink:href=\"#NanumBarunGothic-46356\"/>\n      </g>\n     </g>\n    </g>\n    <g id=\"ytick_10\">\n     <g id=\"line2d_29\">\n      <path clip-path=\"url(#p316cb343bd)\" d=\"M 78.898594 69.4875 \nL 525.298594 69.4875 \n\" style=\"fill:none;stroke:#ffffff;stroke-linecap:round;\"/>\n     </g>\n     <g id=\"line2d_30\"/>\n     <g id=\"text_16\">\n      <!-- SF -->\n      <defs>\n       <path d=\"M 5.796875 2.09375 \nL 5.796875 11.796875 \nQ 5.796875 12.40625 6.09375 12.546875 \nQ 6.40625 12.703125 6.90625 12.203125 \nQ 11.5 7.40625 16.296875 5.40625 \nQ 21.09375 3.40625 27.203125 3.40625 \nQ 35.40625 3.40625 39.5 6.5 \nQ 43.59375 9.59375 43.59375 16.5 \nQ 43.59375 19 42.640625 21.046875 \nQ 41.703125 23.09375 39.953125 24.796875 \nQ 38.203125 26.5 35.75 28 \nQ 33.296875 29.5 30.296875 30.90625 \nL 23.203125 34 \nQ 19.40625 35.59375 16.296875 37.5 \nQ 13.203125 39.40625 11 41.796875 \nQ 8.796875 44.203125 7.59375 47.34375 \nQ 6.40625 50.5 6.40625 54.59375 \nQ 6.40625 59.296875 8.296875 62.796875 \nQ 10.203125 66.296875 13.453125 68.59375 \nQ 16.703125 70.90625 21.046875 72.046875 \nQ 25.40625 73.203125 30.40625 73.203125 \nQ 35.203125 73.203125 40.296875 71.953125 \nQ 45.40625 70.703125 49.5 67.796875 \nL 49.5 60.40625 \nQ 49.5 59.59375 49.140625 59.4375 \nQ 48.796875 59.296875 48.296875 59.796875 \nQ 44.203125 62.703125 40.140625 64.09375 \nQ 36.09375 65.5 30.796875 65.5 \nQ 23.703125 65.5 19.703125 62.953125 \nQ 15.703125 60.40625 15.703125 54.90625 \nQ 15.703125 52.40625 16.59375 50.40625 \nQ 17.5 48.40625 19.09375 46.84375 \nQ 20.703125 45.296875 22.890625 44.09375 \nQ 25.09375 42.90625 27.59375 42 \nL 34.796875 38.796875 \nQ 44 34.703125 48.640625 29.640625 \nQ 53.296875 24.59375 53.296875 17.09375 \nQ 53.296875 11.5 51.390625 7.453125 \nQ 49.5 3.40625 46.046875 0.75 \nQ 42.59375 -1.90625 37.75 -3.203125 \nQ 32.90625 -4.5 27 -4.5 \nQ 20.40625 -4.5 15.15625 -3 \nQ 9.90625 -1.5 5.796875 2.09375 \nz\n\" id=\"NanumBarunGothic-83\"/>\n       <path d=\"M 53.09375 72.09375 \nL 53.09375 64.59375 \nL 17.296875 64.59375 \nL 17.296875 41 \nL 51.703125 41 \nL 51.703125 33.59375 \nL 17.296875 33.59375 \nL 17.296875 -3.59375 \nL 8.5 -3.59375 \nL 8.5 72.09375 \nz\n\" id=\"NanumBarunGothic-70\"/>\n      </defs>\n      <g style=\"fill:#262626;\" transform=\"translate(60.437656 73.372656)scale(0.1 -0.1)\">\n       <use xlink:href=\"#NanumBarunGothic-83\"/>\n       <use x=\"59.199997\" xlink:href=\"#NanumBarunGothic-70\"/>\n      </g>\n     </g>\n    </g>\n    <g id=\"ytick_11\">\n     <g id=\"line2d_31\">\n      <path clip-path=\"url(#p316cb343bd)\" d=\"M 78.898594 44.5725 \nL 525.298594 44.5725 \n\" style=\"fill:none;stroke:#ffffff;stroke-linecap:round;\"/>\n     </g>\n     <g id=\"line2d_32\"/>\n     <g id=\"text_17\">\n      <!-- 액션 -->\n      <defs>\n       <path d=\"M 80.40625 25 \nL 72.09375 25 \nL 72.09375 48.90625 \nL 60 48.90625 \nL 60 25 \nL 51.796875 25 \nL 51.796875 77 \nL 60 77 \nL 60 56 \nL 72.09375 56 \nL 72.09375 78 \nL 80.40625 78 \nz\nM 71.796875 -13.59375 \nL 71.796875 12.59375 \nL 19.5 12.59375 \nL 19.5 20.09375 \nL 80.40625 20.09375 \nL 80.40625 -13.59375 \nz\nM 43.59375 52.90625 \nQ 43.59375 47.40625 42.09375 43.25 \nQ 40.59375 39.09375 37.9375 36.25 \nQ 35.296875 33.40625 31.75 31.953125 \nQ 28.203125 30.5 24.09375 30.5 \nQ 20 30.5 16.390625 31.953125 \nQ 12.796875 33.40625 10.1875 36.25 \nQ 7.59375 39.09375 6.09375 43.25 \nQ 4.59375 47.40625 4.59375 52.90625 \nQ 4.59375 58.40625 6.09375 62.546875 \nQ 7.59375 66.703125 10.1875 69.546875 \nQ 12.796875 72.40625 16.390625 73.84375 \nQ 20 75.296875 24.09375 75.296875 \nQ 28.203125 75.296875 31.75 73.84375 \nQ 35.296875 72.40625 37.9375 69.546875 \nQ 40.59375 66.703125 42.09375 62.546875 \nQ 43.59375 58.40625 43.59375 52.90625 \nz\nM 35.296875 52.90625 \nQ 35.296875 60.09375 32.1875 63.9375 \nQ 29.09375 67.796875 24.09375 67.796875 \nQ 19.09375 67.796875 16 63.9375 \nQ 12.90625 60.09375 12.90625 52.90625 \nQ 12.90625 45.703125 16 41.84375 \nQ 19.09375 38 24.09375 38 \nQ 29.09375 38 32.1875 41.84375 \nQ 35.296875 45.703125 35.296875 52.90625 \nz\n\" id=\"NanumBarunGothic-50529\"/>\n      </defs>\n      <g style=\"fill:#262626;\" transform=\"translate(54.057969 48.457656)scale(0.1 -0.1)\">\n       <use xlink:href=\"#NanumBarunGothic-50529\"/>\n       <use x=\"89.199982\" xlink:href=\"#NanumBarunGothic-49496\"/>\n      </g>\n     </g>\n    </g>\n    <g id=\"ytick_12\">\n     <g id=\"line2d_33\">\n      <path clip-path=\"url(#p316cb343bd)\" d=\"M 78.898594 19.6575 \nL 525.298594 19.6575 \n\" style=\"fill:none;stroke:#ffffff;stroke-linecap:round;\"/>\n     </g>\n     <g id=\"line2d_34\"/>\n     <g id=\"text_18\">\n      <!-- 느와르 -->\n      <defs>\n       <path d=\"M 17.703125 30 \nL 17.703125 72 \nL 26.40625 72 \nL 26.40625 37.40625 \nL 75.40625 37.40625 \nL 75.40625 30 \nz\nM 87.09375 7.59375 \nL 87.09375 0.296875 \nL 2.09375 0.296875 \nL 2.09375 7.59375 \nz\n\" id=\"NanumBarunGothic-45712\"/>\n       <path d=\"M 6.703125 50.296875 \nQ 6.703125 55.203125 8.5 59.34375 \nQ 10.296875 63.5 13.5 66.546875 \nQ 16.703125 69.59375 21 71.296875 \nQ 25.296875 73 30.40625 73 \nQ 35.40625 73 39.703125 71.296875 \nQ 44 69.59375 47.140625 66.546875 \nQ 50.296875 63.5 52.09375 59.34375 \nQ 53.90625 55.203125 53.90625 50.296875 \nQ 53.90625 46.09375 52.546875 42.390625 \nQ 51.203125 38.703125 48.703125 35.84375 \nQ 46.203125 33 42.796875 31.046875 \nQ 39.40625 29.09375 35.40625 28.40625 \nL 35.40625 13.203125 \nQ 42.5 13.5 49.390625 14 \nQ 56.296875 14.5 61.90625 15.296875 \nL 61.90625 8.203125 \nQ 57.09375 7.5 51.34375 7 \nQ 45.59375 6.5 39.546875 6.140625 \nQ 33.5 5.796875 27.5 5.59375 \nQ 21.5 5.40625 16.203125 5.40625 \nL 1.09375 5.40625 \nL 1.09375 12.796875 \nL 16.09375 12.796875 \nQ 18.5 12.796875 21.140625 12.796875 \nQ 23.796875 12.796875 26.703125 12.90625 \nL 26.703125 28.09375 \nQ 22.296875 28.703125 18.640625 30.59375 \nQ 15 32.5 12.34375 35.390625 \nQ 9.703125 38.296875 8.203125 42.09375 \nQ 6.703125 45.90625 6.703125 50.296875 \nz\nM 15.59375 50.296875 \nQ 15.59375 47 16.6875 44.25 \nQ 17.796875 41.5 19.796875 39.546875 \nQ 21.796875 37.59375 24.5 36.5 \nQ 27.203125 35.40625 30.5 35.40625 \nQ 33.703125 35.40625 36.390625 36.5 \nQ 39.09375 37.59375 41.046875 39.546875 \nQ 43 41.5 44.09375 44.25 \nQ 45.203125 47 45.203125 50.296875 \nQ 45.203125 53.703125 44.09375 56.5 \nQ 43 59.296875 41.046875 61.34375 \nQ 39.09375 63.40625 36.390625 64.5 \nQ 33.703125 65.59375 30.5 65.59375 \nQ 27.296875 65.59375 24.546875 64.5 \nQ 21.796875 63.40625 19.796875 61.34375 \nQ 17.796875 59.296875 16.6875 56.5 \nQ 15.59375 53.703125 15.59375 50.296875 \nz\nM 89 34.5 \nL 74.5 34.5 \nL 74.5 -13.296875 \nL 66.203125 -13.296875 \nL 66.203125 78 \nL 74.5 78 \nL 74.5 41.90625 \nL 89 41.90625 \nz\n\" id=\"NanumBarunGothic-50752\"/>\n       <path d=\"M 16.09375 22.40625 \nL 16.09375 50.40625 \nL 64.59375 50.40625 \nL 64.59375 64 \nL 16 64 \nL 16 71.5 \nL 73.203125 71.5 \nL 73.203125 43.296875 \nL 24.703125 43.296875 \nL 24.703125 29.703125 \nL 76.203125 29.703125 \nL 76.203125 22.40625 \nz\nM 87.09375 6.90625 \nL 87.09375 -0.40625 \nL 2.09375 -0.40625 \nL 2.09375 6.90625 \nz\n\" id=\"NanumBarunGothic-47476\"/>\n      </defs>\n      <g style=\"fill:#262626;\" transform=\"translate(45.137656 23.542656)scale(0.1 -0.1)\">\n       <use xlink:href=\"#NanumBarunGothic-45712\"/>\n       <use x=\"89.199982\" xlink:href=\"#NanumBarunGothic-50752\"/>\n       <use x=\"178.399963\" xlink:href=\"#NanumBarunGothic-47476\"/>\n      </g>\n     </g>\n    </g>\n    <g id=\"text_19\">\n     <!-- genre -->\n     <defs>\n      <path d=\"M 42.59375 21.203125 \nL 42.59375 28 \nQ 42.59375 31.703125 41.296875 34.84375 \nQ 40 38 37.84375 40.296875 \nQ 35.703125 42.59375 32.75 43.890625 \nQ 29.796875 45.203125 26.5 45.203125 \nQ 19.296875 45.203125 15.34375 39.703125 \nQ 11.40625 34.203125 11.40625 23.59375 \nQ 11.40625 14.296875 15.5 9.1875 \nQ 19.59375 4.09375 26.40625 4.09375 \nQ 34.09375 4.09375 38.34375 8.84375 \nQ 42.59375 13.59375 42.59375 21.203125 \nz\nM 24.09375 -21.296875 \nQ 34.203125 -21.296875 38.390625 -16.046875 \nQ 42.59375 -10.796875 42.59375 0.296875 \nL 42.59375 5.796875 \nQ 39.5 1 35.296875 -0.84375 \nQ 31.09375 -2.703125 25.40625 -2.703125 \nQ 19.703125 -2.703125 15.34375 -0.796875 \nQ 11 1.09375 8.140625 4.546875 \nQ 5.296875 8 3.84375 12.796875 \nQ 2.40625 17.59375 2.40625 23.5 \nQ 2.40625 37.203125 8.34375 44.75 \nQ 14.296875 52.296875 25.5 52.296875 \nQ 31.203125 52.296875 35.5 50.046875 \nQ 39.796875 47.796875 42.09375 43.59375 \nL 42.203125 43.59375 \nL 42.5 51 \nL 51.09375 51 \nL 51.09375 1.40625 \nQ 51.09375 -6.296875 49.59375 -11.9375 \nQ 48.09375 -17.59375 44.84375 -21.296875 \nQ 41.59375 -25 36.5 -26.75 \nQ 31.40625 -28.5 24.203125 -28.5 \nQ 18.90625 -28.5 14.90625 -27.5 \nQ 10.90625 -26.5 6.90625 -24.5 \nL 6.90625 -16.90625 \nQ 6.90625 -15.59375 8 -16.40625 \nQ 12.5 -19 16.34375 -20.140625 \nQ 20.203125 -21.296875 24.09375 -21.296875 \nz\n\" id=\"NanumBarunGothic-103\"/>\n      <path d=\"M 52.796875 28.703125 \nL 52.796875 -3.59375 \nL 44.203125 -3.59375 \nL 44.203125 28.90625 \nQ 44.203125 37.296875 41.796875 41.390625 \nQ 39.40625 45.5 32.90625 45.5 \nQ 29.703125 45.5 26.640625 44.046875 \nQ 23.59375 42.59375 21.25 40.046875 \nQ 18.90625 37.5 17.453125 34.046875 \nQ 16 30.59375 16 26.5 \nL 16 -3.59375 \nL 7.5 -3.59375 \nL 7.5 51 \nL 16.09375 51 \nL 16.5 43.09375 \nL 16.59375 43.09375 \nQ 17.796875 45.203125 19.75 46.890625 \nQ 21.703125 48.59375 24 49.796875 \nQ 26.296875 51 28.84375 51.640625 \nQ 31.40625 52.296875 33.90625 52.296875 \nQ 44.296875 52.296875 48.546875 46.25 \nQ 52.796875 40.203125 52.796875 28.703125 \nz\n\" id=\"NanumBarunGothic-110\"/>\n      <path d=\"M 36.5 43.09375 \nQ 35.09375 43.90625 33.59375 44.25 \nQ 32.09375 44.59375 30.09375 44.59375 \nQ 27.5 44.59375 24.953125 43.34375 \nQ 22.40625 42.09375 20.453125 39.796875 \nQ 18.5 37.5 17.296875 34.296875 \nQ 16.09375 31.09375 16.09375 27.203125 \nL 16.09375 -3.59375 \nL 7.5 -3.59375 \nL 7.5 51 \nL 16.203125 51 \nL 16.59375 43.09375 \nQ 18.703125 47.5 22.703125 49.890625 \nQ 26.703125 52.296875 31 52.296875 \nQ 33.09375 52.296875 34.640625 52.046875 \nQ 36.203125 51.796875 37.703125 51 \nL 37.703125 43.59375 \nQ 37.703125 42.203125 36.5 43.09375 \nz\n\" id=\"NanumBarunGothic-114\"/>\n     </defs>\n     <g style=\"fill:#262626;\" transform=\"translate(15.702656 171.436016)rotate(-90)scale(0.11 -0.11)\">\n      <use xlink:href=\"#NanumBarunGothic-103\"/>\n      <use x=\"58.799988\" xlink:href=\"#NanumBarunGothic-101\"/>\n      <use x=\"114.699982\" xlink:href=\"#NanumBarunGothic-110\"/>\n      <use x=\"173.899979\" xlink:href=\"#NanumBarunGothic-114\"/>\n      <use x=\"212.199966\" xlink:href=\"#NanumBarunGothic-101\"/>\n     </g>\n    </g>\n   </g>\n   <g id=\"patch_3\">\n    <path clip-path=\"url(#p316cb343bd)\" d=\"M 78.898594 299.95125 \nL 80.143206 299.95125 \nL 80.143206 287.49375 \nL 78.898594 287.49375 \nz\n\" style=\"fill:#4c72b0;\"/>\n   </g>\n   <g id=\"patch_4\">\n    <path clip-path=\"url(#p316cb343bd)\" d=\"M 78.898594 275.03625 \nL 91.514164 275.03625 \nL 91.514164 262.57875 \nL 78.898594 262.57875 \nz\n\" style=\"fill:#4c72b0;\"/>\n   </g>\n   <g id=\"patch_5\">\n    <path clip-path=\"url(#p316cb343bd)\" d=\"M 78.898594 250.12125 \nL 94.413703 250.12125 \nL 94.413703 237.66375 \nL 78.898594 237.66375 \nz\n\" style=\"fill:#4c72b0;\"/>\n   </g>\n   <g id=\"patch_6\">\n    <path clip-path=\"url(#p316cb343bd)\" d=\"M 78.898594 225.20625 \nL 113.066103 225.20625 \nL 113.066103 212.74875 \nL 78.898594 212.74875 \nz\n\" style=\"fill:#4c72b0;\"/>\n   </g>\n   <g id=\"patch_7\">\n    <path clip-path=\"url(#p316cb343bd)\" d=\"M 78.898594 200.29125 \nL 158.899327 200.29125 \nL 158.899327 187.83375 \nL 78.898594 187.83375 \nz\n\" style=\"fill:#4c72b0;\"/>\n   </g>\n   <g id=\"patch_8\">\n    <path clip-path=\"url(#p316cb343bd)\" d=\"M 78.898594 175.37625 \nL 177.977016 175.37625 \nL 177.977016 162.91875 \nL 78.898594 162.91875 \nz\n\" style=\"fill:#4c72b0;\"/>\n   </g>\n   <g id=\"patch_9\">\n    <path clip-path=\"url(#p316cb343bd)\" d=\"M 78.898594 150.46125 \nL 189.862401 150.46125 \nL 189.862401 138.00375 \nL 78.898594 138.00375 \nz\n\" style=\"fill:#4c72b0;\"/>\n   </g>\n   <g id=\"patch_10\">\n    <path clip-path=\"url(#p316cb343bd)\" d=\"M 78.898594 125.54625 \nL 196.408918 125.54625 \nL 196.408918 113.08875 \nL 78.898594 113.08875 \nz\n\" style=\"fill:#4c72b0;\"/>\n   </g>\n   <g id=\"patch_11\">\n    <path clip-path=\"url(#p316cb343bd)\" d=\"M 78.898594 100.63125 \nL 303.126674 100.63125 \nL 303.126674 88.17375 \nL 78.898594 88.17375 \nz\n\" style=\"fill:#4c72b0;\"/>\n   </g>\n   <g id=\"patch_12\">\n    <path clip-path=\"url(#p316cb343bd)\" d=\"M 78.898594 75.71625 \nL 414.766438 75.71625 \nL 414.766438 63.25875 \nL 78.898594 63.25875 \nz\n\" style=\"fill:#4c72b0;\"/>\n   </g>\n   <g id=\"patch_13\">\n    <path clip-path=\"url(#p316cb343bd)\" d=\"M 78.898594 50.80125 \nL 492.825288 50.80125 \nL 492.825288 38.34375 \nL 78.898594 38.34375 \nz\n\" style=\"fill:#4c72b0;\"/>\n   </g>\n   <g id=\"patch_14\">\n    <path clip-path=\"url(#p316cb343bd)\" d=\"M 78.898594 25.88625 \nL 504.041451 25.88625 \nL 504.041451 13.42875 \nL 78.898594 13.42875 \nz\n\" style=\"fill:#4c72b0;\"/>\n   </g>\n   <g id=\"patch_15\">\n    <path d=\"M 78.898594 306.18 \nL 78.898594 7.2 \n\" style=\"fill:none;\"/>\n   </g>\n   <g id=\"patch_16\">\n    <path d=\"M 525.298594 306.18 \nL 525.298594 7.2 \n\" style=\"fill:none;\"/>\n   </g>\n   <g id=\"patch_17\">\n    <path d=\"M 78.898594 306.18 \nL 525.298594 306.18 \n\" style=\"fill:none;\"/>\n   </g>\n   <g id=\"patch_18\">\n    <path d=\"M 78.898594 7.2 \nL 525.298594 7.2 \n\" style=\"fill:none;\"/>\n   </g>\n  </g>\n </g>\n <defs>\n  <clipPath id=\"p316cb343bd\">\n   <rect height=\"298.98\" width=\"446.4\" x=\"78.898594\" y=\"7.2\"/>\n  </clipPath>\n </defs>\n</svg>\n"
          },
          "metadata": {
            "tags": []
          }
        }
      ]
    },
    {
      "cell_type": "code",
      "metadata": {
        "colab": {
          "base_uri": "https://localhost:8080/"
        },
        "id": "s0Ks04Yrv7Um",
        "outputId": "03ea3e74-48ed-4bbe-c040-1f6a381c7f33"
      },
      "source": [
        "train.groupby(\"genre\")['box_off_num'].mean().sort_values(ascending=False).index"
      ],
      "execution_count": 246,
      "outputs": [
        {
          "output_type": "execute_result",
          "data": {
            "text/plain": [
              "Index(['느와르', '액션', 'SF', '코미디', '드라마', '공포', '미스터리', '멜로/로맨스', '애니메이션',\n",
              "       '서스펜스', '다큐멘터리', '뮤지컬'],\n",
              "      dtype='object', name='genre')"
            ]
          },
          "metadata": {
            "tags": []
          },
          "execution_count": 246
        }
      ]
    },
    {
      "cell_type": "code",
      "metadata": {
        "colab": {
          "base_uri": "https://localhost:8080/",
          "height": 499
        },
        "id": "yNZuIMwCvll2",
        "outputId": "4e8a735a-df95-441c-81d4-6f00d1c6c0ad"
      },
      "source": [
        "#관람 나이별 박스 오피스 넘버\n",
        "train.groupby('screening_rat')['box_off_num'].mean().sort_values().plot.barh()"
      ],
      "execution_count": 247,
      "outputs": [
        {
          "output_type": "execute_result",
          "data": {
            "text/plain": [
              "<matplotlib.axes._subplots.AxesSubplot at 0x7fb0257d6490>"
            ]
          },
          "metadata": {
            "tags": []
          },
          "execution_count": 247
        },
        {
          "output_type": "display_data",
          "data": {
            "text/plain": [
              "<Figure size 576x396 with 1 Axes>"
            ],
            "image/svg+xml": "<?xml version=\"1.0\" encoding=\"utf-8\" standalone=\"no\"?>\n<!DOCTYPE svg PUBLIC \"-//W3C//DTD SVG 1.1//EN\"\n  \"http://www.w3.org/Graphics/SVG/1.1/DTD/svg11.dtd\">\n<!-- Created with matplotlib (https://matplotlib.org/) -->\n<svg height=\"344.539375pt\" version=\"1.1\" viewBox=\"0 0 548.120469 344.539375\" width=\"548.120469pt\" xmlns=\"http://www.w3.org/2000/svg\" xmlns:xlink=\"http://www.w3.org/1999/xlink\">\n <defs>\n  <style type=\"text/css\">\n*{stroke-linecap:butt;stroke-linejoin:round;}\n  </style>\n </defs>\n <g id=\"figure_1\">\n  <g id=\"patch_1\">\n   <path d=\"M 0 344.539375 \nL 548.120469 344.539375 \nL 548.120469 0 \nL 0 0 \nz\n\" style=\"fill:#ffffff;\"/>\n  </g>\n  <g id=\"axes_1\">\n   <g id=\"patch_2\">\n    <path d=\"M 94.520469 306.18 \nL 540.920469 306.18 \nL 540.920469 7.2 \nL 94.520469 7.2 \nz\n\" style=\"fill:#eaeaf2;\"/>\n   </g>\n   <g id=\"matplotlib.axis_1\">\n    <g id=\"xtick_1\">\n     <g id=\"line2d_1\">\n      <path clip-path=\"url(#p03b9e3fd0d)\" d=\"M 94.520469 306.18 \nL 94.520469 7.2 \n\" style=\"fill:none;stroke:#ffffff;stroke-linecap:round;\"/>\n     </g>\n     <g id=\"line2d_2\"/>\n     <g id=\"text_1\">\n      <!-- 0.0 -->\n      <defs>\n       <path d=\"M 29.203125 73.5 \nQ 41.09375 73.5 47.4375 63.59375 \nQ 53.796875 53.703125 53.796875 33.59375 \nQ 53.796875 13.59375 47.390625 4.390625 \nQ 41 -4.796875 29.203125 -4.796875 \nQ 23.296875 -4.796875 18.6875 -2.546875 \nQ 14.09375 -0.296875 10.9375 4.390625 \nQ 7.796875 9.09375 6.1875 16.34375 \nQ 4.59375 23.59375 4.59375 33.59375 \nQ 4.59375 53.703125 10.9375 63.59375 \nQ 17.296875 73.5 29.203125 73.5 \nz\nM 29.203125 66.5 \nQ 13.296875 66.5 13.296875 33.40625 \nQ 13.296875 16.90625 17.25 9.5 \nQ 21.203125 2.09375 29.203125 2.09375 \nQ 37.09375 2.09375 41.09375 9.5 \nQ 45.09375 16.90625 45.09375 33.40625 \nQ 45.09375 66.5 29.203125 66.5 \nz\n\" id=\"NanumBarunGothic-48\"/>\n       <path d=\"M 13 8.296875 \nQ 16 8.296875 17.890625 6.390625 \nQ 19.796875 4.5 19.796875 1.59375 \nQ 19.796875 -1.296875 17.890625 -3.1875 \nQ 16 -5.09375 13 -5.09375 \nQ 10 -5.09375 8.09375 -3.1875 \nQ 6.203125 -1.296875 6.203125 1.59375 \nQ 6.203125 4.5 8.09375 6.390625 \nQ 10 8.296875 13 8.296875 \nz\n\" id=\"NanumBarunGothic-46\"/>\n      </defs>\n      <g style=\"fill:#262626;\" transform=\"translate(87.205625 320.950312)scale(0.1 -0.1)\">\n       <use xlink:href=\"#NanumBarunGothic-48\"/>\n       <use x=\"58.299988\" xlink:href=\"#NanumBarunGothic-46\"/>\n       <use x=\"87.999985\" xlink:href=\"#NanumBarunGothic-48\"/>\n      </g>\n     </g>\n    </g>\n    <g id=\"xtick_2\">\n     <g id=\"line2d_3\">\n      <path clip-path=\"url(#p03b9e3fd0d)\" d=\"M 162.678626 306.18 \nL 162.678626 7.2 \n\" style=\"fill:none;stroke:#ffffff;stroke-linecap:round;\"/>\n     </g>\n     <g id=\"line2d_4\"/>\n     <g id=\"text_2\">\n      <!-- 0.2 -->\n      <defs>\n       <path d=\"M 9.09375 57.703125 \nQ 8 56.59375 8 58.09375 \nL 8 65.59375 \nQ 12.203125 68.90625 17.203125 71.203125 \nQ 22.203125 73.5 28.90625 73.5 \nQ 39.796875 73.5 45.4375 68.546875 \nQ 51.09375 63.59375 51.09375 53.40625 \nQ 51.09375 50 50 46.890625 \nQ 48.90625 43.796875 46.953125 40.640625 \nQ 45 37.5 42.25 34.09375 \nQ 39.5 30.703125 36.203125 26.703125 \nL 15.796875 3.5 \nL 15.796875 3.40625 \nL 52.203125 3.40625 \nL 52.203125 -3.59375 \nL 5.5 -3.59375 \nL 5.5 3.90625 \nL 28.796875 30.09375 \nQ 32.703125 35.09375 35.296875 38.4375 \nQ 37.90625 41.796875 39.453125 44.34375 \nQ 41 46.90625 41.640625 49 \nQ 42.296875 51.09375 42.296875 53.59375 \nQ 42.296875 59.703125 39.140625 63.09375 \nQ 36 66.5 29.09375 66.5 \nQ 24.296875 66.5 19.296875 64.25 \nQ 14.296875 62 9.09375 57.703125 \nz\n\" id=\"NanumBarunGothic-50\"/>\n      </defs>\n      <g style=\"fill:#262626;\" transform=\"translate(155.363782 320.950312)scale(0.1 -0.1)\">\n       <use xlink:href=\"#NanumBarunGothic-48\"/>\n       <use x=\"58.299988\" xlink:href=\"#NanumBarunGothic-46\"/>\n       <use x=\"87.999985\" xlink:href=\"#NanumBarunGothic-50\"/>\n      </g>\n     </g>\n    </g>\n    <g id=\"xtick_3\">\n     <g id=\"line2d_5\">\n      <path clip-path=\"url(#p03b9e3fd0d)\" d=\"M 230.836783 306.18 \nL 230.836783 7.2 \n\" style=\"fill:none;stroke:#ffffff;stroke-linecap:round;\"/>\n     </g>\n     <g id=\"line2d_6\"/>\n     <g id=\"text_3\">\n      <!-- 0.4 -->\n      <defs>\n       <path d=\"M 2.09375 13.703125 \nL 2.09375 22.203125 \nL 35.296875 72.203125 \nL 45.59375 72.203125 \nL 45.59375 20.703125 \nL 56.90625 20.703125 \nL 56.90625 13.703125 \nL 45.59375 13.703125 \nL 45.59375 -3.59375 \nL 37.09375 -3.59375 \nL 37.09375 13.703125 \nz\nM 34.703125 59.296875 \nL 9.296875 20.59375 \nL 9.296875 20.5 \nL 37.5 20.5 \nL 37.5 59.09375 \nL 37.59375 64.703125 \nz\n\" id=\"NanumBarunGothic-52\"/>\n      </defs>\n      <g style=\"fill:#262626;\" transform=\"translate(223.521939 320.950312)scale(0.1 -0.1)\">\n       <use xlink:href=\"#NanumBarunGothic-48\"/>\n       <use x=\"58.299988\" xlink:href=\"#NanumBarunGothic-46\"/>\n       <use x=\"87.999985\" xlink:href=\"#NanumBarunGothic-52\"/>\n      </g>\n     </g>\n    </g>\n    <g id=\"xtick_4\">\n     <g id=\"line2d_7\">\n      <path clip-path=\"url(#p03b9e3fd0d)\" d=\"M 298.994939 306.18 \nL 298.994939 7.2 \n\" style=\"fill:none;stroke:#ffffff;stroke-linecap:round;\"/>\n     </g>\n     <g id=\"line2d_8\"/>\n     <g id=\"text_4\">\n      <!-- 0.6 -->\n      <defs>\n       <path d=\"M 49.796875 62.90625 \nQ 47 64.59375 43.703125 65.59375 \nQ 40.40625 66.59375 36.59375 66.59375 \nQ 31.296875 66.59375 27.09375 64.046875 \nQ 22.90625 61.5 19.953125 57.140625 \nQ 17 52.796875 15.34375 47.09375 \nQ 13.703125 41.40625 13.5 35 \nL 13.703125 35 \nQ 14.703125 37.203125 16.390625 39.25 \nQ 18.09375 41.296875 20.4375 42.84375 \nQ 22.796875 44.40625 25.640625 45.296875 \nQ 28.5 46.203125 31.796875 46.203125 \nQ 37.203125 46.203125 41.34375 44.34375 \nQ 45.5 42.5 48.34375 39.203125 \nQ 51.203125 35.90625 52.703125 31.40625 \nQ 54.203125 26.90625 54.203125 21.59375 \nQ 54.203125 15.703125 52.453125 10.890625 \nQ 50.703125 6.09375 47.453125 2.6875 \nQ 44.203125 -0.703125 39.75 -2.546875 \nQ 35.296875 -4.40625 29.90625 -4.40625 \nQ 22.203125 -4.40625 17.390625 -1.15625 \nQ 12.59375 2.09375 9.890625 7.1875 \nQ 7.203125 12.296875 6.25 18.546875 \nQ 5.296875 24.796875 5.296875 30.90625 \nQ 5.296875 38.59375 7.046875 46.25 \nQ 8.796875 53.90625 12.546875 59.953125 \nQ 16.296875 66 22.1875 69.796875 \nQ 28.09375 73.59375 36.40625 73.59375 \nQ 40.59375 73.59375 44.09375 72.84375 \nQ 47.59375 72.09375 50.703125 70.703125 \nL 50.703125 63.296875 \nQ 50.703125 62.203125 49.796875 62.90625 \nz\nM 14.296875 20.796875 \nQ 14.296875 17.09375 15.34375 13.796875 \nQ 16.40625 10.5 18.453125 8 \nQ 20.5 5.5 23.390625 4 \nQ 26.296875 2.5 29.90625 2.5 \nQ 33.90625 2.5 36.84375 4.140625 \nQ 39.796875 5.796875 41.6875 8.390625 \nQ 43.59375 11 44.5 14.34375 \nQ 45.40625 17.703125 45.40625 21.09375 \nQ 45.40625 24.796875 44.5 28.09375 \nQ 43.59375 31.40625 41.796875 33.84375 \nQ 40 36.296875 37.203125 37.75 \nQ 34.40625 39.203125 30.59375 39.203125 \nQ 26.59375 39.203125 23.640625 37.75 \nQ 20.703125 36.296875 18.703125 33.75 \nQ 16.703125 31.203125 15.640625 27.84375 \nQ 14.59375 24.5 14.296875 20.796875 \nz\n\" id=\"NanumBarunGothic-54\"/>\n      </defs>\n      <g style=\"fill:#262626;\" transform=\"translate(291.680096 320.950312)scale(0.1 -0.1)\">\n       <use xlink:href=\"#NanumBarunGothic-48\"/>\n       <use x=\"58.299988\" xlink:href=\"#NanumBarunGothic-46\"/>\n       <use x=\"87.999985\" xlink:href=\"#NanumBarunGothic-54\"/>\n      </g>\n     </g>\n    </g>\n    <g id=\"xtick_5\">\n     <g id=\"line2d_9\">\n      <path clip-path=\"url(#p03b9e3fd0d)\" d=\"M 367.153096 306.18 \nL 367.153096 7.2 \n\" style=\"fill:none;stroke:#ffffff;stroke-linecap:round;\"/>\n     </g>\n     <g id=\"line2d_10\"/>\n     <g id=\"text_5\">\n      <!-- 0.8 -->\n      <defs>\n       <path d=\"M 29.09375 2.5 \nQ 32.5 2.5 35.546875 3.546875 \nQ 38.59375 4.59375 40.890625 6.5 \nQ 43.203125 8.40625 44.5 11.15625 \nQ 45.796875 13.90625 45.796875 17.40625 \nQ 45.796875 20.796875 44.5 23.640625 \nQ 43.203125 26.5 40.890625 28.59375 \nQ 38.59375 30.703125 35.546875 31.84375 \nQ 32.5 33 29.09375 33 \nQ 25.59375 33 22.59375 31.84375 \nQ 19.59375 30.703125 17.296875 28.59375 \nQ 15 26.5 13.703125 23.640625 \nQ 12.40625 20.796875 12.40625 17.40625 \nQ 12.40625 13.90625 13.703125 11.15625 \nQ 15 8.40625 17.296875 6.5 \nQ 19.59375 4.59375 22.59375 3.546875 \nQ 25.59375 2.5 29.09375 2.5 \nz\nM 29.09375 40.203125 \nQ 31.90625 40.203125 34.59375 41.09375 \nQ 37.296875 42 39.390625 43.703125 \nQ 41.5 45.40625 42.796875 47.90625 \nQ 44.09375 50.40625 44.09375 53.59375 \nQ 44.09375 56.703125 42.890625 59.203125 \nQ 41.703125 61.703125 39.640625 63.5 \nQ 37.59375 65.296875 34.890625 66.25 \nQ 32.203125 67.203125 29.09375 67.203125 \nQ 26 67.203125 23.296875 66.25 \nQ 20.59375 65.296875 18.546875 63.5 \nQ 16.5 61.703125 15.296875 59.203125 \nQ 14.09375 56.703125 14.09375 53.59375 \nQ 14.09375 50.40625 15.390625 47.90625 \nQ 16.703125 45.40625 18.796875 43.703125 \nQ 20.90625 42 23.59375 41.09375 \nQ 26.296875 40.203125 29.09375 40.203125 \nz\nM 29.09375 -4.5 \nQ 22.703125 -4.5 17.953125 -2.953125 \nQ 13.203125 -1.40625 10.046875 1.34375 \nQ 6.90625 4.09375 5.296875 7.890625 \nQ 3.703125 11.703125 3.703125 16.09375 \nQ 3.703125 23.40625 7.453125 28.796875 \nQ 11.203125 34.203125 19.296875 36.296875 \nL 19.296875 36.5 \nQ 13 38.5 9.203125 42.84375 \nQ 5.40625 47.203125 5.40625 53.5 \nQ 5.40625 57.59375 6.84375 61.25 \nQ 8.296875 64.90625 11.25 67.59375 \nQ 14.203125 70.296875 18.640625 71.890625 \nQ 23.09375 73.5 29.09375 73.5 \nQ 35.09375 73.5 39.546875 71.890625 \nQ 44 70.296875 46.953125 67.59375 \nQ 49.90625 64.90625 51.34375 61.25 \nQ 52.796875 57.59375 52.796875 53.5 \nQ 52.796875 47.203125 49 42.84375 \nQ 45.203125 38.5 38.90625 36.5 \nL 38.90625 36.296875 \nQ 47 34.203125 50.75 28.796875 \nQ 54.5 23.40625 54.5 16.09375 \nQ 54.5 11.703125 52.890625 7.890625 \nQ 51.296875 4.09375 48.140625 1.34375 \nQ 45 -1.40625 40.25 -2.953125 \nQ 35.5 -4.5 29.09375 -4.5 \nz\n\" id=\"NanumBarunGothic-56\"/>\n      </defs>\n      <g style=\"fill:#262626;\" transform=\"translate(359.838253 320.950312)scale(0.1 -0.1)\">\n       <use xlink:href=\"#NanumBarunGothic-48\"/>\n       <use x=\"58.299988\" xlink:href=\"#NanumBarunGothic-46\"/>\n       <use x=\"87.999985\" xlink:href=\"#NanumBarunGothic-56\"/>\n      </g>\n     </g>\n    </g>\n    <g id=\"xtick_6\">\n     <g id=\"line2d_11\">\n      <path clip-path=\"url(#p03b9e3fd0d)\" d=\"M 435.311253 306.18 \nL 435.311253 7.2 \n\" style=\"fill:none;stroke:#ffffff;stroke-linecap:round;\"/>\n     </g>\n     <g id=\"line2d_12\"/>\n     <g id=\"text_6\">\n      <!-- 1.0 -->\n      <defs>\n       <path d=\"M 12.203125 55.40625 \nL 12.203125 61.59375 \nQ 16.296875 63.40625 19.9375 66.046875 \nQ 23.59375 68.703125 26.703125 72.203125 \nL 35.703125 72.203125 \nL 35.703125 -3.59375 \nL 27.09375 -3.59375 \nL 27.09375 62.796875 \nL 27 62.796875 \nQ 23.59375 60.09375 20.140625 58.140625 \nQ 16.703125 56.203125 13.203125 54.90625 \nQ 12.203125 54.5 12.203125 55.40625 \nz\n\" id=\"NanumBarunGothic-49\"/>\n      </defs>\n      <g style=\"fill:#262626;\" transform=\"translate(427.996409 320.950312)scale(0.1 -0.1)\">\n       <use xlink:href=\"#NanumBarunGothic-49\"/>\n       <use x=\"58.299988\" xlink:href=\"#NanumBarunGothic-46\"/>\n       <use x=\"87.999985\" xlink:href=\"#NanumBarunGothic-48\"/>\n      </g>\n     </g>\n    </g>\n    <g id=\"xtick_7\">\n     <g id=\"line2d_13\">\n      <path clip-path=\"url(#p03b9e3fd0d)\" d=\"M 503.46941 306.18 \nL 503.46941 7.2 \n\" style=\"fill:none;stroke:#ffffff;stroke-linecap:round;\"/>\n     </g>\n     <g id=\"line2d_14\"/>\n     <g id=\"text_7\">\n      <!-- 1.2 -->\n      <g style=\"fill:#262626;\" transform=\"translate(496.154566 320.950312)scale(0.1 -0.1)\">\n       <use xlink:href=\"#NanumBarunGothic-49\"/>\n       <use x=\"58.299988\" xlink:href=\"#NanumBarunGothic-46\"/>\n       <use x=\"87.999985\" xlink:href=\"#NanumBarunGothic-50\"/>\n      </g>\n     </g>\n    </g>\n    <g id=\"text_8\">\n     <!-- 1e6 -->\n     <defs>\n      <path d=\"M 13 29 \nL 43.90625 29 \nL 43.90625 29.40625 \nQ 43.90625 37.5 40.046875 41.640625 \nQ 36.203125 45.796875 29.59375 45.796875 \nQ 26.5 45.796875 23.75 44.640625 \nQ 21 43.5 18.796875 41.390625 \nQ 16.59375 39.296875 15.09375 36.25 \nQ 13.59375 33.203125 13 29.5 \nz\nM 29.796875 52.296875 \nQ 40.796875 52.296875 46.890625 45.6875 \nQ 53 39.09375 53 26.59375 \nL 53 22.5 \nL 12.90625 22.5 \nL 12.90625 21.59375 \nQ 13.09375 12 18.09375 7.09375 \nQ 23.09375 2.203125 31.5 2.203125 \nQ 35.90625 2.203125 40.25 3.5 \nQ 44.59375 4.796875 49.203125 8 \nQ 50.296875 8.90625 50.296875 7.59375 \nL 50.296875 0.703125 \nQ 46.09375 -2.5 41.1875 -3.640625 \nQ 36.296875 -4.796875 30.296875 -4.796875 \nQ 24.40625 -4.796875 19.5 -2.890625 \nQ 14.59375 -1 11.09375 2.59375 \nQ 7.59375 6.203125 5.640625 11.453125 \nQ 3.703125 16.703125 3.703125 23.5 \nQ 3.703125 30 5.59375 35.296875 \nQ 7.5 40.59375 10.953125 44.390625 \nQ 14.40625 48.203125 19.203125 50.25 \nQ 24 52.296875 29.796875 52.296875 \nz\n\" id=\"NanumBarunGothic-101\"/>\n     </defs>\n     <g style=\"fill:#262626;\" transform=\"translate(523.670469 334.53)scale(0.1 -0.1)\">\n      <use xlink:href=\"#NanumBarunGothic-49\"/>\n      <use x=\"58.299988\" xlink:href=\"#NanumBarunGothic-101\"/>\n      <use x=\"114.199982\" xlink:href=\"#NanumBarunGothic-54\"/>\n     </g>\n    </g>\n   </g>\n   <g id=\"matplotlib.axis_2\">\n    <g id=\"ytick_1\">\n     <g id=\"line2d_15\">\n      <path clip-path=\"url(#p03b9e3fd0d)\" d=\"M 94.520469 268.8075 \nL 540.920469 268.8075 \n\" style=\"fill:none;stroke:#ffffff;stroke-linecap:round;\"/>\n     </g>\n     <g id=\"line2d_16\"/>\n     <g id=\"text_9\">\n      <!-- 전체 관람가 -->\n      <defs>\n       <path d=\"M 53.59375 47.09375 \nL 53.59375 54.703125 \nL 69.5 54.703125 \nL 69.5 78 \nL 78.09375 78 \nL 78.09375 10 \nL 69.5 10 \nL 69.5 47.09375 \nz\nM 80.09375 -11.5 \nL 22.09375 -11.5 \nL 22.09375 15.203125 \nL 30.796875 15.203125 \nL 30.796875 -4 \nL 80.09375 -4 \nz\nM 40.90625 47.296875 \nQ 42.796875 44.796875 45.34375 42.4375 \nQ 47.90625 40.09375 50.703125 38 \nQ 53.5 35.90625 56.390625 34.09375 \nQ 59.296875 32.296875 62 31 \nL 56.5 24.59375 \nQ 51 27.59375 45.640625 31.9375 \nQ 40.296875 36.296875 36 41.40625 \nQ 30.203125 35.296875 23.09375 30.59375 \nQ 16 25.90625 8.203125 22.40625 \nL 2.703125 28.796875 \nQ 10.796875 32.09375 17.25 36.390625 \nQ 23.703125 40.703125 28.390625 45.453125 \nQ 33.09375 50.203125 36 55.25 \nQ 38.90625 60.296875 40 65.203125 \nQ 34.40625 65 28.953125 64.953125 \nQ 23.5 64.90625 18 64.90625 \nL 8.703125 64.90625 \nL 8.703125 72.296875 \nL 24.40625 72.296875 \nQ 30.796875 72.296875 37.296875 72.296875 \nQ 43.796875 72.296875 50.90625 72.5 \nQ 50 65.203125 47.390625 58.953125 \nQ 44.796875 52.703125 40.90625 47.296875 \nz\n\" id=\"NanumBarunGothic-51204\"/>\n       <path d=\"M 79.59375 -13.296875 \nL 71.09375 -13.296875 \nL 71.09375 78 \nL 79.59375 78 \nz\nM 52.796875 77 \nL 61.296875 77 \nL 61.296875 -11 \nL 52.796875 -11 \nL 52.796875 33 \nL 41.203125 33 \nL 41.203125 40.40625 \nL 52.796875 40.40625 \nz\nM 11.796875 67 \nL 11.796875 74.40625 \nL 36 74.40625 \nL 36 67 \nz\nM 32 33.203125 \nQ 35.40625 27.40625 39.796875 22.703125 \nQ 44.203125 18 49.796875 14 \nL 43.40625 8.203125 \nQ 38.5 12 34.59375 16.5 \nQ 30.703125 21 27.703125 26.09375 \nQ 23.5 20 18.203125 14.703125 \nQ 12.90625 9.40625 6.59375 5.09375 \nL 0.09375 10.796875 \nQ 6.203125 14.203125 11.59375 19.34375 \nQ 17 24.5 21.046875 30.25 \nQ 25.09375 36 27.59375 41.84375 \nQ 30.09375 47.703125 30.40625 52.5 \nQ 25.796875 52.296875 21.59375 52.25 \nQ 17.40625 52.203125 12.90625 52.203125 \nL 5.296875 52.203125 \nL 5.296875 59.40625 \nL 17 59.40625 \nQ 22.296875 59.40625 27.640625 59.40625 \nQ 33 59.40625 40.09375 59.59375 \nQ 39 46 32 33.203125 \nz\n\" id=\"NanumBarunGothic-52404\"/>\n       <path id=\"NanumBarunGothic-32\"/>\n       <path d=\"M 54 73.296875 \nQ 53.90625 69.40625 53.65625 65 \nQ 53.40625 60.59375 53 56.140625 \nQ 52.59375 51.703125 52 47.453125 \nQ 51.40625 43.203125 50.703125 39.703125 \nL 42.296875 39.703125 \nQ 43.59375 46 44.390625 52.75 \nQ 45.203125 59.5 45.40625 66 \nL 8.796875 66 \nL 8.796875 73.296875 \nz\nM 66.40625 8.09375 \nL 66.40625 78 \nL 75 78 \nL 75 46.796875 \nL 88.203125 46.796875 \nL 88.203125 39.203125 \nL 75 39.203125 \nL 75 8.09375 \nz\nM 30.296875 51.703125 \nL 30.296875 31.796875 \nQ 38.59375 32.09375 47 32.640625 \nQ 55.40625 33.203125 62 34.09375 \nL 62 27 \nQ 57.203125 26.296875 51.453125 25.796875 \nQ 45.703125 25.296875 39.640625 24.9375 \nQ 33.59375 24.59375 27.59375 24.390625 \nQ 21.59375 24.203125 16.296875 24.203125 \nL 1.5 24.203125 \nL 1.5 31.59375 \nL 21.59375 31.59375 \nL 21.59375 51.703125 \nz\nM 76.5 -11.5 \nL 17 -11.5 \nL 17 14.203125 \nL 25.703125 14.203125 \nL 25.703125 -4 \nL 76.5 -4 \nz\n\" id=\"NanumBarunGothic-44288\"/>\n       <path d=\"M 14.796875 35.703125 \nL 25.296875 35.703125 \nQ 37 35.703125 45.59375 36.796875 \nQ 54.203125 37.90625 60.5 39.40625 \nL 60.5 32.203125 \nQ 53.203125 30.40625 43.953125 29.40625 \nQ 34.703125 28.40625 24.09375 28.40625 \nL 6.09375 28.40625 \nL 6.09375 55.703125 \nL 37.5 55.703125 \nL 37.5 67.5 \nL 5.90625 67.5 \nL 5.90625 74.703125 \nL 46.09375 74.703125 \nL 46.09375 48.90625 \nL 14.796875 48.90625 \nz\nM 88.203125 49.90625 \nL 73.796875 49.90625 \nL 73.796875 25 \nL 65.203125 25 \nL 65.203125 78 \nL 73.796875 78 \nL 73.796875 57.5 \nL 88.203125 57.5 \nz\nM 73.796875 -11.90625 \nL 17.796875 -11.90625 \nL 17.796875 19.796875 \nL 73.796875 19.796875 \nz\nM 65.203125 12.203125 \nL 26.40625 12.203125 \nL 26.40625 -4.40625 \nL 65.203125 -4.40625 \nz\n\" id=\"NanumBarunGothic-46988\"/>\n       <path d=\"M 2.40625 12.59375 \nQ 11.203125 17 17.890625 22.59375 \nQ 24.59375 28.203125 29.25 34.703125 \nQ 33.90625 41.203125 36.703125 48.34375 \nQ 39.5 55.5 40.5 63 \nQ 34.40625 62.796875 28.40625 62.75 \nQ 22.40625 62.703125 16.40625 62.703125 \nL 6.09375 62.703125 \nL 6.09375 70.09375 \nL 21.796875 70.09375 \nQ 28.796875 70.09375 35.796875 70.09375 \nQ 42.796875 70.09375 49.90625 70.296875 \nQ 48.5 49.703125 38.5 33.453125 \nQ 28.5 17.203125 8.203125 6.296875 \nz\nM 89 35.09375 \nL 73.296875 35.09375 \nL 73.296875 -13.296875 \nL 64.703125 -13.296875 \nL 64.703125 78 \nL 73.296875 78 \nL 73.296875 42.703125 \nL 89 42.703125 \nz\n\" id=\"NanumBarunGothic-44032\"/>\n      </defs>\n      <g style=\"fill:#262626;\" transform=\"translate(40.678281 272.692656)scale(0.1 -0.1)\">\n       <use xlink:href=\"#NanumBarunGothic-51204\"/>\n       <use x=\"89.199982\" xlink:href=\"#NanumBarunGothic-52404\"/>\n       <use x=\"178.399963\" xlink:href=\"#NanumBarunGothic-32\"/>\n       <use x=\"200.799957\" xlink:href=\"#NanumBarunGothic-44288\"/>\n       <use x=\"289.999939\" xlink:href=\"#NanumBarunGothic-46988\"/>\n       <use x=\"379.199921\" xlink:href=\"#NanumBarunGothic-44032\"/>\n      </g>\n     </g>\n    </g>\n    <g id=\"ytick_2\">\n     <g id=\"line2d_17\">\n      <path clip-path=\"url(#p03b9e3fd0d)\" d=\"M 94.520469 194.0625 \nL 540.920469 194.0625 \n\" style=\"fill:none;stroke:#ffffff;stroke-linecap:round;\"/>\n     </g>\n     <g id=\"line2d_18\"/>\n     <g id=\"text_10\">\n      <!-- 청소년 관람불가 -->\n      <defs>\n       <path d=\"M 41 43.90625 \nQ 45.40625 40.59375 50.59375 37.6875 \nQ 55.796875 34.796875 61.703125 32.40625 \nL 56.203125 26 \nQ 50.796875 28.296875 45.4375 31.640625 \nQ 40.09375 35 35.5 38.90625 \nQ 29.703125 34 23 30.25 \nQ 16.296875 26.5 9.796875 24.203125 \nL 4.203125 30.203125 \nQ 11.203125 32.40625 17.140625 35.546875 \nQ 23.09375 38.703125 27.796875 42.34375 \nQ 32.5 46 35.84375 49.890625 \nQ 39.203125 53.796875 41 57.5 \nQ 35.703125 57.296875 30.34375 57.25 \nQ 25 57.203125 19.40625 57.203125 \nL 9.09375 57.203125 \nL 9.09375 64.09375 \nL 25.796875 64.09375 \nQ 32.09375 64.09375 38.6875 64.09375 \nQ 45.296875 64.09375 52.5 64.296875 \nQ 51.59375 58.796875 48.546875 53.640625 \nQ 45.5 48.5 41 43.90625 \nz\nM 17.796875 77.703125 \nL 44.90625 77.703125 \nL 44.90625 70.703125 \nL 17.796875 70.703125 \nz\nM 54.796875 44 \nL 54.796875 51.59375 \nL 69.5 51.59375 \nL 69.5 78 \nL 78.09375 78 \nL 78.09375 21.296875 \nL 69.5 21.296875 \nL 69.5 44 \nz\nM 78.90625 3.59375 \nQ 78.90625 -0.203125 77 -3.453125 \nQ 75.09375 -6.703125 71.296875 -9.046875 \nQ 67.5 -11.40625 61.796875 -12.75 \nQ 56.09375 -14.09375 48.59375 -14.09375 \nQ 41.09375 -14.09375 35.4375 -12.75 \nQ 29.796875 -11.40625 26 -9 \nQ 22.203125 -6.59375 20.296875 -3.34375 \nQ 18.40625 -0.09375 18.40625 3.703125 \nQ 18.40625 7.5 20.296875 10.75 \nQ 22.203125 14 26 16.390625 \nQ 29.796875 18.796875 35.4375 20.140625 \nQ 41.09375 21.5 48.59375 21.5 \nQ 56.09375 21.5 61.796875 20.140625 \nQ 67.5 18.796875 71.296875 16.390625 \nQ 75.09375 14 77 10.703125 \nQ 78.90625 7.40625 78.90625 3.59375 \nz\nM 69.90625 3.59375 \nQ 69.90625 5.703125 68.65625 7.59375 \nQ 67.40625 9.5 64.75 11 \nQ 62.09375 12.5 58.046875 13.390625 \nQ 54 14.296875 48.5 14.296875 \nQ 43.09375 14.296875 39.09375 13.390625 \nQ 35.09375 12.5 32.4375 11 \nQ 29.796875 9.5 28.546875 7.59375 \nQ 27.296875 5.703125 27.296875 3.59375 \nQ 27.296875 1.59375 28.546875 -0.296875 \nQ 29.796875 -2.203125 32.4375 -3.640625 \nQ 35.09375 -5.09375 39.09375 -5.9375 \nQ 43.09375 -6.796875 48.5 -6.796875 \nQ 54 -6.796875 58.046875 -5.9375 \nQ 62.09375 -5.09375 64.75 -3.640625 \nQ 67.40625 -2.203125 68.65625 -0.296875 \nQ 69.90625 1.59375 69.90625 3.59375 \nz\n\" id=\"NanumBarunGothic-52397\"/>\n       <path d=\"M 87.09375 -0.09375 \nL 2.09375 -0.09375 \nL 2.09375 7.203125 \nL 40.296875 7.203125 \nL 40.296875 30.5 \nL 49.203125 30.5 \nL 49.203125 7.203125 \nL 87.09375 7.203125 \nz\nM 48.5 60.703125 \nQ 54.203125 50.40625 62.640625 43.09375 \nQ 71.09375 35.796875 82.296875 32.296875 \nL 76.703125 25.796875 \nQ 67.09375 29.09375 58.890625 36 \nQ 50.703125 42.90625 45.203125 52 \nQ 40.40625 42.796875 32.09375 36.1875 \nQ 23.796875 29.59375 13.796875 26 \nL 8.09375 32.59375 \nQ 15.703125 35.203125 21.84375 38.84375 \nQ 28 42.5 32.296875 47.5 \nQ 36.59375 52.5 38.84375 58.953125 \nQ 41.09375 65.40625 40.90625 73.703125 \nL 49.796875 73.703125 \nQ 50.09375 66.703125 48.5 60.703125 \nz\n\" id=\"NanumBarunGothic-49548\"/>\n       <path d=\"M 43.796875 59.90625 \nL 43.796875 67 \nL 69.5 67 \nL 69.5 78 \nL 78.09375 78 \nL 78.09375 11.90625 \nL 69.5 11.90625 \nL 69.5 43.203125 \nL 43.796875 43.203125 \nL 43.796875 50.40625 \nL 69.59375 50.40625 \nL 69.59375 59.90625 \nz\nM 27.59375 25.59375 \nL 8.40625 25.59375 \nL 8.40625 74.59375 \nL 17.296875 74.59375 \nL 17.296875 33.203125 \nL 28.796875 33.203125 \nQ 38.90625 33.203125 47.296875 34.5 \nQ 55.703125 35.796875 61 37 \nL 61 29.59375 \nQ 58.09375 28.796875 54.1875 28.09375 \nQ 50.296875 27.40625 45.890625 26.84375 \nQ 41.5 26.296875 36.796875 25.9375 \nQ 32.09375 25.59375 27.59375 25.59375 \nz\nM 80.09375 -11.5 \nL 21.09375 -11.5 \nL 21.09375 16.203125 \nL 29.796875 16.203125 \nL 29.796875 -4 \nL 80.09375 -4 \nz\n\" id=\"NanumBarunGothic-45380\"/>\n       <path d=\"M 64.703125 61.203125 \nL 24.40625 61.203125 \nL 24.40625 53.796875 \nL 64.703125 53.796875 \nz\nM 15.5 46.703125 \nL 15.5 77.296875 \nL 24.59375 77.296875 \nL 24.59375 68.203125 \nL 64.703125 68.203125 \nL 64.703125 77.296875 \nL 73.59375 77.296875 \nL 73.59375 46.703125 \nz\nM 40 23 \nL 40 32.5 \nL 1.09375 32.5 \nL 1.09375 39.5 \nL 88.09375 39.5 \nL 88.09375 32.5 \nL 48.90625 32.5 \nL 48.90625 23 \nL 74.09375 23 \nL 74.09375 1.5 \nL 23.59375 1.5 \nL 23.59375 -6.203125 \nL 76.5 -6.203125 \nL 76.5 -13.296875 \nL 15.09375 -13.296875 \nL 15.09375 8.296875 \nL 65.59375 8.296875 \nL 65.59375 15.90625 \nL 15.09375 15.90625 \nL 15.09375 23 \nz\n\" id=\"NanumBarunGothic-48520\"/>\n      </defs>\n      <g style=\"fill:#262626;\" transform=\"translate(22.837656 197.947656)scale(0.1 -0.1)\">\n       <use xlink:href=\"#NanumBarunGothic-52397\"/>\n       <use x=\"89.199982\" xlink:href=\"#NanumBarunGothic-49548\"/>\n       <use x=\"178.399963\" xlink:href=\"#NanumBarunGothic-45380\"/>\n       <use x=\"267.599945\" xlink:href=\"#NanumBarunGothic-32\"/>\n       <use x=\"289.999939\" xlink:href=\"#NanumBarunGothic-44288\"/>\n       <use x=\"379.199921\" xlink:href=\"#NanumBarunGothic-46988\"/>\n       <use x=\"468.399902\" xlink:href=\"#NanumBarunGothic-48520\"/>\n       <use x=\"557.599884\" xlink:href=\"#NanumBarunGothic-44032\"/>\n      </g>\n     </g>\n    </g>\n    <g id=\"ytick_3\">\n     <g id=\"line2d_19\">\n      <path clip-path=\"url(#p03b9e3fd0d)\" d=\"M 94.520469 119.3175 \nL 540.920469 119.3175 \n\" style=\"fill:none;stroke:#ffffff;stroke-linecap:round;\"/>\n     </g>\n     <g id=\"line2d_20\"/>\n     <g id=\"text_11\">\n      <!-- 12세 관람가 -->\n      <defs>\n       <path d=\"M 79.59375 -13.296875 \nL 71 -13.296875 \nL 71 78 \nL 79.59375 78 \nz\nM 52.5 77 \nL 61 77 \nL 61 -11 \nL 52.5 -11 \nL 52.5 40.296875 \nL 38.59375 40.296875 \nL 38.59375 47.796875 \nL 52.5 47.796875 \nz\nM 6.40625 6.296875 \nL -0.5 11.5 \nQ 12.09375 22.203125 17.1875 37.703125 \nQ 22.296875 53.203125 21.09375 72.296875 \nL 29.59375 72.296875 \nQ 29.703125 66 29.34375 60.296875 \nQ 29 54.59375 28.203125 49.203125 \nQ 31.09375 38.703125 36.640625 30 \nQ 42.203125 21.296875 49.09375 14.5 \nL 42 9.203125 \nQ 36.90625 14.09375 32.65625 21 \nQ 28.40625 27.90625 25.203125 36.203125 \nQ 22.5 27.5 17.953125 20.140625 \nQ 13.40625 12.796875 6.40625 6.296875 \nz\n\" id=\"NanumBarunGothic-49464\"/>\n      </defs>\n      <g style=\"fill:#262626;\" transform=\"translate(37.939219 123.202656)scale(0.1 -0.1)\">\n       <use xlink:href=\"#NanumBarunGothic-49\"/>\n       <use x=\"58.299988\" xlink:href=\"#NanumBarunGothic-50\"/>\n       <use x=\"116.599976\" xlink:href=\"#NanumBarunGothic-49464\"/>\n       <use x=\"205.799957\" xlink:href=\"#NanumBarunGothic-32\"/>\n       <use x=\"228.199951\" xlink:href=\"#NanumBarunGothic-44288\"/>\n       <use x=\"317.399933\" xlink:href=\"#NanumBarunGothic-46988\"/>\n       <use x=\"406.599915\" xlink:href=\"#NanumBarunGothic-44032\"/>\n      </g>\n     </g>\n    </g>\n    <g id=\"ytick_4\">\n     <g id=\"line2d_21\">\n      <path clip-path=\"url(#p03b9e3fd0d)\" d=\"M 94.520469 44.5725 \nL 540.920469 44.5725 \n\" style=\"fill:none;stroke:#ffffff;stroke-linecap:round;\"/>\n     </g>\n     <g id=\"line2d_22\"/>\n     <g id=\"text_12\">\n      <!-- 15세 관람가 -->\n      <defs>\n       <path d=\"M 6.796875 8.703125 \nQ 11.59375 5.5 16.59375 3.953125 \nQ 21.59375 2.40625 27.296875 2.40625 \nQ 31.203125 2.5 34.5 3.84375 \nQ 37.796875 5.203125 40.1875 7.5 \nQ 42.59375 9.796875 43.9375 12.9375 \nQ 45.296875 16.09375 45.296875 19.90625 \nQ 45.296875 24.296875 43.640625 27.34375 \nQ 42 30.40625 39.046875 32.296875 \nQ 36.09375 34.203125 32.140625 35.046875 \nQ 28.203125 35.90625 23.59375 35.90625 \nQ 20.09375 35.90625 16.09375 35.40625 \nQ 12.09375 34.90625 8.5 34.09375 \nL 10.59375 71.796875 \nL 49.796875 71.796875 \nL 49.796875 64.90625 \nL 17.796875 64.90625 \nL 16.296875 41.703125 \nL 16.5 41.703125 \nQ 19.40625 42 22 42.203125 \nQ 24.59375 42.40625 27.203125 42.40625 \nQ 33.09375 42.40625 38 40.953125 \nQ 42.90625 39.5 46.453125 36.75 \nQ 50 34 51.953125 29.953125 \nQ 53.90625 25.90625 53.90625 20.796875 \nQ 53.90625 15.5 52.046875 10.84375 \nQ 50.203125 6.203125 46.703125 2.796875 \nQ 43.203125 -0.59375 38.203125 -2.546875 \nQ 33.203125 -4.5 27 -4.5 \nQ 20.296875 -4.40625 15.09375 -3.046875 \nQ 9.90625 -1.703125 5.703125 1.296875 \nL 5.703125 8.203125 \nQ 5.703125 8.796875 6.046875 8.9375 \nQ 6.40625 9.09375 6.796875 8.703125 \nz\n\" id=\"NanumBarunGothic-53\"/>\n      </defs>\n      <g style=\"fill:#262626;\" transform=\"translate(37.939219 48.457656)scale(0.1 -0.1)\">\n       <use xlink:href=\"#NanumBarunGothic-49\"/>\n       <use x=\"58.299988\" xlink:href=\"#NanumBarunGothic-53\"/>\n       <use x=\"116.599976\" xlink:href=\"#NanumBarunGothic-49464\"/>\n       <use x=\"205.799957\" xlink:href=\"#NanumBarunGothic-32\"/>\n       <use x=\"228.199951\" xlink:href=\"#NanumBarunGothic-44288\"/>\n       <use x=\"317.399933\" xlink:href=\"#NanumBarunGothic-46988\"/>\n       <use x=\"406.599915\" xlink:href=\"#NanumBarunGothic-44032\"/>\n      </g>\n     </g>\n    </g>\n    <g id=\"text_13\">\n     <!-- screening_rat -->\n     <defs>\n      <path d=\"M 5 8 \nQ 10.09375 5.09375 14.6875 3.546875 \nQ 19.296875 2 23.09375 2 \nQ 28.796875 2 31.796875 4.296875 \nQ 34.796875 6.59375 34.796875 11.09375 \nQ 34.796875 13.703125 32.640625 15.640625 \nQ 30.5 17.59375 26.40625 19.296875 \nL 20.296875 21.90625 \nQ 12.90625 25.09375 9.25 28.796875 \nQ 5.59375 32.5 5.59375 38.203125 \nQ 5.59375 44.5 10.546875 48.390625 \nQ 15.5 52.296875 24.59375 52.296875 \nQ 29.09375 52.296875 33.25 51.140625 \nQ 37.40625 50 41.59375 47.40625 \nL 41.59375 40.09375 \nQ 41.59375 38.703125 40.703125 39.59375 \nQ 36.59375 42.703125 32.6875 44.203125 \nQ 28.796875 45.703125 24.203125 45.703125 \nQ 19.796875 45.703125 17.25 44.09375 \nQ 14.703125 42.5 14.703125 38.796875 \nQ 14.703125 34.90625 17 33 \nQ 19.296875 31.09375 22.40625 29.90625 \nL 29 27 \nQ 32.203125 25.59375 34.953125 24.1875 \nQ 37.703125 22.796875 39.703125 21 \nQ 41.703125 19.203125 42.84375 16.84375 \nQ 44 14.5 44 11.203125 \nQ 44 7.40625 42.453125 4.40625 \nQ 40.90625 1.40625 38.15625 -0.6875 \nQ 35.40625 -2.796875 31.59375 -3.890625 \nQ 27.796875 -5 23.296875 -5 \nQ 18.203125 -5 13.296875 -3.75 \nQ 8.40625 -2.5 4 0.40625 \nL 4 7.296875 \nQ 4 8.59375 5 8 \nz\n\" id=\"NanumBarunGothic-115\"/>\n      <path d=\"M 46.5 7.59375 \nQ 47.59375 8.703125 47.59375 7.203125 \nL 47.59375 0.5 \nQ 44.40625 -2.5 40.25 -3.75 \nQ 36.09375 -5 31.59375 -5 \nQ 25.296875 -5 20.1875 -3.203125 \nQ 15.09375 -1.40625 11.390625 2.09375 \nQ 7.703125 5.59375 5.703125 10.890625 \nQ 3.703125 16.203125 3.703125 23.296875 \nQ 3.703125 29.90625 5.59375 35.25 \nQ 7.5 40.59375 11.09375 44.390625 \nQ 14.703125 48.203125 19.84375 50.25 \nQ 25 52.296875 31.40625 52.296875 \nQ 35.796875 52.296875 39.890625 51.09375 \nQ 44 49.90625 47.203125 47.296875 \nL 47.203125 40.40625 \nQ 47.203125 38.703125 46.09375 40 \nQ 42.90625 42.90625 39.296875 44 \nQ 35.703125 45.09375 31.59375 45.09375 \nQ 26.90625 45.09375 23.40625 43.34375 \nQ 19.90625 41.59375 17.59375 38.640625 \nQ 15.296875 35.703125 14.09375 31.75 \nQ 12.90625 27.796875 12.90625 23.40625 \nQ 12.90625 18.703125 14.09375 14.796875 \nQ 15.296875 10.90625 17.6875 8.046875 \nQ 20.09375 5.203125 23.75 3.640625 \nQ 27.40625 2.09375 32.296875 2.09375 \nQ 36.5 2.09375 39.890625 3.390625 \nQ 43.296875 4.703125 46.5 7.59375 \nz\n\" id=\"NanumBarunGothic-99\"/>\n      <path d=\"M 36.5 43.09375 \nQ 35.09375 43.90625 33.59375 44.25 \nQ 32.09375 44.59375 30.09375 44.59375 \nQ 27.5 44.59375 24.953125 43.34375 \nQ 22.40625 42.09375 20.453125 39.796875 \nQ 18.5 37.5 17.296875 34.296875 \nQ 16.09375 31.09375 16.09375 27.203125 \nL 16.09375 -3.59375 \nL 7.5 -3.59375 \nL 7.5 51 \nL 16.203125 51 \nL 16.59375 43.09375 \nQ 18.703125 47.5 22.703125 49.890625 \nQ 26.703125 52.296875 31 52.296875 \nQ 33.09375 52.296875 34.640625 52.046875 \nQ 36.203125 51.796875 37.703125 51 \nL 37.703125 43.59375 \nQ 37.703125 42.203125 36.5 43.09375 \nz\n\" id=\"NanumBarunGothic-114\"/>\n      <path d=\"M 52.796875 28.703125 \nL 52.796875 -3.59375 \nL 44.203125 -3.59375 \nL 44.203125 28.90625 \nQ 44.203125 37.296875 41.796875 41.390625 \nQ 39.40625 45.5 32.90625 45.5 \nQ 29.703125 45.5 26.640625 44.046875 \nQ 23.59375 42.59375 21.25 40.046875 \nQ 18.90625 37.5 17.453125 34.046875 \nQ 16 30.59375 16 26.5 \nL 16 -3.59375 \nL 7.5 -3.59375 \nL 7.5 51 \nL 16.09375 51 \nL 16.5 43.09375 \nL 16.59375 43.09375 \nQ 17.796875 45.203125 19.75 46.890625 \nQ 21.703125 48.59375 24 49.796875 \nQ 26.296875 51 28.84375 51.640625 \nQ 31.40625 52.296875 33.90625 52.296875 \nQ 44.296875 52.296875 48.546875 46.25 \nQ 52.796875 40.203125 52.796875 28.703125 \nz\n\" id=\"NanumBarunGothic-110\"/>\n      <path d=\"M 16.5 51 \nL 16.5 -3.59375 \nL 7.796875 -3.59375 \nL 7.796875 51 \nz\nM 6 68.40625 \nQ 6 71.09375 7.75 72.890625 \nQ 9.5 74.703125 12.203125 74.703125 \nQ 14.796875 74.703125 16.59375 72.890625 \nQ 18.40625 71.09375 18.40625 68.40625 \nQ 18.40625 65.796875 16.59375 64.046875 \nQ 14.796875 62.296875 12.203125 62.296875 \nQ 9.5 62.296875 7.75 64.046875 \nQ 6 65.796875 6 68.40625 \nz\n\" id=\"NanumBarunGothic-105\"/>\n      <path d=\"M 42.59375 21.203125 \nL 42.59375 28 \nQ 42.59375 31.703125 41.296875 34.84375 \nQ 40 38 37.84375 40.296875 \nQ 35.703125 42.59375 32.75 43.890625 \nQ 29.796875 45.203125 26.5 45.203125 \nQ 19.296875 45.203125 15.34375 39.703125 \nQ 11.40625 34.203125 11.40625 23.59375 \nQ 11.40625 14.296875 15.5 9.1875 \nQ 19.59375 4.09375 26.40625 4.09375 \nQ 34.09375 4.09375 38.34375 8.84375 \nQ 42.59375 13.59375 42.59375 21.203125 \nz\nM 24.09375 -21.296875 \nQ 34.203125 -21.296875 38.390625 -16.046875 \nQ 42.59375 -10.796875 42.59375 0.296875 \nL 42.59375 5.796875 \nQ 39.5 1 35.296875 -0.84375 \nQ 31.09375 -2.703125 25.40625 -2.703125 \nQ 19.703125 -2.703125 15.34375 -0.796875 \nQ 11 1.09375 8.140625 4.546875 \nQ 5.296875 8 3.84375 12.796875 \nQ 2.40625 17.59375 2.40625 23.5 \nQ 2.40625 37.203125 8.34375 44.75 \nQ 14.296875 52.296875 25.5 52.296875 \nQ 31.203125 52.296875 35.5 50.046875 \nQ 39.796875 47.796875 42.09375 43.59375 \nL 42.203125 43.59375 \nL 42.5 51 \nL 51.09375 51 \nL 51.09375 1.40625 \nQ 51.09375 -6.296875 49.59375 -11.9375 \nQ 48.09375 -17.59375 44.84375 -21.296875 \nQ 41.59375 -25 36.5 -26.75 \nQ 31.40625 -28.5 24.203125 -28.5 \nQ 18.90625 -28.5 14.90625 -27.5 \nQ 10.90625 -26.5 6.90625 -24.5 \nL 6.90625 -16.90625 \nQ 6.90625 -15.59375 8 -16.40625 \nQ 12.5 -19 16.34375 -20.140625 \nQ 20.203125 -21.296875 24.09375 -21.296875 \nz\n\" id=\"NanumBarunGothic-103\"/>\n      <path d=\"M 43.59375 -15 \nL 1 -15 \nL 1 -8.40625 \nL 43.59375 -8.40625 \nz\n\" id=\"NanumBarunGothic-95\"/>\n      <path d=\"M 39.09375 18.59375 \nL 39.09375 25.796875 \nL 24.59375 24 \nQ 19 23.203125 15.5 20.25 \nQ 12 17.296875 12 11.703125 \nQ 12 7.203125 15.046875 4.796875 \nQ 18.09375 2.40625 22.90625 2.40625 \nQ 26.09375 2.40625 29.046875 3.796875 \nQ 32 5.203125 34.25 7.453125 \nQ 36.5 9.703125 37.796875 12.59375 \nQ 39.09375 15.5 39.09375 18.59375 \nz\nM 9.59375 39.296875 \nQ 9.09375 38.796875 8.6875 38.9375 \nQ 8.296875 39.09375 8.296875 39.90625 \nL 8.296875 47.203125 \nQ 12.5 50 17.703125 51.59375 \nQ 22.90625 53.203125 28.40625 53.203125 \nQ 38.203125 53.203125 42.75 48.703125 \nQ 47.296875 44.203125 47.296875 33.90625 \nL 47.296875 -3.59375 \nL 39 -3.59375 \nL 38.59375 4.296875 \nL 38.5 4.296875 \nQ 37.203125 2.09375 35.25 0.390625 \nQ 33.296875 -1.296875 30.9375 -2.4375 \nQ 28.59375 -3.59375 26.046875 -4.1875 \nQ 23.5 -4.796875 21 -4.796875 \nQ 17 -4.90625 13.640625 -3.90625 \nQ 10.296875 -2.90625 7.890625 -0.90625 \nQ 5.5 1.09375 4.203125 4.09375 \nQ 2.90625 7.09375 2.90625 11 \nQ 2.90625 18.59375 7.59375 23.640625 \nQ 12.296875 28.703125 21.59375 30.09375 \nL 38.796875 32.59375 \nL 38.796875 33.5 \nQ 38.796875 37.09375 38.09375 39.5 \nQ 37.40625 41.90625 36 43.25 \nQ 34.59375 44.59375 32.4375 45.140625 \nQ 30.296875 45.703125 27.40625 45.703125 \nQ 22.59375 45.703125 18.34375 44.09375 \nQ 14.09375 42.5 9.59375 39.296875 \nz\n\" id=\"NanumBarunGothic-97\"/>\n      <path d=\"M 33.5 4.703125 \nQ 34.59375 5.5 34.59375 4.09375 \nL 34.59375 -2 \nQ 32.59375 -3.5 29.75 -4.09375 \nQ 26.90625 -4.703125 24.203125 -4.703125 \nQ 16.5 -4.796875 13.140625 -1.640625 \nQ 9.796875 1.5 9.796875 9.09375 \nL 9.796875 44.5 \nL 0.296875 44.5 \nL 0.296875 51 \nL 9.796875 51 \nL 9.796875 64.5 \nL 18.40625 64.5 \nL 18.40625 51 \nL 32.59375 51 \nL 32.59375 44.5 \nL 18.40625 44.5 \nL 18.40625 10.40625 \nQ 18.40625 8.203125 18.59375 6.703125 \nQ 18.796875 5.203125 19.5 4.296875 \nQ 20.203125 3.40625 21.59375 3 \nQ 23 2.59375 25.296875 2.59375 \nQ 26.703125 2.59375 29.09375 3.09375 \nQ 31.5 3.59375 33.5 4.703125 \nz\n\" id=\"NanumBarunGothic-116\"/>\n     </defs>\n     <g style=\"fill:#262626;\" transform=\"translate(15.702656 190.944687)rotate(-90)scale(0.11 -0.11)\">\n      <use xlink:href=\"#NanumBarunGothic-115\"/>\n      <use x=\"47.499985\" xlink:href=\"#NanumBarunGothic-99\"/>\n      <use x=\"96.499969\" xlink:href=\"#NanumBarunGothic-114\"/>\n      <use x=\"134.799957\" xlink:href=\"#NanumBarunGothic-101\"/>\n      <use x=\"190.699951\" xlink:href=\"#NanumBarunGothic-101\"/>\n      <use x=\"246.599945\" xlink:href=\"#NanumBarunGothic-110\"/>\n      <use x=\"305.799942\" xlink:href=\"#NanumBarunGothic-105\"/>\n      <use x=\"330.199936\" xlink:href=\"#NanumBarunGothic-110\"/>\n      <use x=\"389.399933\" xlink:href=\"#NanumBarunGothic-103\"/>\n      <use x=\"448.199921\" xlink:href=\"#NanumBarunGothic-95\"/>\n      <use x=\"492.799911\" xlink:href=\"#NanumBarunGothic-114\"/>\n      <use x=\"531.099899\" xlink:href=\"#NanumBarunGothic-97\"/>\n      <use x=\"587.099884\" xlink:href=\"#NanumBarunGothic-116\"/>\n     </g>\n    </g>\n   </g>\n   <g id=\"patch_3\">\n    <path clip-path=\"url(#p03b9e3fd0d)\" d=\"M 94.520469 287.49375 \nL 140.561459 287.49375 \nL 140.561459 250.12125 \nL 94.520469 250.12125 \nz\n\" style=\"fill:#4c72b0;\"/>\n   </g>\n   <g id=\"patch_4\">\n    <path clip-path=\"url(#p03b9e3fd0d)\" d=\"M 94.520469 212.74875 \nL 218.630109 212.74875 \nL 218.630109 175.37625 \nL 94.520469 175.37625 \nz\n\" style=\"fill:#4c72b0;\"/>\n   </g>\n   <g id=\"patch_5\">\n    <path clip-path=\"url(#p03b9e3fd0d)\" d=\"M 94.520469 138.00375 \nL 382.482173 138.00375 \nL 382.482173 100.63125 \nL 94.520469 100.63125 \nz\n\" style=\"fill:#4c72b0;\"/>\n   </g>\n   <g id=\"patch_6\">\n    <path clip-path=\"url(#p03b9e3fd0d)\" d=\"M 94.520469 63.25875 \nL 519.663326 63.25875 \nL 519.663326 25.88625 \nL 94.520469 25.88625 \nz\n\" style=\"fill:#4c72b0;\"/>\n   </g>\n   <g id=\"patch_7\">\n    <path d=\"M 94.520469 306.18 \nL 94.520469 7.2 \n\" style=\"fill:none;\"/>\n   </g>\n   <g id=\"patch_8\">\n    <path d=\"M 540.920469 306.18 \nL 540.920469 7.2 \n\" style=\"fill:none;\"/>\n   </g>\n   <g id=\"patch_9\">\n    <path d=\"M 94.520469 306.18 \nL 540.920469 306.18 \n\" style=\"fill:none;\"/>\n   </g>\n   <g id=\"patch_10\">\n    <path d=\"M 94.520469 7.2 \nL 540.920469 7.2 \n\" style=\"fill:none;\"/>\n   </g>\n  </g>\n </g>\n <defs>\n  <clipPath id=\"p03b9e3fd0d\">\n   <rect height=\"298.98\" width=\"446.4\" x=\"94.520469\" y=\"7.2\"/>\n  </clipPath>\n </defs>\n</svg>\n"
          },
          "metadata": {
            "tags": []
          }
        }
      ]
    },
    {
      "cell_type": "code",
      "metadata": {
        "colab": {
          "base_uri": "https://localhost:8080/"
        },
        "id": "uPUhGz1mwCeX",
        "outputId": "03779536-0c7f-40a3-959f-143ec41a1e16"
      },
      "source": [
        "train.groupby(\"screening_rat\")['box_off_num'].mean().sort_values(ascending=False).index"
      ],
      "execution_count": 248,
      "outputs": [
        {
          "output_type": "execute_result",
          "data": {
            "text/plain": [
              "Index(['15세 관람가', '12세 관람가', '청소년 관람불가', '전체 관람가'], dtype='object', name='screening_rat')"
            ]
          },
          "metadata": {
            "tags": []
          },
          "execution_count": 248
        }
      ]
    },
    {
      "cell_type": "code",
      "metadata": {
        "id": "IVpi7ulGvcW9"
      },
      "source": [
        "#스태프별 주연비율\n",
        "train['actor_rat'] = np.round(train['num_actor'] / train[\"num_staff\"] *100, 2)\n",
        "test['actor_rat'] = np.round(test['num_actor'] / test[\"num_staff\"]*100,2)\n",
        "\n",
        "train.loc[train['actor_rat'].isnull(), 'actor_rat'] = 0"
      ],
      "execution_count": 249,
      "outputs": []
    },
    {
      "cell_type": "markdown",
      "metadata": {
        "id": "5rZ_040iwjnw"
      },
      "source": [
        "# 데이터 전처리"
      ]
    },
    {
      "cell_type": "code",
      "metadata": {
        "id": "O0oj08NRwlNn"
      },
      "source": [
        "train.loc[(train['dir_prev_bfnum'].isnull()) & (train['dir_prev_num'] == 0), \"dir_prev_bfnum\"] = 0\n",
        "test.loc[(test['dir_prev_bfnum'].isnull()) & (test['dir_prev_num'] == 0), \"dir_prev_bfnum\"] = 0"
      ],
      "execution_count": 250,
      "outputs": []
    },
    {
      "cell_type": "code",
      "metadata": {
        "colab": {
          "base_uri": "https://localhost:8080/"
        },
        "id": "YlJQc2rrCNL9",
        "outputId": "46f53950-b560-44e7-9966-34351d6830ec"
      },
      "source": [
        "train.isnull().sum()"
      ],
      "execution_count": 251,
      "outputs": [
        {
          "output_type": "execute_result",
          "data": {
            "text/plain": [
              "title             0\n",
              "distributor       0\n",
              "genre             0\n",
              "release_time      0\n",
              "time              0\n",
              "screening_rat     0\n",
              "director          0\n",
              "dir_prev_bfnum    0\n",
              "dir_prev_num      0\n",
              "num_staff         0\n",
              "num_actor         0\n",
              "box_off_num       0\n",
              "actor_rat         0\n",
              "dtype: int64"
            ]
          },
          "metadata": {
            "tags": []
          },
          "execution_count": 251
        }
      ]
    },
    {
      "cell_type": "code",
      "metadata": {
        "colab": {
          "base_uri": "https://localhost:8080/"
        },
        "id": "cYV0YpYeCP6i",
        "outputId": "2d54d0ca-4bc4-44f2-f0c0-9ab50c0dfae1"
      },
      "source": [
        "test.isnull().sum()"
      ],
      "execution_count": 252,
      "outputs": [
        {
          "output_type": "execute_result",
          "data": {
            "text/plain": [
              "title             0\n",
              "distributor       0\n",
              "genre             0\n",
              "release_time      0\n",
              "time              0\n",
              "screening_rat     0\n",
              "director          0\n",
              "dir_prev_bfnum    0\n",
              "dir_prev_num      0\n",
              "num_staff         0\n",
              "num_actor         0\n",
              "actor_rat         0\n",
              "dtype: int64"
            ]
          },
          "metadata": {
            "tags": []
          },
          "execution_count": 252
        }
      ]
    },
    {
      "cell_type": "code",
      "metadata": {
        "id": "JIF4uixutZ5u",
        "colab": {
          "base_uri": "https://localhost:8080/"
        },
        "outputId": "7c96747d-9496-40ee-d0f8-2c98814246b6"
      },
      "source": [
        "train['distributor'].unique()"
      ],
      "execution_count": 253,
      "outputs": [
        {
          "output_type": "execute_result",
          "data": {
            "text/plain": [
              "array(['롯데엔터테인먼트', '(주)쇼박스', '(주)NEW', '쇼박스(주)미디어플렉스', '백두대간',\n",
              "       '유니버설픽쳐스인터내셔널코리아', '(주)두타연', '(주) 케이알씨지', '(주)콘텐츠 윙', '(주)키노아이',\n",
              "       '(주)팝 파트너스', 'CJ E&M 영화부문', '(주) 영화제작전원사', 'CJ E&M Pictures',\n",
              "       'CGV 무비꼴라쥬', '리틀빅픽처스', '스폰지', 'CJ 엔터테인먼트', 'CGV아트하우스', '조이앤시네마',\n",
              "       '인디플러그', '콘텐츠판다', '인디스토리', '(주)팝엔터테인먼트', '시네마서비스', '웃기씨네',\n",
              "       '영화사 진진', '(주)레인보우 팩토리', '김기덕 필름', 'NEW', 'CJ CGV',\n",
              "       '동국대학교 충무로영상제작센터', 'BoXoo 엔터테인먼트', '(주)마운틴픽쳐스', 'CGV 아트하우스',\n",
              "       '메가박스(주)플러스엠', '골든타이드픽처스', '파이오니아21', '디 씨드', '드림팩트 엔터테인먼트', '시너지',\n",
              "       '디마엔터테인먼트', '판다미디어', '(주)스톰픽쳐스코리아', '(주)예지림 엔터테인먼트', '(주) 영화사조제',\n",
              "       '보람엔터테인먼트', '(주)시네마달', '노바엔터테인먼트', '(주)패스파인더씨앤씨', '(주)대명문화공장',\n",
              "       '(주)온비즈넷', 'KT&G 상상마당', '무비꼴라쥬', '인벤트 디', '씨네그루(주)키다리이엔티',\n",
              "       '스튜디오후크', '시네마 달', '나이너스엔터테인먼트(주)', 'THE 픽쳐스', '영구아트무비', '리틀빅픽쳐스',\n",
              "       '어뮤즈', '이모션 픽처스', '(주)이스트스카이필름', '필라멘트 픽쳐스', '조이앤컨텐츠그룹', '타임스토리그룹',\n",
              "       '마운틴 픽처스', '(주)휘엔터테인먼트', '이십세기폭스코리아(주)', '(주)피터팬픽쳐스', '에스와이코마드',\n",
              "       '(주)더픽쳐스', '오퍼스픽쳐스', '(주)고앤고 필름', '사람과 사람들', '(주)JK필름',\n",
              "       '씨너스엔터테인먼트(주)', 'KT', '싸이더스FNH', '(주)프레인글로벌', '나우콘텐츠', '홀리가든',\n",
              "       '(주) 브릿지웍스', '(주)엣나인필름', '위더스필름', '시네마달', '(주)에이원 엔터테인먼트',\n",
              "       'OAL(올)', '싸이더스', '전망좋은영화사', '스토리셋', '이상우필름', '씨네굿필름', '영희야놀자',\n",
              "       '찬란', '어썸 피플', '아방가르드 필름', '스크린조이', '와이드릴리즈(주)', 'tvN',\n",
              "       '(주) 액티버스엔터테인먼트', '더픽쳐스/(주)마운틴픽쳐스', '제나두 엔터테인먼트', '(주)아이필름코퍼레이션',\n",
              "       '쟈비스미디어', '트리필름', '에스피엠', '(주)리틀빅픽처스', '건시네마', '키노엔터테인먼트',\n",
              "       '(주)아우라픽처스', '에이블엔터테인먼트', '드림로드', '인피니티엔터테인먼트', '새인컴퍼니',\n",
              "       '스튜디오 느림보', '와이드 릴리즈(주)', '필름라인', 'M2픽처스', '고구마공작소', '(주)미디어데이',\n",
              "       '마노엔터테인먼트', '화앤담이엔티', '(주)스마일이엔티', '(주)패뷸러스', '싸이더스 FNH', '영화사 조아',\n",
              "       '판씨네마(주)', '두 엔터테인먼트', '(주)마인스 엔터테인먼트', '전주국제영화제', '(주)마인스엔터테인먼트',\n",
              "       '상구네 필름', '케이엠스타', '(주)유비네트워크', '한국YWCA연합회', 'KBS미디어(주)', '더 피플',\n",
              "       '위드시네마', '팜코리아미디어', '(주)씨엠닉스', 'SBS콘텐츠허브', '인터콘미디어', '(주)유비콘텐츠',\n",
              "       '프로젝트 엠피', '하준사', '(주)노버스엔터테인먼트', '주머니필름', '롤러코스터 프로덕션', 'SK플래닛',\n",
              "       '서울독립영화제', '스튜디오 블루', '(주)랠리버튼', '(주)드림팩트엔터테인먼트', '에이원 엔터테인먼트',\n",
              "       '머스트 씨 무비', 'SK텔레콤(주)', '마법사필름', '스폰지이엔티', '(주)로드하우스', '미라클 필름',\n",
              "       '프리비젼 엔터테인먼트', '영화사 廊', '크리에이티브컴즈(주)', 'ysfilm', '이달투', '퍼스트런'],\n",
              "      dtype=object)"
            ]
          },
          "metadata": {
            "tags": []
          },
          "execution_count": 253
        }
      ]
    },
    {
      "cell_type": "code",
      "metadata": {
        "id": "Ds3xPN_2vGqx",
        "colab": {
          "base_uri": "https://localhost:8080/"
        },
        "outputId": "13b525ee-ebc7-4b07-da38-b8a3f9d30c73"
      },
      "source": [
        "train['distributor'].nunique()"
      ],
      "execution_count": 254,
      "outputs": [
        {
          "output_type": "execute_result",
          "data": {
            "text/plain": [
              "169"
            ]
          },
          "metadata": {
            "tags": []
          },
          "execution_count": 254
        }
      ]
    },
    {
      "cell_type": "code",
      "metadata": {
        "id": "dGaQBXsxrHpH"
      },
      "source": [
        "#(주) 제거\n",
        "train['distributor'] = train['distributor'].str.replace('\\\\(',\"\").str.replace('주',\"\").str.replace(\"\\\\)\",\"\")\n",
        "test['distributor'] = test['distributor'].str.replace('\\\\(',\"\").str.replace('주',\"\").str.replace(\"\\\\)\",\"\")\n",
        "#공백 제거\n",
        "train['distributor'] = train['distributor'].str.replace(\" \",\"\")\n",
        "test['distributor'] = test['distributor'].str.replace(\" \",\"\")"
      ],
      "execution_count": 255,
      "outputs": []
    },
    {
      "cell_type": "code",
      "metadata": {
        "id": "p4xkwgPZLKj1"
      },
      "source": [
        "train['distributor'] = [re.sub(r'[^0-9a-zA-Z가-힣]', '', x) for x in train['distributor']]\n",
        "test['distributor'] = [re.sub(r'[^0-9a-zA-Z가-힣]', '', x) for x in test['distributor']]"
      ],
      "execution_count": 256,
      "outputs": []
    },
    {
      "cell_type": "code",
      "metadata": {
        "id": "ptq3mzRDLLdg"
      },
      "source": [
        "# distributor 중복제거 함수\n",
        "def get_dis(x) :\n",
        "    if 'CJ' in x or 'CGV' in x :\n",
        "        return 'CJ'\n",
        "    elif '쇼박스' in x :\n",
        "        return '쇼박스'\n",
        "    elif 'SK' in x :\n",
        "        return 'SK'\n",
        "    elif '리틀빅픽' in x :\n",
        "        return '리틀빅픽처스'\n",
        "    elif '스폰지' in x :\n",
        "        return '스폰지'\n",
        "    elif '싸이더스' in x :\n",
        "        return '싸이더스'\n",
        "    elif '에이원' in x :\n",
        "        return '에이원'\n",
        "    elif '마인스' in x :\n",
        "        return '마인스'\n",
        "    elif '마운틴픽' in x :\n",
        "        return '마운틴픽처스'\n",
        "    elif '디씨드' in x :\n",
        "        return '디씨드'\n",
        "    elif '드림팩트' in x :\n",
        "        return '드림팩트'\n",
        "    elif '메가박스' in x :\n",
        "        return '메가박스'\n",
        "    elif '마운틴' in x :\n",
        "        return '마운틴'\n",
        "    else :\n",
        "        return x"
      ],
      "execution_count": 257,
      "outputs": []
    },
    {
      "cell_type": "code",
      "metadata": {
        "id": "12qVaQM7ng-7"
      },
      "source": [
        "# distributor 중복제거\n",
        "train['distributor'] = train['distributor'].apply(get_dis)\n",
        "test['distributor'] = test['distributor'].apply(get_dis)"
      ],
      "execution_count": 258,
      "outputs": []
    },
    {
      "cell_type": "code",
      "metadata": {
        "id": "XNluyHOhuf4A",
        "colab": {
          "base_uri": "https://localhost:8080/"
        },
        "outputId": "ab2787db-dfd1-491e-f73d-1bbc4425cb15"
      },
      "source": [
        "train['distributor'].nunique()"
      ],
      "execution_count": 259,
      "outputs": [
        {
          "output_type": "execute_result",
          "data": {
            "text/plain": [
              "147"
            ]
          },
          "metadata": {
            "tags": []
          },
          "execution_count": 259
        }
      ]
    },
    {
      "cell_type": "code",
      "metadata": {
        "id": "276u1qfzvLKy",
        "colab": {
          "base_uri": "https://localhost:8080/"
        },
        "outputId": "8d173271-980b-49e4-85c0-be24eff995f1"
      },
      "source": [
        "train['distributor'].unique()"
      ],
      "execution_count": 260,
      "outputs": [
        {
          "output_type": "execute_result",
          "data": {
            "text/plain": [
              "array(['롯데엔터테인먼트', '쇼박스', 'NEW', '백두대간', '유니버설픽쳐스인터내셔널코리아', '두타연',\n",
              "       '케이알씨지', '콘텐츠윙', '키노아이', '팝파트너스', 'CJ', '영화제작전원사', '리틀빅픽처스', '스폰지',\n",
              "       '조이앤시네마', '인디플러그', '콘텐츠판다', '인디스토리', '팝엔터테인먼트', '시네마서비스', '웃기씨네',\n",
              "       '영화사진진', '레인보우팩토리', '김기덕필름', '동국대학교충무로영상제작센터', 'BoXoo엔터테인먼트',\n",
              "       '마운틴픽처스', '메가박스', '골든타이드픽처스', '파이오니아21', '디씨드', '드림팩트', '시너지',\n",
              "       '디마엔터테인먼트', '판다미디어', '스톰픽쳐스코리아', '예지림엔터테인먼트', '영화사조제', '보람엔터테인먼트',\n",
              "       '시네마달', '노바엔터테인먼트', '패스파인더씨앤씨', '대명문화공장', '온비즈넷', 'KTG상상마당',\n",
              "       '무비꼴라쥬', '인벤트디', '씨네그루키다리이엔티', '스튜디오후크', '나이너스엔터테인먼트', 'THE픽쳐스',\n",
              "       '영구아트무비', '어뮤즈', '이모션픽처스', '이스트스카이필름', '필라멘트픽쳐스', '조이앤컨텐츠그룹',\n",
              "       '타임스토리그룹', '휘엔터테인먼트', '이십세기폭스코리아', '피터팬픽쳐스', '에스와이코마드', '더픽쳐스',\n",
              "       '오퍼스픽쳐스', '고앤고필름', '사람과사람들', 'JK필름', '씨너스엔터테인먼트', 'KT', '싸이더스',\n",
              "       '프레인글로벌', '나우콘텐츠', '홀리가든', '브릿지웍스', '엣나인필름', '위더스필름', '에이원',\n",
              "       'OAL올', '전망좋은영화사', '스토리셋', '이상우필름', '씨네굿필름', '영희야놀자', '찬란', '어썸피플',\n",
              "       '아방가르드필름', '스크린조이', '와이드릴리즈', 'tvN', '액티버스엔터테인먼트', '제나두엔터테인먼트',\n",
              "       '아이필름코퍼레이션', '쟈비스미디어', '트리필름', '에스피엠', '건시네마', '키노엔터테인먼트',\n",
              "       '아우라픽처스', '에이블엔터테인먼트', '드림로드', '인피니티엔터테인먼트', '새인컴퍼니', '스튜디오느림보',\n",
              "       '필름라인', 'M2픽처스', '고구마공작소', '미디어데이', '마노엔터테인먼트', '화앤담이엔티', '스마일이엔티',\n",
              "       '패뷸러스', '영화사조아', '판씨네마', '두엔터테인먼트', '마인스', '전국제영화제', '상구네필름',\n",
              "       '케이엠스타', '유비네트워크', '한국YWCA연합회', 'KBS미디어', '더피플', '위드시네마',\n",
              "       '팜코리아미디어', '씨엠닉스', 'SBS콘텐츠허브', '인터콘미디어', '유비콘텐츠', '프로젝트엠피', '하준사',\n",
              "       '노버스엔터테인먼트', '머니필름', '롤러코스터프로덕션', 'SK', '서울독립영화제', '스튜디오블루',\n",
              "       '랠리버튼', '머스트씨무비', '마법사필름', '로드하우스', '미라클필름', '프리비젼엔터테인먼트', '영화사',\n",
              "       '크리에이티브컴즈', 'ysfilm', '이달투', '퍼스트런'], dtype=object)"
            ]
          },
          "metadata": {
            "tags": []
          },
          "execution_count": 260
        }
      ]
    },
    {
      "cell_type": "code",
      "metadata": {
        "colab": {
          "base_uri": "https://localhost:8080/",
          "height": 423
        },
        "id": "xeEzGZQfL09m",
        "outputId": "c6fc8bc6-1aaf-4b12-af46-4d5f4838c070"
      },
      "source": [
        "#배급사별 영화 관객수 평균 값으로 인코딩\n",
        "train_dis_rank = train.groupby(['distributor'])['box_off_num'].mean().reset_index(name='distributor_rank').sort_values(by='distributor_rank')\n",
        "train_dis_rank"
      ],
      "execution_count": 261,
      "outputs": [
        {
          "output_type": "execute_result",
          "data": {
            "text/html": [
              "<div>\n",
              "<style scoped>\n",
              "    .dataframe tbody tr th:only-of-type {\n",
              "        vertical-align: middle;\n",
              "    }\n",
              "\n",
              "    .dataframe tbody tr th {\n",
              "        vertical-align: top;\n",
              "    }\n",
              "\n",
              "    .dataframe thead th {\n",
              "        text-align: right;\n",
              "    }\n",
              "</style>\n",
              "<table border=\"1\" class=\"dataframe\">\n",
              "  <thead>\n",
              "    <tr style=\"text-align: right;\">\n",
              "      <th></th>\n",
              "      <th>distributor</th>\n",
              "      <th>distributor_rank</th>\n",
              "    </tr>\n",
              "  </thead>\n",
              "  <tbody>\n",
              "    <tr>\n",
              "      <th>110</th>\n",
              "      <td>인피니티엔터테인먼트</td>\n",
              "      <td>2.000000e+00</td>\n",
              "    </tr>\n",
              "    <tr>\n",
              "      <th>15</th>\n",
              "      <td>고구마공작소</td>\n",
              "      <td>8.000000e+00</td>\n",
              "    </tr>\n",
              "    <tr>\n",
              "      <th>52</th>\n",
              "      <td>사람과사람들</td>\n",
              "      <td>4.200000e+01</td>\n",
              "    </tr>\n",
              "    <tr>\n",
              "      <th>97</th>\n",
              "      <td>위드시네마</td>\n",
              "      <td>4.600000e+01</td>\n",
              "    </tr>\n",
              "    <tr>\n",
              "      <th>19</th>\n",
              "      <td>나우콘텐츠</td>\n",
              "      <td>5.400000e+01</td>\n",
              "    </tr>\n",
              "    <tr>\n",
              "      <th>...</th>\n",
              "      <td>...</td>\n",
              "      <td>...</td>\n",
              "    </tr>\n",
              "    <tr>\n",
              "      <th>7</th>\n",
              "      <td>NEW</td>\n",
              "      <td>1.939060e+06</td>\n",
              "    </tr>\n",
              "    <tr>\n",
              "      <th>1</th>\n",
              "      <td>CJ</td>\n",
              "      <td>2.066506e+06</td>\n",
              "    </tr>\n",
              "    <tr>\n",
              "      <th>84</th>\n",
              "      <td>영구아트무비</td>\n",
              "      <td>2.541603e+06</td>\n",
              "    </tr>\n",
              "    <tr>\n",
              "      <th>75</th>\n",
              "      <td>아이필름코퍼레이션</td>\n",
              "      <td>3.117859e+06</td>\n",
              "    </tr>\n",
              "    <tr>\n",
              "      <th>56</th>\n",
              "      <td>쇼박스</td>\n",
              "      <td>3.332954e+06</td>\n",
              "    </tr>\n",
              "  </tbody>\n",
              "</table>\n",
              "<p>147 rows × 2 columns</p>\n",
              "</div>"
            ],
            "text/plain": [
              "    distributor  distributor_rank\n",
              "110  인피니티엔터테인먼트      2.000000e+00\n",
              "15       고구마공작소      8.000000e+00\n",
              "52       사람과사람들      4.200000e+01\n",
              "97        위드시네마      4.600000e+01\n",
              "19        나우콘텐츠      5.400000e+01\n",
              "..          ...               ...\n",
              "7           NEW      1.939060e+06\n",
              "1            CJ      2.066506e+06\n",
              "84       영구아트무비      2.541603e+06\n",
              "75    아이필름코퍼레이션      3.117859e+06\n",
              "56          쇼박스      3.332954e+06\n",
              "\n",
              "[147 rows x 2 columns]"
            ]
          },
          "metadata": {
            "tags": []
          },
          "execution_count": 261
        }
      ]
    },
    {
      "cell_type": "code",
      "metadata": {
        "colab": {
          "base_uri": "https://localhost:8080/",
          "height": 423
        },
        "id": "dEsnCzR8L4id",
        "outputId": "25f155bd-19ea-4b0b-a873-36b95cb406ee"
      },
      "source": [
        "train_dis_rank['distributor_rank'] = [i + 1 for i in range(train_dis_rank.shape[0])]\n",
        "train_dis_rank"
      ],
      "execution_count": 262,
      "outputs": [
        {
          "output_type": "execute_result",
          "data": {
            "text/html": [
              "<div>\n",
              "<style scoped>\n",
              "    .dataframe tbody tr th:only-of-type {\n",
              "        vertical-align: middle;\n",
              "    }\n",
              "\n",
              "    .dataframe tbody tr th {\n",
              "        vertical-align: top;\n",
              "    }\n",
              "\n",
              "    .dataframe thead th {\n",
              "        text-align: right;\n",
              "    }\n",
              "</style>\n",
              "<table border=\"1\" class=\"dataframe\">\n",
              "  <thead>\n",
              "    <tr style=\"text-align: right;\">\n",
              "      <th></th>\n",
              "      <th>distributor</th>\n",
              "      <th>distributor_rank</th>\n",
              "    </tr>\n",
              "  </thead>\n",
              "  <tbody>\n",
              "    <tr>\n",
              "      <th>110</th>\n",
              "      <td>인피니티엔터테인먼트</td>\n",
              "      <td>1</td>\n",
              "    </tr>\n",
              "    <tr>\n",
              "      <th>15</th>\n",
              "      <td>고구마공작소</td>\n",
              "      <td>2</td>\n",
              "    </tr>\n",
              "    <tr>\n",
              "      <th>52</th>\n",
              "      <td>사람과사람들</td>\n",
              "      <td>3</td>\n",
              "    </tr>\n",
              "    <tr>\n",
              "      <th>97</th>\n",
              "      <td>위드시네마</td>\n",
              "      <td>4</td>\n",
              "    </tr>\n",
              "    <tr>\n",
              "      <th>19</th>\n",
              "      <td>나우콘텐츠</td>\n",
              "      <td>5</td>\n",
              "    </tr>\n",
              "    <tr>\n",
              "      <th>...</th>\n",
              "      <td>...</td>\n",
              "      <td>...</td>\n",
              "    </tr>\n",
              "    <tr>\n",
              "      <th>7</th>\n",
              "      <td>NEW</td>\n",
              "      <td>143</td>\n",
              "    </tr>\n",
              "    <tr>\n",
              "      <th>1</th>\n",
              "      <td>CJ</td>\n",
              "      <td>144</td>\n",
              "    </tr>\n",
              "    <tr>\n",
              "      <th>84</th>\n",
              "      <td>영구아트무비</td>\n",
              "      <td>145</td>\n",
              "    </tr>\n",
              "    <tr>\n",
              "      <th>75</th>\n",
              "      <td>아이필름코퍼레이션</td>\n",
              "      <td>146</td>\n",
              "    </tr>\n",
              "    <tr>\n",
              "      <th>56</th>\n",
              "      <td>쇼박스</td>\n",
              "      <td>147</td>\n",
              "    </tr>\n",
              "  </tbody>\n",
              "</table>\n",
              "<p>147 rows × 2 columns</p>\n",
              "</div>"
            ],
            "text/plain": [
              "    distributor  distributor_rank\n",
              "110  인피니티엔터테인먼트                 1\n",
              "15       고구마공작소                 2\n",
              "52       사람과사람들                 3\n",
              "97        위드시네마                 4\n",
              "19        나우콘텐츠                 5\n",
              "..          ...               ...\n",
              "7           NEW               143\n",
              "1            CJ               144\n",
              "84       영구아트무비               145\n",
              "75    아이필름코퍼레이션               146\n",
              "56          쇼박스               147\n",
              "\n",
              "[147 rows x 2 columns]"
            ]
          },
          "metadata": {
            "tags": []
          },
          "execution_count": 262
        }
      ]
    },
    {
      "cell_type": "code",
      "metadata": {
        "id": "3eZVbJJ8OQMf"
      },
      "source": [
        "# 데이터 병합\n",
        "# print(*train_dis_rank.iloc[:1, :]['distributor'].values)\n",
        "# print(*train_dis_rank.iloc[:1, :]['distributor_rank'].values)\n",
        "# *train_dis_rank.iloc[:i+1, :]['distributor'].values\n",
        "# *train_dis_rank.iloc[:i+1, :]['distributor_rank'].values\n",
        "\n",
        "\n",
        "distributor = []\n",
        "for i in range(len(train_dis_rank)):\n",
        "  distributor.append(str(*train_dis_rank.iloc[i:i+1, :]['distributor'].values))"
      ],
      "execution_count": 264,
      "outputs": []
    },
    {
      "cell_type": "code",
      "metadata": {
        "id": "NgMZGYmxWF5U"
      },
      "source": [
        "train['distributor_rank'] = np.nan\n",
        "test['distributor_rank'] = np.nan\n",
        "for i, name in enumerate(distributor, 1):\n",
        "  train.loc[train['distributor'] == name, \"distributor_rank\"] = i\n",
        "  test.loc[test['distributor'] == name, \"distributor_rank\"] = i"
      ],
      "execution_count": 276,
      "outputs": []
    },
    {
      "cell_type": "code",
      "metadata": {
        "id": "kubkKFI2XLZr"
      },
      "source": [
        "test.loc[test['distributor_rank'].isnull(), \"distributor_rank\"] = 0"
      ],
      "execution_count": 280,
      "outputs": []
    },
    {
      "cell_type": "code",
      "metadata": {
        "id": "UuXP70fgpTdr"
      },
      "source": [
        "#year\n",
        "train['year'] = train['release_time'].astype(np.datetime64).dt.year\n",
        "test['year'] = test['release_time'].astype(np.datetime64).dt.year\n",
        "#month\n",
        "train['month'] = train['release_time'].astype(np.datetime64).dt.month\n",
        "test['month'] = test['release_time'].astype(np.datetime64).dt.month"
      ],
      "execution_count": 281,
      "outputs": []
    },
    {
      "cell_type": "code",
      "metadata": {
        "id": "3BSRB7jBy6hY"
      },
      "source": [
        "#drop\n",
        "drop_columns = ['title', 'release_time',\"director\",\"distributor\"]\n",
        "train = train.drop(drop_columns, axis=1)\n",
        "test = test.drop(drop_columns, axis=1)"
      ],
      "execution_count": 282,
      "outputs": []
    },
    {
      "cell_type": "code",
      "metadata": {
        "colab": {
          "base_uri": "https://localhost:8080/",
          "height": 206
        },
        "id": "tq_wcaYWzOX_",
        "outputId": "636e79c8-0ebe-4600-d530-a8129f31f76b"
      },
      "source": [
        "train.head()"
      ],
      "execution_count": 283,
      "outputs": [
        {
          "output_type": "execute_result",
          "data": {
            "text/html": [
              "<div>\n",
              "<style scoped>\n",
              "    .dataframe tbody tr th:only-of-type {\n",
              "        vertical-align: middle;\n",
              "    }\n",
              "\n",
              "    .dataframe tbody tr th {\n",
              "        vertical-align: top;\n",
              "    }\n",
              "\n",
              "    .dataframe thead th {\n",
              "        text-align: right;\n",
              "    }\n",
              "</style>\n",
              "<table border=\"1\" class=\"dataframe\">\n",
              "  <thead>\n",
              "    <tr style=\"text-align: right;\">\n",
              "      <th></th>\n",
              "      <th>genre</th>\n",
              "      <th>time</th>\n",
              "      <th>screening_rat</th>\n",
              "      <th>dir_prev_bfnum</th>\n",
              "      <th>dir_prev_num</th>\n",
              "      <th>num_staff</th>\n",
              "      <th>num_actor</th>\n",
              "      <th>box_off_num</th>\n",
              "      <th>actor_rat</th>\n",
              "      <th>distributor_rank</th>\n",
              "      <th>year</th>\n",
              "      <th>month</th>\n",
              "    </tr>\n",
              "  </thead>\n",
              "  <tbody>\n",
              "    <tr>\n",
              "      <th>0</th>\n",
              "      <td>액션</td>\n",
              "      <td>96</td>\n",
              "      <td>청소년 관람불가</td>\n",
              "      <td>0.00</td>\n",
              "      <td>0</td>\n",
              "      <td>91</td>\n",
              "      <td>2</td>\n",
              "      <td>23398</td>\n",
              "      <td>2.20</td>\n",
              "      <td>141.0</td>\n",
              "      <td>2012</td>\n",
              "      <td>11</td>\n",
              "    </tr>\n",
              "    <tr>\n",
              "      <th>1</th>\n",
              "      <td>느와르</td>\n",
              "      <td>130</td>\n",
              "      <td>청소년 관람불가</td>\n",
              "      <td>1161602.50</td>\n",
              "      <td>2</td>\n",
              "      <td>387</td>\n",
              "      <td>3</td>\n",
              "      <td>7072501</td>\n",
              "      <td>0.78</td>\n",
              "      <td>147.0</td>\n",
              "      <td>2015</td>\n",
              "      <td>11</td>\n",
              "    </tr>\n",
              "    <tr>\n",
              "      <th>2</th>\n",
              "      <td>액션</td>\n",
              "      <td>123</td>\n",
              "      <td>15세 관람가</td>\n",
              "      <td>220775.25</td>\n",
              "      <td>4</td>\n",
              "      <td>343</td>\n",
              "      <td>4</td>\n",
              "      <td>6959083</td>\n",
              "      <td>1.17</td>\n",
              "      <td>147.0</td>\n",
              "      <td>2013</td>\n",
              "      <td>6</td>\n",
              "    </tr>\n",
              "    <tr>\n",
              "      <th>3</th>\n",
              "      <td>코미디</td>\n",
              "      <td>101</td>\n",
              "      <td>전체 관람가</td>\n",
              "      <td>23894.00</td>\n",
              "      <td>2</td>\n",
              "      <td>20</td>\n",
              "      <td>6</td>\n",
              "      <td>217866</td>\n",
              "      <td>30.00</td>\n",
              "      <td>143.0</td>\n",
              "      <td>2012</td>\n",
              "      <td>7</td>\n",
              "    </tr>\n",
              "    <tr>\n",
              "      <th>4</th>\n",
              "      <td>코미디</td>\n",
              "      <td>108</td>\n",
              "      <td>15세 관람가</td>\n",
              "      <td>1.00</td>\n",
              "      <td>1</td>\n",
              "      <td>251</td>\n",
              "      <td>2</td>\n",
              "      <td>483387</td>\n",
              "      <td>0.80</td>\n",
              "      <td>147.0</td>\n",
              "      <td>2010</td>\n",
              "      <td>11</td>\n",
              "    </tr>\n",
              "  </tbody>\n",
              "</table>\n",
              "</div>"
            ],
            "text/plain": [
              "  genre  time screening_rat  ...  distributor_rank  year  month\n",
              "0    액션    96      청소년 관람불가  ...             141.0  2012     11\n",
              "1   느와르   130      청소년 관람불가  ...             147.0  2015     11\n",
              "2    액션   123       15세 관람가  ...             147.0  2013      6\n",
              "3   코미디   101        전체 관람가  ...             143.0  2012      7\n",
              "4   코미디   108       15세 관람가  ...             147.0  2010     11\n",
              "\n",
              "[5 rows x 12 columns]"
            ]
          },
          "metadata": {
            "tags": []
          },
          "execution_count": 283
        }
      ]
    },
    {
      "cell_type": "code",
      "metadata": {
        "colab": {
          "base_uri": "https://localhost:8080/",
          "height": 206
        },
        "id": "HwXKQjKt3xy0",
        "outputId": "bfa59bab-ec8b-4c94-d1c2-6402678904ae"
      },
      "source": [
        "test.head()"
      ],
      "execution_count": 284,
      "outputs": [
        {
          "output_type": "execute_result",
          "data": {
            "text/html": [
              "<div>\n",
              "<style scoped>\n",
              "    .dataframe tbody tr th:only-of-type {\n",
              "        vertical-align: middle;\n",
              "    }\n",
              "\n",
              "    .dataframe tbody tr th {\n",
              "        vertical-align: top;\n",
              "    }\n",
              "\n",
              "    .dataframe thead th {\n",
              "        text-align: right;\n",
              "    }\n",
              "</style>\n",
              "<table border=\"1\" class=\"dataframe\">\n",
              "  <thead>\n",
              "    <tr style=\"text-align: right;\">\n",
              "      <th></th>\n",
              "      <th>genre</th>\n",
              "      <th>time</th>\n",
              "      <th>screening_rat</th>\n",
              "      <th>dir_prev_bfnum</th>\n",
              "      <th>dir_prev_num</th>\n",
              "      <th>num_staff</th>\n",
              "      <th>num_actor</th>\n",
              "      <th>actor_rat</th>\n",
              "      <th>distributor_rank</th>\n",
              "      <th>year</th>\n",
              "      <th>month</th>\n",
              "    </tr>\n",
              "  </thead>\n",
              "  <tbody>\n",
              "    <tr>\n",
              "      <th>0</th>\n",
              "      <td>느와르</td>\n",
              "      <td>125</td>\n",
              "      <td>청소년 관람불가</td>\n",
              "      <td>3.005290e+05</td>\n",
              "      <td>2</td>\n",
              "      <td>304</td>\n",
              "      <td>3</td>\n",
              "      <td>0.99</td>\n",
              "      <td>138.0</td>\n",
              "      <td>2010</td>\n",
              "      <td>1</td>\n",
              "    </tr>\n",
              "    <tr>\n",
              "      <th>1</th>\n",
              "      <td>멜로/로맨스</td>\n",
              "      <td>113</td>\n",
              "      <td>12세 관람가</td>\n",
              "      <td>3.427002e+05</td>\n",
              "      <td>4</td>\n",
              "      <td>275</td>\n",
              "      <td>3</td>\n",
              "      <td>1.09</td>\n",
              "      <td>147.0</td>\n",
              "      <td>2010</td>\n",
              "      <td>1</td>\n",
              "    </tr>\n",
              "    <tr>\n",
              "      <th>2</th>\n",
              "      <td>드라마</td>\n",
              "      <td>115</td>\n",
              "      <td>12세 관람가</td>\n",
              "      <td>4.206611e+06</td>\n",
              "      <td>3</td>\n",
              "      <td>419</td>\n",
              "      <td>7</td>\n",
              "      <td>1.67</td>\n",
              "      <td>144.0</td>\n",
              "      <td>2010</td>\n",
              "      <td>1</td>\n",
              "    </tr>\n",
              "    <tr>\n",
              "      <th>3</th>\n",
              "      <td>액션</td>\n",
              "      <td>116</td>\n",
              "      <td>15세 관람가</td>\n",
              "      <td>6.913420e+05</td>\n",
              "      <td>2</td>\n",
              "      <td>408</td>\n",
              "      <td>2</td>\n",
              "      <td>0.49</td>\n",
              "      <td>147.0</td>\n",
              "      <td>2010</td>\n",
              "      <td>2</td>\n",
              "    </tr>\n",
              "    <tr>\n",
              "      <th>4</th>\n",
              "      <td>공포</td>\n",
              "      <td>110</td>\n",
              "      <td>15세 관람가</td>\n",
              "      <td>3.173800e+04</td>\n",
              "      <td>1</td>\n",
              "      <td>380</td>\n",
              "      <td>1</td>\n",
              "      <td>0.26</td>\n",
              "      <td>144.0</td>\n",
              "      <td>2010</td>\n",
              "      <td>2</td>\n",
              "    </tr>\n",
              "  </tbody>\n",
              "</table>\n",
              "</div>"
            ],
            "text/plain": [
              "    genre  time screening_rat  ...  distributor_rank  year  month\n",
              "0     느와르   125      청소년 관람불가  ...             138.0  2010      1\n",
              "1  멜로/로맨스   113       12세 관람가  ...             147.0  2010      1\n",
              "2     드라마   115       12세 관람가  ...             144.0  2010      1\n",
              "3      액션   116       15세 관람가  ...             147.0  2010      2\n",
              "4      공포   110       15세 관람가  ...             144.0  2010      2\n",
              "\n",
              "[5 rows x 11 columns]"
            ]
          },
          "metadata": {
            "tags": []
          },
          "execution_count": 284
        }
      ]
    },
    {
      "cell_type": "code",
      "metadata": {
        "id": "A1E6jNYtw5d_"
      },
      "source": [
        "#rank순으로 인코딩\n",
        "dfs = [train, test]\n",
        "genre_rank = train.groupby(\"genre\")['box_off_num'].mean().sort_values().index\n",
        "\n",
        "for i, genre in enumerate(genre_rank,1):\n",
        "  for df in dfs:\n",
        "    df.loc[df['genre'] == genre,\"genre\"] = i\n",
        "\n",
        "for df in dfs :\n",
        "  df['genre'] = df['genre'].astype(np.int64)"
      ],
      "execution_count": 285,
      "outputs": []
    },
    {
      "cell_type": "code",
      "metadata": {
        "id": "oV0DyMYg2jaj"
      },
      "source": [
        "dfs = [train, test]\n",
        "screening_rat_rank = train.groupby(\"screening_rat\")['box_off_num'].mean().sort_values().index\n",
        "\n",
        "for i, screening_rat in enumerate(screening_rat_rank,1):\n",
        "  for df in dfs:\n",
        "    df.loc[df['screening_rat'] == screening_rat,\"screening_rat\"] = i\n",
        "\n",
        "for df in dfs :\n",
        "  df['screening_rat'] = df['screening_rat'].astype(np.int64)"
      ],
      "execution_count": 286,
      "outputs": []
    },
    {
      "cell_type": "code",
      "metadata": {
        "id": "rSPXR09q3yji"
      },
      "source": [
        "# #label encoding\n",
        "# from sklearn.preprocessing import LabelEncoder\n",
        "# label_encoder = LabelEncoder()\n",
        "\n",
        "# encoding_columns = [\"genre\",\"screening_rat\"]\n",
        "# for column in encoding_columns:\n",
        "#   train[column] = label_encoder.fit_transform(train[column])\n",
        "#   test[column] = label_encoder.transform(test[column])"
      ],
      "execution_count": 287,
      "outputs": []
    },
    {
      "cell_type": "code",
      "metadata": {
        "colab": {
          "base_uri": "https://localhost:8080/",
          "height": 206
        },
        "id": "ZbHmNlez4VQE",
        "outputId": "0c3e9851-dfe5-477c-b069-6ced8eff9964"
      },
      "source": [
        "train.head()"
      ],
      "execution_count": 288,
      "outputs": [
        {
          "output_type": "execute_result",
          "data": {
            "text/html": [
              "<div>\n",
              "<style scoped>\n",
              "    .dataframe tbody tr th:only-of-type {\n",
              "        vertical-align: middle;\n",
              "    }\n",
              "\n",
              "    .dataframe tbody tr th {\n",
              "        vertical-align: top;\n",
              "    }\n",
              "\n",
              "    .dataframe thead th {\n",
              "        text-align: right;\n",
              "    }\n",
              "</style>\n",
              "<table border=\"1\" class=\"dataframe\">\n",
              "  <thead>\n",
              "    <tr style=\"text-align: right;\">\n",
              "      <th></th>\n",
              "      <th>genre</th>\n",
              "      <th>time</th>\n",
              "      <th>screening_rat</th>\n",
              "      <th>dir_prev_bfnum</th>\n",
              "      <th>dir_prev_num</th>\n",
              "      <th>num_staff</th>\n",
              "      <th>num_actor</th>\n",
              "      <th>box_off_num</th>\n",
              "      <th>actor_rat</th>\n",
              "      <th>distributor_rank</th>\n",
              "      <th>year</th>\n",
              "      <th>month</th>\n",
              "    </tr>\n",
              "  </thead>\n",
              "  <tbody>\n",
              "    <tr>\n",
              "      <th>0</th>\n",
              "      <td>11</td>\n",
              "      <td>96</td>\n",
              "      <td>2</td>\n",
              "      <td>0.00</td>\n",
              "      <td>0</td>\n",
              "      <td>91</td>\n",
              "      <td>2</td>\n",
              "      <td>23398</td>\n",
              "      <td>2.20</td>\n",
              "      <td>141.0</td>\n",
              "      <td>2012</td>\n",
              "      <td>11</td>\n",
              "    </tr>\n",
              "    <tr>\n",
              "      <th>1</th>\n",
              "      <td>12</td>\n",
              "      <td>130</td>\n",
              "      <td>2</td>\n",
              "      <td>1161602.50</td>\n",
              "      <td>2</td>\n",
              "      <td>387</td>\n",
              "      <td>3</td>\n",
              "      <td>7072501</td>\n",
              "      <td>0.78</td>\n",
              "      <td>147.0</td>\n",
              "      <td>2015</td>\n",
              "      <td>11</td>\n",
              "    </tr>\n",
              "    <tr>\n",
              "      <th>2</th>\n",
              "      <td>11</td>\n",
              "      <td>123</td>\n",
              "      <td>4</td>\n",
              "      <td>220775.25</td>\n",
              "      <td>4</td>\n",
              "      <td>343</td>\n",
              "      <td>4</td>\n",
              "      <td>6959083</td>\n",
              "      <td>1.17</td>\n",
              "      <td>147.0</td>\n",
              "      <td>2013</td>\n",
              "      <td>6</td>\n",
              "    </tr>\n",
              "    <tr>\n",
              "      <th>3</th>\n",
              "      <td>9</td>\n",
              "      <td>101</td>\n",
              "      <td>1</td>\n",
              "      <td>23894.00</td>\n",
              "      <td>2</td>\n",
              "      <td>20</td>\n",
              "      <td>6</td>\n",
              "      <td>217866</td>\n",
              "      <td>30.00</td>\n",
              "      <td>143.0</td>\n",
              "      <td>2012</td>\n",
              "      <td>7</td>\n",
              "    </tr>\n",
              "    <tr>\n",
              "      <th>4</th>\n",
              "      <td>9</td>\n",
              "      <td>108</td>\n",
              "      <td>4</td>\n",
              "      <td>1.00</td>\n",
              "      <td>1</td>\n",
              "      <td>251</td>\n",
              "      <td>2</td>\n",
              "      <td>483387</td>\n",
              "      <td>0.80</td>\n",
              "      <td>147.0</td>\n",
              "      <td>2010</td>\n",
              "      <td>11</td>\n",
              "    </tr>\n",
              "  </tbody>\n",
              "</table>\n",
              "</div>"
            ],
            "text/plain": [
              "   genre  time  screening_rat  ...  distributor_rank  year  month\n",
              "0     11    96              2  ...             141.0  2012     11\n",
              "1     12   130              2  ...             147.0  2015     11\n",
              "2     11   123              4  ...             147.0  2013      6\n",
              "3      9   101              1  ...             143.0  2012      7\n",
              "4      9   108              4  ...             147.0  2010     11\n",
              "\n",
              "[5 rows x 12 columns]"
            ]
          },
          "metadata": {
            "tags": []
          },
          "execution_count": 288
        }
      ]
    },
    {
      "cell_type": "code",
      "metadata": {
        "colab": {
          "base_uri": "https://localhost:8080/",
          "height": 206
        },
        "id": "J6rWkTHX4s8M",
        "outputId": "5332788a-ae6a-42e8-da28-bacb03d2449e"
      },
      "source": [
        "test.head()"
      ],
      "execution_count": 289,
      "outputs": [
        {
          "output_type": "execute_result",
          "data": {
            "text/html": [
              "<div>\n",
              "<style scoped>\n",
              "    .dataframe tbody tr th:only-of-type {\n",
              "        vertical-align: middle;\n",
              "    }\n",
              "\n",
              "    .dataframe tbody tr th {\n",
              "        vertical-align: top;\n",
              "    }\n",
              "\n",
              "    .dataframe thead th {\n",
              "        text-align: right;\n",
              "    }\n",
              "</style>\n",
              "<table border=\"1\" class=\"dataframe\">\n",
              "  <thead>\n",
              "    <tr style=\"text-align: right;\">\n",
              "      <th></th>\n",
              "      <th>genre</th>\n",
              "      <th>time</th>\n",
              "      <th>screening_rat</th>\n",
              "      <th>dir_prev_bfnum</th>\n",
              "      <th>dir_prev_num</th>\n",
              "      <th>num_staff</th>\n",
              "      <th>num_actor</th>\n",
              "      <th>actor_rat</th>\n",
              "      <th>distributor_rank</th>\n",
              "      <th>year</th>\n",
              "      <th>month</th>\n",
              "    </tr>\n",
              "  </thead>\n",
              "  <tbody>\n",
              "    <tr>\n",
              "      <th>0</th>\n",
              "      <td>12</td>\n",
              "      <td>125</td>\n",
              "      <td>2</td>\n",
              "      <td>3.005290e+05</td>\n",
              "      <td>2</td>\n",
              "      <td>304</td>\n",
              "      <td>3</td>\n",
              "      <td>0.99</td>\n",
              "      <td>138.0</td>\n",
              "      <td>2010</td>\n",
              "      <td>1</td>\n",
              "    </tr>\n",
              "    <tr>\n",
              "      <th>1</th>\n",
              "      <td>5</td>\n",
              "      <td>113</td>\n",
              "      <td>3</td>\n",
              "      <td>3.427002e+05</td>\n",
              "      <td>4</td>\n",
              "      <td>275</td>\n",
              "      <td>3</td>\n",
              "      <td>1.09</td>\n",
              "      <td>147.0</td>\n",
              "      <td>2010</td>\n",
              "      <td>1</td>\n",
              "    </tr>\n",
              "    <tr>\n",
              "      <th>2</th>\n",
              "      <td>8</td>\n",
              "      <td>115</td>\n",
              "      <td>3</td>\n",
              "      <td>4.206611e+06</td>\n",
              "      <td>3</td>\n",
              "      <td>419</td>\n",
              "      <td>7</td>\n",
              "      <td>1.67</td>\n",
              "      <td>144.0</td>\n",
              "      <td>2010</td>\n",
              "      <td>1</td>\n",
              "    </tr>\n",
              "    <tr>\n",
              "      <th>3</th>\n",
              "      <td>11</td>\n",
              "      <td>116</td>\n",
              "      <td>4</td>\n",
              "      <td>6.913420e+05</td>\n",
              "      <td>2</td>\n",
              "      <td>408</td>\n",
              "      <td>2</td>\n",
              "      <td>0.49</td>\n",
              "      <td>147.0</td>\n",
              "      <td>2010</td>\n",
              "      <td>2</td>\n",
              "    </tr>\n",
              "    <tr>\n",
              "      <th>4</th>\n",
              "      <td>7</td>\n",
              "      <td>110</td>\n",
              "      <td>4</td>\n",
              "      <td>3.173800e+04</td>\n",
              "      <td>1</td>\n",
              "      <td>380</td>\n",
              "      <td>1</td>\n",
              "      <td>0.26</td>\n",
              "      <td>144.0</td>\n",
              "      <td>2010</td>\n",
              "      <td>2</td>\n",
              "    </tr>\n",
              "  </tbody>\n",
              "</table>\n",
              "</div>"
            ],
            "text/plain": [
              "   genre  time  screening_rat  ...  distributor_rank  year  month\n",
              "0     12   125              2  ...             138.0  2010      1\n",
              "1      5   113              3  ...             147.0  2010      1\n",
              "2      8   115              3  ...             144.0  2010      1\n",
              "3     11   116              4  ...             147.0  2010      2\n",
              "4      7   110              4  ...             144.0  2010      2\n",
              "\n",
              "[5 rows x 11 columns]"
            ]
          },
          "metadata": {
            "tags": []
          },
          "execution_count": 289
        }
      ]
    },
    {
      "cell_type": "code",
      "metadata": {
        "id": "OzjxzjY1DIq4"
      },
      "source": [
        "# dfs = [train, test]\n",
        "# for df in dfs: \n",
        "#   df['dir_prev_bfnum'] = np.round(df['dir_prev_bfnum'])\n",
        "#   df['dir_prev_bfnum'] = np.round(df['dir_prev_bfnum'])"
      ],
      "execution_count": 290,
      "outputs": []
    },
    {
      "cell_type": "markdown",
      "metadata": {
        "id": "N5K6Ihfd74-9"
      },
      "source": [
        "#모델"
      ]
    },
    {
      "cell_type": "code",
      "metadata": {
        "colab": {
          "base_uri": "https://localhost:8080/"
        },
        "id": "BIEy-Q-078Vb",
        "outputId": "0a57490e-7ba9-4592-d4bd-6522e93c396a"
      },
      "source": [
        "!pip install catboost"
      ],
      "execution_count": 291,
      "outputs": [
        {
          "output_type": "stream",
          "text": [
            "Requirement already satisfied: catboost in /usr/local/lib/python3.7/dist-packages (0.26)\n",
            "Requirement already satisfied: six in /usr/local/lib/python3.7/dist-packages (from catboost) (1.15.0)\n",
            "Requirement already satisfied: pandas>=0.24.0 in /usr/local/lib/python3.7/dist-packages (from catboost) (1.1.5)\n",
            "Requirement already satisfied: graphviz in /usr/local/lib/python3.7/dist-packages (from catboost) (0.10.1)\n",
            "Requirement already satisfied: numpy>=1.16.0 in /usr/local/lib/python3.7/dist-packages (from catboost) (1.19.5)\n",
            "Requirement already satisfied: plotly in /usr/local/lib/python3.7/dist-packages (from catboost) (4.4.1)\n",
            "Requirement already satisfied: matplotlib in /usr/local/lib/python3.7/dist-packages (from catboost) (3.2.2)\n",
            "Requirement already satisfied: scipy in /usr/local/lib/python3.7/dist-packages (from catboost) (1.4.1)\n",
            "Requirement already satisfied: python-dateutil>=2.7.3 in /usr/local/lib/python3.7/dist-packages (from pandas>=0.24.0->catboost) (2.8.1)\n",
            "Requirement already satisfied: pytz>=2017.2 in /usr/local/lib/python3.7/dist-packages (from pandas>=0.24.0->catboost) (2018.9)\n",
            "Requirement already satisfied: pyparsing!=2.0.4,!=2.1.2,!=2.1.6,>=2.0.1 in /usr/local/lib/python3.7/dist-packages (from matplotlib->catboost) (2.4.7)\n",
            "Requirement already satisfied: cycler>=0.10 in /usr/local/lib/python3.7/dist-packages (from matplotlib->catboost) (0.10.0)\n",
            "Requirement already satisfied: kiwisolver>=1.0.1 in /usr/local/lib/python3.7/dist-packages (from matplotlib->catboost) (1.3.1)\n",
            "Requirement already satisfied: retrying>=1.3.3 in /usr/local/lib/python3.7/dist-packages (from plotly->catboost) (1.3.3)\n"
          ],
          "name": "stdout"
        }
      ]
    },
    {
      "cell_type": "code",
      "metadata": {
        "id": "us6BP8Og8A6L"
      },
      "source": [
        "from sklearn.metrics import mean_squared_error as mse\n",
        "from sklearn.model_selection import train_test_split"
      ],
      "execution_count": 292,
      "outputs": []
    },
    {
      "cell_type": "code",
      "metadata": {
        "id": "5D2_SrAm8XSb"
      },
      "source": [
        "def rmse(y_true, y_pred):\n",
        "  result = np.sqrt(mse(y_true, y_pred))\n",
        "  return result"
      ],
      "execution_count": 293,
      "outputs": []
    },
    {
      "cell_type": "code",
      "metadata": {
        "colab": {
          "base_uri": "https://localhost:8080/"
        },
        "id": "eU-tXgbd8vdl",
        "outputId": "808c1060-6a17-4828-faee-bbd1ba71d113"
      },
      "source": [
        "column = ['genre', 'time', 'screening_rat', 'dir_prev_bfnum', 'dir_prev_num','num_staff', 'num_actor', 'year', 'month', 'distributor_rank']\n",
        "target = ['box_off_num']\n",
        "X = train[column]\n",
        "y = train[target]\n",
        "\n",
        "X_test = test[column]\n",
        "\n",
        "X_train, X_val, y_train, y_val = train_test_split(X, y, test_size=0.2, random_state=42, shuffle=True)\n",
        "\n",
        "print(\"X_train : {} y_train : {}\".format(X_train.shape, y_train.shape))\n",
        "print(\"X_val : {} y_val : {}\".format(X_val.shape, y_val.shape))\n",
        "print(\"X_test : {}\".format(X_test.shape))"
      ],
      "execution_count": 294,
      "outputs": [
        {
          "output_type": "stream",
          "text": [
            "X_train : (480, 10) y_train : (480, 1)\n",
            "X_val : (120, 10) y_val : (120, 1)\n",
            "X_test : (243, 10)\n"
          ],
          "name": "stdout"
        }
      ]
    },
    {
      "cell_type": "code",
      "metadata": {
        "id": "mCP8Mfz79BrG"
      },
      "source": [
        "from sklearn.ensemble import RandomForestRegressor\n",
        "from xgboost import XGBRegressor\n",
        "from lightgbm import LGBMRegressor\n",
        "from catboost import CatBoostRegressor\n",
        "from sklearn.metrics import make_scorer"
      ],
      "execution_count": 295,
      "outputs": []
    },
    {
      "cell_type": "code",
      "metadata": {
        "colab": {
          "base_uri": "https://localhost:8080/"
        },
        "id": "mV51h9SI9nSN",
        "outputId": "44d3a464-94dd-477e-fdf8-9b69e9a2598b"
      },
      "source": [
        "models = [RandomForestRegressor(criterion='mse'), XGBRegressor(criterion='mse'), LGBMRegressor(objective='mse'), CatBoostRegressor(verbose=200)]\n",
        "\n",
        "for model in models:\n",
        "  print(model.__class__.__name__)\n",
        "  model.fit(X_train, y_train)\n",
        "  model_pred = model.predict(X_val)\n",
        "  print(\"rmse\" ,rmse(y_val, model_pred))"
      ],
      "execution_count": 296,
      "outputs": [
        {
          "output_type": "stream",
          "text": [
            "RandomForestRegressor\n",
            "rmse 1289786.4092051568\n",
            "XGBRegressor\n",
            "[09:21:55] WARNING: /workspace/src/objective/regression_obj.cu:152: reg:linear is now deprecated in favor of reg:squarederror.\n",
            "rmse 1269934.3310263332\n",
            "LGBMRegressor\n",
            "rmse 1505621.355428555\n",
            "CatBoostRegressor\n",
            "Learning rate set to 0.03425\n",
            "0:\tlearn: 1902748.4414545\ttotal: 1.5ms\tremaining: 1.5s\n",
            "200:\tlearn: 689313.5814189\ttotal: 232ms\tremaining: 921ms\n",
            "400:\tlearn: 405249.6546200\ttotal: 472ms\tremaining: 705ms\n",
            "600:\tlearn: 252204.4912985\ttotal: 710ms\tremaining: 472ms\n",
            "800:\tlearn: 160320.8039358\ttotal: 936ms\tremaining: 233ms\n",
            "999:\tlearn: 106426.9998846\ttotal: 1.16s\tremaining: 0us\n",
            "rmse 1383333.7216402723\n"
          ],
          "name": "stdout"
        }
      ]
    },
    {
      "cell_type": "code",
      "metadata": {
        "colab": {
          "base_uri": "https://localhost:8080/"
        },
        "id": "aQreVXEuE5xY",
        "outputId": "e0f36973-fa79-42b0-dbc7-486bba7d546a"
      },
      "source": [
        "#교차검증\n",
        "model =  RandomForestRegressor(criterion='mse',n_estimators=1000)\n",
        "preds = []\n",
        "models = []\n",
        "from sklearn.model_selection import KFold\n",
        "k_fold = KFold(n_splits=5, shuffle=True, random_state=42)\n",
        "\n",
        "for train_index, val_index in k_fold.split(X,y):\n",
        "  X_t = X.iloc[train_index]\n",
        "  y_t = y.iloc[train_index]\n",
        "  X_val = X.iloc[val_index]\n",
        "  y_val = y.iloc[val_index]\n",
        "  \n",
        "  models.append(model.fit(X_t, y_t))\n",
        "\n",
        "for model in models:\n",
        "  preds.append(model.predict(X_test))\n",
        "print(len(preds))"
      ],
      "execution_count": 38,
      "outputs": [
        {
          "output_type": "stream",
          "text": [
            "5\n"
          ],
          "name": "stdout"
        }
      ]
    },
    {
      "cell_type": "code",
      "metadata": {
        "colab": {
          "base_uri": "https://localhost:8080/"
        },
        "id": "vpbELNKt3zYf",
        "outputId": "e5267237-8da2-46a4-abbd-d441d69d6d16"
      },
      "source": [
        "#교차검증\n",
        "model =  XGBRegressor(criterion='mse', n_estimators=1000)\n",
        "preds = []\n",
        "models = []\n",
        "from sklearn.model_selection import KFold\n",
        "k_fold = KFold(n_splits=5, shuffle=True, random_state=42)\n",
        "\n",
        "for train_index, val_index in k_fold.split(X,y):\n",
        "  X_t = X.iloc[train_index]\n",
        "  y_t = y.iloc[train_index]\n",
        "  X_val = X.iloc[val_index]\n",
        "  y_val = y.iloc[val_index]\n",
        "  \n",
        "  models.append(model.fit(X_t, y_t, eval_set= [(X_val, y_val)], early_stopping_rounds=100, verbose=100))\n",
        "\n",
        "for model in models:\n",
        "  preds.append(model.predict(X_test))\n",
        "print(len(preds))"
      ],
      "execution_count": null,
      "outputs": [
        {
          "output_type": "stream",
          "text": [
            "[09:28:50] WARNING: /workspace/src/objective/regression_obj.cu:152: reg:linear is now deprecated in favor of reg:squarederror.\n",
            "[0]\tvalidation_0-rmse:1.38616e+06\n",
            "Will train until validation_0-rmse hasn't improved in 100 rounds.\n",
            "[100]\tvalidation_0-rmse:1.40342e+06\n",
            "Stopping. Best iteration:\n",
            "[8]\tvalidation_0-rmse:1.13037e+06\n",
            "\n",
            "[09:28:50] WARNING: /workspace/src/objective/regression_obj.cu:152: reg:linear is now deprecated in favor of reg:squarederror.\n",
            "[0]\tvalidation_0-rmse:1.39131e+06\n",
            "Will train until validation_0-rmse hasn't improved in 100 rounds.\n",
            "[100]\tvalidation_0-rmse:1.27418e+06\n",
            "Stopping. Best iteration:\n",
            "[16]\tvalidation_0-rmse:1.07837e+06\n",
            "\n",
            "[09:28:50] WARNING: /workspace/src/objective/regression_obj.cu:152: reg:linear is now deprecated in favor of reg:squarederror.\n",
            "[0]\tvalidation_0-rmse:2.03435e+06\n",
            "Will train until validation_0-rmse hasn't improved in 100 rounds.\n",
            "[100]\tvalidation_0-rmse:1.57198e+06\n",
            "Stopping. Best iteration:\n",
            "[55]\tvalidation_0-rmse:1.54958e+06\n",
            "\n",
            "[09:28:50] WARNING: /workspace/src/objective/regression_obj.cu:152: reg:linear is now deprecated in favor of reg:squarederror.\n",
            "[0]\tvalidation_0-rmse:2.05413e+06\n",
            "Will train until validation_0-rmse hasn't improved in 100 rounds.\n",
            "[100]\tvalidation_0-rmse:1.72935e+06\n",
            "Stopping. Best iteration:\n",
            "[69]\tvalidation_0-rmse:1.72188e+06\n",
            "\n",
            "[09:28:50] WARNING: /workspace/src/objective/regression_obj.cu:152: reg:linear is now deprecated in favor of reg:squarederror.\n",
            "[0]\tvalidation_0-rmse:2.37216e+06\n",
            "Will train until validation_0-rmse hasn't improved in 100 rounds.\n",
            "[100]\tvalidation_0-rmse:1.85089e+06\n",
            "[200]\tvalidation_0-rmse:1.85207e+06\n",
            "Stopping. Best iteration:\n",
            "[118]\tvalidation_0-rmse:1.8365e+06\n",
            "\n",
            "5\n"
          ],
          "name": "stdout"
        }
      ]
    },
    {
      "cell_type": "code",
      "metadata": {
        "colab": {
          "base_uri": "https://localhost:8080/"
        },
        "id": "xcBSAZBEDzUb",
        "outputId": "f4c62046-ac04-4be7-f736-4393c6a3d49f"
      },
      "source": [
        "from sklearn.model_selection import GridSearchCV\n",
        "clf  = XGBRegressor(criterion='mse')\n",
        "params = {\n",
        "    \"learning_rate \" : [0.1,0.01,0.05,0.0001],\n",
        "    \"n_estimators \" : [1000,2000],\n",
        "    \"max_depth\" : [4,5,6,7],\n",
        "\n",
        "}\n",
        "xgb_grid_clf = GridSearchCV(estimator=clf, param_grid= params, n_jobs=-1, cv=5, scoring=make_scorer(rmse, greater_is_better=False))\n",
        "xgb_grid_clf.fit(X,y)\n",
        "print(xgb_grid_clf.best_score_)"
      ],
      "execution_count": 299,
      "outputs": [
        {
          "output_type": "stream",
          "text": [
            "[09:24:27] WARNING: /workspace/src/objective/regression_obj.cu:152: reg:linear is now deprecated in favor of reg:squarederror.\n",
            "-1458786.0066257608\n"
          ],
          "name": "stdout"
        }
      ]
    },
    {
      "cell_type": "code",
      "metadata": {
        "colab": {
          "base_uri": "https://localhost:8080/"
        },
        "id": "PxYeNLQTIm1t",
        "outputId": "074f7632-8ba7-4941-d63b-dd6cc4f5d3ff"
      },
      "source": [
        "from sklearn.model_selection import GridSearchCV\n",
        "clf  = RandomForestRegressor(criterion='mse',)\n",
        "params = {\n",
        "    \"n_estimators\" : [100,500,1000,1500],\n",
        "    \"random_state\" : [42],\n",
        "    \"max_depth\" : [4,5,6,7],\n",
        "}\n",
        "rf_grid_clf = GridSearchCV(estimator=clf, param_grid= params, n_jobs=-1, cv=k_fold, scoring=make_scorer(rmse, greater_is_better=False))\n",
        "rf_grid_clf.fit(X,y)\n",
        "print(rf_grid_clf.best_score_)"
      ],
      "execution_count": 300,
      "outputs": [
        {
          "output_type": "stream",
          "text": [
            "-1401191.4832263626\n"
          ],
          "name": "stdout"
        }
      ]
    },
    {
      "cell_type": "code",
      "metadata": {
        "id": "LzHJpI-xJpO4"
      },
      "source": [
        "pred = rf_grid_clf.predict(X_test)"
      ],
      "execution_count": 301,
      "outputs": []
    },
    {
      "cell_type": "code",
      "metadata": {
        "colab": {
          "base_uri": "https://localhost:8080/",
          "height": 501
        },
        "id": "xHLa_w3SIJv4",
        "outputId": "63560de4-886e-4a90-f327-4037e69b82ee"
      },
      "source": [
        "feature_importance = pd.DataFrame(rf_grid_clf.best_estimator_.feature_importances_, column, columns=[\"columns\"]).sort_values(by='columns', ascending=False)\n",
        "\n",
        "\n",
        "sns.barplot(data=feature_importance, x='columns' ,y=feature_importance.index)"
      ],
      "execution_count": 302,
      "outputs": [
        {
          "output_type": "execute_result",
          "data": {
            "text/plain": [
              "<matplotlib.axes._subplots.AxesSubplot at 0x7fb02556bd50>"
            ]
          },
          "metadata": {
            "tags": []
          },
          "execution_count": 302
        },
        {
          "output_type": "display_data",
          "data": {
            "text/plain": [
              "<Figure size 576x396 with 1 Axes>"
            ],
            "image/svg+xml": "<?xml version=\"1.0\" encoding=\"utf-8\" standalone=\"no\"?>\n<!DOCTYPE svg PUBLIC \"-//W3C//DTD SVG 1.1//EN\"\n  \"http://www.w3.org/Graphics/SVG/1.1/DTD/svg11.dtd\">\n<!-- Created with matplotlib (https://matplotlib.org/) -->\n<svg height=\"346.597344pt\" version=\"1.1\" viewBox=\"0 0 540.790625 346.597344\" width=\"540.790625pt\" xmlns=\"http://www.w3.org/2000/svg\" xmlns:xlink=\"http://www.w3.org/1999/xlink\">\n <defs>\n  <style type=\"text/css\">\n*{stroke-linecap:butt;stroke-linejoin:round;}\n  </style>\n </defs>\n <g id=\"figure_1\">\n  <g id=\"patch_1\">\n   <path d=\"M 0 346.597344 \nL 540.790625 346.597344 \nL 540.790625 0 \nL 0 0 \nz\n\" style=\"fill:#ffffff;\"/>\n  </g>\n  <g id=\"axes_1\">\n   <g id=\"patch_2\">\n    <path d=\"M 87.190625 306.18 \nL 533.590625 306.18 \nL 533.590625 7.2 \nL 87.190625 7.2 \nz\n\" style=\"fill:#eaeaf2;\"/>\n   </g>\n   <g id=\"matplotlib.axis_1\">\n    <g id=\"xtick_1\">\n     <g id=\"line2d_1\">\n      <path clip-path=\"url(#p125f9236fd)\" d=\"M 87.190625 306.18 \nL 87.190625 7.2 \n\" style=\"fill:none;stroke:#ffffff;stroke-linecap:round;\"/>\n     </g>\n     <g id=\"line2d_2\"/>\n     <g id=\"text_1\">\n      <!-- 0.00 -->\n      <defs>\n       <path d=\"M 29.203125 73.5 \nQ 41.09375 73.5 47.4375 63.59375 \nQ 53.796875 53.703125 53.796875 33.59375 \nQ 53.796875 13.59375 47.390625 4.390625 \nQ 41 -4.796875 29.203125 -4.796875 \nQ 23.296875 -4.796875 18.6875 -2.546875 \nQ 14.09375 -0.296875 10.9375 4.390625 \nQ 7.796875 9.09375 6.1875 16.34375 \nQ 4.59375 23.59375 4.59375 33.59375 \nQ 4.59375 53.703125 10.9375 63.59375 \nQ 17.296875 73.5 29.203125 73.5 \nz\nM 29.203125 66.5 \nQ 13.296875 66.5 13.296875 33.40625 \nQ 13.296875 16.90625 17.25 9.5 \nQ 21.203125 2.09375 29.203125 2.09375 \nQ 37.09375 2.09375 41.09375 9.5 \nQ 45.09375 16.90625 45.09375 33.40625 \nQ 45.09375 66.5 29.203125 66.5 \nz\n\" id=\"NanumBarunGothic-48\"/>\n       <path d=\"M 13 8.296875 \nQ 16 8.296875 17.890625 6.390625 \nQ 19.796875 4.5 19.796875 1.59375 \nQ 19.796875 -1.296875 17.890625 -3.1875 \nQ 16 -5.09375 13 -5.09375 \nQ 10 -5.09375 8.09375 -3.1875 \nQ 6.203125 -1.296875 6.203125 1.59375 \nQ 6.203125 4.5 8.09375 6.390625 \nQ 10 8.296875 13 8.296875 \nz\n\" id=\"NanumBarunGothic-46\"/>\n      </defs>\n      <g style=\"fill:#262626;\" transform=\"translate(76.960938 320.950313)scale(0.1 -0.1)\">\n       <use xlink:href=\"#NanumBarunGothic-48\"/>\n       <use x=\"58.299988\" xlink:href=\"#NanumBarunGothic-46\"/>\n       <use x=\"87.999985\" xlink:href=\"#NanumBarunGothic-48\"/>\n       <use x=\"146.299973\" xlink:href=\"#NanumBarunGothic-48\"/>\n      </g>\n     </g>\n    </g>\n    <g id=\"xtick_2\">\n     <g id=\"line2d_3\">\n      <path clip-path=\"url(#p125f9236fd)\" d=\"M 158.299137 306.18 \nL 158.299137 7.2 \n\" style=\"fill:none;stroke:#ffffff;stroke-linecap:round;\"/>\n     </g>\n     <g id=\"line2d_4\"/>\n     <g id=\"text_2\">\n      <!-- 0.05 -->\n      <defs>\n       <path d=\"M 6.796875 8.703125 \nQ 11.59375 5.5 16.59375 3.953125 \nQ 21.59375 2.40625 27.296875 2.40625 \nQ 31.203125 2.5 34.5 3.84375 \nQ 37.796875 5.203125 40.1875 7.5 \nQ 42.59375 9.796875 43.9375 12.9375 \nQ 45.296875 16.09375 45.296875 19.90625 \nQ 45.296875 24.296875 43.640625 27.34375 \nQ 42 30.40625 39.046875 32.296875 \nQ 36.09375 34.203125 32.140625 35.046875 \nQ 28.203125 35.90625 23.59375 35.90625 \nQ 20.09375 35.90625 16.09375 35.40625 \nQ 12.09375 34.90625 8.5 34.09375 \nL 10.59375 71.796875 \nL 49.796875 71.796875 \nL 49.796875 64.90625 \nL 17.796875 64.90625 \nL 16.296875 41.703125 \nL 16.5 41.703125 \nQ 19.40625 42 22 42.203125 \nQ 24.59375 42.40625 27.203125 42.40625 \nQ 33.09375 42.40625 38 40.953125 \nQ 42.90625 39.5 46.453125 36.75 \nQ 50 34 51.953125 29.953125 \nQ 53.90625 25.90625 53.90625 20.796875 \nQ 53.90625 15.5 52.046875 10.84375 \nQ 50.203125 6.203125 46.703125 2.796875 \nQ 43.203125 -0.59375 38.203125 -2.546875 \nQ 33.203125 -4.5 27 -4.5 \nQ 20.296875 -4.40625 15.09375 -3.046875 \nQ 9.90625 -1.703125 5.703125 1.296875 \nL 5.703125 8.203125 \nQ 5.703125 8.796875 6.046875 8.9375 \nQ 6.40625 9.09375 6.796875 8.703125 \nz\n\" id=\"NanumBarunGothic-53\"/>\n      </defs>\n      <g style=\"fill:#262626;\" transform=\"translate(148.06945 320.950313)scale(0.1 -0.1)\">\n       <use xlink:href=\"#NanumBarunGothic-48\"/>\n       <use x=\"58.299988\" xlink:href=\"#NanumBarunGothic-46\"/>\n       <use x=\"87.999985\" xlink:href=\"#NanumBarunGothic-48\"/>\n       <use x=\"146.299973\" xlink:href=\"#NanumBarunGothic-53\"/>\n      </g>\n     </g>\n    </g>\n    <g id=\"xtick_3\">\n     <g id=\"line2d_5\">\n      <path clip-path=\"url(#p125f9236fd)\" d=\"M 229.407649 306.18 \nL 229.407649 7.2 \n\" style=\"fill:none;stroke:#ffffff;stroke-linecap:round;\"/>\n     </g>\n     <g id=\"line2d_6\"/>\n     <g id=\"text_3\">\n      <!-- 0.10 -->\n      <defs>\n       <path d=\"M 12.203125 55.40625 \nL 12.203125 61.59375 \nQ 16.296875 63.40625 19.9375 66.046875 \nQ 23.59375 68.703125 26.703125 72.203125 \nL 35.703125 72.203125 \nL 35.703125 -3.59375 \nL 27.09375 -3.59375 \nL 27.09375 62.796875 \nL 27 62.796875 \nQ 23.59375 60.09375 20.140625 58.140625 \nQ 16.703125 56.203125 13.203125 54.90625 \nQ 12.203125 54.5 12.203125 55.40625 \nz\n\" id=\"NanumBarunGothic-49\"/>\n      </defs>\n      <g style=\"fill:#262626;\" transform=\"translate(219.177962 320.950313)scale(0.1 -0.1)\">\n       <use xlink:href=\"#NanumBarunGothic-48\"/>\n       <use x=\"58.299988\" xlink:href=\"#NanumBarunGothic-46\"/>\n       <use x=\"87.999985\" xlink:href=\"#NanumBarunGothic-49\"/>\n       <use x=\"146.299973\" xlink:href=\"#NanumBarunGothic-48\"/>\n      </g>\n     </g>\n    </g>\n    <g id=\"xtick_4\">\n     <g id=\"line2d_7\">\n      <path clip-path=\"url(#p125f9236fd)\" d=\"M 300.516161 306.18 \nL 300.516161 7.2 \n\" style=\"fill:none;stroke:#ffffff;stroke-linecap:round;\"/>\n     </g>\n     <g id=\"line2d_8\"/>\n     <g id=\"text_4\">\n      <!-- 0.15 -->\n      <g style=\"fill:#262626;\" transform=\"translate(290.286474 320.950313)scale(0.1 -0.1)\">\n       <use xlink:href=\"#NanumBarunGothic-48\"/>\n       <use x=\"58.299988\" xlink:href=\"#NanumBarunGothic-46\"/>\n       <use x=\"87.999985\" xlink:href=\"#NanumBarunGothic-49\"/>\n       <use x=\"146.299973\" xlink:href=\"#NanumBarunGothic-53\"/>\n      </g>\n     </g>\n    </g>\n    <g id=\"xtick_5\">\n     <g id=\"line2d_9\">\n      <path clip-path=\"url(#p125f9236fd)\" d=\"M 371.624674 306.18 \nL 371.624674 7.2 \n\" style=\"fill:none;stroke:#ffffff;stroke-linecap:round;\"/>\n     </g>\n     <g id=\"line2d_10\"/>\n     <g id=\"text_5\">\n      <!-- 0.20 -->\n      <defs>\n       <path d=\"M 9.09375 57.703125 \nQ 8 56.59375 8 58.09375 \nL 8 65.59375 \nQ 12.203125 68.90625 17.203125 71.203125 \nQ 22.203125 73.5 28.90625 73.5 \nQ 39.796875 73.5 45.4375 68.546875 \nQ 51.09375 63.59375 51.09375 53.40625 \nQ 51.09375 50 50 46.890625 \nQ 48.90625 43.796875 46.953125 40.640625 \nQ 45 37.5 42.25 34.09375 \nQ 39.5 30.703125 36.203125 26.703125 \nL 15.796875 3.5 \nL 15.796875 3.40625 \nL 52.203125 3.40625 \nL 52.203125 -3.59375 \nL 5.5 -3.59375 \nL 5.5 3.90625 \nL 28.796875 30.09375 \nQ 32.703125 35.09375 35.296875 38.4375 \nQ 37.90625 41.796875 39.453125 44.34375 \nQ 41 46.90625 41.640625 49 \nQ 42.296875 51.09375 42.296875 53.59375 \nQ 42.296875 59.703125 39.140625 63.09375 \nQ 36 66.5 29.09375 66.5 \nQ 24.296875 66.5 19.296875 64.25 \nQ 14.296875 62 9.09375 57.703125 \nz\n\" id=\"NanumBarunGothic-50\"/>\n      </defs>\n      <g style=\"fill:#262626;\" transform=\"translate(361.394986 320.950313)scale(0.1 -0.1)\">\n       <use xlink:href=\"#NanumBarunGothic-48\"/>\n       <use x=\"58.299988\" xlink:href=\"#NanumBarunGothic-46\"/>\n       <use x=\"87.999985\" xlink:href=\"#NanumBarunGothic-50\"/>\n       <use x=\"146.299973\" xlink:href=\"#NanumBarunGothic-48\"/>\n      </g>\n     </g>\n    </g>\n    <g id=\"xtick_6\">\n     <g id=\"line2d_11\">\n      <path clip-path=\"url(#p125f9236fd)\" d=\"M 442.733186 306.18 \nL 442.733186 7.2 \n\" style=\"fill:none;stroke:#ffffff;stroke-linecap:round;\"/>\n     </g>\n     <g id=\"line2d_12\"/>\n     <g id=\"text_6\">\n      <!-- 0.25 -->\n      <g style=\"fill:#262626;\" transform=\"translate(432.503498 320.950313)scale(0.1 -0.1)\">\n       <use xlink:href=\"#NanumBarunGothic-48\"/>\n       <use x=\"58.299988\" xlink:href=\"#NanumBarunGothic-46\"/>\n       <use x=\"87.999985\" xlink:href=\"#NanumBarunGothic-50\"/>\n       <use x=\"146.299973\" xlink:href=\"#NanumBarunGothic-53\"/>\n      </g>\n     </g>\n    </g>\n    <g id=\"xtick_7\">\n     <g id=\"line2d_13\">\n      <path clip-path=\"url(#p125f9236fd)\" d=\"M 513.841698 306.18 \nL 513.841698 7.2 \n\" style=\"fill:none;stroke:#ffffff;stroke-linecap:round;\"/>\n     </g>\n     <g id=\"line2d_14\"/>\n     <g id=\"text_7\">\n      <!-- 0.30 -->\n      <defs>\n       <path d=\"M 28.703125 -4.5 \nQ 22 -4.40625 15.84375 -2.40625 \nQ 9.703125 -0.40625 5.90625 3.203125 \nL 5.90625 10.40625 \nQ 5.90625 11.09375 6.25 11.25 \nQ 6.59375 11.40625 7.09375 10.90625 \nQ 12.5 6.40625 17.75 4.453125 \nQ 23 2.5 28.90625 2.5 \nQ 32.203125 2.5 35 3.546875 \nQ 37.796875 4.59375 39.890625 6.546875 \nQ 42 8.5 43.203125 11.09375 \nQ 44.40625 13.703125 44.40625 16.90625 \nQ 44.40625 32.40625 25.796875 32.40625 \nL 23.09375 32.40625 \nL 23.09375 39.5 \nL 24.296875 39.5 \nQ 27.90625 39.59375 31.203125 40.25 \nQ 34.5 40.90625 37 42.453125 \nQ 39.5 44 41 46.703125 \nQ 42.5 49.40625 42.5 53.703125 \nQ 42.5 60.40625 38.546875 63.5 \nQ 34.59375 66.59375 28.59375 66.59375 \nQ 23.796875 66.59375 18.6875 64.6875 \nQ 13.59375 62.796875 9.203125 58.90625 \nQ 8.796875 58.59375 8.4375 58.6875 \nQ 8.09375 58.796875 8.09375 59.40625 \nL 8.09375 66.796875 \nQ 9.59375 68.09375 11.6875 69.296875 \nQ 13.796875 70.5 16.390625 71.453125 \nQ 19 72.40625 22.046875 73 \nQ 25.09375 73.59375 28.40625 73.59375 \nQ 33.40625 73.59375 37.65625 72.390625 \nQ 41.90625 71.203125 44.953125 68.75 \nQ 48 66.296875 49.703125 62.640625 \nQ 51.40625 59 51.40625 54.203125 \nQ 51.40625 50.703125 50.40625 47.75 \nQ 49.40625 44.796875 47.59375 42.4375 \nQ 45.796875 40.09375 43.296875 38.5 \nQ 40.796875 36.90625 37.796875 36.296875 \nL 37.796875 36.09375 \nQ 45 34.5 49.09375 30.046875 \nQ 53.203125 25.59375 53.203125 17.203125 \nQ 53.203125 13 51.640625 9.046875 \nQ 50.09375 5.09375 47 2.09375 \nQ 43.90625 -0.90625 39.34375 -2.703125 \nQ 34.796875 -4.5 28.703125 -4.5 \nz\n\" id=\"NanumBarunGothic-51\"/>\n      </defs>\n      <g style=\"fill:#262626;\" transform=\"translate(503.61201 320.950313)scale(0.1 -0.1)\">\n       <use xlink:href=\"#NanumBarunGothic-48\"/>\n       <use x=\"58.299988\" xlink:href=\"#NanumBarunGothic-46\"/>\n       <use x=\"87.999985\" xlink:href=\"#NanumBarunGothic-51\"/>\n       <use x=\"146.299973\" xlink:href=\"#NanumBarunGothic-48\"/>\n      </g>\n     </g>\n    </g>\n    <g id=\"text_8\">\n     <!-- columns -->\n     <defs>\n      <path d=\"M 46.5 7.59375 \nQ 47.59375 8.703125 47.59375 7.203125 \nL 47.59375 0.5 \nQ 44.40625 -2.5 40.25 -3.75 \nQ 36.09375 -5 31.59375 -5 \nQ 25.296875 -5 20.1875 -3.203125 \nQ 15.09375 -1.40625 11.390625 2.09375 \nQ 7.703125 5.59375 5.703125 10.890625 \nQ 3.703125 16.203125 3.703125 23.296875 \nQ 3.703125 29.90625 5.59375 35.25 \nQ 7.5 40.59375 11.09375 44.390625 \nQ 14.703125 48.203125 19.84375 50.25 \nQ 25 52.296875 31.40625 52.296875 \nQ 35.796875 52.296875 39.890625 51.09375 \nQ 44 49.90625 47.203125 47.296875 \nL 47.203125 40.40625 \nQ 47.203125 38.703125 46.09375 40 \nQ 42.90625 42.90625 39.296875 44 \nQ 35.703125 45.09375 31.59375 45.09375 \nQ 26.90625 45.09375 23.40625 43.34375 \nQ 19.90625 41.59375 17.59375 38.640625 \nQ 15.296875 35.703125 14.09375 31.75 \nQ 12.90625 27.796875 12.90625 23.40625 \nQ 12.90625 18.703125 14.09375 14.796875 \nQ 15.296875 10.90625 17.6875 8.046875 \nQ 20.09375 5.203125 23.75 3.640625 \nQ 27.40625 2.09375 32.296875 2.09375 \nQ 36.5 2.09375 39.890625 3.390625 \nQ 43.296875 4.703125 46.5 7.59375 \nz\n\" id=\"NanumBarunGothic-99\"/>\n      <path d=\"M 28.796875 -4.5 \nQ 22.203125 -4.5 17.453125 -2.25 \nQ 12.703125 0 9.546875 3.890625 \nQ 6.40625 7.796875 4.90625 12.9375 \nQ 3.40625 18.09375 3.40625 23.90625 \nQ 3.40625 30 5 35.25 \nQ 6.59375 40.5 9.796875 44.25 \nQ 13 48 17.75 50.140625 \nQ 22.5 52.296875 28.796875 52.296875 \nQ 35.09375 52.296875 39.84375 50.140625 \nQ 44.59375 48 47.796875 44.25 \nQ 51 40.5 52.59375 35.25 \nQ 54.203125 30 54.203125 23.90625 \nQ 54.203125 18.09375 52.703125 12.9375 \nQ 51.203125 7.796875 48.046875 3.890625 \nQ 44.90625 0 40.15625 -2.25 \nQ 35.40625 -4.5 28.796875 -4.5 \nz\nM 28.796875 2.40625 \nQ 36.796875 2.40625 40.9375 7.796875 \nQ 45.09375 13.203125 45.09375 23.90625 \nQ 45.09375 34.90625 40.9375 40.203125 \nQ 36.796875 45.5 28.796875 45.5 \nQ 20.796875 45.5 16.640625 40.203125 \nQ 12.5 34.90625 12.5 23.90625 \nQ 12.5 13.203125 16.640625 7.796875 \nQ 20.796875 2.40625 28.796875 2.40625 \nz\n\" id=\"NanumBarunGothic-111\"/>\n      <path d=\"M 16.09375 77.703125 \nL 16.09375 -3.59375 \nL 7.5 -3.59375 \nL 7.5 77.703125 \nz\n\" id=\"NanumBarunGothic-108\"/>\n      <path d=\"M 6.5 18.703125 \nL 6.5 51 \nL 15.09375 51 \nL 15.09375 18.5 \nQ 15.09375 10.203125 17.796875 6.09375 \nQ 20.5 2 27 2 \nQ 30.296875 2 33.25 3.34375 \nQ 36.203125 4.703125 38.453125 7.09375 \nQ 40.703125 9.5 42.046875 12.890625 \nQ 43.40625 16.296875 43.40625 20.40625 \nL 43.40625 51 \nL 51.90625 51 \nL 51.90625 -3.59375 \nL 43.296875 -3.59375 \nL 42.90625 4.296875 \nL 42.796875 4.296875 \nQ 40.203125 -0.09375 35.640625 -2.4375 \nQ 31.09375 -4.796875 26 -4.796875 \nQ 20.796875 -4.796875 17.09375 -3.1875 \nQ 13.40625 -1.59375 11.046875 1.453125 \nQ 8.703125 4.5 7.59375 8.84375 \nQ 6.5 13.203125 6.5 18.703125 \nz\n\" id=\"NanumBarunGothic-117\"/>\n      <path d=\"M 48.09375 40 \nL 48.203125 40 \nQ 51.296875 46.09375 55.890625 49.140625 \nQ 60.5 52.203125 65.90625 52.203125 \nQ 70.796875 52.203125 74.09375 50.640625 \nQ 77.40625 49.09375 79.453125 46.09375 \nQ 81.5 43.09375 82.34375 38.6875 \nQ 83.203125 34.296875 83.203125 28.59375 \nL 83.203125 -3.59375 \nL 74.703125 -3.59375 \nL 74.703125 28.90625 \nQ 74.703125 37.296875 72.546875 41.390625 \nQ 70.40625 45.5 64.703125 45.5 \nQ 61.796875 45.5 59.09375 44.046875 \nQ 56.40625 42.59375 54.296875 40.046875 \nQ 52.203125 37.5 50.890625 34.046875 \nQ 49.59375 30.59375 49.59375 26.5 \nL 49.5 -3.59375 \nL 41.203125 -3.59375 \nL 41.203125 28.90625 \nQ 41.203125 37.296875 39 41.390625 \nQ 36.796875 45.5 31.09375 45.5 \nQ 28.203125 45.5 25.453125 44.046875 \nQ 22.703125 42.59375 20.546875 40.046875 \nQ 18.40625 37.5 17.09375 34.046875 \nQ 15.796875 30.59375 15.796875 26.5 \nL 15.796875 -3.59375 \nL 7.5 -3.59375 \nL 7.5 51 \nL 15.90625 51 \nL 16.203125 42.796875 \nL 16.296875 42.796875 \nQ 17.5 45 19.25 46.75 \nQ 21 48.5 23.09375 49.703125 \nQ 25.203125 50.90625 27.546875 51.546875 \nQ 29.90625 52.203125 32.296875 52.203125 \nQ 39.203125 52.203125 42.796875 49.203125 \nQ 46.40625 46.203125 48.09375 40 \nz\n\" id=\"NanumBarunGothic-109\"/>\n      <path d=\"M 52.796875 28.703125 \nL 52.796875 -3.59375 \nL 44.203125 -3.59375 \nL 44.203125 28.90625 \nQ 44.203125 37.296875 41.796875 41.390625 \nQ 39.40625 45.5 32.90625 45.5 \nQ 29.703125 45.5 26.640625 44.046875 \nQ 23.59375 42.59375 21.25 40.046875 \nQ 18.90625 37.5 17.453125 34.046875 \nQ 16 30.59375 16 26.5 \nL 16 -3.59375 \nL 7.5 -3.59375 \nL 7.5 51 \nL 16.09375 51 \nL 16.5 43.09375 \nL 16.59375 43.09375 \nQ 17.796875 45.203125 19.75 46.890625 \nQ 21.703125 48.59375 24 49.796875 \nQ 26.296875 51 28.84375 51.640625 \nQ 31.40625 52.296875 33.90625 52.296875 \nQ 44.296875 52.296875 48.546875 46.25 \nQ 52.796875 40.203125 52.796875 28.703125 \nz\n\" id=\"NanumBarunGothic-110\"/>\n      <path d=\"M 5 8 \nQ 10.09375 5.09375 14.6875 3.546875 \nQ 19.296875 2 23.09375 2 \nQ 28.796875 2 31.796875 4.296875 \nQ 34.796875 6.59375 34.796875 11.09375 \nQ 34.796875 13.703125 32.640625 15.640625 \nQ 30.5 17.59375 26.40625 19.296875 \nL 20.296875 21.90625 \nQ 12.90625 25.09375 9.25 28.796875 \nQ 5.59375 32.5 5.59375 38.203125 \nQ 5.59375 44.5 10.546875 48.390625 \nQ 15.5 52.296875 24.59375 52.296875 \nQ 29.09375 52.296875 33.25 51.140625 \nQ 37.40625 50 41.59375 47.40625 \nL 41.59375 40.09375 \nQ 41.59375 38.703125 40.703125 39.59375 \nQ 36.59375 42.703125 32.6875 44.203125 \nQ 28.796875 45.703125 24.203125 45.703125 \nQ 19.796875 45.703125 17.25 44.09375 \nQ 14.703125 42.5 14.703125 38.796875 \nQ 14.703125 34.90625 17 33 \nQ 19.296875 31.09375 22.40625 29.90625 \nL 29 27 \nQ 32.203125 25.59375 34.953125 24.1875 \nQ 37.703125 22.796875 39.703125 21 \nQ 41.703125 19.203125 42.84375 16.84375 \nQ 44 14.5 44 11.203125 \nQ 44 7.40625 42.453125 4.40625 \nQ 40.90625 1.40625 38.15625 -0.6875 \nQ 35.40625 -2.796875 31.59375 -3.890625 \nQ 27.796875 -5 23.296875 -5 \nQ 18.203125 -5 13.296875 -3.75 \nQ 8.40625 -2.5 4 0.40625 \nL 4 7.296875 \nQ 4 8.59375 5 8 \nz\n\" id=\"NanumBarunGothic-115\"/>\n     </defs>\n     <g style=\"fill:#262626;\" transform=\"translate(289.148594 336.307031)scale(0.11 -0.11)\">\n      <use xlink:href=\"#NanumBarunGothic-99\"/>\n      <use x=\"48.999985\" xlink:href=\"#NanumBarunGothic-111\"/>\n      <use x=\"106.699982\" xlink:href=\"#NanumBarunGothic-108\"/>\n      <use x=\"131.099976\" xlink:href=\"#NanumBarunGothic-117\"/>\n      <use x=\"190.299973\" xlink:href=\"#NanumBarunGothic-109\"/>\n      <use x=\"279.499954\" xlink:href=\"#NanumBarunGothic-110\"/>\n      <use x=\"338.699951\" xlink:href=\"#NanumBarunGothic-115\"/>\n     </g>\n    </g>\n   </g>\n   <g id=\"matplotlib.axis_2\">\n    <g id=\"ytick_1\">\n     <g id=\"line2d_15\"/>\n     <g id=\"text_9\">\n      <!-- time -->\n      <defs>\n       <path d=\"M 33.5 4.703125 \nQ 34.59375 5.5 34.59375 4.09375 \nL 34.59375 -2 \nQ 32.59375 -3.5 29.75 -4.09375 \nQ 26.90625 -4.703125 24.203125 -4.703125 \nQ 16.5 -4.796875 13.140625 -1.640625 \nQ 9.796875 1.5 9.796875 9.09375 \nL 9.796875 44.5 \nL 0.296875 44.5 \nL 0.296875 51 \nL 9.796875 51 \nL 9.796875 64.5 \nL 18.40625 64.5 \nL 18.40625 51 \nL 32.59375 51 \nL 32.59375 44.5 \nL 18.40625 44.5 \nL 18.40625 10.40625 \nQ 18.40625 8.203125 18.59375 6.703125 \nQ 18.796875 5.203125 19.5 4.296875 \nQ 20.203125 3.40625 21.59375 3 \nQ 23 2.59375 25.296875 2.59375 \nQ 26.703125 2.59375 29.09375 3.09375 \nQ 31.5 3.59375 33.5 4.703125 \nz\n\" id=\"NanumBarunGothic-116\"/>\n       <path d=\"M 16.5 51 \nL 16.5 -3.59375 \nL 7.796875 -3.59375 \nL 7.796875 51 \nz\nM 6 68.40625 \nQ 6 71.09375 7.75 72.890625 \nQ 9.5 74.703125 12.203125 74.703125 \nQ 14.796875 74.703125 16.59375 72.890625 \nQ 18.40625 71.09375 18.40625 68.40625 \nQ 18.40625 65.796875 16.59375 64.046875 \nQ 14.796875 62.296875 12.203125 62.296875 \nQ 9.5 62.296875 7.75 64.046875 \nQ 6 65.796875 6 68.40625 \nz\n\" id=\"NanumBarunGothic-105\"/>\n       <path d=\"M 13 29 \nL 43.90625 29 \nL 43.90625 29.40625 \nQ 43.90625 37.5 40.046875 41.640625 \nQ 36.203125 45.796875 29.59375 45.796875 \nQ 26.5 45.796875 23.75 44.640625 \nQ 21 43.5 18.796875 41.390625 \nQ 16.59375 39.296875 15.09375 36.25 \nQ 13.59375 33.203125 13 29.5 \nz\nM 29.796875 52.296875 \nQ 40.796875 52.296875 46.890625 45.6875 \nQ 53 39.09375 53 26.59375 \nL 53 22.5 \nL 12.90625 22.5 \nL 12.90625 21.59375 \nQ 13.09375 12 18.09375 7.09375 \nQ 23.09375 2.203125 31.5 2.203125 \nQ 35.90625 2.203125 40.25 3.5 \nQ 44.59375 4.796875 49.203125 8 \nQ 50.296875 8.90625 50.296875 7.59375 \nL 50.296875 0.703125 \nQ 46.09375 -2.5 41.1875 -3.640625 \nQ 36.296875 -4.796875 30.296875 -4.796875 \nQ 24.40625 -4.796875 19.5 -2.890625 \nQ 14.59375 -1 11.09375 2.59375 \nQ 7.59375 6.203125 5.640625 11.453125 \nQ 3.703125 16.703125 3.703125 23.5 \nQ 3.703125 30 5.59375 35.296875 \nQ 7.5 40.59375 10.953125 44.390625 \nQ 14.40625 48.203125 19.203125 50.25 \nQ 24 52.296875 29.796875 52.296875 \nz\n\" id=\"NanumBarunGothic-101\"/>\n      </defs>\n      <g style=\"fill:#262626;\" transform=\"translate(59.66875 26.034156)scale(0.1 -0.1)\">\n       <use xlink:href=\"#NanumBarunGothic-116\"/>\n       <use x=\"35.699997\" xlink:href=\"#NanumBarunGothic-105\"/>\n       <use x=\"60.099991\" xlink:href=\"#NanumBarunGothic-109\"/>\n       <use x=\"149.299973\" xlink:href=\"#NanumBarunGothic-101\"/>\n      </g>\n     </g>\n    </g>\n    <g id=\"ytick_2\">\n     <g id=\"line2d_16\"/>\n     <g id=\"text_10\">\n      <!-- num_staff -->\n      <defs>\n       <path d=\"M 43.59375 -15 \nL 1 -15 \nL 1 -8.40625 \nL 43.59375 -8.40625 \nz\n\" id=\"NanumBarunGothic-95\"/>\n       <path d=\"M 39.09375 18.59375 \nL 39.09375 25.796875 \nL 24.59375 24 \nQ 19 23.203125 15.5 20.25 \nQ 12 17.296875 12 11.703125 \nQ 12 7.203125 15.046875 4.796875 \nQ 18.09375 2.40625 22.90625 2.40625 \nQ 26.09375 2.40625 29.046875 3.796875 \nQ 32 5.203125 34.25 7.453125 \nQ 36.5 9.703125 37.796875 12.59375 \nQ 39.09375 15.5 39.09375 18.59375 \nz\nM 9.59375 39.296875 \nQ 9.09375 38.796875 8.6875 38.9375 \nQ 8.296875 39.09375 8.296875 39.90625 \nL 8.296875 47.203125 \nQ 12.5 50 17.703125 51.59375 \nQ 22.90625 53.203125 28.40625 53.203125 \nQ 38.203125 53.203125 42.75 48.703125 \nQ 47.296875 44.203125 47.296875 33.90625 \nL 47.296875 -3.59375 \nL 39 -3.59375 \nL 38.59375 4.296875 \nL 38.5 4.296875 \nQ 37.203125 2.09375 35.25 0.390625 \nQ 33.296875 -1.296875 30.9375 -2.4375 \nQ 28.59375 -3.59375 26.046875 -4.1875 \nQ 23.5 -4.796875 21 -4.796875 \nQ 17 -4.90625 13.640625 -3.90625 \nQ 10.296875 -2.90625 7.890625 -0.90625 \nQ 5.5 1.09375 4.203125 4.09375 \nQ 2.90625 7.09375 2.90625 11 \nQ 2.90625 18.59375 7.59375 23.640625 \nQ 12.296875 28.703125 21.59375 30.09375 \nL 38.796875 32.59375 \nL 38.796875 33.5 \nQ 38.796875 37.09375 38.09375 39.5 \nQ 37.40625 41.90625 36 43.25 \nQ 34.59375 44.59375 32.4375 45.140625 \nQ 30.296875 45.703125 27.40625 45.703125 \nQ 22.59375 45.703125 18.34375 44.09375 \nQ 14.09375 42.5 9.59375 39.296875 \nz\n\" id=\"NanumBarunGothic-97\"/>\n       <path d=\"M 34 71 \nQ 32.796875 71.40625 31.59375 71.59375 \nQ 30.40625 71.796875 29 71.796875 \nQ 24.296875 71.796875 21.9375 69.34375 \nQ 19.59375 66.90625 19.59375 60.203125 \nL 19.59375 51 \nL 32.703125 51 \nL 32.703125 44.5 \nL 19.59375 44.5 \nL 19.59375 -3.59375 \nL 11.09375 -3.59375 \nL 11.09375 44.5 \nL 1.5 44.5 \nL 1.5 51 \nL 11.09375 51 \nL 11.09375 61.5 \nQ 11.09375 66.09375 12.34375 69.390625 \nQ 13.59375 72.703125 15.890625 74.796875 \nQ 18.203125 76.90625 21.34375 77.90625 \nQ 24.5 78.90625 28.40625 78.90625 \nQ 30.5 78.90625 32.046875 78.59375 \nQ 33.59375 78.296875 35 77.5 \nL 35 71.703125 \nQ 35 70.59375 34 71 \nz\n\" id=\"NanumBarunGothic-102\"/>\n      </defs>\n      <g style=\"fill:#262626;\" transform=\"translate(34.25 55.932156)scale(0.1 -0.1)\">\n       <use xlink:href=\"#NanumBarunGothic-110\"/>\n       <use x=\"59.199997\" xlink:href=\"#NanumBarunGothic-117\"/>\n       <use x=\"118.399994\" xlink:href=\"#NanumBarunGothic-109\"/>\n       <use x=\"207.599976\" xlink:href=\"#NanumBarunGothic-95\"/>\n       <use x=\"252.199966\" xlink:href=\"#NanumBarunGothic-115\"/>\n       <use x=\"299.699951\" xlink:href=\"#NanumBarunGothic-116\"/>\n       <use x=\"335.399948\" xlink:href=\"#NanumBarunGothic-97\"/>\n       <use x=\"391.399933\" xlink:href=\"#NanumBarunGothic-102\"/>\n       <use x=\"425.399918\" xlink:href=\"#NanumBarunGothic-102\"/>\n      </g>\n     </g>\n    </g>\n    <g id=\"ytick_3\">\n     <g id=\"line2d_17\"/>\n     <g id=\"text_11\">\n      <!-- distributor_rank -->\n      <defs>\n       <path d=\"M 42.59375 20.203125 \nL 42.59375 28.796875 \nQ 42.59375 32.09375 41.5 35.046875 \nQ 40.40625 38 38.40625 40.25 \nQ 36.40625 42.5 33.65625 43.84375 \nQ 30.90625 45.203125 27.59375 45.203125 \nQ 20.203125 45.203125 16 39.390625 \nQ 11.796875 33.59375 11.796875 22.59375 \nQ 11.796875 13 15.890625 7.640625 \nQ 20 2.296875 26.59375 2.296875 \nQ 30.40625 2.296875 33.34375 3.6875 \nQ 36.296875 5.09375 38.34375 7.5 \nQ 40.40625 9.90625 41.5 13.15625 \nQ 42.59375 16.40625 42.59375 20.203125 \nz\nM 42.09375 3.09375 \nL 42 3.09375 \nQ 39.09375 -1.40625 35 -2.953125 \nQ 30.90625 -4.5 25.59375 -4.5 \nQ 19.703125 -4.5 15.390625 -2.5 \nQ 11.09375 -0.5 8.34375 3.09375 \nQ 5.59375 6.703125 4.25 11.640625 \nQ 2.90625 16.59375 2.90625 22.5 \nQ 2.90625 28.5 4.296875 33.953125 \nQ 5.703125 39.40625 8.640625 43.453125 \nQ 11.59375 47.5 16.046875 49.890625 \nQ 20.5 52.296875 26.59375 52.296875 \nQ 31.90625 52.296875 35.90625 50.1875 \nQ 39.90625 48.09375 42.703125 44.59375 \nL 42.796875 44.59375 \nL 42.796875 77.703125 \nL 51.40625 77.703125 \nL 51.40625 -3.59375 \nL 42.40625 -3.59375 \nz\n\" id=\"NanumBarunGothic-100\"/>\n       <path d=\"M 36.5 43.09375 \nQ 35.09375 43.90625 33.59375 44.25 \nQ 32.09375 44.59375 30.09375 44.59375 \nQ 27.5 44.59375 24.953125 43.34375 \nQ 22.40625 42.09375 20.453125 39.796875 \nQ 18.5 37.5 17.296875 34.296875 \nQ 16.09375 31.09375 16.09375 27.203125 \nL 16.09375 -3.59375 \nL 7.5 -3.59375 \nL 7.5 51 \nL 16.203125 51 \nL 16.59375 43.09375 \nQ 18.703125 47.5 22.703125 49.890625 \nQ 26.703125 52.296875 31 52.296875 \nQ 33.09375 52.296875 34.640625 52.046875 \nQ 36.203125 51.796875 37.703125 51 \nL 37.703125 43.59375 \nQ 37.703125 42.203125 36.5 43.09375 \nz\n\" id=\"NanumBarunGothic-114\"/>\n       <path d=\"M 16.296875 26.59375 \nL 16.296875 18.90625 \nQ 16.296875 15.203125 17.4375 12.203125 \nQ 18.59375 9.203125 20.59375 7.046875 \nQ 22.59375 4.90625 25.390625 3.75 \nQ 28.203125 2.59375 31.40625 2.59375 \nQ 38.796875 2.59375 42.796875 8.390625 \nQ 46.796875 14.203125 46.796875 25.09375 \nQ 46.796875 34.703125 42.9375 40.09375 \nQ 39.09375 45.5 32.5 45.5 \nQ 29.09375 45.5 26.140625 43.953125 \nQ 23.203125 42.40625 21 39.796875 \nQ 18.796875 37.203125 17.546875 33.75 \nQ 16.296875 30.296875 16.296875 26.59375 \nz\nM 33.296875 52.296875 \nQ 39.09375 52.296875 43.34375 50.296875 \nQ 47.59375 48.296875 50.296875 44.6875 \nQ 53 41.09375 54.296875 36.09375 \nQ 55.59375 31.09375 55.59375 25.203125 \nQ 55.59375 18.796875 54.1875 13.34375 \nQ 52.796875 7.90625 49.890625 3.953125 \nQ 47 0 42.546875 -2.25 \nQ 38.09375 -4.5 32 -4.5 \nQ 26.703125 -4.5 23.09375 -2.453125 \nQ 19.5 -0.40625 16.90625 3.09375 \nL 16.796875 3.09375 \nL 16.5 -3.59375 \nL 7.5 -3.59375 \nL 7.5 77.703125 \nL 16.09375 77.703125 \nL 16.09375 42.703125 \nL 16.296875 42.703125 \nQ 18.90625 47.203125 23.25 49.75 \nQ 27.59375 52.296875 33.296875 52.296875 \nz\n\" id=\"NanumBarunGothic-98\"/>\n       <path d=\"M 27.296875 28.59375 \nL 53.703125 -3.59375 \nL 42.59375 -3.59375 \nL 21.40625 23.703125 \nL 21.296875 23.703125 \nL 16.09375 19.203125 \nL 16.09375 -3.59375 \nL 7.5 -3.59375 \nL 7.5 77.703125 \nL 16.09375 77.703125 \nL 16.09375 27.90625 \nL 16.203125 27.90625 \nL 39.90625 51 \nL 50.5 51 \nz\n\" id=\"NanumBarunGothic-107\"/>\n      </defs>\n      <g style=\"fill:#262626;\" transform=\"translate(7.2 85.830156)scale(0.1 -0.1)\">\n       <use xlink:href=\"#NanumBarunGothic-100\"/>\n       <use x=\"58.799988\" xlink:href=\"#NanumBarunGothic-105\"/>\n       <use x=\"83.199982\" xlink:href=\"#NanumBarunGothic-115\"/>\n       <use x=\"130.699966\" xlink:href=\"#NanumBarunGothic-116\"/>\n       <use x=\"166.399963\" xlink:href=\"#NanumBarunGothic-114\"/>\n       <use x=\"204.699951\" xlink:href=\"#NanumBarunGothic-105\"/>\n       <use x=\"229.099945\" xlink:href=\"#NanumBarunGothic-98\"/>\n       <use x=\"287.899933\" xlink:href=\"#NanumBarunGothic-117\"/>\n       <use x=\"347.09993\" xlink:href=\"#NanumBarunGothic-116\"/>\n       <use x=\"382.799927\" xlink:href=\"#NanumBarunGothic-111\"/>\n       <use x=\"440.499924\" xlink:href=\"#NanumBarunGothic-114\"/>\n       <use x=\"478.799911\" xlink:href=\"#NanumBarunGothic-95\"/>\n       <use x=\"523.399902\" xlink:href=\"#NanumBarunGothic-114\"/>\n       <use x=\"561.69989\" xlink:href=\"#NanumBarunGothic-97\"/>\n       <use x=\"617.699875\" xlink:href=\"#NanumBarunGothic-110\"/>\n       <use x=\"676.899872\" xlink:href=\"#NanumBarunGothic-107\"/>\n      </g>\n     </g>\n    </g>\n    <g id=\"ytick_4\">\n     <g id=\"line2d_18\"/>\n     <g id=\"text_12\">\n      <!-- num_actor -->\n      <g style=\"fill:#262626;\" transform=\"translate(31.3 115.728156)scale(0.1 -0.1)\">\n       <use xlink:href=\"#NanumBarunGothic-110\"/>\n       <use x=\"59.199997\" xlink:href=\"#NanumBarunGothic-117\"/>\n       <use x=\"118.399994\" xlink:href=\"#NanumBarunGothic-109\"/>\n       <use x=\"207.599976\" xlink:href=\"#NanumBarunGothic-95\"/>\n       <use x=\"252.199966\" xlink:href=\"#NanumBarunGothic-97\"/>\n       <use x=\"308.199951\" xlink:href=\"#NanumBarunGothic-99\"/>\n       <use x=\"357.199936\" xlink:href=\"#NanumBarunGothic-116\"/>\n       <use x=\"392.899933\" xlink:href=\"#NanumBarunGothic-111\"/>\n       <use x=\"450.59993\" xlink:href=\"#NanumBarunGothic-114\"/>\n      </g>\n     </g>\n    </g>\n    <g id=\"ytick_5\">\n     <g id=\"line2d_19\"/>\n     <g id=\"text_13\">\n      <!-- dir_prev_bfnum -->\n      <defs>\n       <path d=\"M 16.09375 51 \nL 16.40625 43.40625 \nQ 19.59375 47.59375 23.59375 49.9375 \nQ 27.59375 52.296875 33.203125 52.296875 \nQ 44.703125 52.296875 50.453125 45.140625 \nQ 56.203125 38 56.203125 25.203125 \nQ 56.203125 18.703125 54.75 13.25 \nQ 53.296875 7.796875 50.296875 3.84375 \nQ 47.296875 -0.09375 42.75 -2.296875 \nQ 38.203125 -4.5 32 -4.5 \nQ 26.59375 -4.5 22.796875 -2.59375 \nQ 19 -0.703125 16.296875 2.703125 \nL 16.09375 2.703125 \nL 16.09375 -28.09375 \nL 7.5 -28.09375 \nL 7.5 51 \nz\nM 15.90625 26 \nL 15.90625 17.90625 \nQ 15.90625 14.59375 17.046875 11.84375 \nQ 18.203125 9.09375 20.25 7.046875 \nQ 22.296875 5 25.09375 3.84375 \nQ 27.90625 2.703125 31.203125 2.703125 \nQ 38.703125 2.703125 42.953125 8.5 \nQ 47.203125 14.296875 47.203125 25.203125 \nQ 47.203125 34.796875 43.09375 40.1875 \nQ 39 45.59375 32.203125 45.59375 \nQ 28.40625 45.59375 25.34375 43.9375 \nQ 22.296875 42.296875 20.1875 39.546875 \nQ 18.09375 36.796875 17 33.25 \nQ 15.90625 29.703125 15.90625 26 \nz\n\" id=\"NanumBarunGothic-112\"/>\n       <path d=\"M 42.703125 51 \nL 51.703125 51 \nL 30.40625 -3.59375 \nL 22.5 -3.59375 \nL 1.203125 51 \nL 10.203125 51 \nL 26.40625 6.703125 \nz\n\" id=\"NanumBarunGothic-118\"/>\n      </defs>\n      <g style=\"fill:#262626;\" transform=\"translate(8.48125 145.686313)scale(0.1 -0.1)\">\n       <use xlink:href=\"#NanumBarunGothic-100\"/>\n       <use x=\"58.799988\" xlink:href=\"#NanumBarunGothic-105\"/>\n       <use x=\"83.199982\" xlink:href=\"#NanumBarunGothic-114\"/>\n       <use x=\"121.499969\" xlink:href=\"#NanumBarunGothic-95\"/>\n       <use x=\"166.09996\" xlink:href=\"#NanumBarunGothic-112\"/>\n       <use x=\"224.899948\" xlink:href=\"#NanumBarunGothic-114\"/>\n       <use x=\"263.199936\" xlink:href=\"#NanumBarunGothic-101\"/>\n       <use x=\"319.09993\" xlink:href=\"#NanumBarunGothic-118\"/>\n       <use x=\"372.099915\" xlink:href=\"#NanumBarunGothic-95\"/>\n       <use x=\"416.699905\" xlink:href=\"#NanumBarunGothic-98\"/>\n       <use x=\"475.499893\" xlink:href=\"#NanumBarunGothic-102\"/>\n       <use x=\"509.499878\" xlink:href=\"#NanumBarunGothic-110\"/>\n       <use x=\"568.699875\" xlink:href=\"#NanumBarunGothic-117\"/>\n       <use x=\"627.899872\" xlink:href=\"#NanumBarunGothic-109\"/>\n      </g>\n     </g>\n    </g>\n    <g id=\"ytick_6\">\n     <g id=\"line2d_20\"/>\n     <g id=\"text_14\">\n      <!-- screening_rat -->\n      <defs>\n       <path d=\"M 42.59375 21.203125 \nL 42.59375 28 \nQ 42.59375 31.703125 41.296875 34.84375 \nQ 40 38 37.84375 40.296875 \nQ 35.703125 42.59375 32.75 43.890625 \nQ 29.796875 45.203125 26.5 45.203125 \nQ 19.296875 45.203125 15.34375 39.703125 \nQ 11.40625 34.203125 11.40625 23.59375 \nQ 11.40625 14.296875 15.5 9.1875 \nQ 19.59375 4.09375 26.40625 4.09375 \nQ 34.09375 4.09375 38.34375 8.84375 \nQ 42.59375 13.59375 42.59375 21.203125 \nz\nM 24.09375 -21.296875 \nQ 34.203125 -21.296875 38.390625 -16.046875 \nQ 42.59375 -10.796875 42.59375 0.296875 \nL 42.59375 5.796875 \nQ 39.5 1 35.296875 -0.84375 \nQ 31.09375 -2.703125 25.40625 -2.703125 \nQ 19.703125 -2.703125 15.34375 -0.796875 \nQ 11 1.09375 8.140625 4.546875 \nQ 5.296875 8 3.84375 12.796875 \nQ 2.40625 17.59375 2.40625 23.5 \nQ 2.40625 37.203125 8.34375 44.75 \nQ 14.296875 52.296875 25.5 52.296875 \nQ 31.203125 52.296875 35.5 50.046875 \nQ 39.796875 47.796875 42.09375 43.59375 \nL 42.203125 43.59375 \nL 42.5 51 \nL 51.09375 51 \nL 51.09375 1.40625 \nQ 51.09375 -6.296875 49.59375 -11.9375 \nQ 48.09375 -17.59375 44.84375 -21.296875 \nQ 41.59375 -25 36.5 -26.75 \nQ 31.40625 -28.5 24.203125 -28.5 \nQ 18.90625 -28.5 14.90625 -27.5 \nQ 10.90625 -26.5 6.90625 -24.5 \nL 6.90625 -16.90625 \nQ 6.90625 -15.59375 8 -16.40625 \nQ 12.5 -19 16.34375 -20.140625 \nQ 20.203125 -21.296875 24.09375 -21.296875 \nz\n\" id=\"NanumBarunGothic-103\"/>\n      </defs>\n      <g style=\"fill:#262626;\" transform=\"translate(17.909375 175.503844)scale(0.1 -0.1)\">\n       <use xlink:href=\"#NanumBarunGothic-115\"/>\n       <use x=\"47.499985\" xlink:href=\"#NanumBarunGothic-99\"/>\n       <use x=\"96.499969\" xlink:href=\"#NanumBarunGothic-114\"/>\n       <use x=\"134.799957\" xlink:href=\"#NanumBarunGothic-101\"/>\n       <use x=\"190.699951\" xlink:href=\"#NanumBarunGothic-101\"/>\n       <use x=\"246.599945\" xlink:href=\"#NanumBarunGothic-110\"/>\n       <use x=\"305.799942\" xlink:href=\"#NanumBarunGothic-105\"/>\n       <use x=\"330.199936\" xlink:href=\"#NanumBarunGothic-110\"/>\n       <use x=\"389.399933\" xlink:href=\"#NanumBarunGothic-103\"/>\n       <use x=\"448.199921\" xlink:href=\"#NanumBarunGothic-95\"/>\n       <use x=\"492.799911\" xlink:href=\"#NanumBarunGothic-114\"/>\n       <use x=\"531.099899\" xlink:href=\"#NanumBarunGothic-97\"/>\n       <use x=\"587.099884\" xlink:href=\"#NanumBarunGothic-116\"/>\n      </g>\n     </g>\n    </g>\n    <g id=\"ytick_7\">\n     <g id=\"line2d_21\"/>\n     <g id=\"text_15\">\n      <!-- genre -->\n      <g style=\"fill:#262626;\" transform=\"translate(53.379688 205.401844)scale(0.1 -0.1)\">\n       <use xlink:href=\"#NanumBarunGothic-103\"/>\n       <use x=\"58.799988\" xlink:href=\"#NanumBarunGothic-101\"/>\n       <use x=\"114.699982\" xlink:href=\"#NanumBarunGothic-110\"/>\n       <use x=\"173.899979\" xlink:href=\"#NanumBarunGothic-114\"/>\n       <use x=\"212.199966\" xlink:href=\"#NanumBarunGothic-101\"/>\n      </g>\n     </g>\n    </g>\n    <g id=\"ytick_8\">\n     <g id=\"line2d_22\"/>\n     <g id=\"text_16\">\n      <!-- year -->\n      <defs>\n       <path d=\"M 3.09375 -27.796875 \nL 3.09375 -21.796875 \nQ 3.09375 -21 4.09375 -21.09375 \nQ 5.203125 -21.40625 6.25 -21.5 \nQ 7.296875 -21.59375 8.296875 -21.59375 \nQ 11.59375 -21.59375 14.546875 -19.796875 \nQ 17.5 -18 19.203125 -13.296875 \nL 23 -3.90625 \nL 23 -3.5 \nL 0.703125 51 \nL 10.296875 51 \nL 26 9.296875 \nL 27.296875 4.90625 \nL 28.5 9.296875 \nL 42.703125 51 \nL 51.703125 51 \nL 28.703125 -10 \nQ 27.09375 -14.09375 25.34375 -17.5 \nQ 23.59375 -20.90625 21.25 -23.34375 \nQ 18.90625 -25.796875 15.90625 -27.140625 \nQ 12.90625 -28.5 8.796875 -28.5 \nQ 5.09375 -28.5 3.09375 -27.796875 \nz\n\" id=\"NanumBarunGothic-121\"/>\n      </defs>\n      <g style=\"fill:#262626;\" transform=\"translate(59.870313 235.299844)scale(0.1 -0.1)\">\n       <use xlink:href=\"#NanumBarunGothic-121\"/>\n       <use x=\"52.999985\" xlink:href=\"#NanumBarunGothic-101\"/>\n       <use x=\"108.899979\" xlink:href=\"#NanumBarunGothic-97\"/>\n       <use x=\"164.899963\" xlink:href=\"#NanumBarunGothic-114\"/>\n      </g>\n     </g>\n    </g>\n    <g id=\"ytick_9\">\n     <g id=\"line2d_23\"/>\n     <g id=\"text_17\">\n      <!-- month -->\n      <defs>\n       <path d=\"M 52.703125 28.703125 \nL 52.703125 -3.59375 \nL 44.203125 -3.59375 \nL 44.203125 28.90625 \nQ 44.203125 37.296875 41.75 41.390625 \nQ 39.296875 45.5 32.796875 45.5 \nQ 29.5 45.5 26.5 44.046875 \nQ 23.5 42.59375 21.203125 40.046875 \nQ 18.90625 37.5 17.5 34.046875 \nQ 16.09375 30.59375 16.09375 26.5 \nL 16.09375 -3.59375 \nL 7.5 -3.59375 \nL 7.5 77.703125 \nL 16.09375 77.703125 \nL 16.09375 42.5 \nL 16.203125 42.5 \nQ 18.796875 47.203125 23.59375 49.75 \nQ 28.40625 52.296875 33.796875 52.296875 \nQ 44.203125 52.296875 48.453125 46.25 \nQ 52.703125 40.203125 52.703125 28.703125 \nz\n\" id=\"NanumBarunGothic-104\"/>\n      </defs>\n      <g style=\"fill:#262626;\" transform=\"translate(50.089063 265.218156)scale(0.1 -0.1)\">\n       <use xlink:href=\"#NanumBarunGothic-109\"/>\n       <use x=\"89.199982\" xlink:href=\"#NanumBarunGothic-111\"/>\n       <use x=\"146.899979\" xlink:href=\"#NanumBarunGothic-110\"/>\n       <use x=\"206.099976\" xlink:href=\"#NanumBarunGothic-116\"/>\n       <use x=\"241.799973\" xlink:href=\"#NanumBarunGothic-104\"/>\n      </g>\n     </g>\n    </g>\n    <g id=\"ytick_10\">\n     <g id=\"line2d_24\"/>\n     <g id=\"text_18\">\n      <!-- dir_prev_num -->\n      <g style=\"fill:#262626;\" transform=\"translate(17.760938 295.116156)scale(0.1 -0.1)\">\n       <use xlink:href=\"#NanumBarunGothic-100\"/>\n       <use x=\"58.799988\" xlink:href=\"#NanumBarunGothic-105\"/>\n       <use x=\"83.199982\" xlink:href=\"#NanumBarunGothic-114\"/>\n       <use x=\"121.499969\" xlink:href=\"#NanumBarunGothic-95\"/>\n       <use x=\"166.09996\" xlink:href=\"#NanumBarunGothic-112\"/>\n       <use x=\"224.899948\" xlink:href=\"#NanumBarunGothic-114\"/>\n       <use x=\"263.199936\" xlink:href=\"#NanumBarunGothic-101\"/>\n       <use x=\"319.09993\" xlink:href=\"#NanumBarunGothic-118\"/>\n       <use x=\"372.099915\" xlink:href=\"#NanumBarunGothic-95\"/>\n       <use x=\"416.699905\" xlink:href=\"#NanumBarunGothic-110\"/>\n       <use x=\"475.899902\" xlink:href=\"#NanumBarunGothic-117\"/>\n       <use x=\"535.099899\" xlink:href=\"#NanumBarunGothic-109\"/>\n      </g>\n     </g>\n    </g>\n   </g>\n   <g id=\"patch_3\">\n    <path clip-path=\"url(#p125f9236fd)\" d=\"M 87.190625 10.1898 \nL 512.333482 10.1898 \nL 512.333482 34.1082 \nL 87.190625 34.1082 \nz\n\" style=\"fill:#ea96a3;\"/>\n   </g>\n   <g id=\"patch_4\">\n    <path clip-path=\"url(#p125f9236fd)\" d=\"M 87.190625 40.0878 \nL 482.257239 40.0878 \nL 482.257239 64.0062 \nL 87.190625 64.0062 \nz\n\" style=\"fill:#d7944e;\"/>\n   </g>\n   <g id=\"patch_5\">\n    <path clip-path=\"url(#p125f9236fd)\" d=\"M 87.190625 69.9858 \nL 351.51152 69.9858 \nL 351.51152 93.9042 \nL 87.190625 93.9042 \nz\n\" style=\"fill:#ab9e47;\"/>\n   </g>\n   <g id=\"patch_6\">\n    <path clip-path=\"url(#p125f9236fd)\" d=\"M 87.190625 99.8838 \nL 173.030983 99.8838 \nL 173.030983 123.8022 \nL 87.190625 123.8022 \nz\n\" style=\"fill:#7fa946;\"/>\n   </g>\n   <g id=\"patch_7\">\n    <path clip-path=\"url(#p125f9236fd)\" d=\"M 87.190625 129.7818 \nL 151.244961 129.7818 \nL 151.244961 153.7002 \nL 87.190625 153.7002 \nz\n\" style=\"fill:#49ae83;\"/>\n   </g>\n   <g id=\"patch_8\">\n    <path clip-path=\"url(#p125f9236fd)\" d=\"M 87.190625 159.6798 \nL 146.149251 159.6798 \nL 146.149251 183.5982 \nL 87.190625 183.5982 \nz\n\" style=\"fill:#4baba4;\"/>\n   </g>\n   <g id=\"patch_9\">\n    <path clip-path=\"url(#p125f9236fd)\" d=\"M 87.190625 189.5778 \nL 142.964428 189.5778 \nL 142.964428 213.4962 \nL 87.190625 213.4962 \nz\n\" style=\"fill:#50acc3;\"/>\n   </g>\n   <g id=\"patch_10\">\n    <path clip-path=\"url(#p125f9236fd)\" d=\"M 87.190625 219.4758 \nL 116.23708 219.4758 \nL 116.23708 243.3942 \nL 87.190625 243.3942 \nz\n\" style=\"fill:#94aee8;\"/>\n   </g>\n   <g id=\"patch_11\">\n    <path clip-path=\"url(#p125f9236fd)\" d=\"M 87.190625 249.3738 \nL 114.618389 249.3738 \nL 114.618389 273.2922 \nL 87.190625 273.2922 \nz\n\" style=\"fill:#ce9be9;\"/>\n   </g>\n   <g id=\"patch_12\">\n    <path clip-path=\"url(#p125f9236fd)\" d=\"M 87.190625 279.2718 \nL 103.729159 279.2718 \nL 103.729159 303.1902 \nL 87.190625 303.1902 \nz\n\" style=\"fill:#e88fcc;\"/>\n   </g>\n   <g id=\"line2d_25\">\n    <path clip-path=\"url(#p125f9236fd)\" d=\"M 0 0 \n\" style=\"fill:none;stroke:#424242;stroke-linecap:round;stroke-width:3.15;\"/>\n   </g>\n   <g id=\"line2d_26\">\n    <path clip-path=\"url(#p125f9236fd)\" d=\"M 0 0 \n\" style=\"fill:none;stroke:#424242;stroke-linecap:round;stroke-width:3.15;\"/>\n   </g>\n   <g id=\"line2d_27\">\n    <path clip-path=\"url(#p125f9236fd)\" d=\"M 0 0 \n\" style=\"fill:none;stroke:#424242;stroke-linecap:round;stroke-width:3.15;\"/>\n   </g>\n   <g id=\"line2d_28\">\n    <path clip-path=\"url(#p125f9236fd)\" d=\"M 0 0 \n\" style=\"fill:none;stroke:#424242;stroke-linecap:round;stroke-width:3.15;\"/>\n   </g>\n   <g id=\"line2d_29\">\n    <path clip-path=\"url(#p125f9236fd)\" d=\"M 0 0 \n\" style=\"fill:none;stroke:#424242;stroke-linecap:round;stroke-width:3.15;\"/>\n   </g>\n   <g id=\"line2d_30\">\n    <path clip-path=\"url(#p125f9236fd)\" d=\"M 0 0 \n\" style=\"fill:none;stroke:#424242;stroke-linecap:round;stroke-width:3.15;\"/>\n   </g>\n   <g id=\"line2d_31\">\n    <path clip-path=\"url(#p125f9236fd)\" d=\"M 0 0 \n\" style=\"fill:none;stroke:#424242;stroke-linecap:round;stroke-width:3.15;\"/>\n   </g>\n   <g id=\"line2d_32\">\n    <path clip-path=\"url(#p125f9236fd)\" d=\"M 0 0 \n\" style=\"fill:none;stroke:#424242;stroke-linecap:round;stroke-width:3.15;\"/>\n   </g>\n   <g id=\"line2d_33\">\n    <path clip-path=\"url(#p125f9236fd)\" d=\"M 0 0 \n\" style=\"fill:none;stroke:#424242;stroke-linecap:round;stroke-width:3.15;\"/>\n   </g>\n   <g id=\"line2d_34\">\n    <path clip-path=\"url(#p125f9236fd)\" d=\"M 0 0 \n\" style=\"fill:none;stroke:#424242;stroke-linecap:round;stroke-width:3.15;\"/>\n   </g>\n   <g id=\"patch_13\">\n    <path d=\"M 87.190625 306.18 \nL 87.190625 7.2 \n\" style=\"fill:none;\"/>\n   </g>\n   <g id=\"patch_14\">\n    <path d=\"M 533.590625 306.18 \nL 533.590625 7.2 \n\" style=\"fill:none;\"/>\n   </g>\n   <g id=\"patch_15\">\n    <path d=\"M 87.190625 306.18 \nL 533.590625 306.18 \n\" style=\"fill:none;\"/>\n   </g>\n   <g id=\"patch_16\">\n    <path d=\"M 87.190625 7.2 \nL 533.590625 7.2 \n\" style=\"fill:none;\"/>\n   </g>\n  </g>\n </g>\n <defs>\n  <clipPath id=\"p125f9236fd\">\n   <rect height=\"298.98\" width=\"446.4\" x=\"87.190625\" y=\"7.2\"/>\n  </clipPath>\n </defs>\n</svg>\n"
          },
          "metadata": {
            "tags": []
          }
        }
      ]
    },
    {
      "cell_type": "code",
      "metadata": {
        "id": "EG6FiGeQGNx4"
      },
      "source": [
        "# pred = np.mean(preds, axis=0)"
      ],
      "execution_count": 49,
      "outputs": []
    },
    {
      "cell_type": "markdown",
      "metadata": {
        "id": "lNhHXy3TKBtH"
      },
      "source": [
        "# 제출"
      ]
    },
    {
      "cell_type": "code",
      "metadata": {
        "colab": {
          "base_uri": "https://localhost:8080/",
          "height": 206
        },
        "id": "_X__0vr3KoWt",
        "outputId": "95e1011b-06ac-493a-aa52-8ed52ca67786"
      },
      "source": [
        "submission = pd.read_csv(path + \"submission.csv\")\n",
        "submission.head()"
      ],
      "execution_count": 303,
      "outputs": [
        {
          "output_type": "execute_result",
          "data": {
            "text/html": [
              "<div>\n",
              "<style scoped>\n",
              "    .dataframe tbody tr th:only-of-type {\n",
              "        vertical-align: middle;\n",
              "    }\n",
              "\n",
              "    .dataframe tbody tr th {\n",
              "        vertical-align: top;\n",
              "    }\n",
              "\n",
              "    .dataframe thead th {\n",
              "        text-align: right;\n",
              "    }\n",
              "</style>\n",
              "<table border=\"1\" class=\"dataframe\">\n",
              "  <thead>\n",
              "    <tr style=\"text-align: right;\">\n",
              "      <th></th>\n",
              "      <th>title</th>\n",
              "      <th>box_off_num</th>\n",
              "    </tr>\n",
              "  </thead>\n",
              "  <tbody>\n",
              "    <tr>\n",
              "      <th>0</th>\n",
              "      <td>용서는 없다</td>\n",
              "      <td>0</td>\n",
              "    </tr>\n",
              "    <tr>\n",
              "      <th>1</th>\n",
              "      <td>아빠가 여자를 좋아해</td>\n",
              "      <td>0</td>\n",
              "    </tr>\n",
              "    <tr>\n",
              "      <th>2</th>\n",
              "      <td>하모니</td>\n",
              "      <td>0</td>\n",
              "    </tr>\n",
              "    <tr>\n",
              "      <th>3</th>\n",
              "      <td>의형제</td>\n",
              "      <td>0</td>\n",
              "    </tr>\n",
              "    <tr>\n",
              "      <th>4</th>\n",
              "      <td>평행 이론</td>\n",
              "      <td>0</td>\n",
              "    </tr>\n",
              "  </tbody>\n",
              "</table>\n",
              "</div>"
            ],
            "text/plain": [
              "         title  box_off_num\n",
              "0       용서는 없다            0\n",
              "1  아빠가 여자를 좋아해            0\n",
              "2          하모니            0\n",
              "3          의형제            0\n",
              "4        평행 이론            0"
            ]
          },
          "metadata": {
            "tags": []
          },
          "execution_count": 303
        }
      ]
    },
    {
      "cell_type": "code",
      "metadata": {
        "colab": {
          "base_uri": "https://localhost:8080/",
          "height": 206
        },
        "id": "T6oQA5piKxQh",
        "outputId": "276cae0d-6394-491c-9db8-17be3e51c6de"
      },
      "source": [
        "submission['box_off_num'] = pred\n",
        "submission.head()"
      ],
      "execution_count": 304,
      "outputs": [
        {
          "output_type": "execute_result",
          "data": {
            "text/html": [
              "<div>\n",
              "<style scoped>\n",
              "    .dataframe tbody tr th:only-of-type {\n",
              "        vertical-align: middle;\n",
              "    }\n",
              "\n",
              "    .dataframe tbody tr th {\n",
              "        vertical-align: top;\n",
              "    }\n",
              "\n",
              "    .dataframe thead th {\n",
              "        text-align: right;\n",
              "    }\n",
              "</style>\n",
              "<table border=\"1\" class=\"dataframe\">\n",
              "  <thead>\n",
              "    <tr style=\"text-align: right;\">\n",
              "      <th></th>\n",
              "      <th>title</th>\n",
              "      <th>box_off_num</th>\n",
              "    </tr>\n",
              "  </thead>\n",
              "  <tbody>\n",
              "    <tr>\n",
              "      <th>0</th>\n",
              "      <td>용서는 없다</td>\n",
              "      <td>2.247055e+06</td>\n",
              "    </tr>\n",
              "    <tr>\n",
              "      <th>1</th>\n",
              "      <td>아빠가 여자를 좋아해</td>\n",
              "      <td>1.380942e+06</td>\n",
              "    </tr>\n",
              "    <tr>\n",
              "      <th>2</th>\n",
              "      <td>하모니</td>\n",
              "      <td>1.580238e+06</td>\n",
              "    </tr>\n",
              "    <tr>\n",
              "      <th>3</th>\n",
              "      <td>의형제</td>\n",
              "      <td>1.661716e+06</td>\n",
              "    </tr>\n",
              "    <tr>\n",
              "      <th>4</th>\n",
              "      <td>평행 이론</td>\n",
              "      <td>1.277410e+06</td>\n",
              "    </tr>\n",
              "  </tbody>\n",
              "</table>\n",
              "</div>"
            ],
            "text/plain": [
              "         title   box_off_num\n",
              "0       용서는 없다  2.247055e+06\n",
              "1  아빠가 여자를 좋아해  1.380942e+06\n",
              "2          하모니  1.580238e+06\n",
              "3          의형제  1.661716e+06\n",
              "4        평행 이론  1.277410e+06"
            ]
          },
          "metadata": {
            "tags": []
          },
          "execution_count": 304
        }
      ]
    },
    {
      "cell_type": "code",
      "metadata": {
        "id": "1N18ZhvqK2KL"
      },
      "source": [
        "sub_path = \"/content/drive/MyDrive/Colab Notebooks/DataScience/My CSV/Dacon/movies/\"\n",
        "sub_name = \"rf_submission5.csv\"\n",
        "submission.to_csv(sub_path + sub_name, index=False)"
      ],
      "execution_count": 305,
      "outputs": []
    },
    {
      "cell_type": "code",
      "metadata": {
        "id": "ORSVDhRDLLgm"
      },
      "source": [
        ""
      ],
      "execution_count": null,
      "outputs": []
    }
  ]
}